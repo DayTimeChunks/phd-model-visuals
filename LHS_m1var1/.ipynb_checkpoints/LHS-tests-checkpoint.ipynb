{
 "cells": [
  {
   "cell_type": "code",
   "execution_count": 17,
   "metadata": {},
   "outputs": [],
   "source": [
    "from SALib.sample import latin\n",
    "# from SALib.test_functions import Ishigami\n",
    "# from SALib.analyze import delta\n",
    "\n",
    "from pyDOE import *\n",
    "from scipy.stats.distributions import norm\n",
    "import numpy as np\n",
    "import matplotlib.pyplot as plt\n"
   ]
  },
  {
   "cell_type": "code",
   "execution_count": 2,
   "metadata": {
    "collapsed": true
   },
   "outputs": [],
   "source": [
    "%config IPCompleter.greedy=True"
   ]
  },
  {
   "cell_type": "code",
   "execution_count": 44,
   "metadata": {
    "collapsed": true
   },
   "outputs": [],
   "source": [
    "# Samples, r grid size\n",
    "samples = 10 # The number of sample points (subdivisison) for each factor/parameter"
   ]
  },
  {
   "cell_type": "code",
   "execution_count": 45,
   "metadata": {
    "collapsed": true
   },
   "outputs": [],
   "source": [
    "# For the SALib package\n",
    "problem = {\n",
    "    'num_vars': 2,\n",
    "    'names': ['x1', 'x2'],\n",
    "    'bounds': [[0, 1],\n",
    "               [0, 1]]\n",
    "}"
   ]
  },
  {
   "cell_type": "code",
   "execution_count": 46,
   "metadata": {
    "collapsed": true
   },
   "outputs": [],
   "source": [
    "# For the pyDOE package \n",
    "n = 10 # Factors/parameters or dimensions"
   ]
  },
  {
   "cell_type": "code",
   "execution_count": 47,
   "metadata": {
    "collapsed": true
   },
   "outputs": [],
   "source": [
    "lhd = lhs(n, samples=samples) # , criterion='center') # pyDOE\n",
    "# lhd = latin.sample(problem, samples)  # SALib"
   ]
  },
  {
   "cell_type": "code",
   "execution_count": 48,
   "metadata": {},
   "outputs": [
    {
     "data": {
      "text/plain": [
       "array([[  3.57711449e-01,   4.09029635e-01,   9.10806073e-01,\n",
       "          2.44720464e-01,   2.50510085e-01,   8.14415256e-01,\n",
       "          2.29126163e-01,   3.30054895e-01,   7.73132252e-01,\n",
       "          4.76058151e-01],\n",
       "       [  8.81726200e-01,   6.18864493e-01,   2.40363845e-01,\n",
       "          6.88877911e-01,   9.44281139e-02,   3.10245286e-01,\n",
       "          1.75215597e-01,   7.26142104e-01,   8.15587120e-01,\n",
       "          2.50125126e-01],\n",
       "       [  1.75418882e-01,   1.87028876e-01,   8.05530379e-01,\n",
       "          8.12499150e-02,   1.64441016e-01,   9.73505897e-02,\n",
       "          3.23667502e-01,   8.68229316e-01,   5.12241457e-01,\n",
       "          7.37707114e-01],\n",
       "       [  6.27937865e-01,   7.33741831e-01,   7.61256131e-01,\n",
       "          1.12977390e-01,   9.49301655e-01,   6.51163326e-01,\n",
       "          5.24397019e-01,   9.50641927e-01,   4.74883978e-01,\n",
       "          1.55723531e-01],\n",
       "       [  9.69450126e-01,   1.60649066e-02,   6.59335106e-01,\n",
       "          9.57264906e-01,   8.94743228e-01,   1.89910357e-01,\n",
       "          4.15722560e-01,   1.89697591e-01,   3.94901642e-01,\n",
       "          5.79240221e-01],\n",
       "       [  2.86140542e-01,   9.01012552e-01,   4.22068206e-01,\n",
       "          5.13654746e-01,   7.40184014e-01,   5.58380613e-01,\n",
       "          7.83307582e-01,   4.92358469e-01,   1.42850941e-01,\n",
       "          9.56262927e-01],\n",
       "       [  7.31903945e-01,   2.41614835e-01,   5.72180788e-01,\n",
       "          3.30924011e-01,   4.99289830e-01,   9.10750822e-01,\n",
       "          9.02632771e-01,   5.10338288e-01,   9.70457391e-01,\n",
       "          6.80265162e-01],\n",
       "       [  4.20715901e-03,   8.36740087e-01,   1.67073396e-01,\n",
       "          8.43995847e-01,   5.18334653e-01,   2.20347090e-01,\n",
       "          6.17534827e-01,   2.94671427e-01,   6.40980111e-01,\n",
       "          8.57803195e-01],\n",
       "       [  5.23674778e-01,   5.04238008e-01,   3.42170781e-01,\n",
       "          4.98236201e-01,   6.69767590e-01,   4.32794667e-01,\n",
       "          2.87487075e-02,   6.02501216e-01,   2.08787099e-01,\n",
       "          8.81708330e-04],\n",
       "       [  4.36300065e-01,   3.30411400e-01,   1.98946311e-02,\n",
       "          7.67475722e-01,   3.09680132e-01,   7.58975451e-01,\n",
       "          8.41032509e-01,   6.01708004e-02,   9.34014955e-02,\n",
       "          3.99244188e-01]])"
      ]
     },
     "execution_count": 48,
     "metadata": {},
     "output_type": "execute_result"
    }
   ],
   "source": [
    "lhd"
   ]
  },
  {
   "cell_type": "code",
   "execution_count": 49,
   "metadata": {},
   "outputs": [
    {
     "data": {
      "image/png": "[encoded data removed]",
      "text/plain": [
       "<matplotlib.figure.Figure at 0x9f4e780>"
      ]
     },
     "metadata": {},
     "output_type": "display_data"
    }
   ],
   "source": [
    "plt.figure(figsize=[5,5])\n",
    "plt.xlim([0,1])\n",
    "plt.ylim([0,1])\n",
    "plt.scatter(lhd[:, 0], lhd[:, 1], c='r')\n",
    "\n",
    "for i in np.arange(0, 1, 1.0/samples):\n",
    "    plt.axvline(i)\n",
    "    plt.axhline(i)\n",
    "\n",
    "plt.show()"
   ]
  },
  {
   "cell_type": "markdown",
   "metadata": {},
   "source": [
    "### Transformation based on pyDOE\n",
    "\n",
    "Transform the uniform distribution of X samples to a normal distribution (mean=0, standard deviation=1)"
   ]
  },
  {
   "cell_type": "code",
   "execution_count": 25,
   "metadata": {},
   "outputs": [
    {
     "data": {
      "text/plain": [
       "array([[-1.55609175, -0.85723576],\n",
       "       [ 1.54089878,  0.38098164],\n",
       "       [ 0.80391847, -1.52729284],\n",
       "       [ 0.10253002,  2.03538451],\n",
       "       [-0.39737296,  0.06252407],\n",
       "       [-0.86393256, -0.83707974],\n",
       "       [-0.83130267, -0.37737635],\n",
       "       [ 0.4708032 ,  1.07029957],\n",
       "       [-0.03122833,  0.78429531],\n",
       "       [ 1.08956326, -0.02175766]])"
      ]
     },
     "execution_count": 25,
     "metadata": {},
     "output_type": "execute_result"
    }
   ],
   "source": [
    "lhd = norm(loc=0, scale=1).ppf(lhd)\n",
    "lhd"
   ]
  },
  {
   "cell_type": "code",
   "execution_count": null,
   "metadata": {
    "collapsed": true
   },
   "outputs": [],
   "source": []
  }
 ],
 "metadata": {
  "kernelspec": {
   "display_name": "Python 2",
   "language": "python",
   "name": "python2"
  },
  "language_info": {
   "codemirror_mode": {
    "name": "ipython",
    "version": 2
   },
   "file_extension": ".py",
   "mimetype": "text/x-python",
   "name": "python",
   "nbconvert_exporter": "python",
   "pygments_lexer": "ipython2",
   "version": "2.7.12"
  }
 },
 "nbformat": 4,
 "nbformat_minor": 2
}
