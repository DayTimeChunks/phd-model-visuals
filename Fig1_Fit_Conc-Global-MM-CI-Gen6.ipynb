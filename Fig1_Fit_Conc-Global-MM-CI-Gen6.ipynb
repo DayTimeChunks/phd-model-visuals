{
 "cells": [
  {
   "cell_type": "code",
   "execution_count": 119,
   "metadata": {},
   "outputs": [],
   "source": [
    "gen = \"Gen6\"\n",
    "path = '../phd-model-process/'\n",
    "\n",
    "import pandas as pd\n",
    "pd.options.mode.chained_assignment = None  # default='warn'\n",
    "import numpy as np\n",
    "import scipy as sp\n",
    "import scipy.stats as st\n",
    "\n",
    "from helpers_pd import *\n",
    "\n",
    "# Plotting\n",
    "import seaborn as sns\n",
    "sns.set()\n",
    "# import seaborn as sns; sns.set(style=\"ticks\", color_codes=True)\n",
    "# sns.set(style=\"darkgrid\")\n",
    "import matplotlib.pyplot as plt\n",
    "# plt.style.use('seaborn-white')"
   ]
  },
  {
   "cell_type": "code",
   "execution_count": 120,
   "metadata": {},
   "outputs": [],
   "source": [
    "palette = [\"#F44336\", '#673AB7', '#3F51B5', '#009688', '#FF9800', '#4CAF50', '#03A9F4']\n",
    "# red, purple, indigo, teal-green, orange, green, light-blue\n",
    "# https://matplotlib.org/users/dflt_style_changes.html"
   ]
  },
  {
   "cell_type": "markdown",
   "metadata": {},
   "source": [
    "# Extracting observed Conc."
   ]
  },
  {
   "cell_type": "markdown",
   "metadata": {},
   "source": [
    "## Define transect"
   ]
  },
  {
   "cell_type": "code",
   "execution_count": 121,
   "metadata": {},
   "outputs": [
    {
     "data": {
      "text/html": [
       "<div>\n",
       "<style scoped>\n",
       "    .dataframe tbody tr th:only-of-type {\n",
       "        vertical-align: middle;\n",
       "    }\n",
       "\n",
       "    .dataframe tbody tr th {\n",
       "        vertical-align: top;\n",
       "    }\n",
       "\n",
       "    .dataframe thead th {\n",
       "        text-align: right;\n",
       "    }\n",
       "</style>\n",
       "<table border=\"1\" class=\"dataframe\">\n",
       "  <thead>\n",
       "    <tr style=\"text-align: right;\">\n",
       "      <th></th>\n",
       "      <th>Jdays</th>\n",
       "      <th>DayMoYr</th>\n",
       "      <th>IDcal</th>\n",
       "      <th>ug.g</th>\n",
       "      <th>ug.g.SD</th>\n",
       "    </tr>\n",
       "  </thead>\n",
       "  <tbody>\n",
       "    <tr>\n",
       "      <th>0</th>\n",
       "      <td>182</td>\n",
       "      <td>2016-03-30</td>\n",
       "      <td>B-182</td>\n",
       "      <td>2.864553</td>\n",
       "      <td>1.298030</td>\n",
       "    </tr>\n",
       "    <tr>\n",
       "      <th>1</th>\n",
       "      <td>188</td>\n",
       "      <td>2016-04-05</td>\n",
       "      <td>B-188</td>\n",
       "      <td>5.919575</td>\n",
       "      <td>2.754972</td>\n",
       "    </tr>\n",
       "    <tr>\n",
       "      <th>2</th>\n",
       "      <td>197</td>\n",
       "      <td>2016-04-14</td>\n",
       "      <td>B-197</td>\n",
       "      <td>4.746709</td>\n",
       "      <td>0.957630</td>\n",
       "    </tr>\n",
       "    <tr>\n",
       "      <th>3</th>\n",
       "      <td>201</td>\n",
       "      <td>2016-04-18</td>\n",
       "      <td>B-201</td>\n",
       "      <td>6.105674</td>\n",
       "      <td>1.029032</td>\n",
       "    </tr>\n",
       "    <tr>\n",
       "      <th>4</th>\n",
       "      <td>209</td>\n",
       "      <td>2016-04-26</td>\n",
       "      <td>B-209</td>\n",
       "      <td>3.838914</td>\n",
       "      <td>0.899855</td>\n",
       "    </tr>\n",
       "  </tbody>\n",
       "</table>\n",
       "</div>"
      ],
      "text/plain": [
       "   Jdays     DayMoYr  IDcal      ug.g   ug.g.SD\n",
       "0    182  2016-03-30  B-182  2.864553  1.298030\n",
       "1    188  2016-04-05  B-188  5.919575  2.754972\n",
       "2    197  2016-04-14  B-197  4.746709  0.957630\n",
       "3    201  2016-04-18  B-201  6.105674  1.029032\n",
       "4    209  2016-04-26  B-209  3.838914  0.899855"
      ]
     },
     "execution_count": 121,
     "metadata": {},
     "output_type": "execute_result"
    }
   ],
   "source": [
    "obs = pd.read_table(path + 'observations/conc_bulk_cal.tss')\n",
    "p_b = pd.read_table(path + 'observations/p_bAve.tss')\n",
    "obs.head()"
   ]
  },
  {
   "cell_type": "markdown",
   "metadata": {},
   "source": [
    "# Selecting indexes"
   ]
  },
  {
   "cell_type": "code",
   "execution_count": 122,
   "metadata": {},
   "outputs": [],
   "source": [
    "df = get_data(gen=gen)\n",
    "counter = 0"
   ]
  },
  {
   "cell_type": "code",
   "execution_count": 123,
   "metadata": {},
   "outputs": [],
   "source": [
    "df[\"Gen\"] = gen\n",
    "# df4[\"Gen\"] = \"Gen4\"\n",
    "# df = pd.concat([df3, df4])\n",
    "# df = df3\n",
    "# Index names\n",
    "df['Name'] = df['Gen'] + \"/\" + df.index\n",
    "df = df.set_index('Name')\n",
    "# 'LHS_s2fix7/10/' in list(df.index)"
   ]
  },
  {
   "cell_type": "code",
   "execution_count": 124,
   "metadata": {},
   "outputs": [],
   "source": [
    "# 'LHS_s2fix7/10/' in list(df.index)\n",
    "# list(df)"
   ]
  },
  {
   "cell_type": "code",
   "execution_count": 125,
   "metadata": {},
   "outputs": [],
   "source": [
    "df['k_d'] = df.loc[:, 'k_oc'] * df.loc[:,'f_oc']\n",
    "# Combined outlet and transects KGE Concentrations and d13C\n",
    "df['KGE-SM'] = (df.loc[:, 'KGE-CONC_out'] + df.loc[:, 'KGE-CONC-blk'])/2.0  \n",
    "df['KGE-d13C'] = (df.loc[:, 'KGE-d13C_out'] + df.loc[:, 'KGE-d13C-blk'])/2.0\n",
    "\n",
    "cst = 0.5\n",
    "df['Constraint'] = df.apply(WithIsoKGE, args=(cst,), axis=1)"
   ]
  },
  {
   "cell_type": "code",
   "execution_count": 126,
   "metadata": {},
   "outputs": [],
   "source": [
    "dfs = df[['Model',\n",
    "          'dt_50_ref',\n",
    "          'dt_50_ab',\n",
    "#           'k_d',\n",
    "          'epsilon_iso',\n",
    "          'KGE-CONC-blk','KGE-d13C-blk',\n",
    "          'KGE-CONC_out', 'KGE-d13C_out',\n",
    "          'KGE-SM', 'KGE-d13C', 'Constraint'\n",
    "          ]]"
   ]
  },
  {
   "cell_type": "code",
   "execution_count": 127,
   "metadata": {},
   "outputs": [
    {
     "name": "stdout",
     "output_type": "stream",
     "text": [
      "(4848, 133, 41)\n"
     ]
    }
   ],
   "source": [
    "# Filter\n",
    "\n",
    "# Global\n",
    "ff = dfs.loc[(dfs['KGE-SM'] > 0.50)] # Try 25 with more data points\n",
    "ff_c = dfs.loc[(dfs['KGE-SM'] > 0.45) & (dfs['KGE-d13C'] >  cst)]\n",
    "\n",
    "# Soil\n",
    "# ff = dfs.loc[(dfs['KGE-CONC-blk'] > 0.70)] # Try 25 with more data points\n",
    "# ff_c = dfs.loc[(dfs['KGE-CONC-blk'] > 0.70) & (dfs['KGE-d13C-blk'] >  0.75)]\n",
    "\n",
    "print(len(dfs), len(ff), len(ff_c))\n",
    "ff.tail()\n",
    "\n",
    "counter += 1"
   ]
  },
  {
   "cell_type": "markdown",
   "metadata": {},
   "source": [
    "## All models"
   ]
  },
  {
   "cell_type": "code",
   "execution_count": 128,
   "metadata": {},
   "outputs": [
    {
     "name": "stdout",
     "output_type": "stream",
     "text": [
      "Maximum Q\n",
      "(0.7864546578743048, 0.5656732625096279)\n",
      "Maximum Conc.\n",
      "(0.8055388283899494, 0.41124351408871074, 0.5672081866497243)\n",
      "Maximum d13C\n",
      "(0.9512077500008066, 0.5637517755122933, 0.7366783210829383)\n"
     ]
    }
   ],
   "source": [
    "print(\"Maximum Q\")\n",
    "print(df['KGE-Q_out'].max(), df['NSE-Q_out'].max()) \n",
    "print(\"Maximum Conc.\")\n",
    "print(df['KGE-CONC-blk'].max(), df['KGE-CONC_out'].max(), df['KGE-SM'].max()) \n",
    "print(\"Maximum d13C\")\n",
    "print(df['KGE-d13C-blk'].max(), df['KGE-d13C_out'].max(), df['KGE-d13C'].max()) "
   ]
  },
  {
   "cell_type": "markdown",
   "metadata": {},
   "source": [
    "## NC model"
   ]
  },
  {
   "cell_type": "code",
   "execution_count": 129,
   "metadata": {},
   "outputs": [
    {
     "name": "stdout",
     "output_type": "stream",
     "text": [
      "Maximum Conc.\n",
      "(0.7982336802602272, 0.3744907418318979, 0.5672081866497243)\n",
      "Maximum d13C\n",
      "(0.9154716963496778, 0.5478822110629986, 0.65979537749026)\n"
     ]
    }
   ],
   "source": [
    "print(\"Maximum Conc.\")\n",
    "print(ff['KGE-CONC-blk'].max(), ff['KGE-CONC_out'].max(), ff['KGE-SM'].max()) \n",
    "print(\"Maximum d13C\")\n",
    "print(ff['KGE-d13C-blk'].max(), ff['KGE-d13C_out'].max(), ff['KGE-d13C'].max()) "
   ]
  },
  {
   "cell_type": "markdown",
   "metadata": {},
   "source": [
    "## WC model"
   ]
  },
  {
   "cell_type": "code",
   "execution_count": 130,
   "metadata": {},
   "outputs": [
    {
     "name": "stdout",
     "output_type": "stream",
     "text": [
      "Maximum Conc.\n",
      "(0.7967966672653544, 0.3713532645018143, 0.5593887878579502)\n",
      "Maximum d13C\n",
      "(0.9262594687840805, 0.5478822110629986, 0.670980464674758)\n"
     ]
    }
   ],
   "source": [
    "print(\"Maximum Conc.\")\n",
    "print(ff_c['KGE-CONC-blk'].max(), ff_c['KGE-CONC_out'].max(), ff_c['KGE-SM'].max()) \n",
    "print(\"Maximum d13C\")\n",
    "print(ff_c['KGE-d13C-blk'].max(), ff_c['KGE-d13C_out'].max(), ff_c['KGE-d13C'].max()) "
   ]
  },
  {
   "cell_type": "markdown",
   "metadata": {},
   "source": [
    "### DT50"
   ]
  },
  {
   "cell_type": "code",
   "execution_count": 131,
   "metadata": {},
   "outputs": [
    {
     "name": "stdout",
     "output_type": "stream",
     "text": [
      "dt_50_ref    25.222013\n",
      "dtype: float64\n",
      "dt_50_ref    7.938168\n",
      "dtype: float64\n"
     ]
    }
   ],
   "source": [
    "print(ff[['dt_50_ref']].mean())\n",
    "print(ff[['dt_50_ref']].std())"
   ]
  },
  {
   "cell_type": "code",
   "execution_count": 132,
   "metadata": {},
   "outputs": [
    {
     "name": "stdout",
     "output_type": "stream",
     "text": [
      "dt_50_ref    30.512003\n",
      "dtype: float64\n",
      "dt_50_ref    6.562655\n",
      "dtype: float64\n"
     ]
    }
   ],
   "source": [
    "print(ff_c[['dt_50_ref']].mean())\n",
    "print(ff_c[['dt_50_ref']].std())"
   ]
  },
  {
   "cell_type": "code",
   "execution_count": 133,
   "metadata": {},
   "outputs": [
    {
     "name": "stdout",
     "output_type": "stream",
     "text": [
      "(51, 67)\n",
      "(27, 14)\n"
     ]
    }
   ],
   "source": [
    "nc_fix = ff.index[(ff['Constraint'] == 'NC')& (ff[\"Model\"]=='fix')].tolist() #[0]\n",
    "nc_var = ff.index[(ff['Constraint'] == 'NC') & (ff[\"Model\"]=='var')].tolist() #[0]\n",
    "\n",
    "wc_fix = ff_c.index[(ff_c['Constraint'] == 'WC') & (ff_c[\"Model\"]=='fix')].tolist() #[0]\n",
    "wc_var = ff_c.index[(ff_c['Constraint'] == 'WC') & (ff_c[\"Model\"]=='var')].tolist() #[0]\n",
    "print(len(nc_fix), len(nc_var))\n",
    "print(len(wc_fix), len(wc_var))"
   ]
  },
  {
   "cell_type": "markdown",
   "metadata": {},
   "source": [
    "# Extracting time series"
   ]
  },
  {
   "cell_type": "code",
   "execution_count": 134,
   "metadata": {},
   "outputs": [],
   "source": [
    "def get_sets_bulk(name_list):\n",
    "    # Get sim conc, convert mass, ug/g -> ug\n",
    "    comp = ['nor', 'val', 'sou']\n",
    "    sets = []\n",
    "    for i in range(len(name_list)): # Set name\n",
    "        transects = []\n",
    "        for tran in comp:\n",
    "            # Append masses and conc.\n",
    "            filename = \"resM_\" + tran + \"CONC_real.tss\"\n",
    "            conc_name = tran + 'CONC'\n",
    "            sim = pd.read_table(path + name_list[i] + filename, \n",
    "                                skiprows=4, delim_whitespace=True,\n",
    "                                names=['Jdays', conc_name],\n",
    "                                header=None)\n",
    "            \n",
    "            mass_name = tran + \"Mass\"\n",
    "            sim[mass_name] = sim[conc_name] * p_b['pbAve'] * 4.0 * 10.0 * 10**3\n",
    "            transects.append(sim)\n",
    "            \n",
    "            # Append deltas\n",
    "            filename = \"resM_\" + tran + \"d13C_real.tss\"\n",
    "            delta_name = tran + 'd13C'\n",
    "            sim = pd.read_table(path + name_list[i] + filename,\n",
    "                                skiprows=4, delim_whitespace=True,\n",
    "                                names=['Jdays', delta_name],\n",
    "                                header=None)\n",
    "            transects.append(sim)\n",
    "\n",
    "        # Merge all transects\n",
    "        blk = reduce(lambda x, y: pd.merge(x, y, on='Jdays'), transects)\n",
    "\n",
    "        # Bulk concentration\n",
    "        conc_name = 'Conc_blk' +  name_list[i][3:]\n",
    "        blk[conc_name] = (blk['norCONC']*blk['norMass'] +\n",
    "                          blk['valCONC']*blk['valMass'] +\n",
    "                          blk['souCONC']*blk['souMass']\n",
    "                          ) / (blk['norMass'] + blk['valMass'] + blk['souMass'])\n",
    "\n",
    "        iso_name = 'd13C_blk' +  name_list[i][3:]\n",
    "        blk[iso_name] = (blk['nord13C']*blk['norMass'] +\n",
    "                         blk['vald13C']*blk['valMass'] +\n",
    "                         blk['soud13C']*blk['souMass']\n",
    "                        ) / (blk['norMass'] + blk['valMass'] + blk['souMass'])\n",
    "        \n",
    "        \n",
    "        blk = blk[['Jdays', conc_name, iso_name]]\n",
    "        sets.append(blk)\n",
    "    df = reduce(lambda left, right: pd.merge(left,right,on='Jdays'), sets)\n",
    "    return df"
   ]
  },
  {
   "cell_type": "code",
   "execution_count": 135,
   "metadata": {},
   "outputs": [],
   "source": [
    "# sets = get_sets_bulk(wc) # Returns sets merged\n",
    "# sets.tail()"
   ]
  },
  {
   "cell_type": "markdown",
   "metadata": {},
   "source": [
    "# Confidence interval calc."
   ]
  },
  {
   "cell_type": "code",
   "execution_count": 136,
   "metadata": {},
   "outputs": [],
   "source": [
    "def concat(row, plot):\n",
    "    return plot.capitalize() + '-' + str(int(row['Jdays']))"
   ]
  },
  {
   "cell_type": "code",
   "execution_count": 137,
   "metadata": {},
   "outputs": [],
   "source": [
    "def get_stats_bulk(df, measure, cst):\n",
    "    n = len(np.array(df.iloc[0,1:]))\n",
    "    df['mean'] = df.iloc[:,1:n+1].mean(axis=1)\n",
    "    df['min'] = df.iloc[:,1:n+1].min(axis=1)\n",
    "    df['max'] = df.iloc[:,1:n+1].max(axis=1)\n",
    "    df['sem'] = df.iloc[:,1:n+1].sem(axis=1)\n",
    "    df['sd'] = df.iloc[:,1:n+1].std(axis=1)\n",
    "    df['high'] = df['mean'] + 2.*df['sd']\n",
    "    df['low'] = df['mean'] - 2.*df['sd']\n",
    "#     df['high'] = df.apply(get_ci, args=(n, 0.95, True), axis=1)\n",
    "#     df['low'] = df.apply(get_ci, args=(n, 0.95, False), axis=1)\n",
    "    if measure == \"Conc\":\n",
    "        df['low'] = df.apply(check_negative, axis=1)\n",
    "#     df['Trans'] = loc\n",
    "#     df['Area'] = loc[0]\n",
    "#     df['Level'] = level  # Composite or Detailed, \n",
    "    loc = \"B\"\n",
    "    df['IDcal'] = df.apply (lambda row: concat(row, loc), axis=1)\n",
    "    df['Type'] = df.apply(lambda row: ModelType(row, cst),axis=1)\n",
    "    return df[['Jdays', 'mean', 'high', 'low', 'max', 'min', 'sd', 'IDcal', 'Type']]"
   ]
  },
  {
   "cell_type": "code",
   "execution_count": 138,
   "metadata": {},
   "outputs": [],
   "source": [
    "# sets_wc = get_sets_bulk(wc) "
   ]
  },
  {
   "cell_type": "code",
   "execution_count": 139,
   "metadata": {},
   "outputs": [
    {
     "data": {
      "text/plain": [
       "['Gen6/LHS_be1fix36/20/', 'Gen6/LHS_e1fix33/28/', 'Gen6/LHS_m1fix33/17/']"
      ]
     },
     "execution_count": 139,
     "metadata": {},
     "output_type": "execute_result"
    }
   ],
   "source": [
    "nc_fix[0:3]"
   ]
  },
  {
   "cell_type": "code",
   "execution_count": 140,
   "metadata": {},
   "outputs": [],
   "source": [
    "sets_wc_fix = get_sets_bulk(wc_fix) \n",
    "sets_wc_var = get_sets_bulk(wc_var)\n",
    "\n",
    "sets_nc_fix = get_sets_bulk(nc_fix)\n",
    "sets_nc_var = get_sets_bulk(nc_var)"
   ]
  },
  {
   "cell_type": "code",
   "execution_count": 141,
   "metadata": {},
   "outputs": [],
   "source": [
    "time_wc = sets_wc_fix.filter(like=\"Jdays\")\n",
    "time_nc = sets_nc_fix.filter(like=\"Jdays\")"
   ]
  },
  {
   "cell_type": "code",
   "execution_count": 142,
   "metadata": {},
   "outputs": [],
   "source": [
    "conc_wc_fix = sets_wc_fix.filter(like='Conc')\n",
    "conc_wc_var = sets_wc_var.filter(like='Conc')\n",
    "\n",
    "conc_nc_fix = sets_nc_fix.filter(like='Conc')\n",
    "conc_nc_var = sets_nc_var.filter(like='Conc')\n",
    "\n",
    "conc_wc_fix = pd.concat([time_wc, conc_wc_fix], axis=1, join='inner')\n",
    "conc_wc_var = pd.concat([time_wc, conc_wc_var], axis=1, join='inner')\n",
    "\n",
    "conc_nc_fix = pd.concat([time_nc, conc_nc_fix], axis=1, join='inner')\n",
    "conc_nc_var = pd.concat([time_nc, conc_nc_var], axis=1, join='inner')"
   ]
  },
  {
   "cell_type": "code",
   "execution_count": 143,
   "metadata": {},
   "outputs": [],
   "source": [
    "wc_all_fix = get_stats_bulk(conc_wc_fix, 'Conc', 'WC')\n",
    "wc_all_var = get_stats_bulk(conc_wc_var, 'Conc', 'WC')\n",
    "\n",
    "nc_all_fix = get_stats_bulk(conc_nc_fix, 'Conc', 'NC')\n",
    "nc_all_var = get_stats_bulk(conc_nc_var, 'Conc', 'NC')"
   ]
  },
  {
   "cell_type": "code",
   "execution_count": 144,
   "metadata": {},
   "outputs": [],
   "source": [
    "wc_merged_fix = pd.merge(wc_all_fix, obs, how='outer', on='IDcal')\n",
    "wc_merged_var = pd.merge(wc_all_var, obs, how='outer', on='IDcal')\n",
    "\n",
    "nc_merged_fix = pd.merge(nc_all_fix, obs, how='outer', on='IDcal')\n",
    "nc_merged_var = pd.merge(nc_all_var, obs, how='outer', on='IDcal')"
   ]
  },
  {
   "cell_type": "code",
   "execution_count": 145,
   "metadata": {},
   "outputs": [],
   "source": [
    "# wc_merged[20:25]\n",
    "# wc_merged_fix.tail()"
   ]
  },
  {
   "cell_type": "code",
   "execution_count": 146,
   "metadata": {},
   "outputs": [],
   "source": [
    "# nc_merged.head()\n",
    "# sets_all = pd.concat([nc_merged, wc_merged])"
   ]
  },
  {
   "cell_type": "code",
   "execution_count": 147,
   "metadata": {},
   "outputs": [],
   "source": [
    "# ff.tail() ff_c.tail()\n",
    "# fix_nc = ff.loc[(ff['Model']=='fix')]\n",
    "# var_nc = ff.loc[(ff['Model']=='var')]\n",
    "# fix_wc = ff_c.loc[(ff_c['Model']=='fix')]\n",
    "# var_wc = ff_c.loc[(ff_c['Model']=='var')]"
   ]
  },
  {
   "cell_type": "code",
   "execution_count": 148,
   "metadata": {},
   "outputs": [
    {
     "data": {
      "image/png": "[encoded data removed]",
      "text/plain": [
       "<Figure size 504x237.6 with 2 Axes>"
      ]
     },
     "metadata": {},
     "output_type": "display_data"
    }
   ],
   "source": [
    "# sns.set(rc={'figure.figsize':(11.7, 8.27)})\n",
    "# ES&T max width, 1 column = 3.25in, 2-col = 7in \n",
    "sns.set_context(\"paper\")\n",
    "sns.set(rc={'figure.figsize':(7.0, 3.3)}) # Width, height, inches\n",
    "\n",
    "fig, (ax1, ax2) = plt.subplots(1, 2, sharex=False, sharey=False)\n",
    "\n",
    "time = np.array(nc_merged_fix['Jdays_x']-171)\n",
    "obs_conc = np.array(nc_merged_fix['ug.g'])\n",
    "err = np.array(nc_merged_fix['ug.g.SD'])\n",
    "\n",
    "nc_mean_fix = np.array(nc_merged_fix['mean'])\n",
    "nc_high_fix = np.array(nc_merged_fix['high'])\n",
    "nc_low_fix = np.array(nc_merged_fix['low'])\n",
    "\n",
    "nc_mean_var = np.array(nc_merged_var['mean'])\n",
    "nc_high_var = np.array(nc_merged_var['high'])\n",
    "nc_low_var = np.array(nc_merged_var['low'])\n",
    "\n",
    "wc_mean_fix = np.array(wc_merged_fix['mean'])\n",
    "wc_high_fix = np.array(wc_merged_fix['high'])\n",
    "wc_low_fix = np.array(wc_merged_fix['low'])\n",
    "\n",
    "wc_mean_var = np.array(wc_merged_var['mean'])\n",
    "wc_high_var = np.array(wc_merged_var['high'])\n",
    "wc_low_var = np.array(wc_merged_var['low'])\n",
    "\n",
    "# ax1.annotate('A', fontsize=15,\n",
    "#             xy=(50, 225), xycoords='figure pixels')\n",
    "# ax2.annotate('B', fontsize=15,\n",
    "#             xy=(275, 225), xycoords='figure pixels')\n",
    "ax1.annotate('A', fontsize=15,\n",
    "            xy=(-3, 8.7), xycoords='data')\n",
    "ax2.annotate('B', fontsize=15,\n",
    "            xy=(2, 0.115), xycoords='data')\n",
    "\n",
    "\n",
    "# NC\n",
    "ax1.plot(time, nc_mean_fix, label='NC-fix') # c= \"red\", marker='.', linestyle=':'\n",
    "ax1.legend(loc=\"upper right\")\n",
    "ax1.fill_between(time, nc_high_fix, nc_low_fix, alpha=0.5)\n",
    "\n",
    "ax1.plot(time, nc_mean_var, label='NC-var', color=\"C0\", linestyle=':') # c= \"red\", marker='.'\n",
    "ax1.legend(loc=\"upper right\")\n",
    "ax1.fill_between(time, nc_high_var, nc_low_var, color=\"C0\", alpha=0.5)\n",
    "\n",
    "# WC\n",
    "ax1.plot(time, wc_mean_fix, label='WC-fix') # c= \"red\", marker='.', linestyle=':'\n",
    "ax1.legend(loc=\"upper right\")\n",
    "ax1.fill_between(time, wc_high_fix, wc_low_fix, alpha=0.5)\n",
    "\n",
    "ax1.plot(time, wc_mean_var, label='WC-var', color=\"C1\", linestyle=':') # c= \"red\", marker='.', linestyle=':'\n",
    "ax1.legend(loc=\"upper right\")\n",
    "ax1.fill_between(time, wc_high_var, wc_low_var, color=\"C1\", alpha=0.5)\n",
    "\n",
    "# Obs\n",
    "ax1.errorbar(time, obs_conc, err)\n",
    "ax1.scatter(time, obs_conc, c= \"green\", marker='.', label=\"BLK\")\n",
    "ax1.legend(loc=\"upper right\")\n",
    "ax1.set_ylabel(\"[SM] ($\\mu g$ $g^{-1}$ soil d.wt.)\")\n",
    "ax1.set_xlabel(\"Days after 1st App.\")\n",
    "\n",
    "sns.distplot( ff[\"dt_50_ref\"] , color=\"C0\", label=\"NC\", ax=ax2)\n",
    "# sns.distplot( var_nc[\"dt_50_ref\"] , color=\"red\", label=\"Var - NC\", ax=ax2)\n",
    "sns.distplot( ff_c[\"dt_50_ref\"] , color=\"C1\", label=\"WC\", ax=ax2)\n",
    "# sns.distplot( var_wc[\"dt_50_ref\"] , color=\"teal\", label=\"Var - WC\", ax=ax2)\n",
    "ax2.set_xlabel(\"DT50 (days)\")\n",
    "ax2.set_ylabel(\"$f$ (-)\")\n",
    "\n",
    "plt.subplots_adjust(left=None, bottom=.2, right=None, top=.95,\n",
    "                wspace=0.35, hspace=None)\n",
    "plt.legend()\n",
    "\n",
    "fig.savefig(\"Fig1_FitNC.pdf\")\n",
    "# sns.pointplot(x=\"Jdays_x\", y=\"ug.g\", data=sets_all.loc[sets_all['Type']==\"WC\"], join=False, ax=ax1)"
   ]
  },
  {
   "cell_type": "code",
   "execution_count": null,
   "metadata": {},
   "outputs": [],
   "source": [
    "200-171"
   ]
  },
  {
   "cell_type": "markdown",
   "metadata": {},
   "source": [
    "https://python-graph-gallery.com/25-histogram-with-several-variables-seaborn/"
   ]
  },
  {
   "cell_type": "code",
   "execution_count": null,
   "metadata": {},
   "outputs": [],
   "source": [
    "3750-(2408+1850)"
   ]
  },
  {
   "cell_type": "code",
   "execution_count": null,
   "metadata": {},
   "outputs": [],
   "source": []
  }
 ],
 "metadata": {
  "kernelspec": {
   "display_name": "bunny",
   "language": "python",
   "name": "bunny"
  },
  "language_info": {
   "codemirror_mode": {
    "name": "ipython",
    "version": 2
   },
   "file_extension": ".py",
   "mimetype": "text/x-python",
   "name": "python",
   "nbconvert_exporter": "python",
   "pygments_lexer": "ipython2",
   "version": "2.7.14"
  }
 },
 "nbformat": 4,
 "nbformat_minor": 2
}
