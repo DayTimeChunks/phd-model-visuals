{
 "cells": [
  {
   "cell_type": "code",
   "execution_count": 1,
   "metadata": {},
   "outputs": [],
   "source": [
    "path = '../phd-model-process/'\n",
    "\n",
    "import pandas as pd\n",
    "pd.options.mode.chained_assignment = None  # default='warn'\n",
    "import numpy as np\n",
    "import scipy as sp\n",
    "import scipy.stats as st\n",
    "\n",
    "from helpers_pd import *\n",
    "\n",
    "# Plotting\n",
    "import seaborn as sns\n",
    "sns.set()\n",
    "# import seaborn as sns; sns.set(style=\"ticks\", color_codes=True)\n",
    "# sns.set(style=\"darkgrid\")\n",
    "import matplotlib.pyplot as plt\n",
    "# plt.style.use('seaborn-white')\n",
    "\n",
    "from matplotlib.patches import Ellipse, Rectangle"
   ]
  },
  {
   "cell_type": "code",
   "execution_count": 2,
   "metadata": {},
   "outputs": [],
   "source": [
    "palette = [\"#F44336\", '#673AB7', '#3F51B5', '#009688', '#FF9800', '#4CAF50', '#03A9F4']\n",
    "# red, purple, indigo, teal-green, orange, green, light-blue\n",
    "# https://matplotlib.org/users/dflt_style_changes.html"
   ]
  },
  {
   "cell_type": "markdown",
   "metadata": {},
   "source": [
    "# Extracting observed Conc."
   ]
  },
  {
   "cell_type": "markdown",
   "metadata": {},
   "source": [
    "## Define transect"
   ]
  },
  {
   "cell_type": "code",
   "execution_count": 3,
   "metadata": {},
   "outputs": [
    {
     "data": {
      "text/html": [
       "<div>\n",
       "<style scoped>\n",
       "    .dataframe tbody tr th:only-of-type {\n",
       "        vertical-align: middle;\n",
       "    }\n",
       "\n",
       "    .dataframe tbody tr th {\n",
       "        vertical-align: top;\n",
       "    }\n",
       "\n",
       "    .dataframe thead th {\n",
       "        text-align: right;\n",
       "    }\n",
       "</style>\n",
       "<table border=\"1\" class=\"dataframe\">\n",
       "  <thead>\n",
       "    <tr style=\"text-align: right;\">\n",
       "      <th></th>\n",
       "      <th>Jdays</th>\n",
       "      <th>DayMoYr</th>\n",
       "      <th>IDcal</th>\n",
       "      <th>d13C</th>\n",
       "      <th>d13C.SD</th>\n",
       "    </tr>\n",
       "  </thead>\n",
       "  <tbody>\n",
       "    <tr>\n",
       "      <th>0</th>\n",
       "      <td>188</td>\n",
       "      <td>2016-04-05</td>\n",
       "      <td>B-188</td>\n",
       "      <td>-31.225186</td>\n",
       "      <td>0.640023</td>\n",
       "    </tr>\n",
       "    <tr>\n",
       "      <th>1</th>\n",
       "      <td>197</td>\n",
       "      <td>2016-04-14</td>\n",
       "      <td>B-197</td>\n",
       "      <td>-31.200375</td>\n",
       "      <td>0.303478</td>\n",
       "    </tr>\n",
       "    <tr>\n",
       "      <th>2</th>\n",
       "      <td>201</td>\n",
       "      <td>2016-04-18</td>\n",
       "      <td>B-201</td>\n",
       "      <td>-31.496359</td>\n",
       "      <td>0.390947</td>\n",
       "    </tr>\n",
       "    <tr>\n",
       "      <th>3</th>\n",
       "      <td>209</td>\n",
       "      <td>2016-04-26</td>\n",
       "      <td>B-209</td>\n",
       "      <td>-31.239331</td>\n",
       "      <td>0.542286</td>\n",
       "    </tr>\n",
       "    <tr>\n",
       "      <th>4</th>\n",
       "      <td>216</td>\n",
       "      <td>2016-05-03</td>\n",
       "      <td>B-216</td>\n",
       "      <td>-30.682124</td>\n",
       "      <td>0.434045</td>\n",
       "    </tr>\n",
       "  </tbody>\n",
       "</table>\n",
       "</div>"
      ],
      "text/plain": [
       "   Jdays     DayMoYr  IDcal       d13C   d13C.SD\n",
       "0    188  2016-04-05  B-188 -31.225186  0.640023\n",
       "1    197  2016-04-14  B-197 -31.200375  0.303478\n",
       "2    201  2016-04-18  B-201 -31.496359  0.390947\n",
       "3    209  2016-04-26  B-209 -31.239331  0.542286\n",
       "4    216  2016-05-03  B-216 -30.682124  0.434045"
      ]
     },
     "execution_count": 3,
     "metadata": {},
     "output_type": "execute_result"
    }
   ],
   "source": [
    "obs_d13c = pd.read_table(path + 'observations/d13c_bulk_cal.tss')\n",
    "obs_conc = pd.read_table(path + 'observations/conc_bulk_cal.tss')\n",
    "p_b = pd.read_table(path + 'observations/p_bAve.tss')\n",
    "obs_d13c.head()"
   ]
  },
  {
   "cell_type": "markdown",
   "metadata": {},
   "source": [
    "# Selecting indexes"
   ]
  },
  {
   "cell_type": "code",
   "execution_count": 4,
   "metadata": {},
   "outputs": [
    {
     "name": "stdout",
     "output_type": "stream",
     "text": [
      "4825\n"
     ]
    }
   ],
   "source": [
    "gen = 'Gen10'\n",
    "df3 = get_data(gen=gen) # , v=\"0920\"\n",
    "print(len(df3))\n",
    "# Last printed version: v=\"1017\" (Oct. 17) ~ 3250 sets"
   ]
  },
  {
   "cell_type": "code",
   "execution_count": 5,
   "metadata": {},
   "outputs": [],
   "source": [
    "df3[\"Gen\"] = gen\n",
    "# df4[\"Gen\"] = \"Gen4\"\n",
    "# df = pd.concat([df3, df4])\n",
    "df = df3"
   ]
  },
  {
   "cell_type": "code",
   "execution_count": 35,
   "metadata": {},
   "outputs": [
    {
     "data": {
      "text/html": [
       "<div>\n",
       "<style scoped>\n",
       "    .dataframe tbody tr th:only-of-type {\n",
       "        vertical-align: middle;\n",
       "    }\n",
       "\n",
       "    .dataframe tbody tr th {\n",
       "        vertical-align: top;\n",
       "    }\n",
       "\n",
       "    .dataframe thead th {\n",
       "        text-align: right;\n",
       "    }\n",
       "</style>\n",
       "<table border=\"1\" class=\"dataframe\">\n",
       "  <thead>\n",
       "    <tr style=\"text-align: right;\">\n",
       "      <th></th>\n",
       "      <th>BIAS-d13C-blk</th>\n",
       "      <th>NSE-CONC-tot</th>\n",
       "      <th>NSE-CONC-tra</th>\n",
       "      <th>f_evap</th>\n",
       "      <th>NSE-CONC-blk</th>\n",
       "      <th>BIAS-CONC-blk</th>\n",
       "      <th>KGE-d13C-det</th>\n",
       "      <th>NSE-Q_out</th>\n",
       "      <th>NSE-d13C-tot</th>\n",
       "      <th>cZ0Z1</th>\n",
       "      <th>...</th>\n",
       "      <th>NSE-CONC-det</th>\n",
       "      <th>gamma01</th>\n",
       "      <th>MAE-CONC-blk</th>\n",
       "      <th>k_oc</th>\n",
       "      <th>epsilon_iso</th>\n",
       "      <th>MAE-d13C_out</th>\n",
       "      <th>beta_moisture</th>\n",
       "      <th>dt_50_ab</th>\n",
       "      <th>Gen</th>\n",
       "      <th>Name</th>\n",
       "    </tr>\n",
       "  </thead>\n",
       "  <tbody>\n",
       "    <tr>\n",
       "      <th>LHS_be1fix61/1/</th>\n",
       "      <td>2.045865</td>\n",
       "      <td>0.468665</td>\n",
       "      <td>-0.096955</td>\n",
       "      <td>0.528609</td>\n",
       "      <td>-0.497637</td>\n",
       "      <td>64.411314</td>\n",
       "      <td>0.724614</td>\n",
       "      <td>0.222115</td>\n",
       "      <td>-0.135406</td>\n",
       "      <td>0.075965</td>\n",
       "      <td>...</td>\n",
       "      <td>0.594402</td>\n",
       "      <td>0.388470</td>\n",
       "      <td>1.792632</td>\n",
       "      <td>559.581116</td>\n",
       "      <td>2.131629</td>\n",
       "      <td>1.455996</td>\n",
       "      <td>0.756646</td>\n",
       "      <td>222.526421</td>\n",
       "      <td>Gen10</td>\n",
       "      <td>Gen10/LHS_be1fix61/1/</td>\n",
       "    </tr>\n",
       "    <tr>\n",
       "      <th>LHS_be1fix61/10/</th>\n",
       "      <td>-11.573154</td>\n",
       "      <td>0.541273</td>\n",
       "      <td>-0.221362</td>\n",
       "      <td>0.183035</td>\n",
       "      <td>-0.170124</td>\n",
       "      <td>-49.910734</td>\n",
       "      <td>-5.586947</td>\n",
       "      <td>0.402975</td>\n",
       "      <td>-66.664695</td>\n",
       "      <td>0.342539</td>\n",
       "      <td>...</td>\n",
       "      <td>0.710816</td>\n",
       "      <td>0.262011</td>\n",
       "      <td>1.457559</td>\n",
       "      <td>1009.675386</td>\n",
       "      <td>4.030861</td>\n",
       "      <td>4.811547</td>\n",
       "      <td>0.268687</td>\n",
       "      <td>240.647614</td>\n",
       "      <td>Gen10</td>\n",
       "      <td>Gen10/LHS_be1fix61/10/</td>\n",
       "    </tr>\n",
       "  </tbody>\n",
       "</table>\n",
       "<p>2 rows × 68 columns</p>\n",
       "</div>"
      ],
      "text/plain": [
       "                  BIAS-d13C-blk  NSE-CONC-tot  NSE-CONC-tra    f_evap  \\\n",
       "LHS_be1fix61/1/        2.045865      0.468665     -0.096955  0.528609   \n",
       "LHS_be1fix61/10/     -11.573154      0.541273     -0.221362  0.183035   \n",
       "\n",
       "                  NSE-CONC-blk  BIAS-CONC-blk  KGE-d13C-det  NSE-Q_out  \\\n",
       "LHS_be1fix61/1/      -0.497637      64.411314      0.724614   0.222115   \n",
       "LHS_be1fix61/10/     -0.170124     -49.910734     -5.586947   0.402975   \n",
       "\n",
       "                  NSE-d13C-tot     cZ0Z1           ...            \\\n",
       "LHS_be1fix61/1/      -0.135406  0.075965           ...             \n",
       "LHS_be1fix61/10/    -66.664695  0.342539           ...             \n",
       "\n",
       "                  NSE-CONC-det   gamma01  MAE-CONC-blk         k_oc  \\\n",
       "LHS_be1fix61/1/       0.594402  0.388470      1.792632   559.581116   \n",
       "LHS_be1fix61/10/      0.710816  0.262011      1.457559  1009.675386   \n",
       "\n",
       "                  epsilon_iso  MAE-d13C_out  beta_moisture    dt_50_ab    Gen  \\\n",
       "LHS_be1fix61/1/      2.131629      1.455996       0.756646  222.526421  Gen10   \n",
       "LHS_be1fix61/10/     4.030861      4.811547       0.268687  240.647614  Gen10   \n",
       "\n",
       "                                    Name  \n",
       "LHS_be1fix61/1/    Gen10/LHS_be1fix61/1/  \n",
       "LHS_be1fix61/10/  Gen10/LHS_be1fix61/10/  \n",
       "\n",
       "[2 rows x 68 columns]"
      ]
     },
     "execution_count": 35,
     "metadata": {},
     "output_type": "execute_result"
    }
   ],
   "source": [
    "df3.head(2)"
   ]
  },
  {
   "cell_type": "code",
   "execution_count": 6,
   "metadata": {},
   "outputs": [],
   "source": [
    "# Index names\n",
    "df['Name'] = df['Gen'] + \"/\" + df.index\n",
    "df = df.set_index('Name')\n",
    "# 'LHS_s2fix7/10/' in list(df.index)"
   ]
  },
  {
   "cell_type": "code",
   "execution_count": 7,
   "metadata": {},
   "outputs": [],
   "source": [
    "df['k_d'] = df.loc[:, 'k_oc'] * df.loc[:,'f_oc']\n",
    "# Combined outlet and transects KGE Concentrations and d13C\n",
    "df['KGE-SM'] = (df.loc[:, 'KGE-CONC_out'] + df.loc[:, 'KGE-CONC-tra'])/2.0  \n",
    "df['KGE-d13C'] = (df.loc[:, 'KGE-d13C_out'] + df.loc[:, 'KGE-d13C-tra'])/2.0\n",
    "df['epsilon_iso'] *= -1"
   ]
  },
  {
   "cell_type": "code",
   "execution_count": 8,
   "metadata": {},
   "outputs": [],
   "source": [
    "dfs = df[['Model', 'Gen',\n",
    "          'dt_50_ref',\n",
    "          'dt_50_ab',\n",
    "#           'f_evap',\n",
    "          'epsilon_iso',\n",
    "          'beta_moisture',\n",
    "          'KGE-CONC-blk','KGE-d13C-blk',\n",
    "          'KGE-CONC_out','KGE-d13C_out',\n",
    "          'KGE-SM', 'KGE-d13C',\n",
    "          'KGE-Q_out'\n",
    "          ]]"
   ]
  },
  {
   "cell_type": "code",
   "execution_count": 9,
   "metadata": {},
   "outputs": [
    {
     "name": "stdout",
     "output_type": "stream",
     "text": [
      "(4825, 672, 214)\n"
     ]
    },
    {
     "data": {
      "text/html": [
       "<div>\n",
       "<style scoped>\n",
       "    .dataframe tbody tr th:only-of-type {\n",
       "        vertical-align: middle;\n",
       "    }\n",
       "\n",
       "    .dataframe tbody tr th {\n",
       "        vertical-align: top;\n",
       "    }\n",
       "\n",
       "    .dataframe thead th {\n",
       "        text-align: right;\n",
       "    }\n",
       "</style>\n",
       "<table border=\"1\" class=\"dataframe\">\n",
       "  <thead>\n",
       "    <tr style=\"text-align: right;\">\n",
       "      <th></th>\n",
       "      <th>Model</th>\n",
       "      <th>Gen</th>\n",
       "      <th>dt_50_ref</th>\n",
       "      <th>dt_50_ab</th>\n",
       "      <th>epsilon_iso</th>\n",
       "      <th>beta_moisture</th>\n",
       "      <th>KGE-CONC-blk</th>\n",
       "      <th>KGE-d13C-blk</th>\n",
       "      <th>KGE-CONC_out</th>\n",
       "      <th>KGE-d13C_out</th>\n",
       "      <th>KGE-SM</th>\n",
       "      <th>KGE-d13C</th>\n",
       "      <th>KGE-Q_out</th>\n",
       "      <th>Constraint</th>\n",
       "    </tr>\n",
       "    <tr>\n",
       "      <th>Name</th>\n",
       "      <th></th>\n",
       "      <th></th>\n",
       "      <th></th>\n",
       "      <th></th>\n",
       "      <th></th>\n",
       "      <th></th>\n",
       "      <th></th>\n",
       "      <th></th>\n",
       "      <th></th>\n",
       "      <th></th>\n",
       "      <th></th>\n",
       "      <th></th>\n",
       "      <th></th>\n",
       "      <th></th>\n",
       "    </tr>\n",
       "  </thead>\n",
       "  <tbody>\n",
       "    <tr>\n",
       "      <th>Gen10/LHS_sc3var65/1/</th>\n",
       "      <td>var</td>\n",
       "      <td>Gen10</td>\n",
       "      <td>21.694049</td>\n",
       "      <td>109.194525</td>\n",
       "      <td>-1.710839</td>\n",
       "      <td>0.598516</td>\n",
       "      <td>0.676392</td>\n",
       "      <td>0.562267</td>\n",
       "      <td>-6.929376</td>\n",
       "      <td>-0.940183</td>\n",
       "      <td>-3.108623</td>\n",
       "      <td>-0.141510</td>\n",
       "      <td>0.686459</td>\n",
       "      <td>NC</td>\n",
       "    </tr>\n",
       "    <tr>\n",
       "      <th>Gen10/LHS_sc3var65/20/</th>\n",
       "      <td>var</td>\n",
       "      <td>Gen10</td>\n",
       "      <td>8.003322</td>\n",
       "      <td>126.760888</td>\n",
       "      <td>-0.934788</td>\n",
       "      <td>0.937672</td>\n",
       "      <td>0.659368</td>\n",
       "      <td>0.527435</td>\n",
       "      <td>-0.435029</td>\n",
       "      <td>-0.957716</td>\n",
       "      <td>0.054468</td>\n",
       "      <td>-0.077621</td>\n",
       "      <td>0.574184</td>\n",
       "      <td>NC</td>\n",
       "    </tr>\n",
       "    <tr>\n",
       "      <th>Gen10/LHS_sc3var65/37/</th>\n",
       "      <td>var</td>\n",
       "      <td>Gen10</td>\n",
       "      <td>11.763135</td>\n",
       "      <td>70.182429</td>\n",
       "      <td>-2.039693</td>\n",
       "      <td>0.635347</td>\n",
       "      <td>0.793995</td>\n",
       "      <td>0.853291</td>\n",
       "      <td>0.227292</td>\n",
       "      <td>-0.763822</td>\n",
       "      <td>0.484141</td>\n",
       "      <td>-0.103666</td>\n",
       "      <td>0.540645</td>\n",
       "      <td>NC</td>\n",
       "    </tr>\n",
       "    <tr>\n",
       "      <th>Gen10/LHS_sc3var65/46/</th>\n",
       "      <td>var</td>\n",
       "      <td>Gen10</td>\n",
       "      <td>9.572930</td>\n",
       "      <td>177.687580</td>\n",
       "      <td>-1.602098</td>\n",
       "      <td>0.254020</td>\n",
       "      <td>0.629770</td>\n",
       "      <td>0.578026</td>\n",
       "      <td>0.129056</td>\n",
       "      <td>0.016420</td>\n",
       "      <td>0.298727</td>\n",
       "      <td>0.329130</td>\n",
       "      <td>0.688052</td>\n",
       "      <td>WC</td>\n",
       "    </tr>\n",
       "    <tr>\n",
       "      <th>Gen10/LHS_sc3var65/8/</th>\n",
       "      <td>var</td>\n",
       "      <td>Gen10</td>\n",
       "      <td>15.848436</td>\n",
       "      <td>331.997634</td>\n",
       "      <td>-2.604415</td>\n",
       "      <td>0.308299</td>\n",
       "      <td>0.756996</td>\n",
       "      <td>0.895474</td>\n",
       "      <td>-5.082149</td>\n",
       "      <td>-3.389144</td>\n",
       "      <td>-2.145471</td>\n",
       "      <td>-1.395518</td>\n",
       "      <td>0.567520</td>\n",
       "      <td>NC</td>\n",
       "    </tr>\n",
       "  </tbody>\n",
       "</table>\n",
       "</div>"
      ],
      "text/plain": [
       "                       Model    Gen  dt_50_ref    dt_50_ab  epsilon_iso  \\\n",
       "Name                                                                      \n",
       "Gen10/LHS_sc3var65/1/    var  Gen10  21.694049  109.194525    -1.710839   \n",
       "Gen10/LHS_sc3var65/20/   var  Gen10   8.003322  126.760888    -0.934788   \n",
       "Gen10/LHS_sc3var65/37/   var  Gen10  11.763135   70.182429    -2.039693   \n",
       "Gen10/LHS_sc3var65/46/   var  Gen10   9.572930  177.687580    -1.602098   \n",
       "Gen10/LHS_sc3var65/8/    var  Gen10  15.848436  331.997634    -2.604415   \n",
       "\n",
       "                        beta_moisture  KGE-CONC-blk  KGE-d13C-blk  \\\n",
       "Name                                                                \n",
       "Gen10/LHS_sc3var65/1/        0.598516      0.676392      0.562267   \n",
       "Gen10/LHS_sc3var65/20/       0.937672      0.659368      0.527435   \n",
       "Gen10/LHS_sc3var65/37/       0.635347      0.793995      0.853291   \n",
       "Gen10/LHS_sc3var65/46/       0.254020      0.629770      0.578026   \n",
       "Gen10/LHS_sc3var65/8/        0.308299      0.756996      0.895474   \n",
       "\n",
       "                        KGE-CONC_out  KGE-d13C_out    KGE-SM  KGE-d13C  \\\n",
       "Name                                                                     \n",
       "Gen10/LHS_sc3var65/1/      -6.929376     -0.940183 -3.108623 -0.141510   \n",
       "Gen10/LHS_sc3var65/20/     -0.435029     -0.957716  0.054468 -0.077621   \n",
       "Gen10/LHS_sc3var65/37/      0.227292     -0.763822  0.484141 -0.103666   \n",
       "Gen10/LHS_sc3var65/46/      0.129056      0.016420  0.298727  0.329130   \n",
       "Gen10/LHS_sc3var65/8/      -5.082149     -3.389144 -2.145471 -1.395518   \n",
       "\n",
       "                        KGE-Q_out Constraint  \n",
       "Name                                          \n",
       "Gen10/LHS_sc3var65/1/    0.686459         NC  \n",
       "Gen10/LHS_sc3var65/20/   0.574184         NC  \n",
       "Gen10/LHS_sc3var65/37/   0.540645         NC  \n",
       "Gen10/LHS_sc3var65/46/   0.688052         WC  \n",
       "Gen10/LHS_sc3var65/8/    0.567520         NC  "
      ]
     },
     "execution_count": 9,
     "metadata": {},
     "output_type": "execute_result"
    }
   ],
   "source": [
    "cst = .3\n",
    "dfs['Constraint'] = dfs.apply(WithIsoKGE, args=(cst,), axis=1)\n",
    "\n",
    "# Filter\n",
    "dfs = dfs.loc[(dfs['Gen'] ==  gen)]\n",
    "\n",
    "# Global\n",
    "# ff = dfs.loc[(dfs['KGE-SM'] > 0.4)] # Try 25 with more data points\n",
    "# ff_c = dfs.loc[(dfs['KGE-SM'] > 0.4) & (dfs['KGE-d13C'] >  cst)]\n",
    "\n",
    "# Soil\n",
    "ff = dfs.loc[(dfs['KGE-CONC-blk'] > 0.60) & (dfs['KGE-Q_out'] >  0.50)] # Try 25 with more data points\n",
    "ff_c = dfs.loc[(dfs['KGE-CONC-blk'] > 0.50) & (dfs['KGE-d13C-blk'] >  0.70) & (dfs['KGE-Q_out'] >  0.545)]\n",
    "# ff_c = dfs.loc[(dfs['KGE-CONC-blk'] > 0.00) & (dfs['KGE-d13C-blk'] >  0.85) & (dfs['KGE-Q_out'] >  0.50)]\n",
    "\n",
    "# Outlet\n",
    "# ff = dfs.loc[(dfs['KGE-CONC_out'] > 0.30)] # Try 25 with more data points\n",
    "# ff_c = dfs.loc[(dfs['KGE-CONC_out'] > 0.30) & (dfs['KGE-d13C_out'] >  0.3)]\n",
    "\n",
    "print(len(dfs), len(ff), len(ff_c))\n",
    "# print(df['f_evap'].mean(), ff['f_evap'].mean(), ff_c['f_evap'].mean())\n",
    "ff.tail()\n"
   ]
  },
  {
   "cell_type": "code",
   "execution_count": 10,
   "metadata": {},
   "outputs": [
    {
     "name": "stdout",
     "output_type": "stream",
     "text": [
      "(92, 122)\n"
     ]
    }
   ],
   "source": [
    "print(len(ff_c.loc[(ff_c['Model'] == 'var')]), len(ff_c.loc[(ff_c['Model'] == 'fix')]))"
   ]
  },
  {
   "cell_type": "code",
   "execution_count": 11,
   "metadata": {},
   "outputs": [
    {
     "data": {
      "text/plain": [
       "15.909332341426616"
      ]
     },
     "execution_count": 11,
     "metadata": {},
     "output_type": "execute_result"
    }
   ],
   "source": [
    "ff_c.loc[(ff_c['Model'] == 'var')]['dt_50_ref'].mean()"
   ]
  },
  {
   "cell_type": "code",
   "execution_count": 12,
   "metadata": {},
   "outputs": [
    {
     "data": {
      "text/plain": [
       "27.47458363042129"
      ]
     },
     "execution_count": 12,
     "metadata": {},
     "output_type": "execute_result"
    }
   ],
   "source": [
    "ff_c.loc[(ff_c['Model'] == 'fix')]['dt_50_ref'].mean()"
   ]
  },
  {
   "cell_type": "code",
   "execution_count": 13,
   "metadata": {},
   "outputs": [
    {
     "name": "stdout",
     "output_type": "stream",
     "text": [
      "Max CONC: Var, Fix\n",
      "(0.8024044844381782, 0.7978054162535689)\n"
     ]
    }
   ],
   "source": [
    "print(\"Max CONC: Var, Fix\")\n",
    "print(ff_c.loc[(ff_c['Model'] == 'var')]['KGE-CONC-blk'].max(), \n",
    "      ff_c.loc[(ff_c['Model'] == 'fix')]['KGE-CONC-blk'].max())"
   ]
  },
  {
   "cell_type": "code",
   "execution_count": 14,
   "metadata": {},
   "outputs": [
    {
     "name": "stdout",
     "output_type": "stream",
     "text": [
      "Max d13C: Var, Fix\n",
      "(0.9491408401413893, 0.939173826191367)\n"
     ]
    }
   ],
   "source": [
    "print(\"Max d13C: Var, Fix\")\n",
    "print(ff_c.loc[(ff_c['Model'] == 'var')]['KGE-d13C-blk'].max(), \n",
    "      ff_c.loc[(ff_c['Model'] == 'fix')]['KGE-d13C-blk'].max())"
   ]
  },
  {
   "cell_type": "code",
   "execution_count": 15,
   "metadata": {},
   "outputs": [
    {
     "name": "stdout",
     "output_type": "stream",
     "text": [
      "Maximum Q\n",
      "(0.769832923058568, 0.5284275029940944)\n",
      "Maximum Conc.\n",
      "(0.804979369020457, 0.483226275596356, 0.5760310071679046)\n",
      "Maximum d13C\n",
      "(0.9587708109826051, 0.6328847080874456, 0.7355584509288327)\n"
     ]
    }
   ],
   "source": [
    "print(\"Maximum Q\")\n",
    "print(df['KGE-Q_out'].max(), df['NSE-Q_out'].max()) \n",
    "print(\"Maximum Conc.\")\n",
    "print(df['KGE-CONC-blk'].max(), df['KGE-CONC_out'].max(), df['KGE-SM'].max()) \n",
    "print(\"Maximum d13C\")\n",
    "print(df['KGE-d13C-blk'].max(), df['KGE-d13C_out'].max(), df['KGE-d13C'].max()) "
   ]
  },
  {
   "cell_type": "markdown",
   "metadata": {},
   "source": [
    "## Var vs Fix\n",
    "### Panel A (conc) & B (delta)"
   ]
  },
  {
   "cell_type": "code",
   "execution_count": 16,
   "metadata": {},
   "outputs": [],
   "source": [
    "# GRAPH A & B\n",
    "##############################\n",
    "# For validation CIs\n",
    "# wc = ff_c.index[(ff_c['Constraint'] == 'WC')].tolist() #[0]\n",
    "wc = ff_c.index\n",
    "\n",
    "sets_wc = get_sets_bulk(wc, path, p_b) # df\n",
    "\n",
    "time_wc = sets_wc.filter(like=\"Jdays\") # X\n",
    "\n",
    "conc_wc = sets_wc.filter(like='Conc')\n",
    "conc_fix = conc_wc.filter(like='fix') # Y \n",
    "conc_var = conc_wc.filter(like='var') # Y\n",
    "\n",
    "d13c_wc = sets_wc.filter(like='d13C')\n",
    "d13c_fix = d13c_wc.filter(like='fix')\n",
    "d13c_var = d13c_wc.filter(like='var')\n"
   ]
  },
  {
   "cell_type": "code",
   "execution_count": 17,
   "metadata": {},
   "outputs": [
    {
     "name": "stdout",
     "output_type": "stream",
     "text": [
      "(122, 92)\n"
     ]
    }
   ],
   "source": [
    "print(len(list(conc_fix)), len(list(conc_var)))"
   ]
  },
  {
   "cell_type": "code",
   "execution_count": 18,
   "metadata": {},
   "outputs": [],
   "source": [
    "# Time and Conc/delta (merged)\n",
    "conc_tfix = pd.concat([time_wc, conc_fix], axis=1, join='inner')\n",
    "conc_tvar = pd.concat([time_wc, conc_var], axis=1, join='inner')\n",
    "\n",
    "d13c_tfix = pd.concat([time_wc, d13c_fix], axis=1, join='inner')\n",
    "d13c_tvar = pd.concat([time_wc, d13c_var], axis=1, join='inner')\n",
    "\n",
    "# Stats as df\n",
    "conc_tfix_all = get_stats_bulk(conc_tfix, 'Conc', 'Fix')\n",
    "conc_tvar_all = get_stats_bulk(conc_tvar, 'Conc', 'Var')\n",
    "\n",
    "d13c_tfix_all = get_stats_bulk(d13c_tfix, 'd13C', 'Fix')\n",
    "d13c_tvar_all = get_stats_bulk(d13c_tvar, 'd13C', 'Var')"
   ]
  },
  {
   "cell_type": "markdown",
   "metadata": {},
   "source": [
    "### Panel C (DT50) & D ($\\theta$, Temp)"
   ]
  },
  {
   "cell_type": "code",
   "execution_count": 19,
   "metadata": {},
   "outputs": [],
   "source": [
    "# Graph C & D\n",
    "# For moisture/temp graphs\n",
    "fix_list = ff_c.index[(ff_c['Model'] == 'fix')].tolist() #[0]\n",
    "var_list = ff_c.index[(ff_c['Model'] == 'var')].tolist() #[0]\n",
    "\n",
    "# Extract\n",
    "# Bulk\n",
    "deg_fix = get_sets(fix_list, path, \"resW_z0_DT50.tss\", \"DT50\")\n",
    "tmp_fix = get_sets(fix_list, path, \"resW_z0_Temp.tss\", \"Temp\")\n",
    "moi_fix = get_sets(fix_list, path, \"resW_z0_theta.tss\", \"Theta\")\n",
    "\n",
    "deg_var = get_sets(var_list, path, \"resW_z0_DT50.tss\", \"DT50-z0\")\n",
    "deg_var_z1 = get_sets(var_list, path, \"resW_z1_DT50.tss\", \"DT50-z1\")\n",
    "deg_var_z2 = get_sets(var_list, path, \"resW_z2_DT50.tss\", \"DT50-z2\")\n",
    "\n",
    "tmp_var = get_sets(var_list, path, \"resW_z0_Temp.tss\", \"Temp-z0\")\n",
    "tmp_var_z1 = get_sets(var_list, path, \"resW_z1_Temp.tss\", \"Temp-z1\")\n",
    "tmp_var_z2 = get_sets(var_list, path, \"resW_z2_Temp.tss\", \"Temp-z2\")\n",
    "\n",
    "moi_var = get_sets(var_list, path, \"resW_z0_theta.tss\", \"Theta-z0\")\n",
    "moi_var_z1 = get_sets(var_list, path, \"resW_z1_theta.tss\", \"Theta-z1\")\n",
    "moi_var_z2 = get_sets(var_list, path, \"resW_z2_theta.tss\", \"Theta-z2\")\n",
    "\n",
    "# Z0 - DT50 Transects\n",
    "deg_fix_nor = get_sets(fix_list, path, \"resW_z0_DT50_nor.tss\", \"DT50-nor\")\n",
    "deg_fix_val = get_sets(fix_list, path, \"resW_z0_DT50_val.tss\", \"DT50-val\")\n",
    "deg_fix_sou = get_sets(fix_list, path, \"resW_z0_DT50_sou.tss\", \"DT50-sou\")\n",
    "deg_var_nor = get_sets(var_list, path, \"resW_z0_DT50_nor.tss\", \"DT50-nor\")\n",
    "tmp_var_nor = get_sets(var_list, path, \"resW_z0_temp_nor.tss\", \"Temp-nor\")\n",
    "moi_var_nor = get_sets(var_list, path, \"resW_z0_theta_nor.tss\", \"Theta-nor\")\n",
    "\n",
    "deg_var_val = get_sets(var_list, path, \"resW_z0_DT50_val.tss\", \"DT50-val\")\n",
    "tmp_var_val = get_sets(var_list, path, \"resW_z0_temp_val.tss\", \"Temp-val\")\n",
    "moi_var_val = get_sets(var_list, path, \"resW_z0_theta_val.tss\", \"Theta-val\")\n",
    "\n",
    "deg_var_sou = get_sets(var_list, path, \"resW_z0_DT50_sou.tss\", \"DT50-sou\")\n",
    "tmp_var_sou = get_sets(var_list, path, \"resW_z0_temp_sou.tss\", \"Temp-sou\")\n",
    "moi_var_sou = get_sets(var_list, path, \"resW_z0_theta_sou.tss\", \"Theta-sou\")\n",
    "\n",
    "# Z1 - DT50 Transects\n",
    "deg_fix_nor_z1 = get_sets(fix_list, path, \"resW_z1_DT50_nor.tss\", \"DT50-nor-z1\")\n",
    "deg_fix_val_z1 = get_sets(fix_list, path, \"resW_z1_DT50_val.tss\", \"DT50-val-z1\")\n",
    "deg_fix_sou_z1 = get_sets(fix_list, path, \"resW_z1_DT50_sou.tss\", \"DT50-sou-z1\")\n",
    "deg_var_nor_z1 = get_sets(var_list, path, \"resW_z1_DT50_nor.tss\", \"DT50-nor-z1\")\n",
    "deg_var_val_z1 = get_sets(var_list, path, \"resW_z1_DT50_val.tss\", \"DT50-val-z1\")\n",
    "deg_var_sou_z1 = get_sets(var_list, path, \"resW_z1_DT50_sou.tss\", \"DT50-sou-z1\")\n",
    "\n",
    "# Stats\n",
    "stat_fix = [get_stats_df(deg_fix), get_stats_df(tmp_fix), get_stats_df(moi_fix)]\n",
    "\n",
    "stat_var = [get_stats_df(deg_var), get_stats_df(tmp_var), get_stats_df(moi_var)]\n",
    "# z1\n",
    "stat_var_z1 = [get_stats_df(deg_var_z1), get_stats_df(tmp_var_z1), get_stats_df(moi_var_z1)]\n",
    "# z2\n",
    "stat_var_z2 = [get_stats_df(deg_var_z2), get_stats_df(tmp_var_z2), get_stats_df(moi_var_z2)]\n",
    "\n",
    "# # z0\n",
    "stat_fix_nor = [get_stats_df(deg_fix_nor)]\n",
    "stat_fix_val = [get_stats_df(deg_fix_val)]\n",
    "stat_fix_sou = [get_stats_df(deg_fix_sou)]\n",
    "\n",
    "stat_var_nor = [get_stats_df(deg_var_nor), get_stats_df(tmp_var_nor), get_stats_df(moi_var_nor)]\n",
    "stat_var_val = [get_stats_df(deg_var_val), get_stats_df(tmp_var_val), get_stats_df(moi_var_val)]\n",
    "stat_var_sou = [get_stats_df(deg_var_sou), get_stats_df(tmp_var_sou), get_stats_df(moi_var_sou)]\n",
    "\n",
    "# # z1\n",
    "stat_fix_nor_z1 = [get_stats_df(deg_fix_nor_z1)]\n",
    "stat_fix_val_z1 = [get_stats_df(deg_fix_val_z1)]\n",
    "stat_fix_sou_z1 = [get_stats_df(deg_fix_sou_z1)]\n",
    "\n",
    "stat_var_nor_z1 = [get_stats_df(deg_var_nor_z1)]\n",
    "stat_var_val_z1 = [get_stats_df(deg_var_val_z1)]\n",
    "stat_var_sou_z1 = [get_stats_df(deg_var_sou_z1)]"
   ]
  },
  {
   "cell_type": "code",
   "execution_count": 20,
   "metadata": {},
   "outputs": [
    {
     "data": {
      "text/html": [
       "<div>\n",
       "<style scoped>\n",
       "    .dataframe tbody tr th:only-of-type {\n",
       "        vertical-align: middle;\n",
       "    }\n",
       "\n",
       "    .dataframe tbody tr th {\n",
       "        vertical-align: top;\n",
       "    }\n",
       "\n",
       "    .dataframe thead th {\n",
       "        text-align: right;\n",
       "    }\n",
       "</style>\n",
       "<table border=\"1\" class=\"dataframe\">\n",
       "  <thead>\n",
       "    <tr style=\"text-align: right;\">\n",
       "      <th></th>\n",
       "      <th>Jdays</th>\n",
       "      <th>mean</th>\n",
       "      <th>high</th>\n",
       "      <th>low</th>\n",
       "      <th>max</th>\n",
       "      <th>min</th>\n",
       "      <th>sd</th>\n",
       "      <th>IDcal</th>\n",
       "      <th>Type</th>\n",
       "    </tr>\n",
       "  </thead>\n",
       "  <tbody>\n",
       "    <tr>\n",
       "      <th>0</th>\n",
       "      <td>166</td>\n",
       "      <td>0.075308</td>\n",
       "      <td>0.075581</td>\n",
       "      <td>0.075035</td>\n",
       "      <td>0.075446</td>\n",
       "      <td>0.074804</td>\n",
       "      <td>0.000137</td>\n",
       "      <td>B-166</td>\n",
       "      <td>Fix</td>\n",
       "    </tr>\n",
       "    <tr>\n",
       "      <th>1</th>\n",
       "      <td>167</td>\n",
       "      <td>0.081102</td>\n",
       "      <td>0.081689</td>\n",
       "      <td>0.080514</td>\n",
       "      <td>0.081400</td>\n",
       "      <td>0.080020</td>\n",
       "      <td>0.000294</td>\n",
       "      <td>B-167</td>\n",
       "      <td>Fix</td>\n",
       "    </tr>\n",
       "    <tr>\n",
       "      <th>2</th>\n",
       "      <td>168</td>\n",
       "      <td>0.080779</td>\n",
       "      <td>0.081656</td>\n",
       "      <td>0.079903</td>\n",
       "      <td>0.081224</td>\n",
       "      <td>0.079167</td>\n",
       "      <td>0.000438</td>\n",
       "      <td>B-168</td>\n",
       "      <td>Fix</td>\n",
       "    </tr>\n",
       "    <tr>\n",
       "      <th>3</th>\n",
       "      <td>169</td>\n",
       "      <td>0.080459</td>\n",
       "      <td>0.081621</td>\n",
       "      <td>0.079297</td>\n",
       "      <td>0.081049</td>\n",
       "      <td>0.078324</td>\n",
       "      <td>0.000581</td>\n",
       "      <td>B-169</td>\n",
       "      <td>Fix</td>\n",
       "    </tr>\n",
       "    <tr>\n",
       "      <th>4</th>\n",
       "      <td>170</td>\n",
       "      <td>0.080141</td>\n",
       "      <td>0.081586</td>\n",
       "      <td>0.078695</td>\n",
       "      <td>0.080874</td>\n",
       "      <td>0.077491</td>\n",
       "      <td>0.000723</td>\n",
       "      <td>B-170</td>\n",
       "      <td>Fix</td>\n",
       "    </tr>\n",
       "  </tbody>\n",
       "</table>\n",
       "</div>"
      ],
      "text/plain": [
       "   Jdays      mean      high       low       max       min        sd  IDcal  \\\n",
       "0    166  0.075308  0.075581  0.075035  0.075446  0.074804  0.000137  B-166   \n",
       "1    167  0.081102  0.081689  0.080514  0.081400  0.080020  0.000294  B-167   \n",
       "2    168  0.080779  0.081656  0.079903  0.081224  0.079167  0.000438  B-168   \n",
       "3    169  0.080459  0.081621  0.079297  0.081049  0.078324  0.000581  B-169   \n",
       "4    170  0.080141  0.081586  0.078695  0.080874  0.077491  0.000723  B-170   \n",
       "\n",
       "  Type  \n",
       "0  Fix  \n",
       "1  Fix  \n",
       "2  Fix  \n",
       "3  Fix  \n",
       "4  Fix  "
      ]
     },
     "execution_count": 20,
     "metadata": {},
     "output_type": "execute_result"
    }
   ],
   "source": [
    "# Test\n",
    "conc_tfix_all.head() # Graph A\n",
    "# df1 # Graph C"
   ]
  },
  {
   "cell_type": "code",
   "execution_count": 21,
   "metadata": {},
   "outputs": [],
   "source": [
    "# Isotopes\n",
    "# d13c_wc = sets_wc.filter(like='d13C')\n",
    "# d13c_fix = d13c_wc.filter(like='fix')\n",
    "# d13c_var = d13c_wc.filter(like='var')\n",
    "# # conc_nc = sets_nc.filter(like='Conc')\n",
    "\n",
    "# d13c_tfix = pd.concat([time_wc, d13c_fix], axis=1, join='inner')\n",
    "# d13c_tvar = pd.concat([time_wc, d13c_var], axis=1, join='inner')\n",
    "\n",
    "# d13c_tfix_all = get_stats_bulk(d13c_tfix, 'd13C', 'Fix')\n",
    "# d13c_tvar_all = get_stats_bulk(d13c_tvar, 'd13C', 'Var')"
   ]
  },
  {
   "cell_type": "markdown",
   "metadata": {},
   "source": [
    "## Merge CI's with obs, get arrays (Graph A & B)"
   ]
  },
  {
   "cell_type": "code",
   "execution_count": 22,
   "metadata": {},
   "outputs": [],
   "source": [
    "conc_tvar_merged = pd.merge(conc_tvar_all, obs_conc, how='outer', on='IDcal')\n",
    "conc_tfix_merged = pd.merge(conc_tfix_all, obs_conc, how='outer', on='IDcal')\n",
    "\n",
    "d13c_tvar_merged = pd.merge(d13c_tvar_all, obs_d13c, how='outer', on='IDcal')\n",
    "d13c_tfix_merged = pd.merge(d13c_tfix_all, obs_d13c, how='outer', on='IDcal')\n",
    "\n",
    "# Observed Conc\n",
    "time = np.array(conc_tvar_merged['Jdays_x']-171)\n",
    "arr_obs_conc = np.array(conc_tvar_merged['ug.g'])\n",
    "arr_err = np.array(conc_tvar_merged['ug.g.SD'])\n",
    "\n",
    "# Observed d13C\n",
    "arr_obs_d13c = np.array(d13c_tvar_merged['d13C'])\n",
    "arr_err_d13c = np.array(d13c_tvar_merged['d13C.SD'])\n",
    "\n",
    "# Variable model\n",
    "var_conc_mean = np.array(conc_tvar_merged['mean'])\n",
    "var_conc_high = np.array(conc_tvar_merged['high'])\n",
    "var_conc_low = np.array(conc_tvar_merged['low'])\n",
    "\n",
    "var_d13c_mean = np.array(d13c_tvar_merged['mean'])\n",
    "var_d13c_high = np.array(d13c_tvar_merged['high'])\n",
    "var_d13c_low = np.array(d13c_tvar_merged['low'])\n",
    "\n",
    "# Fix model\n",
    "fix_conc_mean = np.array(conc_tfix_merged['mean'])\n",
    "fix_conc_high = np.array(conc_tfix_merged['high'])\n",
    "fix_conc_low = np.array(conc_tfix_merged['low'])\n",
    "\n",
    "fix_d13c_mean = np.array(d13c_tfix_merged['mean'])\n",
    "fix_d13c_high = np.array(d13c_tfix_merged['high'])\n",
    "fix_d13c_low = np.array(d13c_tfix_merged['low'])\n",
    "\n"
   ]
  },
  {
   "cell_type": "markdown",
   "metadata": {},
   "source": [
    "### ARIL \n",
    "#### Resolution of predictive distribution, how wide are the CIs?\n",
    "ARIL should be as small as possible"
   ]
  },
  {
   "cell_type": "code",
   "execution_count": 23,
   "metadata": {},
   "outputs": [
    {
     "name": "stdout",
     "output_type": "stream",
     "text": [
      "(1.3025228222140655, 0.045342412343637103)\n"
     ]
    }
   ],
   "source": [
    "conc_tvar_merged['ARIL'] = (conc_tvar_merged['high'] - conc_tvar_merged['low'])/conc_tvar_merged['ug.g']\n",
    "d13c_tvar_merged['ARIL'] = (d13c_tvar_merged['low'] - d13c_tvar_merged['high'])/d13c_tvar_merged['d13C']\n",
    "\n",
    "ARIL_var_conc = conc_tvar_merged['ARIL'].sum()/len(obs_conc)\n",
    "ARIL_var_d13c = d13c_tvar_merged['ARIL'].sum()/len(obs_d13c)\n",
    "\n",
    "print(ARIL_var_conc, ARIL_var_d13c)"
   ]
  },
  {
   "cell_type": "code",
   "execution_count": 24,
   "metadata": {},
   "outputs": [
    {
     "name": "stdout",
     "output_type": "stream",
     "text": [
      "(0.9721706059523203, 0.043404956517533275)\n"
     ]
    }
   ],
   "source": [
    "conc_tfix_merged['ARIL'] = (conc_tfix_merged['high'] - conc_tfix_merged['low'])/conc_tfix_merged['ug.g']\n",
    "d13c_tfix_merged['ARIL'] = (d13c_tfix_merged['low'] - d13c_tfix_merged['high'])/d13c_tfix_merged['d13C']\n",
    "\n",
    "ARIL_fix_conc = conc_tfix_merged['ARIL'].sum()/len(obs_conc)\n",
    "ARIL_fix_d13c = d13c_tfix_merged['ARIL'].sum()/len(obs_d13c)\n",
    "print(ARIL_fix_conc, ARIL_fix_d13c)"
   ]
  },
  {
   "cell_type": "markdown",
   "metadata": {},
   "source": [
    "### PCI\n",
    "#### (Reliability of uncertainty interval estimates)\n",
    "The higher the value (better), the more number of observations that are contained within the p confidence interval."
   ]
  },
  {
   "cell_type": "code",
   "execution_count": 25,
   "metadata": {},
   "outputs": [],
   "source": [
    "def count_conc(row):\n",
    "    if row['high'] >= row['ug.g']:\n",
    "        if row['low'] <= row['ug.g']:\n",
    "            value = 1.\n",
    "        else:\n",
    "            value = 0.\n",
    "    else:\n",
    "        value = 0.\n",
    "    return value\n",
    "\n",
    "def count_delta(row):\n",
    "    if row['high'] >= row['d13C']:\n",
    "        if row['low'] <= row['d13C']:\n",
    "            value = 1.\n",
    "        else:\n",
    "            value = 0.\n",
    "    else:\n",
    "        value = 0.\n",
    "    return value"
   ]
  },
  {
   "cell_type": "code",
   "execution_count": 26,
   "metadata": {},
   "outputs": [],
   "source": [
    "conc_tfix_merged['c_conc'] = conc_tfix_merged.apply(lambda row: count_conc(row), axis=1)\n",
    "conc_tvar_merged['c_conc'] = conc_tvar_merged.apply(lambda row: count_conc(row), axis=1)\n",
    "\n",
    "d13c_tfix_merged['c_d13c'] = d13c_tfix_merged.apply(lambda row: count_delta(row), axis=1)\n",
    "d13c_tvar_merged['c_d13c'] = d13c_tvar_merged.apply(lambda row: count_delta(row), axis=1)"
   ]
  },
  {
   "cell_type": "code",
   "execution_count": 27,
   "metadata": {},
   "outputs": [],
   "source": [
    "PCI_fix_conc = conc_tfix_merged['c_conc'].sum()/float(len(conc_tfix_merged))\n",
    "PCI_var_conc = conc_tvar_merged['c_conc'].sum()/float(len(conc_tvar_merged))\n",
    "\n",
    "PCI_fix_d13c = d13c_tfix_merged['c_d13c'].sum()/float(len(d13c_tfix_merged))\n",
    "PCI_var_d13c = d13c_tvar_merged['c_d13c'].sum()/float(len(d13c_tvar_merged))"
   ]
  },
  {
   "cell_type": "code",
   "execution_count": 28,
   "metadata": {},
   "outputs": [
    {
     "name": "stdout",
     "output_type": "stream",
     "text": [
      "(0.09917355371900827, 0.10743801652892562)\n",
      "(0.049586776859504134, 0.05785123966942149)\n"
     ]
    }
   ],
   "source": [
    "print(PCI_fix_conc, PCI_var_conc)\n",
    "print(PCI_fix_d13c, PCI_var_d13c)"
   ]
  },
  {
   "cell_type": "markdown",
   "metadata": {},
   "source": [
    "### PUCI\n",
    "Should be as high as possible (the higher the PUCI, the lower the uncertainty of 95% confidence)"
   ]
  },
  {
   "cell_type": "code",
   "execution_count": 29,
   "metadata": {},
   "outputs": [
    {
     "name": "stdout",
     "output_type": "stream",
     "text": [
      "(0.2, 0.1)\n",
      "(2.3, 2.4)\n"
     ]
    }
   ],
   "source": [
    "PUCI_fix_conc = round((1.-abs(PCI_fix_conc-0.95))/ARIL_fix_conc, 1)\n",
    "PUCI_var_conc = round((1.-abs(PCI_var_conc-0.95))/ARIL_var_conc, 1)\n",
    "\n",
    "PUCI_fix_d13c = round((1.-abs(PCI_fix_d13c-0.95))/ARIL_fix_d13c, 1)\n",
    "PUCI_var_d13c = round((1.-abs(PCI_var_d13c-0.95))/ARIL_var_d13c, 1)\n",
    "\n",
    "print(PUCI_fix_conc, PUCI_var_conc)\n",
    "print(PUCI_fix_d13c, PUCI_var_d13c)"
   ]
  },
  {
   "cell_type": "code",
   "execution_count": 30,
   "metadata": {},
   "outputs": [
    {
     "name": "stdout",
     "output_type": "stream",
     "text": [
      "(38.54792058695652, 22.6467216489838)\n"
     ]
    }
   ],
   "source": [
    "# Variable DT50 mean (mean of mean) during the first 50 days \n",
    "print(stat_var[0]['mean'][0:50].mean(),\n",
    "      stat_var[0]['mean'][0:50].std())"
   ]
  },
  {
   "cell_type": "markdown",
   "metadata": {},
   "source": [
    "## Convert to arrays (Graph C & D)"
   ]
  },
  {
   "cell_type": "code",
   "execution_count": 31,
   "metadata": {},
   "outputs": [],
   "source": [
    "deg_mean_fix = np.array(stat_fix[0]['mean'])\n",
    "deg_high_fix = np.array(stat_fix[0]['high'])\n",
    "deg_low_fix = np.array(stat_fix[0]['low'])\n",
    "\n",
    "deg_mean_var = np.array(stat_var[0]['mean'])\n",
    "deg_high_var = np.array(stat_var[0]['high'])\n",
    "deg_low_var = np.array(stat_var[0]['low'])\n",
    "\n",
    "# Z0\n",
    "deg_mean_var_nor = np.array(stat_var_nor[0]['mean'])\n",
    "tmp_mean_var_nor = np.array(stat_var_nor[1]['mean'])\n",
    "moi_mean_var_nor = np.array(stat_var_nor[2]['mean'])\n",
    "\n",
    "deg_mean_var_val = np.array(stat_var_val[0]['mean'])\n",
    "tmp_mean_var_val = np.array(stat_var_val[1]['mean'])\n",
    "moi_mean_var_val = np.array(stat_var_val[2]['mean'])\n",
    "\n",
    "deg_mean_var_sou = np.array(stat_var_sou[0]['mean'])\n",
    "tmp_mean_var_sou = np.array(stat_var_sou[1]['mean'])\n",
    "moi_mean_var_sou = np.array(stat_var_sou[2]['mean'])\n",
    "\n",
    "# Z1\n",
    "deg_mean_var_nor_z1 = np.array(stat_var_nor_z1[0]['mean'])\n",
    "deg_mean_var_val_z1 = np.array(stat_var_val_z1[0]['mean'])\n",
    "deg_mean_var_sou_z1 = np.array(stat_var_sou_z1[0]['mean'])\n",
    "\n",
    "# Z2\n",
    "deg_mean_var_z2 = np.array(stat_var_z2[0]['mean'])\n",
    "deg_mean_var_z2 = np.array(stat_var_z2[0]['mean'])\n",
    "deg_mean_var_z2 = np.array(stat_var_z2[0]['mean'])\n",
    "\n",
    "tmp_mean_fix = np.array(stat_fix[1]['mean'])\n",
    "tmp_high_fix = np.array(stat_fix[1]['high'])\n",
    "tmp_low_fix = np.array(stat_fix[1]['low'])\n",
    "\n",
    "tmp_mean_var = np.array(stat_var[1]['mean']) # z0\n",
    "tmp_mean_var_z1 = np.array(stat_var_z1[1]['mean']) # z1\n",
    "tmp_mean_var_z2 = np.array(stat_var_z2[1]['mean']) # z2\n",
    "\n",
    "tmp_high_var = np.array(stat_var[1]['high'])\n",
    "tmp_low_var = np.array(stat_var[1]['low'])\n",
    "\n",
    "moi_mean_fix = np.array(stat_fix[2]['mean'])\n",
    "moi_high_fix = np.array(stat_fix[2]['high'])\n",
    "moi_low_fix = np.array(stat_fix[2]['low'])\n",
    "\n",
    "moi_mean_var = np.array(stat_var[2]['mean']) # z0\n",
    "moi_mean_var_z1 = np.array(stat_var_z1[2]['mean']) # z1\n",
    "moi_mean_var_z2 = np.array(stat_var_z2[2]['mean']) # z2\n",
    "\n",
    "moi_high_var = np.array(stat_var[2]['high'])\n",
    "moi_low_var = np.array(stat_var[2]['low'])\n",
    "\n",
    "# tmp_mean_var*27.\n",
    "# moi_mean_var"
   ]
  },
  {
   "cell_type": "code",
   "execution_count": null,
   "metadata": {},
   "outputs": [],
   "source": []
  },
  {
   "cell_type": "markdown",
   "metadata": {},
   "source": [
    "https://python-graph-gallery.com/25-histogram-with-several-variables-seaborn/\n",
    "\n",
    "https://matplotlib.org/users/dflt_style_changes.html"
   ]
  },
  {
   "cell_type": "markdown",
   "metadata": {},
   "source": [
    "## Observations for Panel C"
   ]
  },
  {
   "cell_type": "code",
   "execution_count": 32,
   "metadata": {},
   "outputs": [],
   "source": [
    "grav = pd.read_csv(path + 'observations/theta_grav.csv', sep=',')\n",
    "pb_r = pd.read_csv(path + 'observations/pb_range.csv', sep=',')\n",
    "pb_merged = pd.merge(pb_r, grav, how='inner', on='Date')\n",
    "\n",
    "pb_merged['theta'] = pb_merged['theta_grav']*pb_merged['pb_ave']\n",
    "pb_merged['theta_min']= pb_merged['theta_grav']*pb_merged['pb_min']\n",
    "pb_merged['theta_max']= pb_merged['theta_grav']*pb_merged['pb_max']\n",
    "\n",
    "\n",
    "theta_time = np.array(pb_merged['Jdays'])-171\n",
    "theta = np.array(pb_merged['theta'])\n",
    "theta_min = np.array(pb_merged['theta']) - np.array(pb_merged['theta_min'])\n",
    "theta_max = np.array(pb_merged['theta_max']) - np.array(pb_merged['theta'])"
   ]
  },
  {
   "cell_type": "code",
   "execution_count": 33,
   "metadata": {},
   "outputs": [
    {
     "data": {
      "text/html": [
       "<div>\n",
       "<style scoped>\n",
       "    .dataframe tbody tr th:only-of-type {\n",
       "        vertical-align: middle;\n",
       "    }\n",
       "\n",
       "    .dataframe tbody tr th {\n",
       "        vertical-align: top;\n",
       "    }\n",
       "\n",
       "    .dataframe thead th {\n",
       "        text-align: right;\n",
       "    }\n",
       "</style>\n",
       "<table border=\"1\" class=\"dataframe\">\n",
       "  <thead>\n",
       "    <tr style=\"text-align: right;\">\n",
       "      <th></th>\n",
       "      <th>Date</th>\n",
       "      <th>Jdays</th>\n",
       "      <th>pb_ave</th>\n",
       "      <th>pb_min</th>\n",
       "      <th>pb_max</th>\n",
       "      <th>Transect</th>\n",
       "      <th>theta_grav</th>\n",
       "      <th>theta</th>\n",
       "      <th>theta_min</th>\n",
       "      <th>theta_max</th>\n",
       "    </tr>\n",
       "  </thead>\n",
       "  <tbody>\n",
       "    <tr>\n",
       "      <th>0</th>\n",
       "      <td>05/04/2016</td>\n",
       "      <td>189</td>\n",
       "      <td>1.032210</td>\n",
       "      <td>0.910801</td>\n",
       "      <td>1.157660</td>\n",
       "      <td>N</td>\n",
       "      <td>0.274022</td>\n",
       "      <td>0.282848</td>\n",
       "      <td>0.249579</td>\n",
       "      <td>0.317224</td>\n",
       "    </tr>\n",
       "    <tr>\n",
       "      <th>1</th>\n",
       "      <td>05/04/2016</td>\n",
       "      <td>189</td>\n",
       "      <td>1.032210</td>\n",
       "      <td>0.910801</td>\n",
       "      <td>1.157660</td>\n",
       "      <td>S</td>\n",
       "      <td>0.296556</td>\n",
       "      <td>0.306108</td>\n",
       "      <td>0.270103</td>\n",
       "      <td>0.343311</td>\n",
       "    </tr>\n",
       "    <tr>\n",
       "      <th>2</th>\n",
       "      <td>05/04/2016</td>\n",
       "      <td>189</td>\n",
       "      <td>1.032210</td>\n",
       "      <td>0.910801</td>\n",
       "      <td>1.157660</td>\n",
       "      <td>T</td>\n",
       "      <td>0.301670</td>\n",
       "      <td>0.311387</td>\n",
       "      <td>0.274762</td>\n",
       "      <td>0.349232</td>\n",
       "    </tr>\n",
       "    <tr>\n",
       "      <th>3</th>\n",
       "      <td>14/04/2016</td>\n",
       "      <td>198</td>\n",
       "      <td>1.062887</td>\n",
       "      <td>0.927687</td>\n",
       "      <td>1.204512</td>\n",
       "      <td>N</td>\n",
       "      <td>0.224297</td>\n",
       "      <td>0.238402</td>\n",
       "      <td>0.208077</td>\n",
       "      <td>0.270168</td>\n",
       "    </tr>\n",
       "    <tr>\n",
       "      <th>4</th>\n",
       "      <td>14/04/2016</td>\n",
       "      <td>198</td>\n",
       "      <td>1.062887</td>\n",
       "      <td>0.927687</td>\n",
       "      <td>1.204512</td>\n",
       "      <td>S</td>\n",
       "      <td>0.223267</td>\n",
       "      <td>0.237308</td>\n",
       "      <td>0.207122</td>\n",
       "      <td>0.268928</td>\n",
       "    </tr>\n",
       "  </tbody>\n",
       "</table>\n",
       "</div>"
      ],
      "text/plain": [
       "         Date  Jdays    pb_ave    pb_min    pb_max Transect  theta_grav  \\\n",
       "0  05/04/2016    189  1.032210  0.910801  1.157660        N    0.274022   \n",
       "1  05/04/2016    189  1.032210  0.910801  1.157660        S    0.296556   \n",
       "2  05/04/2016    189  1.032210  0.910801  1.157660        T    0.301670   \n",
       "3  14/04/2016    198  1.062887  0.927687  1.204512        N    0.224297   \n",
       "4  14/04/2016    198  1.062887  0.927687  1.204512        S    0.223267   \n",
       "\n",
       "      theta  theta_min  theta_max  \n",
       "0  0.282848   0.249579   0.317224  \n",
       "1  0.306108   0.270103   0.343311  \n",
       "2  0.311387   0.274762   0.349232  \n",
       "3  0.238402   0.208077   0.270168  \n",
       "4  0.237308   0.207122   0.268928  "
      ]
     },
     "execution_count": 33,
     "metadata": {},
     "output_type": "execute_result"
    }
   ],
   "source": [
    "pb_merged.head()"
   ]
  },
  {
   "cell_type": "code",
   "execution_count": 33,
   "metadata": {},
   "outputs": [
    {
     "data": {
      "text/plain": [
       "[('theta', 'count'),\n",
       " ('theta', 'mean'),\n",
       " ('theta', 'std'),\n",
       " ('theta', 'min'),\n",
       " ('theta', '25%'),\n",
       " ('theta', '50%'),\n",
       " ('theta', '75%'),\n",
       " ('theta', 'max')]"
      ]
     },
     "execution_count": 33,
     "metadata": {},
     "output_type": "execute_result"
    }
   ],
   "source": [
    "theta_sum = pb_merged[['Jdays', 'theta']]\n",
    "grouped = theta_sum.groupby(['Jdays'], as_index=True)\n",
    "# grouped.describe().head()\n",
    "dfm = grouped.describe()\n",
    "list(dfm)\n",
    "# dfm.head(2)"
   ]
  },
  {
   "cell_type": "code",
   "execution_count": 34,
   "metadata": {},
   "outputs": [],
   "source": [
    "theta_comp = np.array(dfm[('theta', 'mean')])\n",
    "# theta_err = np.array(dfm[('theta', 'min')], dfm[('theta', 'max')])\n",
    "# theta_err = np.array(dfm[('theta', '25%')], dfm[('theta', '75%')])\n",
    "theta_err = np.array(dfm[('theta', 'std')]*2)\n",
    "time_comp = np.array(dfm.index)-171"
   ]
  },
  {
   "cell_type": "code",
   "execution_count": 35,
   "metadata": {},
   "outputs": [
    {
     "data": {
      "image/png": "[encoded data removed]",
      "text/plain": [
       "<Figure size 504x595.44 with 4 Axes>"
      ]
     },
     "metadata": {},
     "output_type": "display_data"
    }
   ],
   "source": [
    "# sns.set(rc={'figure.figsize':(11.7, 8.27)})\n",
    "# ES&T max width: \n",
    "# 1 column = 3.25in \n",
    "# 2 column = 7.0in \n",
    "sns.set_context(\"paper\")\n",
    "sns.set(rc={'figure.figsize':(7., 8.27)}) # Width, height, inches\n",
    "\n",
    "fig = plt.figure()\n",
    "fig.subplots_adjust(right=0.75)\n",
    "\n",
    "ax1 = plt.subplot(411) # (tot Rows, tot cols, index)\n",
    "ax2 = plt.subplot(412, sharex=ax1)\n",
    "ax3 = plt.subplot(413, sharex=ax1)\n",
    "ax4 = plt.subplot(414, sharex=ax1)\n",
    "\n",
    "# axes = [plt.subplot(411), \n",
    "#         plt.subplot(412, sharex=ax1), \n",
    "#         plt.subplot(413, sharex=ax1), \n",
    "#         plt.subplot(414, sharex=ax1)\n",
    "#        ]\n",
    "\n",
    "# Shrink current axis by 20%\n",
    "# boxes = [ax1.get_position(), \n",
    "#          ax2.get_position(), \n",
    "#          ax3.get_position(), \n",
    "#          ax4.get_position()]\n",
    "\n",
    "# for i in range(len(boxes)):\n",
    "#     axes[i].set_position([boxes[i].x0, boxes[i].y0, boxes[i].width * 0.5, boxes[i].height])\n",
    "\n",
    "#####\n",
    "# A\n",
    "#####\n",
    "# Fix Conc\n",
    "ax1.plot(time, fix_conc_mean, label='Constant', c= \"C1\") #\n",
    "ax1.fill_between(time, fix_conc_high, fix_conc_low,  color= \"C1\", alpha=0.5)\n",
    "\n",
    "# Var Conc\n",
    "ax1.plot(time, var_conc_mean, label='Dynamic', c= \"C0\") # \n",
    "ax1.fill_between(time, var_conc_high, var_conc_low, color= \"C0\", alpha=0.5)\n",
    "\n",
    "## Hide Tick marks\n",
    "plt.setp(ax1.get_xticklabels(), visible=False)\n",
    "\n",
    "# Obs Conc\n",
    "ax1.errorbar(time, arr_obs_conc, arr_err, c= \"black\")\n",
    "ax1.scatter(time, arr_obs_conc, c=\"black\", marker='.', label=\"Obs\")\n",
    "\n",
    "ax1.set_ylabel(\"[SM] \\n($\\mu g$ $g^{-1}$ soil d.wt.)\")\n",
    "# ax1.legend(loc=\"upper right\")\n",
    "\n",
    "ax1.annotate('PUCI$_{Dyn}$=' + str(PUCI_var_conc), \n",
    "             xy=(90, 6.), xycoords='data')\n",
    "\n",
    "ax1.annotate('PUCI$_{Con}$=' + str(PUCI_fix_conc), \n",
    "             xy=(90, 6.9), xycoords='data')\n",
    "\n",
    "\n",
    "#####\n",
    "# B\n",
    "#####\n",
    "# Var d13c\n",
    "ax2.plot(time, fix_d13c_mean, label='Constant', c= \"C1\") # c= \"red\", marker='.', linestyle=':'\n",
    "ax2.fill_between(time, fix_d13c_high, fix_d13c_low,  color= \"C1\", alpha=0.5)\n",
    "\n",
    "# Var d13c\n",
    "ax2.plot(time, var_d13c_mean, label='Dynamic', c= \"C0\") # c= \"red\", marker='.', linestyle=':'\n",
    "ax2.fill_between(time, var_d13c_high, var_d13c_low, color= \"C0\", alpha=0.5)\n",
    "\n",
    "# Obs d13c\n",
    "ax2.errorbar(time, arr_obs_d13c, arr_err_d13c, c= \"black\")\n",
    "ax2.scatter(time, arr_obs_d13c, c= \"black\", marker='.', label=\"Obs\")\n",
    "ax2.set_ylabel(\"$\\delta ^{13}C$ \\n\" + u'(\\u2030)')\n",
    "ax2.set_ylim(-32.5, -26.)\n",
    "# ax2.set_xlabel(\"Days after 1st App.\")\n",
    "plt.setp(ax2.get_xticklabels(), visible=False)\n",
    "\n",
    "ax2.annotate('A1', xy=(2, -28), \n",
    "                 xycoords='data', xytext=(0, 20), textcoords='offset points', \n",
    "                 size=15, va=\"center\",\n",
    "                 bbox=dict(boxstyle=\"round\", fc=(1., .7, .7), ec=\"none\"),\n",
    "                 arrowprops=dict(arrowstyle=\"wedge,tail_width=1.\", \n",
    "                                 fc=(1., .7, .7), ec=\"none\", patchA=None, patchB=None, relpos=(.2, .5)\n",
    "                                ))\n",
    "\n",
    "ax2.annotate('A2', xy=(27, -28), \n",
    "                 xycoords='data', xytext=(0, 20), textcoords='offset points', \n",
    "                 size=15, va=\"center\",\n",
    "                 bbox=dict(boxstyle=\"round\", fc=(1., .7, .7), ec=\"none\"),\n",
    "                 arrowprops=dict(arrowstyle=\"wedge,tail_width=1.\", \n",
    "                                 fc=(1., .7, .7), ec=\"none\", patchA=None, patchB=None, relpos=(.2, .5)\n",
    "                                ))\n",
    "\n",
    "ax2.annotate('A3', xy=(70, -28), \n",
    "                 xycoords='data', xytext=(0, 20), textcoords='offset points', \n",
    "                 size=15, va=\"center\",\n",
    "                 bbox=dict(boxstyle=\"round\", fc=(1., .7, .7), ec=\"none\"),\n",
    "                 arrowprops=dict(arrowstyle=\"wedge,tail_width=1.\", \n",
    "                                 fc=(1., .7, .7), ec=\"none\", patchA=None, patchB=None, relpos=(.2, .5)\n",
    "                                ))\n",
    "\n",
    "ax2.annotate('PUCI$_{Dyn}$=' + str(PUCI_var_d13c), \n",
    "             xy=(90, -31.7), xycoords='data')\n",
    "\n",
    "ax2.annotate('PUCI$_{Con}$=' + str(PUCI_fix_d13c), \n",
    "             xy=(90, -31.), xycoords='data')\n",
    "\n",
    "#####\n",
    "# C\n",
    "#####\n",
    "ax3.plot(time, deg_mean_fix, label='Constant\\nz0', color=\"C1\", linestyle='-')\n",
    "ax3.plot(time, deg_mean_var, label='Dynamic\\nz0', color=\"C0\", linestyle='-')\n",
    "ax3.fill_between(time, deg_low_var, deg_high_var, color=\"C0\", alpha=0.5)\n",
    "\n",
    "# ax3.plot(time, deg_mean_var_nor_z1, label='DT$_{50,z1}$ (Dynamic)', color=\"green\", linestyle='-.')\n",
    "# ax3.plot(time, deg_mean_var_z2, label='DT$_{50,z2}$ (Dynamic)', color=\"yellow\", linestyle='-.')\n",
    "ax3.legend()\n",
    "ax3.set_ylim(0.0, 100.)\n",
    "plt.setp(ax3.get_xticklabels(), visible=False)\n",
    "\n",
    "ax3.set_ylabel(\"DT$_{50}$ \\n(d)\")\n",
    "\n",
    "ax3.annotate('cold & dry', xy=(5, 72), xytext=(12, 73), arrowprops={'arrowstyle': '->', 'color': 'black'},va='center')\n",
    "ax3.annotate('dry', xy=(24, 46), xytext=(24, 61), arrowprops={'arrowstyle': '->', 'color': 'black'},va='center')\n",
    "ax3.annotate('dry', xy=(34, 48), xytext=(34, 63), arrowprops={'arrowstyle': '->', 'color': 'black'},va='center')\n",
    "ax3.annotate('cold', xy=(44, 50), xytext=(44, 65), arrowprops={'arrowstyle': '->', 'color': 'black'},va='center')\n",
    "ax3.annotate('dry', xy=(53, 45), xytext=(65, 50), arrowprops={'arrowstyle': '->', 'color': 'black'},va='center')\n",
    "\n",
    "\n",
    "#####\n",
    "# D\n",
    "#####\n",
    "m = ax4.plot(time, moi_mean_var, label='$\\\\theta_{z0}$ (-)', color=\"C0\", linestyle='-') # c= \"red\", marker='.'\n",
    "ax4.fill_between(time, moi_high_var, moi_low_var, color=\"C0\", alpha=0.5)\n",
    "ax4.plot(time, moi_mean_var_z1, label='$\\\\theta_{z1}$ (-)', color=\"green\", linestyle='-') # c= \"red\", marker='.'\n",
    "ax4.plot(time, moi_mean_var_z2, label='$\\\\theta_{z2}$ (-)', color=\"yellow\", linestyle='-') # c= \"red\", marker='.'\n",
    "\n",
    "ax4.plot(time, tmp_mean_var, label='T$_{z0}$ (-)', color=\"C0\", linestyle=':') # c= \"red\", marker='.'\n",
    "ax4.plot(time, tmp_mean_var_z1, label='T$_{z1}$ (-)', color=\"green\", linestyle=':') # c= \"red\", marker='.'\n",
    "ax4.plot(time, tmp_mean_var_z2, label='T$_{z2}$ (-)', color=\"yellow\", linestyle=':') # c= \"red\", marker='.'\n",
    "# ax4.fill_between(time, tmp_high_var, tmp_low_var, color=\"C3\", alpha=0.5)\n",
    "\n",
    "\n",
    "\n",
    "ax4.errorbar(time_comp, theta_comp, theta_err, c= \"black\", fmt='', linestyle='')\n",
    "t = ax4.scatter(time_comp, theta_comp, c=\"black\", marker='.', label=\"$\\\\theta_{obs}$\", zorder=11)\n",
    "\n",
    "\n",
    "ax1.legend(bbox_to_anchor=(0.94, .92),\n",
    "           bbox_transform=plt.gcf().transFigure)\n",
    "# ax2.legend(loc=\"upper right\")\n",
    "ax2.legend(bbox_to_anchor=(0.94, .70),\n",
    "           bbox_transform=plt.gcf().transFigure)\n",
    "\n",
    "ax3.legend(bbox_to_anchor=(0.94, .49),\n",
    "           bbox_transform=plt.gcf().transFigure)\n",
    "\n",
    "ax4.legend(ncol=1, bbox_to_anchor=(.755, .31), columnspacing=1,\n",
    "           bbox_transform=plt.gcf().transFigure)\n",
    "# Create the second legend and add the artist manually.\n",
    "# from matplotlib.legend import Legend\n",
    "# leg = Legend(ax4, [t], ['$\\\\theta_{obs}$'],\n",
    "#              loc='upper left', bbox_to_anchor=(1.23, 1.05))\n",
    "# ax4.add_artist(leg)\n",
    "\n",
    "ax4.set_ylim(0.0, 0.7)\n",
    "ax4.set_ylabel(\"f \\n(-)\")\n",
    "ax4.set_xlabel(\"Days after 1st App.\")\n",
    "# ax4.legend()\n",
    "\n",
    "ax1.annotate('A', fontsize=15,\n",
    "            xy=(-10, 9.12), xycoords='data')\n",
    "ax2.annotate('B', fontsize=15,\n",
    "            xy=(-10, -25.98), xycoords='data')\n",
    "ax3.annotate('C', fontsize=15,\n",
    "            xy=(-10, 100.12), xycoords='data')\n",
    "ax4.annotate('D', fontsize=15,\n",
    "            xy=(-10, 0.7), xycoords='data')\n",
    "\n",
    "##############\n",
    "## Adjustments\n",
    "plt.subplots_adjust(left=None, bottom=.1, right=None, top=.97,\n",
    "                wspace=None, hspace=None)\n",
    "\n",
    "# fig.savefig(\"Fig1_VarFix.pdf\")"
   ]
  },
  {
   "cell_type": "code",
   "execution_count": null,
   "metadata": {},
   "outputs": [],
   "source": []
  },
  {
   "cell_type": "code",
   "execution_count": null,
   "metadata": {},
   "outputs": [],
   "source": []
  }
 ],
 "metadata": {
  "kernelspec": {
   "display_name": "bunny",
   "language": "python",
   "name": "bunny"
  },
  "language_info": {
   "codemirror_mode": {
    "name": "ipython",
    "version": 2
   },
   "file_extension": ".py",
   "mimetype": "text/x-python",
   "name": "python",
   "nbconvert_exporter": "python",
   "pygments_lexer": "ipython2",
   "version": "2.7.14"
  }
 },
 "nbformat": 4,
 "nbformat_minor": 2
}
