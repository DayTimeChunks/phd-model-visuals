{
 "cells": [
  {
   "cell_type": "code",
   "execution_count": 1,
   "metadata": {},
   "outputs": [],
   "source": [
    "path = '../phd-model-process/'\n",
    "\n",
    "import pandas as pd\n",
    "pd.options.mode.chained_assignment = None  # default='warn'\n",
    "import numpy as np\n",
    "import scipy as sp\n",
    "import scipy.stats as st\n",
    "\n",
    "\n",
    "from helpers_pd import *\n",
    "\n",
    "# Plotting\n",
    "import seaborn as sns\n",
    "sns.set()\n",
    "# import seaborn as sns; sns.set(style=\"ticks\", color_codes=True)\n",
    "# sns.set(style=\"darkgrid\")\n",
    "import matplotlib.pyplot as plt\n",
    "# plt.style.use('seaborn-white')"
   ]
  },
  {
   "cell_type": "code",
   "execution_count": 2,
   "metadata": {},
   "outputs": [],
   "source": [
    "df = get_data(gen=\"Gen10\")\n",
    "df[\"Gen\"] = \"Gen10\"\n",
    "\n",
    "df['Name'] = df['Gen'] + \"/\" + df.index\n",
    "df = df.set_index('Name')"
   ]
  },
  {
   "cell_type": "code",
   "execution_count": 3,
   "metadata": {},
   "outputs": [
    {
     "data": {
      "text/plain": [
       "3270"
      ]
     },
     "execution_count": 3,
     "metadata": {},
     "output_type": "execute_result"
    }
   ],
   "source": [
    "len(df)"
   ]
  },
  {
   "cell_type": "code",
   "execution_count": 4,
   "metadata": {},
   "outputs": [],
   "source": [
    "df['k_d'] = df.loc[:, 'k_oc'] * df.loc[:,'f_oc']"
   ]
  },
  {
   "cell_type": "code",
   "execution_count": 5,
   "metadata": {},
   "outputs": [],
   "source": [
    "dfs_all = df[['Model', \"Gen\",\n",
    "          'dt_50_ref',\n",
    "          'dt_50_ab',\n",
    "          'k_d',\n",
    "          'k_oc',\n",
    "          'epsilon_iso',\n",
    "          'KGE-CONC-blk','KGE-d13C-blk',\n",
    "          'KGE-CONC-tra','KGE-d13C-tra',\n",
    "          'KGE-CONC-det','KGE-d13C-det',\n",
    "          'KGE-CONC_out', 'KGE-d13C_out',\n",
    "          'KGE-Q_out'\n",
    "          ]]"
   ]
  },
  {
   "cell_type": "code",
   "execution_count": 6,
   "metadata": {},
   "outputs": [],
   "source": [
    "gen1x = dfs_all.loc[(dfs_all['Gen'] == 'Gen10')]\n",
    "\n",
    "# dfs_nc = gen1x.loc[(gen1x['Model'] == 'fix') | (gen1x['Model'] == 'var')]\n",
    "# dfs_nc = gen1x.loc[(gen1x['Model'] == 'fix')]\n",
    "dfs_nc = gen1x.loc[(gen1x['Model'] == 'var')]\n",
    "dfs_wc = gen1x.loc[(gen1x['Model'] == 'var')]"
   ]
  },
  {
   "cell_type": "code",
   "execution_count": 7,
   "metadata": {},
   "outputs": [],
   "source": [
    "# blk_nc = dfs_nc.loc[(dfs_nc['KGE-CONC-blk'] > .5) & (dfs_nc['KGE-d13C-blk'] >  0.0) & (dfs_nc['KGE-Q_out'] >  0.50)]\n",
    "# blk_wc = dfs_wc.loc[(dfs_wc['KGE-CONC-blk'] > .5) & (dfs_wc['KGE-d13C-blk'] >  0.82) & (dfs_wc['KGE-Q_out'] >  0.50)]\n",
    "\n",
    "blk_nc = dfs_nc.loc[(dfs_nc['KGE-CONC-blk'] > .5) & (dfs_nc['KGE-d13C-blk'] >  -5.0) & (dfs_nc['KGE-Q_out'] >  0.545)]\n",
    "blk_wc = dfs_wc.loc[(dfs_wc['KGE-CONC-blk'] > .5) & (dfs_wc['KGE-d13C-blk'] >  0.9) & (dfs_wc['KGE-Q_out'] >  0.545)]"
   ]
  },
  {
   "cell_type": "code",
   "execution_count": 8,
   "metadata": {},
   "outputs": [
    {
     "data": {
      "text/plain": [
       "epsilon_iso    2.549664\n",
       "dtype: float64"
      ]
     },
     "execution_count": 8,
     "metadata": {},
     "output_type": "execute_result"
    }
   ],
   "source": [
    "blk_wc[['epsilon_iso']].mean()"
   ]
  },
  {
   "cell_type": "code",
   "execution_count": 9,
   "metadata": {},
   "outputs": [
    {
     "name": "stdout",
     "output_type": "stream",
     "text": [
      "(219, 10)\n"
     ]
    }
   ],
   "source": [
    "nc = blk_nc.index.tolist() #[0]\n",
    "wc = blk_wc.index.tolist() #[0]\n",
    "print(len(nc), len(wc))"
   ]
  },
  {
   "cell_type": "code",
   "execution_count": 10,
   "metadata": {},
   "outputs": [],
   "source": [
    "nc_deg = get_sets_metrics(nc, path, \"resM_accDEGz0.tss\", \"DEG\")\n",
    "wc_deg = get_sets_metrics(wc, path, \"resM_accDEGz0.tss\", \"DEG\")\n",
    "\n",
    "nc_per = get_sets_metrics(nc, path, \"resM_light_real_z0.tss\", \"PER\")\n",
    "wc_per = get_sets_metrics(wc, path, \"resM_light_real_z0.tss\", \"PER\")\n",
    "\n",
    "nc_exp = get_sets_metrics(nc, path, \"resM_EXP_light_g.tss\", \"EXP\")\n",
    "wc_exp = get_sets_metrics(wc, path, \"resM_EXP_light_g.tss\", \"EXP\")\n",
    "\n",
    "nc_lch = get_sets_metrics(nc, path, \"resM_accLCHz0.tss\", \"LCH\")\n",
    "wc_lch = get_sets_metrics(wc, path, \"resM_accLCHz0.tss\", \"LCH\")\n",
    "\n",
    "nc_age = get_sets_metrics(nc, path, \"resM_accAGED_DEGz0.tss\", \"AGE\")\n",
    "wc_age = get_sets_metrics(wc, path, \"resM_accAGED_DEGz0.tss\", \"AGE\")\n",
    "\n",
    "nc_vol = get_sets_metrics(nc, path, \"resM_accVOLATz0.tss\", \"VOL\")\n",
    "wc_vol = get_sets_metrics(wc, path, \"resM_accVOLATz0.tss\", \"VOL\")"
   ]
  },
  {
   "cell_type": "code",
   "execution_count": 11,
   "metadata": {},
   "outputs": [],
   "source": [
    "metrics = ['DEG', 'PER', 'EXP', 'LCH', 'AGE', 'VOL']\n",
    "nc_stat = [get_stats_df(nc_deg), get_stats_df(nc_per), \n",
    "           get_stats_df(nc_exp), get_stats_df(nc_lch), \n",
    "           get_stats_df(nc_age), get_stats_df(nc_vol)]\n",
    "\n",
    "wc_stat = [get_stats_df(wc_deg), get_stats_df(wc_per), \n",
    "           get_stats_df(wc_exp), get_stats_df(wc_lch),\n",
    "           get_stats_df(wc_age), get_stats_df(wc_vol)]"
   ]
  },
  {
   "cell_type": "code",
   "execution_count": 12,
   "metadata": {},
   "outputs": [
    {
     "name": "stdout",
     "output_type": "stream",
     "text": [
      "(121, 121)\n"
     ]
    }
   ],
   "source": [
    "print(len(nc_stat[0]), len(wc_stat[0]))"
   ]
  },
  {
   "cell_type": "markdown",
   "metadata": {},
   "source": [
    "# Cumulative applied mass (grams)\n",
    "\n",
    "All data frames have this time series, and does not change"
   ]
  },
  {
   "cell_type": "code",
   "execution_count": 13,
   "metadata": {},
   "outputs": [],
   "source": [
    "# WC\n",
    "app = pd.read_table(path + wc[0] + \"resM_accAPP.tss\", \n",
    "                   skiprows=4, delim_whitespace=True,\n",
    "                                names=['Jdays', 'app'],\n",
    "                                header=None)\n",
    "app['Capp'] = app['app'].cumsum()"
   ]
  },
  {
   "cell_type": "code",
   "execution_count": 14,
   "metadata": {},
   "outputs": [],
   "source": [
    "label_nc = 'NC'\n",
    "label_wc = 'WC'\n",
    "\n",
    "top=\"high\"\n",
    "bottom=\"low\"\n",
    "\n",
    "deg =  [pct_df(nc_stat[0], 'DEG', app, cst=label_nc , high=top, low=bottom),\n",
    "        pct_df(wc_stat[0], 'DEG', app, cst=label_wc, high=top, low=bottom)]\n",
    "\n",
    "deg_all = pd.concat(deg) \n",
    "\n",
    "per =  [pct_df(nc_stat[1], 'PER', app, cst=label_nc , high=top, low=bottom),\n",
    "        pct_df(wc_stat[1], 'PER', app, cst=label_wc, high=top, low=bottom)]\n",
    "\n",
    "per_all = pd.concat(per) \n",
    "\n",
    "exp =  [pct_df(nc_stat[2], 'EXP', app, cst=label_nc , high=top, low=bottom),\n",
    "        pct_df(wc_stat[2], 'EXP', app, cst=label_wc, high=top, low=bottom)]\n",
    "\n",
    "exp_all = pd.concat(exp) \n",
    "\n",
    "lch =  [pct_df(nc_stat[3], 'LCH', app, cst=label_nc , high=top, low=bottom),\n",
    "        pct_df(wc_stat[3], 'LCH', app, cst=label_wc, high=top, low=bottom)]\n",
    "\n",
    "lch_all = pd.concat(lch)\n",
    "\n",
    "age =  [pct_df(nc_stat[4], 'AGE', app, cst=label_nc , high=top, low=bottom),\n",
    "        pct_df(wc_stat[4], 'AGE', app, cst=label_wc, high=top, low=bottom)]\n",
    "\n",
    "age_all = pd.concat(age)\n",
    "\n",
    "vol =  [pct_df(nc_stat[5], 'VOL', app, cst=label_nc , high=top, low=bottom),\n",
    "        pct_df(wc_stat[5], 'VOL', app, cst=label_wc, high=top, low=bottom)]\n",
    "\n",
    "vol_all = pd.concat(vol)"
   ]
  },
  {
   "cell_type": "code",
   "execution_count": 15,
   "metadata": {},
   "outputs": [
    {
     "name": "stdout",
     "output_type": "stream",
     "text": [
      "(348, 348)\n"
     ]
    }
   ],
   "source": [
    "print(len(per[0]), len(vol[1]))"
   ]
  },
  {
   "cell_type": "markdown",
   "metadata": {},
   "source": [
    "## Get arrays for fill_between()"
   ]
  },
  {
   "cell_type": "code",
   "execution_count": 16,
   "metadata": {},
   "outputs": [
    {
     "name": "stdout",
     "output_type": "stream",
     "text": [
      "116\n"
     ]
    }
   ],
   "source": [
    "time = np.asarray(deg_all.loc[(deg_all['variable']==\"DEG_95%\") & (deg_all['Type'] == label_wc)]['Jdays'])\n",
    "print(len(time)) # time[0:5]"
   ]
  },
  {
   "cell_type": "code",
   "execution_count": 17,
   "metadata": {},
   "outputs": [],
   "source": [
    "# print(deg_max_wc[-1], deg_min_wc[-1], deg_ave_wc[-1])\n",
    "# print(deg_max_wc[-1] - deg_ave_wc[-1])\n",
    "# print(deg_ave_wc[-1] - deg_min_wc[-1])"
   ]
  },
  {
   "cell_type": "code",
   "execution_count": 18,
   "metadata": {},
   "outputs": [],
   "source": [
    "# Deg\n",
    "deg_max_wc = np.asarray(deg_all.loc[(deg_all['variable']==\"DEG_95%\") & (deg_all['Type'] == label_wc)]['value'])\n",
    "deg_min_wc = np.asarray(deg_all.loc[(deg_all['variable']==\"DEG_05%\") & (deg_all['Type'] == label_wc)]['value'])\n",
    "deg_ave_wc = np.asarray(deg_all.loc[(deg_all['variable']==\"DEG_50%\") & (deg_all['Type'] == label_wc)]['value'])\n",
    "\n",
    "deg_max_nc = np.asarray(deg_all.loc[(deg_all['variable']==\"DEG_95%\") & (deg_all['Type'] == label_nc)]['value'])\n",
    "deg_min_nc = np.asarray(deg_all.loc[(deg_all['variable']==\"DEG_05%\") & (deg_all['Type'] == label_nc)]['value'])\n",
    "deg_ave_nc = np.asarray(deg_all.loc[(deg_all['variable']==\"DEG_50%\") & (deg_all['Type'] == label_nc)]['value'])\n",
    "\n",
    "# Per\n",
    "per_max_wc = np.asarray(per_all.loc[(per_all['variable']==\"PER_95%\") & (per_all['Type'] == label_wc)]['value'])\n",
    "per_min_wc = np.asarray(per_all.loc[(per_all['variable']==\"PER_05%\") & (per_all['Type'] == label_wc)]['value'])\n",
    "per_ave_wc = np.asarray(per_all.loc[(per_all['variable']==\"PER_50%\") & (per_all['Type'] == label_wc)]['value'])\n",
    "\n",
    "per_max_nc = np.asarray(per_all.loc[(per_all['variable']==\"PER_95%\") & (per_all['Type'] == label_nc)]['value'])\n",
    "per_min_nc = np.asarray(per_all.loc[(per_all['variable']==\"PER_05%\") & (per_all['Type'] == label_nc)]['value'])\n",
    "per_ave_nc = np.asarray(per_all.loc[(per_all['variable']==\"PER_50%\") & (per_all['Type'] == label_nc)]['value'])\n",
    "\n",
    "# Exp\n",
    "exp_max_wc = np.asarray(exp_all.loc[(exp_all['variable']==\"EXP_95%\") & (exp_all['Type'] == label_wc)]['value'])\n",
    "exp_min_wc = np.asarray(exp_all.loc[(exp_all['variable']==\"EXP_05%\") & (exp_all['Type'] == label_wc)]['value'])\n",
    "exp_ave_wc = np.asarray(exp_all.loc[(exp_all['variable']==\"EXP_50%\") & (exp_all['Type'] == label_wc)]['value'])\n",
    "\n",
    "exp_max_nc = np.asarray(exp_all.loc[(exp_all['variable']==\"EXP_95%\") & (exp_all['Type'] == label_nc)]['value'])\n",
    "exp_min_nc = np.asarray(exp_all.loc[(exp_all['variable']==\"EXP_05%\") & (exp_all['Type'] == label_nc)]['value'])\n",
    "exp_ave_nc = np.asarray(exp_all.loc[(exp_all['variable']==\"EXP_50%\") & (exp_all['Type'] == label_nc)]['value'])\n",
    "\n",
    "# LCH\n",
    "lch_max_wc = np.asarray(lch_all.loc[(lch_all['variable']==\"LCH_95%\") & (lch_all['Type'] == label_wc)]['value'])\n",
    "lch_min_wc = np.asarray(lch_all.loc[(lch_all['variable']==\"LCH_05%\") & (lch_all['Type'] == label_wc)]['value'])\n",
    "lch_ave_wc = np.asarray(lch_all.loc[(lch_all['variable']==\"LCH_50%\") & (lch_all['Type'] == label_wc)]['value'])\n",
    "\n",
    "lch_max_nc = np.asarray(lch_all.loc[(lch_all['variable']==\"LCH_95%\") & (lch_all['Type'] == label_nc)]['value'])\n",
    "lch_min_nc = np.asarray(lch_all.loc[(lch_all['variable']==\"LCH_05%\") & (lch_all['Type'] == label_nc)]['value'])\n",
    "lch_ave_nc = np.asarray(lch_all.loc[(lch_all['variable']==\"LCH_50%\") & (lch_all['Type'] == label_nc)]['value'])\n",
    "\n",
    "# Age\n",
    "age_max_wc = np.asarray(age_all.loc[(age_all['variable']==\"AGE_95%\") & (age_all['Type'] == label_wc)]['value'])\n",
    "age_min_wc = np.asarray(age_all.loc[(age_all['variable']==\"AGE_05%\") & (age_all['Type'] == label_wc)]['value'])\n",
    "age_ave_wc = np.asarray(age_all.loc[(age_all['variable']==\"AGE_50%\") & (age_all['Type'] == label_wc)]['value'])\n",
    "\n",
    "age_max_nc = np.asarray(age_all.loc[(age_all['variable']==\"AGE_95%\") & (age_all['Type'] == label_nc)]['value'])\n",
    "age_min_nc = np.asarray(age_all.loc[(age_all['variable']==\"AGE_05%\") & (age_all['Type'] == label_nc)]['value'])\n",
    "age_ave_nc = np.asarray(age_all.loc[(age_all['variable']==\"AGE_50%\") & (age_all['Type'] == label_nc)]['value'])\n",
    "\n",
    "# Vol\n",
    "vol_max_wc = np.asarray(vol_all.loc[(vol_all['variable']==\"VOL_95%\") & (vol_all['Type'] == label_wc)]['value'])\n",
    "vol_min_wc = np.asarray(vol_all.loc[(vol_all['variable']==\"VOL_05%\") & (vol_all['Type'] == label_wc)]['value'])\n",
    "vol_ave_wc = np.asarray(vol_all.loc[(vol_all['variable']==\"VOL_50%\") & (vol_all['Type'] == label_wc)]['value'])\n",
    "\n",
    "vol_max_nc = np.asarray(vol_all.loc[(vol_all['variable']==\"VOL_95%\") & (vol_all['Type'] == label_nc)]['value'])\n",
    "vol_min_nc = np.asarray(vol_all.loc[(vol_all['variable']==\"VOL_05%\") & (vol_all['Type'] == label_nc)]['value'])\n",
    "vol_ave_nc = np.asarray(vol_all.loc[(vol_all['variable']==\"VOL_50%\") & (vol_all['Type'] == label_nc)]['value'])"
   ]
  },
  {
   "cell_type": "code",
   "execution_count": 19,
   "metadata": {},
   "outputs": [
    {
     "data": {
      "text/plain": [
       "146    40.766706\n",
       "147    42.381387\n",
       "148    43.841891\n",
       "149    45.173584\n",
       "150    46.450245\n",
       "151    47.659455\n",
       "152    48.997761\n",
       "153    50.251628\n",
       "154    51.354762\n",
       "Name: value, dtype: float64"
      ]
     },
     "execution_count": 19,
     "metadata": {},
     "output_type": "execute_result"
    }
   ],
   "source": [
    "deg_all.loc[(deg_all['variable']==\"DEG_50%\") & (deg_all['Type'] == label_nc)]['value'][30:39]"
   ]
  },
  {
   "cell_type": "code",
   "execution_count": 20,
   "metadata": {},
   "outputs": [],
   "source": [
    "# Mean\n",
    "deg_end_wc = deg_ave_wc[-1]\n",
    "deg_end_nc = deg_ave_nc[-1]\n",
    "\n",
    "per_end_wc = per_ave_wc[-1] \n",
    "per_end_nc = per_ave_nc[-1] \n",
    "\n",
    "exp_end_wc = exp_ave_wc[-1]\n",
    "exp_end_nc = exp_ave_nc[-1]\n",
    "\n",
    "lch_end_wc = lch_ave_wc[-1]\n",
    "lch_end_nc = lch_ave_nc[-1]\n",
    "\n",
    "age_end_wc = age_ave_wc[-1]\n",
    "age_end_nc = age_ave_nc[-1]\n",
    "\n",
    "vol_end_wc = vol_ave_wc[-1]\n",
    "vol_end_nc = vol_ave_nc[-1]\n",
    "\n",
    "# CI \n",
    "deg_ci_wc = deg_end_wc - deg_min_wc[-1]\n",
    "deg_ci_nc = deg_end_nc - deg_min_nc[-1]\n",
    "\n",
    "per_ci_wc = per_max_wc[-1] - per_end_wc \n",
    "per_ci_nc = per_max_nc[-1] - per_end_nc  \n",
    "\n",
    "exp_ci_wc = exp_max_wc[-1] - exp_end_wc\n",
    "exp_ci_nc = exp_max_nc[-1] - exp_end_nc\n",
    "\n",
    "lch_ci_wc = lch_max_wc[-1] - lch_end_wc\n",
    "lch_ci_nc = lch_max_nc[-1] - lch_end_wc\n",
    "\n",
    "age_ci_wc = age_max_wc[-1] - age_end_wc\n",
    "age_ci_nc = age_max_nc[-1] - age_end_nc\n",
    "\n",
    "vol_ci_wc = vol_max_wc[-1] - vol_end_wc\n",
    "vol_ci_nc = vol_max_nc[-1] - vol_end_nc\n"
   ]
  },
  {
   "cell_type": "code",
   "execution_count": 40,
   "metadata": {},
   "outputs": [
    {
     "data": {
      "text/html": [
       "<div>\n",
       "<style scoped>\n",
       "    .dataframe tbody tr th:only-of-type {\n",
       "        vertical-align: middle;\n",
       "    }\n",
       "\n",
       "    .dataframe tbody tr th {\n",
       "        vertical-align: top;\n",
       "    }\n",
       "\n",
       "    .dataframe thead th {\n",
       "        text-align: right;\n",
       "    }\n",
       "</style>\n",
       "<table border=\"1\" class=\"dataframe\">\n",
       "  <thead>\n",
       "    <tr style=\"text-align: right;\">\n",
       "      <th></th>\n",
       "      <th>DayMoYr</th>\n",
       "      <th>Days</th>\n",
       "      <th>totMass</th>\n",
       "      <th>PrctExp</th>\n",
       "      <th>PrctExpMin</th>\n",
       "      <th>PrctExpMax</th>\n",
       "      <th>PrcRem</th>\n",
       "      <th>PrcRemMin</th>\n",
       "      <th>PrcRemMax</th>\n",
       "      <th>Blab</th>\n",
       "      <th>Bmin</th>\n",
       "      <th>Bmax</th>\n",
       "      <th>Bmod</th>\n",
       "    </tr>\n",
       "  </thead>\n",
       "  <tbody>\n",
       "    <tr>\n",
       "      <th>114</th>\n",
       "      <td>2016-07-11</td>\n",
       "      <td>114</td>\n",
       "      <td>29130.58386</td>\n",
       "      <td>NaN</td>\n",
       "      <td>NaN</td>\n",
       "      <td>NaN</td>\n",
       "      <td>NaN</td>\n",
       "      <td>NaN</td>\n",
       "      <td>NaN</td>\n",
       "      <td>NaN</td>\n",
       "      <td>NaN</td>\n",
       "      <td>NaN</td>\n",
       "      <td>NaN</td>\n",
       "    </tr>\n",
       "    <tr>\n",
       "      <th>115</th>\n",
       "      <td>2016-07-12</td>\n",
       "      <td>115</td>\n",
       "      <td>29130.58386</td>\n",
       "      <td>NaN</td>\n",
       "      <td>NaN</td>\n",
       "      <td>NaN</td>\n",
       "      <td>17.702126</td>\n",
       "      <td>15.046807</td>\n",
       "      <td>20.357445</td>\n",
       "      <td>NaN</td>\n",
       "      <td>NaN</td>\n",
       "      <td>NaN</td>\n",
       "      <td>NaN</td>\n",
       "    </tr>\n",
       "  </tbody>\n",
       "</table>\n",
       "</div>"
      ],
      "text/plain": [
       "        DayMoYr  Days      totMass  PrctExp  PrctExpMin  PrctExpMax  \\\n",
       "114  2016-07-11   114  29130.58386      NaN         NaN         NaN   \n",
       "115  2016-07-12   115  29130.58386      NaN         NaN         NaN   \n",
       "\n",
       "        PrcRem  PrcRemMin  PrcRemMax  Blab  Bmin  Bmax  Bmod  \n",
       "114        NaN        NaN        NaN   NaN   NaN   NaN   NaN  \n",
       "115  17.702126  15.046807  20.357445   NaN   NaN   NaN   NaN  "
      ]
     },
     "execution_count": 40,
     "metadata": {},
     "output_type": "execute_result"
    }
   ],
   "source": [
    "# Extrapolated Observations\n",
    "met = pd.read_csv(path + \"observations/Metrics_R.csv\")\n",
    "# met.tail(40)\n",
    "met.tail(2)"
   ]
  },
  {
   "cell_type": "code",
   "execution_count": 22,
   "metadata": {},
   "outputs": [],
   "source": [
    "days = np.array(met[[\"Days\"]])\n",
    "\n",
    "Blab = np.array(met[[\"Blab\"]])\n",
    "Bmin = np.subtract(np.array(met[[\"Blab\"]]), np.array(met[[\"Bmax\"]]))\n",
    "Bmod = np.array(met[[\"Bmod\"]])\n",
    "\n",
    "Rem = np.array(met[[\"PrcRem\"]])\n",
    "Exp = np.array(met[[\"PrctExp\"]])"
   ]
  },
  {
   "cell_type": "code",
   "execution_count": 65,
   "metadata": {},
   "outputs": [
    {
     "data": {
      "image/png": "[encoded data removed]",
      "text/plain": [
       "<Figure size 504x523.44 with 6 Axes>"
      ]
     },
     "metadata": {},
     "output_type": "display_data"
    }
   ],
   "source": [
    "# sns.set(rc={'figure.figsize':(11.7, 8.27)})\n",
    "# ES&T max width, 1 column = 3.25in, 2-col = 7in \n",
    "sns.set_context(\"paper\")\n",
    "sns.set(rc={'figure.figsize':(7., 7.27)}) # Width, height, inches\n",
    "\n",
    "fig, axes = plt.subplots(3, 2, sharex=True, sharey=False)\n",
    "\n",
    "ax1 = axes[0,0]\n",
    "ax2 = axes[0,1]\n",
    "ax3 = axes[1,0]\n",
    "ax4 = axes[1,1]\n",
    "ax5 = axes[2,0]\n",
    "ax6 = axes[2,1]\n",
    "\n",
    "order = ['WC', 'NC']\n",
    "# Degradation\n",
    "g1 = sns.lineplot(x=\"Jdays\", y=\"value\", data=deg_all.loc[deg_all['variable']==\"DEG_50%\"], \n",
    "                  hue=\"Type\", hue_order=order, \n",
    "                  palette = [\"C0\", \"C4\"], ci=None, ax=ax1, legend=False)\n",
    "\n",
    "ax1.fill_between(time, deg_max_wc, deg_min_wc, alpha=0.5, color=\"C0\")\n",
    "ax1.fill_between(time, deg_max_nc, deg_min_nc, alpha=0.3, color=\"C4\")\n",
    "\n",
    "#ax1.errorbar(days, Blab, Bmin, c= \"green\")\n",
    "# ax1.scatter(days, Blab, c= \"green\", marker='.', label=\"$\\epsilon_{lab}$\")\n",
    "ax1.scatter(days, Bmod, c= \"green\", marker='*', label=\"Rayleigh,$\\epsilon_{mod}$\")\n",
    "ax1.set_ylabel(\"Degraded %\")\n",
    "\n",
    "ax1.annotate('$\\mu_{WIC}$ = '+ str(int(round(deg_end_wc, 0))) + \n",
    "             '$\\pm$' + str(int(round(deg_ci_wc,0))), xy=(60, 20), # 1.2 \n",
    "                 xycoords='data', color=\"C0\")\n",
    "ax1.annotate('$\\mu_{NIC}$ = '+ str(int(round(deg_end_nc, 0))) + \n",
    "             '$\\pm$' + str(int(round(deg_ci_nc,0))), xy=(60, 8), # 1.2 \n",
    "                 xycoords='data', color=\"C4\")\n",
    "\n",
    "# ax1.annotate('$\\mu \\pm CI$' + '\\n(day 121)', xy=(1, 85), # 1.2 \n",
    "#                  xycoords='data')\n",
    "\n",
    "# Persistence\n",
    "g2 = sns.lineplot(x=\"Jdays\", y=\"value\", data=per_all.loc[per_all['variable']==\"PER_50%\"], \n",
    "                  hue=\"Type\", hue_order=order, palette = [\"C0\", \"C4\"],\n",
    "                  ci=None, ax=ax2, legend=False)\n",
    "\n",
    "ax2.fill_between(time, per_max_wc, per_min_wc, alpha=0.5, color=\"C0\")\n",
    "ax2.fill_between(time, per_max_nc, per_min_nc, alpha=0.3, color=\"C4\")\n",
    "\n",
    "ax2.scatter(days, Rem, c= \"green\", marker='^', label=\"Extrapolated\\nCatchment Mass\")\n",
    "ax2.set_ylabel(\"Remaining BAM %\")\n",
    "\n",
    "ax2.annotate('$\\mu_{WIC}$ = '+ str(int(round(per_end_wc, 0))) + \n",
    "             '$\\pm$' + str(int(round(per_ci_wc,0))), xy=(60, 67), # 1.2 \n",
    "                 xycoords='data', color=\"C0\")\n",
    "ax2.annotate('$\\mu_{NIC}$ = '+ str(int(round(per_end_nc, 0))) + \n",
    "             '$\\pm$' + str(int(round(per_ci_nc,0))), xy=(60, 55), # 1.2 \n",
    "                 xycoords='data', color=\"C4\")\n",
    "\n",
    "\n",
    "# Export\n",
    "g3 = sns.lineplot(x=\"Jdays\", y=\"value\", data=exp_all.loc[exp_all['variable']==\"EXP_50%\"], \n",
    "                  hue=\"Type\", hue_order=order, palette = [\"C0\", \"C4\"],\n",
    "                  ci=None, ax=ax3, legend=False)\n",
    "\n",
    "ax3.fill_between(time, exp_max_wc, exp_min_wc, alpha=0.5, color=\"C0\")\n",
    "ax3.fill_between(time, exp_max_nc, exp_min_nc, alpha=0.3, color=\"C4\")\n",
    "\n",
    "ax3.scatter(days, Exp, c= \"green\", marker='+', label=\"Approx. export\")\n",
    "ax3.set_ylabel(\"Exported %\")\n",
    "ax3.set_xlabel(\"Days after 1st App.\")\n",
    "\n",
    "ax3.annotate('$\\mu_{WIC}$ = '+ str(int(round(exp_end_wc, 0))) + \n",
    "             '$\\pm$' + str(int(round(exp_ci_wc,0))), xy=(5, 6), # 1.2 \n",
    "                 xycoords='data', color=\"C0\")\n",
    "ax3.annotate('$\\mu_{NIC}$ = '+ str(int(round(exp_end_nc, 0))) + \n",
    "             '$\\pm$' + str(int(round(exp_ci_nc,0))), xy=(5, 5), # 1.2 \n",
    "                 xycoords='data', color=\"C4\")\n",
    "\n",
    "# Leaching\n",
    "g4 = sns.lineplot(x=\"Jdays\", y=\"value\", data=lch_all.loc[lch_all['variable']==\"LCH_50%\"], \n",
    "                  hue=\"Type\", hue_order=order, palette = [\"C0\", \"C4\"],\n",
    "                  ci=None, ax=ax4, legend=False)\n",
    "\n",
    "ax4.fill_between(time, lch_max_wc, lch_min_wc, alpha=0.5, color=\"C0\")\n",
    "ax4.fill_between(time, lch_max_nc, lch_min_nc, alpha=0.3, color=\"C4\")\n",
    "ax4.set_ylabel(\"Leached %\")\n",
    "ax4.set_xlabel(\"Days after 1st App.\")\n",
    "ax4.set_ylim(-2, 45)\n",
    "\n",
    "ax4.annotate('$\\mu_{WIC}$ = '+ str(int(round(lch_end_wc, 0))) + \n",
    "             '$\\pm$' + str(int(round(lch_ci_wc,0))), xy=(5, 40), # 1.2 \n",
    "                 xycoords='data', color=\"C0\")\n",
    "ax4.annotate('$\\mu_{NIC}$ = '+ str(int(round(lch_end_nc, 0))) + \n",
    "             '$\\pm$' + str(int(round(lch_ci_nc,0))), xy=(5, 35), # 1.2 \n",
    "                 xycoords='data', color=\"C4\")\n",
    "\n",
    "# Ageing\n",
    "g5 = sns.lineplot(x=\"Jdays\", y=\"value\", data=age_all.loc[age_all['variable']==\"AGE_50%\"], \n",
    "                  hue=\"Type\", hue_order=order, palette = [\"C0\", \"C4\"],\n",
    "                  ci=None, ax=ax5, legend=False)\n",
    "\n",
    "ax5.fill_between(time, age_max_wc, age_min_wc, alpha=0.5, color=\"C0\")\n",
    "ax5.fill_between(time, age_max_nc, age_min_nc, alpha=0.3, color=\"C4\")\n",
    "ax5.set_ylabel(\"Aged %\")\n",
    "ax5.set_xlabel(\"Days after 1st App.\")\n",
    "\n",
    "ax5.annotate('$\\mu_{WIC}$ = '+ str(round(age_end_wc, 1)) + \n",
    "             '$\\pm$' + str((round(age_ci_wc,1))), xy=(5, 2.1), # 1.2 \n",
    "                 xycoords='data', color=\"C0\")\n",
    "ax5.annotate('$\\mu_{NIC}$ = '+ str(round(age_end_nc, 1)) + \n",
    "             '$\\pm$' + str(round(age_ci_nc,1)), xy=(5, 1.8), # 1.2 \n",
    "                 xycoords='data', color=\"C4\")\n",
    "\n",
    "# Volat\n",
    "g6 = sns.lineplot(x=\"Jdays\", y=\"value\", data=vol_all.loc[vol_all['variable']==\"VOL_50%\"], \n",
    "                  hue=\"Type\", hue_order=order, palette = [\"C0\", \"C4\"], \n",
    "                  ci=None, ax=ax6, legend=False)\n",
    "ax6.fill_between(time, vol_max_wc, vol_min_wc, alpha=0.5, color=\"C0\")\n",
    "ax6.fill_between(time, vol_max_nc, vol_min_nc, alpha=0.3, color=\"C4\")\n",
    "ax6.set_ylabel(\"Volatilized %\")\n",
    "ax6.set_xlabel(\"Days after 1st App.\")\n",
    "\n",
    "ax6.set_ylim(-0.1, 1.7)\n",
    "\n",
    "ax6.annotate('$\\mu_{WIC}$ = '+ str(round(vol_end_wc, 1)) + \n",
    "             '$\\pm$' + str((round(vol_ci_wc,1))), xy=(5, 1.4), # 1.2 \n",
    "                 xycoords='data', color=\"C0\")\n",
    "ax6.annotate('$\\mu_{NIC}$ = '+ str((round(vol_end_nc, 1))) + \n",
    "             '$\\pm$' + str((round(vol_ci_nc,1))), xy=(5, 1.2), # 1.2 \n",
    "                 xycoords='data', color=\"C4\")\n",
    "\n",
    "ax6.annotate('$\\mu \\pm CI$ at day 115', xy=(115, 0.2), xytext=(40, 0.7), \n",
    "             arrowprops={'arrowstyle': '->', 'color': 'black'},va='center')\n",
    "\n",
    "plt.subplots_adjust(left=None, bottom=None, right=None, top=.95,\n",
    "                wspace=0.3, hspace=.1)\n",
    "\n",
    "size = 10\n",
    "g1.legend(loc='upper left', prop={'size': size}, columnspacing=0.1, handletextpad=.01, handlelength=1.1) #, bbox_to_anchor=(0.7, 0.5), ncol=1)\n",
    "g2.legend(loc='upper right', prop={'size': size}, columnspacing=0.1, handletextpad=.1, handlelength=1.4) #, bbox_to_anchor=(0.7, 0.5), ncol=1)\n",
    "g3.legend(loc='upper left', prop={'size': size},handletextpad=.01, handlelength=1.1) #, bbox_to_anchor=(0.7, 0.5), ncol=1)\n",
    "\n",
    "plt.show()\n",
    "\n",
    "# fig.savefig(\"Fig5_Metrics.pdf\")"
   ]
  },
  {
   "cell_type": "code",
   "execution_count": 24,
   "metadata": {},
   "outputs": [
    {
     "data": {
      "text/plain": [
       "0.7019846511484296"
      ]
     },
     "execution_count": 24,
     "metadata": {},
     "output_type": "execute_result"
    }
   ],
   "source": [
    "vol_ci_nc"
   ]
  },
  {
   "cell_type": "code",
   "execution_count": 25,
   "metadata": {},
   "outputs": [
    {
     "data": {
      "text/plain": [
       "3.3"
      ]
     },
     "execution_count": 25,
     "metadata": {},
     "output_type": "execute_result"
    }
   ],
   "source": [
    "35/15.\n",
    "7/4.\n",
    "33/10."
   ]
  },
  {
   "cell_type": "code",
   "execution_count": 26,
   "metadata": {},
   "outputs": [
    {
     "data": {
      "text/plain": [
       "Jdays           115\n",
       "variable    LCH_50%\n",
       "value       7.03175\n",
       "Type             NC\n",
       "dtype: object"
      ]
     },
     "execution_count": 26,
     "metadata": {},
     "output_type": "execute_result"
    }
   ],
   "source": [
    "lch_all.loc[(lch_all['variable']==\"LCH_50%\") & (lch_all['Type']==\"NC\")].max()"
   ]
  },
  {
   "cell_type": "code",
   "execution_count": 27,
   "metadata": {},
   "outputs": [
    {
     "data": {
      "text/plain": [
       "Jdays           115\n",
       "variable    LCH_50%\n",
       "value       7.03175\n",
       "Type             NC\n",
       "dtype: object"
      ]
     },
     "execution_count": 27,
     "metadata": {},
     "output_type": "execute_result"
    }
   ],
   "source": [
    "lch_all.loc[(lch_all['variable']==\"LCH_50%\") & (lch_all['Type']==\"NC\")].max()"
   ]
  },
  {
   "cell_type": "code",
   "execution_count": 28,
   "metadata": {},
   "outputs": [],
   "source": [
    "vol_nc = vol_all.loc[(vol_all['variable']==\"VOL_50%\") & (vol_all['Type']==\"NC\")].max()[2]\n",
    "vol_wc = vol_all.loc[(vol_all['variable']==\"VOL_50%\") & (vol_all['Type']==\"WC\")].max()[2]"
   ]
  },
  {
   "cell_type": "code",
   "execution_count": 29,
   "metadata": {},
   "outputs": [
    {
     "data": {
      "text/plain": [
       "2.161256455188439"
      ]
     },
     "execution_count": 29,
     "metadata": {},
     "output_type": "execute_result"
    }
   ],
   "source": [
    "vol_nc/vol_wc"
   ]
  },
  {
   "cell_type": "code",
   "execution_count": 30,
   "metadata": {},
   "outputs": [
    {
     "data": {
      "text/plain": [
       "323.2"
      ]
     },
     "execution_count": 30,
     "metadata": {},
     "output_type": "execute_result"
    }
   ],
   "source": [
    "34.95 + 59.95 + 39.95 + 79.95 + 79.95 + 28.45"
   ]
  },
  {
   "cell_type": "code",
   "execution_count": null,
   "metadata": {},
   "outputs": [],
   "source": []
  }
 ],
 "metadata": {
  "kernelspec": {
   "display_name": "bunny",
   "language": "python",
   "name": "bunny"
  },
  "language_info": {
   "codemirror_mode": {
    "name": "ipython",
    "version": 2
   },
   "file_extension": ".py",
   "mimetype": "text/x-python",
   "name": "python",
   "nbconvert_exporter": "python",
   "pygments_lexer": "ipython2",
   "version": "2.7.14"
  }
 },
 "nbformat": 4,
 "nbformat_minor": 2
}
