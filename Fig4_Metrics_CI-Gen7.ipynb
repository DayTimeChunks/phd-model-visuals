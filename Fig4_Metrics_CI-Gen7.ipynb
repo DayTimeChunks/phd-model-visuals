{
 "cells": [
  {
   "cell_type": "code",
   "execution_count": 1,
   "metadata": {},
   "outputs": [],
   "source": [
    "path = '../phd-model-process/'\n",
    "\n",
    "import pandas as pd\n",
    "pd.options.mode.chained_assignment = None  # default='warn'\n",
    "import numpy as np\n",
    "import scipy as sp\n",
    "import scipy.stats as st\n",
    "\n",
    "\n",
    "from helpers_pd import *\n",
    "\n",
    "# Plotting\n",
    "import seaborn as sns\n",
    "sns.set()\n",
    "# import seaborn as sns; sns.set(style=\"ticks\", color_codes=True)\n",
    "# sns.set(style=\"darkgrid\")\n",
    "import matplotlib.pyplot as plt\n",
    "# plt.style.use('seaborn-white')"
   ]
  },
  {
   "cell_type": "markdown",
   "metadata": {},
   "source": [
    "# Selecting indexes"
   ]
  },
  {
   "cell_type": "code",
   "execution_count": 51,
   "metadata": {},
   "outputs": [],
   "source": [
    "df1 = get_data(gen=\"Gen1\")\n",
    "df6 = get_data(gen=\"Gen6\")\n",
    "df7 = get_data(gen=\"Gen7\")"
   ]
  },
  {
   "cell_type": "code",
   "execution_count": 52,
   "metadata": {},
   "outputs": [],
   "source": [
    "df1[\"Gen\"] = \"Gen1\"\n",
    "df6[\"Gen\"] = \"Gen6\"\n",
    "df7[\"Gen\"] = \"Gen7\"\n",
    "# df4[\"Gen\"] = \"Gen4\"\n",
    "# df2 = pd.concat([df3, df4]) \n",
    "df = pd.concat([df1, df6, df7])"
   ]
  },
  {
   "cell_type": "code",
   "execution_count": 53,
   "metadata": {},
   "outputs": [],
   "source": [
    "# print(len(df3), len(df4))"
   ]
  },
  {
   "cell_type": "code",
   "execution_count": 54,
   "metadata": {},
   "outputs": [],
   "source": [
    "# 'LHS_s2fix7/10/' in list(df.index)\n",
    "df['Name'] = df['Gen'] + \"/\" + df.index\n",
    "df = df.set_index('Name')"
   ]
  },
  {
   "cell_type": "code",
   "execution_count": 58,
   "metadata": {},
   "outputs": [],
   "source": [
    "df['k_d'] = df.loc[:, 'k_oc'] * df.loc[:,'f_oc']\n",
    "# Combined outlet and transects KGE Concentrations and d13C\n",
    "df['KGE-SM'] = (df.loc[:, 'KGE-CONC_out'] + df.loc[:, 'KGE-CONC-tra'])/2.0  \n",
    "df['KGE-d13C'] = (df.loc[:, 'KGE-d13C_out'] + df.loc[:, 'KGE-d13C-tra'])/2.0"
   ]
  },
  {
   "cell_type": "code",
   "execution_count": 59,
   "metadata": {},
   "outputs": [
    {
     "name": "stdout",
     "output_type": "stream",
     "text": [
      "Maximum Conc.\n",
      "(0.8071323424319412, 0.41124351408871074, 0.5823985899254127)\n",
      "Maximum d13C\n",
      "(0.9031088875320538, 0.70432567774303, 0.7895610427604134)\n"
     ]
    }
   ],
   "source": [
    "print(\"Maximum Conc.\")\n",
    "print(df['KGE-CONC-tra'].max(), df['KGE-CONC_out'].max(), df['KGE-SM'].max()) \n",
    "print(\"Maximum d13C\")\n",
    "print(df['KGE-d13C-tra'].max(), df['KGE-d13C_out'].max(), df['KGE-d13C'].max()) "
   ]
  },
  {
   "cell_type": "code",
   "execution_count": 60,
   "metadata": {},
   "outputs": [],
   "source": [
    "dfs = df[['Model',\n",
    "          'dt_50_ref',\n",
    "          'Gen',\n",
    "#           'k_d',\n",
    "#           'epsilon_iso',\n",
    "          'KGE-SM', 'KGE-d13C'\n",
    "          ]]"
   ]
  },
  {
   "cell_type": "code",
   "execution_count": 61,
   "metadata": {},
   "outputs": [
    {
     "name": "stdout",
     "output_type": "stream",
     "text": [
      "(15500, 820, 342)\n"
     ]
    },
    {
     "data": {
      "text/html": [
       "<div>\n",
       "<style scoped>\n",
       "    .dataframe tbody tr th:only-of-type {\n",
       "        vertical-align: middle;\n",
       "    }\n",
       "\n",
       "    .dataframe tbody tr th {\n",
       "        vertical-align: top;\n",
       "    }\n",
       "\n",
       "    .dataframe thead th {\n",
       "        text-align: right;\n",
       "    }\n",
       "</style>\n",
       "<table border=\"1\" class=\"dataframe\">\n",
       "  <thead>\n",
       "    <tr style=\"text-align: right;\">\n",
       "      <th></th>\n",
       "      <th>Model</th>\n",
       "      <th>dt_50_ref</th>\n",
       "      <th>Gen</th>\n",
       "      <th>KGE-SM</th>\n",
       "      <th>KGE-d13C</th>\n",
       "      <th>Constraint</th>\n",
       "    </tr>\n",
       "    <tr>\n",
       "      <th>Name</th>\n",
       "      <th></th>\n",
       "      <th></th>\n",
       "      <th></th>\n",
       "      <th></th>\n",
       "      <th></th>\n",
       "      <th></th>\n",
       "    </tr>\n",
       "  </thead>\n",
       "  <tbody>\n",
       "    <tr>\n",
       "      <th>Gen7/LHS_sc1var46/22/</th>\n",
       "      <td>var</td>\n",
       "      <td>47.389159</td>\n",
       "      <td>Gen7</td>\n",
       "      <td>0.171039</td>\n",
       "      <td>0.628592</td>\n",
       "      <td>WC</td>\n",
       "    </tr>\n",
       "    <tr>\n",
       "      <th>Gen7/LHS_sc1var46/27/</th>\n",
       "      <td>var</td>\n",
       "      <td>25.643401</td>\n",
       "      <td>Gen7</td>\n",
       "      <td>0.333464</td>\n",
       "      <td>0.668582</td>\n",
       "      <td>WC</td>\n",
       "    </tr>\n",
       "    <tr>\n",
       "      <th>Gen7/LHS_sc1var46/35/</th>\n",
       "      <td>var</td>\n",
       "      <td>37.086899</td>\n",
       "      <td>Gen7</td>\n",
       "      <td>0.066253</td>\n",
       "      <td>0.604504</td>\n",
       "      <td>WC</td>\n",
       "    </tr>\n",
       "    <tr>\n",
       "      <th>Gen7/LHS_sc1var46/36/</th>\n",
       "      <td>var</td>\n",
       "      <td>41.308216</td>\n",
       "      <td>Gen7</td>\n",
       "      <td>0.051068</td>\n",
       "      <td>0.615616</td>\n",
       "      <td>WC</td>\n",
       "    </tr>\n",
       "    <tr>\n",
       "      <th>Gen7/LHS_sc1var47/12/</th>\n",
       "      <td>var</td>\n",
       "      <td>48.108458</td>\n",
       "      <td>Gen7</td>\n",
       "      <td>0.248031</td>\n",
       "      <td>0.614798</td>\n",
       "      <td>WC</td>\n",
       "    </tr>\n",
       "  </tbody>\n",
       "</table>\n",
       "</div>"
      ],
      "text/plain": [
       "                      Model  dt_50_ref   Gen    KGE-SM  KGE-d13C Constraint\n",
       "Name                                                                       \n",
       "Gen7/LHS_sc1var46/22/   var  47.389159  Gen7  0.171039  0.628592         WC\n",
       "Gen7/LHS_sc1var46/27/   var  25.643401  Gen7  0.333464  0.668582         WC\n",
       "Gen7/LHS_sc1var46/35/   var  37.086899  Gen7  0.066253  0.604504         WC\n",
       "Gen7/LHS_sc1var46/36/   var  41.308216  Gen7  0.051068  0.615616         WC\n",
       "Gen7/LHS_sc1var47/12/   var  48.108458  Gen7  0.248031  0.614798         WC"
      ]
     },
     "execution_count": 61,
     "metadata": {},
     "output_type": "execute_result"
    }
   ],
   "source": [
    "cst = 0.60\n",
    "dfs['Constraint'] = dfs.apply(WithIsoKGE, args=(cst,), axis=1)\n",
    "# Filter\n",
    "ff = dfs.loc[(dfs['KGE-SM'] > 0.40)] # Try 25 with more data points\n",
    "ff_c = dfs.loc[(dfs['KGE-SM'] > 0.0) &(dfs['KGE-d13C'] > cst)]\n",
    "print(len(dfs), len(ff), len(ff_c))\n",
    "ff.tail()\n",
    "ff_c.tail()"
   ]
  },
  {
   "cell_type": "code",
   "execution_count": 62,
   "metadata": {},
   "outputs": [
    {
     "name": "stdout",
     "output_type": "stream",
     "text": [
      "(797, 36)\n",
      "(797, 36)\n"
     ]
    }
   ],
   "source": [
    "nc = ff.index[(ff['Constraint'] == 'NC')].tolist() #[0]\n",
    "wc = ff_c.index[(ff_c['Constraint'] == 'WC') & (ff_c['Gen'] == 'Gen7')].tolist() #[0]\n",
    "print(len(nc), len(wc))\n",
    "\n",
    "# nc = nc[0:len(wc)]\n",
    "\n",
    "print(len(nc), len(wc))"
   ]
  },
  {
   "cell_type": "markdown",
   "metadata": {},
   "source": [
    "# Cumulative applied mass (grams)\n",
    "\n",
    "All data frames have this time series, and does not change"
   ]
  },
  {
   "cell_type": "code",
   "execution_count": 63,
   "metadata": {},
   "outputs": [],
   "source": [
    "# NC\n",
    "app_nc = pd.read_table(path + nc[0] + \"resM_accAPP.tss\", \n",
    "                   skiprows=4, delim_whitespace=True,\n",
    "                                names=['Jdays', 'app'],\n",
    "                                header=None)\n",
    "app_nc['Capp'] = app_nc['app'].cumsum()\n",
    "\n",
    "# WC\n",
    "app_wc = pd.read_table(path + wc[0] + \"resM_accAPP.tss\", \n",
    "                   skiprows=4, delim_whitespace=True,\n",
    "                                names=['Jdays', 'app'],\n",
    "                                header=None)\n",
    "app_wc['Capp'] = app_wc['app'].cumsum()\n"
   ]
  },
  {
   "cell_type": "markdown",
   "metadata": {},
   "source": [
    "# Extracting time series"
   ]
  },
  {
   "cell_type": "code",
   "execution_count": 64,
   "metadata": {},
   "outputs": [],
   "source": [
    "def get_sets(name_list, filename, vname):\n",
    "    sets = []\n",
    "    for i in range(len(name_list)):\n",
    "        # Define variable name\n",
    "        series_name = vname + name_list[i][3:] # Variable + set's name\n",
    "        # Get sim TSS\n",
    "        sim = pd.read_table(path + name_list[i] + filename, \n",
    "                       skiprows=4, delim_whitespace=True,\n",
    "                                    names=['Jdays', 'sim'],\n",
    "                                    header=None\n",
    "                      )\n",
    "        if vname is not \"PER\":\n",
    "            sim[series_name] = sim['sim'].cumsum()\n",
    "            \n",
    "            if vname is \"VOL\":\n",
    "                sim[series_name] *= 100\n",
    "                \n",
    "            # TODO: Add heavy fraction for mass exports\n",
    "#             if vname == \"EXP\":\n",
    "#                 filename = \"resM_EXP_heavy_g.tss\"\n",
    "#                 h = pd.read_table(name_list[i] + filename, \n",
    "#                        skiprows=4, delim_whitespace=True,\n",
    "#                                     names=['Jdays', 'simh'],\n",
    "#                                     header=None)\n",
    "                # Cumsum, Merge and add heavy \n",
    "    \n",
    "        else:\n",
    "            # TODO: Add heavy fraction for persistent mass\n",
    "            sim[series_name] = sim['sim']\n",
    "            \n",
    "        sim = sim[['Jdays', series_name]]\n",
    "        sim = sim[0:121]\n",
    "        sets.append(sim)\n",
    "    df = reduce(lambda left, right: pd.merge(left,right,on='Jdays'), sets)\n",
    "    return df"
   ]
  },
  {
   "cell_type": "code",
   "execution_count": 65,
   "metadata": {},
   "outputs": [
    {
     "data": {
      "text/plain": [
       "'Gen1/LHS_be1fix3/128/'"
      ]
     },
     "execution_count": 65,
     "metadata": {},
     "output_type": "execute_result"
    }
   ],
   "source": [
    "nc[0]"
   ]
  },
  {
   "cell_type": "code",
   "execution_count": 66,
   "metadata": {},
   "outputs": [],
   "source": [
    "nc_deg = get_sets(nc, \"resM_accDEGz0.tss\", \"DEG\")\n",
    "wc_deg = get_sets(wc, \"resM_accDEGz0.tss\", \"DEG\")\n",
    "\n",
    "nc_per = get_sets(nc, \"resM_light_real_z0.tss\", \"PER\")\n",
    "wc_per = get_sets(wc, \"resM_light_real_z0.tss\", \"PER\")\n",
    "\n",
    "nc_exp = get_sets(nc, \"resM_EXP_light_g.tss\", \"EXP\")\n",
    "wc_exp = get_sets(wc, \"resM_EXP_light_g.tss\", \"EXP\")\n",
    "\n",
    "nc_lch = get_sets(nc, \"resM_accLCHz0.tss\", \"LCH\")\n",
    "wc_lch = get_sets(wc, \"resM_accLCHz0.tss\", \"LCH\")\n",
    "\n",
    "nc_age = get_sets(nc, \"resM_accAGED_DEGz0.tss\", \"AGE\")\n",
    "wc_age = get_sets(wc, \"resM_accAGED_DEGz0.tss\", \"AGE\")\n",
    "\n",
    "nc_vol = get_sets(nc, \"resM_accVOLATz0.tss\", \"VOL\")\n",
    "wc_vol = get_sets(wc, \"resM_accVOLATz0.tss\", \"VOL\")"
   ]
  },
  {
   "cell_type": "code",
   "execution_count": 67,
   "metadata": {},
   "outputs": [
    {
     "name": "stdout",
     "output_type": "stream",
     "text": [
      "(121, 121)\n"
     ]
    }
   ],
   "source": [
    "# nc_deg.head()\n",
    "# wc_deg.head()\n",
    "print(len(nc_deg), len(wc_deg))"
   ]
  },
  {
   "cell_type": "markdown",
   "metadata": {},
   "source": [
    "# Confidence interval calc."
   ]
  },
  {
   "cell_type": "code",
   "execution_count": 68,
   "metadata": {},
   "outputs": [],
   "source": [
    "def get_stats_df(df):\n",
    "    n = len(np.array(df.iloc[0,1:]))\n",
    "    df['mean'] = df.iloc[:,1:n+1].mean(axis=1)\n",
    "    df['min'] = df.iloc[:,1:n+1].min(axis=1)\n",
    "    df['max'] = df.iloc[:,1:n+1].max(axis=1)\n",
    "    df['sem'] = df.iloc[:,1:n+1].sem(axis=1)\n",
    "    df['sd'] = df.iloc[:,1:n+1].std(axis=1)\n",
    "    df['high'] = df['mean'] + 2.*df['sd']\n",
    "    df['low'] = df['mean'] - 2.*df['sd']\n",
    "#     df['high'] = df.apply(get_ci, args=(n, 0.95, True), axis=1)\n",
    "#     df['low'] = df.apply(get_ci, args=(n, 0.95, False), axis=1)\n",
    "    df['low'] = df.apply(check_negative, axis=1)\n",
    "    return df[['Jdays', 'mean', 'sd', 'high', 'low', 'max', 'min']]"
   ]
  },
  {
   "cell_type": "code",
   "execution_count": 69,
   "metadata": {},
   "outputs": [],
   "source": [
    "metrics = ['DEG', 'PER', 'EXP', 'LCH', 'AGE', 'VOL']\n",
    "nc_stat = [get_stats_df(nc_deg), get_stats_df(nc_per), \n",
    "           get_stats_df(nc_exp), get_stats_df(nc_lch), \n",
    "           get_stats_df(nc_age), get_stats_df(nc_vol)]\n",
    "\n",
    "wc_stat = [get_stats_df(wc_deg), get_stats_df(wc_per), \n",
    "           get_stats_df(wc_exp), get_stats_df(wc_lch),\n",
    "           get_stats_df(wc_age), get_stats_df(wc_vol)]"
   ]
  },
  {
   "cell_type": "code",
   "execution_count": 70,
   "metadata": {},
   "outputs": [
    {
     "name": "stdout",
     "output_type": "stream",
     "text": [
      "(121, 121)\n"
     ]
    }
   ],
   "source": [
    "print(len(nc_stat[0]), len(wc_stat[0]))\n",
    "# nc_stat[0].tail()\n",
    "# wc_stat[2].tail()"
   ]
  },
  {
   "cell_type": "code",
   "execution_count": 71,
   "metadata": {},
   "outputs": [],
   "source": [
    "def pct_df(df, metric, cst='WC', high='high', low='low'):\n",
    "    \n",
    "    if cst == 'WC':\n",
    "        sim = pd.merge(app_wc, df, how='inner', on='Jdays')\n",
    "    else:\n",
    "        sim = pd.merge(app_nc, df, how='inner', on='Jdays')\n",
    "#     sim = pd.merge(app_wc, df, how='inner', on='Jdays')\n",
    "    \n",
    "    prct = 100.\n",
    "    sim[str(metric + '_95%')] = prct*(sim[high]/sim['Capp'])\n",
    "    sim[str(metric + '_50%')] = prct*(sim['mean']/sim['Capp'])\n",
    "    sim[str(metric + '_05%')] = prct*(sim[low]/sim['Capp'])\n",
    "    \n",
    "    sim = sim.loc[5:, ] # Get rid of divisions by zero\n",
    "        \n",
    "    sim = sim[['Jdays', str(metric + '_95%'), str(metric + '_50%'), str(metric +'_05%')]]       \n",
    "    sim = pd.melt(sim, id_vars=['Jdays'], \n",
    "                  value_vars=[str(metric + '_95%'), str(metric + '_50%'), str(metric +'_05%')])\n",
    "    sim['Type'] = sim.apply(lambda row: ModelType(row, cst),axis=1)\n",
    "    \n",
    "    sim['Jdays'] = sim['Jdays']-171 \n",
    "    return sim"
   ]
  },
  {
   "cell_type": "code",
   "execution_count": 72,
   "metadata": {},
   "outputs": [],
   "source": [
    "# sim = pd.merge(app, nc_stat[0], how='inner', on='Jdays')\n",
    "\n",
    "# high = 'max'\n",
    "# low= 'min'\n",
    "# metric = 'DEG'\n",
    "\n",
    "\n",
    "# print(len(sim))\n",
    "# sim.head(10)"
   ]
  },
  {
   "cell_type": "code",
   "execution_count": 73,
   "metadata": {},
   "outputs": [],
   "source": [
    "label_nc = 'NC'\n",
    "label_wc = 'WC'\n",
    "\n",
    "top=\"high\"\n",
    "bottom=\"low\"\n",
    "\n",
    "deg =  [pct_df(nc_stat[0], 'DEG', cst=label_nc , high=top, low=bottom),\n",
    "        pct_df(wc_stat[0], 'DEG', cst=label_wc, high=top, low=bottom)]\n",
    "\n",
    "deg_all = pd.concat(deg) \n",
    "\n",
    "per =  [pct_df(nc_stat[1], 'PER', cst=label_nc , high=top, low=bottom),\n",
    "        pct_df(wc_stat[1], 'PER', cst=label_wc, high=top, low=bottom)]\n",
    "\n",
    "per_all = pd.concat(per) \n",
    "\n",
    "exp =  [pct_df(nc_stat[2], 'EXP', cst=label_nc , high=top, low=bottom),\n",
    "        pct_df(wc_stat[2], 'EXP', cst=label_wc, high=top, low=bottom)]\n",
    "\n",
    "exp_all = pd.concat(exp) \n",
    "\n",
    "lch =  [pct_df(nc_stat[3], 'LCH', cst=label_nc , high=top, low=bottom),\n",
    "        pct_df(wc_stat[3], 'LCH', cst=label_wc, high=top, low=bottom)]\n",
    "\n",
    "lch_all = pd.concat(lch)\n",
    "\n",
    "age =  [pct_df(nc_stat[4], 'AGE', cst=label_nc , high=top, low=bottom),\n",
    "        pct_df(wc_stat[4], 'AGE', cst=label_wc, high=top, low=bottom)]\n",
    "\n",
    "age_all = pd.concat(age)\n",
    "\n",
    "vol =  [pct_df(nc_stat[5], 'VOL', cst=label_nc , high=top, low=bottom),\n",
    "        pct_df(wc_stat[5], 'VOL', cst=label_wc, high=top, low=bottom)]\n",
    "\n",
    "vol_all = pd.concat(vol)"
   ]
  },
  {
   "cell_type": "code",
   "execution_count": 74,
   "metadata": {},
   "outputs": [
    {
     "name": "stdout",
     "output_type": "stream",
     "text": [
      "(348, 348)\n"
     ]
    },
    {
     "data": {
      "text/html": [
       "<div>\n",
       "<style scoped>\n",
       "    .dataframe tbody tr th:only-of-type {\n",
       "        vertical-align: middle;\n",
       "    }\n",
       "\n",
       "    .dataframe tbody tr th {\n",
       "        vertical-align: top;\n",
       "    }\n",
       "\n",
       "    .dataframe thead th {\n",
       "        text-align: right;\n",
       "    }\n",
       "</style>\n",
       "<table border=\"1\" class=\"dataframe\">\n",
       "  <thead>\n",
       "    <tr style=\"text-align: right;\">\n",
       "      <th></th>\n",
       "      <th>Jdays</th>\n",
       "      <th>variable</th>\n",
       "      <th>value</th>\n",
       "      <th>Type</th>\n",
       "    </tr>\n",
       "  </thead>\n",
       "  <tbody>\n",
       "    <tr>\n",
       "      <th>0</th>\n",
       "      <td>0</td>\n",
       "      <td>VOL_95%</td>\n",
       "      <td>0.055564</td>\n",
       "      <td>WC</td>\n",
       "    </tr>\n",
       "    <tr>\n",
       "      <th>1</th>\n",
       "      <td>1</td>\n",
       "      <td>VOL_95%</td>\n",
       "      <td>0.110585</td>\n",
       "      <td>WC</td>\n",
       "    </tr>\n",
       "    <tr>\n",
       "      <th>2</th>\n",
       "      <td>2</td>\n",
       "      <td>VOL_95%</td>\n",
       "      <td>0.164937</td>\n",
       "      <td>WC</td>\n",
       "    </tr>\n",
       "    <tr>\n",
       "      <th>3</th>\n",
       "      <td>3</td>\n",
       "      <td>VOL_95%</td>\n",
       "      <td>0.218755</td>\n",
       "      <td>WC</td>\n",
       "    </tr>\n",
       "    <tr>\n",
       "      <th>4</th>\n",
       "      <td>4</td>\n",
       "      <td>VOL_95%</td>\n",
       "      <td>0.271444</td>\n",
       "      <td>WC</td>\n",
       "    </tr>\n",
       "  </tbody>\n",
       "</table>\n",
       "</div>"
      ],
      "text/plain": [
       "   Jdays variable     value Type\n",
       "0      0  VOL_95%  0.055564   WC\n",
       "1      1  VOL_95%  0.110585   WC\n",
       "2      2  VOL_95%  0.164937   WC\n",
       "3      3  VOL_95%  0.218755   WC\n",
       "4      4  VOL_95%  0.271444   WC"
      ]
     },
     "execution_count": 74,
     "metadata": {},
     "output_type": "execute_result"
    }
   ],
   "source": [
    "print(len(per[0]), len(vol[1]))\n",
    "vol[1].head()\n",
    "# deg[1][348/2:]"
   ]
  },
  {
   "cell_type": "markdown",
   "metadata": {},
   "source": [
    "## Get arrays for fill_between()"
   ]
  },
  {
   "cell_type": "code",
   "execution_count": 75,
   "metadata": {},
   "outputs": [
    {
     "name": "stdout",
     "output_type": "stream",
     "text": [
      "116\n"
     ]
    }
   ],
   "source": [
    "time = np.asarray(deg_all.loc[(deg_all['variable']==\"DEG_95%\") & (deg_all['Type'] == label_wc)]['Jdays'])\n",
    "print(len(time)) # time[0:5]"
   ]
  },
  {
   "cell_type": "code",
   "execution_count": 76,
   "metadata": {},
   "outputs": [],
   "source": [
    "# Deg\n",
    "deg_max_wc = np.asarray(deg_all.loc[(deg_all['variable']==\"DEG_95%\") & (deg_all['Type'] == label_wc)]['value'])\n",
    "deg_min_wc = np.asarray(deg_all.loc[(deg_all['variable']==\"DEG_05%\") & (deg_all['Type'] == label_wc)]['value'])\n",
    "deg_ave_wc = np.asarray(deg_all.loc[(deg_all['variable']==\"DEG_50%\") & (deg_all['Type'] == label_wc)]['value'])\n",
    "\n",
    "deg_max_nc = np.asarray(deg_all.loc[(deg_all['variable']==\"DEG_95%\") & (deg_all['Type'] == label_nc)]['value'])\n",
    "deg_min_nc = np.asarray(deg_all.loc[(deg_all['variable']==\"DEG_05%\") & (deg_all['Type'] == label_nc)]['value'])\n",
    "deg_ave_nc = np.asarray(deg_all.loc[(deg_all['variable']==\"DEG_50%\") & (deg_all['Type'] == label_nc)]['value'])\n",
    "\n",
    "# Per\n",
    "per_max_wc = np.asarray(per_all.loc[(per_all['variable']==\"PER_95%\") & (per_all['Type'] == label_wc)]['value'])\n",
    "per_min_wc = np.asarray(per_all.loc[(per_all['variable']==\"PER_05%\") & (per_all['Type'] == label_wc)]['value'])\n",
    "per_ave_wc = np.asarray(per_all.loc[(per_all['variable']==\"PER_50%\") & (per_all['Type'] == label_wc)]['value'])\n",
    "\n",
    "per_max_nc = np.asarray(per_all.loc[(per_all['variable']==\"PER_95%\") & (per_all['Type'] == label_nc)]['value'])\n",
    "per_min_nc = np.asarray(per_all.loc[(per_all['variable']==\"PER_05%\") & (per_all['Type'] == label_nc)]['value'])\n",
    "per_ave_nc = np.asarray(per_all.loc[(per_all['variable']==\"PER_50%\") & (per_all['Type'] == label_nc)]['value'])\n",
    "\n",
    "# Exp\n",
    "exp_max_wc = np.asarray(exp_all.loc[(exp_all['variable']==\"EXP_95%\") & (exp_all['Type'] == label_wc)]['value'])\n",
    "exp_min_wc = np.asarray(exp_all.loc[(exp_all['variable']==\"EXP_05%\") & (exp_all['Type'] == label_wc)]['value'])\n",
    "exp_ave_wc = np.asarray(exp_all.loc[(exp_all['variable']==\"EXP_50%\") & (exp_all['Type'] == label_wc)]['value'])\n",
    "\n",
    "exp_max_nc = np.asarray(exp_all.loc[(exp_all['variable']==\"EXP_95%\") & (exp_all['Type'] == label_nc)]['value'])\n",
    "exp_min_nc = np.asarray(exp_all.loc[(exp_all['variable']==\"EXP_05%\") & (exp_all['Type'] == label_nc)]['value'])\n",
    "exp_ave_nc = np.asarray(exp_all.loc[(exp_all['variable']==\"EXP_50%\") & (exp_all['Type'] == label_nc)]['value'])\n",
    "\n",
    "# LCH\n",
    "lch_max_wc = np.asarray(lch_all.loc[(lch_all['variable']==\"LCH_95%\") & (lch_all['Type'] == label_wc)]['value'])\n",
    "lch_min_wc = np.asarray(lch_all.loc[(lch_all['variable']==\"LCH_05%\") & (lch_all['Type'] == label_wc)]['value'])\n",
    "lch_ave_wc = np.asarray(lch_all.loc[(lch_all['variable']==\"LCH_50%\") & (lch_all['Type'] == label_wc)]['value'])\n",
    "\n",
    "lch_max_nc = np.asarray(lch_all.loc[(lch_all['variable']==\"LCH_95%\") & (lch_all['Type'] == label_nc)]['value'])\n",
    "lch_min_nc = np.asarray(lch_all.loc[(lch_all['variable']==\"LCH_05%\") & (lch_all['Type'] == label_nc)]['value'])\n",
    "lch_ave_nc = np.asarray(lch_all.loc[(lch_all['variable']==\"LCH_50%\") & (lch_all['Type'] == label_nc)]['value'])\n",
    "\n",
    "# Age\n",
    "age_max_wc = np.asarray(age_all.loc[(age_all['variable']==\"AGE_95%\") & (age_all['Type'] == label_wc)]['value'])\n",
    "age_min_wc = np.asarray(age_all.loc[(age_all['variable']==\"AGE_05%\") & (age_all['Type'] == label_wc)]['value'])\n",
    "age_ave_wc = np.asarray(age_all.loc[(age_all['variable']==\"AGE_50%\") & (age_all['Type'] == label_wc)]['value'])\n",
    "\n",
    "age_max_nc = np.asarray(age_all.loc[(age_all['variable']==\"AGE_95%\") & (age_all['Type'] == label_nc)]['value'])\n",
    "age_min_nc = np.asarray(age_all.loc[(age_all['variable']==\"AGE_05%\") & (age_all['Type'] == label_nc)]['value'])\n",
    "age_ave_nc = np.asarray(age_all.loc[(age_all['variable']==\"AGE_50%\") & (age_all['Type'] == label_nc)]['value'])\n",
    "\n",
    "# Vol\n",
    "vol_max_wc = np.asarray(vol_all.loc[(vol_all['variable']==\"VOL_95%\") & (vol_all['Type'] == label_wc)]['value'])\n",
    "vol_min_wc = np.asarray(vol_all.loc[(vol_all['variable']==\"VOL_05%\") & (vol_all['Type'] == label_wc)]['value'])\n",
    "vol_ave_wc = np.asarray(vol_all.loc[(vol_all['variable']==\"VOL_50%\") & (vol_all['Type'] == label_wc)]['value'])\n",
    "\n",
    "vol_max_nc = np.asarray(vol_all.loc[(vol_all['variable']==\"VOL_95%\") & (vol_all['Type'] == label_nc)]['value'])\n",
    "vol_min_nc = np.asarray(vol_all.loc[(vol_all['variable']==\"VOL_05%\") & (vol_all['Type'] == label_nc)]['value'])\n",
    "vol_ave_nc = np.asarray(vol_all.loc[(vol_all['variable']==\"VOL_50%\") & (vol_all['Type'] == label_nc)]['value'])"
   ]
  },
  {
   "cell_type": "code",
   "execution_count": 77,
   "metadata": {},
   "outputs": [
    {
     "name": "stdout",
     "output_type": "stream",
     "text": [
      "(116, 116, 116)\n",
      "(116, 116, 116)\n",
      "(116, 116, 116)\n",
      "(116, 116, 116)\n",
      "(116, 116, 116)\n",
      "(116, 116, 116)\n"
     ]
    }
   ],
   "source": [
    "print(len(time), len(deg_max_wc), len(deg_min_wc))\n",
    "print(len(time), len(deg_max_nc), len(deg_min_nc))\n",
    "print(len(time), len(exp_max_nc), len(exp_min_nc))\n",
    "print(len(time), len(lch_max_nc), len(lch_min_nc))\n",
    "print(len(time), len(age_max_nc), len(age_min_nc))\n",
    "print(len(time), len(vol_max_nc), len(vol_min_nc))"
   ]
  },
  {
   "cell_type": "code",
   "execution_count": 78,
   "metadata": {},
   "outputs": [
    {
     "data": {
      "image/png": "[encoded data removed]",
      "text/plain": [
       "<Figure size 504x523.44 with 6 Axes>"
      ]
     },
     "metadata": {},
     "output_type": "display_data"
    }
   ],
   "source": [
    "# sns.set(rc={'figure.figsize':(11.7, 8.27)})\n",
    "# ES&T max width, 1 column = 3.25in, 2-col = 7in \n",
    "sns.set_context(\"paper\")\n",
    "sns.set(rc={'figure.figsize':(7., 7.27)}) # Width, height, inches\n",
    "\n",
    "fig, axes = plt.subplots(3, 2, sharex=True, sharey=False)\n",
    "\n",
    "ax1 = axes[0,0]\n",
    "ax2 = axes[0,1]\n",
    "ax3 = axes[1,0]\n",
    "ax4 = axes[1,1]\n",
    "ax5 = axes[2,0]\n",
    "ax6 = axes[2,1]\n",
    "\n",
    "# Degradation\n",
    "# sns.lineplot(x=\"Jdays\", y=\"value\", data=deg_all.loc[deg_all['variable']==\"DEG_95%\"], hue=\"Type\", ax=ax1, legend=False)\n",
    "g1 = sns.lineplot(x=\"Jdays\", y=\"value\", data=deg_all.loc[deg_all['variable']==\"DEG_50%\"], hue=\"Type\", ci=None, ax=axes[0,0], legend=False)\n",
    "# sns.lineplot(x=\"Jdays\", y=\"value\", data=deg_all.loc[deg_all['variable']==\"DEG_05%\"], hue=\"Type\", ci=None, ax=ax1, legend=False)\n",
    "\n",
    "ax1.fill_between(time, deg_max_nc, deg_min_nc, alpha=0.5)\n",
    "ax1.fill_between(time, deg_max_wc, deg_min_wc, alpha=0.5)\n",
    "ax1.set_ylabel(\"Deg. %\")\n",
    "\n",
    "# Persistence\n",
    "# sns.lineplot(x=\"Jdays\", y=\"value\", data=per_all.loc[per_all['variable']==\"PER_95%\"], hue=\"Type\", ci=None, ax=ax2, legend=False)\n",
    "g2 = sns.lineplot(x=\"Jdays\", y=\"value\", data=per_all.loc[per_all['variable']==\"PER_50%\"], hue=\"Type\", ci=None, ax=ax2, legend=False)\n",
    "# sns.lineplot(x=\"Jdays\", y=\"value\", data=per_all.loc[per_all['variable']==\"PER_05%\"], hue=\"Type\", ci=None, ax=ax2, legend=False)\n",
    "ax2.fill_between(time, per_max_nc, per_min_nc, alpha=0.5)\n",
    "ax2.fill_between(time, per_max_wc, per_min_wc, alpha=0.5)\n",
    "ax2.set_ylabel(\"Pers. %\")\n",
    "\n",
    "# Export\n",
    "# sns.lineplot(x=\"Jdays\", y=\"value\", data=exp_all.loc[exp_all['variable']==\"EXP_95%\"], hue=\"Type\", ci=None, ax=ax3, legend=False)\n",
    "g3 = sns.lineplot(x=\"Jdays\", y=\"value\", data=exp_all.loc[exp_all['variable']==\"EXP_50%\"], hue=\"Type\", ci=None, ax=ax3, legend=False)\n",
    "# sns.lineplot(x=\"Jdays\", y=\"value\", data=exp_all.loc[exp_all['variable']==\"EXP_05%\"], hue=\"Type\", ci=None, ax=ax3, legend=False)\n",
    "\n",
    "ax3.fill_between(time, exp_max_nc, exp_min_nc, alpha=0.5)\n",
    "ax3.fill_between(time, exp_max_wc, exp_min_wc, alpha=0.5)\n",
    "ax3.set_ylabel(\"Exp. %\")\n",
    "ax3.set_xlabel(\"Days after 1st App.\")\n",
    "\n",
    "# Leaching\n",
    "# sns.lineplot(x=\"Jdays\", y=\"value\", data=exp_all.loc[exp_all['variable']==\"EXP_95%\"], hue=\"Type\", ci=None, ax=ax3, legend=False)\n",
    "g4 = sns.lineplot(x=\"Jdays\", y=\"value\", data=lch_all.loc[lch_all['variable']==\"LCH_50%\"], hue=\"Type\", ci=None, ax=ax4, legend=False)\n",
    "# sns.lineplot(x=\"Jdays\", y=\"value\", data=exp_all.loc[exp_all['variable']==\"EXP_05%\"], hue=\"Type\", ci=None, ax=ax3, legend=False)\n",
    "\n",
    "ax4.fill_between(time, lch_max_nc, lch_min_nc, alpha=0.5)\n",
    "ax4.fill_between(time, lch_max_wc, lch_min_wc, alpha=0.5)\n",
    "ax4.set_ylabel(\"Lch. %\")\n",
    "ax4.set_xlabel(\"Days after 1st App.\")\n",
    "\n",
    "# Ageing\n",
    "# sns.lineplot(x=\"Jdays\", y=\"value\", data=exp_all.loc[exp_all['variable']==\"EXP_95%\"], hue=\"Type\", ci=None, ax=ax3, legend=False)\n",
    "g5 = sns.lineplot(x=\"Jdays\", y=\"value\", data=age_all.loc[age_all['variable']==\"AGE_50%\"], hue=\"Type\", ci=None, ax=ax5, legend=False)\n",
    "# sns.lineplot(x=\"Jdays\", y=\"value\", data=exp_all.loc[exp_all['variable']==\"EXP_05%\"], hue=\"Type\", ci=None, ax=ax3, legend=False)\n",
    "\n",
    "ax5.fill_between(time, age_max_nc, age_min_nc, alpha=0.5)\n",
    "ax5.fill_between(time, age_max_wc, age_min_wc, alpha=0.5)\n",
    "ax5.set_ylabel(\"Age. %\")\n",
    "ax5.set_xlabel(\"Days after 1st App.\")\n",
    "\n",
    "# Volat\n",
    "# sns.lineplot(x=\"Jdays\", y=\"value\", data=exp_all.loc[exp_all['variable']==\"EXP_95%\"], hue=\"Type\", ci=None, ax=ax3, legend=False)\n",
    "g6 = sns.lineplot(x=\"Jdays\", y=\"value\", data=vol_all.loc[vol_all['variable']==\"VOL_50%\"], hue=\"Type\", ci=None, ax=ax6)\n",
    "# sns.lineplot(x=\"Jdays\", y=\"value\", data=exp_all.loc[exp_all['variable']==\"EXP_05%\"], hue=\"Type\", ci=None, ax=ax3, legend=False)\n",
    "\n",
    "ax6.fill_between(time, vol_max_nc, vol_min_nc, alpha=0.5)\n",
    "ax6.fill_between(time, vol_max_wc, vol_min_wc, alpha=0.5)\n",
    "ax6.set_ylabel(\"Vol. %\")\n",
    "ax6.set_xlabel(\"Days after 1st App.\")\n",
    "\n",
    "g6.legend(loc='center right', bbox_to_anchor=(0.7, 0.5), ncol=1)\n",
    "\n",
    "plt.subplots_adjust(left=None, bottom=None, right=None, top=None,\n",
    "                wspace=0.35, hspace=None)\n",
    "\n",
    "plt.show()\n",
    "\n",
    "# fig.savefig(\"Fig4_Metrics.pdf\")"
   ]
  },
  {
   "cell_type": "code",
   "execution_count": 28,
   "metadata": {},
   "outputs": [],
   "source": [
    "# Resize figure box to put it out of the fig\n",
    "box = g1.get_position() # position of figure\n",
    "g1.set_position([box.x0, box.y0, box.width * 1., box.height])\n",
    "\n",
    "box = g2.get_position() # position of figure\n",
    "g2.set_position([box.x0, box.y0, box.width * 1., box.height])\n",
    "\n",
    "box = g3.get_position() # position of figure\n",
    "g3.set_position([box.x0, box.y0, box.width * 1., box.height])\n",
    "\n",
    "\n",
    "\n",
    "\n",
    "# fig.savefig(\"Metrics.pdf\")"
   ]
  },
  {
   "cell_type": "markdown",
   "metadata": {},
   "source": [
    "### Persistence"
   ]
  },
  {
   "cell_type": "code",
   "execution_count": 50,
   "metadata": {},
   "outputs": [
    {
     "name": "stdout",
     "output_type": "stream",
     "text": [
      "Mean\n",
      "6.262058580437007\n",
      "18.349095793540467\n",
      "(12.922861325128011, 1.6193217936630417)\n",
      "(26.11080598133899, 10.587385605741947)\n"
     ]
    }
   ],
   "source": [
    "print(\"Mean\")\n",
    "print(per_ave_nc[-1])\n",
    "print(per_ave_wc[-1])\n",
    "\n",
    "print(per_max_nc[-1], per_min_nc[-1])\n",
    "print(per_max_wc[-1], per_min_wc[-1])"
   ]
  },
  {
   "cell_type": "markdown",
   "metadata": {},
   "source": [
    "### Leaching"
   ]
  },
  {
   "cell_type": "code",
   "execution_count": 47,
   "metadata": {},
   "outputs": [
    {
     "name": "stdout",
     "output_type": "stream",
     "text": [
      "Mean\n",
      "2.4532885312785613\n",
      "0.9768017097387804\n",
      "Max, Min\n",
      "(16.551381205341826, 0.017219518314808363)\n",
      "(3.846831980653957, 0.028981671425842057)\n",
      "Upper CI\n",
      "14.098092674063265\n",
      "2.8700302709151764\n"
     ]
    }
   ],
   "source": [
    "print(\"Mean\")\n",
    "print(lch_ave_nc[-1])\n",
    "print(lch_ave_wc[-1])\n",
    "\n",
    "print(\"Max, Min\")\n",
    "print(lch_max_nc[-1], lch_min_nc[-1])\n",
    "print(lch_max_wc[-1], lch_min_wc[-1])\n",
    "\n",
    "print(\"Upper CI\")\n",
    "upper_nc = lch_max_nc[-1]- lch_ave_nc[-1]\n",
    "print(upper_nc)\n",
    "upper_wc = lch_max_wc[-1]- lch_ave_wc[-1]\n",
    "print(upper_wc)"
   ]
  },
  {
   "cell_type": "markdown",
   "metadata": {},
   "source": [
    "### Degradation"
   ]
  },
  {
   "cell_type": "code",
   "execution_count": 35,
   "metadata": {},
   "outputs": [
    {
     "name": "stdout",
     "output_type": "stream",
     "text": [
      "Mean\n",
      "80.58093599727225\n",
      "80.38383668562281\n",
      "Max, Min\n",
      "(115.87061061451784, 45.291261380026654)\n",
      "(87.63860942772175, 73.12906394352389)\n"
     ]
    }
   ],
   "source": [
    "print(\"Mean\")\n",
    "print(deg_ave_nc[-1]) \n",
    "print(deg_ave_wc[-1])\n",
    "\n",
    "print(\"Max, Min\")\n",
    "print(deg_max_nc[-1], deg_min_nc[-1])\n",
    "print(deg_max_wc[-1], deg_min_wc[-1])"
   ]
  },
  {
   "cell_type": "code",
   "execution_count": 36,
   "metadata": {},
   "outputs": [
    {
     "data": {
      "text/plain": [
       "115"
      ]
     },
     "execution_count": 36,
     "metadata": {},
     "output_type": "execute_result"
    }
   ],
   "source": [
    "time[-1]"
   ]
  },
  {
   "cell_type": "markdown",
   "metadata": {},
   "source": [
    "### Export"
   ]
  },
  {
   "cell_type": "code",
   "execution_count": 42,
   "metadata": {},
   "outputs": [
    {
     "name": "stdout",
     "output_type": "stream",
     "text": [
      "Mean\n",
      "0.47377158412733256\n",
      "0.6668596561281025\n",
      "1.4075551984748729\n",
      "Max, Min\n",
      "(0.746589830893068, 0.2009533373615971)\n",
      "(0.9746055895112712, 0.35911372274493397)\n"
     ]
    }
   ],
   "source": [
    "print(\"Mean\")\n",
    "print(exp_ave_nc[-1])\n",
    "print(exp_ave_wc[-1])\n",
    "factor = (exp_ave_wc[-1]/exp_ave_nc[-1])\n",
    "print(factor)\n",
    "\n",
    "print(\"Max, Min\")\n",
    "print(exp_max_nc[-1], exp_min_nc[-1])\n",
    "print(exp_max_wc[-1], exp_min_wc[-1])"
   ]
  },
  {
   "cell_type": "code",
   "execution_count": 51,
   "metadata": {},
   "outputs": [
    {
     "data": {
      "text/plain": [
       "120"
      ]
     },
     "execution_count": 51,
     "metadata": {},
     "output_type": "execute_result"
    }
   ],
   "source": [
    "24*5"
   ]
  },
  {
   "cell_type": "code",
   "execution_count": 98,
   "metadata": {},
   "outputs": [
    {
     "data": {
      "text/plain": [
       "0.3"
      ]
     },
     "execution_count": 98,
     "metadata": {},
     "output_type": "execute_result"
    }
   ],
   "source": [
    ".5*.6"
   ]
  },
  {
   "cell_type": "code",
   "execution_count": null,
   "metadata": {},
   "outputs": [],
   "source": []
  }
 ],
 "metadata": {
  "kernelspec": {
   "display_name": "bunny",
   "language": "python",
   "name": "bunny"
  },
  "language_info": {
   "codemirror_mode": {
    "name": "ipython",
    "version": 2
   },
   "file_extension": ".py",
   "mimetype": "text/x-python",
   "name": "python",
   "nbconvert_exporter": "python",
   "pygments_lexer": "ipython2",
   "version": "2.7.14"
  }
 },
 "nbformat": 4,
 "nbformat_minor": 2
}
