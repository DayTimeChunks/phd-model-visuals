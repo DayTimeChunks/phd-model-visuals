{
 "cells": [
  {
   "cell_type": "code",
   "execution_count": 150,
   "metadata": {},
   "outputs": [],
   "source": [
    "path = '../phd-model-process/'\n",
    "\n",
    "import pandas as pd\n",
    "pd.options.mode.chained_assignment = None  # default='warn'\n",
    "import numpy as np\n",
    "import scipy as sp\n",
    "import scipy.stats as st\n",
    "\n",
    "from helpers_pd import *\n",
    "\n",
    "# Plotting\n",
    "import seaborn as sns\n",
    "sns.set()\n",
    "# import seaborn as sns; sns.set(style=\"ticks\", color_codes=True)\n",
    "# sns.set(style=\"darkgrid\")\n",
    "import matplotlib.pyplot as plt\n",
    "# plt.style.use('seaborn-white')"
   ]
  },
  {
   "cell_type": "code",
   "execution_count": 151,
   "metadata": {},
   "outputs": [],
   "source": [
    "palette = [\"#F44336\", '#673AB7', '#3F51B5', '#009688', '#FF9800', '#4CAF50', '#03A9F4']\n",
    "# red, purple, indigo, teal-green, orange, green, light-blue\n",
    "# https://matplotlib.org/users/dflt_style_changes.html"
   ]
  },
  {
   "cell_type": "markdown",
   "metadata": {},
   "source": [
    "# Extracting observed Conc."
   ]
  },
  {
   "cell_type": "markdown",
   "metadata": {},
   "source": [
    "## Define transect"
   ]
  },
  {
   "cell_type": "code",
   "execution_count": 152,
   "metadata": {},
   "outputs": [
    {
     "data": {
      "text/html": [
       "<div>\n",
       "<style scoped>\n",
       "    .dataframe tbody tr th:only-of-type {\n",
       "        vertical-align: middle;\n",
       "    }\n",
       "\n",
       "    .dataframe tbody tr th {\n",
       "        vertical-align: top;\n",
       "    }\n",
       "\n",
       "    .dataframe thead th {\n",
       "        text-align: right;\n",
       "    }\n",
       "</style>\n",
       "<table border=\"1\" class=\"dataframe\">\n",
       "  <thead>\n",
       "    <tr style=\"text-align: right;\">\n",
       "      <th></th>\n",
       "      <th>Jdays</th>\n",
       "      <th>DayMoYr</th>\n",
       "      <th>IDcal</th>\n",
       "      <th>d13C</th>\n",
       "      <th>d13C.SD</th>\n",
       "    </tr>\n",
       "  </thead>\n",
       "  <tbody>\n",
       "    <tr>\n",
       "      <th>0</th>\n",
       "      <td>188</td>\n",
       "      <td>2016-04-05</td>\n",
       "      <td>B-188</td>\n",
       "      <td>-31.225186</td>\n",
       "      <td>0.640023</td>\n",
       "    </tr>\n",
       "    <tr>\n",
       "      <th>1</th>\n",
       "      <td>197</td>\n",
       "      <td>2016-04-14</td>\n",
       "      <td>B-197</td>\n",
       "      <td>-31.200375</td>\n",
       "      <td>0.303478</td>\n",
       "    </tr>\n",
       "    <tr>\n",
       "      <th>2</th>\n",
       "      <td>201</td>\n",
       "      <td>2016-04-18</td>\n",
       "      <td>B-201</td>\n",
       "      <td>-31.496359</td>\n",
       "      <td>0.390947</td>\n",
       "    </tr>\n",
       "    <tr>\n",
       "      <th>3</th>\n",
       "      <td>209</td>\n",
       "      <td>2016-04-26</td>\n",
       "      <td>B-209</td>\n",
       "      <td>-31.239331</td>\n",
       "      <td>0.542286</td>\n",
       "    </tr>\n",
       "    <tr>\n",
       "      <th>4</th>\n",
       "      <td>216</td>\n",
       "      <td>2016-05-03</td>\n",
       "      <td>B-216</td>\n",
       "      <td>-30.682124</td>\n",
       "      <td>0.434045</td>\n",
       "    </tr>\n",
       "  </tbody>\n",
       "</table>\n",
       "</div>"
      ],
      "text/plain": [
       "   Jdays     DayMoYr  IDcal       d13C   d13C.SD\n",
       "0    188  2016-04-05  B-188 -31.225186  0.640023\n",
       "1    197  2016-04-14  B-197 -31.200375  0.303478\n",
       "2    201  2016-04-18  B-201 -31.496359  0.390947\n",
       "3    209  2016-04-26  B-209 -31.239331  0.542286\n",
       "4    216  2016-05-03  B-216 -30.682124  0.434045"
      ]
     },
     "execution_count": 152,
     "metadata": {},
     "output_type": "execute_result"
    }
   ],
   "source": [
    "obs_d13c = pd.read_table(path + 'observations/d13c_bulk_cal.tss')\n",
    "obs_conc = pd.read_table(path + 'observations/conc_bulk_cal.tss')\n",
    "p_b = pd.read_table(path + 'observations/p_bAve.tss')\n",
    "obs_d13c.head()"
   ]
  },
  {
   "cell_type": "markdown",
   "metadata": {},
   "source": [
    "# Selecting indexes"
   ]
  },
  {
   "cell_type": "code",
   "execution_count": 153,
   "metadata": {},
   "outputs": [
    {
     "name": "stdout",
     "output_type": "stream",
     "text": [
      "550\n"
     ]
    }
   ],
   "source": [
    "gen = 'Gen10'\n",
    "df3 = get_data(gen=gen)\n",
    "# df4 = get_data(gen=\"Gen4\")\n",
    "print(len(df3))\n",
    "# print( len(df4)"
   ]
  },
  {
   "cell_type": "code",
   "execution_count": 154,
   "metadata": {},
   "outputs": [],
   "source": [
    "df3[\"Gen\"] = gen\n",
    "# df4[\"Gen\"] = \"Gen4\"\n",
    "# df = pd.concat([df3, df4])\n",
    "df = df3"
   ]
  },
  {
   "cell_type": "code",
   "execution_count": 155,
   "metadata": {},
   "outputs": [],
   "source": [
    "# Index names\n",
    "df['Name'] = df['Gen'] + \"/\" + df.index\n",
    "df = df.set_index('Name')\n",
    "# 'LHS_s2fix7/10/' in list(df.index)"
   ]
  },
  {
   "cell_type": "code",
   "execution_count": 156,
   "metadata": {},
   "outputs": [],
   "source": [
    "# 'LHS_s2fix7/10/' in list(df.index)\n",
    "# list(df)"
   ]
  },
  {
   "cell_type": "code",
   "execution_count": 157,
   "metadata": {},
   "outputs": [],
   "source": [
    "df['k_d'] = df.loc[:, 'k_oc'] * df.loc[:,'f_oc']\n",
    "# Combined outlet and transects KGE Concentrations and d13C\n",
    "df['KGE-SM'] = (df.loc[:, 'KGE-CONC_out'] + df.loc[:, 'KGE-CONC-blk'])/2.0  \n",
    "df['KGE-d13C'] = (df.loc[:, 'KGE-d13C_out'] + df.loc[:, 'KGE-d13C-blk'])/2.0\n",
    "df['epsilon_iso'] *= -1\n",
    "\n",
    "# cst = 0.40\n",
    "# df['Constraint'] = df.apply(WithIsoKGE, args=(cst,), axis=1)"
   ]
  },
  {
   "cell_type": "code",
   "execution_count": 158,
   "metadata": {},
   "outputs": [
    {
     "name": "stdout",
     "output_type": "stream",
     "text": [
      "Maximum Q\n",
      "(0.769832923058568, 0.5284275029940944)\n",
      "Maximum Conc.\n",
      "(0.8027419410432288, 0.4042569998315104, 0.5657178152771112)\n",
      "Maximum d13C\n",
      "(0.957449515054865, 0.49204434571412836, 0.7205188737630845)\n"
     ]
    }
   ],
   "source": [
    "print(\"Maximum Q\")\n",
    "print(df['KGE-Q_out'].max(), df['NSE-Q_out'].max()) \n",
    "print(\"Maximum Conc.\")\n",
    "print(df['KGE-CONC-blk'].max(), df['KGE-CONC_out'].max(), df['KGE-SM'].max()) \n",
    "print(\"Maximum d13C\")\n",
    "print(df['KGE-d13C-blk'].max(), df['KGE-d13C_out'].max(), df['KGE-d13C'].max()) "
   ]
  },
  {
   "cell_type": "code",
   "execution_count": 159,
   "metadata": {},
   "outputs": [],
   "source": [
    "dfs = df[['Model', 'Gen',\n",
    "          'dt_50_ref',\n",
    "          'dt_50_ab',\n",
    "#           'k_d',\n",
    "          'epsilon_iso',\n",
    "          'KGE-CONC-blk','KGE-d13C-blk',\n",
    "          'KGE-CONC_out','KGE-d13C_out',\n",
    "          'KGE-SM', 'KGE-d13C', \n",
    "#           'Constraint'\n",
    "          ]]"
   ]
  },
  {
   "cell_type": "code",
   "execution_count": 242,
   "metadata": {},
   "outputs": [
    {
     "name": "stdout",
     "output_type": "stream",
     "text": [
      "(550, 139, 18)\n",
      "(139, 18)\n",
      "(7, 11)\n"
     ]
    }
   ],
   "source": [
    "# Filter\n",
    "dfs = dfs.loc[(dfs['Gen'] ==  gen)] # Try 25 with more data points\n",
    "# dfs = dfs.loc[(dfs['Model'] ==  'var')] # Try 25 with more data points\n",
    "\n",
    "# Global\n",
    "# ff = dfs.loc[(dfs['KGE-SM'] > 0.5)] # Try 25 with more data points\n",
    "# ff_c = dfs.loc[(dfs['KGE-SM'] > 0.5) & (dfs['KGE-d13C'] >  0.3)]\n",
    "\n",
    "# Soil\n",
    "ff = dfs.loc[(dfs['KGE-CONC-blk'] > 0.60)] # Try 25 with more data points\n",
    "ff_c = dfs.loc[(dfs['KGE-CONC-blk'] > 0.60) & (dfs['KGE-d13C-blk'] >  .8)]\n",
    "# ff_c = dfs.loc[(dfs['KGE-CONC-blk'] > 0.60) & (dfs['KGE-d13C-blk'] >  0.8) & (dfs['KGE-Q_out'] >  0.50)]\n",
    "# Outlet\n",
    "# ff = dfs.loc[(dfs['KGE-CONC_out'] > 0.20)] # Try 25 with more data points\n",
    "# ff_c = dfs.loc[(dfs['KGE-CONC_out'] > 0.20) & (dfs['KGE-d13C_out'] >  0.2)]\n",
    "\n",
    "\n",
    "# ff = dfs.loc[(dfs['KGE-CONC-blk'] > 0.70)] # Try 25 with more data points\n",
    "# ff_c = dfs.loc[(dfs['KGE-CONC-blk'] > 0.0) & (dfs['KGE-d13C-blk'] >  cst)]\n",
    "print(len(dfs), len(ff), len(ff_c))\n",
    "# ff.tail()\n",
    "\n",
    "var_df = ff_c.loc[(ff_c['Model']=='var')]\n",
    "fix_df = ff_c.loc[(ff_c['Model']=='fix')]\n",
    "\n",
    "# nc = ff.index[(ff['Constraint'] == 'NC')].tolist() #[0]\n",
    "# wc = ff_c.index[(ff_c['Constraint'] == 'WC')].tolist() #[0]\n",
    "nc = ff.index\n",
    "wc = ff_c.index\n",
    "print(len(nc), len(wc))\n",
    "print(len(var_df), len(fix_df))"
   ]
  },
  {
   "cell_type": "markdown",
   "metadata": {},
   "source": [
    "### $\\epsilon$ and DT50"
   ]
  },
  {
   "cell_type": "code",
   "execution_count": 243,
   "metadata": {},
   "outputs": [
    {
     "name": "stdout",
     "output_type": "stream",
     "text": [
      "epsilon_iso   -2.77746\n",
      "dtype: float64\n",
      "epsilon_iso    0.697849\n",
      "dtype: float64\n"
     ]
    }
   ],
   "source": [
    "# print(ff[['epsilon_iso']].mean())\n",
    "print(ff_c[['epsilon_iso']].mean())\n",
    "print(ff_c[['epsilon_iso']].std())"
   ]
  },
  {
   "cell_type": "code",
   "execution_count": 244,
   "metadata": {},
   "outputs": [
    {
     "name": "stdout",
     "output_type": "stream",
     "text": [
      "dt_50_ref    23.324087\n",
      "dtype: float64\n",
      "dt_50_ref    6.842548\n",
      "dtype: float64\n"
     ]
    }
   ],
   "source": [
    "# print(ff[['dt_50_ref']].mean())\n",
    "print(ff_c[['dt_50_ref']].mean())\n",
    "print(ff_c[['dt_50_ref']].std())"
   ]
  },
  {
   "cell_type": "markdown",
   "metadata": {},
   "source": [
    "### Abiotic DT50"
   ]
  },
  {
   "cell_type": "code",
   "execution_count": 245,
   "metadata": {},
   "outputs": [
    {
     "name": "stdout",
     "output_type": "stream",
     "text": [
      "dt_50_ab    215.140945\n",
      "dtype: float64\n",
      "dt_50_ab    0.003222\n",
      "dtype: float64\n",
      "dt_50_ab    0.000952\n",
      "dtype: float64\n"
     ]
    }
   ],
   "source": [
    "print(ff_c[['dt_50_ab']].mean()) \n",
    "print(np.log(2.)/ff_c[['dt_50_ab']].mean()) \n",
    "print(np.log(2.)/ff_c[['dt_50_ab']].mean()-np.log(2.)/(ff_c[['dt_50_ab']].mean()+ff_c[['dt_50_ab']].std()))"
   ]
  },
  {
   "cell_type": "markdown",
   "metadata": {},
   "source": [
    "# Extracting time series"
   ]
  },
  {
   "cell_type": "code",
   "execution_count": 246,
   "metadata": {},
   "outputs": [],
   "source": [
    "def get_sets_bulk(name_list):\n",
    "    # Get sim conc, convert mass, ug/g -> ug\n",
    "    comp = ['nor', 'val', 'sou']\n",
    "    sets = []\n",
    "    for i in range(len(name_list)): # Set name\n",
    "        transects = []\n",
    "        for tran in comp:\n",
    "            # Append masses and conc.\n",
    "            filename = \"resM_\" + tran + \"CONC_real.tss\"\n",
    "            conc_name = tran + 'CONC'\n",
    "            sim = pd.read_table(path + name_list[i] + filename, \n",
    "                                skiprows=4, delim_whitespace=True,\n",
    "                                names=['Jdays', conc_name],\n",
    "                                header=None)\n",
    "            \n",
    "            mass_name = tran + \"Mass\"\n",
    "            sim[mass_name] = sim[conc_name] * p_b['pbAve'] * 4.0 * 10.0 * 10**3\n",
    "            transects.append(sim)\n",
    "            \n",
    "            # Append deltas\n",
    "            filename = \"resM_\" + tran + \"d13C_real.tss\"\n",
    "            delta_name = tran + 'd13C'\n",
    "            sim = pd.read_table(path + name_list[i] + filename,\n",
    "                                skiprows=4, delim_whitespace=True,\n",
    "                                names=['Jdays', delta_name],\n",
    "                                header=None)\n",
    "            transects.append(sim)\n",
    "\n",
    "        # Merge all transects\n",
    "        blk = reduce(lambda x, y: pd.merge(x, y, on='Jdays'), transects)\n",
    "\n",
    "        # Bulk concentration\n",
    "        conc_name = 'Conc_blk' +  name_list[i][3:]\n",
    "        blk[conc_name] = (blk['norCONC']*blk['norMass'] +\n",
    "                          blk['valCONC']*blk['valMass'] +\n",
    "                          blk['souCONC']*blk['souMass']\n",
    "                          ) / (blk['norMass'] + blk['valMass'] + blk['souMass'])\n",
    "\n",
    "        iso_name = 'd13C_blk' +  name_list[i][3:]\n",
    "        blk[iso_name] = (blk['nord13C']*blk['norMass'] +\n",
    "                         blk['vald13C']*blk['valMass'] +\n",
    "                         blk['soud13C']*blk['souMass']\n",
    "                        ) / (blk['norMass'] + blk['valMass'] + blk['souMass'])\n",
    "        \n",
    "        blk = blk[0:121]\n",
    "        blk = blk[['Jdays', conc_name, iso_name]]\n",
    "        sets.append(blk)\n",
    "    df = reduce(lambda left, right: pd.merge(left,right,on='Jdays'), sets)\n",
    "    return df"
   ]
  },
  {
   "cell_type": "code",
   "execution_count": 247,
   "metadata": {},
   "outputs": [],
   "source": [
    "# sets = get_sets_bulk(wc) # Returns sets merged\n",
    "# sets.tail()"
   ]
  },
  {
   "cell_type": "markdown",
   "metadata": {},
   "source": [
    "# Confidence interval calc."
   ]
  },
  {
   "cell_type": "code",
   "execution_count": 248,
   "metadata": {},
   "outputs": [],
   "source": [
    "def concat(row, plot):\n",
    "    return plot.capitalize() + '-' + str(int(row['Jdays']))"
   ]
  },
  {
   "cell_type": "code",
   "execution_count": 249,
   "metadata": {},
   "outputs": [],
   "source": [
    "def get_stats_bulk(df, measure, cst):\n",
    "    n = len(np.array(df.iloc[0,1:]))\n",
    "    df['mean'] = df.iloc[:,1:n+1].mean(axis=1)\n",
    "    df['min'] = df.iloc[:,1:n+1].min(axis=1)\n",
    "    df['max'] = df.iloc[:,1:n+1].max(axis=1)\n",
    "    df['sem'] = df.iloc[:,1:n+1].sem(axis=1)\n",
    "    df['sd'] = df.iloc[:,1:n+1].std(axis=1)\n",
    "    df['high'] = df['mean'] + 2.*df['sd']\n",
    "    df['low'] = df['mean'] - 2.*df['sd']\n",
    "#     df['high'] = df.apply(get_ci, args=(n, 0.95, True), axis=1)\n",
    "#     df['low'] = df.apply(get_ci, args=(n, 0.95, False), axis=1)\n",
    "    if measure == \"Conc\":\n",
    "        df['low'] = df.apply(check_negative, axis=1)\n",
    "#     df['Trans'] = loc\n",
    "#     df['Area'] = loc[0]\n",
    "#     df['Level'] = level  # Composite or Detailed, \n",
    "    loc = \"B\"\n",
    "    df['IDcal'] = df.apply (lambda row: concat(row, loc), axis=1)\n",
    "    df['Type'] = df.apply(lambda row: ModelType(row, cst),axis=1)\n",
    "    return df[['Jdays', 'mean', 'high', 'low', 'max', 'min', 'sd', 'IDcal', 'Type']]"
   ]
  },
  {
   "cell_type": "code",
   "execution_count": 250,
   "metadata": {},
   "outputs": [],
   "source": [
    "# d13c_wc"
   ]
  },
  {
   "cell_type": "code",
   "execution_count": 251,
   "metadata": {},
   "outputs": [],
   "source": [
    "# sets_wc.head()\n",
    "# d13c_fix"
   ]
  },
  {
   "cell_type": "code",
   "execution_count": 252,
   "metadata": {},
   "outputs": [],
   "source": [
    "sets_wc = get_sets_bulk(wc)\n",
    "time_wc = sets_wc.filter(like=\"Jdays\")\n",
    "\n",
    "conc_wc = sets_wc.filter(like='Conc')\n",
    "conc_fix = conc_wc.filter(like='fix')\n",
    "conc_var = conc_wc.filter(like='var')\n",
    "\n",
    "d13c_wc = sets_wc.filter(like='d13C')\n",
    "d13c_fix = d13c_wc.filter(like='fix')\n",
    "d13c_var = d13c_wc.filter(like='var')\n",
    "# conc_nc = sets_nc.filter(like='Conc')\n",
    "\n",
    "conc_tfix = pd.concat([time_wc, conc_fix], axis=1, join='inner')\n",
    "conc_tvar = pd.concat([time_wc, conc_var], axis=1, join='inner')\n",
    "\n",
    "d13c_tfix = pd.concat([time_wc, d13c_fix], axis=1, join='inner')\n",
    "d13c_tvar = pd.concat([time_wc, d13c_var], axis=1, join='inner')"
   ]
  },
  {
   "cell_type": "code",
   "execution_count": 253,
   "metadata": {},
   "outputs": [],
   "source": [
    "conc_tfix_all = get_stats_bulk(conc_tfix, 'Conc', 'Fix')\n",
    "conc_tvar_all = get_stats_bulk(conc_tvar, 'Conc', 'Var')\n",
    "\n",
    "d13c_tfix_all = get_stats_bulk(d13c_tfix, 'd13C', 'Fix')\n",
    "d13c_tvar_all = get_stats_bulk(d13c_tvar, 'd13C', 'Var')"
   ]
  },
  {
   "cell_type": "code",
   "execution_count": 254,
   "metadata": {},
   "outputs": [
    {
     "data": {
      "text/html": [
       "<div>\n",
       "<style scoped>\n",
       "    .dataframe tbody tr th:only-of-type {\n",
       "        vertical-align: middle;\n",
       "    }\n",
       "\n",
       "    .dataframe tbody tr th {\n",
       "        vertical-align: top;\n",
       "    }\n",
       "\n",
       "    .dataframe thead th {\n",
       "        text-align: right;\n",
       "    }\n",
       "</style>\n",
       "<table border=\"1\" class=\"dataframe\">\n",
       "  <thead>\n",
       "    <tr style=\"text-align: right;\">\n",
       "      <th></th>\n",
       "      <th>Jdays</th>\n",
       "      <th>DayMoYr</th>\n",
       "      <th>IDcal</th>\n",
       "      <th>d13C</th>\n",
       "      <th>d13C.SD</th>\n",
       "    </tr>\n",
       "  </thead>\n",
       "  <tbody>\n",
       "    <tr>\n",
       "      <th>0</th>\n",
       "      <td>188</td>\n",
       "      <td>2016-04-05</td>\n",
       "      <td>B-188</td>\n",
       "      <td>-31.225186</td>\n",
       "      <td>0.640023</td>\n",
       "    </tr>\n",
       "    <tr>\n",
       "      <th>1</th>\n",
       "      <td>197</td>\n",
       "      <td>2016-04-14</td>\n",
       "      <td>B-197</td>\n",
       "      <td>-31.200375</td>\n",
       "      <td>0.303478</td>\n",
       "    </tr>\n",
       "    <tr>\n",
       "      <th>2</th>\n",
       "      <td>201</td>\n",
       "      <td>2016-04-18</td>\n",
       "      <td>B-201</td>\n",
       "      <td>-31.496359</td>\n",
       "      <td>0.390947</td>\n",
       "    </tr>\n",
       "    <tr>\n",
       "      <th>3</th>\n",
       "      <td>209</td>\n",
       "      <td>2016-04-26</td>\n",
       "      <td>B-209</td>\n",
       "      <td>-31.239331</td>\n",
       "      <td>0.542286</td>\n",
       "    </tr>\n",
       "    <tr>\n",
       "      <th>4</th>\n",
       "      <td>216</td>\n",
       "      <td>2016-05-03</td>\n",
       "      <td>B-216</td>\n",
       "      <td>-30.682124</td>\n",
       "      <td>0.434045</td>\n",
       "    </tr>\n",
       "  </tbody>\n",
       "</table>\n",
       "</div>"
      ],
      "text/plain": [
       "   Jdays     DayMoYr  IDcal       d13C   d13C.SD\n",
       "0    188  2016-04-05  B-188 -31.225186  0.640023\n",
       "1    197  2016-04-14  B-197 -31.200375  0.303478\n",
       "2    201  2016-04-18  B-201 -31.496359  0.390947\n",
       "3    209  2016-04-26  B-209 -31.239331  0.542286\n",
       "4    216  2016-05-03  B-216 -30.682124  0.434045"
      ]
     },
     "execution_count": 254,
     "metadata": {},
     "output_type": "execute_result"
    }
   ],
   "source": [
    "conc_tfix_all.head()\n",
    "obs_d13c.head()"
   ]
  },
  {
   "cell_type": "markdown",
   "metadata": {},
   "source": [
    "### Merge simulated CI's with obs, (delta and Conc)"
   ]
  },
  {
   "cell_type": "code",
   "execution_count": 255,
   "metadata": {},
   "outputs": [],
   "source": [
    "d13c_tvar_merged = pd.merge(d13c_tvar_all, obs_d13c, how='outer', on='IDcal')\n",
    "conc_tvar_merged = pd.merge(conc_tvar_all, obs_conc, how='outer', on='IDcal')\n",
    "\n",
    "d13c_tfix_merged = pd.merge(d13c_tfix_all, obs_d13c, how='outer', on='IDcal')\n",
    "conc_tfix_merged = pd.merge(conc_tfix_all, obs_conc, how='outer', on='IDcal')\n",
    "# nc_merged = pd.merge(nc_all, obs, how='outer', on='IDcal')"
   ]
  },
  {
   "cell_type": "code",
   "execution_count": 256,
   "metadata": {},
   "outputs": [
    {
     "data": {
      "text/html": [
       "<div>\n",
       "<style scoped>\n",
       "    .dataframe tbody tr th:only-of-type {\n",
       "        vertical-align: middle;\n",
       "    }\n",
       "\n",
       "    .dataframe tbody tr th {\n",
       "        vertical-align: top;\n",
       "    }\n",
       "\n",
       "    .dataframe thead th {\n",
       "        text-align: right;\n",
       "    }\n",
       "</style>\n",
       "<table border=\"1\" class=\"dataframe\">\n",
       "  <thead>\n",
       "    <tr style=\"text-align: right;\">\n",
       "      <th></th>\n",
       "      <th>Jdays_x</th>\n",
       "      <th>mean</th>\n",
       "      <th>high</th>\n",
       "      <th>low</th>\n",
       "      <th>max</th>\n",
       "      <th>min</th>\n",
       "      <th>sd</th>\n",
       "      <th>IDcal</th>\n",
       "      <th>Type</th>\n",
       "      <th>Jdays_y</th>\n",
       "      <th>DayMoYr</th>\n",
       "      <th>d13C</th>\n",
       "      <th>d13C.SD</th>\n",
       "    </tr>\n",
       "  </thead>\n",
       "  <tbody>\n",
       "    <tr>\n",
       "      <th>119</th>\n",
       "      <td>285</td>\n",
       "      <td>-27.641989</td>\n",
       "      <td>-26.986774</td>\n",
       "      <td>-28.297203</td>\n",
       "      <td>-27.058828</td>\n",
       "      <td>-28.057649</td>\n",
       "      <td>0.327607</td>\n",
       "      <td>B-285</td>\n",
       "      <td>Fix</td>\n",
       "      <td>NaN</td>\n",
       "      <td>NaN</td>\n",
       "      <td>NaN</td>\n",
       "      <td>NaN</td>\n",
       "    </tr>\n",
       "    <tr>\n",
       "      <th>120</th>\n",
       "      <td>286</td>\n",
       "      <td>-27.592541</td>\n",
       "      <td>-26.927661</td>\n",
       "      <td>-28.257420</td>\n",
       "      <td>-27.002720</td>\n",
       "      <td>-28.008426</td>\n",
       "      <td>0.332440</td>\n",
       "      <td>B-286</td>\n",
       "      <td>Fix</td>\n",
       "      <td>NaN</td>\n",
       "      <td>NaN</td>\n",
       "      <td>NaN</td>\n",
       "      <td>NaN</td>\n",
       "    </tr>\n",
       "  </tbody>\n",
       "</table>\n",
       "</div>"
      ],
      "text/plain": [
       "     Jdays_x       mean       high        low        max        min        sd  \\\n",
       "119      285 -27.641989 -26.986774 -28.297203 -27.058828 -28.057649  0.327607   \n",
       "120      286 -27.592541 -26.927661 -28.257420 -27.002720 -28.008426  0.332440   \n",
       "\n",
       "     IDcal Type  Jdays_y DayMoYr  d13C  d13C.SD  \n",
       "119  B-285  Fix      NaN     NaN   NaN      NaN  \n",
       "120  B-286  Fix      NaN     NaN   NaN      NaN  "
      ]
     },
     "execution_count": 256,
     "metadata": {},
     "output_type": "execute_result"
    }
   ],
   "source": [
    "# wc_merged[20:25]\n",
    "d13c_tfix_merged.tail(2)\n",
    "# conc_tvar_merged.tail()"
   ]
  },
  {
   "cell_type": "code",
   "execution_count": 257,
   "metadata": {},
   "outputs": [],
   "source": [
    "# nc_merged.head()\n",
    "# sets_all = pd.concat([nc_merged, wc_merged])"
   ]
  },
  {
   "cell_type": "code",
   "execution_count": 258,
   "metadata": {},
   "outputs": [],
   "source": [
    "# Observed Conc\n",
    "time = np.array(conc_tvar_merged['Jdays_x']-171)\n",
    "arr_obs_conc = np.array(conc_tvar_merged['ug.g'])\n",
    "arr_err = np.array(conc_tvar_merged['ug.g.SD'])\n",
    "\n",
    "# Observed d13C\n",
    "arr_obs_d13c = np.array(d13c_tvar_merged['d13C'])\n",
    "arr_err_d13c = np.array(d13c_tvar_merged['d13C.SD'])\n",
    "\n",
    "# Variable model\n",
    "var_conc_mean = np.array(conc_tvar_merged['mean'])\n",
    "var_conc_high = np.array(conc_tvar_merged['high'])\n",
    "var_conc_low = np.array(conc_tvar_merged['low'])\n",
    "\n",
    "var_d13c_mean = np.array(d13c_tvar_merged['mean'])\n",
    "var_d13c_high = np.array(d13c_tvar_merged['high'])\n",
    "var_d13c_low = np.array(d13c_tvar_merged['low'])\n",
    "\n",
    "# Fix model\n",
    "fix_conc_mean = np.array(conc_tfix_merged['mean'])\n",
    "fix_conc_high = np.array(conc_tfix_merged['high'])\n",
    "fix_conc_low = np.array(conc_tfix_merged['low'])\n",
    "\n",
    "fix_d13c_mean = np.array(d13c_tfix_merged['mean'])\n",
    "fix_d13c_high = np.array(d13c_tfix_merged['high'])\n",
    "fix_d13c_low = np.array(d13c_tfix_merged['low'])\n"
   ]
  },
  {
   "cell_type": "code",
   "execution_count": 259,
   "metadata": {},
   "outputs": [
    {
     "name": "stdout",
     "output_type": "stream",
     "text": [
      "(121, 121, 121)\n"
     ]
    }
   ],
   "source": [
    "print(len(time), len(fix_conc_high), len(fix_conc_low))"
   ]
  },
  {
   "cell_type": "code",
   "execution_count": 260,
   "metadata": {},
   "outputs": [
    {
     "data": {
      "text/plain": [
       "<matplotlib.legend.Legend at 0x1a1bf7e150>"
      ]
     },
     "execution_count": 260,
     "metadata": {},
     "output_type": "execute_result"
    },
    {
     "data": {
      "image/png": "[encoded data removed]",
      "text/plain": [
       "<Figure size 504x451.44 with 4 Axes>"
      ]
     },
     "metadata": {},
     "output_type": "display_data"
    }
   ],
   "source": [
    "# sns.set(rc={'figure.figsize':(11.7, 8.27)})\n",
    "# ES&T max width: \n",
    "# 1 column = 3.25in \n",
    "# 2 column = 7.0in \n",
    "sns.set_context(\"paper\")\n",
    "sns.set(rc={'figure.figsize':(7.0, 6.27)}) # Width, height, inches\n",
    "\n",
    "fig, axes = plt.subplots(2, 2, sharex=False, sharey=False)\n",
    "\n",
    "\n",
    "\n",
    "#####\n",
    "# Left-Up\n",
    "#####\n",
    "# Var Conc\n",
    "axes[0,0].plot(time, var_conc_mean, label='Var', c= \"C0\") # c= \"red\", marker='.', linestyle=':'\n",
    "axes[0,0].legend(loc=\"upper right\")\n",
    "axes[0,0].fill_between(time, var_conc_high, var_conc_low, color= \"C0\", alpha=0.5)\n",
    "\n",
    "# Var Conc\n",
    "axes[0,0].plot(time, fix_conc_mean, label='Fix', c= \"C1\") # c= \"red\", marker='.', linestyle=':'\n",
    "axes[0,0].legend(loc=\"upper right\")\n",
    "axes[0,0].fill_between(time, fix_conc_high, fix_conc_low,  color= \"C1\", alpha=0.5)\n",
    "\n",
    "# Obs Conc\n",
    "axes[0,0].errorbar(time, arr_obs_conc, arr_err, c= \"green\")\n",
    "axes[0,0].scatter(time, arr_obs_conc, c= \"green\", marker='.', label=\"BLK\")\n",
    "axes[0,0].legend(loc=\"upper right\")\n",
    "# axes[0,0].set_ylabel(\"$\\mu g$ $g^{-1}$\")\n",
    "axes[0,0].set_ylabel(\"[SM] ($\\mu g$ $g^{-1}$ soil d.wt.)\")\n",
    "axes[0,0].set_xlabel(\"Days after 1st App.\")\n",
    "\n",
    "#############\n",
    "# Left-Down\n",
    "#############\n",
    "# Var d13c\n",
    "axes[1,0].plot(time, var_d13c_mean, label='Var', c= \"C0\") # c= \"red\", marker='.', linestyle=':'\n",
    "axes[1,0].legend(loc=\"upper right\")\n",
    "axes[1,0].fill_between(time, var_d13c_high, var_d13c_low, color= \"C0\", alpha=0.5)\n",
    "\n",
    "# Var d13c\n",
    "axes[1,0].plot(time, fix_d13c_mean, label='Fix', c= \"C1\") # c= \"red\", marker='.', linestyle=':'\n",
    "axes[1,0].legend(loc=\"upper right\")\n",
    "axes[1,0].fill_between(time, fix_d13c_high, fix_d13c_low,  color= \"C1\", alpha=0.5)\n",
    "\n",
    "# Obs d13c\n",
    "axes[1,0].errorbar(time, arr_obs_d13c, arr_err_d13c, c= \"green\")\n",
    "axes[1,0].scatter(time, arr_obs_d13c, c= \"green\", marker='.', label=\"BLK\")\n",
    "axes[1,0].legend(loc=\"upper right\")\n",
    "axes[1,0].set_ylabel(\"$\\delta ^{13}C$\")\n",
    "axes[1,0].set_xlabel(\"Days after 1st App.\")\n",
    "\n",
    "#############\n",
    "# Right - UP\n",
    "############\n",
    "sns.distplot( var_df[\"dt_50_ref\"] , color=\"C0\", label=\"Var\", ax=axes[0,1])\n",
    "# sns.distplot( var_nc[\"dt_50_ref\"] , color=\"red\", label=\"Var - NC\", ax=ax2)\n",
    "sns.distplot( fix_df[\"dt_50_ref\"] , color=\"C1\", label=\"Fix\", ax=axes[0,1])\n",
    "# sns.distplot( var_wc[\"dt_50_ref\"] , color=\"teal\", label=\"Var - WC\", ax=ax2)\n",
    "axes[0,1].set_xlabel(\"DT50 (days)\")\n",
    "axes[0,1].set_ylabel(\"$f$ (-)\")\n",
    "axes[0,1].legend()\n",
    "\n",
    "##############\n",
    "# Right - Down\n",
    "##############\n",
    "sns.distplot( var_df['epsilon_iso'] , color=\"C0\", label=\"Var\", ax=axes[1,1])\n",
    "sns.distplot( fix_df['epsilon_iso'] , color=\"C1\", label=\"Fix\", ax=axes[1,1])\n",
    "axes[1,1].set_xlabel(\"$\\epsilon$\" + u'(\\u2030)')\n",
    "axes[1,1].set_ylabel(\"$f$ (-)\")\n",
    "\n",
    "# axes[0,0].annotate('A', fontsize=15,\n",
    "#             xy=(60, 388), xycoords='figure pixels')\n",
    "# axes[0,1].annotate('B', fontsize=15,\n",
    "#             xy=(282, 388), xycoords='figure pixels')\n",
    "\n",
    "# axes[1,0].annotate('C', fontsize=15,\n",
    "#             xy=(60, 195), xycoords='figure pixels')\n",
    "# axes[1,1].annotate('D', fontsize=15,\n",
    "#             xy=(282, 195), xycoords='figure pixels')\n",
    "\n",
    "axes[0,0].annotate('A', fontsize=15,\n",
    "            xy=(-3, 8.), xycoords='data')\n",
    "\n",
    "axes[0,1].annotate('B', fontsize=15,\n",
    "            xy=(0, 0.055), xycoords='data')\n",
    "\n",
    "axes[1,0].annotate('C', fontsize=15,\n",
    "            xy=(3, -24.5), xycoords='data')\n",
    "\n",
    "axes[1,1].annotate('D', fontsize=15,\n",
    "            xy=(-4.9, 1.1), xycoords='data')\n",
    "\n",
    "plt.subplots_adjust(left=None, bottom=None, right=None, top=None,\n",
    "                wspace=0.33, hspace=0.30)\n",
    "plt.legend()\n",
    "\n",
    "# fig.savefig(\"Fig2_FitWC.pdf\")"
   ]
  },
  {
   "cell_type": "code",
   "execution_count": 261,
   "metadata": {},
   "outputs": [
    {
     "data": {
      "text/plain": [
       "29"
      ]
     },
     "execution_count": 261,
     "metadata": {},
     "output_type": "execute_result"
    }
   ],
   "source": [
    "200-171"
   ]
  },
  {
   "cell_type": "markdown",
   "metadata": {},
   "source": [
    "https://python-graph-gallery.com/25-histogram-with-several-variables-seaborn/\n",
    "\n",
    "https://matplotlib.org/users/dflt_style_changes.html"
   ]
  },
  {
   "cell_type": "code",
   "execution_count": null,
   "metadata": {},
   "outputs": [],
   "source": []
  }
 ],
 "metadata": {
  "kernelspec": {
   "display_name": "bunny",
   "language": "python",
   "name": "bunny"
  },
  "language_info": {
   "codemirror_mode": {
    "name": "ipython",
    "version": 2
   },
   "file_extension": ".py",
   "mimetype": "text/x-python",
   "name": "python",
   "nbconvert_exporter": "python",
   "pygments_lexer": "ipython2",
   "version": "2.7.14"
  }
 },
 "nbformat": 4,
 "nbformat_minor": 2
}
