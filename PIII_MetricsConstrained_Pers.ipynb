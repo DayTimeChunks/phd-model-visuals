{
 "cells": [
  {
   "cell_type": "code",
   "execution_count": 1,
   "metadata": {},
   "outputs": [],
   "source": [
    "import numpy as np\n",
    "from helpers import get_dff_fat\n",
    "from constants_v1 import *\n",
    "\n",
    "# Data frames\n",
    "import pandas as pd\n",
    "from helpers_pd import *\n",
    "pd.options.mode.chained_assignment = None  # default='warn'\n",
    "\n",
    "# Plotting\n",
    "import seaborn as sns\n",
    "sns.set()\n",
    "sns.set(rc={'figure.figsize':(11.7,8.27)})\n",
    "# sns.set(style=\"darkgrid\")\n",
    "import matplotlib.pyplot as plt\n",
    "# plt.style.use('seaborn-white')"
   ]
  },
  {
   "cell_type": "code",
   "execution_count": 2,
   "metadata": {},
   "outputs": [],
   "source": [
    "# %matplotlib nbagg"
   ]
  },
  {
   "cell_type": "markdown",
   "metadata": {},
   "source": [
    "## Selecting data frames to plot\n",
    "\n",
    "### Steps\n",
    "\n",
    "We want to selct only 4 time series of extremes, one max and one min for each model version at a given constraint.  \n",
    "\n",
    "- Select constraint conditions\n",
    "- Get min/max DT50 value (i.e. to select the correct time series to plot).\n",
    "- Get the 4 associated time series, assigne column name, e.g. \"DegVar_DT50min\", etc.\n",
    "- Repeat for Degradation, Persistence, Leaching (as percent of degradation)\n",
    "- Get any time series for total applied, make it cumulative\n",
    "- Merge all TSS, compute each column as percentage\n"
   ]
  },
  {
   "cell_type": "code",
   "execution_count": 3,
   "metadata": {},
   "outputs": [],
   "source": [
    "df = get_dff_fat(new=False, copy=True)"
   ]
  },
  {
   "cell_type": "code",
   "execution_count": 4,
   "metadata": {},
   "outputs": [],
   "source": [
    "df['k_d'] = df.loc[:, 'k_oc'] * df.loc[:,'f_oc']\n",
    "# Combined outlet and transects KGE Concentrations and d13C\n",
    "df['KGE-SM'] = (df.loc[:, 'KGE-CONC_out'] + df.loc[:, 'KGE-CONC-tra'])/2.0  \n",
    "df['KGE-d13C'] = (df.loc[:, 'KGE-d13C_out'] + df.loc[:, 'KGE-d13C-tra'])/2.0\n",
    "df['Constraint'] = df.apply(WithIsoKGE, args=(0.6,), axis=1)"
   ]
  },
  {
   "cell_type": "code",
   "execution_count": 5,
   "metadata": {},
   "outputs": [
    {
     "name": "stdout",
     "output_type": "stream",
     "text": [
      "Maximum Conc.\n",
      "(0.712486405538371, 0.34824560772798485, 0.4892993470470307)\n",
      "Maximum d13C\n",
      "(0.9031088875320538, 0.70432567774303, 0.7895610427604134)\n"
     ]
    }
   ],
   "source": [
    "print(\"Maximum Conc.\")\n",
    "print(df['KGE-CONC-tra'].max(), df['KGE-CONC_out'].max(), df['KGE-SM'].max()) \n",
    "print(\"Maximum d13C\")\n",
    "print(df['KGE-d13C-tra'].max(), df['KGE-d13C_out'].max(), df['KGE-d13C'].max()) "
   ]
  },
  {
   "cell_type": "code",
   "execution_count": 6,
   "metadata": {},
   "outputs": [],
   "source": [
    "dfs = df[['Model',\n",
    "          'dt_50_ref',\n",
    "#           'k_d',\n",
    "          'epsilon_iso',\n",
    "          'KGE-CONC-tra',\n",
    "          'KGE-d13C-tra',\n",
    "          'KGE-SM', 'KGE-d13C', 'Constraint'\n",
    "          ]]"
   ]
  },
  {
   "cell_type": "code",
   "execution_count": 7,
   "metadata": {},
   "outputs": [
    {
     "name": "stdout",
     "output_type": "stream",
     "text": [
      "(4856, 143, 9)\n"
     ]
    },
    {
     "data": {
      "text/html": [
       "<div>\n",
       "<style scoped>\n",
       "    .dataframe tbody tr th:only-of-type {\n",
       "        vertical-align: middle;\n",
       "    }\n",
       "\n",
       "    .dataframe tbody tr th {\n",
       "        vertical-align: top;\n",
       "    }\n",
       "\n",
       "    .dataframe thead th {\n",
       "        text-align: right;\n",
       "    }\n",
       "</style>\n",
       "<table border=\"1\" class=\"dataframe\">\n",
       "  <thead>\n",
       "    <tr style=\"text-align: right;\">\n",
       "      <th></th>\n",
       "      <th>Model</th>\n",
       "      <th>dt_50_ref</th>\n",
       "      <th>epsilon_iso</th>\n",
       "      <th>KGE-CONC-tra</th>\n",
       "      <th>KGE-d13C-tra</th>\n",
       "      <th>KGE-SM</th>\n",
       "      <th>KGE-d13C</th>\n",
       "      <th>Constraint</th>\n",
       "    </tr>\n",
       "  </thead>\n",
       "  <tbody>\n",
       "    <tr>\n",
       "      <th>LHS_s2var5/63/</th>\n",
       "      <td>var</td>\n",
       "      <td>27.735685</td>\n",
       "      <td>2.511350</td>\n",
       "      <td>0.259951</td>\n",
       "      <td>0.899789</td>\n",
       "      <td>0.276957</td>\n",
       "      <td>0.660586</td>\n",
       "      <td>WC</td>\n",
       "    </tr>\n",
       "    <tr>\n",
       "      <th>LHS_sc1var1/319/</th>\n",
       "      <td>var</td>\n",
       "      <td>30.647681</td>\n",
       "      <td>1.693283</td>\n",
       "      <td>0.309571</td>\n",
       "      <td>0.698886</td>\n",
       "      <td>0.244648</td>\n",
       "      <td>-1.176122</td>\n",
       "      <td>NC</td>\n",
       "    </tr>\n",
       "    <tr>\n",
       "      <th>LHS_sc1var1/64/</th>\n",
       "      <td>var</td>\n",
       "      <td>35.562792</td>\n",
       "      <td>1.183197</td>\n",
       "      <td>0.558498</td>\n",
       "      <td>0.276037</td>\n",
       "      <td>0.425198</td>\n",
       "      <td>0.222959</td>\n",
       "      <td>NC</td>\n",
       "    </tr>\n",
       "    <tr>\n",
       "      <th>LHS_sc1var3/83/</th>\n",
       "      <td>var</td>\n",
       "      <td>17.101488</td>\n",
       "      <td>3.954226</td>\n",
       "      <td>0.470623</td>\n",
       "      <td>0.146470</td>\n",
       "      <td>0.325851</td>\n",
       "      <td>-1.289182</td>\n",
       "      <td>NC</td>\n",
       "    </tr>\n",
       "    <tr>\n",
       "      <th>LHS_sc1var3/96/</th>\n",
       "      <td>var</td>\n",
       "      <td>29.637323</td>\n",
       "      <td>4.566381</td>\n",
       "      <td>0.189803</td>\n",
       "      <td>0.173100</td>\n",
       "      <td>0.237736</td>\n",
       "      <td>0.227875</td>\n",
       "      <td>NC</td>\n",
       "    </tr>\n",
       "  </tbody>\n",
       "</table>\n",
       "</div>"
      ],
      "text/plain": [
       "                 Model  dt_50_ref  epsilon_iso  KGE-CONC-tra  KGE-d13C-tra  \\\n",
       "LHS_s2var5/63/     var  27.735685     2.511350      0.259951      0.899789   \n",
       "LHS_sc1var1/319/   var  30.647681     1.693283      0.309571      0.698886   \n",
       "LHS_sc1var1/64/    var  35.562792     1.183197      0.558498      0.276037   \n",
       "LHS_sc1var3/83/    var  17.101488     3.954226      0.470623      0.146470   \n",
       "LHS_sc1var3/96/    var  29.637323     4.566381      0.189803      0.173100   \n",
       "\n",
       "                    KGE-SM  KGE-d13C Constraint  \n",
       "LHS_s2var5/63/    0.276957  0.660586         WC  \n",
       "LHS_sc1var1/319/  0.244648 -1.176122         NC  \n",
       "LHS_sc1var1/64/   0.425198  0.222959         NC  \n",
       "LHS_sc1var3/83/   0.325851 -1.289182         NC  \n",
       "LHS_sc1var3/96/   0.237736  0.227875         NC  "
      ]
     },
     "execution_count": 7,
     "metadata": {},
     "output_type": "execute_result"
    }
   ],
   "source": [
    "# Filter\n",
    "ff = dfs.loc[(dfs['KGE-SM'] > 0.21)] # Try 25 with more data points\n",
    "ff_c = ff.loc[(ff['KGE-d13C'] > 0.6)]\n",
    "print(len(dfs), len(ff), len(ff_c))\n",
    "ff.tail()"
   ]
  },
  {
   "cell_type": "markdown",
   "metadata": {},
   "source": [
    "## Variable TSS"
   ]
  },
  {
   "cell_type": "code",
   "execution_count": 8,
   "metadata": {},
   "outputs": [
    {
     "name": "stdout",
     "output_type": "stream",
     "text": [
      "(10.06694087653415, 39.663271172617975)\n",
      "(18.183996780553546, 32.468032952814106)\n"
     ]
    }
   ],
   "source": [
    "# DF1\n",
    "ff_var = ff[ff['Constraint'] == 'NC']\n",
    "var_max = ff_var['dt_50_ref'].max()\n",
    "var_min = ff_var['dt_50_ref'].min()\n",
    "print(var_min, var_max)\n",
    "\n",
    "# DF2, Constrained model\n",
    "ff_var_c = ff_c[ff_c['Constraint'] == 'WC']\n",
    "var_maxc = ff_var_c['dt_50_ref'].max()\n",
    "var_minc = ff_var_c['dt_50_ref'].min()\n",
    "\n",
    "print(var_minc, var_maxc)"
   ]
  },
  {
   "cell_type": "code",
   "execution_count": 9,
   "metadata": {},
   "outputs": [
    {
     "name": "stdout",
     "output_type": "stream",
     "text": [
      "('LHS_gu1var6/2/', 'LHS_gu1var5/2/')\n",
      "(10.06694087653415, 39.663271172617975)\n",
      "('LHS_p1fix4/8/', 'LHS_p1var6/179/')\n",
      "(18.183996780553546, 32.468032952814106)\n"
     ]
    }
   ],
   "source": [
    "# Get paths and their min, max values\n",
    "# var_paths = []\n",
    "# var_pvals = []\n",
    "\n",
    "# for df in dflist:\n",
    "#     val = df['dt_50_ref'][(df['Model'] == 'var')].min()\n",
    "#     mIndex = df.index[(ff['Model'] == 'var') & (ff['dt_50_ref'] == var_min)].tolist()[0]\n",
    "#     var_paths.append(index)\n",
    "\n",
    "var_paths = [\n",
    "    ff.index[(ff['Constraint'] == 'NC') & (ff['dt_50_ref'] == var_min)].tolist()[0],\n",
    "    ff.index[(ff['Constraint'] == 'NC') & (ff['dt_50_ref'] == var_max)].tolist()[0],\n",
    "    ff_c.index[(ff_c['Constraint'] == 'WC') & (ff_c['dt_50_ref'] == var_minc)].tolist()[0],\n",
    "    ff_c.index[(ff_c['Constraint'] == 'WC') & (ff_c['dt_50_ref'] == var_maxc)].tolist()[0]\n",
    "]\n",
    "\n",
    "var_pvals = [\n",
    "    ff['dt_50_ref'][(ff['Constraint'] == 'NC')].min(),\n",
    "    ff['dt_50_ref'][(ff['Constraint'] == 'NC')].max(),\n",
    "    ff_c['dt_50_ref'][(ff_c['Constraint'] == 'WC')].min(),\n",
    "    ff_c['dt_50_ref'][(ff_c['Constraint'] == 'WC')].max()\n",
    "]\n",
    "\n",
    "df_types = [\n",
    "    'vNC', # no constraint\n",
    "    'vNC',\n",
    "    'vWC', # with constraint\n",
    "    'vWC'\n",
    "]\n",
    "\n",
    "print(var_paths[0], var_paths[1])\n",
    "print(var_pvals[0], var_pvals[1])\n",
    "print(var_paths[2], var_paths[3])\n",
    "print(var_pvals[2], var_pvals[3])"
   ]
  },
  {
   "cell_type": "markdown",
   "metadata": {},
   "source": [
    "### Get cumulative applied mass (grams)\n",
    "\n",
    "All data frames have this time series, and does not change (inefficiency yes)"
   ]
  },
  {
   "cell_type": "code",
   "execution_count": 10,
   "metadata": {},
   "outputs": [],
   "source": [
    "path = var_paths[0]\n",
    "app = pd.read_table(path + \"resM_accAPP.tss\", \n",
    "                   skiprows=4, delim_whitespace=True,\n",
    "                                names=['Jdays', 'app'],\n",
    "                                header=None)\n",
    "# time = app['Jdays']\n",
    "app['Capp'] = app['app'].cumsum()\n",
    "# app.head()"
   ]
  },
  {
   "cell_type": "markdown",
   "metadata": {},
   "source": [
    "## Persistence"
   ]
  },
  {
   "cell_type": "code",
   "execution_count": 26,
   "metadata": {},
   "outputs": [
    {
     "name": "stdout",
     "output_type": "stream",
     "text": [
      "Persist\n"
     ]
    },
    {
     "data": {
      "text/html": [
       "<div>\n",
       "<style scoped>\n",
       "    .dataframe tbody tr th:only-of-type {\n",
       "        vertical-align: middle;\n",
       "    }\n",
       "\n",
       "    .dataframe tbody tr th {\n",
       "        vertical-align: top;\n",
       "    }\n",
       "\n",
       "    .dataframe thead th {\n",
       "        text-align: right;\n",
       "    }\n",
       "</style>\n",
       "<table border=\"1\" class=\"dataframe\">\n",
       "  <thead>\n",
       "    <tr style=\"text-align: right;\">\n",
       "      <th></th>\n",
       "      <th>Jdays</th>\n",
       "      <th>variable</th>\n",
       "      <th>value</th>\n",
       "      <th>Type</th>\n",
       "    </tr>\n",
       "  </thead>\n",
       "  <tbody>\n",
       "    <tr>\n",
       "      <th>5</th>\n",
       "      <td>171</td>\n",
       "      <td>Persist.10vNC</td>\n",
       "      <td>95.059503</td>\n",
       "      <td>Un-constrained</td>\n",
       "    </tr>\n",
       "    <tr>\n",
       "      <th>6</th>\n",
       "      <td>172</td>\n",
       "      <td>Persist.10vNC</td>\n",
       "      <td>88.244354</td>\n",
       "      <td>Un-constrained</td>\n",
       "    </tr>\n",
       "    <tr>\n",
       "      <th>7</th>\n",
       "      <td>173</td>\n",
       "      <td>Persist.10vNC</td>\n",
       "      <td>82.105020</td>\n",
       "      <td>Un-constrained</td>\n",
       "    </tr>\n",
       "    <tr>\n",
       "      <th>8</th>\n",
       "      <td>174</td>\n",
       "      <td>Persist.10vNC</td>\n",
       "      <td>76.641689</td>\n",
       "      <td>Un-constrained</td>\n",
       "    </tr>\n",
       "    <tr>\n",
       "      <th>9</th>\n",
       "      <td>175</td>\n",
       "      <td>Persist.10vNC</td>\n",
       "      <td>71.589170</td>\n",
       "      <td>Un-constrained</td>\n",
       "    </tr>\n",
       "  </tbody>\n",
       "</table>\n",
       "</div>"
      ],
      "text/plain": [
       "   Jdays       variable      value            Type\n",
       "5    171  Persist.10vNC  95.059503  Un-constrained\n",
       "6    172  Persist.10vNC  88.244354  Un-constrained\n",
       "7    173  Persist.10vNC  82.105020  Un-constrained\n",
       "8    174  Persist.10vNC  76.641689  Un-constrained\n",
       "9    175  Persist.10vNC  71.589170  Un-constrained"
      ]
     },
     "execution_count": 26,
     "metadata": {},
     "output_type": "execute_result"
    }
   ],
   "source": [
    "filename = \"resM_light_real_z0.tss\"\n",
    "vname = 'Persist'\n",
    "print(vname)\n",
    "\n",
    "sets = []\n",
    "for i in range(len(var_paths)):\n",
    "    # Define variable name\n",
    "    series_name = vname + '.' + str(int(var_pvals[i])) + df_types[i]\n",
    "    # Get sim TSS\n",
    "    sim = pd.read_table(var_paths[i] + filename, \n",
    "                   skiprows=4, delim_whitespace=True,\n",
    "                                names=['Jdays', series_name],\n",
    "                                header=None\n",
    "                  )\n",
    "    # Cumalte mass degraded\n",
    "    sim['Cper'] = sim[series_name]\n",
    "    \n",
    "    # Calculate percentage, retain.\n",
    "    sim = pd.merge(app, sim, how='inner', on='Jdays')\n",
    "    sim[series_name] = 100*(sim['Cper']/sim['Capp'])\n",
    "    sim = sim[['Jdays', series_name]]\n",
    "    \n",
    "    sim = pd.melt(sim, id_vars=['Jdays'],\n",
    "             value_vars=[series_name])\n",
    "    \n",
    "    if i < 2:\n",
    "        sim['Type'] = sim.apply (lambda row: ModelType(row, 'Un-constrained'),axis=1) \n",
    "    else: \n",
    "        sim['Type'] = sim.apply (lambda row: ModelType(row, 'Constrained'),axis=1) \n",
    "        \n",
    "    sim = sim.loc[5:, ]\n",
    "    \n",
    "    sets.append(sim)\n",
    "    \n",
    "    \n",
    "sdf = pd.concat(sets)    \n",
    "# sdf = reduce(lambda left, right: pd.merge(left,right,on='Jdays'), sets)\n",
    "\n",
    "sdf.head()\n"
   ]
  },
  {
   "cell_type": "code",
   "execution_count": 21,
   "metadata": {},
   "outputs": [],
   "source": [
    "# sns.lineplot(x=\"Jdays\", y=\"value\", data=sets[0], hue=\"Type\")"
   ]
  },
  {
   "cell_type": "code",
   "execution_count": 27,
   "metadata": {},
   "outputs": [
    {
     "name": "stdout",
     "output_type": "stream",
     "text": [
      "2.9936343415754156\n"
     ]
    },
    {
     "data": {
      "text/html": [
       "<div>\n",
       "<style scoped>\n",
       "    .dataframe tbody tr th:only-of-type {\n",
       "        vertical-align: middle;\n",
       "    }\n",
       "\n",
       "    .dataframe tbody tr th {\n",
       "        vertical-align: top;\n",
       "    }\n",
       "\n",
       "    .dataframe thead th {\n",
       "        text-align: right;\n",
       "    }\n",
       "</style>\n",
       "<table border=\"1\" class=\"dataframe\">\n",
       "  <thead>\n",
       "    <tr style=\"text-align: right;\">\n",
       "      <th></th>\n",
       "      <th>Jdays</th>\n",
       "      <th>variable</th>\n",
       "      <th>value</th>\n",
       "      <th>Type</th>\n",
       "    </tr>\n",
       "  </thead>\n",
       "  <tbody>\n",
       "    <tr>\n",
       "      <th>116</th>\n",
       "      <td>282</td>\n",
       "      <td>Persist.10vNC</td>\n",
       "      <td>3.492489</td>\n",
       "      <td>Un-constrained</td>\n",
       "    </tr>\n",
       "    <tr>\n",
       "      <th>117</th>\n",
       "      <td>283</td>\n",
       "      <td>Persist.10vNC</td>\n",
       "      <td>3.342506</td>\n",
       "      <td>Un-constrained</td>\n",
       "    </tr>\n",
       "    <tr>\n",
       "      <th>118</th>\n",
       "      <td>284</td>\n",
       "      <td>Persist.10vNC</td>\n",
       "      <td>3.209327</td>\n",
       "      <td>Un-constrained</td>\n",
       "    </tr>\n",
       "    <tr>\n",
       "      <th>119</th>\n",
       "      <td>285</td>\n",
       "      <td>Persist.10vNC</td>\n",
       "      <td>3.105645</td>\n",
       "      <td>Un-constrained</td>\n",
       "    </tr>\n",
       "    <tr>\n",
       "      <th>120</th>\n",
       "      <td>286</td>\n",
       "      <td>Persist.10vNC</td>\n",
       "      <td>2.993634</td>\n",
       "      <td>Un-constrained</td>\n",
       "    </tr>\n",
       "  </tbody>\n",
       "</table>\n",
       "</div>"
      ],
      "text/plain": [
       "     Jdays       variable     value            Type\n",
       "116    282  Persist.10vNC  3.492489  Un-constrained\n",
       "117    283  Persist.10vNC  3.342506  Un-constrained\n",
       "118    284  Persist.10vNC  3.209327  Un-constrained\n",
       "119    285  Persist.10vNC  3.105645  Un-constrained\n",
       "120    286  Persist.10vNC  2.993634  Un-constrained"
      ]
     },
     "execution_count": 27,
     "metadata": {},
     "output_type": "execute_result"
    }
   ],
   "source": [
    "print(sets[0]['value'].min())\n",
    "sets[0].tail()"
   ]
  },
  {
   "cell_type": "code",
   "execution_count": 25,
   "metadata": {},
   "outputs": [],
   "source": [
    "# sns.lineplot(x=\"Jdays\", y=\"value\", data=sets[1], hue=\"Type\")"
   ]
  },
  {
   "cell_type": "code",
   "execution_count": 28,
   "metadata": {},
   "outputs": [
    {
     "name": "stdout",
     "output_type": "stream",
     "text": [
      "5.41897076144117\n"
     ]
    },
    {
     "data": {
      "text/html": [
       "<div>\n",
       "<style scoped>\n",
       "    .dataframe tbody tr th:only-of-type {\n",
       "        vertical-align: middle;\n",
       "    }\n",
       "\n",
       "    .dataframe tbody tr th {\n",
       "        vertical-align: top;\n",
       "    }\n",
       "\n",
       "    .dataframe thead th {\n",
       "        text-align: right;\n",
       "    }\n",
       "</style>\n",
       "<table border=\"1\" class=\"dataframe\">\n",
       "  <thead>\n",
       "    <tr style=\"text-align: right;\">\n",
       "      <th></th>\n",
       "      <th>Jdays</th>\n",
       "      <th>variable</th>\n",
       "      <th>value</th>\n",
       "      <th>Type</th>\n",
       "    </tr>\n",
       "  </thead>\n",
       "  <tbody>\n",
       "    <tr>\n",
       "      <th>116</th>\n",
       "      <td>282</td>\n",
       "      <td>Persist.39vNC</td>\n",
       "      <td>6.055201</td>\n",
       "      <td>Un-constrained</td>\n",
       "    </tr>\n",
       "    <tr>\n",
       "      <th>117</th>\n",
       "      <td>283</td>\n",
       "      <td>Persist.39vNC</td>\n",
       "      <td>5.975038</td>\n",
       "      <td>Un-constrained</td>\n",
       "    </tr>\n",
       "    <tr>\n",
       "      <th>118</th>\n",
       "      <td>284</td>\n",
       "      <td>Persist.39vNC</td>\n",
       "      <td>5.902133</td>\n",
       "      <td>Un-constrained</td>\n",
       "    </tr>\n",
       "    <tr>\n",
       "      <th>119</th>\n",
       "      <td>285</td>\n",
       "      <td>Persist.39vNC</td>\n",
       "      <td>5.497770</td>\n",
       "      <td>Un-constrained</td>\n",
       "    </tr>\n",
       "    <tr>\n",
       "      <th>120</th>\n",
       "      <td>286</td>\n",
       "      <td>Persist.39vNC</td>\n",
       "      <td>5.418971</td>\n",
       "      <td>Un-constrained</td>\n",
       "    </tr>\n",
       "  </tbody>\n",
       "</table>\n",
       "</div>"
      ],
      "text/plain": [
       "     Jdays       variable     value            Type\n",
       "116    282  Persist.39vNC  6.055201  Un-constrained\n",
       "117    283  Persist.39vNC  5.975038  Un-constrained\n",
       "118    284  Persist.39vNC  5.902133  Un-constrained\n",
       "119    285  Persist.39vNC  5.497770  Un-constrained\n",
       "120    286  Persist.39vNC  5.418971  Un-constrained"
      ]
     },
     "execution_count": 28,
     "metadata": {},
     "output_type": "execute_result"
    }
   ],
   "source": [
    "print(sets[1]['value'].min())\n",
    "sets[1].tail()"
   ]
  },
  {
   "cell_type": "code",
   "execution_count": 29,
   "metadata": {},
   "outputs": [
    {
     "data": {
      "text/html": [
       "<div>\n",
       "<style scoped>\n",
       "    .dataframe tbody tr th:only-of-type {\n",
       "        vertical-align: middle;\n",
       "    }\n",
       "\n",
       "    .dataframe tbody tr th {\n",
       "        vertical-align: top;\n",
       "    }\n",
       "\n",
       "    .dataframe thead th {\n",
       "        text-align: right;\n",
       "    }\n",
       "</style>\n",
       "<table border=\"1\" class=\"dataframe\">\n",
       "  <thead>\n",
       "    <tr style=\"text-align: right;\">\n",
       "      <th></th>\n",
       "      <th>Jdays</th>\n",
       "      <th>variable</th>\n",
       "      <th>value</th>\n",
       "      <th>Type</th>\n",
       "    </tr>\n",
       "  </thead>\n",
       "  <tbody>\n",
       "    <tr>\n",
       "      <th>116</th>\n",
       "      <td>282</td>\n",
       "      <td>Persist.18vWC</td>\n",
       "      <td>6.107000</td>\n",
       "      <td>Constrained</td>\n",
       "    </tr>\n",
       "    <tr>\n",
       "      <th>117</th>\n",
       "      <td>283</td>\n",
       "      <td>Persist.18vWC</td>\n",
       "      <td>5.908574</td>\n",
       "      <td>Constrained</td>\n",
       "    </tr>\n",
       "    <tr>\n",
       "      <th>118</th>\n",
       "      <td>284</td>\n",
       "      <td>Persist.18vWC</td>\n",
       "      <td>5.717512</td>\n",
       "      <td>Constrained</td>\n",
       "    </tr>\n",
       "    <tr>\n",
       "      <th>119</th>\n",
       "      <td>285</td>\n",
       "      <td>Persist.18vWC</td>\n",
       "      <td>5.506036</td>\n",
       "      <td>Constrained</td>\n",
       "    </tr>\n",
       "    <tr>\n",
       "      <th>120</th>\n",
       "      <td>286</td>\n",
       "      <td>Persist.18vWC</td>\n",
       "      <td>5.329471</td>\n",
       "      <td>Constrained</td>\n",
       "    </tr>\n",
       "  </tbody>\n",
       "</table>\n",
       "</div>"
      ],
      "text/plain": [
       "     Jdays       variable     value         Type\n",
       "116    282  Persist.18vWC  6.107000  Constrained\n",
       "117    283  Persist.18vWC  5.908574  Constrained\n",
       "118    284  Persist.18vWC  5.717512  Constrained\n",
       "119    285  Persist.18vWC  5.506036  Constrained\n",
       "120    286  Persist.18vWC  5.329471  Constrained"
      ]
     },
     "execution_count": 29,
     "metadata": {},
     "output_type": "execute_result"
    }
   ],
   "source": [
    "sets[2].tail()"
   ]
  },
  {
   "cell_type": "code",
   "execution_count": 30,
   "metadata": {},
   "outputs": [
    {
     "data": {
      "text/html": [
       "<div>\n",
       "<style scoped>\n",
       "    .dataframe tbody tr th:only-of-type {\n",
       "        vertical-align: middle;\n",
       "    }\n",
       "\n",
       "    .dataframe tbody tr th {\n",
       "        vertical-align: top;\n",
       "    }\n",
       "\n",
       "    .dataframe thead th {\n",
       "        text-align: right;\n",
       "    }\n",
       "</style>\n",
       "<table border=\"1\" class=\"dataframe\">\n",
       "  <thead>\n",
       "    <tr style=\"text-align: right;\">\n",
       "      <th></th>\n",
       "      <th>Jdays</th>\n",
       "      <th>variable</th>\n",
       "      <th>value</th>\n",
       "      <th>Type</th>\n",
       "    </tr>\n",
       "  </thead>\n",
       "  <tbody>\n",
       "    <tr>\n",
       "      <th>116</th>\n",
       "      <td>282</td>\n",
       "      <td>Persist.32vWC</td>\n",
       "      <td>12.666007</td>\n",
       "      <td>Constrained</td>\n",
       "    </tr>\n",
       "    <tr>\n",
       "      <th>117</th>\n",
       "      <td>283</td>\n",
       "      <td>Persist.32vWC</td>\n",
       "      <td>12.433153</td>\n",
       "      <td>Constrained</td>\n",
       "    </tr>\n",
       "    <tr>\n",
       "      <th>118</th>\n",
       "      <td>284</td>\n",
       "      <td>Persist.32vWC</td>\n",
       "      <td>12.223503</td>\n",
       "      <td>Constrained</td>\n",
       "    </tr>\n",
       "    <tr>\n",
       "      <th>119</th>\n",
       "      <td>285</td>\n",
       "      <td>Persist.32vWC</td>\n",
       "      <td>11.913633</td>\n",
       "      <td>Constrained</td>\n",
       "    </tr>\n",
       "    <tr>\n",
       "      <th>120</th>\n",
       "      <td>286</td>\n",
       "      <td>Persist.32vWC</td>\n",
       "      <td>11.676731</td>\n",
       "      <td>Constrained</td>\n",
       "    </tr>\n",
       "  </tbody>\n",
       "</table>\n",
       "</div>"
      ],
      "text/plain": [
       "     Jdays       variable      value         Type\n",
       "116    282  Persist.32vWC  12.666007  Constrained\n",
       "117    283  Persist.32vWC  12.433153  Constrained\n",
       "118    284  Persist.32vWC  12.223503  Constrained\n",
       "119    285  Persist.32vWC  11.913633  Constrained\n",
       "120    286  Persist.32vWC  11.676731  Constrained"
      ]
     },
     "execution_count": 30,
     "metadata": {},
     "output_type": "execute_result"
    }
   ],
   "source": [
    "sets[3].tail()"
   ]
  },
  {
   "cell_type": "code",
   "execution_count": 15,
   "metadata": {},
   "outputs": [
    {
     "data": {
      "text/plain": [
       "<matplotlib.axes._subplots.AxesSubplot at 0x1a1b281e90>"
      ]
     },
     "execution_count": 15,
     "metadata": {},
     "output_type": "execute_result"
    },
    {
     "data": {
      "image/png": "[encoded data removed]",
      "text/plain": [
       "<Figure size 432x288 with 1 Axes>"
      ]
     },
     "metadata": {},
     "output_type": "display_data"
    }
   ],
   "source": [
    "sns.lineplot(x=\"Jdays\", y=\"value\", data=sdf, hue=\"Type\")"
   ]
  },
  {
   "cell_type": "code",
   "execution_count": 16,
   "metadata": {},
   "outputs": [
    {
     "data": {
      "image/png": "[encoded data removed]",
      "text/plain": [
       "<Figure size 432x288 with 2 Axes>"
      ]
     },
     "metadata": {},
     "output_type": "display_data"
    }
   ],
   "source": [
    "fig, (ax1, ax2) = plt.subplots(1, 2, sharex=False, sharey=True)\n",
    "sns.lineplot(x=\"Jdays\", y=\"value\", data=sdf, hue=\"Type\", ax=ax1)\n",
    "plt.show()"
   ]
  },
  {
   "cell_type": "code",
   "execution_count": null,
   "metadata": {},
   "outputs": [],
   "source": []
  }
 ],
 "metadata": {
  "kernelspec": {
   "display_name": "bunny",
   "language": "python",
   "name": "bunny"
  },
  "language_info": {
   "codemirror_mode": {
    "name": "ipython",
    "version": 2
   },
   "file_extension": ".py",
   "mimetype": "text/x-python",
   "name": "python",
   "nbconvert_exporter": "python",
   "pygments_lexer": "ipython2",
   "version": "2.7.14"
  }
 },
 "nbformat": 4,
 "nbformat_minor": 2
}
