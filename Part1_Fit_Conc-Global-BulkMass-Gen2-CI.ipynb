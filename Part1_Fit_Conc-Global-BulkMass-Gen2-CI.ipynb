{
 "cells": [
  {
   "cell_type": "code",
   "execution_count": 1,
   "metadata": {},
   "outputs": [],
   "source": [
    "gen = \"Gen2\"\n",
    "path = '../phd-model-process/'\n",
    "\n",
    "import pandas as pd\n",
    "pd.options.mode.chained_assignment = None  # default='warn'\n",
    "import numpy as np\n",
    "import scipy as sp\n",
    "import scipy.stats as st\n",
    "\n",
    "from helpers_pd import *\n",
    "\n",
    "# Plotting\n",
    "import seaborn as sns\n",
    "sns.set()\n",
    "# import seaborn as sns; sns.set(style=\"ticks\", color_codes=True)\n",
    "# sns.set(style=\"darkgrid\")\n",
    "import matplotlib.pyplot as plt\n",
    "# plt.style.use('seaborn-white')"
   ]
  },
  {
   "cell_type": "code",
   "execution_count": 2,
   "metadata": {},
   "outputs": [],
   "source": [
    "palette = [\"#F44336\", '#673AB7', '#3F51B5', '#009688', '#FF9800', '#4CAF50', '#03A9F4']\n",
    "# red, purple, indigo, teal-green, orange, green, light-blue\n",
    "# https://matplotlib.org/users/dflt_style_changes.html"
   ]
  },
  {
   "cell_type": "markdown",
   "metadata": {},
   "source": [
    "# Extracting observed Conc."
   ]
  },
  {
   "cell_type": "markdown",
   "metadata": {},
   "source": [
    "## Define transect"
   ]
  },
  {
   "cell_type": "code",
   "execution_count": 3,
   "metadata": {},
   "outputs": [
    {
     "data": {
      "text/html": [
       "<div>\n",
       "<style scoped>\n",
       "    .dataframe tbody tr th:only-of-type {\n",
       "        vertical-align: middle;\n",
       "    }\n",
       "\n",
       "    .dataframe tbody tr th {\n",
       "        vertical-align: top;\n",
       "    }\n",
       "\n",
       "    .dataframe thead th {\n",
       "        text-align: right;\n",
       "    }\n",
       "</style>\n",
       "<table border=\"1\" class=\"dataframe\">\n",
       "  <thead>\n",
       "    <tr style=\"text-align: right;\">\n",
       "      <th></th>\n",
       "      <th>Jdays</th>\n",
       "      <th>DayMoYr</th>\n",
       "      <th>IDcal</th>\n",
       "      <th>ug.g</th>\n",
       "      <th>ug.g.SD</th>\n",
       "    </tr>\n",
       "  </thead>\n",
       "  <tbody>\n",
       "    <tr>\n",
       "      <th>0</th>\n",
       "      <td>182</td>\n",
       "      <td>2016-03-30</td>\n",
       "      <td>B-182</td>\n",
       "      <td>2.864553</td>\n",
       "      <td>1.903255</td>\n",
       "    </tr>\n",
       "    <tr>\n",
       "      <th>1</th>\n",
       "      <td>188</td>\n",
       "      <td>2016-04-05</td>\n",
       "      <td>B-188</td>\n",
       "      <td>5.919575</td>\n",
       "      <td>3.728411</td>\n",
       "    </tr>\n",
       "    <tr>\n",
       "      <th>2</th>\n",
       "      <td>197</td>\n",
       "      <td>2016-04-14</td>\n",
       "      <td>B-197</td>\n",
       "      <td>4.746709</td>\n",
       "      <td>4.277725</td>\n",
       "    </tr>\n",
       "    <tr>\n",
       "      <th>3</th>\n",
       "      <td>201</td>\n",
       "      <td>2016-04-18</td>\n",
       "      <td>B-201</td>\n",
       "      <td>6.105674</td>\n",
       "      <td>5.731930</td>\n",
       "    </tr>\n",
       "    <tr>\n",
       "      <th>4</th>\n",
       "      <td>209</td>\n",
       "      <td>2016-04-26</td>\n",
       "      <td>B-209</td>\n",
       "      <td>3.838914</td>\n",
       "      <td>3.838981</td>\n",
       "    </tr>\n",
       "  </tbody>\n",
       "</table>\n",
       "</div>"
      ],
      "text/plain": [
       "   Jdays     DayMoYr  IDcal      ug.g   ug.g.SD\n",
       "0    182  2016-03-30  B-182  2.864553  1.903255\n",
       "1    188  2016-04-05  B-188  5.919575  3.728411\n",
       "2    197  2016-04-14  B-197  4.746709  4.277725\n",
       "3    201  2016-04-18  B-201  6.105674  5.731930\n",
       "4    209  2016-04-26  B-209  3.838914  3.838981"
      ]
     },
     "execution_count": 3,
     "metadata": {},
     "output_type": "execute_result"
    }
   ],
   "source": [
    "obs = pd.read_table(path + 'observations/conc_bulk_cal.tss')\n",
    "p_b = pd.read_table(path + 'observations/p_bAve.tss')\n",
    "obs.head()"
   ]
  },
  {
   "cell_type": "markdown",
   "metadata": {},
   "source": [
    "# Selecting indexes"
   ]
  },
  {
   "cell_type": "code",
   "execution_count": 4,
   "metadata": {},
   "outputs": [],
   "source": [
    "df = get_data(gen=gen)\n",
    "counter = 0"
   ]
  },
  {
   "cell_type": "code",
   "execution_count": 5,
   "metadata": {},
   "outputs": [],
   "source": [
    "# 'LHS_s2fix7/10/' in list(df.index)\n",
    "# list(df)"
   ]
  },
  {
   "cell_type": "code",
   "execution_count": 34,
   "metadata": {},
   "outputs": [],
   "source": [
    "df['k_d'] = df.loc[:, 'k_oc'] * df.loc[:,'f_oc']\n",
    "# Combined outlet and transects KGE Concentrations and d13C\n",
    "df['KGE-SM'] = (df.loc[:, 'KGE-CONC_out'] + df.loc[:, 'KGE-CONC-blk'])/2.0  \n",
    "df['KGE-d13C'] = (df.loc[:, 'KGE-d13C_out'] + df.loc[:, 'KGE-d13C-blk'])/2.0\n",
    "\n",
    "cst = 0.6\n",
    "df['Constraint'] = df.apply(WithIsoKGE, args=(cst,), axis=1)"
   ]
  },
  {
   "cell_type": "code",
   "execution_count": 35,
   "metadata": {},
   "outputs": [
    {
     "name": "stdout",
     "output_type": "stream",
     "text": [
      "Maximum Q\n",
      "(0.7837485191716109, 0.5572045839609856)\n",
      "Maximum Conc.\n",
      "(0.7881579577752558, 0.36006174064980434, 0.5583770337142131)\n",
      "Maximum d13C\n",
      "(0.9609798688603721, 0.5269168870017952, 0.730813741666772)\n"
     ]
    }
   ],
   "source": [
    "print(\"Maximum Q\")\n",
    "print(df['KGE-Q_out'].max(), df['NSE-Q_out'].max()) \n",
    "print(\"Maximum Conc.\")\n",
    "print(df['KGE-CONC-blk'].max(), df['KGE-CONC_out'].max(), df['KGE-SM'].max()) \n",
    "print(\"Maximum d13C\")\n",
    "print(df['KGE-d13C-blk'].max(), df['KGE-d13C_out'].max(), df['KGE-d13C'].max()) "
   ]
  },
  {
   "cell_type": "code",
   "execution_count": 36,
   "metadata": {},
   "outputs": [],
   "source": [
    "dfs = df[['Model',\n",
    "          'dt_50_ref',\n",
    "#           'k_d',\n",
    "#           'epsilon_iso',\n",
    "          'KGE-CONC-blk','KGE-d13C-blk',\n",
    "          'KGE-SM', 'KGE-d13C', 'Constraint'\n",
    "          ]]"
   ]
  },
  {
   "cell_type": "code",
   "execution_count": 37,
   "metadata": {},
   "outputs": [
    {
     "name": "stdout",
     "output_type": "stream",
     "text": [
      "(768, 26, 14)\n"
     ]
    }
   ],
   "source": [
    "# Filter\n",
    "ff = dfs.loc[(dfs['KGE-SM'] > 0.46)] # Try 25 with more data points\n",
    "ff_c = dfs.loc[(dfs['KGE-SM'] > 0) & (dfs['KGE-d13C'] >  cst)]\n",
    "\n",
    "# ff = dfs.loc[(dfs['KGE-CONC-blk'] > 0.70)] # Try 25 with more data points\n",
    "# ff_c = dfs.loc[(dfs['KGE-CONC-blk'] > 0.0) & (dfs['KGE-d13C-blk'] >  cst)]\n",
    "print(len(dfs), len(ff), len(ff_c))\n",
    "ff.tail()\n",
    "\n",
    "counter += 1"
   ]
  },
  {
   "cell_type": "code",
   "execution_count": 38,
   "metadata": {},
   "outputs": [
    {
     "name": "stdout",
     "output_type": "stream",
     "text": [
      "(26, 14)\n"
     ]
    }
   ],
   "source": [
    "nc = ff.index[(ff['Constraint'] == 'NC')].tolist() #[0]\n",
    "wc = ff_c.index[(ff_c['Constraint'] == 'WC')].tolist() #[0]\n",
    "print(len(nc), len(wc))"
   ]
  },
  {
   "cell_type": "markdown",
   "metadata": {},
   "source": [
    "## Update path for Generation"
   ]
  },
  {
   "cell_type": "code",
   "execution_count": 39,
   "metadata": {},
   "outputs": [],
   "source": [
    "if counter < 2:\n",
    "    path += gen + '/'"
   ]
  },
  {
   "cell_type": "code",
   "execution_count": 40,
   "metadata": {},
   "outputs": [
    {
     "data": {
      "text/plain": [
       "7"
      ]
     },
     "execution_count": 40,
     "metadata": {},
     "output_type": "execute_result"
    }
   ],
   "source": [
    "counter"
   ]
  },
  {
   "cell_type": "markdown",
   "metadata": {},
   "source": [
    "# Extracting time series"
   ]
  },
  {
   "cell_type": "code",
   "execution_count": 41,
   "metadata": {},
   "outputs": [],
   "source": [
    "def get_sets_bulk(name_list):\n",
    "    # Get sim conc, convert mass, ug/g -> ug\n",
    "    comp = ['nor', 'val', 'sou']\n",
    "    sets = []\n",
    "    for i in range(len(name_list)): # Set name\n",
    "        transects = []\n",
    "        for tran in comp:\n",
    "            # Append masses and conc.\n",
    "            filename = \"resM_\" + tran + \"CONC_real.tss\"\n",
    "            conc_name = tran + 'CONC'\n",
    "            sim = pd.read_table(path + name_list[i] + filename, \n",
    "                                skiprows=4, delim_whitespace=True,\n",
    "                                names=['Jdays', conc_name],\n",
    "                                header=None)\n",
    "            \n",
    "            mass_name = tran + \"Mass\"\n",
    "            sim[mass_name] = sim[conc_name] * p_b['pbAve'] * 4.0 * 10.0 * 10**3\n",
    "            transects.append(sim)\n",
    "            \n",
    "            # Append deltas\n",
    "            filename = \"resM_\" + tran + \"d13C_real.tss\"\n",
    "            delta_name = tran + 'd13C'\n",
    "            sim = pd.read_table(path + name_list[i] + filename,\n",
    "                                skiprows=4, delim_whitespace=True,\n",
    "                                names=['Jdays', delta_name],\n",
    "                                header=None)\n",
    "            transects.append(sim)\n",
    "\n",
    "        # Merge all transects\n",
    "        blk = reduce(lambda x, y: pd.merge(x, y, on='Jdays'), transects)\n",
    "\n",
    "        # Bulk concentration\n",
    "        conc_name = 'Conc_blk' +  name_list[i][3:]\n",
    "        blk[conc_name] = (blk['norCONC']*blk['norMass'] +\n",
    "                          blk['valCONC']*blk['valMass'] +\n",
    "                          blk['souCONC']*blk['souMass']\n",
    "                          ) / (blk['norMass'] + blk['valMass'] + blk['souMass'])\n",
    "\n",
    "        iso_name = 'd13C_blk' +  name_list[i][3:]\n",
    "        blk[iso_name] = (blk['nord13C']*blk['norMass'] +\n",
    "                         blk['vald13C']*blk['valMass'] +\n",
    "                         blk['soud13C']*blk['souMass']\n",
    "                        ) / (blk['norMass'] + blk['valMass'] + blk['souMass'])\n",
    "        \n",
    "        \n",
    "        blk = blk[['Jdays', conc_name, iso_name]]\n",
    "        sets.append(blk)\n",
    "    df = reduce(lambda left, right: pd.merge(left,right,on='Jdays'), sets)\n",
    "    return df"
   ]
  },
  {
   "cell_type": "code",
   "execution_count": 42,
   "metadata": {},
   "outputs": [],
   "source": [
    "# sets = get_sets_bulk(wc) # Returns sets merged\n",
    "# sets.tail()"
   ]
  },
  {
   "cell_type": "markdown",
   "metadata": {},
   "source": [
    "# Confidence interval calc."
   ]
  },
  {
   "cell_type": "code",
   "execution_count": 43,
   "metadata": {},
   "outputs": [],
   "source": [
    "def concat(row, plot):\n",
    "    return plot.capitalize() + '-' + str(int(row['Jdays']))"
   ]
  },
  {
   "cell_type": "code",
   "execution_count": 44,
   "metadata": {},
   "outputs": [],
   "source": [
    "def get_stats_bulk(df, measure, cst):\n",
    "    n = len(np.array(df.iloc[0,1:]))\n",
    "    df['mean'] = df.iloc[:,1:].mean(axis=1)\n",
    "    df['min'] = df.iloc[:,1:].min(axis=1)\n",
    "    df['max'] = df.iloc[:,1:].max(axis=1)\n",
    "    df['sem'] = df.iloc[:,1:].sem(axis=1)\n",
    "    df['sd'] = df.iloc[:,1:].std(axis=1)\n",
    "    df['high'] = df['mean'] + 2.*df['sd']\n",
    "    df['low'] = df['mean'] - 2.*df['sd']\n",
    "#     df['high'] = df.apply(get_ci, args=(n, 0.95, True), axis=1)\n",
    "#     df['low'] = df.apply(get_ci, args=(n, 0.95, False), axis=1)\n",
    "    if measure == \"Conc\":\n",
    "        df['low'] = df.apply(check_negative, axis=1)\n",
    "#     df['Trans'] = loc\n",
    "#     df['Area'] = loc[0]\n",
    "#     df['Level'] = level  # Composite or Detailed, \n",
    "    loc = \"B\"\n",
    "    df['IDcal'] = df.apply (lambda row: concat(row, loc), axis=1)\n",
    "    df['Type'] = df.apply(lambda row: ModelType(row, cst),axis=1)\n",
    "    return df[['Jdays', 'mean', 'high', 'low', 'max', 'min', 'sd', 'IDcal', 'Type']]"
   ]
  },
  {
   "cell_type": "code",
   "execution_count": 45,
   "metadata": {},
   "outputs": [],
   "source": [
    "sets_wc = get_sets_bulk(wc) "
   ]
  },
  {
   "cell_type": "code",
   "execution_count": 46,
   "metadata": {},
   "outputs": [],
   "source": [
    "sets_wc = get_sets_bulk(wc) \n",
    "sets_nc = get_sets_bulk(nc) \n",
    "time_wc = sets_wc.filter(like=\"Jdays\")\n",
    "time_nc = sets_nc.filter(like=\"Jdays\")\n",
    "\n",
    "conc_wc = sets_wc.filter(like='Conc')\n",
    "conc_nc = sets_nc.filter(like='Conc')\n",
    "\n",
    "conc_wc = pd.concat([time_wc, conc_wc], axis=1, join='inner')\n",
    "conc_nc = pd.concat([time_nc, conc_nc], axis=1, join='inner')"
   ]
  },
  {
   "cell_type": "code",
   "execution_count": 47,
   "metadata": {},
   "outputs": [],
   "source": [
    "wc_all = get_stats_bulk(conc_wc, 'Conc', 'WC')\n",
    "nc_all = get_stats_bulk(conc_nc, 'Conc', 'NC')"
   ]
  },
  {
   "cell_type": "code",
   "execution_count": 48,
   "metadata": {},
   "outputs": [],
   "source": [
    "wc_merged = pd.merge(wc_all, obs, how='outer', on='IDcal')\n",
    "nc_merged = pd.merge(nc_all, obs, how='outer', on='IDcal')"
   ]
  },
  {
   "cell_type": "code",
   "execution_count": 49,
   "metadata": {},
   "outputs": [
    {
     "data": {
      "text/html": [
       "<div>\n",
       "<style scoped>\n",
       "    .dataframe tbody tr th:only-of-type {\n",
       "        vertical-align: middle;\n",
       "    }\n",
       "\n",
       "    .dataframe tbody tr th {\n",
       "        vertical-align: top;\n",
       "    }\n",
       "\n",
       "    .dataframe thead th {\n",
       "        text-align: right;\n",
       "    }\n",
       "</style>\n",
       "<table border=\"1\" class=\"dataframe\">\n",
       "  <thead>\n",
       "    <tr style=\"text-align: right;\">\n",
       "      <th></th>\n",
       "      <th>Jdays_x</th>\n",
       "      <th>mean</th>\n",
       "      <th>high</th>\n",
       "      <th>low</th>\n",
       "      <th>max</th>\n",
       "      <th>min</th>\n",
       "      <th>sd</th>\n",
       "      <th>IDcal</th>\n",
       "      <th>Type</th>\n",
       "      <th>Jdays_y</th>\n",
       "      <th>DayMoYr</th>\n",
       "      <th>ug.g</th>\n",
       "      <th>ug.g.SD</th>\n",
       "    </tr>\n",
       "  </thead>\n",
       "  <tbody>\n",
       "    <tr>\n",
       "      <th>20</th>\n",
       "      <td>186</td>\n",
       "      <td>5.112886</td>\n",
       "      <td>7.555133</td>\n",
       "      <td>2.670640</td>\n",
       "      <td>5.544781</td>\n",
       "      <td>4.700419</td>\n",
       "      <td>1.221123</td>\n",
       "      <td>B-186</td>\n",
       "      <td>WC</td>\n",
       "      <td>NaN</td>\n",
       "      <td>NaN</td>\n",
       "      <td>NaN</td>\n",
       "      <td>NaN</td>\n",
       "    </tr>\n",
       "    <tr>\n",
       "      <th>21</th>\n",
       "      <td>187</td>\n",
       "      <td>4.967375</td>\n",
       "      <td>7.347595</td>\n",
       "      <td>2.587155</td>\n",
       "      <td>5.416094</td>\n",
       "      <td>4.533066</td>\n",
       "      <td>1.190110</td>\n",
       "      <td>B-187</td>\n",
       "      <td>WC</td>\n",
       "      <td>NaN</td>\n",
       "      <td>NaN</td>\n",
       "      <td>NaN</td>\n",
       "      <td>NaN</td>\n",
       "    </tr>\n",
       "    <tr>\n",
       "      <th>22</th>\n",
       "      <td>188</td>\n",
       "      <td>4.843610</td>\n",
       "      <td>7.172557</td>\n",
       "      <td>2.514664</td>\n",
       "      <td>5.310581</td>\n",
       "      <td>4.388391</td>\n",
       "      <td>1.164473</td>\n",
       "      <td>B-188</td>\n",
       "      <td>WC</td>\n",
       "      <td>188.0</td>\n",
       "      <td>2016-04-05</td>\n",
       "      <td>5.919575</td>\n",
       "      <td>3.728411</td>\n",
       "    </tr>\n",
       "    <tr>\n",
       "      <th>23</th>\n",
       "      <td>189</td>\n",
       "      <td>4.746434</td>\n",
       "      <td>7.037197</td>\n",
       "      <td>2.455671</td>\n",
       "      <td>5.236655</td>\n",
       "      <td>4.271268</td>\n",
       "      <td>1.145381</td>\n",
       "      <td>B-189</td>\n",
       "      <td>WC</td>\n",
       "      <td>NaN</td>\n",
       "      <td>NaN</td>\n",
       "      <td>NaN</td>\n",
       "      <td>NaN</td>\n",
       "    </tr>\n",
       "    <tr>\n",
       "      <th>24</th>\n",
       "      <td>190</td>\n",
       "      <td>4.645233</td>\n",
       "      <td>6.896253</td>\n",
       "      <td>2.394212</td>\n",
       "      <td>5.154248</td>\n",
       "      <td>4.150863</td>\n",
       "      <td>1.125510</td>\n",
       "      <td>B-190</td>\n",
       "      <td>WC</td>\n",
       "      <td>NaN</td>\n",
       "      <td>NaN</td>\n",
       "      <td>NaN</td>\n",
       "      <td>NaN</td>\n",
       "    </tr>\n",
       "  </tbody>\n",
       "</table>\n",
       "</div>"
      ],
      "text/plain": [
       "    Jdays_x      mean      high       low       max       min        sd  \\\n",
       "20      186  5.112886  7.555133  2.670640  5.544781  4.700419  1.221123   \n",
       "21      187  4.967375  7.347595  2.587155  5.416094  4.533066  1.190110   \n",
       "22      188  4.843610  7.172557  2.514664  5.310581  4.388391  1.164473   \n",
       "23      189  4.746434  7.037197  2.455671  5.236655  4.271268  1.145381   \n",
       "24      190  4.645233  6.896253  2.394212  5.154248  4.150863  1.125510   \n",
       "\n",
       "    IDcal Type  Jdays_y     DayMoYr      ug.g   ug.g.SD  \n",
       "20  B-186   WC      NaN         NaN       NaN       NaN  \n",
       "21  B-187   WC      NaN         NaN       NaN       NaN  \n",
       "22  B-188   WC    188.0  2016-04-05  5.919575  3.728411  \n",
       "23  B-189   WC      NaN         NaN       NaN       NaN  \n",
       "24  B-190   WC      NaN         NaN       NaN       NaN  "
      ]
     },
     "execution_count": 49,
     "metadata": {},
     "output_type": "execute_result"
    }
   ],
   "source": [
    "wc_merged[20:25]"
   ]
  },
  {
   "cell_type": "code",
   "execution_count": 50,
   "metadata": {},
   "outputs": [],
   "source": [
    "# nc_merged.head()\n",
    "# sets_all = pd.concat([nc_merged, wc_merged])"
   ]
  },
  {
   "cell_type": "code",
   "execution_count": 51,
   "metadata": {},
   "outputs": [],
   "source": [
    "# ff.tail() ff_c.tail()\n",
    "fix_nc = ff.loc[(ff['Model']=='fix')]\n",
    "var_nc = ff.loc[(ff['Model']=='var')]\n",
    "fix_wc = ff_c.loc[(ff_c['Model']=='fix')]\n",
    "var_wc = ff_c.loc[(ff_c['Model']=='var')]"
   ]
  },
  {
   "cell_type": "code",
   "execution_count": 52,
   "metadata": {},
   "outputs": [
    {
     "data": {
      "text/plain": [
       "<matplotlib.legend.Legend at 0x1a154ef910>"
      ]
     },
     "execution_count": 52,
     "metadata": {},
     "output_type": "execute_result"
    },
    {
     "data": {
      "image/png": "[encoded data removed]",
      "text/plain": [
       "<Figure size 504x307.44 with 2 Axes>"
      ]
     },
     "metadata": {},
     "output_type": "display_data"
    }
   ],
   "source": [
    "# sns.set(rc={'figure.figsize':(11.7, 8.27)})\n",
    "# ES&T max width, 1 column = 3.25in, 2-col = 7in \n",
    "sns.set_context(\"paper\")\n",
    "sns.set(rc={'figure.figsize':(7.0, 4.27)}) # Width, height, inches\n",
    "\n",
    "fig, (ax1, ax2) = plt.subplots(1, 2, sharex=False, sharey=False)\n",
    "\n",
    "time = np.array(nc_merged['Jdays_x']-171)\n",
    "obs_conc = np.array(nc_merged['ug.g'])\n",
    "err = np.array(nc_merged['ug.g.SD'])\n",
    "nc_mean = np.array(nc_merged['mean'])\n",
    "nc_high = np.array(nc_merged['high'])\n",
    "nc_low = np.array(nc_merged['low'])\n",
    "\n",
    "wc_mean = np.array(wc_merged['mean'])\n",
    "wc_high = np.array(wc_merged['high'])\n",
    "wc_low = np.array(wc_merged['low'])\n",
    "\n",
    "\n",
    "# NC\n",
    "ax1.plot(time, nc_mean, label='NC') # c= \"red\", marker='.', linestyle=':'\n",
    "ax1.legend(loc=\"upper right\")\n",
    "ax1.fill_between(time, nc_high, nc_low, alpha=0.5)\n",
    "# WC\n",
    "ax1.plot(time, wc_mean, label='WC') # c= \"red\", marker='.', linestyle=':'\n",
    "ax1.legend(loc=\"upper right\")\n",
    "ax1.fill_between(time, wc_high, wc_low, alpha=0.5)\n",
    "# Obs\n",
    "ax1.errorbar(time, obs_conc, err)\n",
    "ax1.scatter(time, obs_conc, c= \"green\", marker='.', label=\"BLK\")\n",
    "ax1.legend(loc=\"upper right\")\n",
    "ax1.set_ylabel(\"$\\mu g$ $g^{-1}$\")\n",
    "ax1.set_xlabel(\"Days after 1st App.\")\n",
    "\n",
    "sns.distplot( ff[\"dt_50_ref\"] , color=\"C0\", label=\"NC\", ax=ax2)\n",
    "# sns.distplot( var_nc[\"dt_50_ref\"] , color=\"red\", label=\"Var - NC\", ax=ax2)\n",
    "sns.distplot( ff_c[\"dt_50_ref\"] , color=\"C1\", label=\"WC\", ax=ax2)\n",
    "# sns.distplot( var_wc[\"dt_50_ref\"] , color=\"teal\", label=\"Var - WC\", ax=ax2)\n",
    "ax2.set_xlabel(\"DT50\")\n",
    "ax2.set_ylabel(\"$f$\")\n",
    "\n",
    "plt.subplots_adjust(left=None, bottom=None, right=None, top=None,\n",
    "                wspace=0.3, hspace=None)\n",
    "plt.legend()\n",
    "\n",
    "# fig.savefig(\"Fig1_FitNC.pdf\")\n",
    "# sns.pointplot(x=\"Jdays_x\", y=\"ug.g\", data=sets_all.loc[sets_all['Type']==\"WC\"], join=False, ax=ax1)"
   ]
  },
  {
   "cell_type": "code",
   "execution_count": 25,
   "metadata": {},
   "outputs": [
    {
     "data": {
      "text/plain": [
       "29"
      ]
     },
     "execution_count": 25,
     "metadata": {},
     "output_type": "execute_result"
    }
   ],
   "source": [
    "200-171"
   ]
  },
  {
   "cell_type": "markdown",
   "metadata": {},
   "source": [
    "https://python-graph-gallery.com/25-histogram-with-several-variables-seaborn/"
   ]
  },
  {
   "cell_type": "code",
   "execution_count": null,
   "metadata": {},
   "outputs": [],
   "source": []
  }
 ],
 "metadata": {
  "kernelspec": {
   "display_name": "bunny",
   "language": "python",
   "name": "bunny"
  },
  "language_info": {
   "codemirror_mode": {
    "name": "ipython",
    "version": 2
   },
   "file_extension": ".py",
   "mimetype": "text/x-python",
   "name": "python",
   "nbconvert_exporter": "python",
   "pygments_lexer": "ipython2",
   "version": "2.7.14"
  }
 },
 "nbformat": 4,
 "nbformat_minor": 2
}
