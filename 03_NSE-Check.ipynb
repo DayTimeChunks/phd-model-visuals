{
 "cells": [
  {
   "cell_type": "code",
   "execution_count": 1,
   "metadata": {},
   "outputs": [],
   "source": [
    "import numpy as np\n",
    "from helpers import * # get_dff_fat\n",
    "from constants_v1 import *\n",
    "\n",
    "# Data frames\n",
    "import pandas as pd\n",
    "from helpers_pd import *\n",
    "pd.options.mode.chained_assignment = None  # default='warn'\n",
    "\n",
    "# Plotting\n",
    "import seaborn as sns\n",
    "# sns.set(style=\"darkgrid\")\n",
    "import matplotlib.pyplot as plt\n",
    "# plt.style.use('seaborn-white')"
   ]
  },
  {
   "cell_type": "markdown",
   "metadata": {},
   "source": [
    "## Comparing Nash Calculations, with and without log() tranforms\n",
    "\n",
    "### Steps\n",
    "\n",
    "1. Select constraint conditions\n",
    "    - Outlet conc.\n",
    "        - get_dataframe(path, 'CONC_out', 'outlet')\n",
    "2. Calcualte NASH:\n",
    "    - get_nash(df1, col)\n",
    "    - get_nash_test(df1, col)  \n",
    "3. Repate for soils\n",
    "    - get_dataframe(path, 'CONC', 'transects')\n"
   ]
  },
  {
   "cell_type": "code",
   "execution_count": 2,
   "metadata": {},
   "outputs": [],
   "source": [
    "df = get_dff_fat(new=False, copy=True)"
   ]
  },
  {
   "cell_type": "code",
   "execution_count": 3,
   "metadata": {},
   "outputs": [],
   "source": [
    "dfs = df[['Model',\n",
    "          'NSE-CONC-tra',\n",
    "          'NSE-d13C-tra',\n",
    "          'NSE-CONC_out',\n",
    "          'NSE-d13C_out',\n",
    "          'NSE-Q_out',\n",
    "          'MAE-CONC-tra'\n",
    "          ]]"
   ]
  },
  {
   "cell_type": "code",
   "execution_count": 4,
   "metadata": {},
   "outputs": [
    {
     "name": "stdout",
     "output_type": "stream",
     "text": [
      "1154\n"
     ]
    },
    {
     "data": {
      "text/html": [
       "<div>\n",
       "<style scoped>\n",
       "    .dataframe tbody tr th:only-of-type {\n",
       "        vertical-align: middle;\n",
       "    }\n",
       "\n",
       "    .dataframe tbody tr th {\n",
       "        vertical-align: top;\n",
       "    }\n",
       "\n",
       "    .dataframe thead th {\n",
       "        text-align: right;\n",
       "    }\n",
       "</style>\n",
       "<table border=\"1\" class=\"dataframe\">\n",
       "  <thead>\n",
       "    <tr style=\"text-align: right;\">\n",
       "      <th></th>\n",
       "      <th>Model</th>\n",
       "      <th>NSE-CONC-tra</th>\n",
       "      <th>NSE-d13C-tra</th>\n",
       "      <th>NSE-CONC_out</th>\n",
       "      <th>NSE-d13C_out</th>\n",
       "      <th>NSE-Q_out</th>\n",
       "      <th>MAE-CONC-tra</th>\n",
       "    </tr>\n",
       "  </thead>\n",
       "  <tbody>\n",
       "    <tr>\n",
       "      <th>LHS_be1fix3/1/</th>\n",
       "      <td>fix</td>\n",
       "      <td>-1.865557</td>\n",
       "      <td>-1.074527</td>\n",
       "      <td>-7.279965</td>\n",
       "      <td>-1.110055</td>\n",
       "      <td>0.393931</td>\n",
       "      <td>2.695889</td>\n",
       "    </tr>\n",
       "    <tr>\n",
       "      <th>LHS_be1fix3/107/</th>\n",
       "      <td>fix</td>\n",
       "      <td>-2.560891</td>\n",
       "      <td>0.102552</td>\n",
       "      <td>-8.535985</td>\n",
       "      <td>-0.044981</td>\n",
       "      <td>0.462444</td>\n",
       "      <td>3.139799</td>\n",
       "    </tr>\n",
       "    <tr>\n",
       "      <th>LHS_be1fix3/109/</th>\n",
       "      <td>fix</td>\n",
       "      <td>-0.335001</td>\n",
       "      <td>0.246335</td>\n",
       "      <td>-8.327596</td>\n",
       "      <td>-0.787168</td>\n",
       "      <td>-0.198298</td>\n",
       "      <td>1.427824</td>\n",
       "    </tr>\n",
       "    <tr>\n",
       "      <th>LHS_be1fix3/113/</th>\n",
       "      <td>fix</td>\n",
       "      <td>-1.380554</td>\n",
       "      <td>0.106615</td>\n",
       "      <td>-7.474021</td>\n",
       "      <td>-0.101414</td>\n",
       "      <td>0.292292</td>\n",
       "      <td>2.352727</td>\n",
       "    </tr>\n",
       "    <tr>\n",
       "      <th>LHS_be1fix3/127/</th>\n",
       "      <td>fix</td>\n",
       "      <td>-2.537053</td>\n",
       "      <td>-0.044696</td>\n",
       "      <td>-8.187267</td>\n",
       "      <td>-0.097524</td>\n",
       "      <td>0.277353</td>\n",
       "      <td>3.125227</td>\n",
       "    </tr>\n",
       "  </tbody>\n",
       "</table>\n",
       "</div>"
      ],
      "text/plain": [
       "                 Model  NSE-CONC-tra  NSE-d13C-tra  NSE-CONC_out  \\\n",
       "LHS_be1fix3/1/     fix     -1.865557     -1.074527     -7.279965   \n",
       "LHS_be1fix3/107/   fix     -2.560891      0.102552     -8.535985   \n",
       "LHS_be1fix3/109/   fix     -0.335001      0.246335     -8.327596   \n",
       "LHS_be1fix3/113/   fix     -1.380554      0.106615     -7.474021   \n",
       "LHS_be1fix3/127/   fix     -2.537053     -0.044696     -8.187267   \n",
       "\n",
       "                  NSE-d13C_out  NSE-Q_out  MAE-CONC-tra  \n",
       "LHS_be1fix3/1/       -1.110055   0.393931      2.695889  \n",
       "LHS_be1fix3/107/     -0.044981   0.462444      3.139799  \n",
       "LHS_be1fix3/109/     -0.787168  -0.198298      1.427824  \n",
       "LHS_be1fix3/113/     -0.101414   0.292292      2.352727  \n",
       "LHS_be1fix3/127/     -0.097524   0.277353      3.125227  "
      ]
     },
     "execution_count": 4,
     "metadata": {},
     "output_type": "execute_result"
    }
   ],
   "source": [
    "ff = dfs.loc[(dfs['NSE-CONC_out'] > -10.0)]\n",
    "print(len(ff))\n",
    "ff.head()"
   ]
  },
  {
   "cell_type": "code",
   "execution_count": 5,
   "metadata": {},
   "outputs": [
    {
     "data": {
      "text/plain": [
       "-0.1526742201918032"
      ]
     },
     "execution_count": 5,
     "metadata": {},
     "output_type": "execute_result"
    }
   ],
   "source": [
    "bestNSE = ff['NSE-CONC_out'].max()\n",
    "# bestNSE = ff['MAE-CONC-tra'].min()\n",
    "bestNSE"
   ]
  },
  {
   "cell_type": "code",
   "execution_count": 6,
   "metadata": {},
   "outputs": [
    {
     "data": {
      "text/plain": [
       "'LHS_s2fix1/207/'"
      ]
     },
     "execution_count": 6,
     "metadata": {},
     "output_type": "execute_result"
    }
   ],
   "source": [
    "path = ff.index[(ff['NSE-CONC_out'] == bestNSE)].tolist()[0]\n",
    "# path = ff.index[(ff['MAE-CONC-tra'] == bestNSE)].tolist()[0]\n",
    "path"
   ]
  },
  {
   "cell_type": "code",
   "execution_count": 7,
   "metadata": {},
   "outputs": [
    {
     "data": {
      "text/html": [
       "<div>\n",
       "<style scoped>\n",
       "    .dataframe tbody tr th:only-of-type {\n",
       "        vertical-align: middle;\n",
       "    }\n",
       "\n",
       "    .dataframe tbody tr th {\n",
       "        vertical-align: top;\n",
       "    }\n",
       "\n",
       "    .dataframe thead th {\n",
       "        text-align: right;\n",
       "    }\n",
       "</style>\n",
       "<table border=\"1\" class=\"dataframe\">\n",
       "  <thead>\n",
       "    <tr style=\"text-align: right;\">\n",
       "      <th></th>\n",
       "      <th>Jdays</th>\n",
       "      <th>ug.L</th>\n",
       "      <th>SIM</th>\n",
       "    </tr>\n",
       "  </thead>\n",
       "  <tbody>\n",
       "    <tr>\n",
       "      <th>0</th>\n",
       "      <td>178</td>\n",
       "      <td>0.245659</td>\n",
       "      <td>0.055586</td>\n",
       "    </tr>\n",
       "    <tr>\n",
       "      <th>1</th>\n",
       "      <td>179</td>\n",
       "      <td>0.245659</td>\n",
       "      <td>0.062548</td>\n",
       "    </tr>\n",
       "    <tr>\n",
       "      <th>2</th>\n",
       "      <td>180</td>\n",
       "      <td>0.245659</td>\n",
       "      <td>0.079768</td>\n",
       "    </tr>\n",
       "    <tr>\n",
       "      <th>3</th>\n",
       "      <td>183</td>\n",
       "      <td>6.729720</td>\n",
       "      <td>2.667310</td>\n",
       "    </tr>\n",
       "    <tr>\n",
       "      <th>4</th>\n",
       "      <td>189</td>\n",
       "      <td>6.454391</td>\n",
       "      <td>1.369870</td>\n",
       "    </tr>\n",
       "  </tbody>\n",
       "</table>\n",
       "</div>"
      ],
      "text/plain": [
       "   Jdays      ug.L       SIM\n",
       "0    178  0.245659  0.055586\n",
       "1    179  0.245659  0.062548\n",
       "2    180  0.245659  0.079768\n",
       "3    183  6.729720  2.667310\n",
       "4    189  6.454391  1.369870"
      ]
     },
     "execution_count": 7,
     "metadata": {},
     "output_type": "execute_result"
    }
   ],
   "source": [
    "df_ConcOut = get_dataframe(path, 'CONC_out', 'outlet')\n",
    "df_ConcOut.head()"
   ]
  },
  {
   "cell_type": "code",
   "execution_count": 8,
   "metadata": {},
   "outputs": [
    {
     "data": {
      "text/plain": [
       "-0.0843639102942253"
      ]
     },
     "execution_count": 8,
     "metadata": {},
     "output_type": "execute_result"
    }
   ],
   "source": [
    "get_nash(df_ConcOut, 'ug.L')"
   ]
  },
  {
   "cell_type": "code",
   "execution_count": 9,
   "metadata": {},
   "outputs": [
    {
     "data": {
      "text/plain": [
       "-0.1526742201918032"
      ]
     },
     "execution_count": 9,
     "metadata": {},
     "output_type": "execute_result"
    }
   ],
   "source": [
    "get_nash_lutz(df_ConcOut, 'ug.L', weigh=False)"
   ]
  },
  {
   "cell_type": "markdown",
   "metadata": {},
   "source": [
    "## Repeating for soils"
   ]
  },
  {
   "cell_type": "code",
   "execution_count": 10,
   "metadata": {},
   "outputs": [
    {
     "data": {
      "text/html": [
       "<div>\n",
       "<style scoped>\n",
       "    .dataframe tbody tr th:only-of-type {\n",
       "        vertical-align: middle;\n",
       "    }\n",
       "\n",
       "    .dataframe tbody tr th {\n",
       "        vertical-align: top;\n",
       "    }\n",
       "\n",
       "    .dataframe thead th {\n",
       "        text-align: right;\n",
       "    }\n",
       "</style>\n",
       "<table border=\"1\" class=\"dataframe\">\n",
       "  <thead>\n",
       "    <tr style=\"text-align: right;\">\n",
       "      <th></th>\n",
       "      <th>Jdays_x</th>\n",
       "      <th>Transect</th>\n",
       "      <th>IDcal</th>\n",
       "      <th>ug.g</th>\n",
       "      <th>ug.g.SD</th>\n",
       "      <th>Jdays_y</th>\n",
       "      <th>SIM</th>\n",
       "    </tr>\n",
       "  </thead>\n",
       "  <tbody>\n",
       "    <tr>\n",
       "      <th>0</th>\n",
       "      <td>188</td>\n",
       "      <td>N</td>\n",
       "      <td>N-188</td>\n",
       "      <td>1.854481</td>\n",
       "      <td>0.176483</td>\n",
       "      <td>188</td>\n",
       "      <td>1.38406</td>\n",
       "    </tr>\n",
       "    <tr>\n",
       "      <th>1</th>\n",
       "      <td>197</td>\n",
       "      <td>N</td>\n",
       "      <td>N-197</td>\n",
       "      <td>5.628515</td>\n",
       "      <td>0.058313</td>\n",
       "      <td>197</td>\n",
       "      <td>6.84184</td>\n",
       "    </tr>\n",
       "    <tr>\n",
       "      <th>2</th>\n",
       "      <td>201</td>\n",
       "      <td>N</td>\n",
       "      <td>N-201</td>\n",
       "      <td>7.183662</td>\n",
       "      <td>0.152796</td>\n",
       "      <td>201</td>\n",
       "      <td>7.37305</td>\n",
       "    </tr>\n",
       "    <tr>\n",
       "      <th>3</th>\n",
       "      <td>209</td>\n",
       "      <td>N</td>\n",
       "      <td>N-209</td>\n",
       "      <td>4.223345</td>\n",
       "      <td>0.600841</td>\n",
       "      <td>209</td>\n",
       "      <td>5.82818</td>\n",
       "    </tr>\n",
       "    <tr>\n",
       "      <th>4</th>\n",
       "      <td>216</td>\n",
       "      <td>N</td>\n",
       "      <td>N-216</td>\n",
       "      <td>1.248904</td>\n",
       "      <td>0.278037</td>\n",
       "      <td>216</td>\n",
       "      <td>3.82142</td>\n",
       "    </tr>\n",
       "  </tbody>\n",
       "</table>\n",
       "</div>"
      ],
      "text/plain": [
       "   Jdays_x Transect  IDcal      ug.g   ug.g.SD  Jdays_y      SIM\n",
       "0      188        N  N-188  1.854481  0.176483      188  1.38406\n",
       "1      197        N  N-197  5.628515  0.058313      197  6.84184\n",
       "2      201        N  N-201  7.183662  0.152796      201  7.37305\n",
       "3      209        N  N-209  4.223345  0.600841      209  5.82818\n",
       "4      216        N  N-216  1.248904  0.278037      216  3.82142"
      ]
     },
     "execution_count": 10,
     "metadata": {},
     "output_type": "execute_result"
    }
   ],
   "source": [
    "df_ConcSoils = get_dataframe(path, 'CONC', 'transects')\n",
    "df_ConcSoils.head()"
   ]
  },
  {
   "cell_type": "code",
   "execution_count": 11,
   "metadata": {},
   "outputs": [
    {
     "data": {
      "text/plain": [
       "0.26080446082206243"
      ]
     },
     "execution_count": 11,
     "metadata": {},
     "output_type": "execute_result"
    }
   ],
   "source": [
    "get_nash(df_ConcSoils, 'ug.g')"
   ]
  },
  {
   "cell_type": "code",
   "execution_count": 12,
   "metadata": {},
   "outputs": [
    {
     "data": {
      "text/plain": [
       "0.1769939561575743"
      ]
     },
     "execution_count": 12,
     "metadata": {},
     "output_type": "execute_result"
    }
   ],
   "source": [
    "get_nash_log(df_ConcSoils, 'ug.g')"
   ]
  },
  {
   "cell_type": "markdown",
   "metadata": {},
   "source": [
    "## MAE check"
   ]
  },
  {
   "cell_type": "code",
   "execution_count": 13,
   "metadata": {},
   "outputs": [
    {
     "data": {
      "text/plain": [
       "1.0931694149333333"
      ]
     },
     "execution_count": 13,
     "metadata": {},
     "output_type": "execute_result"
    }
   ],
   "source": [
    "get_mae(df_ConcSoils, 'ug.g')"
   ]
  }
 ],
 "metadata": {
  "kernelspec": {
   "display_name": "bunny",
   "language": "python",
   "name": "bunny"
  },
  "language_info": {
   "codemirror_mode": {
    "name": "ipython",
    "version": 2
   },
   "file_extension": ".py",
   "mimetype": "text/x-python",
   "name": "python",
   "nbconvert_exporter": "python",
   "pygments_lexer": "ipython2",
   "version": "2.7.14"
  }
 },
 "nbformat": 4,
 "nbformat_minor": 2
}
