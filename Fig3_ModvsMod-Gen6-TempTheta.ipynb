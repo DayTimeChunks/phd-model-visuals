{
 "cells": [
  {
   "cell_type": "code",
   "execution_count": 1,
   "metadata": {},
   "outputs": [],
   "source": [
    "path = '../phd-model-process/'\n",
    "import numpy as np\n",
    "# Plotting\n",
    "import pandas as pd\n",
    "from helpers_pd import *\n",
    "pd.options.mode.chained_assignment = None  # default='warn'\n",
    "import seaborn as sns\n",
    "sns.set()\n",
    "# plt.style.use('seaborn-white')\n",
    "import matplotlib.pyplot as plt\n",
    "import matplotlib as mpl\n",
    "\n",
    "from matplotlib.patches import Ellipse, Rectangle"
   ]
  },
  {
   "cell_type": "code",
   "execution_count": 2,
   "metadata": {},
   "outputs": [],
   "source": [
    "# def facet_scatter(x, y, c, **kwargs):\n",
    "#     \"\"\"Draw scatterplot with point colors from a faceted DataFrame columns.\"\"\"\n",
    "#     kwargs.pop(\"color\")\n",
    "#     plt.scatter(x, y, c=c, **kwargs)    "
   ]
  },
  {
   "cell_type": "markdown",
   "metadata": {},
   "source": [
    "Want to constrain mobility in soils by outlet fit. \n",
    "\n",
    "Does the **variable model** allow us to see the constraint effects (on Kd and DT50), when constrained by the outlet? "
   ]
  },
  {
   "cell_type": "code",
   "execution_count": 50,
   "metadata": {},
   "outputs": [],
   "source": [
    "gen = \"Gen6\"\n",
    "df6 = get_data(gen=gen)\n",
    "# # df3 = get_data(gen=\"Gen3\")\n",
    "# df4 = get_data(gen=\"Gen4\")\n",
    "# # df4 = get_data(gen=\"Gen4\")\n"
   ]
  },
  {
   "cell_type": "code",
   "execution_count": 51,
   "metadata": {},
   "outputs": [],
   "source": [
    "df6[\"Gen\"] = gen\n",
    "# df3[\"Gen\"] = \"Gen3\"\n",
    "# df4[\"Gen\"] = \"Gen4\"\n",
    "df = pd.concat([df6, \n",
    "#                 df3, \n",
    "#                 df4\n",
    "               ])"
   ]
  },
  {
   "cell_type": "code",
   "execution_count": 52,
   "metadata": {},
   "outputs": [
    {
     "name": "stdout",
     "output_type": "stream",
     "text": [
      "(4848,)\n"
     ]
    }
   ],
   "source": [
    "print(len(df), \n",
    "#       len(df4)\n",
    "     )"
   ]
  },
  {
   "cell_type": "code",
   "execution_count": 53,
   "metadata": {},
   "outputs": [],
   "source": [
    "# Index names\n",
    "df['Name'] = df['Gen'] + \"/\" + df.index\n",
    "df = df.set_index('Name')"
   ]
  },
  {
   "cell_type": "code",
   "execution_count": 54,
   "metadata": {},
   "outputs": [],
   "source": [
    "# list(df6)\n",
    "# 'LHS_e1var7/1/' in df.index"
   ]
  },
  {
   "cell_type": "code",
   "execution_count": 55,
   "metadata": {},
   "outputs": [],
   "source": [
    "df['K_d'] = df.loc[:, 'k_oc'] * df.loc[:,'f_oc']\n",
    "# Combined outlet and transects KGE Concentrations and d13C\n",
    "df['KGE-SM'] = (df.loc[:, 'KGE-CONC_out'] + df.loc[:, 'KGE-CONC-tra'])/2.0  \n",
    "df['KGE-d13C'] = (df.loc[:, 'KGE-d13C_out'] + df.loc[:, 'KGE-d13C-tra'])/2.0\n",
    "\n",
    "cst = 0.5\n",
    "# cst = -2\n",
    "df['Constraint'] = df.apply(WithIsoKGE, args=(cst,), axis=1)"
   ]
  },
  {
   "cell_type": "code",
   "execution_count": 56,
   "metadata": {},
   "outputs": [
    {
     "name": "stdout",
     "output_type": "stream",
     "text": [
      "Maximum Conc.\n",
      "(0.8071323424319412, 0.41124351408871074, 0.5823985899254127)\n",
      "Maximum d13C\n",
      "(0.8767684725788549, 0.5637517755122933, 0.7044689565243463)\n"
     ]
    }
   ],
   "source": [
    "print(\"Maximum Conc.\")\n",
    "print(df['KGE-CONC-tra'].max(), df['KGE-CONC_out'].max(), df['KGE-SM'].max()) \n",
    "print(\"Maximum d13C\")\n",
    "print(df['KGE-d13C-tra'].max(), df['KGE-d13C_out'].max(), df['KGE-d13C'].max()) "
   ]
  },
  {
   "cell_type": "code",
   "execution_count": 57,
   "metadata": {},
   "outputs": [],
   "source": [
    "dfs = df[['Model', 'Gen',\n",
    "          'K_d', 'dt_50_ref', 'k_oc', 'f_oc', 'beta_moisture',\n",
    "          'KGE-CONC-tra' , \n",
    "          'KGE-Q_out', 'KGE-CONC_out', 'KGE-LDS_out',\n",
    "          'KGE-d13C-tra', 'KGE-d13C_out',\n",
    "          'KGE-SM', 'KGE-d13C', 'Constraint'\n",
    "         ]]"
   ]
  },
  {
   "cell_type": "code",
   "execution_count": 58,
   "metadata": {},
   "outputs": [
    {
     "data": {
      "text/html": [
       "<div>\n",
       "<style scoped>\n",
       "    .dataframe tbody tr th:only-of-type {\n",
       "        vertical-align: middle;\n",
       "    }\n",
       "\n",
       "    .dataframe tbody tr th {\n",
       "        vertical-align: top;\n",
       "    }\n",
       "\n",
       "    .dataframe thead th {\n",
       "        text-align: right;\n",
       "    }\n",
       "</style>\n",
       "<table border=\"1\" class=\"dataframe\">\n",
       "  <thead>\n",
       "    <tr style=\"text-align: right;\">\n",
       "      <th></th>\n",
       "      <th>Model</th>\n",
       "      <th>Gen</th>\n",
       "      <th>K_d</th>\n",
       "      <th>dt_50_ref</th>\n",
       "      <th>k_oc</th>\n",
       "      <th>f_oc</th>\n",
       "      <th>beta_moisture</th>\n",
       "      <th>KGE-CONC-tra</th>\n",
       "      <th>KGE-Q_out</th>\n",
       "      <th>KGE-CONC_out</th>\n",
       "      <th>KGE-LDS_out</th>\n",
       "      <th>KGE-d13C-tra</th>\n",
       "      <th>KGE-d13C_out</th>\n",
       "      <th>KGE-SM</th>\n",
       "      <th>KGE-d13C</th>\n",
       "      <th>Constraint</th>\n",
       "    </tr>\n",
       "    <tr>\n",
       "      <th>Name</th>\n",
       "      <th></th>\n",
       "      <th></th>\n",
       "      <th></th>\n",
       "      <th></th>\n",
       "      <th></th>\n",
       "      <th></th>\n",
       "      <th></th>\n",
       "      <th></th>\n",
       "      <th></th>\n",
       "      <th></th>\n",
       "      <th></th>\n",
       "      <th></th>\n",
       "      <th></th>\n",
       "      <th></th>\n",
       "      <th></th>\n",
       "      <th></th>\n",
       "    </tr>\n",
       "  </thead>\n",
       "  <tbody>\n",
       "    <tr>\n",
       "      <th>Gen6/LHS_sc1var43/95/</th>\n",
       "      <td>var</td>\n",
       "      <td>Gen6</td>\n",
       "      <td>8.999170</td>\n",
       "      <td>44.380661</td>\n",
       "      <td>340.363686</td>\n",
       "      <td>0.026440</td>\n",
       "      <td>0.511950</td>\n",
       "      <td>0.586743</td>\n",
       "      <td>0.681646</td>\n",
       "      <td>0.204830</td>\n",
       "      <td>-0.818082</td>\n",
       "      <td>0.368254</td>\n",
       "      <td>-1.710033</td>\n",
       "      <td>0.395786</td>\n",
       "      <td>-0.670889</td>\n",
       "      <td>NC</td>\n",
       "    </tr>\n",
       "    <tr>\n",
       "      <th>Gen6/LHS_sc1var43/96/</th>\n",
       "      <td>var</td>\n",
       "      <td>Gen6</td>\n",
       "      <td>20.717008</td>\n",
       "      <td>5.628008</td>\n",
       "      <td>461.752015</td>\n",
       "      <td>0.044866</td>\n",
       "      <td>0.292307</td>\n",
       "      <td>-0.050819</td>\n",
       "      <td>0.465962</td>\n",
       "      <td>-0.453113</td>\n",
       "      <td>-0.382132</td>\n",
       "      <td>-3.456700</td>\n",
       "      <td>-7.954195</td>\n",
       "      <td>-0.251966</td>\n",
       "      <td>-5.705447</td>\n",
       "      <td>NC</td>\n",
       "    </tr>\n",
       "    <tr>\n",
       "      <th>Gen6/LHS_sc1var43/97/</th>\n",
       "      <td>var</td>\n",
       "      <td>Gen6</td>\n",
       "      <td>44.592821</td>\n",
       "      <td>35.950486</td>\n",
       "      <td>1739.951452</td>\n",
       "      <td>0.025629</td>\n",
       "      <td>0.608215</td>\n",
       "      <td>0.530821</td>\n",
       "      <td>0.738097</td>\n",
       "      <td>-1.028791</td>\n",
       "      <td>-9.055224</td>\n",
       "      <td>0.351001</td>\n",
       "      <td>-2.718386</td>\n",
       "      <td>-0.248985</td>\n",
       "      <td>-1.183692</td>\n",
       "      <td>NC</td>\n",
       "    </tr>\n",
       "    <tr>\n",
       "      <th>Gen6/LHS_sc1var43/98/</th>\n",
       "      <td>var</td>\n",
       "      <td>Gen6</td>\n",
       "      <td>40.698861</td>\n",
       "      <td>29.267501</td>\n",
       "      <td>969.576336</td>\n",
       "      <td>0.041976</td>\n",
       "      <td>0.543638</td>\n",
       "      <td>0.626810</td>\n",
       "      <td>0.644273</td>\n",
       "      <td>-0.361576</td>\n",
       "      <td>0.256482</td>\n",
       "      <td>0.185668</td>\n",
       "      <td>-0.026579</td>\n",
       "      <td>0.132617</td>\n",
       "      <td>0.079544</td>\n",
       "      <td>NC</td>\n",
       "    </tr>\n",
       "    <tr>\n",
       "      <th>Gen6/LHS_sc1var43/99/</th>\n",
       "      <td>var</td>\n",
       "      <td>Gen6</td>\n",
       "      <td>65.223169</td>\n",
       "      <td>46.318948</td>\n",
       "      <td>1381.841321</td>\n",
       "      <td>0.047200</td>\n",
       "      <td>0.882949</td>\n",
       "      <td>-0.044987</td>\n",
       "      <td>0.181183</td>\n",
       "      <td>-0.622300</td>\n",
       "      <td>-11.978583</td>\n",
       "      <td>0.276364</td>\n",
       "      <td>0.248338</td>\n",
       "      <td>-0.333644</td>\n",
       "      <td>0.262351</td>\n",
       "      <td>NC</td>\n",
       "    </tr>\n",
       "  </tbody>\n",
       "</table>\n",
       "</div>"
      ],
      "text/plain": [
       "                      Model   Gen        K_d  dt_50_ref         k_oc  \\\n",
       "Name                                                                   \n",
       "Gen6/LHS_sc1var43/95/   var  Gen6   8.999170  44.380661   340.363686   \n",
       "Gen6/LHS_sc1var43/96/   var  Gen6  20.717008   5.628008   461.752015   \n",
       "Gen6/LHS_sc1var43/97/   var  Gen6  44.592821  35.950486  1739.951452   \n",
       "Gen6/LHS_sc1var43/98/   var  Gen6  40.698861  29.267501   969.576336   \n",
       "Gen6/LHS_sc1var43/99/   var  Gen6  65.223169  46.318948  1381.841321   \n",
       "\n",
       "                           f_oc  beta_moisture  KGE-CONC-tra  KGE-Q_out  \\\n",
       "Name                                                                      \n",
       "Gen6/LHS_sc1var43/95/  0.026440       0.511950      0.586743   0.681646   \n",
       "Gen6/LHS_sc1var43/96/  0.044866       0.292307     -0.050819   0.465962   \n",
       "Gen6/LHS_sc1var43/97/  0.025629       0.608215      0.530821   0.738097   \n",
       "Gen6/LHS_sc1var43/98/  0.041976       0.543638      0.626810   0.644273   \n",
       "Gen6/LHS_sc1var43/99/  0.047200       0.882949     -0.044987   0.181183   \n",
       "\n",
       "                       KGE-CONC_out  KGE-LDS_out  KGE-d13C-tra  KGE-d13C_out  \\\n",
       "Name                                                                           \n",
       "Gen6/LHS_sc1var43/95/      0.204830    -0.818082      0.368254     -1.710033   \n",
       "Gen6/LHS_sc1var43/96/     -0.453113    -0.382132     -3.456700     -7.954195   \n",
       "Gen6/LHS_sc1var43/97/     -1.028791    -9.055224      0.351001     -2.718386   \n",
       "Gen6/LHS_sc1var43/98/     -0.361576     0.256482      0.185668     -0.026579   \n",
       "Gen6/LHS_sc1var43/99/     -0.622300   -11.978583      0.276364      0.248338   \n",
       "\n",
       "                         KGE-SM  KGE-d13C Constraint  \n",
       "Name                                                  \n",
       "Gen6/LHS_sc1var43/95/  0.395786 -0.670889         NC  \n",
       "Gen6/LHS_sc1var43/96/ -0.251966 -5.705447         NC  \n",
       "Gen6/LHS_sc1var43/97/ -0.248985 -1.183692         NC  \n",
       "Gen6/LHS_sc1var43/98/  0.132617  0.079544         NC  \n",
       "Gen6/LHS_sc1var43/99/ -0.333644  0.262351         NC  "
      ]
     },
     "execution_count": 58,
     "metadata": {},
     "output_type": "execute_result"
    }
   ],
   "source": [
    "dfs.tail()"
   ]
  },
  {
   "cell_type": "markdown",
   "metadata": {},
   "source": [
    "Filter for good concentrations"
   ]
  },
  {
   "cell_type": "code",
   "execution_count": 59,
   "metadata": {},
   "outputs": [],
   "source": [
    "# # Filter\n",
    "# ff = dfs.loc[(dfs['KGE-SM'] > 0.3)] # Try 25 with more data points\n",
    "# ff_c = ff.loc[(ff['KGE-d13C'] > 0.3)]\n",
    "# print(len(dfs), len(ff), len(ff_c))\n",
    "\n",
    "# fix_num = len(dfs.loc[dfs['Model']== 'fix'])\n",
    "# var_num = len(dfs.loc[dfs['Model']== 'var'])\n",
    "\n",
    "# fix_passed = len(ff.loc[ff['Model']== 'fix'])\n",
    "# var_passed = len(ff.loc[ff['Model']== 'var'])\n",
    "\n",
    "# f_fix = round(float(fix_passed)/fix_num, 3)\n",
    "# f_var = round(float(var_passed)/var_num, 3)\n",
    "# print(fix_num, var_num)\n",
    "# print(f_fix, f_var)\n",
    "# print(f_fix*fix_num, f_var*var_num)"
   ]
  },
  {
   "cell_type": "code",
   "execution_count": 60,
   "metadata": {},
   "outputs": [],
   "source": [
    "# print(\"Maximum Conc.\")\n",
    "# print(ff['KGE-CONC-tra'].max(), ff['KGE-CONC_out'].max(), ff['KGE-SM'].max()) \n",
    "# print(\"Maximum d13C\")\n",
    "# print(ff['KGE-d13C-tra'].max(), ff['KGE-d13C_out'].max(), ff['KGE-d13C'].max()) "
   ]
  },
  {
   "cell_type": "code",
   "execution_count": 61,
   "metadata": {},
   "outputs": [
    {
     "name": "stdout",
     "output_type": "stream",
     "text": [
      "(4848, 35, 178)\n"
     ]
    },
    {
     "data": {
      "text/html": [
       "<div>\n",
       "<style scoped>\n",
       "    .dataframe tbody tr th:only-of-type {\n",
       "        vertical-align: middle;\n",
       "    }\n",
       "\n",
       "    .dataframe tbody tr th {\n",
       "        vertical-align: top;\n",
       "    }\n",
       "\n",
       "    .dataframe thead th {\n",
       "        text-align: right;\n",
       "    }\n",
       "</style>\n",
       "<table border=\"1\" class=\"dataframe\">\n",
       "  <thead>\n",
       "    <tr style=\"text-align: right;\">\n",
       "      <th></th>\n",
       "      <th>Model</th>\n",
       "      <th>Gen</th>\n",
       "      <th>K_d</th>\n",
       "      <th>dt_50_ref</th>\n",
       "      <th>k_oc</th>\n",
       "      <th>f_oc</th>\n",
       "      <th>beta_moisture</th>\n",
       "      <th>KGE-CONC-tra</th>\n",
       "      <th>KGE-Q_out</th>\n",
       "      <th>KGE-CONC_out</th>\n",
       "      <th>KGE-LDS_out</th>\n",
       "      <th>KGE-d13C-tra</th>\n",
       "      <th>KGE-d13C_out</th>\n",
       "      <th>KGE-SM</th>\n",
       "      <th>KGE-d13C</th>\n",
       "      <th>Constraint</th>\n",
       "    </tr>\n",
       "    <tr>\n",
       "      <th>Name</th>\n",
       "      <th></th>\n",
       "      <th></th>\n",
       "      <th></th>\n",
       "      <th></th>\n",
       "      <th></th>\n",
       "      <th></th>\n",
       "      <th></th>\n",
       "      <th></th>\n",
       "      <th></th>\n",
       "      <th></th>\n",
       "      <th></th>\n",
       "      <th></th>\n",
       "      <th></th>\n",
       "      <th></th>\n",
       "      <th></th>\n",
       "      <th></th>\n",
       "    </tr>\n",
       "  </thead>\n",
       "  <tbody>\n",
       "    <tr>\n",
       "      <th>Gen8/LHS_s2var53/19/</th>\n",
       "      <td>var</td>\n",
       "      <td>Gen8</td>\n",
       "      <td>38.133023</td>\n",
       "      <td>34.169238</td>\n",
       "      <td>1777.942268</td>\n",
       "      <td>0.021448</td>\n",
       "      <td>0.015825</td>\n",
       "      <td>0.788086</td>\n",
       "      <td>0.583830</td>\n",
       "      <td>0.034805</td>\n",
       "      <td>-4.324605</td>\n",
       "      <td>0.775290</td>\n",
       "      <td>-1.825338</td>\n",
       "      <td>0.411446</td>\n",
       "      <td>-0.525024</td>\n",
       "      <td>WC</td>\n",
       "    </tr>\n",
       "    <tr>\n",
       "      <th>Gen8/LHS_s2var53/23/</th>\n",
       "      <td>var</td>\n",
       "      <td>Gen8</td>\n",
       "      <td>18.773750</td>\n",
       "      <td>39.353813</td>\n",
       "      <td>618.180188</td>\n",
       "      <td>0.030369</td>\n",
       "      <td>0.479896</td>\n",
       "      <td>0.787757</td>\n",
       "      <td>0.645789</td>\n",
       "      <td>0.224732</td>\n",
       "      <td>-0.393998</td>\n",
       "      <td>0.481607</td>\n",
       "      <td>-2.176114</td>\n",
       "      <td>0.506244</td>\n",
       "      <td>-0.847253</td>\n",
       "      <td>WC</td>\n",
       "    </tr>\n",
       "    <tr>\n",
       "      <th>Gen8/LHS_s2var53/3/</th>\n",
       "      <td>var</td>\n",
       "      <td>Gen8</td>\n",
       "      <td>8.707638</td>\n",
       "      <td>33.463101</td>\n",
       "      <td>810.113394</td>\n",
       "      <td>0.010749</td>\n",
       "      <td>0.134568</td>\n",
       "      <td>0.774181</td>\n",
       "      <td>0.397135</td>\n",
       "      <td>0.322334</td>\n",
       "      <td>-2.186411</td>\n",
       "      <td>0.047271</td>\n",
       "      <td>-2.341103</td>\n",
       "      <td>0.548257</td>\n",
       "      <td>-1.146916</td>\n",
       "      <td>WC</td>\n",
       "    </tr>\n",
       "    <tr>\n",
       "      <th>Gen8/LHS_s2var53/40/</th>\n",
       "      <td>var</td>\n",
       "      <td>Gen8</td>\n",
       "      <td>37.251191</td>\n",
       "      <td>26.446971</td>\n",
       "      <td>1533.735372</td>\n",
       "      <td>0.024288</td>\n",
       "      <td>0.568106</td>\n",
       "      <td>0.598516</td>\n",
       "      <td>0.261576</td>\n",
       "      <td>0.307849</td>\n",
       "      <td>-0.395671</td>\n",
       "      <td>-0.175862</td>\n",
       "      <td>-2.353675</td>\n",
       "      <td>0.453183</td>\n",
       "      <td>-1.264769</td>\n",
       "      <td>WC</td>\n",
       "    </tr>\n",
       "    <tr>\n",
       "      <th>Gen8/LHS_s2var53/45/</th>\n",
       "      <td>var</td>\n",
       "      <td>Gen8</td>\n",
       "      <td>20.927509</td>\n",
       "      <td>35.359307</td>\n",
       "      <td>446.907304</td>\n",
       "      <td>0.046827</td>\n",
       "      <td>0.170116</td>\n",
       "      <td>0.789699</td>\n",
       "      <td>0.183117</td>\n",
       "      <td>0.166394</td>\n",
       "      <td>-1.059184</td>\n",
       "      <td>0.815050</td>\n",
       "      <td>-1.638616</td>\n",
       "      <td>0.478046</td>\n",
       "      <td>-0.411783</td>\n",
       "      <td>WC</td>\n",
       "    </tr>\n",
       "  </tbody>\n",
       "</table>\n",
       "</div>"
      ],
      "text/plain": [
       "                     Model   Gen        K_d  dt_50_ref         k_oc      f_oc  \\\n",
       "Name                                                                            \n",
       "Gen8/LHS_s2var53/19/   var  Gen8  38.133023  34.169238  1777.942268  0.021448   \n",
       "Gen8/LHS_s2var53/23/   var  Gen8  18.773750  39.353813   618.180188  0.030369   \n",
       "Gen8/LHS_s2var53/3/    var  Gen8   8.707638  33.463101   810.113394  0.010749   \n",
       "Gen8/LHS_s2var53/40/   var  Gen8  37.251191  26.446971  1533.735372  0.024288   \n",
       "Gen8/LHS_s2var53/45/   var  Gen8  20.927509  35.359307   446.907304  0.046827   \n",
       "\n",
       "                      beta_moisture  KGE-CONC-tra  KGE-Q_out  KGE-CONC_out  \\\n",
       "Name                                                                         \n",
       "Gen8/LHS_s2var53/19/       0.015825      0.788086   0.583830      0.034805   \n",
       "Gen8/LHS_s2var53/23/       0.479896      0.787757   0.645789      0.224732   \n",
       "Gen8/LHS_s2var53/3/        0.134568      0.774181   0.397135      0.322334   \n",
       "Gen8/LHS_s2var53/40/       0.568106      0.598516   0.261576      0.307849   \n",
       "Gen8/LHS_s2var53/45/       0.170116      0.789699   0.183117      0.166394   \n",
       "\n",
       "                      KGE-LDS_out  KGE-d13C-tra  KGE-d13C_out    KGE-SM  \\\n",
       "Name                                                                      \n",
       "Gen8/LHS_s2var53/19/    -4.324605      0.775290     -1.825338  0.411446   \n",
       "Gen8/LHS_s2var53/23/    -0.393998      0.481607     -2.176114  0.506244   \n",
       "Gen8/LHS_s2var53/3/     -2.186411      0.047271     -2.341103  0.548257   \n",
       "Gen8/LHS_s2var53/40/    -0.395671     -0.175862     -2.353675  0.453183   \n",
       "Gen8/LHS_s2var53/45/    -1.059184      0.815050     -1.638616  0.478046   \n",
       "\n",
       "                      KGE-d13C Constraint  \n",
       "Name                                       \n",
       "Gen8/LHS_s2var53/19/ -0.525024         WC  \n",
       "Gen8/LHS_s2var53/23/ -0.847253         WC  \n",
       "Gen8/LHS_s2var53/3/  -1.146916         WC  \n",
       "Gen8/LHS_s2var53/40/ -1.264769         WC  \n",
       "Gen8/LHS_s2var53/45/ -0.411783         WC  "
      ]
     },
     "execution_count": 61,
     "metadata": {},
     "output_type": "execute_result"
    }
   ],
   "source": [
    "# Filter\n",
    "# ff = dfs.loc[(dfs['KGE-SM'] > 0.40)] # Try 25 with more data points\n",
    "# ff_c = dfs.loc[(dfs['KGE-SM'] > 0.40) &(dfs['KGE-d13C'] > 0.4)]\n",
    "\n",
    "\n",
    "print(len(dfs), len(ff), len(ff_c))\n",
    "ff.tail()"
   ]
  },
  {
   "cell_type": "code",
   "execution_count": 62,
   "metadata": {},
   "outputs": [],
   "source": [
    "beta_moi = ff.loc[(ff['Model'] == 'var')]['beta_moisture'].mean()"
   ]
  },
  {
   "cell_type": "code",
   "execution_count": 63,
   "metadata": {},
   "outputs": [
    {
     "name": "stdout",
     "output_type": "stream",
     "text": [
      "(0, 2, 7, 26)\n"
     ]
    }
   ],
   "source": [
    "fix = ff.index[(ff['Model'] == 'fix')].tolist() #[0]\n",
    "var = ff.index[(ff['Model'] == 'var')].tolist() #[0]\n",
    "\n",
    "nc_fix = ff.index[(ff['Constraint'] == 'NC') & (ff['Model'] == 'fix')].tolist() #[0]\n",
    "nc_var = ff.index[(ff['Constraint'] == 'NC') & (ff['Model'] == 'var')].tolist() #[0]\n",
    "\n",
    "wc_fix = ff.index[(ff['Constraint'] == 'WC') & (ff['Model'] == 'fix')].tolist() #[0]\n",
    "wc_var = ff.index[(ff['Constraint'] == 'WC') & (ff['Model'] == 'var')].tolist() #[0]\n",
    "print(len(nc_fix), len(nc_var), \n",
    "      len(wc_fix), len(wc_var))"
   ]
  },
  {
   "cell_type": "code",
   "execution_count": 64,
   "metadata": {},
   "outputs": [],
   "source": [
    "def get_sets(name_list, filename, vname):\n",
    "    sets = []\n",
    "    for i in range(len(name_list)):\n",
    "        # Define variable name\n",
    "        series_name = vname + name_list[i][8:] # Variable + set's name\n",
    "        # Get sim TSS\n",
    "        sim = pd.read_table(path + name_list[i] + filename, \n",
    "                       skiprows=4, delim_whitespace=True,\n",
    "                                    names=['Jdays', series_name],\n",
    "                                    header=None\n",
    "                      )\n",
    "        sim = sim[['Jdays', series_name]]\n",
    "        sim = sim[0:121]\n",
    "        sets.append(sim)\n",
    "    df = reduce(lambda left, right: pd.merge(left,right,on='Jdays'), sets)\n",
    "    return df"
   ]
  },
  {
   "cell_type": "code",
   "execution_count": 66,
   "metadata": {},
   "outputs": [],
   "source": [
    "deg_fix = get_sets(fix, \"resW_z0_DT50.tss\", \"DT50\")\n",
    "deg_var = get_sets(var, \"resW_z0_DT50.tss\", \"DT50\")\n",
    "\n",
    "tmp_fix = get_sets(fix, \"resW_z0_Temp.tss\", \"Temp\")\n",
    "tmp_var = get_sets(var, \"resW_z0_Temp.tss\", \"Temp\")\n",
    "\n",
    "moi_fix = get_sets(fix, \"resW_z0_thetaPropSat.tss\", \"Theta\")\n",
    "moi_var = get_sets(var, \"resW_z0_thetaPropSat.tss\", \"Theta\")"
   ]
  },
  {
   "cell_type": "code",
   "execution_count": 67,
   "metadata": {},
   "outputs": [
    {
     "ename": "TypeError",
     "evalue": "reduce() of empty sequence with no initial value",
     "output_type": "error",
     "traceback": [
      "\u001b[0;31m---------------------------------------------------------------------------\u001b[0m",
      "\u001b[0;31mTypeError\u001b[0m                                 Traceback (most recent call last)",
      "\u001b[0;32m<ipython-input-67-02ffbb45b108>\u001b[0m in \u001b[0;36m<module>\u001b[0;34m()\u001b[0m\n\u001b[0;32m----> 1\u001b[0;31m \u001b[0mnc_deg_fix\u001b[0m \u001b[0;34m=\u001b[0m \u001b[0mget_sets\u001b[0m\u001b[0;34m(\u001b[0m\u001b[0mnc_fix\u001b[0m\u001b[0;34m,\u001b[0m \u001b[0;34m\"resW_z0_DT50.tss\"\u001b[0m\u001b[0;34m,\u001b[0m \u001b[0;34m\"DT50\"\u001b[0m\u001b[0;34m)\u001b[0m\u001b[0;34m\u001b[0m\u001b[0m\n\u001b[0m\u001b[1;32m      2\u001b[0m \u001b[0mnc_deg_var\u001b[0m \u001b[0;34m=\u001b[0m \u001b[0mget_sets\u001b[0m\u001b[0;34m(\u001b[0m\u001b[0mnc_var\u001b[0m\u001b[0;34m,\u001b[0m \u001b[0;34m\"resW_z0_DT50.tss\"\u001b[0m\u001b[0;34m,\u001b[0m \u001b[0;34m\"DT50\"\u001b[0m\u001b[0;34m)\u001b[0m\u001b[0;34m\u001b[0m\u001b[0m\n\u001b[1;32m      3\u001b[0m \u001b[0;34m\u001b[0m\u001b[0m\n\u001b[1;32m      4\u001b[0m \u001b[0;31m# wc_deg_fix = get_sets(wc_fix, \"resW_z0_DT50.tss\", \"DT50\")\u001b[0m\u001b[0;34m\u001b[0m\u001b[0;34m\u001b[0m\u001b[0m\n\u001b[1;32m      5\u001b[0m \u001b[0;31m# wc_deg_var = get_sets(wc_var, \"resW_z0_DT50.tss\", \"DT50\")\u001b[0m\u001b[0;34m\u001b[0m\u001b[0;34m\u001b[0m\u001b[0m\n",
      "\u001b[0;32m<ipython-input-64-db436e076053>\u001b[0m in \u001b[0;36mget_sets\u001b[0;34m(name_list, filename, vname)\u001b[0m\n\u001b[1;32m     13\u001b[0m         \u001b[0msim\u001b[0m \u001b[0;34m=\u001b[0m \u001b[0msim\u001b[0m\u001b[0;34m[\u001b[0m\u001b[0;36m0\u001b[0m\u001b[0;34m:\u001b[0m\u001b[0;36m121\u001b[0m\u001b[0;34m]\u001b[0m\u001b[0;34m\u001b[0m\u001b[0m\n\u001b[1;32m     14\u001b[0m         \u001b[0msets\u001b[0m\u001b[0;34m.\u001b[0m\u001b[0mappend\u001b[0m\u001b[0;34m(\u001b[0m\u001b[0msim\u001b[0m\u001b[0;34m)\u001b[0m\u001b[0;34m\u001b[0m\u001b[0m\n\u001b[0;32m---> 15\u001b[0;31m     \u001b[0mdf\u001b[0m \u001b[0;34m=\u001b[0m \u001b[0mreduce\u001b[0m\u001b[0;34m(\u001b[0m\u001b[0;32mlambda\u001b[0m \u001b[0mleft\u001b[0m\u001b[0;34m,\u001b[0m \u001b[0mright\u001b[0m\u001b[0;34m:\u001b[0m \u001b[0mpd\u001b[0m\u001b[0;34m.\u001b[0m\u001b[0mmerge\u001b[0m\u001b[0;34m(\u001b[0m\u001b[0mleft\u001b[0m\u001b[0;34m,\u001b[0m\u001b[0mright\u001b[0m\u001b[0;34m,\u001b[0m\u001b[0mon\u001b[0m\u001b[0;34m=\u001b[0m\u001b[0;34m'Jdays'\u001b[0m\u001b[0;34m)\u001b[0m\u001b[0;34m,\u001b[0m \u001b[0msets\u001b[0m\u001b[0;34m)\u001b[0m\u001b[0;34m\u001b[0m\u001b[0m\n\u001b[0m\u001b[1;32m     16\u001b[0m     \u001b[0;32mreturn\u001b[0m \u001b[0mdf\u001b[0m\u001b[0;34m\u001b[0m\u001b[0m\n",
      "\u001b[0;31mTypeError\u001b[0m: reduce() of empty sequence with no initial value"
     ]
    }
   ],
   "source": [
    "nc_deg_fix = get_sets(nc_fix, \"resW_z0_DT50.tss\", \"DT50\")\n",
    "nc_deg_var = get_sets(nc_var, \"resW_z0_DT50.tss\", \"DT50\")\n",
    "\n",
    "# wc_deg_fix = get_sets(wc_fix, \"resW_z0_DT50.tss\", \"DT50\")\n",
    "# wc_deg_var = get_sets(wc_var, \"resW_z0_DT50.tss\", \"DT50\")\n",
    "\n",
    "nc_tmp_fix = get_sets(nc_fix, \"resW_z0_Temp.tss\", \"Temp\")\n",
    "nc_tmp_var = get_sets(nc_var, \"resW_z0_Temp.tss\", \"Temp\")\n",
    "\n",
    "# wc_tmp_fix = get_sets(wc_fix, \"resW_z0_Temp.tss\", \"Temp\")\n",
    "# wc_tmp_var = get_sets(wc_var, \"resW_z0_Temp.tss\", \"Temp\")\n",
    "\n",
    "nc_moi_fix = get_sets(nc_fix, \"resW_z0_thetaPropSat.tss\", \"Theta\")\n",
    "nc_moi_var = get_sets(nc_var, \"resW_z0_thetaPropSat.tss\", \"Theta\")\n",
    "\n",
    "# wc_moi_fix = get_sets(wc_fix, \"resW_z0_thetaPropSat.tss\", \"Theta\")\n",
    "# wc_moi_var = get_sets(wc_var, \"resW_z0_thetaPropSat.tss\", \"Theta\")"
   ]
  },
  {
   "cell_type": "code",
   "execution_count": 31,
   "metadata": {},
   "outputs": [],
   "source": [
    "def get_stats_df(df):\n",
    "    n = len(np.array(df.iloc[0,1:]))\n",
    "    df['mean'] = df.iloc[:,1:n+1].mean(axis=1)\n",
    "    df['min'] = df.iloc[:,1:n+1].min(axis=1)\n",
    "    df['max'] = df.iloc[:,1:n+1].max(axis=1)\n",
    "    df['sem'] = df.iloc[:,1:n+1].sem(axis=1)\n",
    "    df['sd'] = df.iloc[:,1:n+1].std(axis=1)\n",
    "    df['high'] = df['mean'] + 2.*df['sd']\n",
    "    df['low'] = df['mean'] - 2.*df['sd']\n",
    "#     df['high'] = df.apply(get_ci, args=(n, 0.95, True), axis=1)\n",
    "#     df['low'] = df.apply(get_ci, args=(n, 0.95, False), axis=1)\n",
    "    df['low'] = df.apply(check_negative, axis=1)\n",
    "    return df[['Jdays', 'mean', 'sd', 'high', 'low', 'max', 'min']]"
   ]
  },
  {
   "cell_type": "code",
   "execution_count": 21,
   "metadata": {},
   "outputs": [],
   "source": [
    "stat_fix = [get_stats_df(deg_fix), get_stats_df(tmp_fix), get_stats_df(moi_fix)]\n",
    "stat_var = [get_stats_df(deg_var), get_stats_df(tmp_var), get_stats_df(moi_var)]"
   ]
  },
  {
   "cell_type": "code",
   "execution_count": 22,
   "metadata": {},
   "outputs": [],
   "source": [
    "# stat_var[1].tail()\n",
    "# stat_fix[1].head()"
   ]
  },
  {
   "cell_type": "code",
   "execution_count": 23,
   "metadata": {},
   "outputs": [],
   "source": [
    "nc_stat_fix = [get_stats_df(nc_deg_fix), get_stats_df(nc_tmp_fix), get_stats_df(nc_moi_fix)]\n",
    "nc_stat_var = [get_stats_df(nc_deg_var), get_stats_df(nc_tmp_var), get_stats_df(nc_moi_var)]\n",
    "\n",
    "# wc_stat_fix = [get_stats_df(nc_deg_fix), get_stats_df(nc_tmp_fix), get_stats_df(nc_moi_fix)]\n",
    "# wc_stat_var = [get_stats_df(nc_deg_var), get_stats_df(nc_tmp_var), get_stats_df(nc_moi_var)]"
   ]
  },
  {
   "cell_type": "code",
   "execution_count": 26,
   "metadata": {},
   "outputs": [
    {
     "data": {
      "image/png": "[encoded data removed]",
      "text/plain": [
       "<Figure size 234x379.44 with 2 Axes>"
      ]
     },
     "metadata": {},
     "output_type": "display_data"
    }
   ],
   "source": [
    "# sns.set(rc={'figure.figsize':(11.7, 8.27)})\n",
    "# ES&T max width, 1 column = 3.25in, 2-col = 7in \n",
    "sns.set_context(\"paper\")\n",
    "sns.set(rc={'figure.figsize':(3.25, 5.27)}) # Width, height, inches\n",
    "\n",
    "fig, axes = plt.subplots(2, 1, sharex=False, sharey=False)\n",
    "\n",
    "\n",
    "\n",
    "ax1 = axes[0]\n",
    "ax2 = axes[1]\n",
    "# ax3 = axes[2]\n",
    "\n",
    "time = np.array(nc_stat_fix[0]['Jdays']-171)\n",
    "\n",
    "# ALL\n",
    "deg_mean_fix = np.array(stat_fix[0]['mean'])\n",
    "deg_high_fix = np.array(stat_fix[0]['high'])\n",
    "deg_low_fix = np.array(stat_fix[0]['low'])\n",
    "\n",
    "deg_mean_var = np.array(stat_var[0]['mean'])\n",
    "deg_high_var = np.array(stat_var[0]['high'])\n",
    "deg_low_var = np.array(stat_var[0]['low'])\n",
    "\n",
    "tmp_mean_fix = np.array(stat_fix[1]['mean'])\n",
    "tmp_high_fix = np.array(stat_fix[1]['high'])\n",
    "tmp_low_fix = np.array(stat_fix[1]['low'])\n",
    "\n",
    "tmp_mean_var = np.array(stat_var[1]['mean'])\n",
    "tmp_high_var = np.array(stat_var[1]['high'])\n",
    "tmp_low_var = np.array(stat_var[1]['low'])\n",
    "\n",
    "moi_mean_fix = np.array(stat_fix[2]['mean'])\n",
    "moi_high_fix = np.array(stat_fix[2]['high'])\n",
    "moi_low_fix = np.array(stat_fix[2]['low'])\n",
    "\n",
    "moi_mean_var = np.array(stat_var[2]['mean'])\n",
    "moi_high_var = np.array(stat_var[2]['high'])\n",
    "moi_low_var = np.array(stat_var[2]['low'])\n",
    "\n",
    "\n",
    "# NC\n",
    "nc_deg_mean_fix = np.array(nc_stat_fix[0]['mean'])\n",
    "nc_deg_high_fix = np.array(nc_stat_fix[0]['high'])\n",
    "nc_deg_low_fix = np.array(nc_stat_fix[0]['low'])\n",
    "\n",
    "nc_deg_mean_var = np.array(nc_stat_var[0]['mean'])\n",
    "nc_deg_high_var = np.array(nc_stat_var[0]['high'])\n",
    "nc_deg_low_var = np.array(nc_stat_var[0]['low'])\n",
    "\n",
    "nc_tmp_mean_fix = np.array(nc_stat_fix[1]['mean'])\n",
    "nc_tmp_high_fix = np.array(nc_stat_fix[1]['high'])\n",
    "nc_tmp_low_fix = np.array(nc_stat_fix[1]['low'])\n",
    "\n",
    "nc_tmp_mean_var = np.array(nc_stat_var[1]['mean'])\n",
    "nc_tmp_high_var = np.array(nc_stat_var[1]['high'])\n",
    "nc_tmp_low_var = np.array(nc_stat_var[1]['low'])\n",
    "\n",
    "nc_moi_mean_fix = np.array(nc_stat_fix[2]['mean'])\n",
    "nc_moi_high_fix = np.array(nc_stat_fix[2]['high'])\n",
    "nc_moi_low_fix = np.array(nc_stat_fix[2]['low'])\n",
    "\n",
    "nc_moi_mean_var = np.array(nc_stat_var[2]['mean'])\n",
    "nc_moi_high_var = np.array(nc_stat_var[2]['high'])\n",
    "nc_moi_low_var = np.array(nc_stat_var[2]['low'])\n",
    "\n",
    "\n",
    "# WC\n",
    "# wc_deg_mean_fix = np.array(wc_stat_fix[0]['mean'])\n",
    "# wc_deg_high_fix = np.array(wc_stat_fix[0]['high'])\n",
    "# wc_deg_low_fix = np.array(wc_stat_fix[0]['low'])\n",
    "\n",
    "# wc_deg_mean_var = np.array(wc_stat_var[0]['mean'])\n",
    "# wc_deg_high_var = np.array(wc_stat_var[0]['high'])\n",
    "# wc_deg_low_var = np.array(wc_stat_var[0]['low'])\n",
    "\n",
    "\n",
    "# wc_tmp_mean_fix = np.array(wc_stat_fix[1]['mean'])\n",
    "# wc_tmp_high_fix = np.array(wc_stat_fix[1]['high'])\n",
    "# wc_tmp_low_fix = np.array(wc_stat_fix[1]['low'])\n",
    "\n",
    "# wc_tmp_mean_var = np.array(wc_stat_var[1]['mean'])\n",
    "# wc_tmp_high_var = np.array(wc_stat_var[1]['high'])\n",
    "# wc_tmp_low_var = np.array(wc_stat_var[1]['low'])\n",
    "\n",
    "# wc_moi_mean_fix = np.array(wc_stat_fix[2]['mean'])\n",
    "# wc_moi_high_fix = np.array(wc_stat_fix[2]['high'])\n",
    "# wc_moi_low_fix = np.array(wc_stat_fix[2]['low'])\n",
    "\n",
    "# wc_moi_mean_var = np.array(wc_stat_var[2]['mean'])\n",
    "# wc_moi_high_var = np.array(wc_stat_var[2]['high'])\n",
    "# wc_moi_low_var = np.array(wc_stat_var[2]['low'])\n",
    "\n",
    "# NC (LEFT)\n",
    "ax1.plot(time, nc_deg_mean_fix, label='NC-fix') # c= \"red\", marker='.', linestyle=':'\n",
    "ax1.legend(loc=\"upper right\")\n",
    "ax1.fill_between(time, nc_deg_high_fix, nc_deg_low_fix, alpha=0.5)\n",
    "\n",
    "ax1.plot(time, nc_deg_mean_var, label='NC-var' ) #, color=\"C0\", linestyle=':') # c= \"red\", marker='.'\n",
    "ax1.legend(loc=\"upper right\")\n",
    "ax1.fill_between(time, nc_deg_high_var, nc_deg_low_var, alpha=0.5)\n",
    "\n",
    "# NC (RIGHT)\n",
    "ax2.plot(time, nc_tmp_mean_var, label='T (-)', color=\"C3\", linestyle=':') # c= \"red\", marker='.'\n",
    "ax2.fill_between(time, nc_tmp_high_var, nc_tmp_low_var, color=\"C3\", alpha=0.5)\n",
    "# # ax2.legend(loc=\"lower right\")\n",
    "\n",
    "ax2.plot(time, nc_moi_mean_var, label='$\\\\theta$ (-)', color=\"C2\", linestyle='-') # c= \"red\", marker='.'\n",
    "ax2.legend(loc=\"lower right\")\n",
    "ax2.fill_between(time, nc_moi_high_var, nc_moi_low_var, color=\"C2\", alpha=0.5)\n",
    "\n",
    "\n",
    "# WC\n",
    "# ax1.plot(time, deg_mean_fix, label='Fix DT50') # c= \"red\", marker='.', linestyle=':'\n",
    "# ax1.fill_between(time, deg_high_fix, deg_low_fix, alpha=0.5)\n",
    "\n",
    "# ax1.plot(time, deg_mean_var, label='Var DT50' ) #, color=\"C0\", linestyle=':') # c= \"red\", marker='.'\n",
    "# ax1.legend(loc=\"lower right\")\n",
    "# ax1.fill_between(time, deg_high_var, deg_low_var, alpha=0.5)\n",
    "\n",
    "\n",
    "# ax2.plot(time, wc_tmp_mean_fix, label='T-WC-fix') # c= \"red\", marker='.', linestyle=':'\n",
    "# ax2.legend(loc=\"upper left\")\n",
    "# ax2.fill_between(time, wc_tmp_high_fix, wc_tmp_low_fix, alpha=0.5)\n",
    "\n",
    "# ALL\n",
    "# ax2.plot(time, tmp_mean_var, label='T (-)', color=\"C3\", linestyle=':') # c= \"red\", marker='.'\n",
    "# ax2.fill_between(time, tmp_high_var, tmp_low_var, color=\"C3\", alpha=0.5)\n",
    "# # ax2.legend(loc=\"lower right\")\n",
    "\n",
    "# ax2.plot(time, moi_mean_var, label='$\\\\theta$ (-)', color=\"C2\", linestyle='-') # c= \"red\", marker='.'\n",
    "# ax2.legend(loc=\"lower right\")\n",
    "# ax2.fill_between(time, moi_high_var, moi_low_var, color=\"C2\", alpha=0.5)\n",
    "\n",
    "ax2.set_ylim(0, 1)\n",
    "ax1.set_ylim(0, 70)\n",
    "ax1.set_xlim(0, 115)\n",
    "\n",
    "ax1.set_ylabel(\"Effective DT50 (days)\")\n",
    "ax2.set_ylabel(\"f (-)\")\n",
    "ax2.set_xlabel(\"Days after 1st App.\")\n",
    "\n",
    "plt.subplots_adjust(left=.2, bottom=None, right=None, top=.97,\n",
    "                wspace=None, hspace=.3)\n",
    "\n",
    "# fig.savefig(\"Fig3_EffDT50.pdf\")\n"
   ]
  },
  {
   "cell_type": "code",
   "execution_count": 27,
   "metadata": {},
   "outputs": [
    {
     "data": {
      "text/plain": [
       "0.9984601945618876"
      ]
     },
     "execution_count": 27,
     "metadata": {},
     "output_type": "execute_result"
    }
   ],
   "source": [
    "tmp_cor = np.corrcoef(deg_mean_var, tmp_mean_var)[1, 0]\n",
    "tmp_cor"
   ]
  },
  {
   "cell_type": "code",
   "execution_count": 28,
   "metadata": {},
   "outputs": [
    {
     "data": {
      "text/plain": [
       "0.3835000114349868"
      ]
     },
     "execution_count": 28,
     "metadata": {},
     "output_type": "execute_result"
    }
   ],
   "source": [
    "moi_cor = np.corrcoef(deg_mean_var, moi_mean_var)[1, 0]\n",
    "moi_cor"
   ]
  },
  {
   "cell_type": "code",
   "execution_count": 29,
   "metadata": {},
   "outputs": [
    {
     "data": {
      "text/plain": [
       "2.5006578568548825"
      ]
     },
     "execution_count": 29,
     "metadata": {},
     "output_type": "execute_result"
    }
   ],
   "source": [
    "(deg_mean_var - deg_mean_fix).max()"
   ]
  },
  {
   "cell_type": "code",
   "execution_count": 30,
   "metadata": {},
   "outputs": [
    {
     "data": {
      "text/plain": [
       "array([30.01262718, 29.64341544, 29.39404027, 29.19342617, 29.07980738,\n",
       "       28.94171174, 28.8557453 , 28.82449732, 28.83919094, 28.86097886,\n",
       "       28.86184564, 28.88333154, 28.88970973, 28.9342151 , 28.8868557 ,\n",
       "       28.94963121, 29.04709799, 29.11594765, 29.07652752, 29.05917852,\n",
       "       29.18853591, 29.32619799, 29.40113389, 29.45973423, 29.41448859,\n",
       "       29.29943993, 29.23957081, 29.23798523, 29.24499329, 29.28828624,\n",
       "       29.3022057 , 29.32796611, 29.38286309, 29.41503255, 29.36629966,\n",
       "       29.30471611, 29.24832685, 29.24182383, 29.26777785, 29.37788523,\n",
       "       29.33082047, 29.14869597, 28.99956879, 28.85877919, 28.74661611,\n",
       "       28.66327282, 28.6420349 , 28.64435403, 28.70557987, 28.85229027,\n",
       "       28.94225738, 28.95689396, 29.02294933, 29.17204396, 29.35606879,\n",
       "       29.56118356, 29.74886309, 29.88667047, 29.96087148, 30.02692416,\n",
       "       30.055     , 30.02763523, 29.86293993, 29.76481913, 29.71148389,\n",
       "       29.71484799, 29.69142383, 29.70726074, 29.81977315, 29.91105772,\n",
       "       29.90665671, 29.88623792, 29.87744698, 29.93709597, 30.08016611,\n",
       "       30.20424866, 30.28605503, 30.33251544, 30.32539027, 30.32629228,\n",
       "       30.35723792, 30.38929732, 30.43333523, 30.47967114, 30.57848624,\n",
       "       30.64938523, 30.6915906 , 30.69681678, 30.68492215, 30.68689195,\n",
       "       30.68601443, 30.67594664, 30.60708188, 30.54308557, 30.4735849 ,\n",
       "       30.4161906 , 30.3845302 , 30.36031275, 30.3302406 , 30.3708151 ,\n",
       "       30.5102047 , 30.69901409, 30.89647013, 30.93000973, 30.87964497,\n",
       "       30.82529463, 30.81789362, 30.8570255 , 30.89517617, 30.95342483,\n",
       "       30.93915369, 30.86101577, 30.8336557 , 30.84790235, 30.84431678,\n",
       "       30.82805973, 30.85247081, 30.91962919, 31.00928221, 31.09918054,\n",
       "       31.1452151 ])"
      ]
     },
     "execution_count": 30,
     "metadata": {},
     "output_type": "execute_result"
    }
   ],
   "source": [
    "# Temp - Coefficient of variation\n",
    "deg_mean_var"
   ]
  },
  {
   "cell_type": "code",
   "execution_count": 31,
   "metadata": {},
   "outputs": [
    {
     "data": {
      "text/plain": [
       "61"
      ]
     },
     "execution_count": 31,
     "metadata": {},
     "output_type": "execute_result"
    }
   ],
   "source": [
    "len(tmp_mean_var[60:])"
   ]
  },
  {
   "cell_type": "code",
   "execution_count": 32,
   "metadata": {},
   "outputs": [
    {
     "data": {
      "text/plain": [
       "0.1694989626564635"
      ]
     },
     "execution_count": 32,
     "metadata": {},
     "output_type": "execute_result"
    }
   ],
   "source": [
    "((tmp_mean_var).var())**0.5/(tmp_mean_var).mean()"
   ]
  },
  {
   "cell_type": "code",
   "execution_count": 33,
   "metadata": {},
   "outputs": [
    {
     "data": {
      "text/plain": [
       "0.06482901464736168"
      ]
     },
     "execution_count": 33,
     "metadata": {},
     "output_type": "execute_result"
    }
   ],
   "source": [
    "# First half\n",
    "((tmp_mean_var[0:60]).var())**0.5/(tmp_mean_var[60:]).mean()"
   ]
  },
  {
   "cell_type": "code",
   "execution_count": 34,
   "metadata": {},
   "outputs": [
    {
     "data": {
      "text/plain": [
       "0.08143472392176442"
      ]
     },
     "execution_count": 34,
     "metadata": {},
     "output_type": "execute_result"
    }
   ],
   "source": [
    "# Second half\n",
    "((tmp_mean_var[60:]).var())**0.5/(tmp_mean_var[60:]).mean()"
   ]
  },
  {
   "cell_type": "code",
   "execution_count": 35,
   "metadata": {},
   "outputs": [],
   "source": [
    "# Moisture "
   ]
  },
  {
   "cell_type": "code",
   "execution_count": 37,
   "metadata": {},
   "outputs": [
    {
     "data": {
      "text/plain": [
       "0.11275502878883938"
      ]
     },
     "execution_count": 37,
     "metadata": {},
     "output_type": "execute_result"
    }
   ],
   "source": [
    "((moi_mean_var).var())**0.5/(moi_mean_var).mean()"
   ]
  },
  {
   "cell_type": "code",
   "execution_count": 38,
   "metadata": {},
   "outputs": [
    {
     "data": {
      "text/plain": [
       "0.08955987049614084"
      ]
     },
     "execution_count": 38,
     "metadata": {},
     "output_type": "execute_result"
    }
   ],
   "source": [
    "# First half\n",
    "((moi_mean_var[0:60]).var())**0.5/(moi_mean_var[0:60]).mean()"
   ]
  },
  {
   "cell_type": "code",
   "execution_count": 39,
   "metadata": {},
   "outputs": [
    {
     "data": {
      "text/plain": [
       "0.1020827995029022"
      ]
     },
     "execution_count": 39,
     "metadata": {},
     "output_type": "execute_result"
    }
   ],
   "source": [
    "# Second half\n",
    "((moi_mean_var[60:]).var())**0.5/(moi_mean_var[60:]).mean()"
   ]
  },
  {
   "cell_type": "markdown",
   "metadata": {},
   "source": [
    "## Heatmap"
   ]
  },
  {
   "cell_type": "code",
   "execution_count": 57,
   "metadata": {},
   "outputs": [
    {
     "data": {
      "text/plain": [
       "0.40961291028823404"
      ]
     },
     "execution_count": 57,
     "metadata": {},
     "output_type": "execute_result"
    }
   ],
   "source": [
    "moi_mean_fix.mean()\n",
    "tmp_mean_fix.mean()"
   ]
  },
  {
   "cell_type": "code",
   "execution_count": 91,
   "metadata": {},
   "outputs": [],
   "source": [
    "# sns.set()\n",
    "\n",
    "theta = np.arange(0.05,0.65, 0.05)\n",
    "theta\n",
    "temp = np.arange(5, 65, 5)\n",
    "temp\n",
    "\n",
    "dt50_ref = deg_mean_fix.mean()\n",
    "theta_ref = 0.2\n",
    "temp_ref = 20.\n",
    "beta2 = 0.50\n",
    "\n",
    "def theta_factor_a(theta_ref, theta_obs, beta2):\n",
    "    return (theta_obs/theta_ref)**beta2\n",
    "\n",
    "def temp_factor(t_obs, t_ref):\n",
    "    tk_obs = t_obs + 273.15\n",
    "    tk_ref = t_ref + 273.15\n",
    "    E_a = 23.91  # Kj/mol\n",
    "    R = 0.008314  # mol Kelvin/ Kj\n",
    "    return np.exp((E_a/R)*(1/tk_obs - 1/tk_ref))"
   ]
  },
  {
   "cell_type": "code",
   "execution_count": 92,
   "metadata": {},
   "outputs": [],
   "source": [
    "x = []\n",
    "y = []\n",
    "z = []\n",
    "for i in theta:\n",
    "    for j in temp:\n",
    "        x.append(round(i,3))\n",
    "        y.append(int(j))\n",
    "        z.append(round(dt50_ref*theta_factor_a(theta_ref, i, beta2)*temp_factor(j, temp_ref),0))\n"
   ]
  },
  {
   "cell_type": "code",
   "execution_count": 93,
   "metadata": {},
   "outputs": [],
   "source": [
    "d = {'Moisture': x, 'Temp': y, 'DT50':z}\n",
    "df = pd.DataFrame(data=d)\n",
    "df1 = df.pivot(\"Moisture\", \"Temp\", \"DT50\")"
   ]
  },
  {
   "cell_type": "code",
   "execution_count": 94,
   "metadata": {},
   "outputs": [
    {
     "data": {
      "text/html": [
       "<div>\n",
       "<style scoped>\n",
       "    .dataframe tbody tr th:only-of-type {\n",
       "        vertical-align: middle;\n",
       "    }\n",
       "\n",
       "    .dataframe tbody tr th {\n",
       "        vertical-align: top;\n",
       "    }\n",
       "\n",
       "    .dataframe thead th {\n",
       "        text-align: right;\n",
       "    }\n",
       "</style>\n",
       "<table border=\"1\" class=\"dataframe\">\n",
       "  <thead>\n",
       "    <tr style=\"text-align: right;\">\n",
       "      <th>Temp</th>\n",
       "      <th>5</th>\n",
       "      <th>10</th>\n",
       "      <th>15</th>\n",
       "      <th>20</th>\n",
       "      <th>25</th>\n",
       "      <th>30</th>\n",
       "      <th>35</th>\n",
       "      <th>40</th>\n",
       "      <th>45</th>\n",
       "      <th>50</th>\n",
       "      <th>55</th>\n",
       "      <th>60</th>\n",
       "    </tr>\n",
       "    <tr>\n",
       "      <th>Moisture</th>\n",
       "      <th></th>\n",
       "      <th></th>\n",
       "      <th></th>\n",
       "      <th></th>\n",
       "      <th></th>\n",
       "      <th></th>\n",
       "      <th></th>\n",
       "      <th></th>\n",
       "      <th></th>\n",
       "      <th></th>\n",
       "      <th></th>\n",
       "      <th></th>\n",
       "    </tr>\n",
       "  </thead>\n",
       "  <tbody>\n",
       "    <tr>\n",
       "      <th>0.05</th>\n",
       "      <td>24.0</td>\n",
       "      <td>20.0</td>\n",
       "      <td>17.0</td>\n",
       "      <td>14.0</td>\n",
       "      <td>12.0</td>\n",
       "      <td>10.0</td>\n",
       "      <td>9.0</td>\n",
       "      <td>8.0</td>\n",
       "      <td>7.0</td>\n",
       "      <td>6.0</td>\n",
       "      <td>5.0</td>\n",
       "      <td>4.0</td>\n",
       "    </tr>\n",
       "    <tr>\n",
       "      <th>0.10</th>\n",
       "      <td>34.0</td>\n",
       "      <td>29.0</td>\n",
       "      <td>24.0</td>\n",
       "      <td>20.0</td>\n",
       "      <td>17.0</td>\n",
       "      <td>15.0</td>\n",
       "      <td>13.0</td>\n",
       "      <td>11.0</td>\n",
       "      <td>9.0</td>\n",
       "      <td>8.0</td>\n",
       "      <td>7.0</td>\n",
       "      <td>6.0</td>\n",
       "    </tr>\n",
       "    <tr>\n",
       "      <th>0.15</th>\n",
       "      <td>42.0</td>\n",
       "      <td>35.0</td>\n",
       "      <td>29.0</td>\n",
       "      <td>25.0</td>\n",
       "      <td>21.0</td>\n",
       "      <td>18.0</td>\n",
       "      <td>15.0</td>\n",
       "      <td>13.0</td>\n",
       "      <td>11.0</td>\n",
       "      <td>10.0</td>\n",
       "      <td>9.0</td>\n",
       "      <td>8.0</td>\n",
       "    </tr>\n",
       "    <tr>\n",
       "      <th>0.20</th>\n",
       "      <td>49.0</td>\n",
       "      <td>41.0</td>\n",
       "      <td>34.0</td>\n",
       "      <td>29.0</td>\n",
       "      <td>24.0</td>\n",
       "      <td>21.0</td>\n",
       "      <td>18.0</td>\n",
       "      <td>15.0</td>\n",
       "      <td>13.0</td>\n",
       "      <td>12.0</td>\n",
       "      <td>10.0</td>\n",
       "      <td>9.0</td>\n",
       "    </tr>\n",
       "    <tr>\n",
       "      <th>0.25</th>\n",
       "      <td>54.0</td>\n",
       "      <td>45.0</td>\n",
       "      <td>38.0</td>\n",
       "      <td>32.0</td>\n",
       "      <td>27.0</td>\n",
       "      <td>23.0</td>\n",
       "      <td>20.0</td>\n",
       "      <td>17.0</td>\n",
       "      <td>15.0</td>\n",
       "      <td>13.0</td>\n",
       "      <td>11.0</td>\n",
       "      <td>10.0</td>\n",
       "    </tr>\n",
       "    <tr>\n",
       "      <th>0.30</th>\n",
       "      <td>60.0</td>\n",
       "      <td>50.0</td>\n",
       "      <td>42.0</td>\n",
       "      <td>35.0</td>\n",
       "      <td>30.0</td>\n",
       "      <td>25.0</td>\n",
       "      <td>22.0</td>\n",
       "      <td>19.0</td>\n",
       "      <td>16.0</td>\n",
       "      <td>14.0</td>\n",
       "      <td>12.0</td>\n",
       "      <td>11.0</td>\n",
       "    </tr>\n",
       "    <tr>\n",
       "      <th>0.35</th>\n",
       "      <td>64.0</td>\n",
       "      <td>54.0</td>\n",
       "      <td>45.0</td>\n",
       "      <td>38.0</td>\n",
       "      <td>32.0</td>\n",
       "      <td>27.0</td>\n",
       "      <td>24.0</td>\n",
       "      <td>20.0</td>\n",
       "      <td>18.0</td>\n",
       "      <td>15.0</td>\n",
       "      <td>13.0</td>\n",
       "      <td>12.0</td>\n",
       "    </tr>\n",
       "    <tr>\n",
       "      <th>0.40</th>\n",
       "      <td>69.0</td>\n",
       "      <td>57.0</td>\n",
       "      <td>48.0</td>\n",
       "      <td>41.0</td>\n",
       "      <td>34.0</td>\n",
       "      <td>29.0</td>\n",
       "      <td>25.0</td>\n",
       "      <td>22.0</td>\n",
       "      <td>19.0</td>\n",
       "      <td>16.0</td>\n",
       "      <td>14.0</td>\n",
       "      <td>12.0</td>\n",
       "    </tr>\n",
       "    <tr>\n",
       "      <th>0.45</th>\n",
       "      <td>73.0</td>\n",
       "      <td>61.0</td>\n",
       "      <td>51.0</td>\n",
       "      <td>43.0</td>\n",
       "      <td>36.0</td>\n",
       "      <td>31.0</td>\n",
       "      <td>27.0</td>\n",
       "      <td>23.0</td>\n",
       "      <td>20.0</td>\n",
       "      <td>17.0</td>\n",
       "      <td>15.0</td>\n",
       "      <td>13.0</td>\n",
       "    </tr>\n",
       "    <tr>\n",
       "      <th>0.50</th>\n",
       "      <td>77.0</td>\n",
       "      <td>64.0</td>\n",
       "      <td>54.0</td>\n",
       "      <td>45.0</td>\n",
       "      <td>38.0</td>\n",
       "      <td>33.0</td>\n",
       "      <td>28.0</td>\n",
       "      <td>24.0</td>\n",
       "      <td>21.0</td>\n",
       "      <td>18.0</td>\n",
       "      <td>16.0</td>\n",
       "      <td>14.0</td>\n",
       "    </tr>\n",
       "    <tr>\n",
       "      <th>0.55</th>\n",
       "      <td>81.0</td>\n",
       "      <td>67.0</td>\n",
       "      <td>56.0</td>\n",
       "      <td>48.0</td>\n",
       "      <td>40.0</td>\n",
       "      <td>34.0</td>\n",
       "      <td>29.0</td>\n",
       "      <td>25.0</td>\n",
       "      <td>22.0</td>\n",
       "      <td>19.0</td>\n",
       "      <td>17.0</td>\n",
       "      <td>15.0</td>\n",
       "    </tr>\n",
       "    <tr>\n",
       "      <th>0.60</th>\n",
       "      <td>84.0</td>\n",
       "      <td>70.0</td>\n",
       "      <td>59.0</td>\n",
       "      <td>50.0</td>\n",
       "      <td>42.0</td>\n",
       "      <td>36.0</td>\n",
       "      <td>31.0</td>\n",
       "      <td>27.0</td>\n",
       "      <td>23.0</td>\n",
       "      <td>20.0</td>\n",
       "      <td>17.0</td>\n",
       "      <td>15.0</td>\n",
       "    </tr>\n",
       "  </tbody>\n",
       "</table>\n",
       "</div>"
      ],
      "text/plain": [
       "Temp        5     10    15    20    25    30    35    40    45    50    55  \\\n",
       "Moisture                                                                     \n",
       "0.05      24.0  20.0  17.0  14.0  12.0  10.0   9.0   8.0   7.0   6.0   5.0   \n",
       "0.10      34.0  29.0  24.0  20.0  17.0  15.0  13.0  11.0   9.0   8.0   7.0   \n",
       "0.15      42.0  35.0  29.0  25.0  21.0  18.0  15.0  13.0  11.0  10.0   9.0   \n",
       "0.20      49.0  41.0  34.0  29.0  24.0  21.0  18.0  15.0  13.0  12.0  10.0   \n",
       "0.25      54.0  45.0  38.0  32.0  27.0  23.0  20.0  17.0  15.0  13.0  11.0   \n",
       "0.30      60.0  50.0  42.0  35.0  30.0  25.0  22.0  19.0  16.0  14.0  12.0   \n",
       "0.35      64.0  54.0  45.0  38.0  32.0  27.0  24.0  20.0  18.0  15.0  13.0   \n",
       "0.40      69.0  57.0  48.0  41.0  34.0  29.0  25.0  22.0  19.0  16.0  14.0   \n",
       "0.45      73.0  61.0  51.0  43.0  36.0  31.0  27.0  23.0  20.0  17.0  15.0   \n",
       "0.50      77.0  64.0  54.0  45.0  38.0  33.0  28.0  24.0  21.0  18.0  16.0   \n",
       "0.55      81.0  67.0  56.0  48.0  40.0  34.0  29.0  25.0  22.0  19.0  17.0   \n",
       "0.60      84.0  70.0  59.0  50.0  42.0  36.0  31.0  27.0  23.0  20.0  17.0   \n",
       "\n",
       "Temp        60  \n",
       "Moisture        \n",
       "0.05       4.0  \n",
       "0.10       6.0  \n",
       "0.15       8.0  \n",
       "0.20       9.0  \n",
       "0.25      10.0  \n",
       "0.30      11.0  \n",
       "0.35      12.0  \n",
       "0.40      12.0  \n",
       "0.45      13.0  \n",
       "0.50      14.0  \n",
       "0.55      15.0  \n",
       "0.60      15.0  "
      ]
     },
     "execution_count": 94,
     "metadata": {},
     "output_type": "execute_result"
    }
   ],
   "source": [
    "df1"
   ]
  },
  {
   "cell_type": "code",
   "execution_count": 95,
   "metadata": {},
   "outputs": [
    {
     "data": {
      "text/plain": [
       "array([11.0267508 , 10.18168188,  9.62206393,  9.170388  ,  8.93174488])"
      ]
     },
     "execution_count": 95,
     "metadata": {},
     "output_type": "execute_result"
    }
   ],
   "source": [
    "iy = (0.4/.6)*12*0.93\n",
    "ix = (25/60.)*12.*0.90\n",
    "\n",
    "moi_mean_var[0:5]*.4\n",
    "tmp_mean_var[0:5]*27."
   ]
  },
  {
   "cell_type": "code",
   "execution_count": 96,
   "metadata": {},
   "outputs": [],
   "source": [
    "y_adj = 0.93\n",
    "x_adj = 0.90\n",
    "\n",
    "max_x = 60.\n",
    "max_y = .60\n",
    "max_moi = 0.50\n",
    "\n",
    "moi = ((moi_mean_var*max_moi)/max_y)*12*y_adj\n",
    "tmp = ((tmp_mean_var*27.)/max_x)*12*x_adj\n",
    "\n",
    "moi_h = ((moi_high_var*max_moi)/max_y)*12*y_adj\n",
    "tmp_h = ((tmp_high_var*27.)/max_x)*12*x_adj\n",
    "\n",
    "moi_l = ((moi_low_var*max_moi)/max_y)*12*y_adj\n",
    "tmp_l = ((tmp_low_var*27.)/max_x)*12*x_adj"
   ]
  },
  {
   "cell_type": "code",
   "execution_count": 97,
   "metadata": {},
   "outputs": [],
   "source": [
    "sns.set_context(\"paper\")\n",
    "sns.set(rc={'figure.figsize':(7, 4.)}) # Width, height, inches"
   ]
  },
  {
   "cell_type": "code",
   "execution_count": 98,
   "metadata": {},
   "outputs": [
    {
     "data": {
      "image/png": "[encoded data removed]",
      "text/plain": [
       "<Figure size 504x288 with 2 Axes>"
      ]
     },
     "metadata": {},
     "output_type": "display_data"
    }
   ],
   "source": [
    "ax = plt.axes()\n",
    "ax.set_title('Predicted DT50 - Arr. & Walker')\n",
    "heat1 = sns.heatmap(df1, ax=ax, annot=True)\n",
    "ax.scatter(tmp_h, moi_h, c=\"yellow\", marker='x', label=\"CI - 95%\", s=10, alpha=0.8)\n",
    "# ax.scatter(tmp, moi, c= \"green\", marker='x', label=\"CI - 50%\", s=10, alpha=0.8)\n",
    "ax.scatter(tmp_l, moi_l, c=\"green\", marker='x', label=\"CI - 5%\", s=10, alpha=0.8)\n",
    "ax.legend(markerscale = 3)\n",
    "plt.show()"
   ]
  },
  {
   "cell_type": "code",
   "execution_count": 99,
   "metadata": {},
   "outputs": [
    {
     "data": {
      "text/plain": [
       "(12.0, 0.0)"
      ]
     },
     "execution_count": 99,
     "metadata": {},
     "output_type": "execute_result"
    }
   ],
   "source": [
    "ax.get_ylim()"
   ]
  },
  {
   "cell_type": "code",
   "execution_count": 100,
   "metadata": {},
   "outputs": [
    {
     "data": {
      "text/plain": [
       "11.059548577782321"
      ]
     },
     "execution_count": 100,
     "metadata": {},
     "output_type": "execute_result"
    }
   ],
   "source": [
    "mean_tmp = (tmp_mean_fix*27.).mean()\n",
    "mean_tmp"
   ]
  },
  {
   "cell_type": "code",
   "execution_count": 101,
   "metadata": {},
   "outputs": [
    {
     "data": {
      "text/plain": [
       "0.32287701953683967"
      ]
     },
     "execution_count": 101,
     "metadata": {},
     "output_type": "execute_result"
    }
   ],
   "source": [
    "mean_moi = (moi_mean_fix*.5).mean()\n",
    "mean_moi"
   ]
  },
  {
   "cell_type": "code",
   "execution_count": 102,
   "metadata": {},
   "outputs": [
    {
     "data": {
      "text/plain": [
       "49.553045983684115"
      ]
     },
     "execution_count": 102,
     "metadata": {},
     "output_type": "execute_result"
    }
   ],
   "source": [
    "dt50_ref*theta_factor_a(theta_ref, mean_moi, beta2)*temp_factor(mean_tmp, temp_ref)"
   ]
  },
  {
   "cell_type": "code",
   "execution_count": 103,
   "metadata": {},
   "outputs": [
    {
     "data": {
      "text/plain": [
       "Text(0.5,12.5,'Days after 1st App.')"
      ]
     },
     "execution_count": 103,
     "metadata": {},
     "output_type": "execute_result"
    },
    {
     "data": {
      "image/png": "[encoded data removed]",
      "text/plain": [
       "<Figure size 720x288 with 3 Axes>"
      ]
     },
     "metadata": {},
     "output_type": "display_data"
    }
   ],
   "source": [
    "# sns.set(rc={'figure.figsize':(11.7, 8.27)})\n",
    "# ES&T max width, 1 column = 3.25in, 2-col = 7in \n",
    "sns.set_context(\"paper\")\n",
    "# sns.set(rc={'figure.figsize':(9.25, 5.27)}) # Width, height, inches\n",
    "sns.set(rc={'figure.figsize':(10.0, 4.)}) # Width, height, inches\n",
    "\n",
    "fig, axes = plt.subplots(1, 2, sharex=False, sharey=False)\n",
    "\n",
    "ax1 = axes[0]\n",
    "ax2 = axes[1]\n",
    "# ax3 = axes[2]\n",
    "\n",
    "time = np.array(nc_stat_fix[0]['Jdays']-171)\n",
    "\n",
    "# ALL\n",
    "deg_mean_fix = np.array(stat_fix[0]['mean'])\n",
    "deg_high_fix = np.array(stat_fix[0]['high'])\n",
    "deg_low_fix = np.array(stat_fix[0]['low'])\n",
    "\n",
    "deg_mean_var = np.array(stat_var[0]['mean'])\n",
    "deg_high_var = np.array(stat_var[0]['high'])\n",
    "deg_low_var = np.array(stat_var[0]['low'])\n",
    "\n",
    "tmp_mean_fix = np.array(stat_fix[1]['mean'])\n",
    "tmp_high_fix = np.array(stat_fix[1]['high'])\n",
    "tmp_low_fix = np.array(stat_fix[1]['low'])\n",
    "\n",
    "tmp_mean_var = np.array(stat_var[1]['mean'])\n",
    "tmp_high_var = np.array(stat_var[1]['high'])\n",
    "tmp_low_var = np.array(stat_var[1]['low'])\n",
    "\n",
    "moi_mean_fix = np.array(stat_fix[2]['mean'])\n",
    "moi_high_fix = np.array(stat_fix[2]['high'])\n",
    "moi_low_fix = np.array(stat_fix[2]['low'])\n",
    "\n",
    "moi_mean_var = np.array(stat_var[2]['mean'])\n",
    "moi_high_var = np.array(stat_var[2]['high'])\n",
    "moi_low_var = np.array(stat_var[2]['low'])\n",
    "\n",
    "heat1 = sns.heatmap(df1, ax=ax1, annot=True, \n",
    "                    cbar_kws={'label': '$\\overline{DT50}$$_{var}$'}\n",
    "                   )\n",
    "\n",
    "# ax1.scatter(tmp_h, moi_h, c=\"yellow\", marker='x', label=\"CI - 95%\", s=10, alpha=0.8)\n",
    "# ax1.scatter(tmp_l, moi_l, c=\"C0\", marker='x', label=\"CI - 5%\", s=10, alpha=0.8)\n",
    "\n",
    "# ax1.scatter(tmp, moi, c= \"green\", marker='x', label=\"CI - 50%\", s=10, alpha=0.8)\n",
    "# ax1.legend(markerscale = 3)\n",
    "\n",
    "ax2.plot(time, deg_mean_var/deg_mean_fix, label='DT50 (-)', color=\"green\", linestyle='-.') # c= \"red\", marker='.'\n",
    "ax2.fill_between(time, deg_low_var/deg_low_fix, deg_high_var/deg_high_fix, color=\"green\", alpha=0.5)\n",
    "\n",
    "ax2.plot(time, moi_mean_var, label='$\\\\theta$ (-)', color=\"C0\", linestyle='-') # c= \"red\", marker='.'\n",
    "ax2.fill_between(time, moi_high_var, moi_low_var, color=\"C0\", alpha=0.5)\n",
    "\n",
    "ax2.plot(time, tmp_mean_var, label='T (-)', color=\"C3\", linestyle=':') # c= \"red\", marker='.'\n",
    "ax2.fill_between(time, tmp_high_var, tmp_low_var, color=\"C3\", alpha=0.5)\n",
    "\n",
    "ax2.legend(loc=\"lower right\")\n",
    "ax2.set_ylim(0.1, 1.2)\n",
    "# ax1.set_ylim(0, 70)\n",
    "# ax1.set_xlim(0, 115)\n",
    "\n",
    "# ax1.set_ylabel(\"Effective DT50 (days)\")\n",
    "# ax2.set_ylabel(\"f (-)\")\n",
    "# ax2.set_xlabel(\"Days after 1st App.\")\n",
    "\n",
    "plt.subplots_adjust(left=None, bottom=None, right=None, top=None,\n",
    "                wspace=.3, hspace=None)\n",
    "\n",
    "rec1 = Rectangle((1, 4.), 2., 5, edgecolor=\"green\", linestyle=\"-\", linewidth=3., fill=False, alpha=1)\n",
    "ax1.add_patch(rec1)\n",
    "axes[1].annotate('$\\overline{DT50}$$_{fix}=$'+str(int(deg_mean_fix.mean()))+ ' (d)', xy=(-3, 0.75), # 1.2 \n",
    "                 xycoords='data')\n",
    "\n",
    "axes[1].annotate('$\\overline{\\\\theta}$$_{sat}=$'+str(0.5)+' (m$^{3}$m$^{-3}$)', xy=(-3, .43), # 0.75\n",
    "                 xycoords='data')\n",
    "\n",
    "axes[1].annotate('$T_{air, max}=$'+str(27)+' ($^{\\circ}$C)', xy=(-3, .2), # 0.75\n",
    "                 xycoords='data')\n",
    "\n",
    "axes[0].set_ylabel(\"Moisture ($m^{3}$ $m^{-3}$)\")\n",
    "axes[0].set_xlabel(\"Temp. ($^{\\circ}$C)\")\n",
    "\n",
    "axes[1].set_ylabel(\"$f$ (-)\")\n",
    "axes[1].set_xlabel(\"Days after 1st App.\")\n",
    "# fig.savefig(\"Fig3_EffDT50.pdf\")"
   ]
  },
  {
   "cell_type": "code",
   "execution_count": 104,
   "metadata": {},
   "outputs": [
    {
     "data": {
      "text/plain": [
       "1.096774193548387"
      ]
     },
     "execution_count": 104,
     "metadata": {},
     "output_type": "execute_result"
    }
   ],
   "source": [
    "34/31."
   ]
  },
  {
   "cell_type": "code",
   "execution_count": 105,
   "metadata": {},
   "outputs": [
    {
     "data": {
      "text/plain": [
       "29.828757085806203"
      ]
     },
     "execution_count": 105,
     "metadata": {},
     "output_type": "execute_result"
    }
   ],
   "source": [
    "deg_mean_var.mean()"
   ]
  },
  {
   "cell_type": "code",
   "execution_count": 106,
   "metadata": {},
   "outputs": [
    {
     "data": {
      "text/plain": [
       "47.49716755085982"
      ]
     },
     "execution_count": 106,
     "metadata": {},
     "output_type": "execute_result"
    }
   ],
   "source": [
    "deg_high_var.mean()"
   ]
  },
  {
   "cell_type": "code",
   "execution_count": 107,
   "metadata": {},
   "outputs": [
    {
     "data": {
      "text/plain": [
       "6.080173310376293"
      ]
     },
     "execution_count": 107,
     "metadata": {},
     "output_type": "execute_result"
    }
   ],
   "source": [
    "deg_low_var.mean()/2"
   ]
  },
  {
   "cell_type": "code",
   "execution_count": 471,
   "metadata": {},
   "outputs": [
    {
     "data": {
      "text/plain": [
       "6"
      ]
     },
     "execution_count": 471,
     "metadata": {},
     "output_type": "execute_result"
    }
   ],
   "source": [
    "32-26"
   ]
  },
  {
   "cell_type": "code",
   "execution_count": 472,
   "metadata": {},
   "outputs": [
    {
     "data": {
      "text/plain": [
       "20"
      ]
     },
     "execution_count": 472,
     "metadata": {},
     "output_type": "execute_result"
    }
   ],
   "source": [
    "32-12"
   ]
  },
  {
   "cell_type": "code",
   "execution_count": 476,
   "metadata": {},
   "outputs": [
    {
     "data": {
      "text/plain": [
       "14.017495177493432"
      ]
     },
     "execution_count": 476,
     "metadata": {},
     "output_type": "execute_result"
    }
   ],
   "source": [
    "deg_low_fix.mean()"
   ]
  },
  {
   "cell_type": "code",
   "execution_count": 478,
   "metadata": {},
   "outputs": [
    {
     "data": {
      "text/plain": [
       "48.01287503527252"
      ]
     },
     "execution_count": 478,
     "metadata": {},
     "output_type": "execute_result"
    }
   ],
   "source": [
    "deg_high_fix.mean()"
   ]
  },
  {
   "cell_type": "code",
   "execution_count": 479,
   "metadata": {},
   "outputs": [
    {
     "data": {
      "text/plain": [
       "31.015185106382987"
      ]
     },
     "execution_count": 479,
     "metadata": {},
     "output_type": "execute_result"
    }
   ],
   "source": [
    "deg_mean_fix.mean()"
   ]
  },
  {
   "cell_type": "code",
   "execution_count": null,
   "metadata": {},
   "outputs": [],
   "source": []
  }
 ],
 "metadata": {
  "kernelspec": {
   "display_name": "bunny",
   "language": "python",
   "name": "bunny"
  },
  "language_info": {
   "codemirror_mode": {
    "name": "ipython",
    "version": 2
   },
   "file_extension": ".py",
   "mimetype": "text/x-python",
   "name": "python",
   "nbconvert_exporter": "python",
   "pygments_lexer": "ipython2",
   "version": "2.7.14"
  }
 },
 "nbformat": 4,
 "nbformat_minor": 2
}
