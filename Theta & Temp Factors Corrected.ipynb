{
 "cells": [
  {
   "cell_type": "code",
   "execution_count": 1,
   "metadata": {},
   "outputs": [],
   "source": [
    "import numpy as np\n",
    "import seaborn as sns\n",
    "sns.set()"
   ]
  },
  {
   "cell_type": "code",
   "execution_count": null,
   "metadata": {},
   "outputs": [],
   "source": []
  },
  {
   "cell_type": "code",
   "execution_count": 2,
   "metadata": {},
   "outputs": [
    {
     "data": {
      "text/plain": [
       "array([ 5.,  7.,  9., 11., 13., 15., 17., 19., 21., 23., 25., 27., 29.,\n",
       "       31.])"
      ]
     },
     "execution_count": 2,
     "metadata": {},
     "output_type": "execute_result"
    }
   ],
   "source": [
    "temp = np.arange(5., 33, 2)\n",
    "temp"
   ]
  },
  {
   "cell_type": "code",
   "execution_count": 3,
   "metadata": {},
   "outputs": [],
   "source": [
    "dt50_ref = 30.\n",
    "theta_ref = 0.20\n",
    "temp_ref = 20.0\n",
    "beta2 = 0.45\n",
    "beta_prime = 0.5"
   ]
  },
  {
   "cell_type": "code",
   "execution_count": 4,
   "metadata": {},
   "outputs": [],
   "source": [
    "def theta_factor_a(theta_ref, theta_obs, beta2):\n",
    "    return (theta_obs/theta_ref)**beta2\n",
    "\n",
    "def theta_factor_b(theta_obs, beta_prime):\n",
    "    WP = 0.19\n",
    "    W100 = 0.43\n",
    "    if theta_obs < 0.5*WP:\n",
    "        return 0\n",
    "    elif theta_obs <= W100:\n",
    "        return ((theta_obs-0.5*WP)/(W100-WP))**beta_prime\n",
    "    else:\n",
    "        return 1\n",
    "\n",
    "def temp_factor_arr(t_obs, t_ref):\n",
    "    tk_obs = t_obs + 273.15\n",
    "    tk_ref = t_ref + 273.15\n",
    "    E_a = 23.91  # Kj/mol\n",
    "    R = 0.008314  # mol Kelvin/ Kj\n",
    "    return np.exp((E_a/R)*((1./tk_ref)-(1./tk_obs)))\n",
    "\n",
    "\n",
    "def temp_factor_macro(t_obs, t_ref):\n",
    "    E_a = 23.91  # Kj/mol\n",
    "    R = 0.008314  # mol Kelvin/ Kj\n",
    "    tk_ref = t_ref + 273.15\n",
    "    tk_obs = t_obs + 273.15\n",
    "    \n",
    "    if t_obs <= 0.:\n",
    "        return 0\n",
    "    elif t_obs < 5.:\n",
    "        return (t_obs/(5.))*np.exp((E_a/(R*tk_ref*tk_obs))*(tk_obs-tk_ref))\n",
    "    else:\n",
    "#         print(\"third clause\")\n",
    "        return np.exp((E_a/(R*tk_ref*tk_obs))*(tk_obs-tk_ref))\n",
    "#         return np.exp((E_a/R)*((1./tk_ref)-(1./tk_obs)))\n"
   ]
  },
  {
   "cell_type": "code",
   "execution_count": 5,
   "metadata": {},
   "outputs": [
    {
     "name": "stdout",
     "output_type": "stream",
     "text": [
      "('With factor ', 0.10133353655727484)\n",
      "('With factor and 5deg', 0.11692751927533084)\n",
      "('Without factor', 0.5066676827863742)\n",
      "Best solution is 'With factor', MACRO and Dairon have errors.\n"
     ]
    }
   ],
   "source": [
    "# Macro\n",
    "t_obs = 1\n",
    "tk_obs = t_obs + 273.15\n",
    "test = 5 + 273.15\n",
    "\n",
    "tk_ref = 20 + 273.15\n",
    "E_a = 23.91  # Kj/mol\n",
    "R = 0.008314  # mol Kelvin/ Kj\n",
    "print(\"With factor \", (t_obs/(5.))*np.exp((E_a/(R*tk_ref*tk_obs))*(tk_obs-tk_ref)))\n",
    "print(\"With factor and 5deg\", (t_obs/(5.))*np.exp((E_a/(R*tk_ref*tk_obs))*(test-tk_ref)))\n",
    "print(\"Without factor\", np.exp((E_a/(R*tk_ref*tk_obs))*(tk_obs-tk_ref)))\n",
    "\n",
    "print(\"Best solution is 'With factor', MACRO and Dairon have errors.\")"
   ]
  },
  {
   "cell_type": "code",
   "execution_count": 6,
   "metadata": {},
   "outputs": [
    {
     "data": {
      "text/plain": [
       "1.5103340164972456"
      ]
     },
     "execution_count": 6,
     "metadata": {},
     "output_type": "execute_result"
    }
   ],
   "source": [
    "theta_obs = .50\n",
    "(theta_obs/theta_ref)**beta2"
   ]
  },
  {
   "cell_type": "code",
   "execution_count": 7,
   "metadata": {},
   "outputs": [
    {
     "data": {
      "text/plain": [
       "0.7071814699609018"
      ]
     },
     "execution_count": 7,
     "metadata": {},
     "output_type": "execute_result"
    }
   ],
   "source": [
    "t_obs = 10\n",
    "tk_obs = t_obs + 273.15\n",
    "\n",
    "np.exp((E_a/R)*(1./tk_ref - 1./tk_obs))"
   ]
  },
  {
   "cell_type": "markdown",
   "metadata": {},
   "source": [
    "# Plotting"
   ]
  },
  {
   "cell_type": "code",
   "execution_count": 8,
   "metadata": {},
   "outputs": [],
   "source": [
    "import pandas as pd\n",
    "import seaborn as sns\n",
    "sns.set()\n",
    "import matplotlib.pyplot as plt"
   ]
  },
  {
   "cell_type": "markdown",
   "metadata": {},
   "source": [
    "## Option 1, $\\theta$ equation 3.50 (Walker, 1974)\n",
    "\n",
    "Walker, A. (1974). “A simulation model for prediction of herbicide persistence”. Journal of Envi- ronmental Quality 3, p. 396–401."
   ]
  },
  {
   "cell_type": "code",
   "execution_count": 9,
   "metadata": {},
   "outputs": [
    {
     "data": {
      "text/plain": [
       "array([0.1 , 0.15, 0.2 , 0.25, 0.3 , 0.35, 0.4 , 0.45, 0.5 , 0.55, 0.6 ])"
      ]
     },
     "execution_count": 9,
     "metadata": {},
     "output_type": "execute_result"
    }
   ],
   "source": [
    "theta = np.arange(0.10,0.65, 0.05)\n",
    "theta"
   ]
  },
  {
   "cell_type": "code",
   "execution_count": 10,
   "metadata": {},
   "outputs": [],
   "source": [
    "\n",
    "\n",
    "x = []\n",
    "y = []\n",
    "z = []\n",
    "for i in theta:\n",
    "    for j in temp:\n",
    "        x.append(round(i,3))\n",
    "        y.append(float(j))\n",
    "        k = round((np.log(2)/dt50_ref)*(min(1.,theta_factor_a(theta_ref, i, beta2)))*(temp_factor_macro(j, temp_ref)),5)\n",
    "#         z.append(k)\n",
    "        z.append(round((np.log(2)/float(k)),2))"
   ]
  },
  {
   "cell_type": "code",
   "execution_count": 11,
   "metadata": {},
   "outputs": [],
   "source": [
    "d = {'Moisture': x, 'Temp': y, 'DT50':z}\n",
    "df = pd.DataFrame(data=d)"
   ]
  },
  {
   "cell_type": "code",
   "execution_count": 12,
   "metadata": {},
   "outputs": [],
   "source": [
    "df1 = df.pivot(\"Moisture\", \"Temp\", \"DT50\")"
   ]
  },
  {
   "cell_type": "code",
   "execution_count": 13,
   "metadata": {},
   "outputs": [
    {
     "data": {
      "text/html": [
       "<div>\n",
       "<style scoped>\n",
       "    .dataframe tbody tr th:only-of-type {\n",
       "        vertical-align: middle;\n",
       "    }\n",
       "\n",
       "    .dataframe tbody tr th {\n",
       "        vertical-align: top;\n",
       "    }\n",
       "\n",
       "    .dataframe thead th {\n",
       "        text-align: right;\n",
       "    }\n",
       "</style>\n",
       "<table border=\"1\" class=\"dataframe\">\n",
       "  <thead>\n",
       "    <tr style=\"text-align: right;\">\n",
       "      <th>Temp</th>\n",
       "      <th>5.0</th>\n",
       "      <th>7.0</th>\n",
       "      <th>9.0</th>\n",
       "      <th>11.0</th>\n",
       "      <th>13.0</th>\n",
       "      <th>15.0</th>\n",
       "      <th>17.0</th>\n",
       "      <th>19.0</th>\n",
       "      <th>21.0</th>\n",
       "      <th>23.0</th>\n",
       "      <th>25.0</th>\n",
       "      <th>27.0</th>\n",
       "      <th>29.0</th>\n",
       "      <th>31.0</th>\n",
       "    </tr>\n",
       "    <tr>\n",
       "      <th>Moisture</th>\n",
       "      <th></th>\n",
       "      <th></th>\n",
       "      <th></th>\n",
       "      <th></th>\n",
       "      <th></th>\n",
       "      <th></th>\n",
       "      <th></th>\n",
       "      <th></th>\n",
       "      <th></th>\n",
       "      <th></th>\n",
       "      <th></th>\n",
       "      <th></th>\n",
       "      <th></th>\n",
       "      <th></th>\n",
       "    </tr>\n",
       "  </thead>\n",
       "  <tbody>\n",
       "    <tr>\n",
       "      <th>0.10</th>\n",
       "      <td>69.52</td>\n",
       "      <td>64.60</td>\n",
       "      <td>60.06</td>\n",
       "      <td>55.90</td>\n",
       "      <td>52.08</td>\n",
       "      <td>48.57</td>\n",
       "      <td>45.36</td>\n",
       "      <td>42.37</td>\n",
       "      <td>39.63</td>\n",
       "      <td>37.11</td>\n",
       "      <td>34.76</td>\n",
       "      <td>32.60</td>\n",
       "      <td>30.60</td>\n",
       "      <td>28.74</td>\n",
       "    </tr>\n",
       "    <tr>\n",
       "      <th>0.15</th>\n",
       "      <td>57.96</td>\n",
       "      <td>53.82</td>\n",
       "      <td>50.05</td>\n",
       "      <td>46.58</td>\n",
       "      <td>43.40</td>\n",
       "      <td>40.49</td>\n",
       "      <td>37.79</td>\n",
       "      <td>35.31</td>\n",
       "      <td>33.02</td>\n",
       "      <td>30.92</td>\n",
       "      <td>28.97</td>\n",
       "      <td>27.16</td>\n",
       "      <td>25.49</td>\n",
       "      <td>23.95</td>\n",
       "    </tr>\n",
       "    <tr>\n",
       "      <th>0.20</th>\n",
       "      <td>50.93</td>\n",
       "      <td>47.28</td>\n",
       "      <td>43.98</td>\n",
       "      <td>40.94</td>\n",
       "      <td>38.13</td>\n",
       "      <td>35.56</td>\n",
       "      <td>33.20</td>\n",
       "      <td>31.03</td>\n",
       "      <td>29.01</td>\n",
       "      <td>27.16</td>\n",
       "      <td>25.45</td>\n",
       "      <td>23.87</td>\n",
       "      <td>22.40</td>\n",
       "      <td>21.04</td>\n",
       "    </tr>\n",
       "    <tr>\n",
       "      <th>0.25</th>\n",
       "      <td>50.93</td>\n",
       "      <td>47.28</td>\n",
       "      <td>43.98</td>\n",
       "      <td>40.94</td>\n",
       "      <td>38.13</td>\n",
       "      <td>35.56</td>\n",
       "      <td>33.20</td>\n",
       "      <td>31.03</td>\n",
       "      <td>29.01</td>\n",
       "      <td>27.16</td>\n",
       "      <td>25.45</td>\n",
       "      <td>23.87</td>\n",
       "      <td>22.40</td>\n",
       "      <td>21.04</td>\n",
       "    </tr>\n",
       "    <tr>\n",
       "      <th>0.30</th>\n",
       "      <td>50.93</td>\n",
       "      <td>47.28</td>\n",
       "      <td>43.98</td>\n",
       "      <td>40.94</td>\n",
       "      <td>38.13</td>\n",
       "      <td>35.56</td>\n",
       "      <td>33.20</td>\n",
       "      <td>31.03</td>\n",
       "      <td>29.01</td>\n",
       "      <td>27.16</td>\n",
       "      <td>25.45</td>\n",
       "      <td>23.87</td>\n",
       "      <td>22.40</td>\n",
       "      <td>21.04</td>\n",
       "    </tr>\n",
       "    <tr>\n",
       "      <th>0.35</th>\n",
       "      <td>50.93</td>\n",
       "      <td>47.28</td>\n",
       "      <td>43.98</td>\n",
       "      <td>40.94</td>\n",
       "      <td>38.13</td>\n",
       "      <td>35.56</td>\n",
       "      <td>33.20</td>\n",
       "      <td>31.03</td>\n",
       "      <td>29.01</td>\n",
       "      <td>27.16</td>\n",
       "      <td>25.45</td>\n",
       "      <td>23.87</td>\n",
       "      <td>22.40</td>\n",
       "      <td>21.04</td>\n",
       "    </tr>\n",
       "    <tr>\n",
       "      <th>0.40</th>\n",
       "      <td>50.93</td>\n",
       "      <td>47.28</td>\n",
       "      <td>43.98</td>\n",
       "      <td>40.94</td>\n",
       "      <td>38.13</td>\n",
       "      <td>35.56</td>\n",
       "      <td>33.20</td>\n",
       "      <td>31.03</td>\n",
       "      <td>29.01</td>\n",
       "      <td>27.16</td>\n",
       "      <td>25.45</td>\n",
       "      <td>23.87</td>\n",
       "      <td>22.40</td>\n",
       "      <td>21.04</td>\n",
       "    </tr>\n",
       "    <tr>\n",
       "      <th>0.45</th>\n",
       "      <td>50.93</td>\n",
       "      <td>47.28</td>\n",
       "      <td>43.98</td>\n",
       "      <td>40.94</td>\n",
       "      <td>38.13</td>\n",
       "      <td>35.56</td>\n",
       "      <td>33.20</td>\n",
       "      <td>31.03</td>\n",
       "      <td>29.01</td>\n",
       "      <td>27.16</td>\n",
       "      <td>25.45</td>\n",
       "      <td>23.87</td>\n",
       "      <td>22.40</td>\n",
       "      <td>21.04</td>\n",
       "    </tr>\n",
       "    <tr>\n",
       "      <th>0.50</th>\n",
       "      <td>50.93</td>\n",
       "      <td>47.28</td>\n",
       "      <td>43.98</td>\n",
       "      <td>40.94</td>\n",
       "      <td>38.13</td>\n",
       "      <td>35.56</td>\n",
       "      <td>33.20</td>\n",
       "      <td>31.03</td>\n",
       "      <td>29.01</td>\n",
       "      <td>27.16</td>\n",
       "      <td>25.45</td>\n",
       "      <td>23.87</td>\n",
       "      <td>22.40</td>\n",
       "      <td>21.04</td>\n",
       "    </tr>\n",
       "    <tr>\n",
       "      <th>0.55</th>\n",
       "      <td>50.93</td>\n",
       "      <td>47.28</td>\n",
       "      <td>43.98</td>\n",
       "      <td>40.94</td>\n",
       "      <td>38.13</td>\n",
       "      <td>35.56</td>\n",
       "      <td>33.20</td>\n",
       "      <td>31.03</td>\n",
       "      <td>29.01</td>\n",
       "      <td>27.16</td>\n",
       "      <td>25.45</td>\n",
       "      <td>23.87</td>\n",
       "      <td>22.40</td>\n",
       "      <td>21.04</td>\n",
       "    </tr>\n",
       "    <tr>\n",
       "      <th>0.60</th>\n",
       "      <td>50.93</td>\n",
       "      <td>47.28</td>\n",
       "      <td>43.98</td>\n",
       "      <td>40.94</td>\n",
       "      <td>38.13</td>\n",
       "      <td>35.56</td>\n",
       "      <td>33.20</td>\n",
       "      <td>31.03</td>\n",
       "      <td>29.01</td>\n",
       "      <td>27.16</td>\n",
       "      <td>25.45</td>\n",
       "      <td>23.87</td>\n",
       "      <td>22.40</td>\n",
       "      <td>21.04</td>\n",
       "    </tr>\n",
       "  </tbody>\n",
       "</table>\n",
       "</div>"
      ],
      "text/plain": [
       "Temp       5.0    7.0    9.0    11.0   13.0   15.0   17.0   19.0   21.0  \\\n",
       "Moisture                                                                  \n",
       "0.10      69.52  64.60  60.06  55.90  52.08  48.57  45.36  42.37  39.63   \n",
       "0.15      57.96  53.82  50.05  46.58  43.40  40.49  37.79  35.31  33.02   \n",
       "0.20      50.93  47.28  43.98  40.94  38.13  35.56  33.20  31.03  29.01   \n",
       "0.25      50.93  47.28  43.98  40.94  38.13  35.56  33.20  31.03  29.01   \n",
       "0.30      50.93  47.28  43.98  40.94  38.13  35.56  33.20  31.03  29.01   \n",
       "0.35      50.93  47.28  43.98  40.94  38.13  35.56  33.20  31.03  29.01   \n",
       "0.40      50.93  47.28  43.98  40.94  38.13  35.56  33.20  31.03  29.01   \n",
       "0.45      50.93  47.28  43.98  40.94  38.13  35.56  33.20  31.03  29.01   \n",
       "0.50      50.93  47.28  43.98  40.94  38.13  35.56  33.20  31.03  29.01   \n",
       "0.55      50.93  47.28  43.98  40.94  38.13  35.56  33.20  31.03  29.01   \n",
       "0.60      50.93  47.28  43.98  40.94  38.13  35.56  33.20  31.03  29.01   \n",
       "\n",
       "Temp       23.0   25.0   27.0   29.0   31.0  \n",
       "Moisture                                     \n",
       "0.10      37.11  34.76  32.60  30.60  28.74  \n",
       "0.15      30.92  28.97  27.16  25.49  23.95  \n",
       "0.20      27.16  25.45  23.87  22.40  21.04  \n",
       "0.25      27.16  25.45  23.87  22.40  21.04  \n",
       "0.30      27.16  25.45  23.87  22.40  21.04  \n",
       "0.35      27.16  25.45  23.87  22.40  21.04  \n",
       "0.40      27.16  25.45  23.87  22.40  21.04  \n",
       "0.45      27.16  25.45  23.87  22.40  21.04  \n",
       "0.50      27.16  25.45  23.87  22.40  21.04  \n",
       "0.55      27.16  25.45  23.87  22.40  21.04  \n",
       "0.60      27.16  25.45  23.87  22.40  21.04  "
      ]
     },
     "execution_count": 13,
     "metadata": {},
     "output_type": "execute_result"
    }
   ],
   "source": [
    "df1"
   ]
  },
  {
   "cell_type": "code",
   "execution_count": 14,
   "metadata": {},
   "outputs": [],
   "source": [
    "\n",
    "\n",
    "iy1 = (0.4/theta.max())*len(theta)\n",
    "ix1 = ((20.)/temp.max())*len(temp)\n",
    "\n",
    "iy2 = (0.2/theta.max())*len(theta)\n",
    "ix2 = ((30.)/temp.max())*len(temp)\n",
    "\n",
    "iy3 = (0.4/theta.max())*len(theta)\n",
    "ix3 = ((30.)/temp.max())*len(temp)\n",
    "\n",
    "\n",
    "# ax.scatter(ix, iy, c= \"green\", marker='s', label=\"$\\Delta$DT50 = -0.3 d.\", s=80)"
   ]
  },
  {
   "cell_type": "code",
   "execution_count": 15,
   "metadata": {},
   "outputs": [
    {
     "data": {
      "image/png": "[encoded data removed]",
      "text/plain": [
       "<Figure size 432x288 with 2 Axes>"
      ]
     },
     "metadata": {},
     "output_type": "display_data"
    }
   ],
   "source": [
    "ax = plt.axes()\n",
    "ax.set_title('Predicted DT50 - Arr. & Walker')\n",
    "heat1 = sns.heatmap(df1, ax=ax, annot = True)\n",
    "\n",
    "\n",
    "\n",
    "ax.scatter(ix1, iy1, c= \"green\", marker='.', label=\"$\\Delta$DT50 = -0.1 d.\", s=200)\n",
    "ax.scatter(ix2, iy2, c= \"green\", marker='^', label=\"$\\Delta$DT50 = -6.1 d.\", s=80)\n",
    "ax.scatter(ix3, iy3, c= \"green\", marker='v', label=\"$\\Delta$DT50 = -0.3 d.\", s=80)\n",
    "# ax.legend(markerscale = 0.5, loc=\"lower right\")\n",
    "# ax.legend(ncol=1, bbox_to_anchor=(1.2, .55), markerscale = .8,\n",
    "#            bbox_transform=plt.gcf().transFigure)\n",
    "plt.show()"
   ]
  },
  {
   "cell_type": "code",
   "execution_count": 16,
   "metadata": {},
   "outputs": [
    {
     "data": {
      "text/plain": [
       "(11.0, 0.0)"
      ]
     },
     "execution_count": 16,
     "metadata": {},
     "output_type": "execute_result"
    }
   ],
   "source": [
    "ax.get_ylim()"
   ]
  },
  {
   "cell_type": "code",
   "execution_count": 17,
   "metadata": {},
   "outputs": [
    {
     "data": {
      "text/plain": [
       "(0.0, 14.0)"
      ]
     },
     "execution_count": 17,
     "metadata": {},
     "output_type": "execute_result"
    }
   ],
   "source": [
    "ax.get_xlim()"
   ]
  },
  {
   "cell_type": "code",
   "execution_count": 18,
   "metadata": {},
   "outputs": [],
   "source": [
    "# figure = heat1.get_figure()    \n",
    "# figure.savefig('heat1.pdf', dpi=400)"
   ]
  },
  {
   "cell_type": "markdown",
   "metadata": {},
   "source": [
    "## Option 2, $\\theta$ equation 3.52 (Scrholl et al., 2006)\n",
    "\n",
    "Schroll, R., H. H. Becher, U. Dorfler, S. Gayler, H. P. Hartmann et J. Ruoss (2006). “Quantifying the effect of soil moisture on the aerobic microbial mineralization of selected pes- ticides in different soils”. Environmental Science & Technology 40.10, p. 3305–3312.\n",
    "Schwen,"
   ]
  },
  {
   "cell_type": "code",
   "execution_count": 19,
   "metadata": {},
   "outputs": [
    {
     "data": {
      "text/plain": [
       "array([0.15, 0.2 , 0.25, 0.3 , 0.35, 0.4 , 0.45, 0.5 , 0.55, 0.6 ])"
      ]
     },
     "execution_count": 19,
     "metadata": {},
     "output_type": "execute_result"
    }
   ],
   "source": [
    "theta = np.arange(0.15,0.65, 0.05)\n",
    "theta"
   ]
  },
  {
   "cell_type": "code",
   "execution_count": 20,
   "metadata": {},
   "outputs": [],
   "source": [
    "x = []\n",
    "y = []\n",
    "z = []\n",
    "\n",
    "for i in theta:\n",
    "    for j in temp:\n",
    "        x.append(round(i,3))\n",
    "        y.append(float(j))\n",
    "        k = round((np.log(2)/dt50_ref)*(theta_factor_b(i, beta_prime))*(temp_factor_macro(j, temp_ref)),5)\n",
    "#         z.append(k)\n",
    "        z.append(round((np.log(2)/float(k)),2))"
   ]
  },
  {
   "cell_type": "code",
   "execution_count": 21,
   "metadata": {},
   "outputs": [],
   "source": [
    "d = {'Moisture': x, 'Temp': y, 'DT50':z}\n",
    "df = pd.DataFrame(data=d)\n",
    "df2 = df.pivot(\"Moisture\", \"Temp\", \"DT50\")"
   ]
  },
  {
   "cell_type": "code",
   "execution_count": 22,
   "metadata": {},
   "outputs": [
    {
     "data": {
      "text/html": [
       "<div>\n",
       "<style scoped>\n",
       "    .dataframe tbody tr th:only-of-type {\n",
       "        vertical-align: middle;\n",
       "    }\n",
       "\n",
       "    .dataframe tbody tr th {\n",
       "        vertical-align: top;\n",
       "    }\n",
       "\n",
       "    .dataframe thead th {\n",
       "        text-align: right;\n",
       "    }\n",
       "</style>\n",
       "<table border=\"1\" class=\"dataframe\">\n",
       "  <thead>\n",
       "    <tr style=\"text-align: right;\">\n",
       "      <th>Temp</th>\n",
       "      <th>5.0</th>\n",
       "      <th>7.0</th>\n",
       "      <th>9.0</th>\n",
       "      <th>11.0</th>\n",
       "      <th>13.0</th>\n",
       "      <th>15.0</th>\n",
       "      <th>17.0</th>\n",
       "      <th>19.0</th>\n",
       "      <th>21.0</th>\n",
       "      <th>23.0</th>\n",
       "      <th>25.0</th>\n",
       "      <th>27.0</th>\n",
       "      <th>29.0</th>\n",
       "      <th>31.0</th>\n",
       "    </tr>\n",
       "    <tr>\n",
       "      <th>Moisture</th>\n",
       "      <th></th>\n",
       "      <th></th>\n",
       "      <th></th>\n",
       "      <th></th>\n",
       "      <th></th>\n",
       "      <th></th>\n",
       "      <th></th>\n",
       "      <th></th>\n",
       "      <th></th>\n",
       "      <th></th>\n",
       "      <th></th>\n",
       "      <th></th>\n",
       "      <th></th>\n",
       "      <th></th>\n",
       "    </tr>\n",
       "  </thead>\n",
       "  <tbody>\n",
       "    <tr>\n",
       "      <th>0.15</th>\n",
       "      <td>106.31</td>\n",
       "      <td>98.74</td>\n",
       "      <td>91.81</td>\n",
       "      <td>85.47</td>\n",
       "      <td>79.67</td>\n",
       "      <td>74.29</td>\n",
       "      <td>69.38</td>\n",
       "      <td>64.78</td>\n",
       "      <td>60.59</td>\n",
       "      <td>56.72</td>\n",
       "      <td>53.16</td>\n",
       "      <td>49.87</td>\n",
       "      <td>46.80</td>\n",
       "      <td>43.95</td>\n",
       "    </tr>\n",
       "    <tr>\n",
       "      <th>0.20</th>\n",
       "      <td>77.02</td>\n",
       "      <td>71.53</td>\n",
       "      <td>66.46</td>\n",
       "      <td>61.89</td>\n",
       "      <td>57.67</td>\n",
       "      <td>53.77</td>\n",
       "      <td>50.19</td>\n",
       "      <td>46.90</td>\n",
       "      <td>43.87</td>\n",
       "      <td>41.06</td>\n",
       "      <td>38.47</td>\n",
       "      <td>36.08</td>\n",
       "      <td>33.86</td>\n",
       "      <td>31.81</td>\n",
       "    </tr>\n",
       "    <tr>\n",
       "      <th>0.25</th>\n",
       "      <td>63.36</td>\n",
       "      <td>58.84</td>\n",
       "      <td>54.71</td>\n",
       "      <td>50.93</td>\n",
       "      <td>47.44</td>\n",
       "      <td>44.26</td>\n",
       "      <td>41.31</td>\n",
       "      <td>38.62</td>\n",
       "      <td>36.10</td>\n",
       "      <td>33.80</td>\n",
       "      <td>31.67</td>\n",
       "      <td>29.70</td>\n",
       "      <td>27.87</td>\n",
       "      <td>26.18</td>\n",
       "    </tr>\n",
       "    <tr>\n",
       "      <th>0.30</th>\n",
       "      <td>55.10</td>\n",
       "      <td>51.19</td>\n",
       "      <td>47.57</td>\n",
       "      <td>44.29</td>\n",
       "      <td>41.26</td>\n",
       "      <td>38.49</td>\n",
       "      <td>35.93</td>\n",
       "      <td>33.57</td>\n",
       "      <td>31.39</td>\n",
       "      <td>29.40</td>\n",
       "      <td>27.54</td>\n",
       "      <td>25.83</td>\n",
       "      <td>24.24</td>\n",
       "      <td>22.76</td>\n",
       "    </tr>\n",
       "    <tr>\n",
       "      <th>0.35</th>\n",
       "      <td>49.40</td>\n",
       "      <td>45.87</td>\n",
       "      <td>42.66</td>\n",
       "      <td>39.70</td>\n",
       "      <td>37.01</td>\n",
       "      <td>34.50</td>\n",
       "      <td>32.21</td>\n",
       "      <td>30.10</td>\n",
       "      <td>28.15</td>\n",
       "      <td>26.36</td>\n",
       "      <td>24.69</td>\n",
       "      <td>23.15</td>\n",
       "      <td>21.73</td>\n",
       "      <td>20.41</td>\n",
       "    </tr>\n",
       "    <tr>\n",
       "      <th>0.40</th>\n",
       "      <td>45.16</td>\n",
       "      <td>41.96</td>\n",
       "      <td>39.01</td>\n",
       "      <td>36.31</td>\n",
       "      <td>33.83</td>\n",
       "      <td>31.55</td>\n",
       "      <td>29.46</td>\n",
       "      <td>27.52</td>\n",
       "      <td>25.74</td>\n",
       "      <td>24.09</td>\n",
       "      <td>22.58</td>\n",
       "      <td>21.17</td>\n",
       "      <td>19.87</td>\n",
       "      <td>18.66</td>\n",
       "    </tr>\n",
       "    <tr>\n",
       "      <th>0.45</th>\n",
       "      <td>50.93</td>\n",
       "      <td>47.28</td>\n",
       "      <td>43.98</td>\n",
       "      <td>40.94</td>\n",
       "      <td>38.13</td>\n",
       "      <td>35.56</td>\n",
       "      <td>33.20</td>\n",
       "      <td>31.03</td>\n",
       "      <td>29.01</td>\n",
       "      <td>27.16</td>\n",
       "      <td>25.45</td>\n",
       "      <td>23.87</td>\n",
       "      <td>22.40</td>\n",
       "      <td>21.04</td>\n",
       "    </tr>\n",
       "    <tr>\n",
       "      <th>0.50</th>\n",
       "      <td>50.93</td>\n",
       "      <td>47.28</td>\n",
       "      <td>43.98</td>\n",
       "      <td>40.94</td>\n",
       "      <td>38.13</td>\n",
       "      <td>35.56</td>\n",
       "      <td>33.20</td>\n",
       "      <td>31.03</td>\n",
       "      <td>29.01</td>\n",
       "      <td>27.16</td>\n",
       "      <td>25.45</td>\n",
       "      <td>23.87</td>\n",
       "      <td>22.40</td>\n",
       "      <td>21.04</td>\n",
       "    </tr>\n",
       "    <tr>\n",
       "      <th>0.55</th>\n",
       "      <td>50.93</td>\n",
       "      <td>47.28</td>\n",
       "      <td>43.98</td>\n",
       "      <td>40.94</td>\n",
       "      <td>38.13</td>\n",
       "      <td>35.56</td>\n",
       "      <td>33.20</td>\n",
       "      <td>31.03</td>\n",
       "      <td>29.01</td>\n",
       "      <td>27.16</td>\n",
       "      <td>25.45</td>\n",
       "      <td>23.87</td>\n",
       "      <td>22.40</td>\n",
       "      <td>21.04</td>\n",
       "    </tr>\n",
       "    <tr>\n",
       "      <th>0.60</th>\n",
       "      <td>50.93</td>\n",
       "      <td>47.28</td>\n",
       "      <td>43.98</td>\n",
       "      <td>40.94</td>\n",
       "      <td>38.13</td>\n",
       "      <td>35.56</td>\n",
       "      <td>33.20</td>\n",
       "      <td>31.03</td>\n",
       "      <td>29.01</td>\n",
       "      <td>27.16</td>\n",
       "      <td>25.45</td>\n",
       "      <td>23.87</td>\n",
       "      <td>22.40</td>\n",
       "      <td>21.04</td>\n",
       "    </tr>\n",
       "  </tbody>\n",
       "</table>\n",
       "</div>"
      ],
      "text/plain": [
       "Temp        5.0    7.0    9.0    11.0   13.0   15.0   17.0   19.0   21.0  \\\n",
       "Moisture                                                                   \n",
       "0.15      106.31  98.74  91.81  85.47  79.67  74.29  69.38  64.78  60.59   \n",
       "0.20       77.02  71.53  66.46  61.89  57.67  53.77  50.19  46.90  43.87   \n",
       "0.25       63.36  58.84  54.71  50.93  47.44  44.26  41.31  38.62  36.10   \n",
       "0.30       55.10  51.19  47.57  44.29  41.26  38.49  35.93  33.57  31.39   \n",
       "0.35       49.40  45.87  42.66  39.70  37.01  34.50  32.21  30.10  28.15   \n",
       "0.40       45.16  41.96  39.01  36.31  33.83  31.55  29.46  27.52  25.74   \n",
       "0.45       50.93  47.28  43.98  40.94  38.13  35.56  33.20  31.03  29.01   \n",
       "0.50       50.93  47.28  43.98  40.94  38.13  35.56  33.20  31.03  29.01   \n",
       "0.55       50.93  47.28  43.98  40.94  38.13  35.56  33.20  31.03  29.01   \n",
       "0.60       50.93  47.28  43.98  40.94  38.13  35.56  33.20  31.03  29.01   \n",
       "\n",
       "Temp       23.0   25.0   27.0   29.0   31.0  \n",
       "Moisture                                     \n",
       "0.15      56.72  53.16  49.87  46.80  43.95  \n",
       "0.20      41.06  38.47  36.08  33.86  31.81  \n",
       "0.25      33.80  31.67  29.70  27.87  26.18  \n",
       "0.30      29.40  27.54  25.83  24.24  22.76  \n",
       "0.35      26.36  24.69  23.15  21.73  20.41  \n",
       "0.40      24.09  22.58  21.17  19.87  18.66  \n",
       "0.45      27.16  25.45  23.87  22.40  21.04  \n",
       "0.50      27.16  25.45  23.87  22.40  21.04  \n",
       "0.55      27.16  25.45  23.87  22.40  21.04  \n",
       "0.60      27.16  25.45  23.87  22.40  21.04  "
      ]
     },
     "execution_count": 22,
     "metadata": {},
     "output_type": "execute_result"
    }
   ],
   "source": [
    "df2"
   ]
  },
  {
   "cell_type": "code",
   "execution_count": 23,
   "metadata": {},
   "outputs": [
    {
     "data": {
      "image/png": "[encoded data removed]",
      "text/plain": [
       "<Figure size 432x288 with 2 Axes>"
      ]
     },
     "metadata": {},
     "output_type": "display_data"
    }
   ],
   "source": [
    "ax = plt.axes()\n",
    "ax.set_title('DT50 - Arr. & Schroll')\n",
    "heat2 = sns.heatmap(df2)  \n",
    "plt.show()"
   ]
  },
  {
   "cell_type": "code",
   "execution_count": 24,
   "metadata": {},
   "outputs": [],
   "source": [
    "# fig2 = heat2.get_figure() \n",
    "# fig2.savefig('heat2.png', dpi=400)"
   ]
  },
  {
   "cell_type": "code",
   "execution_count": 25,
   "metadata": {},
   "outputs": [],
   "source": [
    "yticks = df2.index\n",
    "keptticks = yticks[::int(len(yticks)/10)]\n",
    "yticks = ['' for y in yticks]\n",
    "yticks[::int(len(yticks)/10)] = keptticks\n",
    "\n",
    "xticks = df2.columns\n",
    "keptticks = xticks[::int(len(xticks)/10)]\n",
    "xticks = ['' for y in xticks]\n",
    "xticks[::int(len(xticks)/10)] = keptticks"
   ]
  },
  {
   "cell_type": "code",
   "execution_count": 36,
   "metadata": {},
   "outputs": [
    {
     "data": {
      "image/png": "[encoded data removed]",
      "text/plain": [
       "<Figure size 720x288 with 4 Axes>"
      ]
     },
     "metadata": {},
     "output_type": "display_data"
    }
   ],
   "source": [
    "sns.set_context(\"paper\")\n",
    "sns.set(rc={'figure.figsize':(10.0, 4.)}) # Width, height, inches\n",
    "\n",
    "fig, ax = plt.subplots(1, 2, sharex=False, sharey=False)\n",
    "\n",
    "# ax = plt.axes()\n",
    "ax[0].set_title('Predicted DT50 - Arr. & Walker')\n",
    "heat1 = sns.heatmap(df1, ax=ax[0])\n",
    "ax[0].scatter(8, 6.5, c= \"green\", marker='.', label=\"$DT_{50, sim}$=30 ($\\Delta_{obs}$ = -11)\", s=200) # 20-C, 40\n",
    "ax[0].scatter(13., 2.5, c= \"green\", marker='^', label=\"$DT_{50, sim}$=22 ($\\Delta_{obs}$ = -6)\", s=80) # 30-C, 20\n",
    "ax[0].scatter(13., 6.5, c= \"green\", marker='s', label=\"$DT_{50, sim}$=22 ($\\Delta_{obs}$ = -8)\", s=80) # 30-C, 40\n",
    "ax[0].legend(loc = 'lower right', markerscale = 0.5)\n",
    "ax[0].set_ylabel(\"Moisture ($m^{3}$ $m^{-3}$)\")\n",
    "ax[0].set_xlabel(\"Temp. ($^{\\circ}$C)\")\n",
    "\n",
    "ax[1].set_title('Predicted DT50 - Arr. & Schroll')\n",
    "heat2 = sns.heatmap(df2, ax=ax[1], yticklabels=yticks,xticklabels=xticks)\n",
    "ax[1].scatter(8., 5.5, c= \"yellow\", marker='.', label=\"$DT_{50, sim}$=26 ($\\Delta_{obs}$ = -15)\", s=200) # 20-C, 40\n",
    "ax[1].scatter(13., 1.5, c= \"yellow\", marker='^', label=\"$DT_{50, sim}$=32 ($\\Delta_{obs}$ = +4)\", s=80) # 30-C, 20\n",
    "ax[1].scatter(13., 5.5, c= \"yellow\", marker='s', label=\"$DT_{50, sim}$=18 ($\\Delta_{obs}$ = -11)\", s=80) # 30-C, 40\n",
    "ax[1].legend(loc = 'lower right', markerscale = 0.5)\n",
    "ax[1].set_ylabel(\"Moisture ($m^{3}$ $m^{-3}$)\")\n",
    "ax[1].set_xlabel(\"Temp. ($^{\\circ}$C)\")\n",
    "\n",
    "# This sets the yticks \"upright\" with 0, as opposed to sideways with 90.\n",
    "plt.yticks(rotation=0)\n",
    "\n",
    "plt.subplots_adjust(left=None, bottom=.2, right=None, top=.9,\n",
    "                wspace=0.23, hspace=None)\n",
    "plt.show()\n",
    "fig.savefig('heats.pdf', dpi=400)"
   ]
  },
  {
   "cell_type": "code",
   "execution_count": null,
   "metadata": {},
   "outputs": [],
   "source": []
  },
  {
   "cell_type": "code",
   "execution_count": null,
   "metadata": {},
   "outputs": [],
   "source": []
  }
 ],
 "metadata": {
  "kernelspec": {
   "display_name": "Python 2",
   "language": "python",
   "name": "python2"
  },
  "language_info": {
   "codemirror_mode": {
    "name": "ipython",
    "version": 2
   },
   "file_extension": ".py",
   "mimetype": "text/x-python",
   "name": "python",
   "nbconvert_exporter": "python",
   "pygments_lexer": "ipython2",
   "version": "2.7.14"
  }
 },
 "nbformat": 4,
 "nbformat_minor": 2
}
