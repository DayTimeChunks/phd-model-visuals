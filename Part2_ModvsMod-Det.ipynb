{
 "cells": [
  {
   "cell_type": "code",
   "execution_count": 1,
   "metadata": {},
   "outputs": [],
   "source": [
    "import numpy as np\n",
    "# Plotting\n",
    "import pandas as pd\n",
    "from helpers_pd import *\n",
    "pd.options.mode.chained_assignment = None  # default='warn'\n",
    "import seaborn as sns\n",
    "sns.set()\n",
    "# plt.style.use('seaborn-white')\n",
    "import matplotlib.pyplot as plt\n",
    "import matplotlib as mpl"
   ]
  },
  {
   "cell_type": "code",
   "execution_count": 2,
   "metadata": {},
   "outputs": [],
   "source": [
    "def facet_scatter(x, y, c, **kwargs):\n",
    "    \"\"\"Draw scatterplot with point colors from a faceted DataFrame columns.\"\"\"\n",
    "    kwargs.pop(\"color\")\n",
    "    plt.scatter(x, y, c=c, **kwargs)\n",
    "    \n",
    "sns.set(rc={'figure.figsize':(11.7,8.27)})"
   ]
  },
  {
   "cell_type": "markdown",
   "metadata": {},
   "source": [
    "Want to constrain mobility in soils by outlet fit. \n",
    "\n",
    "Does the **variable model** allow us to see the constraint effects (on Kd and DT50), when constrained by the outlet? \n"
   ]
  },
  {
   "cell_type": "code",
   "execution_count": 3,
   "metadata": {},
   "outputs": [],
   "source": [
    "df = get_data(gen=\"Gen1\")"
   ]
  },
  {
   "cell_type": "code",
   "execution_count": 4,
   "metadata": {},
   "outputs": [],
   "source": [
    "df['K_d'] = df.loc[:, 'k_oc'] * df.loc[:,'f_oc']\n",
    "# Combined outlet and transects KGE Concentrations and d13C\n",
    "df['KGE-SM'] = (df.loc[:, 'KGE-CONC_out'] + df.loc[:, 'KGE-CONC-det'])/2.0  \n",
    "df['KGE-d13C'] = (df.loc[:, 'KGE-d13C_out'] + df.loc[:, 'KGE-d13C-det'])/2.0\n",
    "\n",
    "isocst = 0.6\n",
    "df['Constraint'] = df.apply(IsoKGE, args=(isocst,), axis=1)"
   ]
  },
  {
   "cell_type": "code",
   "execution_count": 13,
   "metadata": {},
   "outputs": [
    {
     "name": "stdout",
     "output_type": "stream",
     "text": [
      "Maximum Conc.\n",
      "(0.7096975578825315, 0.36008130938978367, 0.4955886261535394)\n",
      "Maximum d13C\n",
      "(0.8358887272967761, 0.70432567774303, 0.7531756121791892)\n"
     ]
    }
   ],
   "source": [
    "print(\"Maximum Conc.\")\n",
    "print(df['KGE-CONC-det'].max(), df['KGE-CONC_out'].max(), df['KGE-SM'].max()) \n",
    "print(\"Maximum d13C\")\n",
    "print(df['KGE-d13C-det'].max(), df['KGE-d13C_out'].max(), df['KGE-d13C'].max()) "
   ]
  },
  {
   "cell_type": "code",
   "execution_count": 14,
   "metadata": {},
   "outputs": [],
   "source": [
    "dfs = df[['Model', 'K_d', 'dt_50_ref', 'k_oc', 'f_oc',\n",
    "          'KGE-CONC-det' ,\n",
    "          'KGE-CONC-tra' , \n",
    "          'KGE-Q_out', 'KGE-CONC_out', 'KGE-LDS_out',\n",
    "          'KGE-d13C-det',\n",
    "          'KGE-d13C-tra', 'KGE-d13C_out',\n",
    "          'KGE-SM', 'KGE-d13C', 'Constraint'\n",
    "         ]]"
   ]
  },
  {
   "cell_type": "markdown",
   "metadata": {},
   "source": [
    "Filter for good concentrations"
   ]
  },
  {
   "cell_type": "code",
   "execution_count": 15,
   "metadata": {},
   "outputs": [
    {
     "name": "stdout",
     "output_type": "stream",
     "text": [
      "(7920, 335, 1)\n"
     ]
    }
   ],
   "source": [
    "# Filter\n",
    "ff = dfs.loc[(dfs['KGE-SM'] > 0.30)] # Try 25 with more data points\n",
    "ff_c = ff.loc[(ff['KGE-d13C'] > isocst)]\n",
    "print(len(dfs), len(ff), len(ff_c))"
   ]
  },
  {
   "cell_type": "markdown",
   "metadata": {},
   "source": [
    "Set color bar and axes ranges "
   ]
  },
  {
   "cell_type": "code",
   "execution_count": 16,
   "metadata": {},
   "outputs": [],
   "source": [
    "vmin, vmax = ff['KGE-SM'].min(), ff['KGE-SM'].max()\n",
    "cmap = sns.diverging_palette(10, 240, l=65, center=\"light\", as_cmap=True)\n",
    "# cmap = sns.diverging_palette(275, 150, s=80, l=55, center=\"dark\", as_cmap=True)\n",
    "\n",
    "xmin, xmax = ff['KGE-CONC_out'].min() * .90, ff['KGE-CONC_out'].max() * 1.05\n",
    "ymin, ymax = ff['KGE-CONC-det'].min() * 0.90, ff['KGE-CONC-det'].max() * 1.05"
   ]
  },
  {
   "cell_type": "code",
   "execution_count": 17,
   "metadata": {},
   "outputs": [
    {
     "data": {
      "text/html": [
       "<div>\n",
       "<style scoped>\n",
       "    .dataframe tbody tr th:only-of-type {\n",
       "        vertical-align: middle;\n",
       "    }\n",
       "\n",
       "    .dataframe tbody tr th {\n",
       "        vertical-align: top;\n",
       "    }\n",
       "\n",
       "    .dataframe thead th {\n",
       "        text-align: right;\n",
       "    }\n",
       "</style>\n",
       "<table border=\"1\" class=\"dataframe\">\n",
       "  <thead>\n",
       "    <tr style=\"text-align: right;\">\n",
       "      <th></th>\n",
       "      <th>Model</th>\n",
       "      <th>K_d</th>\n",
       "      <th>dt_50_ref</th>\n",
       "      <th>k_oc</th>\n",
       "      <th>f_oc</th>\n",
       "      <th>KGE-CONC-det</th>\n",
       "      <th>KGE-CONC-tra</th>\n",
       "      <th>KGE-Q_out</th>\n",
       "      <th>KGE-CONC_out</th>\n",
       "      <th>KGE-LDS_out</th>\n",
       "      <th>KGE-d13C-det</th>\n",
       "      <th>KGE-d13C-tra</th>\n",
       "      <th>KGE-d13C_out</th>\n",
       "      <th>KGE-SM</th>\n",
       "      <th>KGE-d13C</th>\n",
       "      <th>Constraint</th>\n",
       "    </tr>\n",
       "  </thead>\n",
       "  <tbody>\n",
       "    <tr>\n",
       "      <th>LHS_be1fix3/112/</th>\n",
       "      <td>fix</td>\n",
       "      <td>68.783476</td>\n",
       "      <td>16.827296</td>\n",
       "      <td>5182.562463</td>\n",
       "      <td>0.013272</td>\n",
       "      <td>0.600410</td>\n",
       "      <td>0.551554</td>\n",
       "      <td>0.159962</td>\n",
       "      <td>0.023144</td>\n",
       "      <td>-1.201160</td>\n",
       "      <td>-0.182997</td>\n",
       "      <td>0.534124</td>\n",
       "      <td>-1.930497</td>\n",
       "      <td>0.311777</td>\n",
       "      <td>-1.056747</td>\n",
       "      <td>KGE-d13C &lt; 0.6</td>\n",
       "    </tr>\n",
       "    <tr>\n",
       "      <th>LHS_be1fix3/128/</th>\n",
       "      <td>fix</td>\n",
       "      <td>53.882385</td>\n",
       "      <td>14.321159</td>\n",
       "      <td>5052.896261</td>\n",
       "      <td>0.010664</td>\n",
       "      <td>0.660733</td>\n",
       "      <td>0.640758</td>\n",
       "      <td>0.553092</td>\n",
       "      <td>0.198164</td>\n",
       "      <td>-0.817553</td>\n",
       "      <td>-2.788744</td>\n",
       "      <td>-1.057900</td>\n",
       "      <td>-1.299290</td>\n",
       "      <td>0.429448</td>\n",
       "      <td>-2.044017</td>\n",
       "      <td>KGE-d13C &lt; 0.6</td>\n",
       "    </tr>\n",
       "    <tr>\n",
       "      <th>LHS_be1fix3/195/</th>\n",
       "      <td>fix</td>\n",
       "      <td>176.576889</td>\n",
       "      <td>15.819540</td>\n",
       "      <td>13233.590577</td>\n",
       "      <td>0.013343</td>\n",
       "      <td>0.622817</td>\n",
       "      <td>0.585501</td>\n",
       "      <td>0.563031</td>\n",
       "      <td>0.043148</td>\n",
       "      <td>-0.032746</td>\n",
       "      <td>-2.343976</td>\n",
       "      <td>-0.867323</td>\n",
       "      <td>-0.461787</td>\n",
       "      <td>0.332982</td>\n",
       "      <td>-1.402881</td>\n",
       "      <td>KGE-d13C &lt; 0.6</td>\n",
       "    </tr>\n",
       "    <tr>\n",
       "      <th>LHS_be1fix3/26/</th>\n",
       "      <td>fix</td>\n",
       "      <td>24.736747</td>\n",
       "      <td>14.129402</td>\n",
       "      <td>914.582932</td>\n",
       "      <td>0.027047</td>\n",
       "      <td>0.664554</td>\n",
       "      <td>0.646923</td>\n",
       "      <td>0.571050</td>\n",
       "      <td>0.255708</td>\n",
       "      <td>-2.013553</td>\n",
       "      <td>0.543724</td>\n",
       "      <td>0.357000</td>\n",
       "      <td>-0.020789</td>\n",
       "      <td>0.460131</td>\n",
       "      <td>0.261467</td>\n",
       "      <td>KGE-d13C &lt; 0.6</td>\n",
       "    </tr>\n",
       "    <tr>\n",
       "      <th>LHS_be1fix3/30/</th>\n",
       "      <td>fix</td>\n",
       "      <td>83.149785</td>\n",
       "      <td>15.355699</td>\n",
       "      <td>1760.198364</td>\n",
       "      <td>0.047239</td>\n",
       "      <td>0.635051</td>\n",
       "      <td>0.603966</td>\n",
       "      <td>0.273837</td>\n",
       "      <td>0.251784</td>\n",
       "      <td>-3.079650</td>\n",
       "      <td>-1.949015</td>\n",
       "      <td>-0.582022</td>\n",
       "      <td>-0.332998</td>\n",
       "      <td>0.443418</td>\n",
       "      <td>-1.141006</td>\n",
       "      <td>KGE-d13C &lt; 0.6</td>\n",
       "    </tr>\n",
       "  </tbody>\n",
       "</table>\n",
       "</div>"
      ],
      "text/plain": [
       "                 Model         K_d  dt_50_ref          k_oc      f_oc  \\\n",
       "LHS_be1fix3/112/   fix   68.783476  16.827296   5182.562463  0.013272   \n",
       "LHS_be1fix3/128/   fix   53.882385  14.321159   5052.896261  0.010664   \n",
       "LHS_be1fix3/195/   fix  176.576889  15.819540  13233.590577  0.013343   \n",
       "LHS_be1fix3/26/    fix   24.736747  14.129402    914.582932  0.027047   \n",
       "LHS_be1fix3/30/    fix   83.149785  15.355699   1760.198364  0.047239   \n",
       "\n",
       "                  KGE-CONC-det  KGE-CONC-tra  KGE-Q_out  KGE-CONC_out  \\\n",
       "LHS_be1fix3/112/      0.600410      0.551554   0.159962      0.023144   \n",
       "LHS_be1fix3/128/      0.660733      0.640758   0.553092      0.198164   \n",
       "LHS_be1fix3/195/      0.622817      0.585501   0.563031      0.043148   \n",
       "LHS_be1fix3/26/       0.664554      0.646923   0.571050      0.255708   \n",
       "LHS_be1fix3/30/       0.635051      0.603966   0.273837      0.251784   \n",
       "\n",
       "                  KGE-LDS_out  KGE-d13C-det  KGE-d13C-tra  KGE-d13C_out  \\\n",
       "LHS_be1fix3/112/    -1.201160     -0.182997      0.534124     -1.930497   \n",
       "LHS_be1fix3/128/    -0.817553     -2.788744     -1.057900     -1.299290   \n",
       "LHS_be1fix3/195/    -0.032746     -2.343976     -0.867323     -0.461787   \n",
       "LHS_be1fix3/26/     -2.013553      0.543724      0.357000     -0.020789   \n",
       "LHS_be1fix3/30/     -3.079650     -1.949015     -0.582022     -0.332998   \n",
       "\n",
       "                    KGE-SM  KGE-d13C      Constraint  \n",
       "LHS_be1fix3/112/  0.311777 -1.056747  KGE-d13C < 0.6  \n",
       "LHS_be1fix3/128/  0.429448 -2.044017  KGE-d13C < 0.6  \n",
       "LHS_be1fix3/195/  0.332982 -1.402881  KGE-d13C < 0.6  \n",
       "LHS_be1fix3/26/   0.460131  0.261467  KGE-d13C < 0.6  \n",
       "LHS_be1fix3/30/   0.443418 -1.141006  KGE-d13C < 0.6  "
      ]
     },
     "execution_count": 17,
     "metadata": {},
     "output_type": "execute_result"
    }
   ],
   "source": [
    "ff.head()"
   ]
  },
  {
   "cell_type": "code",
   "execution_count": 18,
   "metadata": {},
   "outputs": [
    {
     "data": {
      "text/plain": [
       "<matplotlib.colorbar.Colorbar at 0x1a1f137410>"
      ]
     },
     "execution_count": 18,
     "metadata": {},
     "output_type": "execute_result"
    },
    {
     "data": {
      "image/png": "[encoded data removed]",
      "text/plain": [
       "<Figure size 432x216 with 3 Axes>"
      ]
     },
     "metadata": {},
     "output_type": "display_data"
    }
   ],
   "source": [
    "g = sns.FacetGrid(ff, col='Model', palette='viridis')\n",
    "g = g.map(facet_scatter, 'KGE-CONC_out', 'KGE-CONC-det', \"KGE-SM\",\n",
    "          s=100, alpha=0.5, vmin=vmin, vmax=vmax, cmap=cmap) #.add_legend()\n",
    "\n",
    "g.axes[0,0].set_ylim(ymin, ymax)\n",
    "g.axes[0,1].set_ylim(ymin, ymax)\n",
    "g.axes[0,0].set_xlim(xmin, xmax) # left plot\n",
    "g.axes[0,1].set_xlim(xmin, xmax) # right plot\n",
    "\n",
    "# Make space for the colorbar\n",
    "g.fig.subplots_adjust(right=.92)\n",
    "\n",
    "# Define a new Axes where the colorbar will go\n",
    "cax = g.fig.add_axes([.94, .25, .02, .6])\n",
    "\n",
    "# Get a mappable object with the same colormap as the data\n",
    "points = plt.scatter([], [], c=[], vmin=vmin, vmax=vmax, cmap=cmap)\n",
    "\n",
    "ax0 = g.axes[0, 0]\n",
    "ax1 = g.axes[0, 1]\n",
    "\n",
    "\n",
    "\n",
    "# ax0.annotate('Kd vs DT50,\\nequifinality',\n",
    "#             xy=(28, 170), xycoords='data',\n",
    "#             xytext=(-70, 40), textcoords='offset points',\n",
    "#             arrowprops=dict(arrowstyle=\"->\", color='grey',\n",
    "#                             connectionstyle=\"arc3,rad=.6\"))\n",
    "\n",
    "# ax1.annotate('No equifinality \\nat low DT50', \n",
    "#             xy=(15, 70), xycoords='data',\n",
    "#             xytext=(-20, 20), textcoords='offset points',\n",
    "#             arrowprops=dict(arrowstyle=\"->\", color='grey'))\n",
    "\n",
    "# Draw the colorbar\n",
    "g.fig.colorbar(points, cax=cax)\n",
    "# g.savefig(\"DT50vsKd_Fig1.pdf\")\n",
    "\n",
    "# https://matplotlib.org/examples/pylab_examples/annotation_demo2.html"
   ]
  },
  {
   "cell_type": "code",
   "execution_count": null,
   "metadata": {},
   "outputs": [],
   "source": []
  },
  {
   "cell_type": "code",
   "execution_count": null,
   "metadata": {},
   "outputs": [],
   "source": []
  },
  {
   "cell_type": "code",
   "execution_count": null,
   "metadata": {},
   "outputs": [],
   "source": []
  },
  {
   "cell_type": "code",
   "execution_count": null,
   "metadata": {},
   "outputs": [],
   "source": []
  },
  {
   "cell_type": "code",
   "execution_count": null,
   "metadata": {},
   "outputs": [],
   "source": []
  },
  {
   "cell_type": "code",
   "execution_count": null,
   "metadata": {},
   "outputs": [],
   "source": []
  },
  {
   "cell_type": "markdown",
   "metadata": {},
   "source": [
    "## Using Joint Plot"
   ]
  },
  {
   "cell_type": "code",
   "execution_count": 10,
   "metadata": {},
   "outputs": [
    {
     "data": {
      "text/html": [
       "<div>\n",
       "<style scoped>\n",
       "    .dataframe tbody tr th:only-of-type {\n",
       "        vertical-align: middle;\n",
       "    }\n",
       "\n",
       "    .dataframe tbody tr th {\n",
       "        vertical-align: top;\n",
       "    }\n",
       "\n",
       "    .dataframe thead th {\n",
       "        text-align: right;\n",
       "    }\n",
       "</style>\n",
       "<table border=\"1\" class=\"dataframe\">\n",
       "  <thead>\n",
       "    <tr style=\"text-align: right;\">\n",
       "      <th></th>\n",
       "      <th>Model</th>\n",
       "      <th>K_d</th>\n",
       "      <th>dt_50_ref</th>\n",
       "      <th>k_oc</th>\n",
       "      <th>f_oc</th>\n",
       "      <th>KGE-CONC-tra</th>\n",
       "      <th>KGE-Q_out</th>\n",
       "      <th>KGE-CONC_out</th>\n",
       "      <th>KGE-LDS_out</th>\n",
       "      <th>KGE-d13C-tra</th>\n",
       "      <th>KGE-d13C_out</th>\n",
       "      <th>KGE-SM</th>\n",
       "      <th>KGE-d13C</th>\n",
       "      <th>Constraint</th>\n",
       "    </tr>\n",
       "  </thead>\n",
       "  <tbody>\n",
       "    <tr>\n",
       "      <th>LHS_be1fix3/112/</th>\n",
       "      <td>fix</td>\n",
       "      <td>68.783476</td>\n",
       "      <td>16.827296</td>\n",
       "      <td>5182.562463</td>\n",
       "      <td>0.013272</td>\n",
       "      <td>0.551554</td>\n",
       "      <td>0.159962</td>\n",
       "      <td>0.023144</td>\n",
       "      <td>-1.201160</td>\n",
       "      <td>0.534124</td>\n",
       "      <td>-1.930497</td>\n",
       "      <td>0.287349</td>\n",
       "      <td>-0.698187</td>\n",
       "      <td>KGE-d13C &lt; 0.6</td>\n",
       "    </tr>\n",
       "    <tr>\n",
       "      <th>LHS_be1fix3/128/</th>\n",
       "      <td>fix</td>\n",
       "      <td>53.882385</td>\n",
       "      <td>14.321159</td>\n",
       "      <td>5052.896261</td>\n",
       "      <td>0.010664</td>\n",
       "      <td>0.640758</td>\n",
       "      <td>0.553092</td>\n",
       "      <td>0.198164</td>\n",
       "      <td>-0.817553</td>\n",
       "      <td>-1.057900</td>\n",
       "      <td>-1.299290</td>\n",
       "      <td>0.419461</td>\n",
       "      <td>-1.178595</td>\n",
       "      <td>KGE-d13C &lt; 0.6</td>\n",
       "    </tr>\n",
       "  </tbody>\n",
       "</table>\n",
       "</div>"
      ],
      "text/plain": [
       "                 Model        K_d  dt_50_ref         k_oc      f_oc  \\\n",
       "LHS_be1fix3/112/   fix  68.783476  16.827296  5182.562463  0.013272   \n",
       "LHS_be1fix3/128/   fix  53.882385  14.321159  5052.896261  0.010664   \n",
       "\n",
       "                  KGE-CONC-tra  KGE-Q_out  KGE-CONC_out  KGE-LDS_out  \\\n",
       "LHS_be1fix3/112/      0.551554   0.159962      0.023144    -1.201160   \n",
       "LHS_be1fix3/128/      0.640758   0.553092      0.198164    -0.817553   \n",
       "\n",
       "                  KGE-d13C-tra  KGE-d13C_out    KGE-SM  KGE-d13C  \\\n",
       "LHS_be1fix3/112/      0.534124     -1.930497  0.287349 -0.698187   \n",
       "LHS_be1fix3/128/     -1.057900     -1.299290  0.419461 -1.178595   \n",
       "\n",
       "                      Constraint  \n",
       "LHS_be1fix3/112/  KGE-d13C < 0.6  \n",
       "LHS_be1fix3/128/  KGE-d13C < 0.6  "
      ]
     },
     "execution_count": 10,
     "metadata": {},
     "output_type": "execute_result"
    }
   ],
   "source": [
    "ff.head(2)"
   ]
  },
  {
   "cell_type": "code",
   "execution_count": 20,
   "metadata": {},
   "outputs": [],
   "source": [
    "xmin, xmax = ff['KGE-CONC_out'].min() * .90, ff['KGE-CONC_out'].max() * 1.05\n",
    "ymin, ymax = ff['KGE-CONC-tra'].min() * 0.90, ff['KGE-CONC-tra'].max() * 1.05"
   ]
  },
  {
   "cell_type": "code",
   "execution_count": 21,
   "metadata": {},
   "outputs": [
    {
     "data": {
      "image/png": "[encoded data removed]",
      "text/plain": [
       "<Figure size 432x432 with 3 Axes>"
      ]
     },
     "metadata": {},
     "output_type": "display_data"
    },
    {
     "data": {
      "image/png": "[encoded data removed]",
      "text/plain": [
       "<Figure size 432x432 with 3 Axes>"
      ]
     },
     "metadata": {},
     "output_type": "display_data"
    }
   ],
   "source": [
    "g = sns.JointGrid(x=\"KGE-CONC_out\", y=\"KGE-CONC-tra\", data=ff_c.loc[ff_c['Model']==\"fix\"], xlim=(xmin, xmax), ylim=(ymin,ymax))\n",
    "g = g.plot(plt.scatter, sns.distplot)\n",
    "\n",
    "g1 = sns.JointGrid(x=\"KGE-CONC_out\", y=\"KGE-CONC-tra\", data=ff_c.loc[ff_c['Model']==\"var\"], xlim=(xmin, xmax), ylim=(ymin,ymax))\n",
    "g1= g1.plot(plt.scatter, sns.distplot)"
   ]
  },
  {
   "cell_type": "code",
   "execution_count": null,
   "metadata": {},
   "outputs": [],
   "source": [
    "f = plt.figure()\n",
    "for J in [g, g1]:\n",
    "    for A in J.fig.axes:\n",
    "        f._axstack.add(f._make_key(A), A)\n",
    "        \n",
    "# f.axes[0].set_position([0.1, 0.1, 0.38, 0.4]) # Left scatter\n",
    "# f.axes[1].set_position([0.1, 0.45, 0.4, 0.05]) # Left-top hist\n",
    "# f.axes[2].set_position([0.45, 0.1, 0.05, 0.4]) # Left-bott hist, (x-start, y-start, with-x, with-y)\n",
    "# f.axes[3].set_position([0.63, 0.1, 0.38, 0.4]) # Right scatter\n",
    "# f.axes[4].set_position([0.63, 0.45, 0.4, 0.05]) # Top right hist\n",
    "# f.axes[5].set_position([0.98, 0.1, 0.05, 0.4]) # Right bott hist\n",
    "# g.fig.axes\n",
    "\n",
    "# test\n",
    "f.axes[0].set_position([0.1, 0.1, 1.48, 1.48]) # Left scatter\n",
    "\n",
    "f.axes[0].annotate('Kd vs DT50,\\nequifinality',\n",
    "            xy=(28, 170), xycoords='data',\n",
    "            xytext=(-70, 40), textcoords='offset points',\n",
    "            arrowprops=dict(arrowstyle=\"->\", color='grey',\n",
    "                            connectionstyle=\"arc3,rad=.6\"))\n",
    "\n",
    "f.axes[1].set_position([0.1, 0.45, 0.4, 0.05]) # Left-top hist\n",
    "f.axes[2].set_position([0.45, 0.1, 0.05, 0.4]) # Left-bott hist, (x-start, y-start, with-x, with-y)\n",
    "f.axes[3].set_position([0.63, 0.1, 0.38, 0.4]) # Right scatter\n",
    "f.axes[4].set_position([0.63, 0.45, 0.4, 0.05]) # Top right hist\n",
    "f.axes[5].set_position([0.98, 0.1, 0.05, 0.4]) # Right bott hist\n",
    "# f.savefig(\"JointGrid.pdf\")"
   ]
  },
  {
   "cell_type": "code",
   "execution_count": null,
   "metadata": {},
   "outputs": [],
   "source": []
  }
 ],
 "metadata": {
  "kernelspec": {
   "display_name": "bunny",
   "language": "python",
   "name": "bunny"
  },
  "language_info": {
   "codemirror_mode": {
    "name": "ipython",
    "version": 2
   },
   "file_extension": ".py",
   "mimetype": "text/x-python",
   "name": "python",
   "nbconvert_exporter": "python",
   "pygments_lexer": "ipython2",
   "version": "2.7.14"
  }
 },
 "nbformat": 4,
 "nbformat_minor": 2
}
