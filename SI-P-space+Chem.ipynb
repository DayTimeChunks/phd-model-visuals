{
 "cells": [
  {
   "cell_type": "code",
   "execution_count": 1,
   "metadata": {},
   "outputs": [],
   "source": [
    "path = '../phd-model-process/'\n",
    "\n",
    "import pandas as pd\n",
    "pd.options.mode.chained_assignment = None  # default='warn'\n",
    "import numpy as np\n",
    "import scipy as sp\n",
    "import scipy.stats as st\n",
    "\n",
    "from helpers_pd import *\n",
    "\n",
    "# Plotting\n",
    "import seaborn as sns\n",
    "sns.set()\n",
    "# import seaborn as sns; sns.set(style=\"ticks\", color_codes=True)\n",
    "# sns.set(style=\"darkgrid\")\n",
    "import matplotlib.pyplot as plt"
   ]
  },
  {
   "cell_type": "markdown",
   "metadata": {},
   "source": [
    "## Need to separate low and fast flow KGE's!!"
   ]
  },
  {
   "cell_type": "code",
   "execution_count": 2,
   "metadata": {},
   "outputs": [
    {
     "data": {
      "text/plain": [
       "4825"
      ]
     },
     "execution_count": 2,
     "metadata": {},
     "output_type": "execute_result"
    }
   ],
   "source": [
    "gen1x = \"Gen10\"\n",
    "df1 = get_data(gen=gen1x)\n",
    "df1[\"Gen\"] = gen1x\n",
    "df = pd.concat([df1])\n",
    "len(df)"
   ]
  },
  {
   "cell_type": "code",
   "execution_count": 3,
   "metadata": {},
   "outputs": [],
   "source": [
    "# Index names\n",
    "df['Name'] = df['Gen'] + \"/\" + df.index\n",
    "df = df.set_index('Name')"
   ]
  },
  {
   "cell_type": "code",
   "execution_count": 4,
   "metadata": {},
   "outputs": [],
   "source": [
    "df['k_d'] = df.loc[:, 'k_oc'] * df.loc[:,'f_oc']\n",
    "df['epsilon_iso'] *= -1\n",
    "df['dt_50_aged'] = np.log(2)/df['dt_50_aged'] # k_age\n",
    "df['dt_50_ab'] = np.log(2)/df['dt_50_ab']  # k_irs"
   ]
  },
  {
   "cell_type": "code",
   "execution_count": 7,
   "metadata": {},
   "outputs": [],
   "source": [
    "dfs = df[['Model', 'Gen',\n",
    "          'z3_factor',\n",
    "          'cZ0Z1',\n",
    "          'cZ',\n",
    "          'c_adr',\n",
    "          'k_g',\n",
    "          'gamma01',\n",
    "          'gammaZ',\n",
    "          'f_transp',\n",
    "          'f_evap',\n",
    "          'k_d',\n",
    "          'f_oc',\n",
    "          'k_oc',\n",
    "          'beta_runoff',\n",
    "          'dt_50_aged',\n",
    "          'dt_50_ab',\n",
    "          'dt_50_ref',\n",
    "          'epsilon_iso',\n",
    "          'beta_moisture',\n",
    "          'KGE-CONC-tra', 'KGE-d13C-tra',\n",
    "          'KGE-CONC-blk', 'KGE-d13C-blk',\n",
    "          'KGE-CONC-det', 'KGE-d13C-det',\n",
    "          'KGE-Q_out', \n",
    "          'KGE-CONC_out', 'KGE-d13C_out',\n",
    "#           'MAE-CONC_out', 'MAE-d13C_out',\n",
    "#           'NSE-CONC_out', 'NSE-Q_out',\n",
    "#           'BIAS-CONC_out', 'BIAS-d13C_out',\n",
    "#           'BIAS-LDS_out',\n",
    "#           'BIAS-Q_out'\n",
    "          ]]\n",
    "# dfs['KGE-blk'] = (dfs.loc[:, 'KGE-CONC-blk'] + dfs.loc[:,'KGE-d13C-blk'])/2."
   ]
  },
  {
   "cell_type": "code",
   "execution_count": 8,
   "metadata": {},
   "outputs": [],
   "source": [
    "gen1x = dfs.loc[(dfs['Gen'] == 'Gen10')]"
   ]
  },
  {
   "cell_type": "markdown",
   "metadata": {},
   "source": [
    "## Hydrology"
   ]
  },
  {
   "cell_type": "code",
   "execution_count": 32,
   "metadata": {},
   "outputs": [
    {
     "data": {
      "text/plain": [
       "49"
      ]
     },
     "execution_count": 32,
     "metadata": {},
     "output_type": "execute_result"
    }
   ],
   "source": [
    "blk_b = gen1x.loc[(gen1x['KGE-CONC-blk'] > .0) & (gen1x['KGE-d13C-blk'] >  0.0) & \n",
    "                  (gen1x['KGE-Q_out'] >  0.50) &\n",
    "                  (gen1x['KGE-CONC_out'] >  0.1) &\n",
    "                  (gen1x['KGE-d13C_out'] >  0.1)\n",
    "                 ]\n",
    "len(blk_b)"
   ]
  },
  {
   "cell_type": "code",
   "execution_count": 33,
   "metadata": {},
   "outputs": [],
   "source": [
    "hy_blk = pd.melt(blk_b, \n",
    "                 id_vars=['Gen',  'Model', \n",
    "                          'KGE-CONC-tra', 'KGE-d13C-tra',\n",
    "                          'KGE-CONC-blk', 'KGE-d13C-blk',\n",
    "                          'KGE-CONC-det', 'KGE-d13C-det',\n",
    "                          'KGE-Q_out'\n",
    "                         ],\n",
    "             value_vars=['z3_factor',\n",
    "                         'cZ0Z1',\n",
    "                         'cZ',\n",
    "                         'c_adr',\n",
    "                         'k_g',\n",
    "                         'gamma01',\n",
    "                         'gammaZ',\n",
    "                         'f_transp',\n",
    "                         'f_evap'\n",
    "                         ])"
   ]
  },
  {
   "cell_type": "code",
   "execution_count": 34,
   "metadata": {},
   "outputs": [
    {
     "data": {
      "text/html": [
       "<div>\n",
       "<style scoped>\n",
       "    .dataframe tbody tr th:only-of-type {\n",
       "        vertical-align: middle;\n",
       "    }\n",
       "\n",
       "    .dataframe tbody tr th {\n",
       "        vertical-align: top;\n",
       "    }\n",
       "\n",
       "    .dataframe thead th {\n",
       "        text-align: right;\n",
       "    }\n",
       "</style>\n",
       "<table border=\"1\" class=\"dataframe\">\n",
       "  <thead>\n",
       "    <tr style=\"text-align: right;\">\n",
       "      <th></th>\n",
       "      <th>Gen</th>\n",
       "      <th>Model</th>\n",
       "      <th>KGE-CONC-tra</th>\n",
       "      <th>KGE-d13C-tra</th>\n",
       "      <th>KGE-CONC-blk</th>\n",
       "      <th>KGE-d13C-blk</th>\n",
       "      <th>KGE-CONC-det</th>\n",
       "      <th>KGE-d13C-det</th>\n",
       "      <th>KGE-Q_out</th>\n",
       "      <th>variable</th>\n",
       "      <th>value</th>\n",
       "    </tr>\n",
       "  </thead>\n",
       "  <tbody>\n",
       "    <tr>\n",
       "      <th>0</th>\n",
       "      <td>Gen10</td>\n",
       "      <td>fix</td>\n",
       "      <td>0.142988</td>\n",
       "      <td>0.727835</td>\n",
       "      <td>0.155203</td>\n",
       "      <td>0.708946</td>\n",
       "      <td>0.381189</td>\n",
       "      <td>0.824261</td>\n",
       "      <td>0.537158</td>\n",
       "      <td>z3_factor</td>\n",
       "      <td>0.924822</td>\n",
       "    </tr>\n",
       "    <tr>\n",
       "      <th>1</th>\n",
       "      <td>Gen10</td>\n",
       "      <td>fix</td>\n",
       "      <td>0.639382</td>\n",
       "      <td>0.486592</td>\n",
       "      <td>0.042721</td>\n",
       "      <td>0.306700</td>\n",
       "      <td>0.751417</td>\n",
       "      <td>0.612106</td>\n",
       "      <td>0.691033</td>\n",
       "      <td>z3_factor</td>\n",
       "      <td>0.951894</td>\n",
       "    </tr>\n",
       "    <tr>\n",
       "      <th>2</th>\n",
       "      <td>Gen10</td>\n",
       "      <td>fix</td>\n",
       "      <td>0.687550</td>\n",
       "      <td>0.785021</td>\n",
       "      <td>0.655199</td>\n",
       "      <td>0.908973</td>\n",
       "      <td>0.788112</td>\n",
       "      <td>0.461953</td>\n",
       "      <td>0.745415</td>\n",
       "      <td>z3_factor</td>\n",
       "      <td>0.975713</td>\n",
       "    </tr>\n",
       "    <tr>\n",
       "      <th>3</th>\n",
       "      <td>Gen10</td>\n",
       "      <td>var</td>\n",
       "      <td>0.031989</td>\n",
       "      <td>0.866341</td>\n",
       "      <td>0.068729</td>\n",
       "      <td>0.951704</td>\n",
       "      <td>0.324130</td>\n",
       "      <td>0.703099</td>\n",
       "      <td>0.633722</td>\n",
       "      <td>z3_factor</td>\n",
       "      <td>0.915406</td>\n",
       "    </tr>\n",
       "    <tr>\n",
       "      <th>4</th>\n",
       "      <td>Gen10</td>\n",
       "      <td>var</td>\n",
       "      <td>0.029806</td>\n",
       "      <td>0.859192</td>\n",
       "      <td>0.064526</td>\n",
       "      <td>0.957450</td>\n",
       "      <td>0.317426</td>\n",
       "      <td>0.677775</td>\n",
       "      <td>0.738245</td>\n",
       "      <td>z3_factor</td>\n",
       "      <td>0.925989</td>\n",
       "    </tr>\n",
       "  </tbody>\n",
       "</table>\n",
       "</div>"
      ],
      "text/plain": [
       "     Gen Model  KGE-CONC-tra  KGE-d13C-tra  KGE-CONC-blk  KGE-d13C-blk  \\\n",
       "0  Gen10   fix      0.142988      0.727835      0.155203      0.708946   \n",
       "1  Gen10   fix      0.639382      0.486592      0.042721      0.306700   \n",
       "2  Gen10   fix      0.687550      0.785021      0.655199      0.908973   \n",
       "3  Gen10   var      0.031989      0.866341      0.068729      0.951704   \n",
       "4  Gen10   var      0.029806      0.859192      0.064526      0.957450   \n",
       "\n",
       "   KGE-CONC-det  KGE-d13C-det  KGE-Q_out   variable     value  \n",
       "0      0.381189      0.824261   0.537158  z3_factor  0.924822  \n",
       "1      0.751417      0.612106   0.691033  z3_factor  0.951894  \n",
       "2      0.788112      0.461953   0.745415  z3_factor  0.975713  \n",
       "3      0.324130      0.703099   0.633722  z3_factor  0.915406  \n",
       "4      0.317426      0.677775   0.738245  z3_factor  0.925989  "
      ]
     },
     "execution_count": 34,
     "metadata": {},
     "output_type": "execute_result"
    }
   ],
   "source": [
    "hy_blk.head()"
   ]
  },
  {
   "cell_type": "code",
   "execution_count": 35,
   "metadata": {},
   "outputs": [],
   "source": [
    "params = [\n",
    "    'z3_factor',\n",
    "    'cZ0Z1',\n",
    "    'cZ',\n",
    "    'c_adr',\n",
    "    'k_g',\n",
    "    'gamma01',\n",
    "    'gammaZ',\n",
    "    'f_transp',\n",
    "    'f_evap']\n",
    "\n",
    "means = []\n",
    "stds = [] # Will be CIs!!\n",
    "for e in params:\n",
    "    means.append(hy_blk.loc[hy_blk['variable'] == e].mean()['value'])\n",
    "    stds.append(hy_blk.loc[hy_blk['variable'] == e].std()['value']*2)\n",
    "    "
   ]
  },
  {
   "cell_type": "code",
   "execution_count": 36,
   "metadata": {},
   "outputs": [],
   "source": [
    "bounds_v15 = [[0.85, 0.99],  # z3_factor\n",
    "              [0.01, 1.], # 'cZ0Z1',\n",
    "              [0.2, 0.6], # 'cZ'\n",
    "              [0.01, 1.],  # cadr\n",
    "              [1500.0, 3650.0],  # k_g\n",
    "              [0.01, 1.],  # gamma01,\n",
    "              [0.01, 1.],  # gammaZ\n",
    "              [0.1, 1.],  # f_transp\n",
    "              [0.1, 0.9]  # f_evap\n",
    "             ]"
   ]
  },
  {
   "cell_type": "code",
   "execution_count": 37,
   "metadata": {},
   "outputs": [
    {
     "data": {
      "text/plain": [
       "[(0.85, 0.99),\n",
       " (0.049, 1.0),\n",
       " (0.21, 0.6),\n",
       " (0.01, 1.0),\n",
       " (1500.0, 3650.0),\n",
       " (0.017, 0.806),\n",
       " (0.01, 1.0),\n",
       " (0.221, 1.0),\n",
       " (0.1, 0.52)]"
      ]
     },
     "execution_count": 37,
     "metadata": {},
     "output_type": "execute_result"
    }
   ],
   "source": [
    "brackets = []\n",
    "for i in range(len(means)):\n",
    "    brackets.append((max(round(means[i]-stds[i],3), bounds_v15[i][0]), \n",
    "                     min(round(means[i]+stds[i],3), bounds_v15[i][1])))\n",
    "brackets"
   ]
  },
  {
   "cell_type": "code",
   "execution_count": 38,
   "metadata": {},
   "outputs": [],
   "source": [
    "# Rename variables\n",
    "hy_blk.loc[hy_blk['variable'] == 'z3_factor', 'Parameter'] = '$z_f$'\n",
    "hy_blk.loc[hy_blk['variable'] == 'cZ0Z1', 'Parameter'] = '$c_{z0z1}$'\n",
    "hy_blk.loc[hy_blk['variable'] == 'cZ', 'Parameter'] = '$c_{z2z3z4}$'\n",
    "hy_blk.loc[hy_blk['variable'] == 'c_adr', 'Parameter'] = '$c_{adr}$'\n",
    "hy_blk.loc[hy_blk['variable'] == 'k_g', 'Parameter'] = '$K_{G}$'\n",
    "hy_blk.loc[hy_blk['variable'] == 'gamma01', 'Parameter'] = '$\\gamma_{z0z1}$'\n",
    "hy_blk.loc[hy_blk['variable'] == 'gammaZ', 'Parameter'] = '$\\gamma_{z2z3}$'\n",
    "hy_blk.loc[hy_blk['variable'] == 'f_transp', 'Parameter'] = '$f_{transp}$'\n",
    "hy_blk.loc[hy_blk['variable'] == 'f_evap', 'Parameter'] = '$f_{evap}$'"
   ]
  },
  {
   "cell_type": "code",
   "execution_count": 39,
   "metadata": {},
   "outputs": [
    {
     "data": {
      "image/png": "[encoded data removed]",
      "text/plain": [
       "<Figure size 656.8x648 with 9 Axes>"
      ]
     },
     "metadata": {},
     "output_type": "display_data"
    }
   ],
   "source": [
    "# g = sns.FacetGrid(hy_blk, col=\"variable\", hue=\"Model\", col_wrap=3, sharex=False)\n",
    "g = sns.FacetGrid(hy_blk, col=\"Parameter\", col_wrap=3, sharex=False)\n",
    "g = g.map(plt.hist, \"value\", alpha=.8).add_legend()\n",
    "\n",
    "counter = 0\n",
    "for ax in g.axes.flat:\n",
    "    x_min = ax.get_xlim()[0] + (ax.get_xlim()[1]-ax.get_xlim()[0])*0.15\n",
    "    ax.annotate('$\\mu \\pm CI$ = '+str(round(means[counter], 1)) + \n",
    "                 '$\\pm$' + str(round(stds[counter],1)), xy=(x_min, 15.), # 1.2 \n",
    "                     xycoords='data', color=\"black\")\n",
    "    counter += 1"
   ]
  },
  {
   "cell_type": "markdown",
   "metadata": {},
   "source": [
    "## Pesticides"
   ]
  },
  {
   "cell_type": "markdown",
   "metadata": {},
   "source": [
    "### Constant vs. Dynamic "
   ]
  },
  {
   "cell_type": "code",
   "execution_count": 15,
   "metadata": {},
   "outputs": [],
   "source": [
    "blk_b = gen1x.loc[(gen1x['KGE-CONC-blk'] > .5) & (gen1x['KGE-d13C-blk'] >  .85) & (gen1x['KGE-Q_out'] >  0.5)]\n",
    "ps_blk = pd.melt(blk_b, \n",
    "                 id_vars=['Gen',  'Model', \n",
    "                          'KGE-CONC-tra', 'KGE-d13C-tra',\n",
    "                          'KGE-CONC-blk', 'KGE-d13C-blk',\n",
    "                          'KGE-CONC-det', 'KGE-d13C-det',\n",
    "                          'KGE-Q_out'\n",
    "                         ],\n",
    "             value_vars=['f_oc',\n",
    "                         'k_oc',\n",
    "                         'k_d',\n",
    "                         'beta_runoff',\n",
    "                         'dt_50_aged',\n",
    "                         'dt_50_ab',\n",
    "                         'dt_50_ref',\n",
    "                         'epsilon_iso',\n",
    "                         'beta_moisture'\n",
    "                         ])"
   ]
  },
  {
   "cell_type": "code",
   "execution_count": 16,
   "metadata": {},
   "outputs": [
    {
     "data": {
      "text/plain": [
       "85"
      ]
     },
     "execution_count": 16,
     "metadata": {},
     "output_type": "execute_result"
    }
   ],
   "source": [
    "len(blk_b)"
   ]
  },
  {
   "cell_type": "code",
   "execution_count": 17,
   "metadata": {},
   "outputs": [],
   "source": [
    "params = [\n",
    "    'f_oc',\n",
    "    'k_oc',\n",
    "    'k_d',\n",
    "    'beta_runoff',\n",
    "    'dt_50_aged',\n",
    "    'dt_50_ab',\n",
    "    'dt_50_ref',\n",
    "    'epsilon_iso',\n",
    "    'beta_moisture']\n",
    "\n",
    "means_var = []\n",
    "stds_var = []\n",
    "\n",
    "means_fix = []\n",
    "stds_fix = []\n",
    "\n",
    "for e in params:\n",
    "    means_var.append(ps_blk.loc[(ps_blk['variable'] == e) & (ps_blk['Model']==\"var\") ].mean()['value'])\n",
    "    stds_var.append(ps_blk.loc[(ps_blk['variable'] == e) & (ps_blk['Model']==\"var\")].std()['value']*2)\n",
    "    means_fix.append(ps_blk.loc[(ps_blk['variable'] == e) & (ps_blk['Model']==\"fix\") ].mean()['value'])\n",
    "    stds_fix.append(ps_blk.loc[(ps_blk['variable'] == e) & (ps_blk['Model']==\"fix\")].std()['value']*2)"
   ]
  },
  {
   "cell_type": "code",
   "execution_count": 18,
   "metadata": {},
   "outputs": [],
   "source": [
    "# Rename variables\n",
    "ps_blk.loc[ps_blk['variable'] == 'f_oc', 'Parameter'] = '$f_{oc}$'\n",
    "ps_blk.loc[ps_blk['variable'] == 'k_oc', 'Parameter'] = '$K_{oc}$'\n",
    "ps_blk.loc[ps_blk['variable'] == 'k_d', 'Parameter'] = '$K_d$'\n",
    "ps_blk.loc[ps_blk['variable'] == 'beta_runoff', 'Parameter'] = '$\\\\beta_{runoff}$'\n",
    "ps_blk.loc[ps_blk['variable'] == 'dt_50_aged', 'Parameter'] = '$K_{age}$'\n",
    "ps_blk.loc[ps_blk['variable'] == 'dt_50_ab', 'Parameter'] = '$K_{irs}$'\n",
    "ps_blk.loc[ps_blk['variable'] == 'dt_50_ref', 'Parameter'] = '$DT_{50_{ref}}$'\n",
    "ps_blk.loc[ps_blk['variable'] == 'epsilon_iso', 'Parameter'] = '$\\epsilon$'\n",
    "ps_blk.loc[ps_blk['variable'] == 'beta_moisture', 'Parameter'] = '$\\\\beta_{\\\\theta}$'\n",
    "\n",
    "ps_blk.loc[ps_blk['Model'] == 'fix', 'Model'] = 'Constant'\n",
    "ps_blk.loc[ps_blk['Model'] == 'var', 'Model'] = 'Dynamic'"
   ]
  },
  {
   "cell_type": "code",
   "execution_count": 19,
   "metadata": {},
   "outputs": [
    {
     "data": {
      "text/html": [
       "<div>\n",
       "<style scoped>\n",
       "    .dataframe tbody tr th:only-of-type {\n",
       "        vertical-align: middle;\n",
       "    }\n",
       "\n",
       "    .dataframe tbody tr th {\n",
       "        vertical-align: top;\n",
       "    }\n",
       "\n",
       "    .dataframe thead th {\n",
       "        text-align: right;\n",
       "    }\n",
       "</style>\n",
       "<table border=\"1\" class=\"dataframe\">\n",
       "  <thead>\n",
       "    <tr style=\"text-align: right;\">\n",
       "      <th></th>\n",
       "      <th>Gen</th>\n",
       "      <th>Model</th>\n",
       "      <th>KGE-CONC-tra</th>\n",
       "      <th>KGE-d13C-tra</th>\n",
       "      <th>KGE-CONC-blk</th>\n",
       "      <th>KGE-d13C-blk</th>\n",
       "      <th>KGE-CONC-det</th>\n",
       "      <th>KGE-d13C-det</th>\n",
       "      <th>KGE-Q_out</th>\n",
       "      <th>variable</th>\n",
       "      <th>value</th>\n",
       "      <th>Parameter</th>\n",
       "    </tr>\n",
       "  </thead>\n",
       "  <tbody>\n",
       "    <tr>\n",
       "      <th>0</th>\n",
       "      <td>Gen10</td>\n",
       "      <td>Constant</td>\n",
       "      <td>0.805097</td>\n",
       "      <td>0.547586</td>\n",
       "      <td>0.776382</td>\n",
       "      <td>0.875427</td>\n",
       "      <td>0.889578</td>\n",
       "      <td>0.097293</td>\n",
       "      <td>0.532765</td>\n",
       "      <td>f_oc</td>\n",
       "      <td>0.040429</td>\n",
       "      <td>$f_{oc}$</td>\n",
       "    </tr>\n",
       "    <tr>\n",
       "      <th>1</th>\n",
       "      <td>Gen10</td>\n",
       "      <td>Constant</td>\n",
       "      <td>0.716620</td>\n",
       "      <td>0.816522</td>\n",
       "      <td>0.675393</td>\n",
       "      <td>0.886001</td>\n",
       "      <td>0.810622</td>\n",
       "      <td>0.511241</td>\n",
       "      <td>0.657744</td>\n",
       "      <td>f_oc</td>\n",
       "      <td>0.037930</td>\n",
       "      <td>$f_{oc}$</td>\n",
       "    </tr>\n",
       "    <tr>\n",
       "      <th>2</th>\n",
       "      <td>Gen10</td>\n",
       "      <td>Constant</td>\n",
       "      <td>0.791066</td>\n",
       "      <td>0.710802</td>\n",
       "      <td>0.733972</td>\n",
       "      <td>0.881031</td>\n",
       "      <td>0.871372</td>\n",
       "      <td>0.336325</td>\n",
       "      <td>0.528750</td>\n",
       "      <td>f_oc</td>\n",
       "      <td>0.017877</td>\n",
       "      <td>$f_{oc}$</td>\n",
       "    </tr>\n",
       "    <tr>\n",
       "      <th>3</th>\n",
       "      <td>Gen10</td>\n",
       "      <td>Constant</td>\n",
       "      <td>0.546700</td>\n",
       "      <td>0.781488</td>\n",
       "      <td>0.503429</td>\n",
       "      <td>0.939174</td>\n",
       "      <td>0.682567</td>\n",
       "      <td>0.472741</td>\n",
       "      <td>0.626810</td>\n",
       "      <td>f_oc</td>\n",
       "      <td>0.030953</td>\n",
       "      <td>$f_{oc}$</td>\n",
       "    </tr>\n",
       "    <tr>\n",
       "      <th>4</th>\n",
       "      <td>Gen10</td>\n",
       "      <td>Constant</td>\n",
       "      <td>0.687550</td>\n",
       "      <td>0.785021</td>\n",
       "      <td>0.655199</td>\n",
       "      <td>0.908973</td>\n",
       "      <td>0.788112</td>\n",
       "      <td>0.461953</td>\n",
       "      <td>0.745415</td>\n",
       "      <td>f_oc</td>\n",
       "      <td>0.031523</td>\n",
       "      <td>$f_{oc}$</td>\n",
       "    </tr>\n",
       "  </tbody>\n",
       "</table>\n",
       "</div>"
      ],
      "text/plain": [
       "     Gen     Model  KGE-CONC-tra  KGE-d13C-tra  KGE-CONC-blk  KGE-d13C-blk  \\\n",
       "0  Gen10  Constant      0.805097      0.547586      0.776382      0.875427   \n",
       "1  Gen10  Constant      0.716620      0.816522      0.675393      0.886001   \n",
       "2  Gen10  Constant      0.791066      0.710802      0.733972      0.881031   \n",
       "3  Gen10  Constant      0.546700      0.781488      0.503429      0.939174   \n",
       "4  Gen10  Constant      0.687550      0.785021      0.655199      0.908973   \n",
       "\n",
       "   KGE-CONC-det  KGE-d13C-det  KGE-Q_out variable     value Parameter  \n",
       "0      0.889578      0.097293   0.532765     f_oc  0.040429  $f_{oc}$  \n",
       "1      0.810622      0.511241   0.657744     f_oc  0.037930  $f_{oc}$  \n",
       "2      0.871372      0.336325   0.528750     f_oc  0.017877  $f_{oc}$  \n",
       "3      0.682567      0.472741   0.626810     f_oc  0.030953  $f_{oc}$  \n",
       "4      0.788112      0.461953   0.745415     f_oc  0.031523  $f_{oc}$  "
      ]
     },
     "execution_count": 19,
     "metadata": {},
     "output_type": "execute_result"
    }
   ],
   "source": [
    "ps_blk.head()"
   ]
  },
  {
   "cell_type": "code",
   "execution_count": 20,
   "metadata": {},
   "outputs": [
    {
     "data": {
      "image/png": "[encoded data removed]",
      "text/plain": [
       "<Figure size 731.725x648 with 9 Axes>"
      ]
     },
     "metadata": {},
     "output_type": "display_data"
    }
   ],
   "source": [
    "g = sns.FacetGrid(ps_blk, col=\"Parameter\", hue=\"Model\", col_wrap=3, sharex=False)\n",
    "g = g.map(plt.hist, \"value\", alpha=.8).add_legend()\n",
    "\n",
    "counter = 0\n",
    "round_digs = 2\n",
    "for ax in g.axes.flat:\n",
    "    ax.set_ylim(0,30.)\n",
    "    if counter == 4 or counter == 5:\n",
    "        round_digs = 3\n",
    "    else:\n",
    "        round_digs = 2\n",
    "    x_min = ax.get_xlim()[0] + (ax.get_xlim()[1]-ax.get_xlim()[0])*0.2\n",
    "    ax.annotate('$\\mu \\pm CI$ = '+str(round(means_fix[counter], round_digs)) + \n",
    "                 '$\\pm$' + str(round(stds_fix[counter],round_digs)), xy=(x_min, 25.), # 1.2 \n",
    "                     xycoords='data', color=\"C0\")\n",
    "    \n",
    "    ax.annotate('$\\mu \\pm CI$ = '+str(round(means_var[counter], round_digs)) + \n",
    "                 '$\\pm$' + str(round(stds_var[counter],round_digs)), xy=(x_min, 20.), # 1.2 \n",
    "                     xycoords='data', color=\"C1\")\n",
    "    counter += 1"
   ]
  },
  {
   "cell_type": "markdown",
   "metadata": {},
   "source": [
    "## Pesticides\n",
    "### WIC vs NIC"
   ]
  },
  {
   "cell_type": "code",
   "execution_count": 21,
   "metadata": {},
   "outputs": [],
   "source": [
    "gen1x = dfs.loc[(dfs['Gen'] == 'Gen10') & (dfs['Model']==\"var\")]\n",
    "blk_c = gen1x.loc[(gen1x['KGE-CONC-blk'] > .545) & (gen1x['KGE-d13C-blk'] >  -2) & (gen1x['KGE-Q_out'] >  0.545)]\n",
    "blk_c['Type'] = \"NIC\"\n",
    "blk_b = gen1x.loc[(gen1x['KGE-CONC-blk'] > .545) & (gen1x['KGE-d13C-blk'] >  .85) & (gen1x['KGE-Q_out'] >  0.545)]\n",
    "blk_b['Type'] = \"WIC\""
   ]
  },
  {
   "cell_type": "code",
   "execution_count": 22,
   "metadata": {},
   "outputs": [],
   "source": [
    "# Sample the NIC df\n",
    "from numpy import random\n",
    "\n",
    "nic = []\n",
    "for i in range(len(blk_b)):\n",
    "    row = random.randint(0,len(blk_b))\n",
    "    nic.append(blk_c[row:row+1])\n",
    "\n",
    "blk_rand = pd.concat(nic) "
   ]
  },
  {
   "cell_type": "code",
   "execution_count": 23,
   "metadata": {},
   "outputs": [],
   "source": [
    "blk_all = pd.concat([blk_rand, blk_b])\n",
    "ps_blk = pd.melt(blk_all, \n",
    "                 id_vars=['Gen',  'Model', \"Type\",\n",
    "                          'KGE-CONC-tra', 'KGE-d13C-tra',\n",
    "                          'KGE-CONC-blk', 'KGE-d13C-blk',\n",
    "                          'KGE-CONC-det', 'KGE-d13C-det',\n",
    "                          'KGE-Q_out'\n",
    "                         ],\n",
    "             value_vars=['f_oc',\n",
    "                         'k_oc',\n",
    "                         'k_d',\n",
    "                         'beta_runoff',\n",
    "                         'dt_50_aged',\n",
    "                         'dt_50_ab',\n",
    "                         'dt_50_ref',\n",
    "                         'epsilon_iso',\n",
    "                         'beta_moisture'\n",
    "                         ])"
   ]
  },
  {
   "cell_type": "code",
   "execution_count": 24,
   "metadata": {},
   "outputs": [
    {
     "name": "stdout",
     "output_type": "stream",
     "text": [
      "(23, 23)\n"
     ]
    }
   ],
   "source": [
    "print(len(blk_rand), len(blk_b))"
   ]
  },
  {
   "cell_type": "code",
   "execution_count": 25,
   "metadata": {},
   "outputs": [],
   "source": [
    "params = [\n",
    "    'f_oc',\n",
    "    'k_oc',\n",
    "    'k_d',\n",
    "    'beta_runoff',\n",
    "    'dt_50_aged', # converted to rate k_age = ln(2)/dt_50_aged\n",
    "    'dt_50_ab', # converted to rate k_irs = ln(2)/dt_50_ab\n",
    "    'dt_50_ref',\n",
    "    'epsilon_iso',\n",
    "    'beta_moisture']\n",
    "\n",
    "means_var = []\n",
    "stds_var = []\n",
    "\n",
    "means_fix = []\n",
    "stds_fix = []\n",
    "\n",
    "for e in params:\n",
    "    means_var.append(ps_blk.loc[(ps_blk['variable'] == e) & (ps_blk['Type']==\"WIC\") ].mean()['value'])\n",
    "    stds_var.append(ps_blk.loc[(ps_blk['variable'] == e) & (ps_blk['Type']==\"WIC\")].std()['value']*2)\n",
    "    means_fix.append(ps_blk.loc[(ps_blk['variable'] == e) & (ps_blk['Type']==\"NIC\") ].mean()['value'])\n",
    "    stds_fix.append(ps_blk.loc[(ps_blk['variable'] == e) & (ps_blk['Type']==\"NIC\")].std()['value']*2)"
   ]
  },
  {
   "cell_type": "code",
   "execution_count": 26,
   "metadata": {},
   "outputs": [],
   "source": [
    "bounds_v15 =[[0.01, 0.05],  # f_oc,\n",
    "              [0.3, 2000],  # k_oc, max Kd = 100\n",
    "             [0.003, 100], # boundaries Kd\n",
    "              [0.01, 0.5],  # beta_runoff\n",
    "              [round(np.log(2)/3000.0,4), round(np.log(2)/10.0, 4)],  # age_rate\n",
    "              [round(np.log(2)/350.0,4), round(np.log(2)/65.0,4)],  # dt_50_ab\n",
    "              [5.0, 65.0],  # dt_50_ref\n",
    "              [-0.3, -5.],  # epsilon (in absolute, convert to negative!!)\n",
    "              [0.01, 1.0]]  # beta_moisture"
   ]
  },
  {
   "cell_type": "code",
   "execution_count": 27,
   "metadata": {},
   "outputs": [
    {
     "name": "stdout",
     "output_type": "stream",
     "text": [
      "((0.0002, 0.0693), (0.002, 0.0107))\n"
     ]
    }
   ],
   "source": [
    "k_age = (round(np.log(2)/3000.0,4), round(np.log(2)/10.0, 4))\n",
    "k_irs = (round(np.log(2)/350.0,4), round(np.log(2)/65.0,4))\n",
    "print(k_age, k_irs)"
   ]
  },
  {
   "cell_type": "code",
   "execution_count": 28,
   "metadata": {},
   "outputs": [
    {
     "data": {
      "text/plain": [
       "[(0.01, 0.05),\n",
       " (0.3, 2000),\n",
       " (0.003, 76.71),\n",
       " (0.01, 0.378),\n",
       " (0.0002, 0.004),\n",
       " (0.002, 0.01),\n",
       " (9.279, 26.845),\n",
       " (-3.946, -1.469),\n",
       " (0.01, 1.0)]"
      ]
     },
     "execution_count": 28,
     "metadata": {},
     "output_type": "execute_result"
    }
   ],
   "source": [
    "brackets_var = []\n",
    "for i in range(len(means_var)):\n",
    "    if i == 7:\n",
    "        brackets_var.append((min(round(means_var[i]-stds_var[i],3), bounds_v15[i][0]), \n",
    "                     max(round(means_var[i]+stds_var[i],3), bounds_v15[i][1])))\n",
    "    else:\n",
    "        brackets_var.append((max(round(means_var[i]-stds_var[i],3), bounds_v15[i][0]), \n",
    "                         min(round(means_var[i]+stds_var[i],3), bounds_v15[i][1])))\n",
    "brackets_var"
   ]
  },
  {
   "cell_type": "code",
   "execution_count": 29,
   "metadata": {},
   "outputs": [],
   "source": [
    "# Rename variables\n",
    "ps_blk.loc[ps_blk['variable'] == 'f_oc', 'Parameter'] = '$f_{oc}$'\n",
    "ps_blk.loc[ps_blk['variable'] == 'k_oc', 'Parameter'] = '$K_{oc}$'\n",
    "ps_blk.loc[ps_blk['variable'] == 'k_d', 'Parameter'] = '$K_d$'\n",
    "ps_blk.loc[ps_blk['variable'] == 'beta_runoff', 'Parameter'] = '$\\\\beta_{runoff}$'\n",
    "ps_blk.loc[ps_blk['variable'] == 'dt_50_aged', 'Parameter'] = '$K_{age}$'\n",
    "ps_blk.loc[ps_blk['variable'] == 'dt_50_ab', 'Parameter'] = '$K_{irs}$'\n",
    "ps_blk.loc[ps_blk['variable'] == 'dt_50_ref', 'Parameter'] = '$DT_{50_{ref}}$'\n",
    "ps_blk.loc[ps_blk['variable'] == 'epsilon_iso', 'Parameter'] = '$\\epsilon$'\n",
    "ps_blk.loc[ps_blk['variable'] == 'beta_moisture', 'Parameter'] = '$\\\\beta_{\\\\theta}$'"
   ]
  },
  {
   "cell_type": "code",
   "execution_count": 30,
   "metadata": {},
   "outputs": [
    {
     "data": {
      "image/png": "[encoded data removed]",
      "text/plain": [
       "<Figure size 708.975x648 with 9 Axes>"
      ]
     },
     "metadata": {},
     "output_type": "display_data"
    }
   ],
   "source": [
    "g = sns.FacetGrid(ps_blk, col=\"Parameter\", hue=\"Type\", col_wrap=3, sharex=False)\n",
    "g = g.map(plt.hist, \"value\", alpha=.8).add_legend()\n",
    "\n",
    "counter = 0\n",
    "round_digs = 2\n",
    "y_marker = 9.\n",
    "for ax in g.axes.flat:\n",
    "    ax.set_ylim(0,y_marker+2)\n",
    "    if counter == 4 or counter == 5:\n",
    "        round_digs = 3\n",
    "    else:\n",
    "        round_digs = 2\n",
    "    x_min = ax.get_xlim()[0] + (ax.get_xlim()[1]-ax.get_xlim()[0])*0.2\n",
    "    ax.annotate('$\\mu \\pm CI$ = '+str(round(means_fix[counter], round_digs)) + \n",
    "                 '$\\pm$' + str(round(stds_fix[counter],round_digs)), xy=(x_min, y_marker), # 1.2 \n",
    "                     xycoords='data', color=\"C0\")\n",
    "    \n",
    "    ax.annotate('$\\mu \\pm CI$ = '+str(round(means_var[counter], round_digs)) + \n",
    "                 '$\\pm$' + str(round(stds_var[counter],round_digs)), xy=(x_min, y_marker-1), # 1.2 \n",
    "                     xycoords='data', color=\"C1\")\n",
    "    counter += 1"
   ]
  },
  {
   "cell_type": "code",
   "execution_count": null,
   "metadata": {},
   "outputs": [],
   "source": []
  },
  {
   "cell_type": "code",
   "execution_count": null,
   "metadata": {},
   "outputs": [],
   "source": []
  }
 ],
 "metadata": {
  "kernelspec": {
   "display_name": "bunny",
   "language": "python",
   "name": "bunny"
  },
  "language_info": {
   "codemirror_mode": {
    "name": "ipython",
    "version": 2
   },
   "file_extension": ".py",
   "mimetype": "text/x-python",
   "name": "python",
   "nbconvert_exporter": "python",
   "pygments_lexer": "ipython2",
   "version": "2.7.14"
  }
 },
 "nbformat": 4,
 "nbformat_minor": 2
}
