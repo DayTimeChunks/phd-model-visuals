{
 "cells": [
  {
   "cell_type": "code",
   "execution_count": 1,
   "metadata": {},
   "outputs": [],
   "source": [
    "gen = \"Gen1\"\n",
    "path = '../phd-model-process/'\n",
    "\n",
    "import pandas as pd\n",
    "pd.options.mode.chained_assignment = None  # default='warn'\n",
    "import numpy as np\n",
    "import scipy as sp\n",
    "import scipy.stats as st\n",
    "\n",
    "from helpers_pd import *\n",
    "\n",
    "# Plotting\n",
    "import seaborn as sns\n",
    "sns.set()\n",
    "# import seaborn as sns; sns.set(style=\"ticks\", color_codes=True)\n",
    "# sns.set(style=\"darkgrid\")\n",
    "import matplotlib.pyplot as plt\n",
    "# plt.style.use('seaborn-white')"
   ]
  },
  {
   "cell_type": "code",
   "execution_count": 2,
   "metadata": {},
   "outputs": [],
   "source": [
    "palette = [\"#F44336\", '#673AB7', '#3F51B5', '#009688', '#FF9800', '#4CAF50', '#03A9F4']\n",
    "# red, purple, indigo, teal-green, orange, green, light-blue"
   ]
  },
  {
   "cell_type": "markdown",
   "metadata": {},
   "source": [
    "# Extracting observed Conc."
   ]
  },
  {
   "cell_type": "markdown",
   "metadata": {},
   "source": [
    "## Define transect"
   ]
  },
  {
   "cell_type": "code",
   "execution_count": 3,
   "metadata": {},
   "outputs": [
    {
     "data": {
      "text/html": [
       "<div>\n",
       "<style scoped>\n",
       "    .dataframe tbody tr th:only-of-type {\n",
       "        vertical-align: middle;\n",
       "    }\n",
       "\n",
       "    .dataframe tbody tr th {\n",
       "        vertical-align: top;\n",
       "    }\n",
       "\n",
       "    .dataframe thead th {\n",
       "        text-align: right;\n",
       "    }\n",
       "</style>\n",
       "<table border=\"1\" class=\"dataframe\">\n",
       "  <thead>\n",
       "    <tr style=\"text-align: right;\">\n",
       "      <th></th>\n",
       "      <th>Jdays</th>\n",
       "      <th>DayMoYr</th>\n",
       "      <th>IDcal</th>\n",
       "      <th>ug.g</th>\n",
       "      <th>ug.g.SD</th>\n",
       "    </tr>\n",
       "  </thead>\n",
       "  <tbody>\n",
       "    <tr>\n",
       "      <th>0</th>\n",
       "      <td>182</td>\n",
       "      <td>2016-03-30</td>\n",
       "      <td>B-182</td>\n",
       "      <td>2.864553</td>\n",
       "      <td>1.903255</td>\n",
       "    </tr>\n",
       "    <tr>\n",
       "      <th>1</th>\n",
       "      <td>188</td>\n",
       "      <td>2016-04-05</td>\n",
       "      <td>B-188</td>\n",
       "      <td>5.919575</td>\n",
       "      <td>3.728411</td>\n",
       "    </tr>\n",
       "    <tr>\n",
       "      <th>2</th>\n",
       "      <td>197</td>\n",
       "      <td>2016-04-14</td>\n",
       "      <td>B-197</td>\n",
       "      <td>4.746709</td>\n",
       "      <td>4.277725</td>\n",
       "    </tr>\n",
       "    <tr>\n",
       "      <th>3</th>\n",
       "      <td>201</td>\n",
       "      <td>2016-04-18</td>\n",
       "      <td>B-201</td>\n",
       "      <td>6.105674</td>\n",
       "      <td>5.731930</td>\n",
       "    </tr>\n",
       "    <tr>\n",
       "      <th>4</th>\n",
       "      <td>209</td>\n",
       "      <td>2016-04-26</td>\n",
       "      <td>B-209</td>\n",
       "      <td>3.838914</td>\n",
       "      <td>3.838981</td>\n",
       "    </tr>\n",
       "  </tbody>\n",
       "</table>\n",
       "</div>"
      ],
      "text/plain": [
       "   Jdays     DayMoYr  IDcal      ug.g   ug.g.SD\n",
       "0    182  2016-03-30  B-182  2.864553  1.903255\n",
       "1    188  2016-04-05  B-188  5.919575  3.728411\n",
       "2    197  2016-04-14  B-197  4.746709  4.277725\n",
       "3    201  2016-04-18  B-201  6.105674  5.731930\n",
       "4    209  2016-04-26  B-209  3.838914  3.838981"
      ]
     },
     "execution_count": 3,
     "metadata": {},
     "output_type": "execute_result"
    }
   ],
   "source": [
    "obs = pd.read_table(path + 'observations/conc_bulk_cal.tss')\n",
    "p_b = pd.read_table(path + 'observations/p_bAve.tss')\n",
    "obs.head()"
   ]
  },
  {
   "cell_type": "markdown",
   "metadata": {},
   "source": [
    "# Selecting indexes"
   ]
  },
  {
   "cell_type": "code",
   "execution_count": 4,
   "metadata": {},
   "outputs": [],
   "source": [
    "df = get_data(gen=gen)"
   ]
  },
  {
   "cell_type": "code",
   "execution_count": 5,
   "metadata": {},
   "outputs": [],
   "source": [
    "# 'LHS_s2fix7/10/' in list(df.index)\n",
    "# list(df)"
   ]
  },
  {
   "cell_type": "code",
   "execution_count": 6,
   "metadata": {},
   "outputs": [],
   "source": [
    "df['k_d'] = df.loc[:, 'k_oc'] * df.loc[:,'f_oc']\n",
    "# Combined outlet and transects KGE Concentrations and d13C\n",
    "df['KGE-SM'] = (df.loc[:, 'KGE-CONC_out'] + df.loc[:, 'KGE-CONC-blk'])/2.0  \n",
    "df['KGE-d13C'] = (df.loc[:, 'KGE-d13C_out'] + df.loc[:, 'KGE-d13C-blk'])/2.0\n",
    "df['Constraint'] = df.apply(WithIsoKGE, args=(0.6,), axis=1)"
   ]
  },
  {
   "cell_type": "code",
   "execution_count": 7,
   "metadata": {},
   "outputs": [
    {
     "name": "stdout",
     "output_type": "stream",
     "text": [
      "Maximum Q\n",
      "(0.7856671938254698, 0.5624784847441313)\n",
      "Maximum Conc.\n",
      "(0.779633598745622, 0.36008130938978367, 0.5069745058654687)\n",
      "Maximum d13C\n",
      "(0.965893696014123, 0.70432567774303, 0.8186644665934912)\n"
     ]
    }
   ],
   "source": [
    "print(\"Maximum Q\")\n",
    "print(df['KGE-Q_out'].max(), df['NSE-Q_out'].max()) \n",
    "print(\"Maximum Conc.\")\n",
    "print(df['KGE-CONC-blk'].max(), df['KGE-CONC_out'].max(), df['KGE-SM'].max()) \n",
    "print(\"Maximum d13C\")\n",
    "print(df['KGE-d13C-blk'].max(), df['KGE-d13C_out'].max(), df['KGE-d13C'].max()) "
   ]
  },
  {
   "cell_type": "code",
   "execution_count": 8,
   "metadata": {},
   "outputs": [],
   "source": [
    "dfs = df[['Model',\n",
    "#           'dt_50_ref',\n",
    "#           'k_d',\n",
    "#           'epsilon_iso',\n",
    "          'KGE-SM', 'KGE-d13C', 'Constraint'\n",
    "          ]]"
   ]
  },
  {
   "cell_type": "code",
   "execution_count": 9,
   "metadata": {},
   "outputs": [
    {
     "name": "stdout",
     "output_type": "stream",
     "text": [
      "(7570, 553, 35)\n"
     ]
    },
    {
     "data": {
      "text/html": [
       "<div>\n",
       "<style scoped>\n",
       "    .dataframe tbody tr th:only-of-type {\n",
       "        vertical-align: middle;\n",
       "    }\n",
       "\n",
       "    .dataframe tbody tr th {\n",
       "        vertical-align: top;\n",
       "    }\n",
       "\n",
       "    .dataframe thead th {\n",
       "        text-align: right;\n",
       "    }\n",
       "</style>\n",
       "<table border=\"1\" class=\"dataframe\">\n",
       "  <thead>\n",
       "    <tr style=\"text-align: right;\">\n",
       "      <th></th>\n",
       "      <th>Model</th>\n",
       "      <th>KGE-SM</th>\n",
       "      <th>KGE-d13C</th>\n",
       "      <th>Constraint</th>\n",
       "    </tr>\n",
       "  </thead>\n",
       "  <tbody>\n",
       "    <tr>\n",
       "      <th>LHS_sc1var1/67/</th>\n",
       "      <td>var</td>\n",
       "      <td>0.220191</td>\n",
       "      <td>0.695523</td>\n",
       "      <td>WC</td>\n",
       "    </tr>\n",
       "    <tr>\n",
       "      <th>LHS_sc1var3/14/</th>\n",
       "      <td>var</td>\n",
       "      <td>0.218649</td>\n",
       "      <td>0.637070</td>\n",
       "      <td>WC</td>\n",
       "    </tr>\n",
       "    <tr>\n",
       "      <th>LHS_sc1var3/29/</th>\n",
       "      <td>var</td>\n",
       "      <td>0.223597</td>\n",
       "      <td>-0.768548</td>\n",
       "      <td>NC</td>\n",
       "    </tr>\n",
       "    <tr>\n",
       "      <th>LHS_sc1var3/83/</th>\n",
       "      <td>var</td>\n",
       "      <td>0.339982</td>\n",
       "      <td>-1.202357</td>\n",
       "      <td>NC</td>\n",
       "    </tr>\n",
       "    <tr>\n",
       "      <th>LHS_sc1var3/96/</th>\n",
       "      <td>var</td>\n",
       "      <td>0.272864</td>\n",
       "      <td>0.261158</td>\n",
       "      <td>NC</td>\n",
       "    </tr>\n",
       "  </tbody>\n",
       "</table>\n",
       "</div>"
      ],
      "text/plain": [
       "                Model    KGE-SM  KGE-d13C Constraint\n",
       "LHS_sc1var1/67/   var  0.220191  0.695523         WC\n",
       "LHS_sc1var3/14/   var  0.218649  0.637070         WC\n",
       "LHS_sc1var3/29/   var  0.223597 -0.768548         NC\n",
       "LHS_sc1var3/83/   var  0.339982 -1.202357         NC\n",
       "LHS_sc1var3/96/   var  0.272864  0.261158         NC"
      ]
     },
     "execution_count": 9,
     "metadata": {},
     "output_type": "execute_result"
    }
   ],
   "source": [
    "# Filter\n",
    "ff = dfs.loc[(dfs['KGE-SM'] > 0.21)] # Try 25 with more data points\n",
    "ff_c = ff.loc[(ff['KGE-d13C'] > 0.6)]\n",
    "print(len(dfs), len(ff), len(ff_c))\n",
    "ff.tail()"
   ]
  },
  {
   "cell_type": "code",
   "execution_count": 10,
   "metadata": {},
   "outputs": [
    {
     "name": "stdout",
     "output_type": "stream",
     "text": [
      "(518, 21)\n",
      "(518, 21)\n"
     ]
    }
   ],
   "source": [
    "nc = ff.index[(ff['Constraint'] == 'NC')].tolist() #[0]\n",
    "wc = ff.index[(ff['Constraint'] == 'WC') & (ff['Model']=='var') ].tolist() #[0]\n",
    "print(len(nc), len(wc))\n",
    "\n",
    "# nc = nc[0:len(wc)]\n",
    "\n",
    "print(len(nc), len(wc))"
   ]
  },
  {
   "cell_type": "markdown",
   "metadata": {},
   "source": [
    "## Update path for Generation"
   ]
  },
  {
   "cell_type": "code",
   "execution_count": 11,
   "metadata": {},
   "outputs": [],
   "source": [
    "\n",
    "path += gen + '/'"
   ]
  },
  {
   "cell_type": "markdown",
   "metadata": {},
   "source": [
    "# Cumulative applied mass (grams)\n",
    "\n",
    "All data frames have this time series, and does not change"
   ]
  },
  {
   "cell_type": "code",
   "execution_count": 12,
   "metadata": {},
   "outputs": [],
   "source": [
    "app = pd.read_table(path + nc[0] + \"resM_accAPP.tss\", \n",
    "                   skiprows=4, delim_whitespace=True,\n",
    "                                names=['Jdays', 'app'],\n",
    "                                header=None)\n",
    "# time = app['Jdays']\n",
    "app['Capp'] = app['app'].cumsum()\n",
    "# app.head()"
   ]
  },
  {
   "cell_type": "markdown",
   "metadata": {},
   "source": [
    "# Extracting time series"
   ]
  },
  {
   "cell_type": "code",
   "execution_count": 19,
   "metadata": {},
   "outputs": [],
   "source": [
    "def get_sets_bulk(name_list):\n",
    "    # Get sim conc, convert mass, ug/g -> ug\n",
    "    comp = ['nor', 'val', 'sou']\n",
    "    sets = []\n",
    "    for i in range(len(name_list)): # Set name\n",
    "        transects = []\n",
    "        for tran in comp:\n",
    "            # Append masses and conc.\n",
    "            filename = \"resM_\" + tran + \"CONC_real.tss\"\n",
    "            conc_name = tran + 'CONC'\n",
    "            sim = pd.read_table(path + name_list[i] + filename, \n",
    "                                skiprows=4, delim_whitespace=True,\n",
    "                                names=['Jdays', conc_name],\n",
    "                                header=None)\n",
    "            \n",
    "            mass_name = tran + \"Mass\"\n",
    "            sim[mass_name] = sim[conc_name] * p_b['pbAve'] * 4.0 * 10.0 * 10**3\n",
    "            transects.append(sim)\n",
    "            \n",
    "            # Append deltas\n",
    "            filename = \"resM_\" + tran + \"d13C_real.tss\"\n",
    "            delta_name = tran + 'd13C'\n",
    "            sim = pd.read_table(path + name_list[i] + filename,\n",
    "                                skiprows=4, delim_whitespace=True,\n",
    "                                names=['Jdays', delta_name],\n",
    "                                header=None)\n",
    "            transects.append(sim)\n",
    "\n",
    "        # Merge all transects\n",
    "        blk = reduce(lambda x, y: pd.merge(x, y, on='Jdays'), transects)\n",
    "\n",
    "        # Bulk concentration\n",
    "        conc_name = 'Conc_blk' +  name_list[i][3:]\n",
    "        blk[conc_name] = (blk['norCONC']*blk['norMass'] +\n",
    "                          blk['valCONC']*blk['valMass'] +\n",
    "                          blk['souCONC']*blk['souMass']\n",
    "                          ) / (blk['norMass'] + blk['valMass'] + blk['souMass'])\n",
    "\n",
    "        iso_name = 'd13C_blk' +  name_list[i][3:]\n",
    "        blk[iso_name] = (blk['nord13C']*blk['norMass'] +\n",
    "                         blk['vald13C']*blk['valMass'] +\n",
    "                         blk['soud13C']*blk['souMass']\n",
    "                        ) / (blk['norMass'] + blk['valMass'] + blk['souMass'])\n",
    "        \n",
    "        \n",
    "        blk = blk[['Jdays', conc_name, iso_name]]\n",
    "        sets.append(blk)\n",
    "    df = reduce(lambda left, right: pd.merge(left,right,on='Jdays'), sets)\n",
    "    return df"
   ]
  },
  {
   "cell_type": "code",
   "execution_count": 15,
   "metadata": {},
   "outputs": [],
   "source": [
    "# sets = get_sets_bulk(wc) # Returns sets merged\n",
    "# sets.tail()"
   ]
  },
  {
   "cell_type": "markdown",
   "metadata": {},
   "source": [
    "# Confidence interval calc."
   ]
  },
  {
   "cell_type": "code",
   "execution_count": 20,
   "metadata": {},
   "outputs": [],
   "source": [
    "def concat(row, plot):\n",
    "    return plot.capitalize() + '-' + str(int(row['Jdays']))"
   ]
  },
  {
   "cell_type": "code",
   "execution_count": 21,
   "metadata": {},
   "outputs": [],
   "source": [
    "def get_stats_bulk(df, measure, cst):\n",
    "    n = len(np.array(df.iloc[0,1:]))\n",
    "    df['mean'] = df.iloc[:,1:].mean(axis=1)\n",
    "    df['min'] = df.iloc[:,1:].min(axis=1)\n",
    "    df['max'] = df.iloc[:,1:].max(axis=1)\n",
    "    df['sem'] = df.iloc[:,1:].sem(axis=1)\n",
    "    df['high'] = df.apply(get_ci, args=(n, 0.95, True), axis=1)\n",
    "    df['low'] = df.apply(get_ci, args=(n, 0.95, False), axis=1)\n",
    "    if measure == \"Conc\":\n",
    "        df['low'] = df.apply(check_negative, axis=1)\n",
    "#     df['Trans'] = loc\n",
    "#     df['Area'] = loc[0]\n",
    "#     df['Level'] = level  # Composite or Detailed, \n",
    "    loc = \"B\"\n",
    "    df['IDcal'] = df.apply (lambda row: concat(row, loc), axis=1)\n",
    "    df['Type'] = df.apply(lambda row: ModelType(row, cst),axis=1)\n",
    "    return df[['Jdays', 'mean', 'high', 'low', 'max', 'min', 'IDcal', 'Type']]"
   ]
  },
  {
   "cell_type": "code",
   "execution_count": 22,
   "metadata": {},
   "outputs": [],
   "source": [
    "sets_wc = get_sets_bulk(wc) "
   ]
  },
  {
   "cell_type": "code",
   "execution_count": 24,
   "metadata": {},
   "outputs": [],
   "source": [
    "sets_wc = get_sets_bulk(wc) \n",
    "sets_nc = get_sets_bulk(nc) \n",
    "time_wc = sets_wc.filter(like=\"Jdays\")\n",
    "time_nc = sets_nc.filter(like=\"Jdays\")\n",
    "\n",
    "conc_wc = sets_wc.filter(like='Conc')\n",
    "conc_nc = sets_nc.filter(like='Conc')\n",
    "\n",
    "conc_wc = pd.concat([time_wc, conc_wc], axis=1, join='inner')\n",
    "conc_nc = pd.concat([time_nc, conc_nc], axis=1, join='inner')"
   ]
  },
  {
   "cell_type": "code",
   "execution_count": 25,
   "metadata": {},
   "outputs": [],
   "source": [
    "wc_all = get_stats_bulk(conc_wc, 'Conc', 'WC')\n",
    "nc_all = get_stats_bulk(conc_nc, 'Conc', 'NC')"
   ]
  },
  {
   "cell_type": "code",
   "execution_count": 26,
   "metadata": {},
   "outputs": [],
   "source": [
    "wc_merged = pd.merge(wc_all, obs, how='outer', on='IDcal')\n",
    "nc_merged = pd.merge(nc_all, obs, how='outer', on='IDcal')"
   ]
  },
  {
   "cell_type": "code",
   "execution_count": 27,
   "metadata": {},
   "outputs": [
    {
     "data": {
      "text/html": [
       "<div>\n",
       "<style scoped>\n",
       "    .dataframe tbody tr th:only-of-type {\n",
       "        vertical-align: middle;\n",
       "    }\n",
       "\n",
       "    .dataframe tbody tr th {\n",
       "        vertical-align: top;\n",
       "    }\n",
       "\n",
       "    .dataframe thead th {\n",
       "        text-align: right;\n",
       "    }\n",
       "</style>\n",
       "<table border=\"1\" class=\"dataframe\">\n",
       "  <thead>\n",
       "    <tr style=\"text-align: right;\">\n",
       "      <th></th>\n",
       "      <th>Jdays_x</th>\n",
       "      <th>mean</th>\n",
       "      <th>high</th>\n",
       "      <th>low</th>\n",
       "      <th>max</th>\n",
       "      <th>min</th>\n",
       "      <th>IDcal</th>\n",
       "      <th>Type</th>\n",
       "      <th>Jdays_y</th>\n",
       "      <th>DayMoYr</th>\n",
       "      <th>ug.g</th>\n",
       "      <th>ug.g.SD</th>\n",
       "    </tr>\n",
       "  </thead>\n",
       "  <tbody>\n",
       "    <tr>\n",
       "      <th>0</th>\n",
       "      <td>166</td>\n",
       "      <td>0.075283</td>\n",
       "      <td>0.075303</td>\n",
       "      <td>0.075263</td>\n",
       "      <td>0.075350</td>\n",
       "      <td>0.075201</td>\n",
       "      <td>B-166</td>\n",
       "      <td>WC</td>\n",
       "      <td>NaN</td>\n",
       "      <td>NaN</td>\n",
       "      <td>NaN</td>\n",
       "      <td>NaN</td>\n",
       "    </tr>\n",
       "    <tr>\n",
       "      <th>1</th>\n",
       "      <td>167</td>\n",
       "      <td>0.081050</td>\n",
       "      <td>0.081093</td>\n",
       "      <td>0.081006</td>\n",
       "      <td>0.081195</td>\n",
       "      <td>0.080874</td>\n",
       "      <td>B-167</td>\n",
       "      <td>WC</td>\n",
       "      <td>NaN</td>\n",
       "      <td>NaN</td>\n",
       "      <td>NaN</td>\n",
       "      <td>NaN</td>\n",
       "    </tr>\n",
       "    <tr>\n",
       "      <th>2</th>\n",
       "      <td>168</td>\n",
       "      <td>0.080702</td>\n",
       "      <td>0.080768</td>\n",
       "      <td>0.080637</td>\n",
       "      <td>0.080920</td>\n",
       "      <td>0.080440</td>\n",
       "      <td>B-168</td>\n",
       "      <td>WC</td>\n",
       "      <td>NaN</td>\n",
       "      <td>NaN</td>\n",
       "      <td>NaN</td>\n",
       "      <td>NaN</td>\n",
       "    </tr>\n",
       "    <tr>\n",
       "      <th>3</th>\n",
       "      <td>169</td>\n",
       "      <td>0.080359</td>\n",
       "      <td>0.080445</td>\n",
       "      <td>0.080272</td>\n",
       "      <td>0.080647</td>\n",
       "      <td>0.080009</td>\n",
       "      <td>B-169</td>\n",
       "      <td>WC</td>\n",
       "      <td>NaN</td>\n",
       "      <td>NaN</td>\n",
       "      <td>NaN</td>\n",
       "      <td>NaN</td>\n",
       "    </tr>\n",
       "    <tr>\n",
       "      <th>4</th>\n",
       "      <td>170</td>\n",
       "      <td>0.080020</td>\n",
       "      <td>0.080127</td>\n",
       "      <td>0.079912</td>\n",
       "      <td>0.080378</td>\n",
       "      <td>0.079583</td>\n",
       "      <td>B-170</td>\n",
       "      <td>WC</td>\n",
       "      <td>NaN</td>\n",
       "      <td>NaN</td>\n",
       "      <td>NaN</td>\n",
       "      <td>NaN</td>\n",
       "    </tr>\n",
       "  </tbody>\n",
       "</table>\n",
       "</div>"
      ],
      "text/plain": [
       "   Jdays_x      mean      high       low       max       min  IDcal Type  \\\n",
       "0      166  0.075283  0.075303  0.075263  0.075350  0.075201  B-166   WC   \n",
       "1      167  0.081050  0.081093  0.081006  0.081195  0.080874  B-167   WC   \n",
       "2      168  0.080702  0.080768  0.080637  0.080920  0.080440  B-168   WC   \n",
       "3      169  0.080359  0.080445  0.080272  0.080647  0.080009  B-169   WC   \n",
       "4      170  0.080020  0.080127  0.079912  0.080378  0.079583  B-170   WC   \n",
       "\n",
       "   Jdays_y DayMoYr  ug.g  ug.g.SD  \n",
       "0      NaN     NaN   NaN      NaN  \n",
       "1      NaN     NaN   NaN      NaN  \n",
       "2      NaN     NaN   NaN      NaN  \n",
       "3      NaN     NaN   NaN      NaN  \n",
       "4      NaN     NaN   NaN      NaN  "
      ]
     },
     "execution_count": 27,
     "metadata": {},
     "output_type": "execute_result"
    }
   ],
   "source": [
    "wc_merged.head()"
   ]
  },
  {
   "cell_type": "code",
   "execution_count": 28,
   "metadata": {},
   "outputs": [],
   "source": [
    "sets_all = pd.concat([nc_merged, wc_merged])"
   ]
  },
  {
   "cell_type": "code",
   "execution_count": 29,
   "metadata": {},
   "outputs": [
    {
     "data": {
      "text/plain": [
       "<seaborn.axisgrid.FacetGrid at 0x1a2609d750>"
      ]
     },
     "execution_count": 29,
     "metadata": {},
     "output_type": "execute_result"
    },
    {
     "data": {
      "image/png": "[encoded data removed]",
      "text/plain": [
       "<Figure size 872.8x432 with 2 Axes>"
      ]
     },
     "metadata": {},
     "output_type": "display_data"
    }
   ],
   "source": [
    "g = sns.FacetGrid(sets_all, col=\"Type\", height=6)\n",
    "g.map(plt.scatter, \"Jdays_x\", \"ug.g\")\n",
    "g.map(plt.errorbar, \"Jdays_x\", \"ug.g\", \"ug.g.SD\", marker=\"o\", linestyle='None')\n",
    "g.map(plt.plot, \"Jdays_x\", \"mean\")\n",
    "g.map(plt.plot, \"Jdays_x\", \"min\").add_legend()"
   ]
  },
  {
   "cell_type": "markdown",
   "metadata": {},
   "source": [
    "1. Second Burger Application, there is no isotope data to make this call!!\n",
    "2. There is also no isotope data to make an assumption on a second application by Friess in the North and Valley (I did not include one on the South)."
   ]
  },
  {
   "cell_type": "code",
   "execution_count": null,
   "metadata": {},
   "outputs": [],
   "source": []
  }
 ],
 "metadata": {
  "kernelspec": {
   "display_name": "bunny",
   "language": "python",
   "name": "bunny"
  },
  "language_info": {
   "codemirror_mode": {
    "name": "ipython",
    "version": 2
   },
   "file_extension": ".py",
   "mimetype": "text/x-python",
   "name": "python",
   "nbconvert_exporter": "python",
   "pygments_lexer": "ipython2",
   "version": "2.7.14"
  }
 },
 "nbformat": 4,
 "nbformat_minor": 2
}
