{
 "cells": [
  {
   "cell_type": "code",
   "execution_count": 1,
   "metadata": {},
   "outputs": [],
   "source": [
    "import numpy as np\n",
    "from helpers import get_dff_fat\n",
    "from constants_v1 import *\n",
    "\n",
    "# Data frames\n",
    "import pandas as pd\n",
    "from helpers_pd import *\n",
    "pd.options.mode.chained_assignment = None  # default='warn'\n",
    "\n",
    "# Plotting\n",
    "import seaborn as sns\n",
    "sns.set()\n",
    "sns.set(rc={'figure.figsize':(11.7,8.27)})\n",
    "# sns.set(style=\"darkgrid\")\n",
    "import matplotlib.pyplot as plt\n",
    "# plt.style.use('seaborn-white')"
   ]
  },
  {
   "cell_type": "markdown",
   "metadata": {},
   "source": [
    "## Selecting data frames to plot\n",
    "\n",
    "### Steps\n",
    "\n",
    "We want to selct only 4 time series of extremes, one max and one min for each model version at a given constraint.  \n",
    "\n",
    "- Select constraint conditions\n",
    "- Get min/max DT50 value (i.e. to select the correct time series to plot).\n",
    "- Get the 4 associated time series, assigne column name, e.g. \"DegVar_DT50min\", etc.\n",
    "- Repeat for Degradation, Persistence, Leaching (as percent of degradation)\n",
    "- Get any time series for total applied, make it cumulative\n",
    "- Merge all TSS, compute each column as percentage\n"
   ]
  },
  {
   "cell_type": "code",
   "execution_count": 2,
   "metadata": {},
   "outputs": [],
   "source": [
    "df = get_dff_fat(new=False, copy=True)"
   ]
  },
  {
   "cell_type": "code",
   "execution_count": 3,
   "metadata": {},
   "outputs": [],
   "source": [
    "df['k_d'] = df.loc[:, 'k_oc'] * df.loc[:,'f_oc']\n",
    "# Combined outlet and transects KGE Concentrations and d13C\n",
    "df['KGE-SM'] = (df.loc[:, 'KGE-CONC_out'] + df.loc[:, 'KGE-CONC-tra'])/2.0  \n",
    "df['KGE-d13C'] = (df.loc[:, 'KGE-d13C_out'] + df.loc[:, 'KGE-d13C-tra'])/2.0\n",
    "df['Constraint'] = df.apply(WithIsoKGE, args=(0.6,), axis=1)"
   ]
  },
  {
   "cell_type": "code",
   "execution_count": 4,
   "metadata": {},
   "outputs": [
    {
     "name": "stdout",
     "output_type": "stream",
     "text": [
      "Maximum Conc.\n",
      "(0.712486405538371, 0.34824560772798485, 0.4892993470470307)\n",
      "Maximum d13C\n",
      "(0.9031088875320538, 0.70432567774303, 0.7895610427604134)\n"
     ]
    }
   ],
   "source": [
    "print(\"Maximum Conc.\")\n",
    "print(df['KGE-CONC-tra'].max(), df['KGE-CONC_out'].max(), df['KGE-SM'].max()) \n",
    "print(\"Maximum d13C\")\n",
    "print(df['KGE-d13C-tra'].max(), df['KGE-d13C_out'].max(), df['KGE-d13C'].max()) "
   ]
  },
  {
   "cell_type": "code",
   "execution_count": 5,
   "metadata": {},
   "outputs": [],
   "source": [
    "dfs = df[['Model',\n",
    "          'dt_50_ref',\n",
    "#           'k_d',\n",
    "          'epsilon_iso',\n",
    "          'KGE-CONC-tra',\n",
    "          'KGE-d13C-tra',\n",
    "          'KGE-SM', 'KGE-d13C', 'Constraint'\n",
    "          ]]"
   ]
  },
  {
   "cell_type": "code",
   "execution_count": 6,
   "metadata": {},
   "outputs": [
    {
     "name": "stdout",
     "output_type": "stream",
     "text": [
      "(4606, 120, 9)\n"
     ]
    },
    {
     "data": {
      "text/html": [
       "<div>\n",
       "<style scoped>\n",
       "    .dataframe tbody tr th:only-of-type {\n",
       "        vertical-align: middle;\n",
       "    }\n",
       "\n",
       "    .dataframe tbody tr th {\n",
       "        vertical-align: top;\n",
       "    }\n",
       "\n",
       "    .dataframe thead th {\n",
       "        text-align: right;\n",
       "    }\n",
       "</style>\n",
       "<table border=\"1\" class=\"dataframe\">\n",
       "  <thead>\n",
       "    <tr style=\"text-align: right;\">\n",
       "      <th></th>\n",
       "      <th>Model</th>\n",
       "      <th>dt_50_ref</th>\n",
       "      <th>epsilon_iso</th>\n",
       "      <th>KGE-CONC-tra</th>\n",
       "      <th>KGE-d13C-tra</th>\n",
       "      <th>KGE-SM</th>\n",
       "      <th>KGE-d13C</th>\n",
       "      <th>Constraint</th>\n",
       "    </tr>\n",
       "  </thead>\n",
       "  <tbody>\n",
       "    <tr>\n",
       "      <th>LHS_s2var5/63/</th>\n",
       "      <td>var</td>\n",
       "      <td>27.735685</td>\n",
       "      <td>2.511350</td>\n",
       "      <td>0.259951</td>\n",
       "      <td>0.899789</td>\n",
       "      <td>0.276957</td>\n",
       "      <td>0.660586</td>\n",
       "      <td>WC</td>\n",
       "    </tr>\n",
       "    <tr>\n",
       "      <th>LHS_sc1var1/319/</th>\n",
       "      <td>var</td>\n",
       "      <td>30.647681</td>\n",
       "      <td>1.693283</td>\n",
       "      <td>0.309571</td>\n",
       "      <td>0.698886</td>\n",
       "      <td>0.244648</td>\n",
       "      <td>-1.176122</td>\n",
       "      <td>NC</td>\n",
       "    </tr>\n",
       "    <tr>\n",
       "      <th>LHS_sc1var1/64/</th>\n",
       "      <td>var</td>\n",
       "      <td>35.562792</td>\n",
       "      <td>1.183197</td>\n",
       "      <td>0.558498</td>\n",
       "      <td>0.276037</td>\n",
       "      <td>0.425198</td>\n",
       "      <td>0.222959</td>\n",
       "      <td>NC</td>\n",
       "    </tr>\n",
       "    <tr>\n",
       "      <th>LHS_sc1var3/83/</th>\n",
       "      <td>var</td>\n",
       "      <td>17.101488</td>\n",
       "      <td>3.954226</td>\n",
       "      <td>0.470623</td>\n",
       "      <td>0.146470</td>\n",
       "      <td>0.325851</td>\n",
       "      <td>-1.289182</td>\n",
       "      <td>NC</td>\n",
       "    </tr>\n",
       "    <tr>\n",
       "      <th>LHS_sc1var3/96/</th>\n",
       "      <td>var</td>\n",
       "      <td>29.637323</td>\n",
       "      <td>4.566381</td>\n",
       "      <td>0.189803</td>\n",
       "      <td>0.173100</td>\n",
       "      <td>0.237736</td>\n",
       "      <td>0.227875</td>\n",
       "      <td>NC</td>\n",
       "    </tr>\n",
       "  </tbody>\n",
       "</table>\n",
       "</div>"
      ],
      "text/plain": [
       "                 Model  dt_50_ref  epsilon_iso  KGE-CONC-tra  KGE-d13C-tra  \\\n",
       "LHS_s2var5/63/     var  27.735685     2.511350      0.259951      0.899789   \n",
       "LHS_sc1var1/319/   var  30.647681     1.693283      0.309571      0.698886   \n",
       "LHS_sc1var1/64/    var  35.562792     1.183197      0.558498      0.276037   \n",
       "LHS_sc1var3/83/    var  17.101488     3.954226      0.470623      0.146470   \n",
       "LHS_sc1var3/96/    var  29.637323     4.566381      0.189803      0.173100   \n",
       "\n",
       "                    KGE-SM  KGE-d13C Constraint  \n",
       "LHS_s2var5/63/    0.276957  0.660586         WC  \n",
       "LHS_sc1var1/319/  0.244648 -1.176122         NC  \n",
       "LHS_sc1var1/64/   0.425198  0.222959         NC  \n",
       "LHS_sc1var3/83/   0.325851 -1.289182         NC  \n",
       "LHS_sc1var3/96/   0.237736  0.227875         NC  "
      ]
     },
     "execution_count": 6,
     "metadata": {},
     "output_type": "execute_result"
    }
   ],
   "source": [
    "# Filter\n",
    "ff = dfs.loc[(dfs['KGE-SM'] > 0.21)] # Try 25 with more data points\n",
    "ff_c = ff.loc[(ff['KGE-d13C'] > 0.6)]\n",
    "print(len(dfs), len(ff), len(ff_c))\n",
    "ff.tail()"
   ]
  },
  {
   "cell_type": "markdown",
   "metadata": {},
   "source": [
    "## Variable TSS"
   ]
  },
  {
   "cell_type": "code",
   "execution_count": 7,
   "metadata": {},
   "outputs": [
    {
     "name": "stdout",
     "output_type": "stream",
     "text": [
      "(10.06694087653415, 39.663271172617975)\n",
      "(18.183996780553546, 32.468032952814106)\n"
     ]
    }
   ],
   "source": [
    "# DF1\n",
    "ff_var = ff[ff['Constraint'] == 'NC']\n",
    "var_max = ff_var['dt_50_ref'].max()\n",
    "var_min = ff_var['dt_50_ref'].min()\n",
    "print(var_min, var_max)\n",
    "\n",
    "# DF2, Constrained model\n",
    "ff_var_c = ff_c[ff_c['Constraint'] == 'WC']\n",
    "var_maxc = ff_var_c['dt_50_ref'].max()\n",
    "var_minc = ff_var_c['dt_50_ref'].min()\n",
    "\n",
    "print(var_minc, var_maxc)"
   ]
  },
  {
   "cell_type": "code",
   "execution_count": 8,
   "metadata": {},
   "outputs": [
    {
     "name": "stdout",
     "output_type": "stream",
     "text": [
      "('LHS_gu1var6/2/', 'LHS_gu1var5/2/')\n",
      "(10.06694087653415, 39.663271172617975)\n",
      "('LHS_p1fix4/8/', 'LHS_p1var6/179/')\n",
      "(18.183996780553546, 32.468032952814106)\n"
     ]
    }
   ],
   "source": [
    "# Get paths and their min, max values\n",
    "# var_paths = []\n",
    "# var_pvals = []\n",
    "\n",
    "# for df in dflist:\n",
    "#     val = df['dt_50_ref'][(df['Model'] == 'var')].min()\n",
    "#     mIndex = df.index[(ff['Model'] == 'var') & (ff['dt_50_ref'] == var_min)].tolist()[0]\n",
    "#     var_paths.append(index)\n",
    "\n",
    "var_paths = [\n",
    "    ff.index[(ff['Constraint'] == 'NC') & (ff['dt_50_ref'] == var_min)].tolist()[0],\n",
    "    ff.index[(ff['Constraint'] == 'NC') & (ff['dt_50_ref'] == var_max)].tolist()[0],\n",
    "    ff_c.index[(ff_c['Constraint'] == 'WC') & (ff_c['dt_50_ref'] == var_minc)].tolist()[0],\n",
    "    ff_c.index[(ff_c['Constraint'] == 'WC') & (ff_c['dt_50_ref'] == var_maxc)].tolist()[0]\n",
    "]\n",
    "\n",
    "var_pvals = [\n",
    "    ff['dt_50_ref'][(ff['Constraint'] == 'NC')].min(),\n",
    "    ff['dt_50_ref'][(ff['Constraint'] == 'NC')].max(),\n",
    "    ff_c['dt_50_ref'][(ff_c['Constraint'] == 'WC')].min(),\n",
    "    ff_c['dt_50_ref'][(ff_c['Constraint'] == 'WC')].max()\n",
    "]\n",
    "\n",
    "df_types = [\n",
    "    'vNC', # no constraint\n",
    "    'vNC',\n",
    "    'vWC', # with constraint\n",
    "    'vWC'\n",
    "]\n",
    "\n",
    "print(var_paths[0], var_paths[1])\n",
    "print(var_pvals[0], var_pvals[1])\n",
    "print(var_paths[2], var_paths[3])\n",
    "print(var_pvals[2], var_pvals[3])"
   ]
  },
  {
   "cell_type": "markdown",
   "metadata": {},
   "source": [
    "### Get cumulative applied mass (grams)\n",
    "\n",
    "All data frames have this time series, and does not change (inefficiency yes)"
   ]
  },
  {
   "cell_type": "code",
   "execution_count": 9,
   "metadata": {},
   "outputs": [],
   "source": [
    "path = var_paths[0]\n",
    "app = pd.read_table(path + \"resM_accAPP.tss\", \n",
    "                   skiprows=4, delim_whitespace=True,\n",
    "                                names=['Jdays', 'app'],\n",
    "                                header=None)\n",
    "# time = app['Jdays']\n",
    "app['Capp'] = app['app'].cumsum()\n",
    "# app.head()"
   ]
  },
  {
   "cell_type": "markdown",
   "metadata": {},
   "source": [
    "## Degradation"
   ]
  },
  {
   "cell_type": "code",
   "execution_count": 10,
   "metadata": {},
   "outputs": [
    {
     "name": "stdout",
     "output_type": "stream",
     "text": [
      "DEG\n"
     ]
    },
    {
     "data": {
      "text/html": [
       "<div>\n",
       "<style scoped>\n",
       "    .dataframe tbody tr th:only-of-type {\n",
       "        vertical-align: middle;\n",
       "    }\n",
       "\n",
       "    .dataframe tbody tr th {\n",
       "        vertical-align: top;\n",
       "    }\n",
       "\n",
       "    .dataframe thead th {\n",
       "        text-align: right;\n",
       "    }\n",
       "</style>\n",
       "<table border=\"1\" class=\"dataframe\">\n",
       "  <thead>\n",
       "    <tr style=\"text-align: right;\">\n",
       "      <th></th>\n",
       "      <th>Jdays</th>\n",
       "      <th>variable</th>\n",
       "      <th>value</th>\n",
       "      <th>Type</th>\n",
       "    </tr>\n",
       "  </thead>\n",
       "  <tbody>\n",
       "    <tr>\n",
       "      <th>0</th>\n",
       "      <td>166</td>\n",
       "      <td>DEG.10vNC</td>\n",
       "      <td>inf</td>\n",
       "      <td>Un-constrained</td>\n",
       "    </tr>\n",
       "    <tr>\n",
       "      <th>1</th>\n",
       "      <td>167</td>\n",
       "      <td>DEG.10vNC</td>\n",
       "      <td>inf</td>\n",
       "      <td>Un-constrained</td>\n",
       "    </tr>\n",
       "    <tr>\n",
       "      <th>2</th>\n",
       "      <td>168</td>\n",
       "      <td>DEG.10vNC</td>\n",
       "      <td>inf</td>\n",
       "      <td>Un-constrained</td>\n",
       "    </tr>\n",
       "    <tr>\n",
       "      <th>3</th>\n",
       "      <td>169</td>\n",
       "      <td>DEG.10vNC</td>\n",
       "      <td>inf</td>\n",
       "      <td>Un-constrained</td>\n",
       "    </tr>\n",
       "    <tr>\n",
       "      <th>4</th>\n",
       "      <td>170</td>\n",
       "      <td>DEG.10vNC</td>\n",
       "      <td>inf</td>\n",
       "      <td>Un-constrained</td>\n",
       "    </tr>\n",
       "  </tbody>\n",
       "</table>\n",
       "</div>"
      ],
      "text/plain": [
       "   Jdays   variable  value            Type\n",
       "0    166  DEG.10vNC    inf  Un-constrained\n",
       "1    167  DEG.10vNC    inf  Un-constrained\n",
       "2    168  DEG.10vNC    inf  Un-constrained\n",
       "3    169  DEG.10vNC    inf  Un-constrained\n",
       "4    170  DEG.10vNC    inf  Un-constrained"
      ]
     },
     "execution_count": 10,
     "metadata": {},
     "output_type": "execute_result"
    }
   ],
   "source": [
    "filename = \"resM_accDEGz0.tss\"\n",
    "vname = filename[-9:-6]\n",
    "print(vname)\n",
    "\n",
    "sets = []\n",
    "for i in range(len(var_paths)):\n",
    "    # Define variable name\n",
    "    series_name = vname + '.' + str(int(var_pvals[i])) + df_types[i]\n",
    "    # Get sim TSS\n",
    "    sim = pd.read_table(var_paths[i] + filename, \n",
    "                   skiprows=4, delim_whitespace=True,\n",
    "                                names=['Jdays', series_name],\n",
    "                                header=None\n",
    "                  )\n",
    "    # Cumalte mass degraded\n",
    "    sim['Cdeg'] = sim[series_name].cumsum()\n",
    "    \n",
    "    # Calculate percentage, retain.\n",
    "    sim = pd.merge(app, sim, how='inner', on='Jdays')\n",
    "    sim[series_name] = 100*(sim['Cdeg']/sim['Capp'])\n",
    "    sim = sim[['Jdays', series_name]]\n",
    "    \n",
    "    sim = pd.melt(sim, id_vars=['Jdays'],\n",
    "             value_vars=[series_name])\n",
    "    \n",
    "    if i < 2:\n",
    "        sim['Type'] = sim.apply (lambda row: ModelType(row, 'Un-constrained'),axis=1) \n",
    "    else: \n",
    "        sim['Type'] = sim.apply (lambda row: ModelType(row, 'Constrained'),axis=1) \n",
    "    sets.append(sim)\n",
    "    \n",
    "    \n",
    "sdf = pd.concat(sets)    \n",
    "# sdf = reduce(lambda left, right: pd.merge(left,right,on='Jdays'), sets)\n",
    "\n",
    "sdf.head()\n"
   ]
  },
  {
   "cell_type": "code",
   "execution_count": 11,
   "metadata": {},
   "outputs": [
    {
     "data": {
      "text/plain": [
       "<matplotlib.axes._subplots.AxesSubplot at 0x1a13035b50>"
      ]
     },
     "execution_count": 11,
     "metadata": {},
     "output_type": "execute_result"
    },
    {
     "data": {
      "image/png": "[encoded data removed]",
      "text/plain": [
       "<Figure size 432x288 with 1 Axes>"
      ]
     },
     "metadata": {},
     "output_type": "display_data"
    }
   ],
   "source": [
    "sns.lineplot(x=\"Jdays\", y=\"value\", data=sdf, hue=\"Type\")"
   ]
  },
  {
   "cell_type": "code",
   "execution_count": 12,
   "metadata": {},
   "outputs": [
    {
     "data": {
      "image/png": "[encoded data removed]",
      "text/plain": [
       "<Figure size 432x288 with 2 Axes>"
      ]
     },
     "metadata": {},
     "output_type": "display_data"
    }
   ],
   "source": [
    "fig, (ax1, ax2) = plt.subplots(1, 2, sharex=False, sharey=True)\n",
    "sns.lineplot(x=\"Jdays\", y=\"value\", data=sdf, hue=\"Type\", ax=ax1)\n",
    "plt.show()"
   ]
  }
 ],
 "metadata": {
  "kernelspec": {
   "display_name": "bunny",
   "language": "python",
   "name": "bunny"
  },
  "language_info": {
   "codemirror_mode": {
    "name": "ipython",
    "version": 2
   },
   "file_extension": ".py",
   "mimetype": "text/x-python",
   "name": "python",
   "nbconvert_exporter": "python",
   "pygments_lexer": "ipython2",
   "version": "2.7.14"
  }
 },
 "nbformat": 4,
 "nbformat_minor": 2
}
