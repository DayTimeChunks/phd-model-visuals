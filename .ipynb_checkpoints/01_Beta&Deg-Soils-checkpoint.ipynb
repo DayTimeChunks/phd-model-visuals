{
 "cells": [
  {
   "cell_type": "code",
   "execution_count": 1,
   "metadata": {},
   "outputs": [],
   "source": [
    "import numpy as np\n",
    "from helpers import get_dff_fat\n",
    "from constants_v1 import *\n",
    "# Plotting\n",
    "import pandas as pd\n",
    "pd.options.mode.chained_assignment = None  # default='warn'\n",
    "import seaborn as sns\n",
    "# plt.style.use('seaborn-white')\n",
    "import matplotlib.pyplot as plt"
   ]
  },
  {
   "cell_type": "code",
   "execution_count": 3,
   "metadata": {},
   "outputs": [],
   "source": [
    "def facet_scatter(x, y, c, **kwargs):\n",
    "    \"\"\"Draw scatterplot with point colors from a faceted DataFrame columns.\"\"\"\n",
    "    kwargs.pop(\"color\")\n",
    "    plt.scatter(x, y, c=c, **kwargs)"
   ]
  },
  {
   "cell_type": "markdown",
   "metadata": {},
   "source": [
    "Want to constrain mobility in soils by outlet fit. \n",
    "\n",
    "Does the **variable model** allow us to see the constraint effects (on Kd and DT50), when constrained by the outlet? \n"
   ]
  },
  {
   "cell_type": "code",
   "execution_count": 4,
   "metadata": {},
   "outputs": [],
   "source": [
    "df = get_dff_fat(new=False, copy=True)\n",
    "df['K_d'] = df.loc[:, 'k_oc'] * df.loc[:,'f_oc']"
   ]
  },
  {
   "cell_type": "code",
   "execution_count": 6,
   "metadata": {},
   "outputs": [
    {
     "name": "stdout",
     "output_type": "stream",
     "text": [
      "(48, 2)\n"
     ]
    }
   ],
   "source": [
    "# For later, 'KGE-d13C_out', 'NSE-d13C_out'\n",
    "dfs = df[['Model', 'K_d', 'beta_runoff', 'dt_50_ref', \n",
    "          'KGE-CONC-tra' , \n",
    "#           'NSE-CONC-tra',\n",
    "          'KGE-Q_out', 'KGE-CONC_out', 'KGE-LDS_out'\n",
    "         ]]\n",
    "# Filter\n",
    "ff = dfs.loc[(dfs['KGE-CONC-tra'] > 0.3)] # & (dfs['KGE-LDS_out'] > 0) ]\n",
    "ff_c = dfs.loc[(dfs['KGE-CONC-tra'] > 0.3) & (dfs['KGE-CONC_out'] > 0)] # & (dfs['KGE-LDS_out'] > 0) ]\n",
    "print(len(ff), len(ff_c))"
   ]
  },
  {
   "cell_type": "code",
   "execution_count": 7,
   "metadata": {},
   "outputs": [
    {
     "data": {
      "text/html": [
       "<div>\n",
       "<style scoped>\n",
       "    .dataframe tbody tr th:only-of-type {\n",
       "        vertical-align: middle;\n",
       "    }\n",
       "\n",
       "    .dataframe tbody tr th {\n",
       "        vertical-align: top;\n",
       "    }\n",
       "\n",
       "    .dataframe thead th {\n",
       "        text-align: right;\n",
       "    }\n",
       "</style>\n",
       "<table border=\"1\" class=\"dataframe\">\n",
       "  <thead>\n",
       "    <tr style=\"text-align: right;\">\n",
       "      <th></th>\n",
       "      <th>Model</th>\n",
       "      <th>K_d</th>\n",
       "      <th>beta_runoff</th>\n",
       "      <th>dt_50_ref</th>\n",
       "      <th>KGE-CONC-tra</th>\n",
       "      <th>KGE-Q_out</th>\n",
       "      <th>KGE-CONC_out</th>\n",
       "      <th>KGE-LDS_out</th>\n",
       "    </tr>\n",
       "  </thead>\n",
       "  <tbody>\n",
       "    <tr>\n",
       "      <th>LHS_be1var1/100/</th>\n",
       "      <td>var</td>\n",
       "      <td>1.996438</td>\n",
       "      <td>0.589342</td>\n",
       "      <td>31.676136</td>\n",
       "      <td>0.683036</td>\n",
       "      <td>0.538057</td>\n",
       "      <td>-0.391749</td>\n",
       "      <td>0.152131</td>\n",
       "    </tr>\n",
       "    <tr>\n",
       "      <th>LHS_be1var1/14/</th>\n",
       "      <td>var</td>\n",
       "      <td>541.640096</td>\n",
       "      <td>0.531667</td>\n",
       "      <td>29.510309</td>\n",
       "      <td>0.310086</td>\n",
       "      <td>-0.399435</td>\n",
       "      <td>-0.573096</td>\n",
       "      <td>-0.480001</td>\n",
       "    </tr>\n",
       "    <tr>\n",
       "      <th>LHS_be1var1/54/</th>\n",
       "      <td>var</td>\n",
       "      <td>15.732153</td>\n",
       "      <td>0.781631</td>\n",
       "      <td>27.698269</td>\n",
       "      <td>0.362678</td>\n",
       "      <td>-0.794272</td>\n",
       "      <td>-0.573705</td>\n",
       "      <td>-0.461954</td>\n",
       "    </tr>\n",
       "    <tr>\n",
       "      <th>LHS_be1var1/59/</th>\n",
       "      <td>var</td>\n",
       "      <td>3.381811</td>\n",
       "      <td>0.385516</td>\n",
       "      <td>34.883598</td>\n",
       "      <td>0.415490</td>\n",
       "      <td>0.301783</td>\n",
       "      <td>0.286232</td>\n",
       "      <td>-4.342457</td>\n",
       "    </tr>\n",
       "    <tr>\n",
       "      <th>LHS_be1var1/68/</th>\n",
       "      <td>var</td>\n",
       "      <td>117.064586</td>\n",
       "      <td>0.676427</td>\n",
       "      <td>29.365154</td>\n",
       "      <td>0.304965</td>\n",
       "      <td>0.216429</td>\n",
       "      <td>-0.561047</td>\n",
       "      <td>-0.465974</td>\n",
       "    </tr>\n",
       "  </tbody>\n",
       "</table>\n",
       "</div>"
      ],
      "text/plain": [
       "                 Model         K_d  beta_runoff  dt_50_ref  KGE-CONC-tra  \\\n",
       "LHS_be1var1/100/   var    1.996438     0.589342  31.676136      0.683036   \n",
       "LHS_be1var1/14/    var  541.640096     0.531667  29.510309      0.310086   \n",
       "LHS_be1var1/54/    var   15.732153     0.781631  27.698269      0.362678   \n",
       "LHS_be1var1/59/    var    3.381811     0.385516  34.883598      0.415490   \n",
       "LHS_be1var1/68/    var  117.064586     0.676427  29.365154      0.304965   \n",
       "\n",
       "                  KGE-Q_out  KGE-CONC_out  KGE-LDS_out  \n",
       "LHS_be1var1/100/   0.538057     -0.391749     0.152131  \n",
       "LHS_be1var1/14/   -0.399435     -0.573096    -0.480001  \n",
       "LHS_be1var1/54/   -0.794272     -0.573705    -0.461954  \n",
       "LHS_be1var1/59/    0.301783      0.286232    -4.342457  \n",
       "LHS_be1var1/68/    0.216429     -0.561047    -0.465974  "
      ]
     },
     "execution_count": 7,
     "metadata": {},
     "output_type": "execute_result"
    }
   ],
   "source": [
    "ff.head()"
   ]
  },
  {
   "cell_type": "markdown",
   "metadata": {},
   "source": [
    "## No outlet constraint"
   ]
  },
  {
   "cell_type": "code",
   "execution_count": 8,
   "metadata": {},
   "outputs": [],
   "source": [
    "vmin, vmax = ff['KGE-CONC-tra'].min(), ff['KGE-CONC-tra'].max()\n",
    "cmap = sns.diverging_palette(10, 240, l=65, center=\"light\", as_cmap=True)\n",
    "# cmap = sns.diverging_palette(275, 150, s=80, l=55, center=\"dark\", as_cmap=True)\n",
    "\n",
    "xmin, xmax = ff['dt_50_ref'].min(), ff['dt_50_ref'].max()\n",
    "\n",
    "# Kd (Beta below)\n",
    "ymin, ymax = ff['K_d'].min(), ff['K_d'].max()"
   ]
  },
  {
   "cell_type": "code",
   "execution_count": 9,
   "metadata": {},
   "outputs": [],
   "source": [
    "sns.set(rc={'figure.figsize':(11.7,8.27)})"
   ]
  },
  {
   "cell_type": "markdown",
   "metadata": {},
   "source": [
    "### Kd"
   ]
  },
  {
   "cell_type": "code",
   "execution_count": 40,
   "metadata": {},
   "outputs": [
    {
     "data": {
      "image/png": "[encoded data removed]",
      "text/plain": [
       "<Figure size 432x216 with 3 Axes>"
      ]
     },
     "metadata": {},
     "output_type": "display_data"
    }
   ],
   "source": [
    "g = sns.FacetGrid(ff, col='Model', palette='viridis')\n",
    "g = g.map(facet_scatter, 'dt_50_ref', 'K_d', \"KGE-CONC-tra\",\n",
    "          s=100, alpha=0.5, vmin=vmin, vmax=vmax, cmap=cmap)\n",
    "\n",
    "g.axes[0,0].set_ylim(ymin, ymax)\n",
    "g.axes[0,1].set_ylim(ymin, ymax)\n",
    "g.axes[0,0].set_xlim(xmin, xmax) # left plot\n",
    "g.axes[0,1].set_xlim(xmin, xmax) # right plot\n",
    "\n",
    "# Make space for the colorbar\n",
    "g.fig.subplots_adjust(right=.92)\n",
    "\n",
    "# Define a new Axes where the colorbar will go\n",
    "cax = g.fig.add_axes([.94, .25, .02, .6])\n",
    "\n",
    "# Get a mappable object with the same colormap as the data\n",
    "points = plt.scatter([], [], c=[], vmin=vmin, vmax=vmax, cmap=cmap)\n",
    "\n",
    "# Draw the colorbar\n",
    "g.fig.colorbar(points, cax=cax)\n",
    "g.savefig(\"DT50vsKd.pdf\")"
   ]
  },
  {
   "cell_type": "markdown",
   "metadata": {},
   "source": [
    "### Beta"
   ]
  },
  {
   "cell_type": "code",
   "execution_count": 10,
   "metadata": {},
   "outputs": [],
   "source": [
    "ymin, ymax = ff['beta_runoff'].min(), ff['beta_runoff'].max()"
   ]
  },
  {
   "cell_type": "code",
   "execution_count": 42,
   "metadata": {},
   "outputs": [
    {
     "data": {
      "image/png": "[encoded data removed]",
      "text/plain": [
       "<Figure size 432x216 with 3 Axes>"
      ]
     },
     "metadata": {},
     "output_type": "display_data"
    }
   ],
   "source": [
    "g = sns.FacetGrid(ff, col='Model', palette='viridis')\n",
    "g = g.map(facet_scatter, 'dt_50_ref', 'beta_runoff', \"KGE-CONC-tra\",\n",
    "          s=100, alpha=0.5, vmin=vmin, vmax=vmax, cmap=cmap)\n",
    "\n",
    "g.axes[0,0].set_ylim(ymin, ymax)\n",
    "g.axes[0,1].set_ylim(ymin, ymax)\n",
    "g.axes[0,0].set_xlim(xmin, xmax) # left plot\n",
    "g.axes[0,1].set_xlim(xmin, xmax) # right plot\n",
    "\n",
    "# Make space for the colorbar\n",
    "g.fig.subplots_adjust(right=.92)\n",
    "\n",
    "# Define a new Axes where the colorbar will go\n",
    "cax = g.fig.add_axes([.94, .25, .02, .6])\n",
    "\n",
    "# Get a mappable object with the same colormap as the data\n",
    "points = plt.scatter([], [], c=[], vmin=vmin, vmax=vmax, cmap=cmap)\n",
    "\n",
    "# Draw the colorbar\n",
    "g.fig.colorbar(points, cax=cax)\n",
    "g.savefig(\"DT50vsBeta.pdf\")"
   ]
  }
 ],
 "metadata": {
  "kernelspec": {
   "display_name": "bunny",
   "language": "python",
   "name": "bunny"
  },
  "language_info": {
   "codemirror_mode": {
    "name": "ipython",
    "version": 2
   },
   "file_extension": ".py",
   "mimetype": "text/x-python",
   "name": "python",
   "nbconvert_exporter": "python",
   "pygments_lexer": "ipython2",
   "version": "2.7.14"
  }
 },
 "nbformat": 4,
 "nbformat_minor": 2
}
