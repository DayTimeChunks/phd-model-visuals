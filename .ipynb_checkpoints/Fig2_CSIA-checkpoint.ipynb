{
 "cells": [
  {
   "cell_type": "code",
   "execution_count": 1,
   "metadata": {},
   "outputs": [],
   "source": [
    "path = '../phd-model-process/'\n",
    "\n",
    "import pandas as pd\n",
    "pd.options.mode.chained_assignment = None  # default='warn'\n",
    "import numpy as np\n",
    "import scipy as sp\n",
    "import scipy.stats as st\n",
    "\n",
    "from helpers_pd import *\n",
    "\n",
    "# Plotting\n",
    "import seaborn as sns\n",
    "sns.set()\n",
    "# import seaborn as sns; sns.set(style=\"ticks\", color_codes=True)\n",
    "# sns.set(style=\"darkgrid\")\n",
    "import matplotlib.pyplot as plt\n",
    "# plt.style.use('seaborn-white')"
   ]
  },
  {
   "cell_type": "code",
   "execution_count": 2,
   "metadata": {},
   "outputs": [],
   "source": [
    "palette = [\"#F44336\", '#673AB7', '#3F51B5', '#009688', '#FF9800', '#4CAF50', '#03A9F4']\n",
    "# red, purple, indigo, teal-green, orange, green, light-blue\n",
    "# https://matplotlib.org/users/dflt_style_changes.html"
   ]
  },
  {
   "cell_type": "markdown",
   "metadata": {},
   "source": [
    "# Extracting observed Conc."
   ]
  },
  {
   "cell_type": "code",
   "execution_count": 3,
   "metadata": {},
   "outputs": [
    {
     "data": {
      "text/html": [
       "<div>\n",
       "<style scoped>\n",
       "    .dataframe tbody tr th:only-of-type {\n",
       "        vertical-align: middle;\n",
       "    }\n",
       "\n",
       "    .dataframe tbody tr th {\n",
       "        vertical-align: top;\n",
       "    }\n",
       "\n",
       "    .dataframe thead th {\n",
       "        text-align: right;\n",
       "    }\n",
       "</style>\n",
       "<table border=\"1\" class=\"dataframe\">\n",
       "  <thead>\n",
       "    <tr style=\"text-align: right;\">\n",
       "      <th></th>\n",
       "      <th>Jdays</th>\n",
       "      <th>DayMoYr</th>\n",
       "      <th>IDcal</th>\n",
       "      <th>d13C</th>\n",
       "      <th>d13C.SD</th>\n",
       "    </tr>\n",
       "  </thead>\n",
       "  <tbody>\n",
       "    <tr>\n",
       "      <th>0</th>\n",
       "      <td>188</td>\n",
       "      <td>2016-04-05</td>\n",
       "      <td>B-188</td>\n",
       "      <td>-31.225186</td>\n",
       "      <td>0.640023</td>\n",
       "    </tr>\n",
       "    <tr>\n",
       "      <th>1</th>\n",
       "      <td>197</td>\n",
       "      <td>2016-04-14</td>\n",
       "      <td>B-197</td>\n",
       "      <td>-31.200375</td>\n",
       "      <td>0.303478</td>\n",
       "    </tr>\n",
       "    <tr>\n",
       "      <th>2</th>\n",
       "      <td>201</td>\n",
       "      <td>2016-04-18</td>\n",
       "      <td>B-201</td>\n",
       "      <td>-31.496359</td>\n",
       "      <td>0.390947</td>\n",
       "    </tr>\n",
       "    <tr>\n",
       "      <th>3</th>\n",
       "      <td>209</td>\n",
       "      <td>2016-04-26</td>\n",
       "      <td>B-209</td>\n",
       "      <td>-31.239331</td>\n",
       "      <td>0.542286</td>\n",
       "    </tr>\n",
       "    <tr>\n",
       "      <th>4</th>\n",
       "      <td>216</td>\n",
       "      <td>2016-05-03</td>\n",
       "      <td>B-216</td>\n",
       "      <td>-30.682124</td>\n",
       "      <td>0.434045</td>\n",
       "    </tr>\n",
       "  </tbody>\n",
       "</table>\n",
       "</div>"
      ],
      "text/plain": [
       "   Jdays     DayMoYr  IDcal       d13C   d13C.SD\n",
       "0    188  2016-04-05  B-188 -31.225186  0.640023\n",
       "1    197  2016-04-14  B-197 -31.200375  0.303478\n",
       "2    201  2016-04-18  B-201 -31.496359  0.390947\n",
       "3    209  2016-04-26  B-209 -31.239331  0.542286\n",
       "4    216  2016-05-03  B-216 -30.682124  0.434045"
      ]
     },
     "execution_count": 3,
     "metadata": {},
     "output_type": "execute_result"
    }
   ],
   "source": [
    "obs_d13c = pd.read_table(path + 'observations/d13c_bulk_cal.tss')\n",
    "obs_conc = pd.read_table(path + 'observations/conc_bulk_cal.tss')\n",
    "p_b = pd.read_table(path + 'observations/p_bAve.tss')\n",
    "obs_d13c.head()"
   ]
  },
  {
   "cell_type": "markdown",
   "metadata": {},
   "source": [
    "# Selecting indexes"
   ]
  },
  {
   "cell_type": "code",
   "execution_count": 4,
   "metadata": {},
   "outputs": [],
   "source": [
    "gen_1x = \"Gen10\"\n",
    "df = get_data(gen=gen_1x)\n",
    "df[\"Gen\"] = gen_1x"
   ]
  },
  {
   "cell_type": "code",
   "execution_count": 5,
   "metadata": {},
   "outputs": [],
   "source": [
    "# Index names\n",
    "df['Name'] = df['Gen'] + \"/\" + df.index\n",
    "df = df.set_index('Name')\n",
    "# 'LHS_s2fix7/10/' in list(df.index)"
   ]
  },
  {
   "cell_type": "code",
   "execution_count": 6,
   "metadata": {},
   "outputs": [],
   "source": [
    "df['k_d'] = df.loc[:, 'k_oc'] * df.loc[:,'f_oc']\n",
    "# Combined outlet and transects KGE Concentrations and d13C\n",
    "df['KGE-SM'] = (df.loc[:, 'KGE-CONC_out'] + df.loc[:, 'KGE-CONC-blk'])/2.0  \n",
    "df['KGE-d13C'] = (df.loc[:, 'KGE-d13C_out'] + df.loc[:, 'KGE-d13C-blk'])/2.0\n",
    "df['epsilon_iso'] *= -1\n",
    "dfs_all = df[['Model', \"Gen\",\n",
    "          'dt_50_ref',\n",
    "          'dt_50_ab',\n",
    "          'k_d',\n",
    "          'k_oc',\n",
    "          'epsilon_iso',\n",
    "          'KGE-CONC-blk','KGE-d13C-blk',\n",
    "          'KGE-CONC-tra','KGE-d13C-tra',\n",
    "          'KGE-CONC-det','KGE-d13C-det',\n",
    "          'KGE-CONC_out', 'KGE-d13C_out',\n",
    "          'KGE-SM', 'KGE-d13C',\n",
    "          'KGE-Q_out'\n",
    "          ]]"
   ]
  },
  {
   "cell_type": "code",
   "execution_count": 7,
   "metadata": {},
   "outputs": [
    {
     "name": "stdout",
     "output_type": "stream",
     "text": [
      "(1635, 184, 111)\n",
      "111\n"
     ]
    }
   ],
   "source": [
    "# Filter\n",
    "# cst = 0.8\n",
    "# dfs['Constraint'] = dfs.apply(BlkIso, args=(cst,), axis=1)\n",
    "\n",
    "dfs = dfs_all.loc[(dfs_all['Model'] == 'var')]\n",
    "dfs_fix = dfs_all.loc[(dfs_all['Model'] == 'fix')]\n",
    "\n",
    "\n",
    "# Global\n",
    "# ff = dfs.loc[(dfs['KGE-SM'] > 0.5)] # Try 25 with more data points\n",
    "# ff_c = dfs.loc[(dfs['KGE-SM'] > 0.25) & (dfs['KGE-d13C'] >  cst)]\n",
    "\n",
    "# Soil\n",
    "ff = dfs.loc[(dfs['KGE-CONC-blk'] > 0.60) & (dfs['KGE-Q_out'] >  0.50)] # Try 25 with more data points\n",
    "ff_c = dfs.loc[(dfs['KGE-CONC-blk'] > 0.0) & (dfs['KGE-d13C-blk'] >  0.80) & (dfs['KGE-Q_out'] >  0.50)]\n",
    "\n",
    "\n",
    "# Outlet\n",
    "# ff = dfs.loc[(dfs['KGE-CONC_out'] > 0.20)] # Try 25 with more data points\n",
    "# ff_c = dfs.loc[(dfs['KGE-CONC_out'] > 0.20) & (dfs['KGE-d13C_out'] >  0.2)]\n",
    "\n",
    "print(len(dfs), len(ff), len(ff_c))\n",
    "# ff.tail()\n",
    "print(len(ff_c.loc[(ff_c['Gen']==\"Gen10\")]))"
   ]
  },
  {
   "cell_type": "code",
   "execution_count": 8,
   "metadata": {},
   "outputs": [],
   "source": [
    "# New sampling\n",
    "# dfs_fix"
   ]
  },
  {
   "cell_type": "markdown",
   "metadata": {},
   "source": [
    "## All models"
   ]
  },
  {
   "cell_type": "code",
   "execution_count": 9,
   "metadata": {},
   "outputs": [
    {
     "name": "stdout",
     "output_type": "stream",
     "text": [
      "Maximum Q\n",
      "(0.769832923058568, 0.5284275029940944)\n",
      "Maximum Conc.\n",
      "(0.8027419410432288, 0.483226275596356, 0.5657178152771112)\n",
      "Maximum d13C\n",
      "(0.957449515054865, 0.6328847080874456, 0.7543872543883461)\n"
     ]
    }
   ],
   "source": [
    "print(\"Maximum Q\")\n",
    "print(df['KGE-Q_out'].max(), df['NSE-Q_out'].max()) \n",
    "print(\"Maximum Conc.\")\n",
    "print(df['KGE-CONC-blk'].max(), df['KGE-CONC_out'].max(), df['KGE-SM'].max()) \n",
    "print(\"Maximum d13C\")\n",
    "print(df['KGE-d13C-blk'].max(), df['KGE-d13C_out'].max(), df['KGE-d13C'].max()) "
   ]
  },
  {
   "cell_type": "markdown",
   "metadata": {},
   "source": [
    "## Convert to arrays"
   ]
  },
  {
   "cell_type": "markdown",
   "metadata": {},
   "source": [
    "https://python-graph-gallery.com/25-histogram-with-several-variables-seaborn/"
   ]
  },
  {
   "cell_type": "code",
   "execution_count": 10,
   "metadata": {},
   "outputs": [
    {
     "name": "stdout",
     "output_type": "stream",
     "text": [
      "(21.053268503310637, 9.377714163164637)\n"
     ]
    }
   ],
   "source": [
    "all_gen1x = dfs_all.loc[(dfs_all['Gen'] == 'Gen10')]\n",
    "nc_all_blk = all_gen1x.loc[(all_gen1x['KGE-CONC-blk'] > 0.6) & (all_gen1x['KGE-d13C-blk'] >  0.0) & (all_gen1x['KGE-Q_out'] >  0.50) ]\n",
    "\n",
    "nc_mean_all = nc_all_blk[\"dt_50_ref\"].mean()\n",
    "nc_sd_all = nc_all_blk[\"dt_50_ref\"].std()\n",
    "print(nc_mean_all,nc_sd_all) "
   ]
  },
  {
   "cell_type": "code",
   "execution_count": 11,
   "metadata": {},
   "outputs": [],
   "source": [
    "ff_c = dfs.loc[(dfs['KGE-CONC-blk'] > 0.50) & (dfs['KGE-d13C-blk'] >  0.70) & (dfs['KGE-Q_out'] >  0.545)]"
   ]
  },
  {
   "cell_type": "code",
   "execution_count": 12,
   "metadata": {},
   "outputs": [],
   "source": [
    "# Soil Detailed\n",
    "# ff = dfs.loc[(dfs['KGE-CONC-blk'] > 0.60) & (dfs['KGE-Q_out'] >  0.50)] # Try 25 with more data points\n",
    "# ff_c = dfs.loc[(dfs['KGE-CONC-blk'] > 0.60) & (dfs['KGE-d13C-blk'] >  0.50)]\n",
    "gen1x = dfs.loc[(dfs['Gen'] == 'Gen10')]\n",
    "# gen2x = dfs.loc[(dfs['Gen'] == 'Gen11')]\n",
    "\n",
    "# blk = gen1x.loc[(gen1x['KGE-CONC-blk'] > 0.0) & (gen1x['KGE-d13C-blk'] >  0.85) & (gen1x['KGE-Q_out'] >  0.50) ]\n",
    "# tra = gen1x.loc[(gen1x['KGE-CONC-blk'] > 0.0) & (gen1x['KGE-d13C-tra'] >  0.85) & (gen1x['KGE-Q_out'] >  0.50) ]\n",
    "# det = gen1x.loc[(gen1x['KGE-CONC-blk'] > 0.0) & (gen1x['KGE-d13C-det'] >  0.82) & (gen1x['KGE-Q_out'] >  0.50) ]\n",
    "\n",
    "# Good:\n",
    "# blk_c = gen1x.loc[(gen1x['KGE-CONC-blk'] > .6) & (gen1x['KGE-d13C-blk'] >  -3.0) & (gen1x['KGE-Q_out'] >  0.50)]\n",
    "# tra_c = gen1x.loc[(gen1x['KGE-CONC-blk'] > .6) & (gen1x['KGE-d13C-tra'] >  -3.0) & (gen1x['KGE-Q_out'] >  0.50)]\n",
    "# det_c = gen1x.loc[(gen1x['KGE-CONC-blk'] > .6) & (gen1x['KGE-d13C-det'] >  -3.0) & (gen1x['KGE-Q_out'] >  0.50)]\n",
    "\n",
    "# blk_b = gen1x.loc[(gen1x['KGE-CONC-blk'] > .6) & (gen1x['KGE-d13C-blk'] >  0.82) & (gen1x['KGE-Q_out'] >  0.50)]\n",
    "# tra_b = gen1x.loc[(gen1x['KGE-CONC-blk'] > .6) & (gen1x['KGE-d13C-tra'] >  0.82) & (gen1x['KGE-Q_out'] >  0.50)]\n",
    "# det_b = gen1x.loc[(gen1x['KGE-CONC-blk'] > .6) & (gen1x['KGE-d13C-det'] >  0.82) & (gen1x['KGE-Q_out'] >  0.50)]\n",
    "\n",
    "# Good:\n",
    "blk_c = gen1x.loc[(gen1x['KGE-CONC-blk'] > .545) & (gen1x['KGE-d13C-blk'] >  0.0) & (gen1x['KGE-Q_out'] >  0.545)]\n",
    "tra_c = gen1x.loc[(gen1x['KGE-CONC-blk'] > .545) & (gen1x['KGE-d13C-tra'] >  0.0) & (gen1x['KGE-Q_out'] >  0.545)]\n",
    "det_c = gen1x.loc[(gen1x['KGE-CONC-blk'] > .545) & (gen1x['KGE-d13C-det'] >  0.0) & (gen1x['KGE-Q_out'] >  0.545)]\n",
    "\n",
    "blk_b = gen1x.loc[(gen1x['KGE-CONC-blk'] > .545) & (gen1x['KGE-d13C-blk'] >  0.85) & (gen1x['KGE-Q_out'] >  0.545)]\n",
    "tra_b = gen1x.loc[(gen1x['KGE-CONC-blk'] > .545) & (gen1x['KGE-d13C-tra'] >  0.85) & (gen1x['KGE-Q_out'] >  0.545)]\n",
    "det_b = gen1x.loc[(gen1x['KGE-CONC-blk'] > .545) & (gen1x['KGE-d13C-det'] >  0.82) & (gen1x['KGE-Q_out'] >  0.545)]\n",
    "\n",
    "\n",
    "# Test 2 (including K_d)\n",
    "# blk_c = gen1x.loc[(gen1x['KGE-CONC-blk'] > .6) & (gen1x['KGE-d13C-blk'] >  0.0) & (gen1x['KGE-Q_out'] >  0.545)]\n",
    "# tra_c = gen1x.loc[(gen1x['KGE-CONC-blk'] > .6) & (gen1x['KGE-d13C-tra'] >  0.0) & (gen1x['KGE-Q_out'] >  0.545)]\n",
    "# det_c = gen1x.loc[(gen1x['KGE-CONC-blk'] > .6) & (gen1x['KGE-d13C-det'] >  0.0) & (gen1x['KGE-Q_out'] >  0.545)]\n",
    "\n",
    "# blk_b = gen1x.loc[(gen1x['KGE-CONC-blk'] > .6) & (gen1x['KGE-d13C-blk'] >  0.82) & (gen1x['KGE-Q_out'] >  0.545)]\n",
    "# tra_b = gen1x.loc[(gen1x['KGE-CONC-blk'] > .6) & (gen1x['KGE-d13C-tra'] >  0.82) & (gen1x['KGE-Q_out'] >  0.545)]\n",
    "# det_b = gen1x.loc[(gen1x['KGE-CONC-blk'] > .6) & (gen1x['KGE-d13C-det'] >  0.82) & (gen1x['KGE-Q_out'] >  0.545)]\n"
   ]
  },
  {
   "cell_type": "code",
   "execution_count": 13,
   "metadata": {},
   "outputs": [
    {
     "name": "stdout",
     "output_type": "stream",
     "text": [
      "(16.568234508042632, 8.790863733477835)\n",
      "(17.8720096816432, 9.404959073031922)\n",
      "(19.00653927757153, 9.984115397305532)\n"
     ]
    }
   ],
   "source": [
    "nc_mean_blk = blk_c[\"dt_50_ref\"].mean()\n",
    "nc_sd_blk = blk_c[\"dt_50_ref\"].std()\n",
    "print(nc_mean_blk,nc_sd_blk) \n",
    "\n",
    "nc_mean_tra = tra_c[\"dt_50_ref\"].mean()\n",
    "nc_sd_tra = tra_c[\"dt_50_ref\"].std()\n",
    "print(nc_mean_tra, nc_sd_tra) \n",
    "\n",
    "nc_mean_det = det_c[\"dt_50_ref\"].mean()\n",
    "nc_sd_det = det_c[\"dt_50_ref\"].std()\n",
    "print(nc_mean_det,nc_sd_det) "
   ]
  },
  {
   "cell_type": "code",
   "execution_count": 14,
   "metadata": {},
   "outputs": [
    {
     "name": "stdout",
     "output_type": "stream",
     "text": [
      "(17.047260509062127, 3.9496981486422693)\n",
      "(20.701598767715762, 3.5334578729743167)\n",
      "(16.010408221047964, 7.1932346903693345)\n"
     ]
    }
   ],
   "source": [
    "wc_mean_blk = blk_b[\"dt_50_ref\"].mean()\n",
    "wc_sd_blk = blk_b[\"dt_50_ref\"].std()\n",
    "print(wc_mean_blk, wc_sd_blk) \n",
    "\n",
    "wc_mean_tra = tra_b[\"dt_50_ref\"].mean()\n",
    "wc_sd_tra = tra_b[\"dt_50_ref\"].std()\n",
    "print(wc_mean_tra, wc_sd_tra) \n",
    "\n",
    "wc_mean_det = det_b[\"dt_50_ref\"].mean()\n",
    "wc_sd_det = det_b[\"dt_50_ref\"].std()\n",
    "print(wc_mean_det, wc_sd_det) "
   ]
  },
  {
   "cell_type": "code",
   "execution_count": 15,
   "metadata": {},
   "outputs": [
    {
     "name": "stdout",
     "output_type": "stream",
     "text": [
      "(-2.593883483111037, -2.3542871839114667, -1.4340723111289302)\n",
      "(0.4364025170067323, 0.46452037021432674, 0.6641457898089228)\n"
     ]
    }
   ],
   "source": [
    "e_blk = blk_b[\"epsilon_iso\"].mean()\n",
    "e_tra = tra_b[\"epsilon_iso\"].mean()\n",
    "e_det = det_b[\"epsilon_iso\"].mean()\n",
    "\n",
    "print(e_blk, e_tra, e_det)\n",
    "\n",
    "e_sd_blk = blk_b[\"epsilon_iso\"].std()\n",
    "e_sd_tra = tra_b[\"epsilon_iso\"].std()\n",
    "e_sd_det = det_b[\"epsilon_iso\"].std()\n",
    "\n",
    "print(e_sd_blk, e_sd_tra, e_sd_det)"
   ]
  },
  {
   "cell_type": "code",
   "execution_count": 16,
   "metadata": {},
   "outputs": [
    {
     "name": "stdout",
     "output_type": "stream",
     "text": [
      "(1.04, 0.01)\n",
      "(1.02, 0.01)\n"
     ]
    }
   ],
   "source": [
    "AKIE = 1./(1+(15*e_blk/1000.))\n",
    "AKIE_sd = 1./(1+(15*(e_blk-e_sd_blk)/1000.)) - AKIE\n",
    "\n",
    "AKIE_blk = round(AKIE, 2)\n",
    "AKIE_blk_sd = round(AKIE_sd, 2)\n",
    "print(AKIE_blk, AKIE_blk_sd)\n",
    "\n",
    "AKIE = 1./(1+(15*e_det/1000.))\n",
    "AKIE_sd = 1./(1+(15*(e_det-e_sd_det)/1000.)) - AKIE\n",
    "\n",
    "AKIE_det = round(AKIE, 2)\n",
    "AKIE_det_sd = round(AKIE_sd, 2)\n",
    "print(AKIE_det, AKIE_det_sd)"
   ]
  },
  {
   "cell_type": "code",
   "execution_count": 17,
   "metadata": {},
   "outputs": [],
   "source": [
    "# Non-constrained sets\n",
    "fix = dfs_fix.loc[(dfs_fix['Gen'] == 'Gen10')]\n",
    "\n",
    "blk_x = fix.loc[(fix['KGE-CONC-blk'] > .545) & (fix['KGE-d13C-blk'] >  -3.0) & (fix['KGE-Q_out'] >  0.50)]\n",
    "tra_x = fix.loc[(fix['KGE-CONC-tra'] > .545) & (fix['KGE-d13C-tra'] >  -3.0) & (fix['KGE-Q_out'] >  0.50)]\n",
    "det_x = fix.loc[(fix['KGE-CONC-det'] > .545) & (fix['KGE-d13C-det'] >  -3.0) & (fix['KGE-Q_out'] >  0.50)]\n",
    "\n",
    "# blk_x = fix.loc[(fix['KGE-CONC-blk'] > .5) & (fix['KGE-d13C-blk'] >  0.0) & (fix['KGE-Q_out'] >  0.50)]\n",
    "# tra_x = fix.loc[(fix['KGE-CONC-blk'] > .5) & (fix['KGE-d13C-tra'] >  0.0) & (fix['KGE-Q_out'] >  0.50)]\n",
    "# det_x = fix.loc[(fix['KGE-CONC-blk'] > .5) & (fix['KGE-d13C-det'] >  0.0) & (fix['KGE-Q_out'] >  0.50)]\n",
    "\n",
    "# Test 2\n",
    "\n",
    "# blk_x = fix.loc[(fix['KGE-CONC-blk'] > .65) & (fix['KGE-d13C-blk'] >  0.0) & (fix['KGE-Q_out'] >  0.50)]\n",
    "# tra_x = fix.loc[(fix['KGE-CONC-blk'] > .65) & (fix['KGE-d13C-tra'] >  0.0) & (fix['KGE-Q_out'] >  0.50)]\n",
    "# det_x = fix.loc[(fix['KGE-CONC-blk'] > .65) & (fix['KGE-d13C-det'] >  0.0) & (fix['KGE-Q_out'] >  0.50)]\n",
    "\n",
    "nc_fix_blk = blk_x[\"dt_50_ref\"].mean()\n",
    "nc_fix_sd_blk = blk_x[\"dt_50_ref\"].std()\n",
    "nc_fix_blk\n",
    "\n",
    "nc_fix_tra = tra_x[\"dt_50_ref\"].mean()\n",
    "nc_fix_sd_tra = tra_x[\"dt_50_ref\"].std()\n",
    "\n",
    "nc_fix_det = det_x[\"dt_50_ref\"].mean()\n",
    "nc_fix_sd_det = det_x[\"dt_50_ref\"].std()"
   ]
  },
  {
   "cell_type": "code",
   "execution_count": 18,
   "metadata": {},
   "outputs": [
    {
     "data": {
      "image/png": "[encoded data removed]",
      "text/plain": [
       "<Figure size 828x381.6 with 3 Axes>"
      ]
     },
     "metadata": {},
     "output_type": "display_data"
    }
   ],
   "source": [
    "sns.set(rc={'figure.figsize':(11.5, 5.3)}) # Width, height, inches\n",
    "fig, ax = plt.subplots(1, 3, sharex=False, sharey=False)\n",
    "\n",
    "ax1 = ax[0]\n",
    "ax2 = ax[1]\n",
    "ax3 = ax[2]\n",
    "\n",
    "# sns.distplot( blk[\"dt_50_ref\"] , color=\"C4\", label=\"Delta\", ax=ax1)\n",
    "sns.distplot( blk_b[\"dt_50_ref\"] , color=\"C0\", label=\"WIC, Dynamic\", ax=ax1)\n",
    "sns.distplot( blk_c[\"dt_50_ref\"] , color=\"C4\", label=\"NIC, Dynamic\", ax=ax1)\n",
    "# sns.distplot( blk_x[\"dt_50_ref\"] , color=\"C3\", label=\"NIC,fix\", ax=ax1)\n",
    "\n",
    "sns.distplot( tra_b[\"dt_50_ref\"] , color=\"C0\", label=\"WIC, Dynamic\", ax=ax2)\n",
    "sns.distplot( tra_c[\"dt_50_ref\"] , color=\"C4\", label=\"NIC, Dynamic\", ax=ax2)\n",
    "# sns.distplot( tra_x[\"dt_50_ref\"] , color=\"C3\", label=\"NIC,fix\", ax=ax2)\n",
    "\n",
    "sns.distplot( det_b[\"dt_50_ref\"] , color=\"C0\", label=\"WIC, Dynamic\", ax=ax3)\n",
    "sns.distplot( det_c[\"dt_50_ref\"] , color=\"C4\", label=\"NIC, Dynamic\", ax=ax3)\n",
    "# sns.distplot( det_x[\"dt_50_ref\"] , color=\"C3\", label=\"NIC,fix\", ax=ax3)\n",
    "\n",
    "# # sns.distplot( blk2x[\"dt_50_ref\"] , color=\"C4\", label=\"blk2x\", ax=ax)\n",
    "# # sns.distplot( tra2x[\"dt_50_ref\"] , color=\"C3\", label=\"tra2x\", ax=ax)\n",
    "# # sns.distplot( det2x[\"dt_50_ref\"] , color=\"C0\", label=\"det2x\", ax=ax)\n",
    "\n",
    "ax1.set_xlabel(\"DT$_{50,ref}$ (days)\")\n",
    "ax2.set_xlabel(\"DT$_{50,ref}$ (days)\")\n",
    "ax3.set_xlabel(\"DT$_{50,ref}$ (days)\")\n",
    "ax1.set_ylabel(\"$f$ (-)\")\n",
    "\n",
    "ax1.set_title(\"Composite\")\n",
    "ax2.set_title(\"Transects\")\n",
    "ax3.set_title(\"Plots\")\n",
    "\n",
    "ax1.legend()\n",
    "ax2.legend()\n",
    "ax3.legend()\n",
    "\n",
    "# ax1.annotate('$\\overline{DegT_{50}}$='+str(round(nc_mean_blk, 1)), xy=(30, 0.06), # 1.2 \n",
    "#                  xycoords='data')\n",
    "ax1.set_ylim(0.0, 0.15)\n",
    "ax1.annotate('$\\mu_{WIC}$ = '+ str(int(round(wc_mean_blk,0))) + \n",
    "             '$\\pm$' + str(int(wc_sd_blk)), xy=(31, 0.07), # 1.2 \n",
    "                 xycoords='data', color=\"C0\")\n",
    "\n",
    "ax1.annotate('$\\mu_{NIC}$ = '+str(int(round(nc_mean_blk, 0))) + \n",
    "             '$\\pm$' + str(int(round(nc_sd_blk,0))), xy=(31, 0.06), # 1.2 \n",
    "                 xycoords='data', color=\"C4\")\n",
    "\n",
    "\n",
    "# ax1.annotate('$\\mu_{NIC,fix}$ = '+str(int(round(nc_fix_blk,0))) + \n",
    "#              '$\\pm$' + str(int(round(nc_fix_sd_blk, 0))) , xy=(31, 0.05), # 1.2 \n",
    "#                  xycoords='data', color=\"C3\")\n",
    "\n",
    "\n",
    "\n",
    "\n",
    "# B\n",
    "ax2.annotate('$\\mu_{WIC}$ = '+str(int(round(wc_mean_tra, 0))) + \n",
    "             '$\\pm$' + str(int(round(wc_sd_tra,0))), xy=(31, 0.07), # 1.2 \n",
    "                 xycoords='data', color=\"C0\")\n",
    "\n",
    "ax2.annotate('$\\mu_{NIC}$ = '+str(int(round(nc_mean_tra, 0))) + \n",
    "             '$\\pm$' + str(int(round(nc_sd_tra,0))), xy=(31, 0.06), # 1.2 \n",
    "                 xycoords='data', color=\"C4\")\n",
    "\n",
    "# ax2.annotate('$\\mu_{NIC,fix}$ = '+str(int(round(nc_fix_tra,0))) + \n",
    "#              '$\\pm$' + str(int(round(nc_fix_sd_tra, 0))) , xy=(31, 0.05), # 1.2 \n",
    "#                  xycoords='data', color=\"C3\")\n",
    "\n",
    "ax2.set_ylim(0.0, 0.15)\n",
    "\n",
    "# C\n",
    "ax3.annotate('$\\mu_{WIC}$ = '+str(int(round(wc_mean_det, 0))) + \n",
    "             '$\\pm$' + str(int(round(wc_sd_det,0))), xy=(31, 0.07), # 1.2 \n",
    "                 xycoords='data', color=\"C0\")\n",
    "\n",
    "ax3.annotate('$\\mu_{NIC}$ = '+str(int(round(nc_mean_det, 0))) + \n",
    "             '$\\pm$' + str(int(round(nc_sd_det,0))), xy=(31, 0.06), # 1.2 \n",
    "                 xycoords='data', color=\"C4\")\n",
    "# ax3.annotate('$\\mu_{NIC,fix}$ = '+str(int(round(nc_fix_det,0))) + \n",
    "#              '$\\pm$' + str(int(round(nc_fix_sd_det, 0))) , xy=(31, 0.05), # 1.2 \n",
    "#                  xycoords='data', color=\"C3\")\n",
    "ax3.set_ylim(0.0, 0.15)\n",
    "\n",
    "plt.subplots_adjust(left=None, bottom=None, right=None, top=None,\n",
    "                wspace=0.25, hspace=None)\n",
    "\n",
    "# fig.savefig(\"Fig3a_DegT50.pdf\")"
   ]
  },
  {
   "cell_type": "code",
   "execution_count": 19,
   "metadata": {},
   "outputs": [
    {
     "data": {
      "text/plain": [
       "1.3333333333333333"
      ]
     },
     "execution_count": 19,
     "metadata": {},
     "output_type": "execute_result"
    }
   ],
   "source": [
    "24/18."
   ]
  },
  {
   "cell_type": "code",
   "execution_count": 20,
   "metadata": {},
   "outputs": [
    {
     "data": {
      "image/png": "[encoded data removed]",
      "text/plain": [
       "<Figure size 828x381.6 with 3 Axes>"
      ]
     },
     "metadata": {},
     "output_type": "display_data"
    }
   ],
   "source": [
    "sns.set(rc={'figure.figsize':(11.5, 5.3)}) # Width, height, inches\n",
    "fig, ax = plt.subplots(1, 3, sharex=False, sharey=False)\n",
    "\n",
    "ax1 = ax[0]\n",
    "ax2 = ax[1]\n",
    "ax3 = ax[2]\n",
    "\n",
    "# sns.distplot( blk[\"dt_50_ref\"] , color=\"C4\", label=\"Delta\", ax=ax1)\n",
    "sns.distplot( blk_b[\"k_oc\"] , color=\"C0\", label=\"WIC,var\", ax=ax1)\n",
    "sns.distplot( blk_c[\"k_oc\"] , color=\"C4\", label=\"NIC,var\", ax=ax1)\n",
    "sns.distplot( blk_x[\"k_oc\"] , color=\"C3\", label=\"NIC,fix\", ax=ax1)\n",
    "\n",
    "ax1.set_ylim(0.0, 0.0015)\n",
    "ax1.annotate('$\\mu_{WIC,var}$ = '+ str(int(round(blk_b[\"k_oc\"].mean(), 0))) + \n",
    "             '$\\pm$' + str(int(round(blk_b[\"k_oc\"].std(),0))), xy=(-500, 0.0011), # 1.2 \n",
    "                 xycoords='data', color=\"C0\")\n",
    "ax1.annotate('$\\mu_{NIC,var}$ = '+ str(int(round(blk_c[\"k_oc\"].mean(), 0))) + \n",
    "             '$\\pm$' + str(int(round(blk_c[\"k_oc\"].std(),0))), xy=(-500, 0.0010), # 1.2 \n",
    "                 xycoords='data', color=\"C4\")\n",
    "\n",
    "ax1.annotate('$\\mu_{NIC,fix}$ = '+ str(int(round(blk_x[\"k_oc\"].mean(), 0))) + \n",
    "             '$\\pm$' + str(int(round(blk_x[\"k_oc\"].std(),0))), xy=(-500, 0.0009), # 1.2 \n",
    "                 xycoords='data', color=\"C3\")\n",
    "\n",
    "sns.distplot( tra_b[\"k_oc\"] , color=\"C0\", label=\"WIC,var\", ax=ax2)\n",
    "sns.distplot( tra_c[\"k_oc\"] , color=\"C4\", label=\"NIC,var\", ax=ax2)\n",
    "sns.distplot( tra_x[\"k_oc\"] , color=\"C3\", label=\"NIC,fix\", ax=ax2)\n",
    "\n",
    "ax2.set_ylim(0.0, 0.0015)\n",
    "ax2.annotate('$\\mu_{WIC,var}$ = '+ str(int(round(tra_b[\"k_oc\"].mean(), 0))) + \n",
    "             '$\\pm$' + str(int(round(tra_b[\"k_oc\"].std(),0))), xy=(-500, 0.0011), # 1.2 \n",
    "                 xycoords='data', color=\"C0\")\n",
    "ax2.annotate('$\\mu_{NIC,var}$ = '+ str(int(round(tra_c[\"k_oc\"].mean(), 0))) + \n",
    "             '$\\pm$' + str(int(round(tra_c[\"k_oc\"].std(),0))), xy=(-500, 0.0010), # 1.2 \n",
    "                 xycoords='data', color=\"C4\")\n",
    "\n",
    "ax2.annotate('$\\mu_{NIC,fix}$ = '+ str(int(round(tra_x[\"k_oc\"].mean(), 0))) + \n",
    "             '$\\pm$' + str(int(round(tra_x[\"k_oc\"].std(),0))), xy=(-500, 0.0009), # 1.2 \n",
    "                 xycoords='data', color=\"C3\")\n",
    "\n",
    "sns.distplot( det_b[\"k_oc\"] , color=\"C0\", label=\"WIC,var\", ax=ax3)\n",
    "sns.distplot( det_c[\"k_oc\"] , color=\"C4\", label=\"NIC,var\", ax=ax3)\n",
    "sns.distplot( det_x[\"k_oc\"] , color=\"C3\", label=\"NIC,fix\", ax=ax3)\n",
    "\n",
    "ax3.set_ylim(0.0, 0.0015)\n",
    "ax3.annotate('$\\mu_{WIC,var}$ = '+ str(int(round(det_b[\"k_oc\"].mean(), 0))) + \n",
    "             '$\\pm$' + str(int(round(det_b[\"k_oc\"].std(),0))), xy=(-500, 0.0011), # 1.2 \n",
    "                 xycoords='data', color=\"C0\")\n",
    "ax3.annotate('$\\mu_{NIC,var}$ = '+ str(int(round(det_c[\"k_oc\"].mean(), 0))) + \n",
    "             '$\\pm$' + str(int(round(det_c[\"k_oc\"].std(),0))), xy=(-500, 0.0010), # 1.2 \n",
    "                 xycoords='data', color=\"C4\")\n",
    "\n",
    "ax3.annotate('$\\mu_{NIC,fix}$ = '+ str(int(round(det_x[\"k_oc\"].mean(), 0))) + \n",
    "             '$\\pm$' + str(int(round(det_x[\"k_oc\"].std(),0))), xy=(-500, 0.0009), # 1.2 \n",
    "                 xycoords='data', color=\"C3\")\n",
    "\n",
    "ax1.legend()\n",
    "ax2.legend()\n",
    "ax3.legend()\n",
    "\n",
    "ax1.set_xlabel(\"K$_{oc}$ (l/Kg)\")\n",
    "ax2.set_xlabel(\"K$_{oc}$ (l/Kg)\")\n",
    "ax3.set_xlabel(\"K$_{oc}$ (l/Kg)\")\n",
    "ax1.set_ylabel(\"$f$ (-)\")\n",
    "\n",
    "plt.subplots_adjust(left=None, bottom=None, right=None, top=None,\n",
    "                wspace=0.27, hspace=None)\n",
    "\n",
    "# fig.savefig(\"Fig3b_Koc.pdf\")"
   ]
  },
  {
   "cell_type": "code",
   "execution_count": 21,
   "metadata": {},
   "outputs": [
    {
     "name": "stdout",
     "output_type": "stream",
     "text": [
      "(27.751403182209554, 26.300209196640974, 28.210137502707063)\n",
      "(26.157521794462937, 24.84745617604673, 28.757615527814437)\n",
      "(20.807813747416, 25.249150151543848, 27.013491943995582)\n"
     ]
    }
   ],
   "source": [
    "print(blk_b[\"k_d\"].mean(), blk_c[\"k_d\"].mean(), blk_x[\"k_d\"].mean())\n",
    "print(tra_b[\"k_d\"].mean(), tra_c[\"k_d\"].mean(), tra_x[\"k_d\"].mean())\n",
    "print(det_b[\"k_d\"].mean(), det_c[\"k_d\"].mean(), det_x[\"k_d\"].mean())"
   ]
  },
  {
   "cell_type": "code",
   "execution_count": 22,
   "metadata": {},
   "outputs": [
    {
     "name": "stdout",
     "output_type": "stream",
     "text": [
      "(24.57423490933382, 22.35947977826747, 22.213082904490566)\n",
      "(25.335417535075187, 21.915975986211265, 22.223074950109005)\n",
      "(22.826606592681916, 23.13372660348601, 21.79080939085547)\n"
     ]
    }
   ],
   "source": [
    "print(blk_b[\"k_d\"].std(), blk_c[\"k_d\"].std(), blk_x[\"k_d\"].std())\n",
    "print(tra_b[\"k_d\"].std(), tra_c[\"k_d\"].std(), tra_x[\"k_d\"].std())\n",
    "print(det_b[\"k_d\"].std(), det_c[\"k_d\"].std(), det_x[\"k_d\"].std())"
   ]
  },
  {
   "cell_type": "code",
   "execution_count": 23,
   "metadata": {},
   "outputs": [],
   "source": [
    "# fix = dfs_fix.loc[(dfs_fix['Gen'] == 'Gen10')]\n",
    "\n",
    "# blk_c = fix.loc[(fix['KGE-CONC-blk'] > .6) & (fix['KGE-d13C-blk'] >  0.0) & (fix['KGE-Q_out'] >  0.50)]\n",
    "# tra_c = fix.loc[(fix['KGE-CONC-blk'] > .6) & (fix['KGE-d13C-tra'] >  0.0) & (fix['KGE-Q_out'] >  0.50)]\n",
    "# det_c = fix.loc[(fix['KGE-CONC-blk'] > .6) & (fix['KGE-d13C-det'] >  0.0) & (fix['KGE-Q_out'] >  0.50)]\n",
    "\n",
    "# blk_b = fix.loc[(fix['KGE-CONC-blk'] > .0) & (fix['KGE-d13C-blk'] >  0.82) & (fix['KGE-Q_out'] >  0.50)]\n",
    "# tra_b = fix.loc[(fix['KGE-CONC-blk'] > .0) & (fix['KGE-d13C-tra'] >  0.82) & (fix['KGE-Q_out'] >  0.50)]\n",
    "# det_b = fix.loc[(fix['KGE-CONC-blk'] > .0) & (fix['KGE-d13C-det'] >  0.82) & (fix['KGE-Q_out'] >  0.50)]\n",
    "\n",
    "# len(blk_c)"
   ]
  },
  {
   "cell_type": "code",
   "execution_count": 24,
   "metadata": {},
   "outputs": [],
   "source": [
    "# nc_mean_blk = blk_c[\"dt_50_ref\"].mean()\n",
    "# nc_sd_blk = blk_c[\"dt_50_ref\"].std()\n",
    "# print(nc_mean_blk,nc_sd_blk) \n",
    "\n",
    "# nc_mean_tra = tra_c[\"dt_50_ref\"].mean()\n",
    "# nc_sd_tra = tra_c[\"dt_50_ref\"].std()\n",
    "# print(nc_mean_tra, nc_sd_tra) \n",
    "\n",
    "# nc_mean_det = det_c[\"dt_50_ref\"].mean()\n",
    "# nc_sd_det = det_c[\"dt_50_ref\"].std()\n",
    "# print(nc_mean_det,nc_sd_det) \n",
    "\n",
    "# wc_mean_blk = blk_b[\"dt_50_ref\"].mean()\n",
    "# wc_sd_blk = blk_b[\"dt_50_ref\"].std()\n",
    "# print(wc_mean_blk, wc_sd_blk) \n",
    "\n",
    "# wc_mean_tra = tra_b[\"dt_50_ref\"].mean()\n",
    "# wc_sd_tra = tra_b[\"dt_50_ref\"].std()\n",
    "# print(wc_mean_tra, wc_sd_tra) \n",
    "\n",
    "# wc_mean_det = det_b[\"dt_50_ref\"].mean()\n",
    "# wc_sd_det = det_b[\"dt_50_ref\"].std()\n",
    "# print(wc_mean_det, wc_sd_det) "
   ]
  },
  {
   "cell_type": "code",
   "execution_count": 25,
   "metadata": {},
   "outputs": [],
   "source": [
    "# sns.set(rc={'figure.figsize':(9.5, 5.3)}) # Width, height, inches\n",
    "# fig, ax = plt.subplots(1, 3, sharex=False, sharey=False)\n",
    "\n",
    "# ax1 = ax[0]\n",
    "# ax2 = ax[1]\n",
    "# ax3 = ax[2]\n",
    "\n",
    "# # sns.distplot( blk[\"dt_50_ref\"] , color=\"C4\", label=\"Delta\", ax=ax1)\n",
    "# sns.distplot( blk_c[\"dt_50_ref\"] , color=\"C4\", label=\"NC\", ax=ax1)\n",
    "# sns.distplot( blk_b[\"dt_50_ref\"] , color=\"C0\", label=\"WC\", ax=ax1)\n",
    "\n",
    "\n",
    "# sns.distplot( tra_c[\"dt_50_ref\"] , color=\"C4\", label=\"NC\", ax=ax2)\n",
    "# sns.distplot( tra_b[\"dt_50_ref\"] , color=\"C0\", label=\"WC\", ax=ax2)\n",
    "\n",
    "\n",
    "# sns.distplot( det_c[\"dt_50_ref\"] , color=\"C4\", label=\"NC\", ax=ax3)\n",
    "# sns.distplot( det_b[\"dt_50_ref\"] , color=\"C0\", label=\"WC\", ax=ax3)\n",
    "\n",
    "# # # sns.distplot( blk2x[\"dt_50_ref\"] , color=\"C4\", label=\"blk2x\", ax=ax)\n",
    "# # # sns.distplot( tra2x[\"dt_50_ref\"] , color=\"C3\", label=\"tra2x\", ax=ax)\n",
    "# # # sns.distplot( det2x[\"dt_50_ref\"] , color=\"C0\", label=\"det2x\", ax=ax)\n",
    "\n",
    "# ax1.annotate('$\\mu_{NC}$ = '+str(round(nc_mean_blk, 1)) + '$\\pm$' + str(round(nc_sd_blk,1)), xy=(25, 0.07), # 1.2 \n",
    "#                  xycoords='data')\n",
    "# ax1.annotate('$\\mu_{WC}$ = '+str(round(wc_mean_blk, 1)) + '$\\pm$' + str(round(wc_sd_blk,1)), xy=(25, 0.065), # 1.2 \n",
    "#                  xycoords='data')\n",
    "\n",
    "# ax2.annotate('$\\mu_{NC}$ = '+str(round(nc_mean_tra, 1)) + '$\\pm$' + str(round(nc_sd_tra,1)), xy=(22, 0.05), # 1.2 \n",
    "#                  xycoords='data')\n",
    "# ax2.annotate('$\\mu_{WC}$ = '+str(round(wc_mean_tra, 1)) + '$\\pm$' + str(round(wc_sd_tra,1)), xy=(22, 0.04), # 1.2 \n",
    "#                  xycoords='data')\n",
    "\n",
    "# ax3.annotate('$\\mu_{NC}$ = '+str(round(nc_mean_det, 1)) + '$\\pm$' + str(round(nc_sd_det,1)), xy=(22, 0.1), # 1.2 \n",
    "#                  xycoords='data')\n",
    "# ax3.annotate('$\\mu_{WC}$ = '+str(round(wc_mean_det, 1)) + '$\\pm$' + str(round(wc_sd_det,1)), xy=(22, 0.09), # 1.2 \n",
    "#                  xycoords='data')\n",
    "\n",
    "# ax1.set_xlabel(\"DegT$_{50,ref}$ (days)\")\n",
    "# ax2.set_xlabel(\"DegT$_{50,ref}$ (days)\")\n",
    "# ax3.set_xlabel(\"DegT$_{50,ref}$ (days)\")\n",
    "# ax1.set_ylabel(\"$f$ (-)\")\n",
    "\n",
    "# ax1.set_title(\"Bulk\")\n",
    "# ax2.set_title(\"Transects\")\n",
    "# ax3.set_title(\"Plots\")\n",
    "\n",
    "# ax1.legend()\n",
    "# ax2.legend()\n",
    "# ax3.legend()"
   ]
  },
  {
   "cell_type": "code",
   "execution_count": null,
   "metadata": {},
   "outputs": [],
   "source": []
  }
 ],
 "metadata": {
  "kernelspec": {
   "display_name": "bunny",
   "language": "python",
   "name": "bunny"
  },
  "language_info": {
   "codemirror_mode": {
    "name": "ipython",
    "version": 2
   },
   "file_extension": ".py",
   "mimetype": "text/x-python",
   "name": "python",
   "nbconvert_exporter": "python",
   "pygments_lexer": "ipython2",
   "version": "2.7.14"
  }
 },
 "nbformat": 4,
 "nbformat_minor": 2
}
