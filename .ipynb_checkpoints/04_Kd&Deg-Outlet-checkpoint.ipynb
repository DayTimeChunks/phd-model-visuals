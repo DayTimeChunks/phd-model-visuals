{
 "cells": [
  {
   "cell_type": "code",
   "execution_count": 1,
   "metadata": {
    "collapsed": true
   },
   "outputs": [],
   "source": [
    "import numpy as np\n",
    "from helpers import get_dff_fat\n",
    "from constants_v1 import *\n",
    "# Plotting\n",
    "import pandas as pd\n",
    "pd.options.mode.chained_assignment = None  # default='warn'\n",
    "import seaborn as sns\n",
    "# plt.style.use('seaborn-white')\n",
    "import matplotlib.pyplot as plt"
   ]
  },
  {
   "cell_type": "markdown",
   "metadata": {},
   "source": [
    "Notes:\n",
    "    \n",
    "Need more simulations, no feasible comparison between model types."
   ]
  },
  {
   "cell_type": "code",
   "execution_count": 2,
   "metadata": {
    "collapsed": true
   },
   "outputs": [],
   "source": [
    "def facet_scatter(x, y, c, **kwargs):\n",
    "    \"\"\"Draw scatterplot with point colors from a faceted DataFrame columns.\"\"\"\n",
    "    kwargs.pop(\"color\")\n",
    "    plt.scatter(x, y, c=c, **kwargs)\n",
    "    \n",
    "sns.set(rc={'figure.figsize':(11.7,8.27)})"
   ]
  },
  {
   "cell_type": "code",
   "execution_count": 3,
   "metadata": {
    "collapsed": true
   },
   "outputs": [],
   "source": [
    "df = get_dff_fat(new=False, copy=True, version=\"resultsFat_copy.p\")\n",
    "df['K_d'] = df.loc[:, 'k_oc'] * df.loc[:,'f_oc']"
   ]
  },
  {
   "cell_type": "code",
   "execution_count": 9,
   "metadata": {
    "collapsed": false
   },
   "outputs": [
    {
     "name": "stdout",
     "output_type": "stream",
     "text": [
      "(1935, 27, 11)\n"
     ]
    }
   ],
   "source": [
    "# For later, 'KGE-d13C_out', 'NSE-d13C_out'\n",
    "dfs = df[['Model', 'K_d', 'dt_50_ref', \n",
    "          'KGE-CONC-tra' , \n",
    "#           'NSE-CONC-tra',\n",
    "          'KGE-Q_out', 'KGE-CONC_out', \n",
    "#           'KGE-LDS_out'\n",
    "         ]]\n",
    "# Filter\n",
    "ff = dfs.loc[(dfs['KGE-Q_out'] > 0.5) & (dfs['KGE-CONC_out'] > 0.2)] # & (dfs['KGE-LDS_out'] > 0) ]\n",
    "ff_c = dfs.loc[(dfs['KGE-Q_out'] > 0.5) & (dfs['KGE-CONC_out'] > 0.2) & (dfs['KGE-CONC-tra'] > 0) ]\n",
    "# ff = ff.loc[(dfs['KGE-LDS_out'] > 0)]\n",
    "print(len(dfs), len(ff), len(ff_c))"
   ]
  },
  {
   "cell_type": "code",
   "execution_count": 15,
   "metadata": {
    "collapsed": false
   },
   "outputs": [
    {
     "data": {
      "text/plain": [
       "['z3_factor',\n",
       " 'cZ0Z1',\n",
       " 'cZ',\n",
       " 'c_adr',\n",
       " 'k_g',\n",
       " 'gamma01',\n",
       " 'gammaZ',\n",
       " 'f_transp',\n",
       " 'f_oc',\n",
       " 'k_oc',\n",
       " 'beta_runoff',\n",
       " 'dt_50_aged',\n",
       " 'dt_50_ab',\n",
       " 'dt_50_ref',\n",
       " 'epsilon_iso',\n",
       " 'beta_moisture']"
      ]
     },
     "execution_count": 15,
     "metadata": {},
     "output_type": "execute_result"
    }
   ],
   "source": [
    "parameters"
   ]
  },
  {
   "cell_type": "code",
   "execution_count": 10,
   "metadata": {
    "collapsed": false
   },
   "outputs": [
    {
     "data": {
      "text/html": [
       "<div>\n",
       "<style scoped>\n",
       "    .dataframe tbody tr th:only-of-type {\n",
       "        vertical-align: middle;\n",
       "    }\n",
       "\n",
       "    .dataframe tbody tr th {\n",
       "        vertical-align: top;\n",
       "    }\n",
       "\n",
       "    .dataframe thead th {\n",
       "        text-align: right;\n",
       "    }\n",
       "</style>\n",
       "<table border=\"1\" class=\"dataframe\">\n",
       "  <thead>\n",
       "    <tr style=\"text-align: right;\">\n",
       "      <th></th>\n",
       "      <th>Model</th>\n",
       "      <th>K_d</th>\n",
       "      <th>dt_50_ref</th>\n",
       "      <th>KGE-CONC-tra</th>\n",
       "      <th>KGE-Q_out</th>\n",
       "      <th>KGE-CONC_out</th>\n",
       "    </tr>\n",
       "  </thead>\n",
       "  <tbody>\n",
       "    <tr>\n",
       "      <th>LHS_be1fix3/26/</th>\n",
       "      <td>fix</td>\n",
       "      <td>24.736747</td>\n",
       "      <td>14.129402</td>\n",
       "      <td>0.646923</td>\n",
       "      <td>0.571050</td>\n",
       "      <td>0.255708</td>\n",
       "    </tr>\n",
       "    <tr>\n",
       "      <th>LHS_be1fix3/40/</th>\n",
       "      <td>fix</td>\n",
       "      <td>219.101355</td>\n",
       "      <td>37.147221</td>\n",
       "      <td>-0.331854</td>\n",
       "      <td>0.691740</td>\n",
       "      <td>0.274416</td>\n",
       "    </tr>\n",
       "    <tr>\n",
       "      <th>LHS_be1fix3/86/</th>\n",
       "      <td>fix</td>\n",
       "      <td>26.080781</td>\n",
       "      <td>11.111072</td>\n",
       "      <td>0.648254</td>\n",
       "      <td>0.513788</td>\n",
       "      <td>0.213255</td>\n",
       "    </tr>\n",
       "    <tr>\n",
       "      <th>LHS_be1var1/69/</th>\n",
       "      <td>var</td>\n",
       "      <td>157.209957</td>\n",
       "      <td>29.146181</td>\n",
       "      <td>0.127653</td>\n",
       "      <td>0.512051</td>\n",
       "      <td>0.275811</td>\n",
       "    </tr>\n",
       "    <tr>\n",
       "      <th>LHS_bo1fix1/112/</th>\n",
       "      <td>fix</td>\n",
       "      <td>64.890880</td>\n",
       "      <td>31.281039</td>\n",
       "      <td>-0.104359</td>\n",
       "      <td>0.617138</td>\n",
       "      <td>0.251022</td>\n",
       "    </tr>\n",
       "  </tbody>\n",
       "</table>\n",
       "</div>"
      ],
      "text/plain": [
       "                 Model         K_d  dt_50_ref  KGE-CONC-tra  KGE-Q_out  \\\n",
       "LHS_be1fix3/26/    fix   24.736747  14.129402      0.646923   0.571050   \n",
       "LHS_be1fix3/40/    fix  219.101355  37.147221     -0.331854   0.691740   \n",
       "LHS_be1fix3/86/    fix   26.080781  11.111072      0.648254   0.513788   \n",
       "LHS_be1var1/69/    var  157.209957  29.146181      0.127653   0.512051   \n",
       "LHS_bo1fix1/112/   fix   64.890880  31.281039     -0.104359   0.617138   \n",
       "\n",
       "                  KGE-CONC_out  \n",
       "LHS_be1fix3/26/       0.255708  \n",
       "LHS_be1fix3/40/       0.274416  \n",
       "LHS_be1fix3/86/       0.213255  \n",
       "LHS_be1var1/69/       0.275811  \n",
       "LHS_bo1fix1/112/      0.251022  "
      ]
     },
     "execution_count": 10,
     "metadata": {},
     "output_type": "execute_result"
    }
   ],
   "source": [
    "ff.head()"
   ]
  },
  {
   "cell_type": "markdown",
   "metadata": {},
   "source": [
    "## With constraint on Outlet Q $m^3/h$"
   ]
  },
  {
   "cell_type": "code",
   "execution_count": 11,
   "metadata": {
    "collapsed": true
   },
   "outputs": [],
   "source": [
    "vmin, vmax = ff['KGE-CONC_out'].min(), ff['KGE-CONC_out'].max()\n",
    "cmap = sns.diverging_palette(10, 240, l=65, center=\"light\", as_cmap=True)\n",
    "# cmap = sns.diverging_palette(275, 150, s=80, l=55, center=\"dark\", as_cmap=True)\n",
    "\n",
    "xmin, xmax = ff['dt_50_ref'].min(), ff['dt_50_ref'].max()\n",
    "ymin, ymax = ff['K_d'].min(), ff['K_d'].max()"
   ]
  },
  {
   "cell_type": "code",
   "execution_count": 14,
   "metadata": {
    "collapsed": false
   },
   "outputs": [
    {
     "data": {
      "image/png": "[encoded data removed]",
      "text/plain": [
       "<Figure size 432x216 with 3 Axes>"
      ]
     },
     "metadata": {},
     "output_type": "display_data"
    }
   ],
   "source": [
    "g = sns.FacetGrid(ff, col='Model', palette='viridis')\n",
    "g = g.map(facet_scatter, 'dt_50_ref', 'K_d', \"KGE-CONC_out\",\n",
    "          s=100, alpha=0.5, vmin=vmin, vmax=vmax, cmap=cmap)\n",
    "\n",
    "\n",
    "g.axes[0,0].set_ylim(ymin, ymax)\n",
    "g.axes[0,1].set_ylim(ymin, ymax)\n",
    "g.axes[0,0].set_xlim(xmin, xmax) # left plot\n",
    "g.axes[0,1].set_xlim(xmin, xmax) # right plot\n",
    "\n",
    "# Make space for the colorbar\n",
    "g.fig.subplots_adjust(right=.92)\n",
    "\n",
    "# Define a new Axes where the colorbar will go\n",
    "cax = g.fig.add_axes([.94, .25, .02, .6])\n",
    "\n",
    "# Get a mappable object with the same colormap as the data\n",
    "points = plt.scatter([], [], c=[], vmin=vmin, vmax=vmax, cmap=cmap)\n",
    "\n",
    "# Draw the colorbar\n",
    "g.fig.colorbar(points, cax=cax)\n",
    "# g.savefig(\"DT50vsKd_out.pdf\")"
   ]
  },
  {
   "cell_type": "markdown",
   "metadata": {},
   "source": [
    "## With constraint on Soil and Outlet Conc."
   ]
  },
  {
   "cell_type": "code",
   "execution_count": 13,
   "metadata": {
    "collapsed": false
   },
   "outputs": [
    {
     "data": {
      "text/plain": [
       "<matplotlib.colorbar.Colorbar at 0x1a20a97bd0>"
      ]
     },
     "execution_count": 13,
     "metadata": {},
     "output_type": "execute_result"
    },
    {
     "data": {
      "image/png": "[encoded data removed]",
      "text/plain": [
       "<Figure size 432x216 with 3 Axes>"
      ]
     },
     "metadata": {},
     "output_type": "display_data"
    }
   ],
   "source": [
    "g = sns.FacetGrid(ff_c, col='Model', palette='viridis')\n",
    "g = g.map(facet_scatter, 'dt_50_ref', 'K_d', \"KGE-CONC_out\",\n",
    "          s=100, alpha=0.5, vmin=vmin, vmax=vmax, cmap=cmap)\n",
    "\n",
    "g.axes[0,0].set_ylim(ymin, ymax)\n",
    "g.axes[0,1].set_ylim(ymin, ymax)\n",
    "g.axes[0,0].set_xlim(xmin, xmax) # left plot\n",
    "g.axes[0,1].set_xlim(xmin, xmax) # right plot\n",
    "\n",
    "# Make space for the colorbar\n",
    "g.fig.subplots_adjust(right=.92)\n",
    "\n",
    "# Define a new Axes where the colorbar will go\n",
    "cax = g.fig.add_axes([.94, .25, .02, .6])\n",
    "\n",
    "# Get a mappable object with the same colormap as the data\n",
    "points = plt.scatter([], [], c=[], vmin=vmin, vmax=vmax, cmap=cmap)\n",
    "\n",
    "# Draw the colorbar\n",
    "g.fig.colorbar(points, cax=cax)\n",
    "# g.savefig(\"DT50vsKd_out.pdf\")"
   ]
  },
  {
   "cell_type": "code",
   "execution_count": null,
   "metadata": {
    "collapsed": true
   },
   "outputs": [],
   "source": []
  }
 ],
 "metadata": {
  "kernelspec": {
   "display_name": "bunny",
   "language": "python",
   "name": "bunny"
  },
  "language_info": {
   "codemirror_mode": {
    "name": "ipython",
    "version": 2
   },
   "file_extension": ".py",
   "mimetype": "text/x-python",
   "name": "python",
   "nbconvert_exporter": "python",
   "pygments_lexer": "ipython2",
   "version": "2.7.14"
  }
 },
 "nbformat": 4,
 "nbformat_minor": 2
}
