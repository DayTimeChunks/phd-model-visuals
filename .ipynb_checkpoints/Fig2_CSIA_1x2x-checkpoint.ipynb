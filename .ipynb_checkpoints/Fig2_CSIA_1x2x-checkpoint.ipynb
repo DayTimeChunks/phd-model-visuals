{
 "cells": [
  {
   "cell_type": "code",
   "execution_count": 4,
   "metadata": {},
   "outputs": [],
   "source": [
    "path = '../phd-model-process/'\n",
    "\n",
    "import pandas as pd\n",
    "pd.options.mode.chained_assignment = None  # default='warn'\n",
    "import numpy as np\n",
    "import scipy as sp\n",
    "import scipy.stats as st\n",
    "\n",
    "from helpers_pd import *\n",
    "\n",
    "# Plotting\n",
    "import seaborn as sns\n",
    "sns.set()\n",
    "# import seaborn as sns; sns.set(style=\"ticks\", color_codes=True)\n",
    "# sns.set(style=\"darkgrid\")\n",
    "import matplotlib.pyplot as plt\n",
    "# plt.style.use('seaborn-white')"
   ]
  },
  {
   "cell_type": "code",
   "execution_count": 5,
   "metadata": {},
   "outputs": [],
   "source": [
    "palette = [\"#F44336\", '#673AB7', '#3F51B5', '#009688', '#FF9800', '#4CAF50', '#03A9F4']\n",
    "# red, purple, indigo, teal-green, orange, green, light-blue\n",
    "# https://matplotlib.org/users/dflt_style_changes.html"
   ]
  },
  {
   "cell_type": "markdown",
   "metadata": {},
   "source": [
    "# Extracting observed Conc."
   ]
  },
  {
   "cell_type": "code",
   "execution_count": 6,
   "metadata": {},
   "outputs": [
    {
     "data": {
      "text/html": [
       "<div>\n",
       "<style scoped>\n",
       "    .dataframe tbody tr th:only-of-type {\n",
       "        vertical-align: middle;\n",
       "    }\n",
       "\n",
       "    .dataframe tbody tr th {\n",
       "        vertical-align: top;\n",
       "    }\n",
       "\n",
       "    .dataframe thead th {\n",
       "        text-align: right;\n",
       "    }\n",
       "</style>\n",
       "<table border=\"1\" class=\"dataframe\">\n",
       "  <thead>\n",
       "    <tr style=\"text-align: right;\">\n",
       "      <th></th>\n",
       "      <th>Jdays</th>\n",
       "      <th>DayMoYr</th>\n",
       "      <th>IDcal</th>\n",
       "      <th>d13C</th>\n",
       "      <th>d13C.SD</th>\n",
       "    </tr>\n",
       "  </thead>\n",
       "  <tbody>\n",
       "    <tr>\n",
       "      <th>0</th>\n",
       "      <td>188</td>\n",
       "      <td>2016-04-05</td>\n",
       "      <td>B-188</td>\n",
       "      <td>-31.225186</td>\n",
       "      <td>0.640023</td>\n",
       "    </tr>\n",
       "    <tr>\n",
       "      <th>1</th>\n",
       "      <td>197</td>\n",
       "      <td>2016-04-14</td>\n",
       "      <td>B-197</td>\n",
       "      <td>-31.200375</td>\n",
       "      <td>0.303478</td>\n",
       "    </tr>\n",
       "    <tr>\n",
       "      <th>2</th>\n",
       "      <td>201</td>\n",
       "      <td>2016-04-18</td>\n",
       "      <td>B-201</td>\n",
       "      <td>-31.496359</td>\n",
       "      <td>0.390947</td>\n",
       "    </tr>\n",
       "    <tr>\n",
       "      <th>3</th>\n",
       "      <td>209</td>\n",
       "      <td>2016-04-26</td>\n",
       "      <td>B-209</td>\n",
       "      <td>-31.239331</td>\n",
       "      <td>0.542286</td>\n",
       "    </tr>\n",
       "    <tr>\n",
       "      <th>4</th>\n",
       "      <td>216</td>\n",
       "      <td>2016-05-03</td>\n",
       "      <td>B-216</td>\n",
       "      <td>-30.682124</td>\n",
       "      <td>0.434045</td>\n",
       "    </tr>\n",
       "  </tbody>\n",
       "</table>\n",
       "</div>"
      ],
      "text/plain": [
       "   Jdays     DayMoYr  IDcal       d13C   d13C.SD\n",
       "0    188  2016-04-05  B-188 -31.225186  0.640023\n",
       "1    197  2016-04-14  B-197 -31.200375  0.303478\n",
       "2    201  2016-04-18  B-201 -31.496359  0.390947\n",
       "3    209  2016-04-26  B-209 -31.239331  0.542286\n",
       "4    216  2016-05-03  B-216 -30.682124  0.434045"
      ]
     },
     "execution_count": 6,
     "metadata": {},
     "output_type": "execute_result"
    }
   ],
   "source": [
    "obs_d13c = pd.read_table(path + 'observations/d13c_bulk_cal.tss')\n",
    "obs_conc = pd.read_table(path + 'observations/conc_bulk_cal.tss')\n",
    "p_b = pd.read_table(path + 'observations/p_bAve.tss')\n",
    "obs_d13c.head()"
   ]
  },
  {
   "cell_type": "markdown",
   "metadata": {},
   "source": [
    "# Selecting indexes"
   ]
  },
  {
   "cell_type": "code",
   "execution_count": 7,
   "metadata": {},
   "outputs": [],
   "source": [
    "gen_1x = \"Gen10\"\n",
    "gen_2x = \"Gen11\"\n",
    "\n",
    "df10 = get_data(gen=gen_1x)\n",
    "df11 = get_data(gen=gen_2x)\n",
    "print(len(df10), len(df11))\n",
    "\n",
    "df10[\"Gen\"] = gen_1x\n",
    "df11[\"Gen\"] = gen_2x\n",
    "df = pd.concat([df10, \n",
    "                df11\n",
    "               ])"
   ]
  },
  {
   "cell_type": "code",
   "execution_count": 8,
   "metadata": {},
   "outputs": [],
   "source": [
    "# Index names\n",
    "df['Name'] = df['Gen'] + \"/\" + df.index\n",
    "df = df.set_index('Name')\n",
    "# 'LHS_s2fix7/10/' in list(df.index)"
   ]
  },
  {
   "cell_type": "code",
   "execution_count": 9,
   "metadata": {},
   "outputs": [],
   "source": [
    "df['k_d'] = df.loc[:, 'k_oc'] * df.loc[:,'f_oc']\n",
    "# Combined outlet and transects KGE Concentrations and d13C\n",
    "df['KGE-SM'] = (df.loc[:, 'KGE-CONC_out'] + df.loc[:, 'KGE-CONC-blk'])/2.0  \n",
    "df['KGE-d13C'] = (df.loc[:, 'KGE-d13C_out'] + df.loc[:, 'KGE-d13C-blk'])/2.0\n",
    "df['epsilon_iso'] *= -1\n",
    "dfs_all = df[['Model', \"Gen\",\n",
    "          'dt_50_ref',\n",
    "          'dt_50_ab',\n",
    "          'k_d',\n",
    "          'k_oc',\n",
    "          'epsilon_iso',\n",
    "          'KGE-CONC-blk','KGE-d13C-blk',\n",
    "          'KGE-CONC-tra','KGE-d13C-tra',\n",
    "          'KGE-CONC-det','KGE-d13C-det',\n",
    "          'KGE-CONC_out', 'KGE-d13C_out',\n",
    "          'KGE-SM', 'KGE-d13C',\n",
    "          'KGE-Q_out'\n",
    "          ]]"
   ]
  },
  {
   "cell_type": "code",
   "execution_count": 10,
   "metadata": {},
   "outputs": [
    {
     "name": "stdout",
     "output_type": "stream",
     "text": [
      "(1005, 112, 72)\n",
      "(72, 0)\n"
     ]
    }
   ],
   "source": [
    "# Filter\n",
    "# cst = 0.8\n",
    "# dfs['Constraint'] = dfs.apply(BlkIso, args=(cst,), axis=1)\n",
    "\n",
    "dfs = dfs_all.loc[(dfs_all['Model'] == 'var')]\n",
    "dfs_fix = dfs_all.loc[(dfs_all['Model'] == 'fix')]\n",
    "\n",
    "\n",
    "# Global\n",
    "# ff = dfs.loc[(dfs['KGE-SM'] > 0.5)] # Try 25 with more data points\n",
    "# ff_c = dfs.loc[(dfs['KGE-SM'] > 0.25) & (dfs['KGE-d13C'] >  cst)]\n",
    "\n",
    "# Soil\n",
    "ff = dfs.loc[(dfs['KGE-CONC-blk'] > 0.60) & (dfs['KGE-Q_out'] >  0.50)] # Try 25 with more data points\n",
    "ff_c = dfs.loc[(dfs['KGE-CONC-blk'] > 0.0) & (dfs['KGE-d13C-blk'] >  0.80) & (dfs['KGE-Q_out'] >  0.50)]\n",
    "\n",
    "\n",
    "# Outlet\n",
    "# ff = dfs.loc[(dfs['KGE-CONC_out'] > 0.20)] # Try 25 with more data points\n",
    "# ff_c = dfs.loc[(dfs['KGE-CONC_out'] > 0.20) & (dfs['KGE-d13C_out'] >  0.2)]\n",
    "\n",
    "print(len(dfs), len(ff), len(ff_c))\n",
    "# ff.tail()\n",
    "print(len(ff_c.loc[(ff_c['Gen']==\"Gen10\")]), \n",
    "      len(ff_c.loc[(ff_c['Gen']==\"Gen11\")]))"
   ]
  },
  {
   "cell_type": "code",
   "execution_count": 11,
   "metadata": {},
   "outputs": [],
   "source": [
    "# New sampling\n",
    "# dfs_fix"
   ]
  },
  {
   "cell_type": "markdown",
   "metadata": {},
   "source": [
    "## All models"
   ]
  },
  {
   "cell_type": "code",
   "execution_count": 12,
   "metadata": {},
   "outputs": [
    {
     "name": "stdout",
     "output_type": "stream",
     "text": [
      "Maximum Q\n",
      "(0.769832923058568, 0.5284275029940944)\n",
      "Maximum Conc.\n",
      "(0.8027419410432288, 0.483226275596356, 0.5657178152771112)\n",
      "Maximum d13C\n",
      "(0.957449515054865, 0.6328847080874456, 0.7357240056647683)\n"
     ]
    }
   ],
   "source": [
    "print(\"Maximum Q\")\n",
    "print(df['KGE-Q_out'].max(), df['NSE-Q_out'].max()) \n",
    "print(\"Maximum Conc.\")\n",
    "print(df['KGE-CONC-blk'].max(), df['KGE-CONC_out'].max(), df['KGE-SM'].max()) \n",
    "print(\"Maximum d13C\")\n",
    "print(df['KGE-d13C-blk'].max(), df['KGE-d13C_out'].max(), df['KGE-d13C'].max()) "
   ]
  },
  {
   "cell_type": "markdown",
   "metadata": {},
   "source": [
    "# Extracting time series"
   ]
  },
  {
   "cell_type": "code",
   "execution_count": 14,
   "metadata": {},
   "outputs": [
    {
     "ename": "NameError",
     "evalue": "name 'gen_2x' is not defined",
     "output_type": "error",
     "traceback": [
      "\u001b[0;31m---------------------------------------------------------------------------\u001b[0m",
      "\u001b[0;31mNameError\u001b[0m                                 Traceback (most recent call last)",
      "\u001b[0;32m<ipython-input-14-c43e7880d1df>\u001b[0m in \u001b[0;36m<module>\u001b[0;34m()\u001b[0m\n\u001b[1;32m      3\u001b[0m \u001b[0;31m#################\u001b[0m\u001b[0;34m\u001b[0m\u001b[0;34m\u001b[0m\u001b[0m\n\u001b[1;32m      4\u001b[0m \u001b[0;34m\u001b[0m\u001b[0m\n\u001b[0;32m----> 5\u001b[0;31m \u001b[0mwc_g11\u001b[0m \u001b[0;34m=\u001b[0m \u001b[0mff_c\u001b[0m\u001b[0;34m.\u001b[0m\u001b[0mindex\u001b[0m\u001b[0;34m[\u001b[0m\u001b[0;34m(\u001b[0m\u001b[0mff_c\u001b[0m\u001b[0;34m[\u001b[0m\u001b[0;34m\"Gen\"\u001b[0m\u001b[0;34m]\u001b[0m\u001b[0;34m==\u001b[0m\u001b[0mgen_2x\u001b[0m\u001b[0;34m)\u001b[0m\u001b[0;34m]\u001b[0m\u001b[0;34m.\u001b[0m\u001b[0mtolist\u001b[0m\u001b[0;34m(\u001b[0m\u001b[0;34m)\u001b[0m \u001b[0;31m#[0]\u001b[0m\u001b[0;34m\u001b[0m\u001b[0m\n\u001b[0m\u001b[1;32m      6\u001b[0m \u001b[0;31m# nc_g11 = ff.index[(ff[\"Gen\"]==gen_2x)].tolist() #[0]\u001b[0m\u001b[0;34m\u001b[0m\u001b[0;34m\u001b[0m\u001b[0m\n\u001b[1;32m      7\u001b[0m \u001b[0;34m\u001b[0m\u001b[0m\n",
      "\u001b[0;31mNameError\u001b[0m: name 'gen_2x' is not defined"
     ]
    }
   ],
   "source": [
    "#################\n",
    "# Panel A (Gen11)\n",
    "#################\n",
    "\n",
    "wc_g11 = ff_c.index[(ff_c[\"Gen\"]==gen_2x)].tolist() #[0]\n",
    "nc_g11 = ff.index[(ff[\"Gen\"]==gen_2x)].tolist() #[0]\n",
    "\n",
    "# wc_g10 = ff_c.index[(ff_c[\"Gen\"]==gen_1x)].tolist() #[0]\n",
    "# nc_g10 = ff.index[(ff[\"Gen\"]==gen_1x)].tolist() #[0]\n"
   ]
  },
  {
   "cell_type": "code",
   "execution_count": 11,
   "metadata": {},
   "outputs": [],
   "source": [
    "sets_wc_g11 = get_sets_bulk(wc_g11, path, p_b)\n",
    "sets_nc_g11 = get_sets_bulk(nc_g11, path, p_b)\n"
   ]
  },
  {
   "cell_type": "code",
   "execution_count": 12,
   "metadata": {},
   "outputs": [],
   "source": [
    "time = sets_wc_g11.filter(like=\"Jdays\")\n",
    "conc_wc_g11 = sets_wc_g11.filter(like='Conc')\n",
    "conc_nc_g11 = sets_nc_g11.filter(like='Conc')\n",
    "conc_wc_g11 = pd.concat([time, conc_wc_g11], axis=1, join='inner')\n",
    "conc_nc_g11 = pd.concat([time, conc_nc_g11], axis=1, join='inner')"
   ]
  },
  {
   "cell_type": "code",
   "execution_count": 13,
   "metadata": {},
   "outputs": [],
   "source": [
    "# Stats\n",
    "wc_stat_g11_conc = get_stats_bulk(conc_wc_g11, 'Conc', 'WC') # All Gen11\n",
    "nc_stat_g11_conc = get_stats_bulk(conc_nc_g11, 'Conc', 'NC') # All Gen11"
   ]
  },
  {
   "cell_type": "code",
   "execution_count": 14,
   "metadata": {},
   "outputs": [],
   "source": [
    "# Merged with OBS\n",
    "conc_wc_g11 = pd.merge(wc_stat_g11_conc, obs_conc, how='outer', on='IDcal')\n",
    "conc_nc_g11 = pd.merge(nc_stat_g11_conc, obs_conc, how='outer', on='IDcal')"
   ]
  },
  {
   "cell_type": "code",
   "execution_count": 15,
   "metadata": {},
   "outputs": [],
   "source": [
    "##################################\n",
    "# All other panels: Gen11 + Gen10\n",
    "##################################\n",
    "\n",
    "# wc_g11 is generated above already!\n",
    "wc_g10 = ff_c.index[(ff_c[\"Gen\"]==gen_1x)].tolist() #[0]\n",
    "sets_wc_g10 = get_sets_bulk(wc_g10, path, p_b)"
   ]
  },
  {
   "cell_type": "code",
   "execution_count": 16,
   "metadata": {},
   "outputs": [],
   "source": [
    "##################################\n",
    "# Panel B (DT50) and D (Epsilon) \n",
    "##################################\n",
    "wc_g10_df = ff_c.loc[(ff_c[\"Gen\"]==gen_1x)]\n",
    "wc_g11_df = ff_c.loc[(ff_c[\"Gen\"]==gen_2x)]\n",
    "\n",
    "nc_g10_df = ff.loc[(ff[\"Gen\"]==gen_1x)]\n",
    "nc_g11_df = ff.loc[(ff[\"Gen\"]==gen_2x) ]\n",
    "\n",
    "\n",
    "##################################\n",
    "# Panel C: d13C\n",
    "##################################\n",
    "time = sets_wc_g11.filter(like=\"Jdays\")\n",
    "\n",
    "d13c_g10 = sets_wc_g10.filter(like='d13C')\n",
    "d13c_g11 = sets_wc_g11.filter(like='d13C')\n",
    "\n",
    "d13c_tg10 = pd.concat([time, d13c_g10], axis=1, join='inner')\n",
    "d13c_tg11 = pd.concat([time, d13c_g11], axis=1, join='inner')\n",
    "\n",
    "stat_d13c_g10 = get_stats_bulk(d13c_tg10, 'd13C', 'WC-1x') # Gen10 \n",
    "stat_d13c_g11 = get_stats_bulk(d13c_tg11, 'd13C', 'WC-2x') # Gen11\n",
    "\n",
    "# Merged with OBS\n",
    "d13c_wc_g10 = pd.merge(stat_d13c_g10, obs_d13c, how='outer', on='IDcal')\n",
    "d13c_wc_g11 = pd.merge(stat_d13c_g11, obs_d13c, how='outer', on='IDcal')"
   ]
  },
  {
   "cell_type": "markdown",
   "metadata": {},
   "source": [
    "## Convert to arrays"
   ]
  },
  {
   "cell_type": "code",
   "execution_count": 17,
   "metadata": {},
   "outputs": [
    {
     "data": {
      "text/html": [
       "<div>\n",
       "<style scoped>\n",
       "    .dataframe tbody tr th:only-of-type {\n",
       "        vertical-align: middle;\n",
       "    }\n",
       "\n",
       "    .dataframe tbody tr th {\n",
       "        vertical-align: top;\n",
       "    }\n",
       "\n",
       "    .dataframe thead th {\n",
       "        text-align: right;\n",
       "    }\n",
       "</style>\n",
       "<table border=\"1\" class=\"dataframe\">\n",
       "  <thead>\n",
       "    <tr style=\"text-align: right;\">\n",
       "      <th></th>\n",
       "      <th>Jdays_x</th>\n",
       "      <th>mean</th>\n",
       "      <th>high</th>\n",
       "      <th>low</th>\n",
       "      <th>max</th>\n",
       "      <th>min</th>\n",
       "      <th>sd</th>\n",
       "      <th>IDcal</th>\n",
       "      <th>Type</th>\n",
       "      <th>Jdays_y</th>\n",
       "      <th>DayMoYr</th>\n",
       "      <th>ug.g</th>\n",
       "      <th>ug.g.SD</th>\n",
       "    </tr>\n",
       "  </thead>\n",
       "  <tbody>\n",
       "    <tr>\n",
       "      <th>0</th>\n",
       "      <td>166</td>\n",
       "      <td>0.075268</td>\n",
       "      <td>0.075678</td>\n",
       "      <td>0.074859</td>\n",
       "      <td>0.075457</td>\n",
       "      <td>0.074832</td>\n",
       "      <td>0.000205</td>\n",
       "      <td>B-166</td>\n",
       "      <td>WC</td>\n",
       "      <td>NaN</td>\n",
       "      <td>NaN</td>\n",
       "      <td>NaN</td>\n",
       "      <td>NaN</td>\n",
       "    </tr>\n",
       "    <tr>\n",
       "      <th>1</th>\n",
       "      <td>167</td>\n",
       "      <td>0.081017</td>\n",
       "      <td>0.081897</td>\n",
       "      <td>0.080137</td>\n",
       "      <td>0.081424</td>\n",
       "      <td>0.080082</td>\n",
       "      <td>0.000440</td>\n",
       "      <td>B-167</td>\n",
       "      <td>WC</td>\n",
       "      <td>NaN</td>\n",
       "      <td>NaN</td>\n",
       "      <td>NaN</td>\n",
       "      <td>NaN</td>\n",
       "    </tr>\n",
       "    <tr>\n",
       "      <th>2</th>\n",
       "      <td>168</td>\n",
       "      <td>0.080653</td>\n",
       "      <td>0.081966</td>\n",
       "      <td>0.079341</td>\n",
       "      <td>0.081261</td>\n",
       "      <td>0.079260</td>\n",
       "      <td>0.000656</td>\n",
       "      <td>B-168</td>\n",
       "      <td>WC</td>\n",
       "      <td>NaN</td>\n",
       "      <td>NaN</td>\n",
       "      <td>NaN</td>\n",
       "      <td>NaN</td>\n",
       "    </tr>\n",
       "    <tr>\n",
       "      <th>3</th>\n",
       "      <td>169</td>\n",
       "      <td>0.080291</td>\n",
       "      <td>0.082031</td>\n",
       "      <td>0.078551</td>\n",
       "      <td>0.081097</td>\n",
       "      <td>0.078446</td>\n",
       "      <td>0.000870</td>\n",
       "      <td>B-169</td>\n",
       "      <td>WC</td>\n",
       "      <td>NaN</td>\n",
       "      <td>NaN</td>\n",
       "      <td>NaN</td>\n",
       "      <td>NaN</td>\n",
       "    </tr>\n",
       "    <tr>\n",
       "      <th>4</th>\n",
       "      <td>170</td>\n",
       "      <td>0.079930</td>\n",
       "      <td>0.082092</td>\n",
       "      <td>0.077768</td>\n",
       "      <td>0.080934</td>\n",
       "      <td>0.077640</td>\n",
       "      <td>0.001081</td>\n",
       "      <td>B-170</td>\n",
       "      <td>WC</td>\n",
       "      <td>NaN</td>\n",
       "      <td>NaN</td>\n",
       "      <td>NaN</td>\n",
       "      <td>NaN</td>\n",
       "    </tr>\n",
       "  </tbody>\n",
       "</table>\n",
       "</div>"
      ],
      "text/plain": [
       "   Jdays_x      mean      high       low       max       min        sd  IDcal  \\\n",
       "0      166  0.075268  0.075678  0.074859  0.075457  0.074832  0.000205  B-166   \n",
       "1      167  0.081017  0.081897  0.080137  0.081424  0.080082  0.000440  B-167   \n",
       "2      168  0.080653  0.081966  0.079341  0.081261  0.079260  0.000656  B-168   \n",
       "3      169  0.080291  0.082031  0.078551  0.081097  0.078446  0.000870  B-169   \n",
       "4      170  0.079930  0.082092  0.077768  0.080934  0.077640  0.001081  B-170   \n",
       "\n",
       "  Type  Jdays_y DayMoYr  ug.g  ug.g.SD  \n",
       "0   WC      NaN     NaN   NaN      NaN  \n",
       "1   WC      NaN     NaN   NaN      NaN  \n",
       "2   WC      NaN     NaN   NaN      NaN  \n",
       "3   WC      NaN     NaN   NaN      NaN  \n",
       "4   WC      NaN     NaN   NaN      NaN  "
      ]
     },
     "execution_count": 17,
     "metadata": {},
     "output_type": "execute_result"
    }
   ],
   "source": [
    "conc_wc_g11.head()"
   ]
  },
  {
   "cell_type": "code",
   "execution_count": 18,
   "metadata": {},
   "outputs": [],
   "source": [
    "# time\n",
    "time_arr =  np.array(conc_wc_g11['Jdays_x']-171)\n",
    "# Observed Conc\n",
    "arr_obs_conc = np.array(conc_wc_g11['ug.g'])\n",
    "arr_err = np.array(conc_wc_g11['ug.g.SD'])\n",
    "\n",
    "# Observed d13C\n",
    "arr_obs_d13c = np.array(d13c_wc_g11['d13C'])\n",
    "arr_err_d13c = np.array(d13c_wc_g11['d13C.SD'])\n",
    "\n",
    "# Variable model\n",
    "# G1 only - Conc.\n",
    "wc_conc_mean_g11 = np.array(conc_wc_g11['mean'])\n",
    "wc_conc_high_g11 = np.array(conc_wc_g11['high'])\n",
    "wc_conc_low_g11 = np.array(conc_wc_g11['low'])\n",
    "\n",
    "wc_d13c_mean_g11 = np.array(d13c_wc_g11['mean'])\n",
    "wc_d13c_high_g11 = np.array(d13c_wc_g11['high'])\n",
    "wc_d13c_low_g11 = np.array(d13c_wc_g11['low'])\n",
    "\n",
    "nc_conc_mean_g11 = np.array(conc_nc_g11['mean'])\n",
    "nc_conc_high_g11 = np.array(conc_nc_g11['high'])\n",
    "nc_conc_low_g11 = np.array(conc_nc_g11['low'])\n",
    "\n",
    "# G1 and G6 - d13c\n",
    "var_d13c_mean_g11 = np.array(d13c_wc_g11['mean'])\n",
    "var_d13c_high_g11 = np.array(d13c_wc_g11['high'])\n",
    "var_d13c_low_g11 = np.array(d13c_wc_g11['low'])\n",
    "\n",
    "var_d13c_mean_g10 = np.array(d13c_wc_g10['mean'])\n",
    "var_d13c_high_g10 = np.array(d13c_wc_g10['high'])\n",
    "var_d13c_low_g10 = np.array(d13c_wc_g10['low'])"
   ]
  },
  {
   "cell_type": "code",
   "execution_count": 19,
   "metadata": {},
   "outputs": [
    {
     "data": {
      "image/png": "[encoded data removed]",
      "text/plain": [
       "<Figure size 842.4x595.44 with 4 Axes>"
      ]
     },
     "metadata": {},
     "output_type": "display_data"
    }
   ],
   "source": [
    "sns.set(rc={'figure.figsize':(11.7, 8.27)})\n",
    "# ES&T max width, 1 column = 3.25in, 2-col = 7in \n",
    "sns.set_context(\"paper\")\n",
    "# sns.set(rc={'figure.figsize':(7.0, 7.3)}) # Width, height, inches\n",
    "\n",
    "fig, axes = plt.subplots(2, 2, sharex=False, sharey=False)\n",
    "\n",
    "ax1 = axes[0,0]\n",
    "ax2 = axes[0,1]\n",
    "ax3 = axes[1,0]\n",
    "ax4 = axes[1,1]\n",
    "\n",
    "# Panel A\n",
    "##############\n",
    "# Obs Conc\n",
    "ax1.errorbar(time_arr, arr_obs_conc, arr_err, c= \"black\")\n",
    "ax1.scatter(time_arr, arr_obs_conc, c= \"black\", marker='.', label=\"BLK\")\n",
    "\n",
    "# NC Conc - G1, 2x\n",
    "ax1.plot(time_arr, nc_conc_mean_g11, label='NC-2x', c= \"C3\") \n",
    "ax1.fill_between(time_arr, nc_conc_high_g11, nc_conc_low_g11, color= \"C3\", alpha=0.5)\n",
    "\n",
    "# WC Conc - G1, 2x\n",
    "ax1.plot(time_arr, wc_conc_mean_g11, label='WC-2x', c= \"C2\")\n",
    "ax1.fill_between(time_arr, wc_conc_high_g11, wc_conc_low_g11, color= \"C2\", alpha=0.5)\n",
    "\n",
    "\n",
    "\n",
    "ax1.set_ylabel(\"[SM] ($\\mu g$ $g^{-1}$ soil d.wt.)\")\n",
    "# ax1.set_xlabel(\"Days after 1st App.\")\n",
    "ax1.legend(loc=\"upper right\")\n",
    "\n",
    "# Panel B\n",
    "##############\n",
    "sns.distplot( nc_g10_df[\"dt_50_ref\"] , color=\"C4\", label=\"NC-1x\", ax=ax2)\n",
    "sns.distplot( nc_g11_df[\"dt_50_ref\"] , color=\"C3\", label=\"NC-2x\", ax=ax2)\n",
    "sns.distplot( wc_g10_df[\"dt_50_ref\"] , color=\"C0\", label=\"WC-1x\", ax=ax2)\n",
    "sns.distplot( wc_g11_df[\"dt_50_ref\"] , color=\"C2\", label=\"WC-2x\", ax=ax2)\n",
    "\n",
    "ax2.set_xlabel(\"DT50 (days)\")\n",
    "ax2.set_ylabel(\"$f$ (-)\")\n",
    "ax2.legend()\n",
    "\n",
    "# Panel C\n",
    "##############\n",
    "# Var d13c\n",
    "ax3.plot(time_arr, var_d13c_mean_g10, label='WC-1x', c=\"C0\") # c= \"red\", marker='.', linestyle=':'\n",
    "ax3.fill_between(time_arr, var_d13c_high_g10, var_d13c_low_g10,  color= \"C0\", alpha=0.5)\n",
    "\n",
    "ax3.plot(time_arr, var_d13c_mean_g11, label='WC-2x', c=\"C2\") # c= \"red\", marker='.', linestyle=':'\n",
    "ax3.fill_between(time_arr, var_d13c_high_g11, var_d13c_low_g11,  color= \"C2\", alpha=0.5)\n",
    "ax3.legend(loc=\"upper left\")\n",
    "\n",
    "# Obs d13c\n",
    "ax3.errorbar(time_arr, arr_obs_d13c, arr_err_d13c, c= \"black\")\n",
    "ax3.scatter(time_arr, arr_obs_d13c, c= \"black\", marker='.', label=\"BLK\")\n",
    "ax3.legend(loc=\"upper left\")\n",
    "ax3.set_ylabel(\"$\\delta ^{13}C$ \" + u'(\\u2030)')\n",
    "ax3.set_xlabel(\"Days after 1st App.\")\n",
    "\n",
    "# Panel D\n",
    "##############\n",
    "sns.distplot( wc_g10_df[\"epsilon_iso\"] , color=\"C0\", label=\"WC-1x\", ax=ax4)\n",
    "sns.distplot( wc_g11_df[\"epsilon_iso\"] , color=\"C2\", label=\"WC-2x\", ax=ax4)\n",
    "\n",
    "ax4.legend()\n",
    "ax4.set_xlabel(\"$\\epsilon$ \" + u'(\\u2030)')\n",
    "ax4.set_ylabel(\"$f$ (-)\")\n",
    "\n",
    "plt.subplots_adjust(left=None, bottom=None, right=None, top=None,\n",
    "                wspace=0.33, hspace=0.30)"
   ]
  },
  {
   "cell_type": "markdown",
   "metadata": {},
   "source": [
    "https://python-graph-gallery.com/25-histogram-with-several-variables-seaborn/"
   ]
  },
  {
   "cell_type": "code",
   "execution_count": 51,
   "metadata": {},
   "outputs": [
    {
     "name": "stdout",
     "output_type": "stream",
     "text": [
      "(21.344884839322187, 9.789529771130091)\n"
     ]
    }
   ],
   "source": [
    "all_gen1x = dfs_all.loc[(dfs_all['Gen'] == 'Gen10')]\n",
    "nc_all_blk = all_gen1x.loc[(all_gen1x['KGE-CONC-blk'] > 0.6) & (all_gen1x['KGE-d13C-blk'] >  0.0) & (all_gen1x['KGE-Q_out'] >  0.50) ]\n",
    "\n",
    "nc_mean_all = nc_all_blk[\"dt_50_ref\"].mean()\n",
    "nc_sd_all = nc_all_blk[\"dt_50_ref\"].std()\n",
    "print(nc_mean_all,nc_sd_all) "
   ]
  },
  {
   "cell_type": "code",
   "execution_count": 20,
   "metadata": {},
   "outputs": [],
   "source": [
    "# Soil Detailed\n",
    "# ff = dfs.loc[(dfs['KGE-CONC-blk'] > 0.60) & (dfs['KGE-Q_out'] >  0.50)] # Try 25 with more data points\n",
    "# ff_c = dfs.loc[(dfs['KGE-CONC-blk'] > 0.60) & (dfs['KGE-d13C-blk'] >  0.50)]\n",
    "gen1x = dfs.loc[(dfs['Gen'] == 'Gen10')]\n",
    "# gen2x = dfs.loc[(dfs['Gen'] == 'Gen11')]\n",
    "\n",
    "blk = gen1x.loc[(gen1x['KGE-CONC-blk'] > 0.0) & (gen1x['KGE-d13C-blk'] >  0.85) & (gen1x['KGE-Q_out'] >  0.50) ]\n",
    "tra = gen1x.loc[(gen1x['KGE-CONC-blk'] > 0.0) & (gen1x['KGE-d13C-tra'] >  0.85) & (gen1x['KGE-Q_out'] >  0.50) ]\n",
    "det = gen1x.loc[(gen1x['KGE-CONC-blk'] > 0.0) & (gen1x['KGE-d13C-det'] >  0.82) & (gen1x['KGE-Q_out'] >  0.50) ]\n",
    "\n",
    "blk_c = gen1x.loc[(gen1x['KGE-CONC-blk'] > .6) & (gen1x['KGE-d13C-blk'] >  0.0) & (gen1x['KGE-Q_out'] >  0.50)]\n",
    "tra_c = gen1x.loc[(gen1x['KGE-CONC-blk'] > .6) & (gen1x['KGE-d13C-tra'] >  0.0) & (gen1x['KGE-Q_out'] >  0.50)]\n",
    "det_c = gen1x.loc[(gen1x['KGE-CONC-blk'] > .6) & (gen1x['KGE-d13C-det'] >  0.0) & (gen1x['KGE-Q_out'] >  0.50)]\n",
    "\n",
    "blk_b = gen1x.loc[(gen1x['KGE-CONC-blk'] > .6) & (gen1x['KGE-d13C-blk'] >  0.82) & (gen1x['KGE-Q_out'] >  0.50)]\n",
    "tra_b = gen1x.loc[(gen1x['KGE-CONC-blk'] > .6) & (gen1x['KGE-d13C-tra'] >  0.82) & (gen1x['KGE-Q_out'] >  0.50)]\n",
    "det_b = gen1x.loc[(gen1x['KGE-CONC-blk'] > .6) & (gen1x['KGE-d13C-det'] >  0.82) & (gen1x['KGE-Q_out'] >  0.50)]\n",
    "\n",
    "# blk2x = gen2x.loc[(gen2x['KGE-CONC-blk'] > 0.0) & (gen2x['KGE-d13C-blk'] >  0.80) & (gen2x['KGE-Q_out'] >  0.50)]\n",
    "# tra2x = gen2x.loc[(gen2x['KGE-CONC-blk'] > 0.0) & (gen2x['KGE-d13C-tra'] >  0.80) & (gen2x['KGE-Q_out'] >  0.50)]\n",
    "# det2x = gen2x.loc[(gen2x['KGE-CONC-blk'] > 0.0) & (gen2x['KGE-d13C-det'] >  0.80) & (gen2x['KGE-Q_out'] >  0.50)]"
   ]
  },
  {
   "cell_type": "code",
   "execution_count": 21,
   "metadata": {},
   "outputs": [
    {
     "name": "stdout",
     "output_type": "stream",
     "text": [
      "(27.847604526429677, 8.306665785733838)\n",
      "(28.674672262105663, 8.61966395776385)\n",
      "(25.244795199064324, 11.105013089771495)\n"
     ]
    }
   ],
   "source": [
    "print(blk[\"dt_50_ref\"].mean(),blk[\"dt_50_ref\"].std()) \n",
    "print(tra[\"dt_50_ref\"].mean(),tra[\"dt_50_ref\"].std()) \n",
    "print(det[\"dt_50_ref\"].mean(),det[\"dt_50_ref\"].std()) "
   ]
  },
  {
   "cell_type": "code",
   "execution_count": 22,
   "metadata": {},
   "outputs": [
    {
     "name": "stdout",
     "output_type": "stream",
     "text": [
      "(16.600542999770717, 9.578271526187091)\n",
      "(18.037806062530255, 10.53543921194536)\n",
      "(19.6414162896161, 11.10928449904044)\n"
     ]
    }
   ],
   "source": [
    "nc_mean_blk = blk_c[\"dt_50_ref\"].mean()\n",
    "nc_sd_blk = blk_c[\"dt_50_ref\"].std()\n",
    "print(nc_mean_blk,nc_sd_blk) \n",
    "\n",
    "nc_mean_tra = tra_c[\"dt_50_ref\"].mean()\n",
    "nc_sd_tra = tra_c[\"dt_50_ref\"].std()\n",
    "print(nc_mean_tra, nc_sd_tra) \n",
    "\n",
    "nc_mean_det = det_c[\"dt_50_ref\"].mean()\n",
    "nc_sd_det = det_c[\"dt_50_ref\"].std()\n",
    "print(nc_mean_det,nc_sd_det) "
   ]
  },
  {
   "cell_type": "code",
   "execution_count": 23,
   "metadata": {},
   "outputs": [
    {
     "name": "stdout",
     "output_type": "stream",
     "text": [
      "(15.83449094388038, 4.14057675472802)\n",
      "(18.155464689779098, 3.6016801620805596)\n",
      "(13.91084973324143, 3.6799089118374804)\n"
     ]
    }
   ],
   "source": [
    "wc_mean_blk = blk_b[\"dt_50_ref\"].mean()\n",
    "wc_sd_blk = blk_b[\"dt_50_ref\"].std()\n",
    "print(wc_mean_blk, wc_sd_blk) \n",
    "\n",
    "wc_mean_tra = tra_b[\"dt_50_ref\"].mean()\n",
    "wc_sd_tra = tra_b[\"dt_50_ref\"].std()\n",
    "print(wc_mean_tra, wc_sd_tra) \n",
    "\n",
    "wc_mean_det = det_b[\"dt_50_ref\"].mean()\n",
    "wc_sd_det = det_b[\"dt_50_ref\"].std()\n",
    "print(wc_mean_det, wc_sd_det) "
   ]
  },
  {
   "cell_type": "code",
   "execution_count": 24,
   "metadata": {},
   "outputs": [
    {
     "name": "stdout",
     "output_type": "stream",
     "text": [
      "(-2.405126811035951, -2.107566641777065, -1.2265678369944375)\n",
      "(0.34442626223021, 0.43416923049950445, 0.3378206348413651)\n"
     ]
    }
   ],
   "source": [
    "e_blk = blk_b[\"epsilon_iso\"].mean()\n",
    "e_tra = tra_b[\"epsilon_iso\"].mean()\n",
    "e_det = det_b[\"epsilon_iso\"].mean()\n",
    "\n",
    "print(e_blk, e_tra, e_det)\n",
    "\n",
    "e_sd_blk = blk_b[\"epsilon_iso\"].std()\n",
    "e_sd_tra = tra_b[\"epsilon_iso\"].std()\n",
    "e_sd_det = det_b[\"epsilon_iso\"].std()\n",
    "\n",
    "print(e_sd_blk, e_sd_tra, e_sd_det)"
   ]
  },
  {
   "cell_type": "code",
   "execution_count": 25,
   "metadata": {},
   "outputs": [
    {
     "name": "stdout",
     "output_type": "stream",
     "text": [
      "(1.04, 0.01)\n",
      "(1.02, 0.01)\n"
     ]
    }
   ],
   "source": [
    "AKIE = 1./(1+(15*e_blk/1000.))\n",
    "AKIE_sd = 1./(1+(15*(e_blk-e_sd_blk)/1000.)) - AKIE\n",
    "\n",
    "AKIE_blk = round(AKIE, 2)\n",
    "AKIE_blk_sd = round(AKIE_sd, 2)\n",
    "print(AKIE_blk, AKIE_blk_sd)\n",
    "\n",
    "AKIE = 1./(1+(15*e_det/1000.))\n",
    "AKIE_sd = 1./(1+(15*(e_det-e_sd_det)/1000.)) - AKIE\n",
    "\n",
    "AKIE_det = round(AKIE, 2)\n",
    "AKIE_det_sd = round(AKIE_sd, 2)\n",
    "print(AKIE_det, AKIE_det_sd)"
   ]
  },
  {
   "cell_type": "code",
   "execution_count": 38,
   "metadata": {},
   "outputs": [
    {
     "data": {
      "text/plain": [
       "24.477940771101455"
      ]
     },
     "execution_count": 38,
     "metadata": {},
     "output_type": "execute_result"
    }
   ],
   "source": [
    "# Non-constrained sets\n",
    "fix = dfs_fix.loc[(dfs_fix['Gen'] == 'Gen10')]\n",
    "\n",
    "blk_x = fix.loc[(fix['KGE-CONC-blk'] > .6) & (fix['KGE-d13C-blk'] >  0.0) & (fix['KGE-Q_out'] >  0.50)]\n",
    "tra_x = fix.loc[(fix['KGE-CONC-blk'] > .6) & (fix['KGE-d13C-tra'] >  0.0) & (fix['KGE-Q_out'] >  0.50)]\n",
    "det_x = fix.loc[(fix['KGE-CONC-blk'] > .6) & (fix['KGE-d13C-det'] >  0.0) & (fix['KGE-Q_out'] >  0.50)]\n",
    "\n",
    "nc_fix_blk = blk_x[\"dt_50_ref\"].mean()\n",
    "nc_fix_sd_blk = blk_x[\"dt_50_ref\"].std()\n",
    "nc_fix_blk"
   ]
  },
  {
   "cell_type": "code",
   "execution_count": 52,
   "metadata": {},
   "outputs": [
    {
     "data": {
      "image/png": "[encoded data removed]",
      "text/plain": [
       "<Figure size 828x381.6 with 3 Axes>"
      ]
     },
     "metadata": {},
     "output_type": "display_data"
    }
   ],
   "source": [
    "sns.set(rc={'figure.figsize':(11.5, 5.3)}) # Width, height, inches\n",
    "fig, ax = plt.subplots(1, 3, sharex=False, sharey=False)\n",
    "\n",
    "ax1 = ax[0]\n",
    "ax2 = ax[1]\n",
    "ax3 = ax[2]\n",
    "\n",
    "# sns.distplot( blk[\"dt_50_ref\"] , color=\"C4\", label=\"Delta\", ax=ax1)\n",
    "sns.distplot( blk_b[\"dt_50_ref\"] , color=\"C0\", label=\"WC,var\", ax=ax1)\n",
    "sns.distplot( blk_c[\"dt_50_ref\"] , color=\"C4\", label=\"NC,var\", ax=ax1)\n",
    "sns.distplot( blk_x[\"dt_50_ref\"] , color=\"C3\", label=\"NC,fix\", ax=ax1)\n",
    "\n",
    "sns.distplot( tra_b[\"dt_50_ref\"] , color=\"C0\", label=\"WC,var\", ax=ax2)\n",
    "sns.distplot( tra_c[\"dt_50_ref\"] , color=\"C4\", label=\"NC,var\", ax=ax2)\n",
    "\n",
    "sns.distplot( det_b[\"dt_50_ref\"] , color=\"C0\", label=\"WC,var\", ax=ax3)\n",
    "sns.distplot( det_c[\"dt_50_ref\"] , color=\"C4\", label=\"NC,var\", ax=ax3)\n",
    "\n",
    "# # sns.distplot( blk2x[\"dt_50_ref\"] , color=\"C4\", label=\"blk2x\", ax=ax)\n",
    "# # sns.distplot( tra2x[\"dt_50_ref\"] , color=\"C3\", label=\"tra2x\", ax=ax)\n",
    "# # sns.distplot( det2x[\"dt_50_ref\"] , color=\"C0\", label=\"det2x\", ax=ax)\n",
    "\n",
    "ax1.set_xlabel(\"DegT$_{50,ref}$ (days)\")\n",
    "ax2.set_xlabel(\"DegT$_{50,ref}$ (days)\")\n",
    "ax3.set_xlabel(\"DegT$_{50,ref}$ (days)\")\n",
    "ax1.set_ylabel(\"$f$ (-)\")\n",
    "\n",
    "ax1.set_title(\"Bulk\")\n",
    "ax2.set_title(\"Transects\")\n",
    "ax3.set_title(\"Plots\")\n",
    "\n",
    "ax1.legend()\n",
    "ax2.legend()\n",
    "ax3.legend()\n",
    "\n",
    "# ax1.annotate('$\\overline{DegT_{50}}$='+str(round(nc_mean_blk, 1)), xy=(30, 0.06), # 1.2 \n",
    "#                  xycoords='data')\n",
    "\n",
    "ax1.annotate('$\\mu_{WC,var}$ = '+str(round(wc_mean_blk, 1)) + '$\\pm$' + str(round(wc_sd_blk,1)), xy=(26, 0.065), # 1.2 \n",
    "                 xycoords='data')\n",
    "\n",
    "ax1.annotate('$\\mu_{NC,var}$ = '+str(round(nc_mean_blk, 1)) + '$\\pm$' + str(round(nc_sd_blk,1)), xy=(26, 0.06), # 1.2 \n",
    "                 xycoords='data')\n",
    "\n",
    "\n",
    "ax1.annotate('$\\mu_{NC,fix}$ = '+str(round(nc_fix_blk, 1)) + '$\\pm$' + str(round(nc_fix_sd_blk,1)) , xy=(31, 0.04), # 1.2 \n",
    "                 xycoords='data')\n",
    "\n",
    "\n",
    "ax2.annotate('$\\mu_{WC,var}$ = '+str(round(wc_mean_tra, 1)) + '$\\pm$' + str(round(wc_sd_tra,1)), xy=(23, 0.1), # 1.2 \n",
    "                 xycoords='data')\n",
    "\n",
    "ax2.annotate('$\\mu_{NC,var}$ = '+str(round(nc_mean_tra, 1)) + '$\\pm$' + str(round(nc_sd_tra,1)), xy=(23, 0.093), # 1.2 \n",
    "                 xycoords='data')\n",
    "\n",
    "ax3.annotate('$\\mu_{NC,var}$ = '+str(round(nc_mean_det, 1)) + '$\\pm$' + str(round(nc_sd_det,1)), xy=(22, 0.185), # 1.2 \n",
    "                 xycoords='data')\n",
    "ax3.annotate('$\\mu_{WC,var}$ = '+str(round(wc_mean_det, 1)) + '$\\pm$' + str(round(wc_sd_det,1)), xy=(22, 0.2), # 1.2 \n",
    "                 xycoords='data')\n",
    "\n",
    "plt.subplots_adjust(left=None, bottom=None, right=None, top=None,\n",
    "                wspace=0.25, hspace=None)\n",
    "\n",
    "fig.savefig(\"Fig2_DegT50.pdf\")"
   ]
  },
  {
   "cell_type": "code",
   "execution_count": null,
   "metadata": {},
   "outputs": [],
   "source": []
  },
  {
   "cell_type": "code",
   "execution_count": 28,
   "metadata": {},
   "outputs": [],
   "source": [
    "# fix = dfs_fix.loc[(dfs_fix['Gen'] == 'Gen10')]\n",
    "\n",
    "# blk_c = fix.loc[(fix['KGE-CONC-blk'] > .6) & (fix['KGE-d13C-blk'] >  0.0) & (fix['KGE-Q_out'] >  0.50)]\n",
    "# tra_c = fix.loc[(fix['KGE-CONC-blk'] > .6) & (fix['KGE-d13C-tra'] >  0.0) & (fix['KGE-Q_out'] >  0.50)]\n",
    "# det_c = fix.loc[(fix['KGE-CONC-blk'] > .6) & (fix['KGE-d13C-det'] >  0.0) & (fix['KGE-Q_out'] >  0.50)]\n",
    "\n",
    "# blk_b = fix.loc[(fix['KGE-CONC-blk'] > .0) & (fix['KGE-d13C-blk'] >  0.82) & (fix['KGE-Q_out'] >  0.50)]\n",
    "# tra_b = fix.loc[(fix['KGE-CONC-blk'] > .0) & (fix['KGE-d13C-tra'] >  0.82) & (fix['KGE-Q_out'] >  0.50)]\n",
    "# det_b = fix.loc[(fix['KGE-CONC-blk'] > .0) & (fix['KGE-d13C-det'] >  0.82) & (fix['KGE-Q_out'] >  0.50)]\n",
    "\n",
    "# len(blk_c)"
   ]
  },
  {
   "cell_type": "code",
   "execution_count": 29,
   "metadata": {},
   "outputs": [],
   "source": [
    "# nc_mean_blk = blk_c[\"dt_50_ref\"].mean()\n",
    "# nc_sd_blk = blk_c[\"dt_50_ref\"].std()\n",
    "# print(nc_mean_blk,nc_sd_blk) \n",
    "\n",
    "# nc_mean_tra = tra_c[\"dt_50_ref\"].mean()\n",
    "# nc_sd_tra = tra_c[\"dt_50_ref\"].std()\n",
    "# print(nc_mean_tra, nc_sd_tra) \n",
    "\n",
    "# nc_mean_det = det_c[\"dt_50_ref\"].mean()\n",
    "# nc_sd_det = det_c[\"dt_50_ref\"].std()\n",
    "# print(nc_mean_det,nc_sd_det) \n",
    "\n",
    "# wc_mean_blk = blk_b[\"dt_50_ref\"].mean()\n",
    "# wc_sd_blk = blk_b[\"dt_50_ref\"].std()\n",
    "# print(wc_mean_blk, wc_sd_blk) \n",
    "\n",
    "# wc_mean_tra = tra_b[\"dt_50_ref\"].mean()\n",
    "# wc_sd_tra = tra_b[\"dt_50_ref\"].std()\n",
    "# print(wc_mean_tra, wc_sd_tra) \n",
    "\n",
    "# wc_mean_det = det_b[\"dt_50_ref\"].mean()\n",
    "# wc_sd_det = det_b[\"dt_50_ref\"].std()\n",
    "# print(wc_mean_det, wc_sd_det) "
   ]
  },
  {
   "cell_type": "code",
   "execution_count": 30,
   "metadata": {},
   "outputs": [],
   "source": [
    "# sns.set(rc={'figure.figsize':(9.5, 5.3)}) # Width, height, inches\n",
    "# fig, ax = plt.subplots(1, 3, sharex=False, sharey=False)\n",
    "\n",
    "# ax1 = ax[0]\n",
    "# ax2 = ax[1]\n",
    "# ax3 = ax[2]\n",
    "\n",
    "# # sns.distplot( blk[\"dt_50_ref\"] , color=\"C4\", label=\"Delta\", ax=ax1)\n",
    "# sns.distplot( blk_c[\"dt_50_ref\"] , color=\"C4\", label=\"NC\", ax=ax1)\n",
    "# sns.distplot( blk_b[\"dt_50_ref\"] , color=\"C0\", label=\"WC\", ax=ax1)\n",
    "\n",
    "\n",
    "# sns.distplot( tra_c[\"dt_50_ref\"] , color=\"C4\", label=\"NC\", ax=ax2)\n",
    "# sns.distplot( tra_b[\"dt_50_ref\"] , color=\"C0\", label=\"WC\", ax=ax2)\n",
    "\n",
    "\n",
    "# sns.distplot( det_c[\"dt_50_ref\"] , color=\"C4\", label=\"NC\", ax=ax3)\n",
    "# sns.distplot( det_b[\"dt_50_ref\"] , color=\"C0\", label=\"WC\", ax=ax3)\n",
    "\n",
    "# # # sns.distplot( blk2x[\"dt_50_ref\"] , color=\"C4\", label=\"blk2x\", ax=ax)\n",
    "# # # sns.distplot( tra2x[\"dt_50_ref\"] , color=\"C3\", label=\"tra2x\", ax=ax)\n",
    "# # # sns.distplot( det2x[\"dt_50_ref\"] , color=\"C0\", label=\"det2x\", ax=ax)\n",
    "\n",
    "# ax1.annotate('$\\mu_{NC}$ = '+str(round(nc_mean_blk, 1)) + '$\\pm$' + str(round(nc_sd_blk,1)), xy=(25, 0.07), # 1.2 \n",
    "#                  xycoords='data')\n",
    "# ax1.annotate('$\\mu_{WC}$ = '+str(round(wc_mean_blk, 1)) + '$\\pm$' + str(round(wc_sd_blk,1)), xy=(25, 0.065), # 1.2 \n",
    "#                  xycoords='data')\n",
    "\n",
    "# ax2.annotate('$\\mu_{NC}$ = '+str(round(nc_mean_tra, 1)) + '$\\pm$' + str(round(nc_sd_tra,1)), xy=(22, 0.05), # 1.2 \n",
    "#                  xycoords='data')\n",
    "# ax2.annotate('$\\mu_{WC}$ = '+str(round(wc_mean_tra, 1)) + '$\\pm$' + str(round(wc_sd_tra,1)), xy=(22, 0.04), # 1.2 \n",
    "#                  xycoords='data')\n",
    "\n",
    "# ax3.annotate('$\\mu_{NC}$ = '+str(round(nc_mean_det, 1)) + '$\\pm$' + str(round(nc_sd_det,1)), xy=(22, 0.1), # 1.2 \n",
    "#                  xycoords='data')\n",
    "# ax3.annotate('$\\mu_{WC}$ = '+str(round(wc_mean_det, 1)) + '$\\pm$' + str(round(wc_sd_det,1)), xy=(22, 0.09), # 1.2 \n",
    "#                  xycoords='data')\n",
    "\n",
    "# ax1.set_xlabel(\"DegT$_{50,ref}$ (days)\")\n",
    "# ax2.set_xlabel(\"DegT$_{50,ref}$ (days)\")\n",
    "# ax3.set_xlabel(\"DegT$_{50,ref}$ (days)\")\n",
    "# ax1.set_ylabel(\"$f$ (-)\")\n",
    "\n",
    "# ax1.set_title(\"Bulk\")\n",
    "# ax2.set_title(\"Transects\")\n",
    "# ax3.set_title(\"Plots\")\n",
    "\n",
    "# ax1.legend()\n",
    "# ax2.legend()\n",
    "# ax3.legend()"
   ]
  },
  {
   "cell_type": "code",
   "execution_count": null,
   "metadata": {},
   "outputs": [],
   "source": []
  }
 ],
 "metadata": {
  "kernelspec": {
   "display_name": "bunny",
   "language": "python",
   "name": "bunny"
  },
  "language_info": {
   "codemirror_mode": {
    "name": "ipython",
    "version": 2
   },
   "file_extension": ".py",
   "mimetype": "text/x-python",
   "name": "python",
   "nbconvert_exporter": "python",
   "pygments_lexer": "ipython2",
   "version": "2.7.14"
  }
 },
 "nbformat": 4,
 "nbformat_minor": 2
}
