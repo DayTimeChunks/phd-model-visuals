{
 "cells": [
  {
   "cell_type": "code",
   "execution_count": 1,
   "metadata": {},
   "outputs": [],
   "source": [
    "path = '../phd-model-process/'\n",
    "\n",
    "import pandas as pd\n",
    "pd.options.mode.chained_assignment = None  # default='warn'\n",
    "import numpy as np\n",
    "import scipy as sp\n",
    "import scipy.stats as st\n",
    "\n",
    "from helpers_pd import *\n",
    "\n",
    "# Plotting\n",
    "import seaborn as sns\n",
    "sns.set()\n",
    "# import seaborn as sns; sns.set(style=\"ticks\", color_codes=True)\n",
    "# sns.set(style=\"darkgrid\")\n",
    "import matplotlib.pyplot as plt\n",
    "# plt.style.use('seaborn-white')"
   ]
  },
  {
   "cell_type": "code",
   "execution_count": 2,
   "metadata": {},
   "outputs": [],
   "source": [
    "palette = [\"#F44336\", '#673AB7', '#3F51B5', '#009688', '#FF9800', '#4CAF50', '#03A9F4']\n",
    "# red, purple, indigo, teal-green, orange, green, light-blue\n",
    "# https://matplotlib.org/users/dflt_style_changes.html"
   ]
  },
  {
   "cell_type": "markdown",
   "metadata": {},
   "source": [
    "# Extracting observed Conc."
   ]
  },
  {
   "cell_type": "code",
   "execution_count": 3,
   "metadata": {},
   "outputs": [
    {
     "data": {
      "text/html": [
       "<div>\n",
       "<style scoped>\n",
       "    .dataframe tbody tr th:only-of-type {\n",
       "        vertical-align: middle;\n",
       "    }\n",
       "\n",
       "    .dataframe tbody tr th {\n",
       "        vertical-align: top;\n",
       "    }\n",
       "\n",
       "    .dataframe thead th {\n",
       "        text-align: right;\n",
       "    }\n",
       "</style>\n",
       "<table border=\"1\" class=\"dataframe\">\n",
       "  <thead>\n",
       "    <tr style=\"text-align: right;\">\n",
       "      <th></th>\n",
       "      <th>Jdays</th>\n",
       "      <th>DayMoYr</th>\n",
       "      <th>IDcal</th>\n",
       "      <th>d13C</th>\n",
       "      <th>d13C.SD</th>\n",
       "    </tr>\n",
       "  </thead>\n",
       "  <tbody>\n",
       "    <tr>\n",
       "      <th>0</th>\n",
       "      <td>188</td>\n",
       "      <td>2016-04-05</td>\n",
       "      <td>B-188</td>\n",
       "      <td>-31.225186</td>\n",
       "      <td>0.640023</td>\n",
       "    </tr>\n",
       "    <tr>\n",
       "      <th>1</th>\n",
       "      <td>197</td>\n",
       "      <td>2016-04-14</td>\n",
       "      <td>B-197</td>\n",
       "      <td>-31.200375</td>\n",
       "      <td>0.303478</td>\n",
       "    </tr>\n",
       "    <tr>\n",
       "      <th>2</th>\n",
       "      <td>201</td>\n",
       "      <td>2016-04-18</td>\n",
       "      <td>B-201</td>\n",
       "      <td>-31.496359</td>\n",
       "      <td>0.390947</td>\n",
       "    </tr>\n",
       "    <tr>\n",
       "      <th>3</th>\n",
       "      <td>209</td>\n",
       "      <td>2016-04-26</td>\n",
       "      <td>B-209</td>\n",
       "      <td>-31.239331</td>\n",
       "      <td>0.542286</td>\n",
       "    </tr>\n",
       "    <tr>\n",
       "      <th>4</th>\n",
       "      <td>216</td>\n",
       "      <td>2016-05-03</td>\n",
       "      <td>B-216</td>\n",
       "      <td>-30.682124</td>\n",
       "      <td>0.434045</td>\n",
       "    </tr>\n",
       "  </tbody>\n",
       "</table>\n",
       "</div>"
      ],
      "text/plain": [
       "   Jdays     DayMoYr  IDcal       d13C   d13C.SD\n",
       "0    188  2016-04-05  B-188 -31.225186  0.640023\n",
       "1    197  2016-04-14  B-197 -31.200375  0.303478\n",
       "2    201  2016-04-18  B-201 -31.496359  0.390947\n",
       "3    209  2016-04-26  B-209 -31.239331  0.542286\n",
       "4    216  2016-05-03  B-216 -30.682124  0.434045"
      ]
     },
     "execution_count": 3,
     "metadata": {},
     "output_type": "execute_result"
    }
   ],
   "source": [
    "obs_d13c = pd.read_table(path + 'observations/d13c_bulk_cal.tss')\n",
    "obs_conc = pd.read_table(path + 'observations/conc_bulk_cal.tss')\n",
    "p_b = pd.read_table(path + 'observations/p_bAve.tss')\n",
    "obs_d13c.head()"
   ]
  },
  {
   "cell_type": "markdown",
   "metadata": {},
   "source": [
    "# Selecting indexes"
   ]
  },
  {
   "cell_type": "code",
   "execution_count": 8,
   "metadata": {},
   "outputs": [
    {
     "name": "stdout",
     "output_type": "stream",
     "text": [
      "(1810, 490)\n"
     ]
    }
   ],
   "source": [
    "gen_1x = \"Gen10\"\n",
    "gen_2x = \"Gen11\"\n",
    "\n",
    "df10 = get_data(gen=gen_1x)\n",
    "df11 = get_data(gen=gen_2x)\n",
    "print(len(df10), len(df11))"
   ]
  },
  {
   "cell_type": "code",
   "execution_count": 9,
   "metadata": {},
   "outputs": [],
   "source": [
    "df10[\"Gen\"] = gen_1x\n",
    "df11[\"Gen\"] = gen_2x\n",
    "df = pd.concat([df10, \n",
    "                df11\n",
    "               ])\n",
    "\n",
    "# Index names\n",
    "df['Name'] = df['Gen'] + \"/\" + df.index\n",
    "df = df.set_index('Name')\n",
    "# 'LHS_s2fix7/10/' in list(df.index)"
   ]
  },
  {
   "cell_type": "code",
   "execution_count": 10,
   "metadata": {},
   "outputs": [],
   "source": [
    "df['k_d'] = df.loc[:, 'k_oc'] * df.loc[:,'f_oc']\n",
    "# Combined outlet and transects KGE Concentrations and d13C\n",
    "df['KGE-SM'] = (df.loc[:, 'KGE-CONC_out'] + df.loc[:, 'KGE-CONC-blk'])/2.0  \n",
    "df['KGE-d13C'] = (df.loc[:, 'KGE-d13C_out'] + df.loc[:, 'KGE-d13C-blk'])/2.0\n",
    "df['epsilon_iso'] *= -1\n",
    "dfs = df[['Model', \"Gen\",\n",
    "          'dt_50_ref',\n",
    "          'dt_50_ab',\n",
    "#           'k_d',\n",
    "          'epsilon_iso',\n",
    "          'KGE-CONC-blk','KGE-d13C-blk',\n",
    "          'KGE-CONC_out', 'KGE-d13C_out',\n",
    "          'KGE-SM', 'KGE-d13C',\n",
    "          'KGE-Q_out'\n",
    "          ]]"
   ]
  },
  {
   "cell_type": "code",
   "execution_count": 39,
   "metadata": {},
   "outputs": [
    {
     "name": "stdout",
     "output_type": "stream",
     "text": [
      "(1395, 41, 100)\n",
      "(89, 11)\n"
     ]
    }
   ],
   "source": [
    "# Filter\n",
    "# cst = 0.8\n",
    "# dfs['Constraint'] = dfs.apply(BlkIso, args=(cst,), axis=1)\n",
    "\n",
    "dfs = dfs.loc[(dfs['Model'] == 'var')]\n",
    "\n",
    "# Global\n",
    "# ff = dfs.loc[(dfs['KGE-SM'] > 0.5)] # Try 25 with more data points\n",
    "# ff_c = dfs.loc[(dfs['KGE-SM'] > 0.25) & (dfs['KGE-d13C'] >  cst)]\n",
    "\n",
    "# Soil\n",
    "ff = dfs.loc[(dfs['KGE-CONC-blk'] > 0.75) & (dfs['KGE-Q_out'] >  0.50)] # Try 25 with more data points\n",
    "# ff_c = dfs.loc[(dfs['KGE-CONC-blk'] > 0.60) & (dfs['KGE-d13C-blk'] >  0.50)]\n",
    "ff_c = dfs.loc[(dfs['KGE-CONC-blk'] > 0.0) & (dfs['KGE-d13C-blk'] >  0.75) & (dfs['KGE-Q_out'] >  0.50)]\n",
    "\n",
    "# Outlet\n",
    "# ff = dfs.loc[(dfs['KGE-CONC_out'] > 0.20)] # Try 25 with more data points\n",
    "# ff_c = dfs.loc[(dfs['KGE-CONC_out'] > 0.20) & (dfs['KGE-d13C_out'] >  0.2)]\n",
    "\n",
    "print(len(dfs), len(ff), len(ff_c))\n",
    "# ff.tail()\n",
    "print(len(ff_c.loc[(ff_c['Gen']==\"Gen10\")]), \n",
    "      len(ff_c.loc[(ff_c['Gen']==\"Gen11\")]))"
   ]
  },
  {
   "cell_type": "markdown",
   "metadata": {},
   "source": [
    "## All models"
   ]
  },
  {
   "cell_type": "code",
   "execution_count": 40,
   "metadata": {},
   "outputs": [
    {
     "name": "stdout",
     "output_type": "stream",
     "text": [
      "Maximum Q\n",
      "(0.769832923058568, 0.5284275029940944)\n",
      "Maximum Conc.\n",
      "(0.8027419410432288, 0.483226275596356, 0.5657178152771112)\n",
      "Maximum d13C\n",
      "(0.957449515054865, 0.6461743018000133, 0.7990550587983478)\n"
     ]
    }
   ],
   "source": [
    "print(\"Maximum Q\")\n",
    "print(df['KGE-Q_out'].max(), df['NSE-Q_out'].max()) \n",
    "print(\"Maximum Conc.\")\n",
    "print(df['KGE-CONC-blk'].max(), df['KGE-CONC_out'].max(), df['KGE-SM'].max()) \n",
    "print(\"Maximum d13C\")\n",
    "print(df['KGE-d13C-blk'].max(), df['KGE-d13C_out'].max(), df['KGE-d13C'].max()) "
   ]
  },
  {
   "cell_type": "markdown",
   "metadata": {},
   "source": [
    "# Extracting time series"
   ]
  },
  {
   "cell_type": "code",
   "execution_count": 19,
   "metadata": {},
   "outputs": [],
   "source": [
    "#################\n",
    "# Panel A (Gen1)\n",
    "#################\n",
    "wc_g1 = ff_c.index[(ff_c['Constraint'] == 'WC') & \n",
    "                   (ff_c[\"Model\"]=='var') & \n",
    "                   (ff_c[\"Gen\"]==gen_2x)].tolist() #[0]\n",
    "\n",
    "nc_g1 = ff.index[(ff['Constraint'] == 'NC') & \n",
    "                 (ff[\"Model\"]=='var') & \n",
    "                 (ff[\"Gen\"]==gen_2x) ].tolist() #[0]\n",
    "\n"
   ]
  },
  {
   "cell_type": "code",
   "execution_count": 20,
   "metadata": {},
   "outputs": [],
   "source": [
    "sets_wc_g1 = get_sets_bulk(wc_g1, path, p_b)\n",
    "sets_nc_g1 = get_sets_bulk(nc_g1, path, p_b)"
   ]
  },
  {
   "cell_type": "code",
   "execution_count": 21,
   "metadata": {},
   "outputs": [],
   "source": [
    "time = sets_wc_g1.filter(like=\"Jdays\")\n",
    "conc_wc_g1 = sets_wc_g1.filter(like='Conc')\n",
    "conc_nc_g1 = sets_nc_g1.filter(like='Conc')\n",
    "conc_wc_g1 = pd.concat([time, conc_wc_g1], axis=1, join='inner')\n",
    "conc_nc_g1 = pd.concat([time, conc_nc_g1], axis=1, join='inner')"
   ]
  },
  {
   "cell_type": "code",
   "execution_count": 22,
   "metadata": {},
   "outputs": [],
   "source": [
    "# Stats\n",
    "wc_stat_g1_conc = get_stats_bulk(conc_wc_g1, 'Conc', 'WC') # All Gen1\n",
    "nc_stat_g1_conc = get_stats_bulk(conc_nc_g1, 'Conc', 'NC') # All Gen1"
   ]
  },
  {
   "cell_type": "code",
   "execution_count": 23,
   "metadata": {},
   "outputs": [],
   "source": [
    "# Merged with OBS\n",
    "conc_wc_g1 = pd.merge(wc_stat_g1_conc, obs_conc, how='outer', on='IDcal')\n",
    "conc_nc_g1 = pd.merge(nc_stat_g1_conc, obs_conc, how='outer', on='IDcal')"
   ]
  },
  {
   "cell_type": "code",
   "execution_count": 24,
   "metadata": {},
   "outputs": [],
   "source": [
    "##################################\n",
    "# All other panels: Gen1 + Gen6\n",
    "##################################\n",
    "\n",
    "# wc_g1 is generated above already!\n",
    "wc_g6 = ff_c.index[(ff_c['Constraint'] == 'WC') & \n",
    "                   (ff_c[\"Model\"]=='var') & \n",
    "                   (ff_c[\"Gen\"]==gen_1x) \n",
    "                  ].tolist() #[0]\n",
    "sets_wc_g6 = get_sets_bulk(wc_g6, path, p_b)"
   ]
  },
  {
   "cell_type": "code",
   "execution_count": 25,
   "metadata": {},
   "outputs": [],
   "source": [
    "##################################\n",
    "# Panel B (DT50) and D (Epsilon) \n",
    "##################################\n",
    "\n",
    "wc_g1_df = ff_c.loc[(ff_c['Constraint'] == 'WC') & \n",
    "                    (ff_c[\"Model\"]=='var') & \n",
    "                    (ff_c[\"Gen\"]==gen_2x)] \n",
    "\n",
    "wc_g6_df = ff_c.loc[(ff_c['Constraint'] == 'WC') & \n",
    "                    (ff_c[\"Model\"]=='var') & \n",
    "                    (ff_c[\"Gen\"]==gen_1x)]\n",
    "\n",
    "nc_g1_df = ff.loc[(ff['Constraint'] == 'NC') & \n",
    "                  (ff[\"Model\"]=='var') & \n",
    "                  (ff[\"Gen\"]==gen_2x) ]\n",
    "\n",
    "nc_g6_df = ff.loc[(ff['Constraint'] == 'NC') & \n",
    "                  (ff[\"Model\"]=='var') & \n",
    "                  (ff[\"Gen\"]==gen_1x)]\n",
    "\n",
    "\n",
    "##################################\n",
    "# Panel C: d13C\n",
    "##################################\n",
    "time = sets_wc_g1.filter(like=\"Jdays\")\n",
    "d13c_g1 = sets_wc_g1.filter(like='d13C')\n",
    "d13c_g6 = sets_wc_g6.filter(like='d13C')\n",
    "\n",
    "d13c_tg1 = pd.concat([time, d13c_g1], axis=1, join='inner')\n",
    "d13c_tg6 = pd.concat([time, d13c_g6], axis=1, join='inner')\n",
    "\n",
    "stat_d13c_g1 = get_stats_bulk(d13c_tg1, 'd13C', 'WC-2x') # Gen1 \n",
    "stat_d13c_g6 = get_stats_bulk(d13c_tg6, 'd13C', 'WC-1x') # Gen6 \n",
    "\n",
    "# Merged with OBS\n",
    "d13c_wc_g1 = pd.merge(stat_d13c_g1, obs_d13c, how='outer', on='IDcal')\n",
    "d13c_wc_g6 = pd.merge(stat_d13c_g6, obs_d13c, how='outer', on='IDcal')"
   ]
  },
  {
   "cell_type": "markdown",
   "metadata": {},
   "source": [
    "## Convert to arrays"
   ]
  },
  {
   "cell_type": "code",
   "execution_count": 26,
   "metadata": {},
   "outputs": [
    {
     "data": {
      "text/html": [
       "<div>\n",
       "<style scoped>\n",
       "    .dataframe tbody tr th:only-of-type {\n",
       "        vertical-align: middle;\n",
       "    }\n",
       "\n",
       "    .dataframe tbody tr th {\n",
       "        vertical-align: top;\n",
       "    }\n",
       "\n",
       "    .dataframe thead th {\n",
       "        text-align: right;\n",
       "    }\n",
       "</style>\n",
       "<table border=\"1\" class=\"dataframe\">\n",
       "  <thead>\n",
       "    <tr style=\"text-align: right;\">\n",
       "      <th></th>\n",
       "      <th>Jdays_x</th>\n",
       "      <th>mean</th>\n",
       "      <th>high</th>\n",
       "      <th>low</th>\n",
       "      <th>max</th>\n",
       "      <th>min</th>\n",
       "      <th>sd</th>\n",
       "      <th>IDcal</th>\n",
       "      <th>Type</th>\n",
       "      <th>Jdays_y</th>\n",
       "      <th>DayMoYr</th>\n",
       "      <th>ug.g</th>\n",
       "      <th>ug.g.SD</th>\n",
       "    </tr>\n",
       "  </thead>\n",
       "  <tbody>\n",
       "    <tr>\n",
       "      <th>0</th>\n",
       "      <td>166</td>\n",
       "      <td>0.075372</td>\n",
       "      <td>0.075539</td>\n",
       "      <td>0.075206</td>\n",
       "      <td>0.075429</td>\n",
       "      <td>0.075277</td>\n",
       "      <td>0.000083</td>\n",
       "      <td>B-166</td>\n",
       "      <td>WC</td>\n",
       "      <td>NaN</td>\n",
       "      <td>NaN</td>\n",
       "      <td>NaN</td>\n",
       "      <td>NaN</td>\n",
       "    </tr>\n",
       "    <tr>\n",
       "      <th>1</th>\n",
       "      <td>167</td>\n",
       "      <td>0.081239</td>\n",
       "      <td>0.081593</td>\n",
       "      <td>0.080885</td>\n",
       "      <td>0.081354</td>\n",
       "      <td>0.081035</td>\n",
       "      <td>0.000177</td>\n",
       "      <td>B-167</td>\n",
       "      <td>WC</td>\n",
       "      <td>NaN</td>\n",
       "      <td>NaN</td>\n",
       "      <td>NaN</td>\n",
       "      <td>NaN</td>\n",
       "    </tr>\n",
       "    <tr>\n",
       "      <th>2</th>\n",
       "      <td>168</td>\n",
       "      <td>0.080984</td>\n",
       "      <td>0.081516</td>\n",
       "      <td>0.080453</td>\n",
       "      <td>0.081161</td>\n",
       "      <td>0.080679</td>\n",
       "      <td>0.000266</td>\n",
       "      <td>B-168</td>\n",
       "      <td>WC</td>\n",
       "      <td>NaN</td>\n",
       "      <td>NaN</td>\n",
       "      <td>NaN</td>\n",
       "      <td>NaN</td>\n",
       "    </tr>\n",
       "    <tr>\n",
       "      <th>3</th>\n",
       "      <td>169</td>\n",
       "      <td>0.080731</td>\n",
       "      <td>0.081439</td>\n",
       "      <td>0.080023</td>\n",
       "      <td>0.080967</td>\n",
       "      <td>0.080324</td>\n",
       "      <td>0.000354</td>\n",
       "      <td>B-169</td>\n",
       "      <td>WC</td>\n",
       "      <td>NaN</td>\n",
       "      <td>NaN</td>\n",
       "      <td>NaN</td>\n",
       "      <td>NaN</td>\n",
       "    </tr>\n",
       "    <tr>\n",
       "      <th>4</th>\n",
       "      <td>170</td>\n",
       "      <td>0.080476</td>\n",
       "      <td>0.081358</td>\n",
       "      <td>0.079593</td>\n",
       "      <td>0.080773</td>\n",
       "      <td>0.079969</td>\n",
       "      <td>0.000441</td>\n",
       "      <td>B-170</td>\n",
       "      <td>WC</td>\n",
       "      <td>NaN</td>\n",
       "      <td>NaN</td>\n",
       "      <td>NaN</td>\n",
       "      <td>NaN</td>\n",
       "    </tr>\n",
       "  </tbody>\n",
       "</table>\n",
       "</div>"
      ],
      "text/plain": [
       "   Jdays_x      mean      high       low       max       min        sd  IDcal  \\\n",
       "0      166  0.075372  0.075539  0.075206  0.075429  0.075277  0.000083  B-166   \n",
       "1      167  0.081239  0.081593  0.080885  0.081354  0.081035  0.000177  B-167   \n",
       "2      168  0.080984  0.081516  0.080453  0.081161  0.080679  0.000266  B-168   \n",
       "3      169  0.080731  0.081439  0.080023  0.080967  0.080324  0.000354  B-169   \n",
       "4      170  0.080476  0.081358  0.079593  0.080773  0.079969  0.000441  B-170   \n",
       "\n",
       "  Type  Jdays_y DayMoYr  ug.g  ug.g.SD  \n",
       "0   WC      NaN     NaN   NaN      NaN  \n",
       "1   WC      NaN     NaN   NaN      NaN  \n",
       "2   WC      NaN     NaN   NaN      NaN  \n",
       "3   WC      NaN     NaN   NaN      NaN  \n",
       "4   WC      NaN     NaN   NaN      NaN  "
      ]
     },
     "execution_count": 26,
     "metadata": {},
     "output_type": "execute_result"
    }
   ],
   "source": [
    "conc_wc_g1.head()"
   ]
  },
  {
   "cell_type": "code",
   "execution_count": 27,
   "metadata": {},
   "outputs": [],
   "source": [
    "# time\n",
    "time_arr =  np.array(conc_wc_g1['Jdays_x']-171)\n",
    "# Observed Conc\n",
    "arr_obs_conc = np.array(conc_wc_g1['ug.g'])\n",
    "arr_err = np.array(conc_wc_g1['ug.g.SD'])\n",
    "\n",
    "# Observed d13C\n",
    "arr_obs_d13c = np.array(d13c_wc_g1['d13C'])\n",
    "arr_err_d13c = np.array(d13c_wc_g1['d13C.SD'])\n",
    "\n",
    "# Variable model\n",
    "# G1 only - Conc.\n",
    "wc_conc_mean_g1 = np.array(conc_wc_g1['mean'])\n",
    "wc_conc_high_g1 = np.array(conc_wc_g1['high'])\n",
    "wc_conc_low_g1 = np.array(conc_wc_g1['low'])\n",
    "\n",
    "wc_d13c_mean_g1 = np.array(d13c_wc_g1['mean'])\n",
    "wc_d13c_high_g1 = np.array(d13c_wc_g1['high'])\n",
    "wc_d13c_low_g1 = np.array(d13c_wc_g1['low'])\n",
    "\n",
    "nc_conc_mean_g1 = np.array(conc_nc_g1['mean'])\n",
    "nc_conc_high_g1 = np.array(conc_nc_g1['high'])\n",
    "nc_conc_low_g1 = np.array(conc_nc_g1['low'])\n",
    "\n",
    "# G1 and G6 - d13c\n",
    "var_d13c_mean_g1 = np.array(d13c_wc_g1['mean'])\n",
    "var_d13c_high_g1 = np.array(d13c_wc_g1['high'])\n",
    "var_d13c_low_g1 = np.array(d13c_wc_g1['low'])\n",
    "\n",
    "var_d13c_mean_g6 = np.array(d13c_wc_g6['mean'])\n",
    "var_d13c_high_g6 = np.array(d13c_wc_g6['high'])\n",
    "var_d13c_low_g6 = np.array(d13c_wc_g6['low'])"
   ]
  },
  {
   "cell_type": "code",
   "execution_count": 29,
   "metadata": {},
   "outputs": [
    {
     "data": {
      "image/png": "[encoded data removed]",
      "text/plain": [
       "<Figure size 842.4x595.44 with 4 Axes>"
      ]
     },
     "metadata": {},
     "output_type": "display_data"
    }
   ],
   "source": [
    "sns.set(rc={'figure.figsize':(11.7, 8.27)})\n",
    "# ES&T max width, 1 column = 3.25in, 2-col = 7in \n",
    "sns.set_context(\"paper\")\n",
    "# sns.set(rc={'figure.figsize':(7.0, 7.3)}) # Width, height, inches\n",
    "\n",
    "fig, axes = plt.subplots(2, 2, sharex=False, sharey=False)\n",
    "\n",
    "ax1 = axes[0,0]\n",
    "ax2 = axes[0,1]\n",
    "ax3 = axes[1,0]\n",
    "ax4 = axes[1,1]\n",
    "\n",
    "# Panel A\n",
    "##############\n",
    "# Obs Conc\n",
    "ax1.errorbar(time_arr, arr_obs_conc, arr_err, c= \"black\")\n",
    "ax1.scatter(time_arr, arr_obs_conc, c= \"black\", marker='.', label=\"BLK\")\n",
    "ax1.legend(loc=\"upper right\")\n",
    "# WC Conc - G1, 2x\n",
    "ax1.plot(time_arr, wc_conc_mean_g1, label='WC-2x', c= \"C2\") # c= \"red\", marker='.', linestyle=':'\n",
    "ax1.fill_between(time_arr, wc_conc_high_g1, wc_conc_low_g1, color= \"C2\", alpha=0.5)\n",
    "\n",
    "# NC Conc - G1, 2x\n",
    "ax1.plot(time_arr, nc_conc_mean_g1, label='NC-2x', c= \"C3\") # c= \"red\", marker='.', linestyle=':'\n",
    "ax1.fill_between(time_arr, nc_conc_high_g1, nc_conc_low_g1, color= \"C3\", alpha=0.5)\n",
    "\n",
    "ax1.set_ylabel(\"[SM] ($\\mu g$ $g^{-1}$ soil d.wt.)\")\n",
    "# ax1.set_xlabel(\"Days after 1st App.\")\n",
    "\n",
    "# Panel B\n",
    "##############\n",
    "sns.distplot( nc_g1_df[\"dt_50_ref\"] , color=\"C3\", label=\"NC-2x\", ax=ax2)\n",
    "sns.distplot( nc_g6_df[\"dt_50_ref\"] , color=\"C4\", label=\"NC-1x\", ax=ax2)\n",
    "sns.distplot( wc_g1_df[\"dt_50_ref\"] , color=\"C2\", label=\"WC-2x\", ax=ax2)\n",
    "sns.distplot( wc_g6_df[\"dt_50_ref\"] , color=\"C0\", label=\"WC-1x\", ax=ax2)\n",
    "\n",
    "ax2.set_xlabel(\"DT50 (days)\")\n",
    "ax2.set_ylabel(\"$f$ (-)\")\n",
    "ax2.legend()\n",
    "\n",
    "# Panel C\n",
    "##############\n",
    "# Var d13c\n",
    "ax3.plot(time_arr, var_d13c_mean_g1, label='WC-2x', c=\"C2\") # c= \"red\", marker='.', linestyle=':'\n",
    "ax3.legend(loc=\"upper left\")\n",
    "ax3.fill_between(time_arr, var_d13c_high_g1, var_d13c_low_g1,  color= \"C2\", alpha=0.5)\n",
    "\n",
    "ax3.plot(time_arr, var_d13c_mean_g6, label='WC-1x', c=\"C0\") # c= \"red\", marker='.', linestyle=':'\n",
    "ax3.legend(loc=\"upper left\")\n",
    "ax3.fill_between(time_arr, var_d13c_high_g6, var_d13c_low_g6,  color= \"C0\", alpha=0.5)\n",
    "\n",
    "# Obs d13c\n",
    "ax3.errorbar(time_arr, arr_obs_d13c, arr_err_d13c, c= \"black\")\n",
    "ax3.scatter(time_arr, arr_obs_d13c, c= \"black\", marker='.', label=\"BLK\")\n",
    "ax3.legend(loc=\"upper left\")\n",
    "ax3.set_ylabel(\"$\\delta ^{13}C$ \" + u'(\\u2030)')\n",
    "ax3.set_xlabel(\"Days after 1st App.\")\n",
    "\n",
    "# Panel D\n",
    "##############\n",
    "sns.distplot( wc_g1_df[\"epsilon_iso\"] , color=\"C2\", label=\"WC-2x\", ax=ax4)\n",
    "sns.distplot( wc_g6_df[\"epsilon_iso\"] , color=\"C0\", label=\"WC-1x\", ax=ax4)\n",
    "ax4.legend()\n",
    "ax4.set_xlabel(\"$\\epsilon$ \" + u'(\\u2030)')\n",
    "ax4.set_ylabel(\"$f$ (-)\")\n",
    "\n",
    "plt.subplots_adjust(left=None, bottom=None, right=None, top=None,\n",
    "                wspace=0.33, hspace=0.30)"
   ]
  },
  {
   "cell_type": "markdown",
   "metadata": {},
   "source": [
    "https://python-graph-gallery.com/25-histogram-with-several-variables-seaborn/"
   ]
  },
  {
   "cell_type": "code",
   "execution_count": null,
   "metadata": {},
   "outputs": [],
   "source": []
  }
 ],
 "metadata": {
  "kernelspec": {
   "display_name": "bunny",
   "language": "python",
   "name": "bunny"
  },
  "language_info": {
   "codemirror_mode": {
    "name": "ipython",
    "version": 2
   },
   "file_extension": ".py",
   "mimetype": "text/x-python",
   "name": "python",
   "nbconvert_exporter": "python",
   "pygments_lexer": "ipython2",
   "version": "2.7.14"
  }
 },
 "nbformat": 4,
 "nbformat_minor": 2
}
