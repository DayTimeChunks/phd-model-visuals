{
 "cells": [
  {
   "cell_type": "code",
   "execution_count": null,
   "metadata": {},
   "outputs": [],
   "source": [
    "path = '../phd-model-process/'\n",
    "import numpy as np\n",
    "# Plotting\n",
    "import pandas as pd\n",
    "from helpers_pd import *\n",
    "pd.options.mode.chained_assignment = None  # default='warn'\n",
    "import seaborn as sns\n",
    "sns.set()\n",
    "# plt.style.use('seaborn-white')\n",
    "import matplotlib.pyplot as plt\n",
    "import matplotlib as mpl\n",
    "\n",
    "from matplotlib.patches import Ellipse, Rectangle"
   ]
  },
  {
   "cell_type": "code",
   "execution_count": null,
   "metadata": {},
   "outputs": [],
   "source": [
    "# def facet_scatter(x, y, c, **kwargs):\n",
    "#     \"\"\"Draw scatterplot with point colors from a faceted DataFrame columns.\"\"\"\n",
    "#     kwargs.pop(\"color\")\n",
    "#     plt.scatter(x, y, c=c, **kwargs)    "
   ]
  },
  {
   "cell_type": "markdown",
   "metadata": {},
   "source": [
    "Want to constrain mobility in soils by outlet fit. \n",
    "\n",
    "Does the **variable model** allow us to see the constraint effects (on Kd and DT50), when constrained by the outlet? "
   ]
  },
  {
   "cell_type": "code",
   "execution_count": 3,
   "metadata": {},
   "outputs": [],
   "source": [
    "df6 = get_data(gen=\"Gen6\")\n",
    "# # df3 = get_data(gen=\"Gen3\")\n",
    "# df4 = get_data(gen=\"Gen4\")\n",
    "# # df4 = get_data(gen=\"Gen4\")\n"
   ]
  },
  {
   "cell_type": "code",
   "execution_count": 4,
   "metadata": {},
   "outputs": [],
   "source": [
    "df6[\"Gen\"] = \"Gen6\"\n",
    "# df3[\"Gen\"] = \"Gen3\"\n",
    "# df4[\"Gen\"] = \"Gen4\"\n",
    "df = pd.concat([df6, \n",
    "#                 df3, \n",
    "#                 df4\n",
    "               ])"
   ]
  },
  {
   "cell_type": "code",
   "execution_count": 5,
   "metadata": {},
   "outputs": [
    {
     "name": "stdout",
     "output_type": "stream",
     "text": [
      "(2723,)\n"
     ]
    }
   ],
   "source": [
    "print(len(df), \n",
    "#       len(df4)\n",
    "     )"
   ]
  },
  {
   "cell_type": "code",
   "execution_count": 6,
   "metadata": {},
   "outputs": [],
   "source": [
    "# Index names\n",
    "df['Name'] = df['Gen'] + \"/\" + df.index\n",
    "df = df.set_index('Name')"
   ]
  },
  {
   "cell_type": "code",
   "execution_count": 7,
   "metadata": {},
   "outputs": [],
   "source": [
    "# list(df6)\n",
    "# 'LHS_e1var7/1/' in df.index"
   ]
  },
  {
   "cell_type": "code",
   "execution_count": 8,
   "metadata": {},
   "outputs": [],
   "source": [
    "df['K_d'] = df.loc[:, 'k_oc'] * df.loc[:,'f_oc']\n",
    "# Combined outlet and transects KGE Concentrations and d13C\n",
    "df['KGE-SM'] = (df.loc[:, 'KGE-CONC_out'] + df.loc[:, 'KGE-CONC-tra'])/2.0  \n",
    "df['KGE-d13C'] = (df.loc[:, 'KGE-d13C_out'] + df.loc[:, 'KGE-d13C-tra'])/2.0\n",
    "\n",
    "cst = 0.5\n",
    "df['Constraint'] = df.apply(WithIsoKGE, args=(cst,), axis=1)"
   ]
  },
  {
   "cell_type": "code",
   "execution_count": 9,
   "metadata": {},
   "outputs": [
    {
     "name": "stdout",
     "output_type": "stream",
     "text": [
      "Maximum Conc.\n",
      "(0.8071323424319412, 0.3843419337152463, 0.5808874401373819)\n",
      "Maximum d13C\n",
      "(0.8767684725788549, 0.5637517755122933, 0.7044689565243463)\n"
     ]
    }
   ],
   "source": [
    "print(\"Maximum Conc.\")\n",
    "print(df['KGE-CONC-tra'].max(), df['KGE-CONC_out'].max(), df['KGE-SM'].max()) \n",
    "print(\"Maximum d13C\")\n",
    "print(df['KGE-d13C-tra'].max(), df['KGE-d13C_out'].max(), df['KGE-d13C'].max()) "
   ]
  },
  {
   "cell_type": "code",
   "execution_count": 10,
   "metadata": {},
   "outputs": [],
   "source": [
    "dfs = df[['Model', 'Gen',\n",
    "          'K_d', 'dt_50_ref', 'k_oc', 'f_oc', 'beta_moisture',\n",
    "          'KGE-CONC-tra' , \n",
    "          'KGE-Q_out', 'KGE-CONC_out', 'KGE-LDS_out',\n",
    "          'KGE-d13C-tra', 'KGE-d13C_out',\n",
    "          'KGE-SM', 'KGE-d13C', 'Constraint'\n",
    "         ]]"
   ]
  },
  {
   "cell_type": "code",
   "execution_count": 11,
   "metadata": {},
   "outputs": [
    {
     "data": {
      "text/html": [
       "<div>\n",
       "<style scoped>\n",
       "    .dataframe tbody tr th:only-of-type {\n",
       "        vertical-align: middle;\n",
       "    }\n",
       "\n",
       "    .dataframe tbody tr th {\n",
       "        vertical-align: top;\n",
       "    }\n",
       "\n",
       "    .dataframe thead th {\n",
       "        text-align: right;\n",
       "    }\n",
       "</style>\n",
       "<table border=\"1\" class=\"dataframe\">\n",
       "  <thead>\n",
       "    <tr style=\"text-align: right;\">\n",
       "      <th></th>\n",
       "      <th>Model</th>\n",
       "      <th>Gen</th>\n",
       "      <th>K_d</th>\n",
       "      <th>dt_50_ref</th>\n",
       "      <th>k_oc</th>\n",
       "      <th>f_oc</th>\n",
       "      <th>beta_moisture</th>\n",
       "      <th>KGE-CONC-tra</th>\n",
       "      <th>KGE-Q_out</th>\n",
       "      <th>KGE-CONC_out</th>\n",
       "      <th>KGE-LDS_out</th>\n",
       "      <th>KGE-d13C-tra</th>\n",
       "      <th>KGE-d13C_out</th>\n",
       "      <th>KGE-SM</th>\n",
       "      <th>KGE-d13C</th>\n",
       "      <th>Constraint</th>\n",
       "    </tr>\n",
       "    <tr>\n",
       "      <th>Name</th>\n",
       "      <th></th>\n",
       "      <th></th>\n",
       "      <th></th>\n",
       "      <th></th>\n",
       "      <th></th>\n",
       "      <th></th>\n",
       "      <th></th>\n",
       "      <th></th>\n",
       "      <th></th>\n",
       "      <th></th>\n",
       "      <th></th>\n",
       "      <th></th>\n",
       "      <th></th>\n",
       "      <th></th>\n",
       "      <th></th>\n",
       "      <th></th>\n",
       "    </tr>\n",
       "  </thead>\n",
       "  <tbody>\n",
       "    <tr>\n",
       "      <th>Gen6/LHS_sc1var40/95/</th>\n",
       "      <td>var</td>\n",
       "      <td>Gen6</td>\n",
       "      <td>80.817022</td>\n",
       "      <td>39.002087</td>\n",
       "      <td>1844.270521</td>\n",
       "      <td>0.043821</td>\n",
       "      <td>0.559823</td>\n",
       "      <td>0.429951</td>\n",
       "      <td>0.759644</td>\n",
       "      <td>0.349554</td>\n",
       "      <td>-2.481961</td>\n",
       "      <td>0.402522</td>\n",
       "      <td>-0.076526</td>\n",
       "      <td>0.389752</td>\n",
       "      <td>0.162998</td>\n",
       "      <td>NC</td>\n",
       "    </tr>\n",
       "    <tr>\n",
       "      <th>Gen6/LHS_sc1var40/96/</th>\n",
       "      <td>var</td>\n",
       "      <td>Gen6</td>\n",
       "      <td>49.598557</td>\n",
       "      <td>17.469222</td>\n",
       "      <td>1811.871200</td>\n",
       "      <td>0.027374</td>\n",
       "      <td>0.351449</td>\n",
       "      <td>0.614760</td>\n",
       "      <td>0.701803</td>\n",
       "      <td>-0.498019</td>\n",
       "      <td>-0.316904</td>\n",
       "      <td>0.756398</td>\n",
       "      <td>-0.164730</td>\n",
       "      <td>0.058371</td>\n",
       "      <td>0.295834</td>\n",
       "      <td>NC</td>\n",
       "    </tr>\n",
       "    <tr>\n",
       "      <th>Gen6/LHS_sc1var40/97/</th>\n",
       "      <td>var</td>\n",
       "      <td>Gen6</td>\n",
       "      <td>20.878691</td>\n",
       "      <td>27.574281</td>\n",
       "      <td>456.395311</td>\n",
       "      <td>0.045747</td>\n",
       "      <td>0.989710</td>\n",
       "      <td>0.347424</td>\n",
       "      <td>0.381348</td>\n",
       "      <td>-0.225327</td>\n",
       "      <td>0.622712</td>\n",
       "      <td>0.456030</td>\n",
       "      <td>0.279817</td>\n",
       "      <td>0.061049</td>\n",
       "      <td>0.367924</td>\n",
       "      <td>NC</td>\n",
       "    </tr>\n",
       "    <tr>\n",
       "      <th>Gen6/LHS_sc1var40/98/</th>\n",
       "      <td>var</td>\n",
       "      <td>Gen6</td>\n",
       "      <td>1.851526</td>\n",
       "      <td>30.057930</td>\n",
       "      <td>60.449510</td>\n",
       "      <td>0.030629</td>\n",
       "      <td>0.761540</td>\n",
       "      <td>0.670009</td>\n",
       "      <td>0.670562</td>\n",
       "      <td>-8.392377</td>\n",
       "      <td>-31.224213</td>\n",
       "      <td>0.354046</td>\n",
       "      <td>0.220509</td>\n",
       "      <td>-3.861184</td>\n",
       "      <td>0.287278</td>\n",
       "      <td>NC</td>\n",
       "    </tr>\n",
       "    <tr>\n",
       "      <th>Gen6/LHS_sc1var40/99/</th>\n",
       "      <td>var</td>\n",
       "      <td>Gen6</td>\n",
       "      <td>61.559311</td>\n",
       "      <td>47.284140</td>\n",
       "      <td>1565.546530</td>\n",
       "      <td>0.039321</td>\n",
       "      <td>0.664140</td>\n",
       "      <td>0.088684</td>\n",
       "      <td>0.753905</td>\n",
       "      <td>0.046397</td>\n",
       "      <td>-0.079863</td>\n",
       "      <td>0.188997</td>\n",
       "      <td>0.008010</td>\n",
       "      <td>0.067540</td>\n",
       "      <td>0.098504</td>\n",
       "      <td>NC</td>\n",
       "    </tr>\n",
       "  </tbody>\n",
       "</table>\n",
       "</div>"
      ],
      "text/plain": [
       "                      Model   Gen        K_d  dt_50_ref         k_oc  \\\n",
       "Name                                                                   \n",
       "Gen6/LHS_sc1var40/95/   var  Gen6  80.817022  39.002087  1844.270521   \n",
       "Gen6/LHS_sc1var40/96/   var  Gen6  49.598557  17.469222  1811.871200   \n",
       "Gen6/LHS_sc1var40/97/   var  Gen6  20.878691  27.574281   456.395311   \n",
       "Gen6/LHS_sc1var40/98/   var  Gen6   1.851526  30.057930    60.449510   \n",
       "Gen6/LHS_sc1var40/99/   var  Gen6  61.559311  47.284140  1565.546530   \n",
       "\n",
       "                           f_oc  beta_moisture  KGE-CONC-tra  KGE-Q_out  \\\n",
       "Name                                                                      \n",
       "Gen6/LHS_sc1var40/95/  0.043821       0.559823      0.429951   0.759644   \n",
       "Gen6/LHS_sc1var40/96/  0.027374       0.351449      0.614760   0.701803   \n",
       "Gen6/LHS_sc1var40/97/  0.045747       0.989710      0.347424   0.381348   \n",
       "Gen6/LHS_sc1var40/98/  0.030629       0.761540      0.670009   0.670562   \n",
       "Gen6/LHS_sc1var40/99/  0.039321       0.664140      0.088684   0.753905   \n",
       "\n",
       "                       KGE-CONC_out  KGE-LDS_out  KGE-d13C-tra  KGE-d13C_out  \\\n",
       "Name                                                                           \n",
       "Gen6/LHS_sc1var40/95/      0.349554    -2.481961      0.402522     -0.076526   \n",
       "Gen6/LHS_sc1var40/96/     -0.498019    -0.316904      0.756398     -0.164730   \n",
       "Gen6/LHS_sc1var40/97/     -0.225327     0.622712      0.456030      0.279817   \n",
       "Gen6/LHS_sc1var40/98/     -8.392377   -31.224213      0.354046      0.220509   \n",
       "Gen6/LHS_sc1var40/99/      0.046397    -0.079863      0.188997      0.008010   \n",
       "\n",
       "                         KGE-SM  KGE-d13C Constraint  \n",
       "Name                                                  \n",
       "Gen6/LHS_sc1var40/95/  0.389752  0.162998         NC  \n",
       "Gen6/LHS_sc1var40/96/  0.058371  0.295834         NC  \n",
       "Gen6/LHS_sc1var40/97/  0.061049  0.367924         NC  \n",
       "Gen6/LHS_sc1var40/98/ -3.861184  0.287278         NC  \n",
       "Gen6/LHS_sc1var40/99/  0.067540  0.098504         NC  "
      ]
     },
     "execution_count": 11,
     "metadata": {},
     "output_type": "execute_result"
    }
   ],
   "source": [
    "dfs.tail()"
   ]
  },
  {
   "cell_type": "markdown",
   "metadata": {},
   "source": [
    "Filter for good concentrations"
   ]
  },
  {
   "cell_type": "code",
   "execution_count": 266,
   "metadata": {},
   "outputs": [],
   "source": [
    "# # Filter\n",
    "# ff = dfs.loc[(dfs['KGE-SM'] > 0.3)] # Try 25 with more data points\n",
    "# ff_c = ff.loc[(ff['KGE-d13C'] > 0.3)]\n",
    "# print(len(dfs), len(ff), len(ff_c))\n",
    "\n",
    "# fix_num = len(dfs.loc[dfs['Model']== 'fix'])\n",
    "# var_num = len(dfs.loc[dfs['Model']== 'var'])\n",
    "\n",
    "# fix_passed = len(ff.loc[ff['Model']== 'fix'])\n",
    "# var_passed = len(ff.loc[ff['Model']== 'var'])\n",
    "\n",
    "# f_fix = round(float(fix_passed)/fix_num, 3)\n",
    "# f_var = round(float(var_passed)/var_num, 3)\n",
    "# print(fix_num, var_num)\n",
    "# print(f_fix, f_var)\n",
    "# print(f_fix*fix_num, f_var*var_num)"
   ]
  },
  {
   "cell_type": "code",
   "execution_count": 267,
   "metadata": {},
   "outputs": [],
   "source": [
    "# print(\"Maximum Conc.\")\n",
    "# print(ff['KGE-CONC-tra'].max(), ff['KGE-CONC_out'].max(), ff['KGE-SM'].max()) \n",
    "# print(\"Maximum d13C\")\n",
    "# print(ff['KGE-d13C-tra'].max(), ff['KGE-d13C_out'].max(), ff['KGE-d13C'].max()) "
   ]
  },
  {
   "cell_type": "code",
   "execution_count": 12,
   "metadata": {},
   "outputs": [
    {
     "name": "stdout",
     "output_type": "stream",
     "text": [
      "(2723, 334, 105)\n"
     ]
    },
    {
     "data": {
      "text/html": [
       "<div>\n",
       "<style scoped>\n",
       "    .dataframe tbody tr th:only-of-type {\n",
       "        vertical-align: middle;\n",
       "    }\n",
       "\n",
       "    .dataframe tbody tr th {\n",
       "        vertical-align: top;\n",
       "    }\n",
       "\n",
       "    .dataframe thead th {\n",
       "        text-align: right;\n",
       "    }\n",
       "</style>\n",
       "<table border=\"1\" class=\"dataframe\">\n",
       "  <thead>\n",
       "    <tr style=\"text-align: right;\">\n",
       "      <th></th>\n",
       "      <th>Model</th>\n",
       "      <th>Gen</th>\n",
       "      <th>K_d</th>\n",
       "      <th>dt_50_ref</th>\n",
       "      <th>k_oc</th>\n",
       "      <th>f_oc</th>\n",
       "      <th>beta_moisture</th>\n",
       "      <th>KGE-CONC-tra</th>\n",
       "      <th>KGE-Q_out</th>\n",
       "      <th>KGE-CONC_out</th>\n",
       "      <th>KGE-LDS_out</th>\n",
       "      <th>KGE-d13C-tra</th>\n",
       "      <th>KGE-d13C_out</th>\n",
       "      <th>KGE-SM</th>\n",
       "      <th>KGE-d13C</th>\n",
       "      <th>Constraint</th>\n",
       "    </tr>\n",
       "    <tr>\n",
       "      <th>Name</th>\n",
       "      <th></th>\n",
       "      <th></th>\n",
       "      <th></th>\n",
       "      <th></th>\n",
       "      <th></th>\n",
       "      <th></th>\n",
       "      <th></th>\n",
       "      <th></th>\n",
       "      <th></th>\n",
       "      <th></th>\n",
       "      <th></th>\n",
       "      <th></th>\n",
       "      <th></th>\n",
       "      <th></th>\n",
       "      <th></th>\n",
       "      <th></th>\n",
       "    </tr>\n",
       "  </thead>\n",
       "  <tbody>\n",
       "    <tr>\n",
       "      <th>Gen6/LHS_sc1var40/56/</th>\n",
       "      <td>var</td>\n",
       "      <td>Gen6</td>\n",
       "      <td>3.451675</td>\n",
       "      <td>29.407891</td>\n",
       "      <td>200.081790</td>\n",
       "      <td>0.017251</td>\n",
       "      <td>0.964222</td>\n",
       "      <td>0.682795</td>\n",
       "      <td>0.265314</td>\n",
       "      <td>0.369191</td>\n",
       "      <td>-3.677170</td>\n",
       "      <td>0.535500</td>\n",
       "      <td>0.474924</td>\n",
       "      <td>0.525993</td>\n",
       "      <td>0.505212</td>\n",
       "      <td>WC</td>\n",
       "    </tr>\n",
       "    <tr>\n",
       "      <th>Gen6/LHS_sc1var40/63/</th>\n",
       "      <td>var</td>\n",
       "      <td>Gen6</td>\n",
       "      <td>16.771532</td>\n",
       "      <td>28.937790</td>\n",
       "      <td>1123.892044</td>\n",
       "      <td>0.014923</td>\n",
       "      <td>0.787367</td>\n",
       "      <td>0.613316</td>\n",
       "      <td>0.630436</td>\n",
       "      <td>0.346042</td>\n",
       "      <td>-3.415907</td>\n",
       "      <td>0.802655</td>\n",
       "      <td>-0.733874</td>\n",
       "      <td>0.479679</td>\n",
       "      <td>0.034390</td>\n",
       "      <td>NC</td>\n",
       "    </tr>\n",
       "    <tr>\n",
       "      <th>Gen6/LHS_sc1var40/76/</th>\n",
       "      <td>var</td>\n",
       "      <td>Gen6</td>\n",
       "      <td>44.768512</td>\n",
       "      <td>48.238709</td>\n",
       "      <td>1859.588662</td>\n",
       "      <td>0.024074</td>\n",
       "      <td>0.036326</td>\n",
       "      <td>0.591336</td>\n",
       "      <td>0.628752</td>\n",
       "      <td>0.269338</td>\n",
       "      <td>-3.970454</td>\n",
       "      <td>0.573204</td>\n",
       "      <td>0.181226</td>\n",
       "      <td>0.430337</td>\n",
       "      <td>0.377215</td>\n",
       "      <td>NC</td>\n",
       "    </tr>\n",
       "    <tr>\n",
       "      <th>Gen6/LHS_sc1var40/8/</th>\n",
       "      <td>var</td>\n",
       "      <td>Gen6</td>\n",
       "      <td>6.159231</td>\n",
       "      <td>49.443936</td>\n",
       "      <td>477.097558</td>\n",
       "      <td>0.012910</td>\n",
       "      <td>0.151247</td>\n",
       "      <td>0.618154</td>\n",
       "      <td>0.519613</td>\n",
       "      <td>0.236754</td>\n",
       "      <td>-1.055242</td>\n",
       "      <td>0.847721</td>\n",
       "      <td>-0.059681</td>\n",
       "      <td>0.427454</td>\n",
       "      <td>0.394020</td>\n",
       "      <td>NC</td>\n",
       "    </tr>\n",
       "    <tr>\n",
       "      <th>Gen6/LHS_sc1var40/92/</th>\n",
       "      <td>var</td>\n",
       "      <td>Gen6</td>\n",
       "      <td>37.490405</td>\n",
       "      <td>24.462014</td>\n",
       "      <td>843.256310</td>\n",
       "      <td>0.044459</td>\n",
       "      <td>0.601614</td>\n",
       "      <td>0.786265</td>\n",
       "      <td>0.655043</td>\n",
       "      <td>0.036970</td>\n",
       "      <td>0.030272</td>\n",
       "      <td>0.206110</td>\n",
       "      <td>-0.230719</td>\n",
       "      <td>0.411618</td>\n",
       "      <td>-0.012305</td>\n",
       "      <td>NC</td>\n",
       "    </tr>\n",
       "  </tbody>\n",
       "</table>\n",
       "</div>"
      ],
      "text/plain": [
       "                      Model   Gen        K_d  dt_50_ref         k_oc  \\\n",
       "Name                                                                   \n",
       "Gen6/LHS_sc1var40/56/   var  Gen6   3.451675  29.407891   200.081790   \n",
       "Gen6/LHS_sc1var40/63/   var  Gen6  16.771532  28.937790  1123.892044   \n",
       "Gen6/LHS_sc1var40/76/   var  Gen6  44.768512  48.238709  1859.588662   \n",
       "Gen6/LHS_sc1var40/8/    var  Gen6   6.159231  49.443936   477.097558   \n",
       "Gen6/LHS_sc1var40/92/   var  Gen6  37.490405  24.462014   843.256310   \n",
       "\n",
       "                           f_oc  beta_moisture  KGE-CONC-tra  KGE-Q_out  \\\n",
       "Name                                                                      \n",
       "Gen6/LHS_sc1var40/56/  0.017251       0.964222      0.682795   0.265314   \n",
       "Gen6/LHS_sc1var40/63/  0.014923       0.787367      0.613316   0.630436   \n",
       "Gen6/LHS_sc1var40/76/  0.024074       0.036326      0.591336   0.628752   \n",
       "Gen6/LHS_sc1var40/8/   0.012910       0.151247      0.618154   0.519613   \n",
       "Gen6/LHS_sc1var40/92/  0.044459       0.601614      0.786265   0.655043   \n",
       "\n",
       "                       KGE-CONC_out  KGE-LDS_out  KGE-d13C-tra  KGE-d13C_out  \\\n",
       "Name                                                                           \n",
       "Gen6/LHS_sc1var40/56/      0.369191    -3.677170      0.535500      0.474924   \n",
       "Gen6/LHS_sc1var40/63/      0.346042    -3.415907      0.802655     -0.733874   \n",
       "Gen6/LHS_sc1var40/76/      0.269338    -3.970454      0.573204      0.181226   \n",
       "Gen6/LHS_sc1var40/8/       0.236754    -1.055242      0.847721     -0.059681   \n",
       "Gen6/LHS_sc1var40/92/      0.036970     0.030272      0.206110     -0.230719   \n",
       "\n",
       "                         KGE-SM  KGE-d13C Constraint  \n",
       "Name                                                  \n",
       "Gen6/LHS_sc1var40/56/  0.525993  0.505212         WC  \n",
       "Gen6/LHS_sc1var40/63/  0.479679  0.034390         NC  \n",
       "Gen6/LHS_sc1var40/76/  0.430337  0.377215         NC  \n",
       "Gen6/LHS_sc1var40/8/   0.427454  0.394020         NC  \n",
       "Gen6/LHS_sc1var40/92/  0.411618 -0.012305         NC  "
      ]
     },
     "execution_count": 12,
     "metadata": {},
     "output_type": "execute_result"
    }
   ],
   "source": [
    "# Filter\n",
    "ff = dfs.loc[(dfs['KGE-SM'] > 0.40)] # Try 25 with more data points\n",
    "ff_c = dfs.loc[(dfs['KGE-SM'] > 0.40) &(dfs['KGE-d13C'] > 0.4)]\n",
    "print(len(dfs), len(ff), len(ff_c))\n",
    "ff.tail()"
   ]
  },
  {
   "cell_type": "code",
   "execution_count": 13,
   "metadata": {},
   "outputs": [
    {
     "data": {
      "text/plain": [
       "0.49000977195492385"
      ]
     },
     "execution_count": 13,
     "metadata": {},
     "output_type": "execute_result"
    }
   ],
   "source": [
    "ff.loc[(ff['Model'] == 'var')]['beta_moisture'].mean()"
   ]
  },
  {
   "cell_type": "code",
   "execution_count": 14,
   "metadata": {},
   "outputs": [
    {
     "name": "stdout",
     "output_type": "stream",
     "text": [
      "(138, 138, 36, 22)\n"
     ]
    }
   ],
   "source": [
    "fix = ff.index[(ff['Model'] == 'fix')].tolist() #[0]\n",
    "var = ff.index[(ff['Model'] == 'var')].tolist() #[0]\n",
    "\n",
    "nc_fix = ff.index[(ff['Constraint'] == 'NC') & (ff['Model'] == 'fix')].tolist() #[0]\n",
    "nc_var = ff.index[(ff['Constraint'] == 'NC') & (ff['Model'] == 'var')].tolist() #[0]\n",
    "\n",
    "wc_fix = ff.index[(ff['Constraint'] == 'WC') & (ff['Model'] == 'fix')].tolist() #[0]\n",
    "wc_var = ff.index[(ff['Constraint'] == 'WC') & (ff['Model'] == 'var')].tolist() #[0]\n",
    "print(len(nc_fix), len(nc_var), \n",
    "      len(wc_fix), len(wc_var))"
   ]
  },
  {
   "cell_type": "code",
   "execution_count": 15,
   "metadata": {},
   "outputs": [],
   "source": [
    "def get_sets(name_list, filename, vname):\n",
    "    sets = []\n",
    "    for i in range(len(name_list)):\n",
    "        # Define variable name\n",
    "        series_name = vname + name_list[i][8:] # Variable + set's name\n",
    "        # Get sim TSS\n",
    "        sim = pd.read_table(path + name_list[i] + filename, \n",
    "                       skiprows=4, delim_whitespace=True,\n",
    "                                    names=['Jdays', series_name],\n",
    "                                    header=None\n",
    "                      )\n",
    "        sim = sim[['Jdays', series_name]]\n",
    "        sim = sim[0:121]\n",
    "        sets.append(sim)\n",
    "    df = reduce(lambda left, right: pd.merge(left,right,on='Jdays'), sets)\n",
    "    return df"
   ]
  },
  {
   "cell_type": "code",
   "execution_count": 232,
   "metadata": {},
   "outputs": [],
   "source": [
    "deg_fix = get_sets(fix, \"resW_z0_DT50.tss\", \"DT50\")\n",
    "deg_var = get_sets(var, \"resW_z0_DT50.tss\", \"DT50\")\n",
    "\n",
    "tmp_fix = get_sets(fix, \"resW_z0_Temp.tss\", \"Temp\")\n",
    "tmp_var = get_sets(var, \"resW_z0_Temp.tss\", \"Temp\")\n",
    "\n",
    "moi_fix = get_sets(fix, \"resW_z0_thetaPropSat.tss\", \"Theta\")\n",
    "moi_var = get_sets(var, \"resW_z0_thetaPropSat.tss\", \"Theta\")"
   ]
  },
  {
   "cell_type": "code",
   "execution_count": 16,
   "metadata": {},
   "outputs": [],
   "source": [
    "nc_deg_fix = get_sets(nc_fix, \"resW_z0_DT50.tss\", \"DT50\")\n",
    "nc_deg_var = get_sets(nc_var, \"resW_z0_DT50.tss\", \"DT50\")\n",
    "\n",
    "# wc_deg_fix = get_sets(wc_fix, \"resW_z0_DT50.tss\", \"DT50\")\n",
    "# wc_deg_var = get_sets(wc_var, \"resW_z0_DT50.tss\", \"DT50\")\n",
    "\n",
    "nc_tmp_fix = get_sets(nc_fix, \"resW_z0_Temp.tss\", \"Temp\")\n",
    "nc_tmp_var = get_sets(nc_var, \"resW_z0_Temp.tss\", \"Temp\")\n",
    "\n",
    "# wc_tmp_fix = get_sets(wc_fix, \"resW_z0_Temp.tss\", \"Temp\")\n",
    "# wc_tmp_var = get_sets(wc_var, \"resW_z0_Temp.tss\", \"Temp\")\n",
    "\n",
    "nc_moi_fix = get_sets(nc_fix, \"resW_z0_thetaPropSat.tss\", \"Theta\")\n",
    "nc_moi_var = get_sets(nc_var, \"resW_z0_thetaPropSat.tss\", \"Theta\")\n",
    "\n",
    "# wc_moi_fix = get_sets(wc_fix, \"resW_z0_thetaPropSat.tss\", \"Theta\")\n",
    "# wc_moi_var = get_sets(wc_var, \"resW_z0_thetaPropSat.tss\", \"Theta\")"
   ]
  },
  {
   "cell_type": "code",
   "execution_count": 17,
   "metadata": {},
   "outputs": [],
   "source": [
    "def get_stats_df(df):\n",
    "    n = len(np.array(df.iloc[0,1:]))\n",
    "    df['mean'] = df.iloc[:,1:n+1].mean(axis=1)\n",
    "    df['min'] = df.iloc[:,1:n+1].min(axis=1)\n",
    "    df['max'] = df.iloc[:,1:n+1].max(axis=1)\n",
    "    df['sem'] = df.iloc[:,1:n+1].sem(axis=1)\n",
    "    df['sd'] = df.iloc[:,1:n+1].std(axis=1)\n",
    "    df['high'] = df['mean'] + 2.*df['sd']\n",
    "    df['low'] = df['mean'] - 2.*df['sd']\n",
    "#     df['high'] = df.apply(get_ci, args=(n, 0.95, True), axis=1)\n",
    "#     df['low'] = df.apply(get_ci, args=(n, 0.95, False), axis=1)\n",
    "    df['low'] = df.apply(check_negative, axis=1)\n",
    "    return df[['Jdays', 'mean', 'sd', 'high', 'low', 'max', 'min']]"
   ]
  },
  {
   "cell_type": "code",
   "execution_count": 61,
   "metadata": {},
   "outputs": [],
   "source": [
    "stat_fix = [get_stats_df(deg_fix), get_stats_df(tmp_fix), get_stats_df(moi_fix)]\n",
    "stat_var = [get_stats_df(deg_var), get_stats_df(tmp_var), get_stats_df(moi_var)]"
   ]
  },
  {
   "cell_type": "code",
   "execution_count": 62,
   "metadata": {},
   "outputs": [],
   "source": [
    "# stat_var[1].tail()\n",
    "# stat_fix[1].head()"
   ]
  },
  {
   "cell_type": "code",
   "execution_count": 18,
   "metadata": {},
   "outputs": [],
   "source": [
    "nc_stat_fix = [get_stats_df(nc_deg_fix), get_stats_df(nc_tmp_fix), get_stats_df(nc_moi_fix)]\n",
    "nc_stat_var = [get_stats_df(nc_deg_var), get_stats_df(nc_tmp_var), get_stats_df(nc_moi_var)]\n",
    "\n",
    "# wc_stat_fix = [get_stats_df(nc_deg_fix), get_stats_df(nc_tmp_fix), get_stats_df(nc_moi_fix)]\n",
    "# wc_stat_var = [get_stats_df(nc_deg_var), get_stats_df(nc_tmp_var), get_stats_df(nc_moi_var)]"
   ]
  },
  {
   "cell_type": "code",
   "execution_count": 24,
   "metadata": {},
   "outputs": [
    {
     "data": {
      "image/png": "[encoded data removed]",
      "text/plain": [
       "<Figure size 234x379.44 with 2 Axes>"
      ]
     },
     "metadata": {},
     "output_type": "display_data"
    }
   ],
   "source": [
    "# sns.set(rc={'figure.figsize':(11.7, 8.27)})\n",
    "# ES&T max width, 1 column = 3.25in, 2-col = 7in \n",
    "sns.set_context(\"paper\")\n",
    "sns.set(rc={'figure.figsize':(3.25, 5.27)}) # Width, height, inches\n",
    "\n",
    "fig, axes = plt.subplots(2, 1, sharex=False, sharey=False)\n",
    "\n",
    "\n",
    "\n",
    "ax1 = axes[0]\n",
    "ax2 = axes[1]\n",
    "# ax3 = axes[2]\n",
    "\n",
    "time = np.array(nc_stat_fix[0]['Jdays']-171)\n",
    "\n",
    "# ALL\n",
    "# deg_mean_fix = np.array(stat_fix[0]['mean'])\n",
    "# deg_high_fix = np.array(stat_fix[0]['high'])\n",
    "# deg_low_fix = np.array(stat_fix[0]['low'])\n",
    "\n",
    "# deg_mean_var = np.array(stat_var[0]['mean'])\n",
    "# deg_high_var = np.array(stat_var[0]['high'])\n",
    "# deg_low_var = np.array(stat_var[0]['low'])\n",
    "\n",
    "# tmp_mean_fix = np.array(stat_fix[1]['mean'])\n",
    "# tmp_high_fix = np.array(stat_fix[1]['high'])\n",
    "# tmp_low_fix = np.array(stat_fix[1]['low'])\n",
    "\n",
    "# tmp_mean_var = np.array(stat_var[1]['mean'])\n",
    "# tmp_high_var = np.array(stat_var[1]['high'])\n",
    "# tmp_low_var = np.array(stat_var[1]['low'])\n",
    "\n",
    "# moi_mean_fix = np.array(stat_fix[2]['mean'])\n",
    "# moi_high_fix = np.array(stat_fix[2]['high'])\n",
    "# moi_low_fix = np.array(stat_fix[2]['low'])\n",
    "\n",
    "# moi_mean_var = np.array(stat_var[2]['mean'])\n",
    "# moi_high_var = np.array(stat_var[2]['high'])\n",
    "# moi_low_var = np.array(stat_var[2]['low'])\n",
    "\n",
    "\n",
    "# NC\n",
    "nc_deg_mean_fix = np.array(nc_stat_fix[0]['mean'])\n",
    "nc_deg_high_fix = np.array(nc_stat_fix[0]['high'])\n",
    "nc_deg_low_fix = np.array(nc_stat_fix[0]['low'])\n",
    "\n",
    "nc_deg_mean_var = np.array(nc_stat_var[0]['mean'])\n",
    "nc_deg_high_var = np.array(nc_stat_var[0]['high'])\n",
    "nc_deg_low_var = np.array(nc_stat_var[0]['low'])\n",
    "\n",
    "nc_tmp_mean_fix = np.array(nc_stat_fix[1]['mean'])\n",
    "nc_tmp_high_fix = np.array(nc_stat_fix[1]['high'])\n",
    "nc_tmp_low_fix = np.array(nc_stat_fix[1]['low'])\n",
    "\n",
    "nc_tmp_mean_var = np.array(nc_stat_var[1]['mean'])\n",
    "nc_tmp_high_var = np.array(nc_stat_var[1]['high'])\n",
    "nc_tmp_low_var = np.array(nc_stat_var[1]['low'])\n",
    "\n",
    "nc_moi_mean_fix = np.array(nc_stat_fix[2]['mean'])\n",
    "nc_moi_high_fix = np.array(nc_stat_fix[2]['high'])\n",
    "nc_moi_low_fix = np.array(nc_stat_fix[2]['low'])\n",
    "\n",
    "nc_moi_mean_var = np.array(nc_stat_var[2]['mean'])\n",
    "nc_moi_high_var = np.array(nc_stat_var[2]['high'])\n",
    "nc_moi_low_var = np.array(nc_stat_var[2]['low'])\n",
    "\n",
    "\n",
    "# WC\n",
    "# wc_deg_mean_fix = np.array(wc_stat_fix[0]['mean'])\n",
    "# wc_deg_high_fix = np.array(wc_stat_fix[0]['high'])\n",
    "# wc_deg_low_fix = np.array(wc_stat_fix[0]['low'])\n",
    "\n",
    "# wc_deg_mean_var = np.array(wc_stat_var[0]['mean'])\n",
    "# wc_deg_high_var = np.array(wc_stat_var[0]['high'])\n",
    "# wc_deg_low_var = np.array(wc_stat_var[0]['low'])\n",
    "\n",
    "\n",
    "# wc_tmp_mean_fix = np.array(wc_stat_fix[1]['mean'])\n",
    "# wc_tmp_high_fix = np.array(wc_stat_fix[1]['high'])\n",
    "# wc_tmp_low_fix = np.array(wc_stat_fix[1]['low'])\n",
    "\n",
    "# wc_tmp_mean_var = np.array(wc_stat_var[1]['mean'])\n",
    "# wc_tmp_high_var = np.array(wc_stat_var[1]['high'])\n",
    "# wc_tmp_low_var = np.array(wc_stat_var[1]['low'])\n",
    "\n",
    "# wc_moi_mean_fix = np.array(wc_stat_fix[2]['mean'])\n",
    "# wc_moi_high_fix = np.array(wc_stat_fix[2]['high'])\n",
    "# wc_moi_low_fix = np.array(wc_stat_fix[2]['low'])\n",
    "\n",
    "# wc_moi_mean_var = np.array(wc_stat_var[2]['mean'])\n",
    "# wc_moi_high_var = np.array(wc_stat_var[2]['high'])\n",
    "# wc_moi_low_var = np.array(wc_stat_var[2]['low'])\n",
    "\n",
    "# NC (LEFT)\n",
    "ax1.plot(time, nc_deg_mean_fix, label='NC-fix') # c= \"red\", marker='.', linestyle=':'\n",
    "ax1.legend(loc=\"upper right\")\n",
    "ax1.fill_between(time, nc_deg_high_fix, nc_deg_low_fix, alpha=0.5)\n",
    "\n",
    "ax1.plot(time, nc_deg_mean_var, label='NC-var' ) #, color=\"C0\", linestyle=':') # c= \"red\", marker='.'\n",
    "ax1.legend(loc=\"upper right\")\n",
    "ax1.fill_between(time, nc_deg_high_var, nc_deg_low_var, alpha=0.5)\n",
    "\n",
    "# NC (RIGHT)\n",
    "ax2.plot(time, nc_tmp_mean_var, label='T (-)', color=\"C3\", linestyle=':') # c= \"red\", marker='.'\n",
    "ax2.fill_between(time, nc_tmp_high_var, nc_tmp_low_var, color=\"C3\", alpha=0.5)\n",
    "# # ax2.legend(loc=\"lower right\")\n",
    "\n",
    "ax2.plot(time, nc_moi_mean_var, label='$\\\\theta$ (-)', color=\"C2\", linestyle='-') # c= \"red\", marker='.'\n",
    "ax2.legend(loc=\"lower right\")\n",
    "ax2.fill_between(time, nc_moi_high_var, nc_moi_low_var, color=\"C2\", alpha=0.5)\n",
    "\n",
    "\n",
    "# WC\n",
    "# ax1.plot(time, deg_mean_fix, label='Fix DT50') # c= \"red\", marker='.', linestyle=':'\n",
    "# ax1.fill_between(time, deg_high_fix, deg_low_fix, alpha=0.5)\n",
    "\n",
    "# ax1.plot(time, deg_mean_var, label='Var DT50' ) #, color=\"C0\", linestyle=':') # c= \"red\", marker='.'\n",
    "# ax1.legend(loc=\"lower right\")\n",
    "# ax1.fill_between(time, deg_high_var, deg_low_var, alpha=0.5)\n",
    "\n",
    "\n",
    "# ax2.plot(time, wc_tmp_mean_fix, label='T-WC-fix') # c= \"red\", marker='.', linestyle=':'\n",
    "# ax2.legend(loc=\"upper left\")\n",
    "# ax2.fill_between(time, wc_tmp_high_fix, wc_tmp_low_fix, alpha=0.5)\n",
    "\n",
    "# ALL\n",
    "# ax2.plot(time, tmp_mean_var, label='T (-)', color=\"C3\", linestyle=':') # c= \"red\", marker='.'\n",
    "# ax2.fill_between(time, tmp_high_var, tmp_low_var, color=\"C3\", alpha=0.5)\n",
    "# # ax2.legend(loc=\"lower right\")\n",
    "\n",
    "# ax2.plot(time, moi_mean_var, label='$\\\\theta$ (-)', color=\"C2\", linestyle='-') # c= \"red\", marker='.'\n",
    "# ax2.legend(loc=\"lower right\")\n",
    "# ax2.fill_between(time, moi_high_var, moi_low_var, color=\"C2\", alpha=0.5)\n",
    "\n",
    "ax2.set_ylim(0, 1)\n",
    "ax1.set_ylim(0, 70)\n",
    "ax1.set_xlim(0, 115)\n",
    "\n",
    "ax1.set_ylabel(\"Effective DT50 (days)\")\n",
    "ax2.set_ylabel(\"f (-)\")\n",
    "ax2.set_xlabel(\"Days after 1st App.\")\n",
    "\n",
    "plt.subplots_adjust(left=.2, bottom=None, right=None, top=.97,\n",
    "                wspace=None, hspace=.3)\n",
    "\n",
    "# fig.savefig(\"Fig3_EffDT50.pdf\")\n"
   ]
  },
  {
   "cell_type": "code",
   "execution_count": 65,
   "metadata": {},
   "outputs": [
    {
     "data": {
      "text/plain": [
       "0.9983198074340066"
      ]
     },
     "execution_count": 65,
     "metadata": {},
     "output_type": "execute_result"
    }
   ],
   "source": [
    "tmp_cor = np.corrcoef(deg_mean_var, tmp_mean_var)[1, 0]\n",
    "tmp_cor"
   ]
  },
  {
   "cell_type": "code",
   "execution_count": 67,
   "metadata": {},
   "outputs": [
    {
     "data": {
      "text/plain": [
       "0.38453480776139465"
      ]
     },
     "execution_count": 67,
     "metadata": {},
     "output_type": "execute_result"
    }
   ],
   "source": [
    "moi_cor = np.corrcoef(deg_mean_var, moi_mean_var)[1, 0]\n",
    "moi_cor"
   ]
  },
  {
   "cell_type": "code",
   "execution_count": 69,
   "metadata": {},
   "outputs": [
    {
     "data": {
      "text/plain": [
       "3.1164007759699643"
      ]
     },
     "execution_count": 69,
     "metadata": {},
     "output_type": "execute_result"
    }
   ],
   "source": [
    "(deg_mean_var - deg_mean_fix).max()"
   ]
  },
  {
   "cell_type": "code",
   "execution_count": 358,
   "metadata": {},
   "outputs": [
    {
     "data": {
      "text/plain": [
       "array([32.85112706, 32.42772588, 32.14197294, 31.91202118, 31.78190353,\n",
       "       31.62337882, 31.52470118, 31.48880941, 31.50561765, 31.53042353,\n",
       "       31.53105412, 31.55535647, 31.56220824, 31.6129    , 31.55783059,\n",
       "       31.62955176, 31.7411    , 31.81963059, 31.77352588, 31.75295647,\n",
       "       31.90127882, 32.05902588, 32.14445647, 32.21136471, 32.15882941,\n",
       "       32.02609647, 31.95706118, 31.95513765, 31.96301765, 32.01260118,\n",
       "       32.02826118, 32.05751412, 32.12028235, 32.15679294, 32.10031529,\n",
       "       32.02956706, 31.96505647, 31.95807412, 31.98837882, 32.11543882,\n",
       "       32.06121647, 31.85145882, 31.67990706, 31.51803647, 31.38914353,\n",
       "       31.29340824, 31.26908941, 31.27175647, 31.34211176, 31.51109765,\n",
       "       31.61465412, 31.63145529, 31.70749882, 31.87913647, 32.09083294,\n",
       "       32.32666353, 32.54222588, 32.70018588, 32.78478235, 32.86025529,\n",
       "       32.89262   , 32.86132706, 32.67177059, 32.55920118, 32.49829412,\n",
       "       32.50266824, 32.47598706, 32.49446824, 32.62429412, 32.72936471,\n",
       "       32.72388706, 32.69995412, 32.68948   , 32.75793529, 32.92252235,\n",
       "       33.06501882, 33.15861647, 33.21152471, 33.20269529, 33.20321412,\n",
       "       33.23846588, 33.27514706, 33.32598   , 33.37955882, 33.49356706,\n",
       "       33.57517765, 33.62356235, 33.62923176, 33.61516118, 33.61709059,\n",
       "       33.61571059, 33.60372353, 33.52386118, 33.44970706, 33.36929059,\n",
       "       33.30287882, 33.26618706, 33.23808588, 33.20324353, 33.24992706,\n",
       "       33.41054941, 33.62803059, 33.85528706, 33.89319529, 33.83433529,\n",
       "       33.77102941, 33.76198941, 33.80665176, 33.85012706, 33.91675059,\n",
       "       33.89964471, 33.80890824, 33.77686588, 33.79282588, 33.78818118,\n",
       "       33.76891412, 33.79656118, 33.87346706, 33.97624118, 34.07922353,\n",
       "       34.13158588])"
      ]
     },
     "execution_count": 358,
     "metadata": {},
     "output_type": "execute_result"
    }
   ],
   "source": [
    "# Temp - Coefficient of variation\n",
    "deg_mean_var"
   ]
  },
  {
   "cell_type": "code",
   "execution_count": 87,
   "metadata": {},
   "outputs": [
    {
     "data": {
      "text/plain": [
       "61"
      ]
     },
     "execution_count": 87,
     "metadata": {},
     "output_type": "execute_result"
    }
   ],
   "source": [
    "len(tmp_mean_var[60:])"
   ]
  },
  {
   "cell_type": "code",
   "execution_count": 84,
   "metadata": {},
   "outputs": [
    {
     "data": {
      "text/plain": [
       "0.16951909414658511"
      ]
     },
     "execution_count": 84,
     "metadata": {},
     "output_type": "execute_result"
    }
   ],
   "source": [
    "((tmp_mean_var).var())**0.5/(tmp_mean_var).mean()"
   ]
  },
  {
   "cell_type": "code",
   "execution_count": 95,
   "metadata": {},
   "outputs": [
    {
     "data": {
      "text/plain": [
       "0.06482947109885452"
      ]
     },
     "execution_count": 95,
     "metadata": {},
     "output_type": "execute_result"
    }
   ],
   "source": [
    "# First half\n",
    "((tmp_mean_var[0:60]).var())**0.5/(tmp_mean_var[60:]).mean()"
   ]
  },
  {
   "cell_type": "code",
   "execution_count": 100,
   "metadata": {},
   "outputs": [
    {
     "data": {
      "text/plain": [
       "0.08145142405747036"
      ]
     },
     "execution_count": 100,
     "metadata": {},
     "output_type": "execute_result"
    }
   ],
   "source": [
    "# Second half\n",
    "((tmp_mean_var[60:]).var())**0.5/(tmp_mean_var[60:]).mean()"
   ]
  },
  {
   "cell_type": "code",
   "execution_count": null,
   "metadata": {},
   "outputs": [],
   "source": [
    "# Moisture "
   ]
  },
  {
   "cell_type": "code",
   "execution_count": 81,
   "metadata": {},
   "outputs": [
    {
     "data": {
      "text/plain": [
       "0.1137280820832682"
      ]
     },
     "execution_count": 81,
     "metadata": {},
     "output_type": "execute_result"
    }
   ],
   "source": [
    "((moi_mean_var).var())**0.5/(moi_mean_var).mean()"
   ]
  },
  {
   "cell_type": "code",
   "execution_count": 92,
   "metadata": {},
   "outputs": [
    {
     "data": {
      "text/plain": [
       "0.09018648517086797"
      ]
     },
     "execution_count": 92,
     "metadata": {},
     "output_type": "execute_result"
    }
   ],
   "source": [
    "# First half\n",
    "((moi_mean_var[0:60]).var())**0.5/(moi_mean_var[0:60]).mean()"
   ]
  },
  {
   "cell_type": "code",
   "execution_count": 99,
   "metadata": {},
   "outputs": [
    {
     "data": {
      "text/plain": [
       "0.10300100990701011"
      ]
     },
     "execution_count": 99,
     "metadata": {},
     "output_type": "execute_result"
    }
   ],
   "source": [
    "# Second half\n",
    "((moi_mean_var[60:]).var())**0.5/(moi_mean_var[60:]).mean()"
   ]
  },
  {
   "cell_type": "markdown",
   "metadata": {},
   "source": [
    "## Heatmap"
   ]
  },
  {
   "cell_type": "code",
   "execution_count": 318,
   "metadata": {},
   "outputs": [],
   "source": [
    "# sns.set()\n",
    "\n",
    "theta = np.arange(0.05,0.65, 0.05)\n",
    "theta\n",
    "temp = np.arange(5, 65, 5)\n",
    "temp\n",
    "\n",
    "dt50_ref = 30\n",
    "theta_ref = tmp_mean_fix.mean()\n",
    "temp_ref = 20.\n",
    "beta2 = 0.50\n",
    "\n",
    "def theta_factor_a(theta_ref, theta_obs, beta2):\n",
    "    return (theta_obs/theta_ref)**beta2\n",
    "\n",
    "def temp_factor(t_obs, t_ref):\n",
    "    tk_obs = t_obs + 273.15\n",
    "    tk_ref = t_ref + 273.15\n",
    "    E_a = 23.91  # Kj/mol\n",
    "    R = 0.008314  # mol Kelvin/ Kj\n",
    "    return np.exp((E_a/R)*(1/tk_obs - 1/tk_ref))"
   ]
  },
  {
   "cell_type": "code",
   "execution_count": 342,
   "metadata": {},
   "outputs": [],
   "source": [
    "x = []\n",
    "y = []\n",
    "z = []\n",
    "for i in theta:\n",
    "    for j in temp:\n",
    "        x.append(round(i,3))\n",
    "        y.append(int(j))\n",
    "        z.append(round(dt50_ref*theta_factor_a(theta_ref, i, beta2)*temp_factor(j, temp_ref),0))\n"
   ]
  },
  {
   "cell_type": "code",
   "execution_count": 343,
   "metadata": {},
   "outputs": [],
   "source": [
    "d = {'Moisture': x, 'Temp': y, 'DT50':z}\n",
    "df = pd.DataFrame(data=d)\n",
    "df1 = df.pivot(\"Moisture\", \"Temp\", \"DT50\")"
   ]
  },
  {
   "cell_type": "code",
   "execution_count": 344,
   "metadata": {},
   "outputs": [
    {
     "data": {
      "text/html": [
       "<div>\n",
       "<style scoped>\n",
       "    .dataframe tbody tr th:only-of-type {\n",
       "        vertical-align: middle;\n",
       "    }\n",
       "\n",
       "    .dataframe tbody tr th {\n",
       "        vertical-align: top;\n",
       "    }\n",
       "\n",
       "    .dataframe thead th {\n",
       "        text-align: right;\n",
       "    }\n",
       "</style>\n",
       "<table border=\"1\" class=\"dataframe\">\n",
       "  <thead>\n",
       "    <tr style=\"text-align: right;\">\n",
       "      <th>Temp</th>\n",
       "      <th>5</th>\n",
       "      <th>10</th>\n",
       "      <th>15</th>\n",
       "      <th>20</th>\n",
       "      <th>25</th>\n",
       "      <th>30</th>\n",
       "      <th>35</th>\n",
       "      <th>40</th>\n",
       "      <th>45</th>\n",
       "      <th>50</th>\n",
       "      <th>55</th>\n",
       "      <th>60</th>\n",
       "    </tr>\n",
       "    <tr>\n",
       "      <th>Moisture</th>\n",
       "      <th></th>\n",
       "      <th></th>\n",
       "      <th></th>\n",
       "      <th></th>\n",
       "      <th></th>\n",
       "      <th></th>\n",
       "      <th></th>\n",
       "      <th></th>\n",
       "      <th></th>\n",
       "      <th></th>\n",
       "      <th></th>\n",
       "      <th></th>\n",
       "    </tr>\n",
       "  </thead>\n",
       "  <tbody>\n",
       "    <tr>\n",
       "      <th>0.05</th>\n",
       "      <td>18.0</td>\n",
       "      <td>15.0</td>\n",
       "      <td>12.0</td>\n",
       "      <td>10.0</td>\n",
       "      <td>9.0</td>\n",
       "      <td>8.0</td>\n",
       "      <td>7.0</td>\n",
       "      <td>6.0</td>\n",
       "      <td>5.0</td>\n",
       "      <td>4.0</td>\n",
       "      <td>4.0</td>\n",
       "      <td>3.0</td>\n",
       "    </tr>\n",
       "    <tr>\n",
       "      <th>0.10</th>\n",
       "      <td>25.0</td>\n",
       "      <td>21.0</td>\n",
       "      <td>18.0</td>\n",
       "      <td>15.0</td>\n",
       "      <td>13.0</td>\n",
       "      <td>11.0</td>\n",
       "      <td>9.0</td>\n",
       "      <td>8.0</td>\n",
       "      <td>7.0</td>\n",
       "      <td>6.0</td>\n",
       "      <td>5.0</td>\n",
       "      <td>5.0</td>\n",
       "    </tr>\n",
       "    <tr>\n",
       "      <th>0.15</th>\n",
       "      <td>31.0</td>\n",
       "      <td>26.0</td>\n",
       "      <td>22.0</td>\n",
       "      <td>18.0</td>\n",
       "      <td>15.0</td>\n",
       "      <td>13.0</td>\n",
       "      <td>11.0</td>\n",
       "      <td>10.0</td>\n",
       "      <td>8.0</td>\n",
       "      <td>7.0</td>\n",
       "      <td>6.0</td>\n",
       "      <td>6.0</td>\n",
       "    </tr>\n",
       "    <tr>\n",
       "      <th>0.20</th>\n",
       "      <td>36.0</td>\n",
       "      <td>30.0</td>\n",
       "      <td>25.0</td>\n",
       "      <td>21.0</td>\n",
       "      <td>18.0</td>\n",
       "      <td>15.0</td>\n",
       "      <td>13.0</td>\n",
       "      <td>11.0</td>\n",
       "      <td>10.0</td>\n",
       "      <td>8.0</td>\n",
       "      <td>7.0</td>\n",
       "      <td>6.0</td>\n",
       "    </tr>\n",
       "    <tr>\n",
       "      <th>0.25</th>\n",
       "      <td>40.0</td>\n",
       "      <td>33.0</td>\n",
       "      <td>28.0</td>\n",
       "      <td>23.0</td>\n",
       "      <td>20.0</td>\n",
       "      <td>17.0</td>\n",
       "      <td>15.0</td>\n",
       "      <td>13.0</td>\n",
       "      <td>11.0</td>\n",
       "      <td>9.0</td>\n",
       "      <td>8.0</td>\n",
       "      <td>7.0</td>\n",
       "    </tr>\n",
       "    <tr>\n",
       "      <th>0.30</th>\n",
       "      <td>44.0</td>\n",
       "      <td>36.0</td>\n",
       "      <td>30.0</td>\n",
       "      <td>26.0</td>\n",
       "      <td>22.0</td>\n",
       "      <td>19.0</td>\n",
       "      <td>16.0</td>\n",
       "      <td>14.0</td>\n",
       "      <td>12.0</td>\n",
       "      <td>10.0</td>\n",
       "      <td>9.0</td>\n",
       "      <td>8.0</td>\n",
       "    </tr>\n",
       "    <tr>\n",
       "      <th>0.35</th>\n",
       "      <td>47.0</td>\n",
       "      <td>39.0</td>\n",
       "      <td>33.0</td>\n",
       "      <td>28.0</td>\n",
       "      <td>24.0</td>\n",
       "      <td>20.0</td>\n",
       "      <td>17.0</td>\n",
       "      <td>15.0</td>\n",
       "      <td>13.0</td>\n",
       "      <td>11.0</td>\n",
       "      <td>10.0</td>\n",
       "      <td>9.0</td>\n",
       "    </tr>\n",
       "    <tr>\n",
       "      <th>0.40</th>\n",
       "      <td>50.0</td>\n",
       "      <td>42.0</td>\n",
       "      <td>35.0</td>\n",
       "      <td>30.0</td>\n",
       "      <td>25.0</td>\n",
       "      <td>21.0</td>\n",
       "      <td>18.0</td>\n",
       "      <td>16.0</td>\n",
       "      <td>14.0</td>\n",
       "      <td>12.0</td>\n",
       "      <td>10.0</td>\n",
       "      <td>9.0</td>\n",
       "    </tr>\n",
       "    <tr>\n",
       "      <th>0.45</th>\n",
       "      <td>53.0</td>\n",
       "      <td>44.0</td>\n",
       "      <td>37.0</td>\n",
       "      <td>31.0</td>\n",
       "      <td>27.0</td>\n",
       "      <td>23.0</td>\n",
       "      <td>20.0</td>\n",
       "      <td>17.0</td>\n",
       "      <td>15.0</td>\n",
       "      <td>13.0</td>\n",
       "      <td>11.0</td>\n",
       "      <td>10.0</td>\n",
       "    </tr>\n",
       "    <tr>\n",
       "      <th>0.50</th>\n",
       "      <td>56.0</td>\n",
       "      <td>47.0</td>\n",
       "      <td>39.0</td>\n",
       "      <td>33.0</td>\n",
       "      <td>28.0</td>\n",
       "      <td>24.0</td>\n",
       "      <td>21.0</td>\n",
       "      <td>18.0</td>\n",
       "      <td>15.0</td>\n",
       "      <td>13.0</td>\n",
       "      <td>12.0</td>\n",
       "      <td>10.0</td>\n",
       "    </tr>\n",
       "    <tr>\n",
       "      <th>0.55</th>\n",
       "      <td>59.0</td>\n",
       "      <td>49.0</td>\n",
       "      <td>41.0</td>\n",
       "      <td>35.0</td>\n",
       "      <td>29.0</td>\n",
       "      <td>25.0</td>\n",
       "      <td>22.0</td>\n",
       "      <td>19.0</td>\n",
       "      <td>16.0</td>\n",
       "      <td>14.0</td>\n",
       "      <td>12.0</td>\n",
       "      <td>11.0</td>\n",
       "    </tr>\n",
       "    <tr>\n",
       "      <th>0.60</th>\n",
       "      <td>62.0</td>\n",
       "      <td>51.0</td>\n",
       "      <td>43.0</td>\n",
       "      <td>36.0</td>\n",
       "      <td>31.0</td>\n",
       "      <td>26.0</td>\n",
       "      <td>23.0</td>\n",
       "      <td>19.0</td>\n",
       "      <td>17.0</td>\n",
       "      <td>15.0</td>\n",
       "      <td>13.0</td>\n",
       "      <td>11.0</td>\n",
       "    </tr>\n",
       "  </tbody>\n",
       "</table>\n",
       "</div>"
      ],
      "text/plain": [
       "Temp        5     10    15    20    25    30    35    40    45    50    55  \\\n",
       "Moisture                                                                     \n",
       "0.05      18.0  15.0  12.0  10.0   9.0   8.0   7.0   6.0   5.0   4.0   4.0   \n",
       "0.10      25.0  21.0  18.0  15.0  13.0  11.0   9.0   8.0   7.0   6.0   5.0   \n",
       "0.15      31.0  26.0  22.0  18.0  15.0  13.0  11.0  10.0   8.0   7.0   6.0   \n",
       "0.20      36.0  30.0  25.0  21.0  18.0  15.0  13.0  11.0  10.0   8.0   7.0   \n",
       "0.25      40.0  33.0  28.0  23.0  20.0  17.0  15.0  13.0  11.0   9.0   8.0   \n",
       "0.30      44.0  36.0  30.0  26.0  22.0  19.0  16.0  14.0  12.0  10.0   9.0   \n",
       "0.35      47.0  39.0  33.0  28.0  24.0  20.0  17.0  15.0  13.0  11.0  10.0   \n",
       "0.40      50.0  42.0  35.0  30.0  25.0  21.0  18.0  16.0  14.0  12.0  10.0   \n",
       "0.45      53.0  44.0  37.0  31.0  27.0  23.0  20.0  17.0  15.0  13.0  11.0   \n",
       "0.50      56.0  47.0  39.0  33.0  28.0  24.0  21.0  18.0  15.0  13.0  12.0   \n",
       "0.55      59.0  49.0  41.0  35.0  29.0  25.0  22.0  19.0  16.0  14.0  12.0   \n",
       "0.60      62.0  51.0  43.0  36.0  31.0  26.0  23.0  19.0  17.0  15.0  13.0   \n",
       "\n",
       "Temp        60  \n",
       "Moisture        \n",
       "0.05       3.0  \n",
       "0.10       5.0  \n",
       "0.15       6.0  \n",
       "0.20       6.0  \n",
       "0.25       7.0  \n",
       "0.30       8.0  \n",
       "0.35       9.0  \n",
       "0.40       9.0  \n",
       "0.45      10.0  \n",
       "0.50      10.0  \n",
       "0.55      11.0  \n",
       "0.60      11.0  "
      ]
     },
     "execution_count": 344,
     "metadata": {},
     "output_type": "execute_result"
    }
   ],
   "source": [
    "df1"
   ]
  },
  {
   "cell_type": "code",
   "execution_count": 345,
   "metadata": {},
   "outputs": [
    {
     "data": {
      "text/plain": [
       "array([11.02675489, 10.18171302,  9.62212278,  9.17046709,  8.93183188])"
      ]
     },
     "execution_count": 345,
     "metadata": {},
     "output_type": "execute_result"
    }
   ],
   "source": [
    "iy = (0.4/.6)*12*0.93\n",
    "ix = (25/60.)*12.*0.90\n",
    "\n",
    "moi_mean_var[0:5]*.4\n",
    "tmp_mean_var[0:5]*27."
   ]
  },
  {
   "cell_type": "code",
   "execution_count": 346,
   "metadata": {},
   "outputs": [],
   "source": [
    "y_adj = 0.93\n",
    "x_adj = 0.90\n",
    "\n",
    "max_x = 60.\n",
    "max_y = .60\n",
    "max_moi = 0.50\n",
    "\n",
    "moi = ((moi_mean_var*max_moi)/max_y)*12*y_adj\n",
    "tmp = ((tmp_mean_var*27.)/max_x)*12*x_adj\n",
    "\n",
    "moi_h = ((moi_high_var*max_moi)/max_y)*12*y_adj\n",
    "tmp_h = ((tmp_high_var*27.)/max_x)*12*x_adj\n",
    "\n",
    "moi_l = ((moi_low_var*max_moi)/max_y)*12*y_adj\n",
    "tmp_l = ((tmp_low_var*27.)/max_x)*12*x_adj"
   ]
  },
  {
   "cell_type": "code",
   "execution_count": 347,
   "metadata": {},
   "outputs": [],
   "source": [
    "sns.set_context(\"paper\")\n",
    "sns.set(rc={'figure.figsize':(7, 4.)}) # Width, height, inches"
   ]
  },
  {
   "cell_type": "code",
   "execution_count": 348,
   "metadata": {},
   "outputs": [
    {
     "data": {
      "image/png": "[encoded data removed]",
      "text/plain": [
       "<Figure size 504x288 with 2 Axes>"
      ]
     },
     "metadata": {},
     "output_type": "display_data"
    }
   ],
   "source": [
    "ax = plt.axes()\n",
    "ax.set_title('Predicted DT50 - Arr. & Walker')\n",
    "heat1 = sns.heatmap(df1, ax=ax, annot=True)\n",
    "ax.scatter(tmp_h, moi_h, c=\"yellow\", marker='x', label=\"CI - 95%\", s=10, alpha=0.8)\n",
    "# ax.scatter(tmp, moi, c= \"green\", marker='x', label=\"CI - 50%\", s=10, alpha=0.8)\n",
    "ax.scatter(tmp_l, moi_l, c=\"green\", marker='x', label=\"CI - 5%\", s=10, alpha=0.8)\n",
    "ax.legend(markerscale = 3)\n",
    "plt.show()"
   ]
  },
  {
   "cell_type": "code",
   "execution_count": 121,
   "metadata": {},
   "outputs": [
    {
     "data": {
      "text/plain": [
       "(12.0, 0.0)"
      ]
     },
     "execution_count": 121,
     "metadata": {},
     "output_type": "execute_result"
    }
   ],
   "source": [
    "ax.get_ylim()"
   ]
  },
  {
   "cell_type": "code",
   "execution_count": 502,
   "metadata": {},
   "outputs": [
    {
     "data": {
      "text/plain": [
       "Text(0.5,12.5,'Days after 1st App.')"
      ]
     },
     "execution_count": 502,
     "metadata": {},
     "output_type": "execute_result"
    },
    {
     "data": {
      "image/png": "[encoded data removed]",
      "text/plain": [
       "<Figure size 720x288 with 3 Axes>"
      ]
     },
     "metadata": {},
     "output_type": "display_data"
    }
   ],
   "source": [
    "# sns.set(rc={'figure.figsize':(11.7, 8.27)})\n",
    "# ES&T max width, 1 column = 3.25in, 2-col = 7in \n",
    "sns.set_context(\"paper\")\n",
    "# sns.set(rc={'figure.figsize':(9.25, 5.27)}) # Width, height, inches\n",
    "sns.set(rc={'figure.figsize':(10.0, 4.)}) # Width, height, inches\n",
    "\n",
    "fig, axes = plt.subplots(1, 2, sharex=False, sharey=False)\n",
    "\n",
    "ax1 = axes[0]\n",
    "ax2 = axes[1]\n",
    "# ax3 = axes[2]\n",
    "\n",
    "time = np.array(nc_stat_fix[0]['Jdays']-171)\n",
    "\n",
    "# ALL\n",
    "deg_mean_fix = np.array(stat_fix[0]['mean'])\n",
    "deg_high_fix = np.array(stat_fix[0]['high'])\n",
    "deg_low_fix = np.array(stat_fix[0]['low'])\n",
    "\n",
    "deg_mean_var = np.array(stat_var[0]['mean'])\n",
    "deg_high_var = np.array(stat_var[0]['high'])\n",
    "deg_low_var = np.array(stat_var[0]['low'])\n",
    "\n",
    "tmp_mean_fix = np.array(stat_fix[1]['mean'])\n",
    "tmp_high_fix = np.array(stat_fix[1]['high'])\n",
    "tmp_low_fix = np.array(stat_fix[1]['low'])\n",
    "\n",
    "tmp_mean_var = np.array(stat_var[1]['mean'])\n",
    "tmp_high_var = np.array(stat_var[1]['high'])\n",
    "tmp_low_var = np.array(stat_var[1]['low'])\n",
    "\n",
    "moi_mean_fix = np.array(stat_fix[2]['mean'])\n",
    "moi_high_fix = np.array(stat_fix[2]['high'])\n",
    "moi_low_fix = np.array(stat_fix[2]['low'])\n",
    "\n",
    "moi_mean_var = np.array(stat_var[2]['mean'])\n",
    "moi_high_var = np.array(stat_var[2]['high'])\n",
    "moi_low_var = np.array(stat_var[2]['low'])\n",
    "\n",
    "heat1 = sns.heatmap(df1, ax=ax1, annot=True, \n",
    "                    cbar_kws={'label': '$\\overline{DT50}$$_{var}$'}\n",
    "                   )\n",
    "\n",
    "# ax1.scatter(tmp_h, moi_h, c=\"yellow\", marker='x', label=\"CI - 95%\", s=10, alpha=0.8)\n",
    "# ax1.scatter(tmp_l, moi_l, c=\"C0\", marker='x', label=\"CI - 5%\", s=10, alpha=0.8)\n",
    "\n",
    "# ax1.scatter(tmp, moi, c= \"green\", marker='x', label=\"CI - 50%\", s=10, alpha=0.8)\n",
    "# ax1.legend(markerscale = 3)\n",
    "\n",
    "ax2.plot(time, deg_mean_var/deg_mean_fix, label='DT50 (-)', color=\"green\", linestyle='-.') # c= \"red\", marker='.'\n",
    "ax2.fill_between(time, deg_low_var/deg_low_fix, deg_high_var/deg_high_fix, color=\"green\", alpha=0.5)\n",
    "\n",
    "ax2.plot(time, moi_mean_var, label='$\\\\theta$ (-)', color=\"C0\", linestyle='-') # c= \"red\", marker='.'\n",
    "ax2.fill_between(time, moi_high_var, moi_low_var, color=\"C0\", alpha=0.5)\n",
    "\n",
    "ax2.plot(time, tmp_mean_var, label='T (-)', color=\"C3\", linestyle=':') # c= \"red\", marker='.'\n",
    "ax2.fill_between(time, tmp_high_var, tmp_low_var, color=\"C3\", alpha=0.5)\n",
    "\n",
    "ax2.legend(loc=\"lower right\")\n",
    "ax2.set_ylim(0.1, 1.2)\n",
    "# ax1.set_ylim(0, 70)\n",
    "# ax1.set_xlim(0, 115)\n",
    "\n",
    "# ax1.set_ylabel(\"Effective DT50 (days)\")\n",
    "# ax2.set_ylabel(\"f (-)\")\n",
    "# ax2.set_xlabel(\"Days after 1st App.\")\n",
    "\n",
    "plt.subplots_adjust(left=None, bottom=None, right=None, top=None,\n",
    "                wspace=.3, hspace=None)\n",
    "\n",
    "rec1 = Rectangle((1, 4.), 2., 5, edgecolor=\"green\", linestyle=\"-\", linewidth=3., fill=False, alpha=1)\n",
    "ax1.add_patch(rec1)\n",
    "axes[1].annotate('$\\overline{DT50}$$_{fix}=$'+str(int(deg_mean_fix.mean()))+ ' (d)', xy=(-3, 0.75), # 1.2 \n",
    "                 xycoords='data')\n",
    "\n",
    "axes[1].annotate('$\\overline{\\\\theta}$$_{sat}=$'+str(0.5)+' (m$^{3}$m$^{-3}$)', xy=(-3, .43), # 0.75\n",
    "                 xycoords='data')\n",
    "\n",
    "axes[1].annotate('$T_{air, max}=$'+str(27)+' ($^{\\circ}$C)', xy=(-3, .2), # 0.75\n",
    "                 xycoords='data')\n",
    "\n",
    "axes[0].set_ylabel(\"Moisture ($m^{3}$ $m^{-3}$)\")\n",
    "axes[0].set_xlabel(\"Temp. ($^{\\circ}$C)\")\n",
    "\n",
    "axes[1].set_ylabel(\"$f$ (-)\")\n",
    "axes[1].set_xlabel(\"Days after 1st App.\")\n",
    "# fig.savefig(\"Fig3_EffDT50.pdf\")"
   ]
  },
  {
   "cell_type": "code",
   "execution_count": 493,
   "metadata": {},
   "outputs": [
    {
     "data": {
      "text/plain": [
       "1.096774193548387"
      ]
     },
     "execution_count": 493,
     "metadata": {},
     "output_type": "execute_result"
    }
   ],
   "source": [
    "34/31."
   ]
  },
  {
   "cell_type": "code",
   "execution_count": 449,
   "metadata": {},
   "outputs": [
    {
     "data": {
      "text/plain": [
       "32.63238039863879"
      ]
     },
     "execution_count": 449,
     "metadata": {},
     "output_type": "execute_result"
    }
   ],
   "source": [
    "deg_mean_var.mean()"
   ]
  },
  {
   "cell_type": "code",
   "execution_count": 475,
   "metadata": {},
   "outputs": [
    {
     "data": {
      "text/plain": [
       "52.80297858983003"
      ]
     },
     "execution_count": 475,
     "metadata": {},
     "output_type": "execute_result"
    }
   ],
   "source": [
    "deg_high_var.mean()"
   ]
  },
  {
   "cell_type": "code",
   "execution_count": 477,
   "metadata": {},
   "outputs": [
    {
     "data": {
      "text/plain": [
       "6.23089110372378"
      ]
     },
     "execution_count": 477,
     "metadata": {},
     "output_type": "execute_result"
    }
   ],
   "source": [
    "deg_low_var.mean()/2"
   ]
  },
  {
   "cell_type": "code",
   "execution_count": 471,
   "metadata": {},
   "outputs": [
    {
     "data": {
      "text/plain": [
       "6"
      ]
     },
     "execution_count": 471,
     "metadata": {},
     "output_type": "execute_result"
    }
   ],
   "source": [
    "32-26"
   ]
  },
  {
   "cell_type": "code",
   "execution_count": 472,
   "metadata": {},
   "outputs": [
    {
     "data": {
      "text/plain": [
       "20"
      ]
     },
     "execution_count": 472,
     "metadata": {},
     "output_type": "execute_result"
    }
   ],
   "source": [
    "32-12"
   ]
  },
  {
   "cell_type": "code",
   "execution_count": 476,
   "metadata": {},
   "outputs": [
    {
     "data": {
      "text/plain": [
       "14.017495177493432"
      ]
     },
     "execution_count": 476,
     "metadata": {},
     "output_type": "execute_result"
    }
   ],
   "source": [
    "deg_low_fix.mean()"
   ]
  },
  {
   "cell_type": "code",
   "execution_count": 478,
   "metadata": {},
   "outputs": [
    {
     "data": {
      "text/plain": [
       "48.01287503527252"
      ]
     },
     "execution_count": 478,
     "metadata": {},
     "output_type": "execute_result"
    }
   ],
   "source": [
    "deg_high_fix.mean()"
   ]
  },
  {
   "cell_type": "code",
   "execution_count": 479,
   "metadata": {},
   "outputs": [
    {
     "data": {
      "text/plain": [
       "31.015185106382987"
      ]
     },
     "execution_count": 479,
     "metadata": {},
     "output_type": "execute_result"
    }
   ],
   "source": [
    "deg_mean_fix.mean()"
   ]
  },
  {
   "cell_type": "code",
   "execution_count": null,
   "metadata": {},
   "outputs": [],
   "source": []
  }
 ],
 "metadata": {
  "kernelspec": {
   "display_name": "bunny",
   "language": "python",
   "name": "bunny"
  },
  "language_info": {
   "codemirror_mode": {
    "name": "ipython",
    "version": 2
   },
   "file_extension": ".py",
   "mimetype": "text/x-python",
   "name": "python",
   "nbconvert_exporter": "python",
   "pygments_lexer": "ipython2",
   "version": "2.7.14"
  }
 },
 "nbformat": 4,
 "nbformat_minor": 2
}
