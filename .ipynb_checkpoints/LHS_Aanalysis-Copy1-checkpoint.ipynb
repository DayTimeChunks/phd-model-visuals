{
 "cells": [
  {
   "cell_type": "code",
   "execution_count": 1,
   "metadata": {},
   "outputs": [],
   "source": [
    "import matplotlib.pyplot as plt\n",
    "import seaborn as sns\n",
    "import numpy as np\n",
    "import pandas as pd\n",
    "\n",
    "import pickle\n",
    "import os\n",
    "from constants_v1 import *\n",
    "from helpers import get_dff_fat"
   ]
  },
  {
   "cell_type": "code",
   "execution_count": 2,
   "metadata": {},
   "outputs": [
    {
     "data": {
      "text/plain": [
       "['z3_factor',\n",
       " 'cZ0Z1',\n",
       " 'cZ',\n",
       " 'c_adr',\n",
       " 'k_g',\n",
       " 'gamma01',\n",
       " 'gammaZ',\n",
       " 'f_transp',\n",
       " 'f_oc',\n",
       " 'k_oc',\n",
       " 'beta_runoff',\n",
       " 'dt_50_aged',\n",
       " 'dt_50_ab',\n",
       " 'dt_50_ref',\n",
       " 'epsilon_iso',\n",
       " 'beta_moisture']"
      ]
     },
     "execution_count": 2,
     "metadata": {},
     "output_type": "execute_result"
    }
   ],
   "source": [
    "parameters"
   ]
  },
  {
   "cell_type": "code",
   "execution_count": null,
   "metadata": {},
   "outputs": [],
   "source": [
    "kge = get_dff_vert('KGE', new=False) "
   ]
  },
  {
   "cell_type": "code",
   "execution_count": null,
   "metadata": {},
   "outputs": [],
   "source": [
    "kge.head()"
   ]
  },
  {
   "cell_type": "code",
   "execution_count": null,
   "metadata": {},
   "outputs": [],
   "source": [
    "x1 = kge.loc[(kge.Param == 'epsilon_iso')]\n",
    "g = sns.FacetGrid(x1, col=\"Level\", hue=\"Measure\")\n",
    "g.map(plt.scatter, \"x\", \"KGE\", alpha=.7)\n",
    "g.set(xlabel='epsilon_iso')\n",
    "g.add_legend()"
   ]
  },
  {
   "cell_type": "code",
   "execution_count": null,
   "metadata": {},
   "outputs": [],
   "source": [
    "x2 = kge.loc[(kge.Param == 'dt_50_ref')]\n",
    "g = sns.FacetGrid(x2, col=\"Level\", hue=\"Measure\")\n",
    "g.map(plt.scatter, \"x\", \"KGE\", alpha=.7)\n",
    "g.set(xlabel='dt_50_ref')\n",
    "g.add_legend()"
   ]
  },
  {
   "cell_type": "code",
   "execution_count": null,
   "metadata": {},
   "outputs": [],
   "source": [
    "nse = get_dff('NSE', new=False)"
   ]
  },
  {
   "cell_type": "code",
   "execution_count": null,
   "metadata": {},
   "outputs": [],
   "source": [
    "x1 = nse.loc[(nse.Param == 'epsilon_iso')]\n",
    "g = sns.FacetGrid(x1, col=\"Level\", hue=\"Measure\")\n",
    "g.map(plt.scatter, \"x\", \"NSE\", alpha=.7)\n",
    "g.set(xlabel='epsilon_iso')\n",
    "g.add_legend()"
   ]
  },
  {
   "cell_type": "code",
   "execution_count": null,
   "metadata": {
    "scrolled": true
   },
   "outputs": [],
   "source": [
    "x2 = nse.loc[(nse.Param == 'dt_50_ref')]\n",
    "g = sns.FacetGrid(x2, col=\"Level\", hue=\"Measure\")\n",
    "g.map(plt.scatter, \"x\", \"NSE\", alpha=.7)\n",
    "g.set(xlabel='dt_50_ref')\n",
    "g.add_legend()"
   ]
  },
  {
   "cell_type": "markdown",
   "metadata": {},
   "source": [
    "## Tests"
   ]
  },
  {
   "cell_type": "code",
   "execution_count": null,
   "metadata": {},
   "outputs": [],
   "source": [
    "nseEpsi = nse.loc[(nse.Param == 'epsilon_iso')]\n",
    "nseDT50 = nse.loc[(nse.Param == 'dt_50_ref')]\n",
    "\n",
    "nseDeg = pd.merge(nseEpsi, nseDT50,  how='inner', on='Set')\n",
    "nseDeg = nseDeg.loc[(nseDeg.Measure_y == \"d13C\")]\n",
    "nseDeg = nseDeg.loc[(nseDeg.NSE_y > 0.5)]\n",
    "nseDeg.head()\n",
    "# nseBeh = nse.loc[(nse.NSE > -.5)]\n",
    "# nseBeh"
   ]
  }
 ],
 "metadata": {
  "kernelspec": {
   "display_name": "bunny",
   "language": "python",
   "name": "bunny"
  },
  "language_info": {
   "codemirror_mode": {
    "name": "ipython",
    "version": 2
   },
   "file_extension": ".py",
   "mimetype": "text/x-python",
   "name": "python",
   "nbconvert_exporter": "python",
   "pygments_lexer": "ipython2",
   "version": "2.7.14"
  }
 },
 "nbformat": 4,
 "nbformat_minor": 2
}
