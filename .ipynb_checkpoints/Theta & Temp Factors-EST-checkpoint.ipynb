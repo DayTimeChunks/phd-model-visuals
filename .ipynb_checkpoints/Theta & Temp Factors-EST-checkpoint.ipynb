{
 "cells": [
  {
   "cell_type": "code",
   "execution_count": 1,
   "metadata": {},
   "outputs": [],
   "source": []
  },
  {
   "cell_type": "code",
   "execution_count": 2,
   "metadata": {},
   "outputs": [
    {
     "data": {
      "text/plain": [
       "array([0.05, 0.1 , 0.15, 0.2 , 0.25, 0.3 , 0.35, 0.4 , 0.45, 0.5 , 0.55,\n",
       "       0.6 ])"
      ]
     },
     "execution_count": 2,
     "metadata": {},
     "output_type": "execute_result"
    }
   ],
   "source": [
    "theta = np.arange(0.05,0.65, 0.05)\n",
    "theta"
   ]
  },
  {
   "cell_type": "code",
   "execution_count": 3,
   "metadata": {},
   "outputs": [
    {
     "data": {
      "text/plain": [
       "array([ 5, 10, 15, 20, 25, 30, 35, 40, 45, 50, 55, 60])"
      ]
     },
     "execution_count": 3,
     "metadata": {},
     "output_type": "execute_result"
    }
   ],
   "source": [
    "import numpy as np\n",
    "import seaborn as sns\n",
    "sns.set()\n",
    "\n",
    "theta = np.arange(0.05,0.65, 0.05)\n",
    "theta\n",
    "temp = np.arange(5, 65, 5)\n",
    "temp\n",
    "\n",
    "dt50_ref = 30\n",
    "theta_ref = 0.20\n",
    "temp_ref = 20.0\n",
    "beta2 = 0.45\n",
    "beta_prime = 0.5\n",
    "\n",
    "def theta_factor_a(theta_ref, theta_obs, beta2):\n",
    "    return (theta_obs/theta_ref)**beta2\n",
    "\n",
    "def theta_factor_b(theta_obs, beta_prime):\n",
    "    WP = 0.19\n",
    "    W100 = 0.43\n",
    "    if theta_obs < 0.5*WP:\n",
    "        return 0\n",
    "    elif theta_obs <= W100:\n",
    "        return ((theta_obs-0.5*WP)/(W100-WP))**beta_prime\n",
    "    else:\n",
    "        return 1\n",
    "\n",
    "def temp_factor(t_obs, t_ref):\n",
    "    tk_obs = t_obs + 273.15\n",
    "    tk_ref = t_ref + 273.15\n",
    "    E_a = 23.91  # Kj/mol\n",
    "    R = 0.008314  # mol Kelvin/ Kj\n",
    "    return np.exp((E_a/R)*(1/tk_obs - 1/tk_ref))"
   ]
  },
  {
   "cell_type": "code",
   "execution_count": 4,
   "metadata": {},
   "outputs": [],
   "source": []
  },
  {
   "cell_type": "code",
   "execution_count": 5,
   "metadata": {},
   "outputs": [],
   "source": [
    "\n",
    "    "
   ]
  },
  {
   "cell_type": "markdown",
   "metadata": {},
   "source": [
    "# Plotting"
   ]
  },
  {
   "cell_type": "code",
   "execution_count": 6,
   "metadata": {},
   "outputs": [],
   "source": [
    "import pandas as pd\n",
    "import seaborn as sns\n",
    "sns.set()\n",
    "import matplotlib.pyplot as plt"
   ]
  },
  {
   "cell_type": "markdown",
   "metadata": {},
   "source": [
    "## Option 1, $\\theta$ equation 3.50 (Walker, 1974)\n",
    "\n",
    "Walker, A. (1974). “A simulation model for prediction of herbicide persistence”. Journal of Envi- ronmental Quality 3, p. 396–401."
   ]
  },
  {
   "cell_type": "code",
   "execution_count": 7,
   "metadata": {},
   "outputs": [],
   "source": [
    "x = []\n",
    "y = []\n",
    "z = []\n",
    "for i in theta:\n",
    "    for j in temp:\n",
    "        x.append(round(i,3))\n",
    "        y.append(int(j))\n",
    "        z.append(round(dt50_ref*theta_factor_a(theta_ref, i, beta2)*temp_factor(j, temp_ref),2))\n"
   ]
  },
  {
   "cell_type": "code",
   "execution_count": 8,
   "metadata": {},
   "outputs": [],
   "source": [
    "d = {'Moisture': x, 'Temp': y, 'DT50':z}\n",
    "df = pd.DataFrame(data=d)"
   ]
  },
  {
   "cell_type": "code",
   "execution_count": 9,
   "metadata": {},
   "outputs": [],
   "source": [
    "df1 = df.pivot(\"Moisture\", \"Temp\", \"DT50\")"
   ]
  },
  {
   "cell_type": "code",
   "execution_count": 10,
   "metadata": {},
   "outputs": [
    {
     "data": {
      "text/html": [
       "<div>\n",
       "<style scoped>\n",
       "    .dataframe tbody tr th:only-of-type {\n",
       "        vertical-align: middle;\n",
       "    }\n",
       "\n",
       "    .dataframe tbody tr th {\n",
       "        vertical-align: top;\n",
       "    }\n",
       "\n",
       "    .dataframe thead th {\n",
       "        text-align: right;\n",
       "    }\n",
       "</style>\n",
       "<table border=\"1\" class=\"dataframe\">\n",
       "  <thead>\n",
       "    <tr style=\"text-align: right;\">\n",
       "      <th>Temp</th>\n",
       "      <th>5</th>\n",
       "      <th>10</th>\n",
       "      <th>15</th>\n",
       "      <th>20</th>\n",
       "      <th>25</th>\n",
       "      <th>30</th>\n",
       "      <th>35</th>\n",
       "      <th>40</th>\n",
       "      <th>45</th>\n",
       "      <th>50</th>\n",
       "      <th>55</th>\n",
       "      <th>60</th>\n",
       "    </tr>\n",
       "    <tr>\n",
       "      <th>Moisture</th>\n",
       "      <th></th>\n",
       "      <th></th>\n",
       "      <th></th>\n",
       "      <th></th>\n",
       "      <th></th>\n",
       "      <th></th>\n",
       "      <th></th>\n",
       "      <th></th>\n",
       "      <th></th>\n",
       "      <th></th>\n",
       "      <th></th>\n",
       "      <th></th>\n",
       "    </tr>\n",
       "  </thead>\n",
       "  <tbody>\n",
       "    <tr>\n",
       "      <th>0.05</th>\n",
       "      <td>27.29</td>\n",
       "      <td>22.73</td>\n",
       "      <td>19.06</td>\n",
       "      <td>16.08</td>\n",
       "      <td>13.64</td>\n",
       "      <td>11.63</td>\n",
       "      <td>9.97</td>\n",
       "      <td>8.59</td>\n",
       "      <td>7.44</td>\n",
       "      <td>6.47</td>\n",
       "      <td>5.65</td>\n",
       "      <td>4.95</td>\n",
       "    </tr>\n",
       "    <tr>\n",
       "      <th>0.10</th>\n",
       "      <td>37.28</td>\n",
       "      <td>31.05</td>\n",
       "      <td>26.04</td>\n",
       "      <td>21.96</td>\n",
       "      <td>18.63</td>\n",
       "      <td>15.89</td>\n",
       "      <td>13.62</td>\n",
       "      <td>11.74</td>\n",
       "      <td>10.16</td>\n",
       "      <td>8.83</td>\n",
       "      <td>7.71</td>\n",
       "      <td>6.76</td>\n",
       "    </tr>\n",
       "    <tr>\n",
       "      <th>0.15</th>\n",
       "      <td>44.74</td>\n",
       "      <td>37.27</td>\n",
       "      <td>31.25</td>\n",
       "      <td>26.36</td>\n",
       "      <td>22.36</td>\n",
       "      <td>19.07</td>\n",
       "      <td>16.35</td>\n",
       "      <td>14.09</td>\n",
       "      <td>12.19</td>\n",
       "      <td>10.60</td>\n",
       "      <td>9.26</td>\n",
       "      <td>8.12</td>\n",
       "    </tr>\n",
       "    <tr>\n",
       "      <th>0.20</th>\n",
       "      <td>50.92</td>\n",
       "      <td>42.42</td>\n",
       "      <td>35.57</td>\n",
       "      <td>30.00</td>\n",
       "      <td>25.45</td>\n",
       "      <td>21.71</td>\n",
       "      <td>18.61</td>\n",
       "      <td>16.03</td>\n",
       "      <td>13.88</td>\n",
       "      <td>12.07</td>\n",
       "      <td>10.54</td>\n",
       "      <td>9.24</td>\n",
       "    </tr>\n",
       "    <tr>\n",
       "      <th>0.25</th>\n",
       "      <td>56.30</td>\n",
       "      <td>46.90</td>\n",
       "      <td>39.32</td>\n",
       "      <td>33.17</td>\n",
       "      <td>28.14</td>\n",
       "      <td>24.00</td>\n",
       "      <td>20.57</td>\n",
       "      <td>17.73</td>\n",
       "      <td>15.34</td>\n",
       "      <td>13.34</td>\n",
       "      <td>11.65</td>\n",
       "      <td>10.21</td>\n",
       "    </tr>\n",
       "    <tr>\n",
       "      <th>0.30</th>\n",
       "      <td>61.11</td>\n",
       "      <td>50.91</td>\n",
       "      <td>42.69</td>\n",
       "      <td>36.00</td>\n",
       "      <td>30.54</td>\n",
       "      <td>26.05</td>\n",
       "      <td>22.33</td>\n",
       "      <td>19.24</td>\n",
       "      <td>16.66</td>\n",
       "      <td>14.48</td>\n",
       "      <td>12.65</td>\n",
       "      <td>11.09</td>\n",
       "    </tr>\n",
       "    <tr>\n",
       "      <th>0.35</th>\n",
       "      <td>65.50</td>\n",
       "      <td>54.57</td>\n",
       "      <td>45.75</td>\n",
       "      <td>38.59</td>\n",
       "      <td>32.74</td>\n",
       "      <td>27.92</td>\n",
       "      <td>23.94</td>\n",
       "      <td>20.62</td>\n",
       "      <td>17.85</td>\n",
       "      <td>15.52</td>\n",
       "      <td>13.55</td>\n",
       "      <td>11.88</td>\n",
       "    </tr>\n",
       "    <tr>\n",
       "      <th>0.40</th>\n",
       "      <td>69.56</td>\n",
       "      <td>57.95</td>\n",
       "      <td>48.59</td>\n",
       "      <td>40.98</td>\n",
       "      <td>34.76</td>\n",
       "      <td>29.65</td>\n",
       "      <td>25.42</td>\n",
       "      <td>21.90</td>\n",
       "      <td>18.96</td>\n",
       "      <td>16.48</td>\n",
       "      <td>14.39</td>\n",
       "      <td>12.62</td>\n",
       "    </tr>\n",
       "    <tr>\n",
       "      <th>0.45</th>\n",
       "      <td>73.34</td>\n",
       "      <td>61.10</td>\n",
       "      <td>51.23</td>\n",
       "      <td>43.21</td>\n",
       "      <td>36.66</td>\n",
       "      <td>31.27</td>\n",
       "      <td>26.80</td>\n",
       "      <td>23.09</td>\n",
       "      <td>19.99</td>\n",
       "      <td>17.38</td>\n",
       "      <td>15.18</td>\n",
       "      <td>13.31</td>\n",
       "    </tr>\n",
       "    <tr>\n",
       "      <th>0.50</th>\n",
       "      <td>76.91</td>\n",
       "      <td>64.07</td>\n",
       "      <td>53.72</td>\n",
       "      <td>45.31</td>\n",
       "      <td>38.44</td>\n",
       "      <td>32.78</td>\n",
       "      <td>28.11</td>\n",
       "      <td>24.22</td>\n",
       "      <td>20.96</td>\n",
       "      <td>18.22</td>\n",
       "      <td>15.91</td>\n",
       "      <td>13.95</td>\n",
       "    </tr>\n",
       "    <tr>\n",
       "      <th>0.55</th>\n",
       "      <td>80.28</td>\n",
       "      <td>66.88</td>\n",
       "      <td>56.07</td>\n",
       "      <td>47.30</td>\n",
       "      <td>40.12</td>\n",
       "      <td>34.22</td>\n",
       "      <td>29.34</td>\n",
       "      <td>25.28</td>\n",
       "      <td>21.88</td>\n",
       "      <td>19.02</td>\n",
       "      <td>16.61</td>\n",
       "      <td>14.56</td>\n",
       "    </tr>\n",
       "    <tr>\n",
       "      <th>0.60</th>\n",
       "      <td>83.48</td>\n",
       "      <td>69.55</td>\n",
       "      <td>58.31</td>\n",
       "      <td>49.18</td>\n",
       "      <td>41.72</td>\n",
       "      <td>35.59</td>\n",
       "      <td>30.51</td>\n",
       "      <td>26.29</td>\n",
       "      <td>22.75</td>\n",
       "      <td>19.78</td>\n",
       "      <td>17.27</td>\n",
       "      <td>15.15</td>\n",
       "    </tr>\n",
       "  </tbody>\n",
       "</table>\n",
       "</div>"
      ],
      "text/plain": [
       "Temp         5      10     15     20     25     30     35     40     45  \\\n",
       "Moisture                                                                  \n",
       "0.05      27.29  22.73  19.06  16.08  13.64  11.63   9.97   8.59   7.44   \n",
       "0.10      37.28  31.05  26.04  21.96  18.63  15.89  13.62  11.74  10.16   \n",
       "0.15      44.74  37.27  31.25  26.36  22.36  19.07  16.35  14.09  12.19   \n",
       "0.20      50.92  42.42  35.57  30.00  25.45  21.71  18.61  16.03  13.88   \n",
       "0.25      56.30  46.90  39.32  33.17  28.14  24.00  20.57  17.73  15.34   \n",
       "0.30      61.11  50.91  42.69  36.00  30.54  26.05  22.33  19.24  16.66   \n",
       "0.35      65.50  54.57  45.75  38.59  32.74  27.92  23.94  20.62  17.85   \n",
       "0.40      69.56  57.95  48.59  40.98  34.76  29.65  25.42  21.90  18.96   \n",
       "0.45      73.34  61.10  51.23  43.21  36.66  31.27  26.80  23.09  19.99   \n",
       "0.50      76.91  64.07  53.72  45.31  38.44  32.78  28.11  24.22  20.96   \n",
       "0.55      80.28  66.88  56.07  47.30  40.12  34.22  29.34  25.28  21.88   \n",
       "0.60      83.48  69.55  58.31  49.18  41.72  35.59  30.51  26.29  22.75   \n",
       "\n",
       "Temp         50     55     60  \n",
       "Moisture                       \n",
       "0.05       6.47   5.65   4.95  \n",
       "0.10       8.83   7.71   6.76  \n",
       "0.15      10.60   9.26   8.12  \n",
       "0.20      12.07  10.54   9.24  \n",
       "0.25      13.34  11.65  10.21  \n",
       "0.30      14.48  12.65  11.09  \n",
       "0.35      15.52  13.55  11.88  \n",
       "0.40      16.48  14.39  12.62  \n",
       "0.45      17.38  15.18  13.31  \n",
       "0.50      18.22  15.91  13.95  \n",
       "0.55      19.02  16.61  14.56  \n",
       "0.60      19.78  17.27  15.15  "
      ]
     },
     "execution_count": 10,
     "metadata": {},
     "output_type": "execute_result"
    }
   ],
   "source": [
    "df1"
   ]
  },
  {
   "cell_type": "code",
   "execution_count": 36,
   "metadata": {},
   "outputs": [
    {
     "data": {
      "text/plain": [
       "7.44"
      ]
     },
     "execution_count": 36,
     "metadata": {},
     "output_type": "execute_result"
    }
   ],
   "source": [
    "iy = (0.4/.6)*12*0.93\n",
    "ix = (25/60.)*12.*0.90\n",
    "\n",
    "# ax.scatter(ix, iy, c= \"green\", marker='s', label=\"$\\Delta$DT50 = -0.3 d.\", s=80)"
   ]
  },
  {
   "cell_type": "code",
   "execution_count": 38,
   "metadata": {},
   "outputs": [
    {
     "data": {
      "image/png": "[encoded data removed]",
      "text/plain": [
       "<Figure size 432x288 with 2 Axes>"
      ]
     },
     "metadata": {},
     "output_type": "display_data"
    }
   ],
   "source": [
    "ax = plt.axes()\n",
    "ax.set_title('Predicted DT50 - Arr. & Walker')\n",
    "heat1 = sns.heatmap(df1, ax=ax)\n",
    "ax.scatter(3.5, 7.5, c= \"green\", marker='.', label=\"$\\Delta$DT50 = -0.1 d.\", s=200)\n",
    "ax.scatter(5.5, 3.5, c= \"green\", marker='^', label=\"$\\Delta$DT50 = -6.1 d.\", s=80)\n",
    "ax.scatter(5.5, 7.5, c= \"green\", marker='v', label=\"$\\Delta$DT50 = -0.3 d.\", s=80)\n",
    "ax.legend(markerscale = 0.5)\n",
    "plt.show()"
   ]
  },
  {
   "cell_type": "code",
   "execution_count": 13,
   "metadata": {},
   "outputs": [
    {
     "data": {
      "text/plain": [
       "(12.0, 0.0)"
      ]
     },
     "execution_count": 13,
     "metadata": {},
     "output_type": "execute_result"
    }
   ],
   "source": [
    "ax.get_ylim()"
   ]
  },
  {
   "cell_type": "code",
   "execution_count": 14,
   "metadata": {},
   "outputs": [
    {
     "data": {
      "text/plain": [
       "(0.0, 12.0)"
      ]
     },
     "execution_count": 14,
     "metadata": {},
     "output_type": "execute_result"
    }
   ],
   "source": [
    "ax.get_xlim()"
   ]
  },
  {
   "cell_type": "code",
   "execution_count": 15,
   "metadata": {},
   "outputs": [],
   "source": [
    "# figure = heat1.get_figure()    \n",
    "# figure.savefig('heat1.pdf', dpi=400)"
   ]
  },
  {
   "cell_type": "markdown",
   "metadata": {},
   "source": [
    "## Option 2, $\\theta$ equation 3.52 (Scrholl et al., 2006)\n",
    "\n",
    "Schroll, R., H. H. Becher, U. Dorfler, S. Gayler, H. P. Hartmann et J. Ruoss (2006). “Quantifying the effect of soil moisture on the aerobic microbial mineralization of selected pes- ticides in different soils”. Environmental Science & Technology 40.10, p. 3305–3312.\n",
    "Schwen,"
   ]
  },
  {
   "cell_type": "code",
   "execution_count": 16,
   "metadata": {},
   "outputs": [],
   "source": [
    "x = []\n",
    "y = []\n",
    "z = []\n",
    "for i in theta:\n",
    "    for j in temp:\n",
    "        x.append(round(i,3))\n",
    "        y.append(int(j))\n",
    "        z.append(round(dt50_ref*theta_factor_b(i, beta_prime)*temp_factor(j, temp_ref), 2))"
   ]
  },
  {
   "cell_type": "code",
   "execution_count": 17,
   "metadata": {},
   "outputs": [],
   "source": [
    "d = {'Moisture': x, 'Temp': y, 'DT50':z}\n",
    "df = pd.DataFrame(data=d)\n",
    "df2 = df.pivot(\"Moisture\", \"Temp\", \"DT50\")"
   ]
  },
  {
   "cell_type": "code",
   "execution_count": 18,
   "metadata": {},
   "outputs": [
    {
     "data": {
      "text/html": [
       "<div>\n",
       "<style scoped>\n",
       "    .dataframe tbody tr th:only-of-type {\n",
       "        vertical-align: middle;\n",
       "    }\n",
       "\n",
       "    .dataframe tbody tr th {\n",
       "        vertical-align: top;\n",
       "    }\n",
       "\n",
       "    .dataframe thead th {\n",
       "        text-align: right;\n",
       "    }\n",
       "</style>\n",
       "<table border=\"1\" class=\"dataframe\">\n",
       "  <thead>\n",
       "    <tr style=\"text-align: right;\">\n",
       "      <th>Temp</th>\n",
       "      <th>5</th>\n",
       "      <th>10</th>\n",
       "      <th>15</th>\n",
       "      <th>20</th>\n",
       "      <th>25</th>\n",
       "      <th>30</th>\n",
       "      <th>35</th>\n",
       "      <th>40</th>\n",
       "      <th>45</th>\n",
       "      <th>50</th>\n",
       "      <th>55</th>\n",
       "      <th>60</th>\n",
       "    </tr>\n",
       "    <tr>\n",
       "      <th>Moisture</th>\n",
       "      <th></th>\n",
       "      <th></th>\n",
       "      <th></th>\n",
       "      <th></th>\n",
       "      <th></th>\n",
       "      <th></th>\n",
       "      <th></th>\n",
       "      <th></th>\n",
       "      <th></th>\n",
       "      <th></th>\n",
       "      <th></th>\n",
       "      <th></th>\n",
       "    </tr>\n",
       "  </thead>\n",
       "  <tbody>\n",
       "    <tr>\n",
       "      <th>0.05</th>\n",
       "      <td>0.00</td>\n",
       "      <td>0.00</td>\n",
       "      <td>0.00</td>\n",
       "      <td>0.00</td>\n",
       "      <td>0.00</td>\n",
       "      <td>0.00</td>\n",
       "      <td>0.00</td>\n",
       "      <td>0.00</td>\n",
       "      <td>0.00</td>\n",
       "      <td>0.00</td>\n",
       "      <td>0.00</td>\n",
       "      <td>0.00</td>\n",
       "    </tr>\n",
       "    <tr>\n",
       "      <th>0.10</th>\n",
       "      <td>7.35</td>\n",
       "      <td>6.12</td>\n",
       "      <td>5.13</td>\n",
       "      <td>4.33</td>\n",
       "      <td>3.67</td>\n",
       "      <td>3.13</td>\n",
       "      <td>2.69</td>\n",
       "      <td>2.31</td>\n",
       "      <td>2.00</td>\n",
       "      <td>1.74</td>\n",
       "      <td>1.52</td>\n",
       "      <td>1.33</td>\n",
       "    </tr>\n",
       "    <tr>\n",
       "      <th>0.15</th>\n",
       "      <td>24.38</td>\n",
       "      <td>20.31</td>\n",
       "      <td>17.03</td>\n",
       "      <td>14.36</td>\n",
       "      <td>12.18</td>\n",
       "      <td>10.39</td>\n",
       "      <td>8.91</td>\n",
       "      <td>7.68</td>\n",
       "      <td>6.64</td>\n",
       "      <td>5.78</td>\n",
       "      <td>5.04</td>\n",
       "      <td>4.42</td>\n",
       "    </tr>\n",
       "    <tr>\n",
       "      <th>0.20</th>\n",
       "      <td>33.68</td>\n",
       "      <td>28.06</td>\n",
       "      <td>23.53</td>\n",
       "      <td>19.84</td>\n",
       "      <td>16.83</td>\n",
       "      <td>14.36</td>\n",
       "      <td>12.31</td>\n",
       "      <td>10.60</td>\n",
       "      <td>9.18</td>\n",
       "      <td>7.98</td>\n",
       "      <td>6.97</td>\n",
       "      <td>6.11</td>\n",
       "    </tr>\n",
       "    <tr>\n",
       "      <th>0.25</th>\n",
       "      <td>40.92</td>\n",
       "      <td>34.09</td>\n",
       "      <td>28.58</td>\n",
       "      <td>24.11</td>\n",
       "      <td>20.45</td>\n",
       "      <td>17.44</td>\n",
       "      <td>14.96</td>\n",
       "      <td>12.88</td>\n",
       "      <td>11.15</td>\n",
       "      <td>9.70</td>\n",
       "      <td>8.47</td>\n",
       "      <td>7.42</td>\n",
       "    </tr>\n",
       "    <tr>\n",
       "      <th>0.30</th>\n",
       "      <td>47.06</td>\n",
       "      <td>39.21</td>\n",
       "      <td>32.87</td>\n",
       "      <td>27.73</td>\n",
       "      <td>23.52</td>\n",
       "      <td>20.06</td>\n",
       "      <td>17.20</td>\n",
       "      <td>14.82</td>\n",
       "      <td>12.83</td>\n",
       "      <td>11.15</td>\n",
       "      <td>9.74</td>\n",
       "      <td>8.54</td>\n",
       "    </tr>\n",
       "    <tr>\n",
       "      <th>0.35</th>\n",
       "      <td>52.49</td>\n",
       "      <td>43.73</td>\n",
       "      <td>36.66</td>\n",
       "      <td>30.92</td>\n",
       "      <td>26.23</td>\n",
       "      <td>22.37</td>\n",
       "      <td>19.18</td>\n",
       "      <td>16.53</td>\n",
       "      <td>14.31</td>\n",
       "      <td>12.44</td>\n",
       "      <td>10.86</td>\n",
       "      <td>9.52</td>\n",
       "    </tr>\n",
       "    <tr>\n",
       "      <th>0.40</th>\n",
       "      <td>57.40</td>\n",
       "      <td>47.82</td>\n",
       "      <td>40.10</td>\n",
       "      <td>33.82</td>\n",
       "      <td>28.69</td>\n",
       "      <td>24.47</td>\n",
       "      <td>20.98</td>\n",
       "      <td>18.07</td>\n",
       "      <td>15.65</td>\n",
       "      <td>13.60</td>\n",
       "      <td>11.88</td>\n",
       "      <td>10.41</td>\n",
       "    </tr>\n",
       "    <tr>\n",
       "      <th>0.45</th>\n",
       "      <td>50.92</td>\n",
       "      <td>42.42</td>\n",
       "      <td>35.57</td>\n",
       "      <td>30.00</td>\n",
       "      <td>25.45</td>\n",
       "      <td>21.71</td>\n",
       "      <td>18.61</td>\n",
       "      <td>16.03</td>\n",
       "      <td>13.88</td>\n",
       "      <td>12.07</td>\n",
       "      <td>10.54</td>\n",
       "      <td>9.24</td>\n",
       "    </tr>\n",
       "    <tr>\n",
       "      <th>0.50</th>\n",
       "      <td>50.92</td>\n",
       "      <td>42.42</td>\n",
       "      <td>35.57</td>\n",
       "      <td>30.00</td>\n",
       "      <td>25.45</td>\n",
       "      <td>21.71</td>\n",
       "      <td>18.61</td>\n",
       "      <td>16.03</td>\n",
       "      <td>13.88</td>\n",
       "      <td>12.07</td>\n",
       "      <td>10.54</td>\n",
       "      <td>9.24</td>\n",
       "    </tr>\n",
       "    <tr>\n",
       "      <th>0.55</th>\n",
       "      <td>50.92</td>\n",
       "      <td>42.42</td>\n",
       "      <td>35.57</td>\n",
       "      <td>30.00</td>\n",
       "      <td>25.45</td>\n",
       "      <td>21.71</td>\n",
       "      <td>18.61</td>\n",
       "      <td>16.03</td>\n",
       "      <td>13.88</td>\n",
       "      <td>12.07</td>\n",
       "      <td>10.54</td>\n",
       "      <td>9.24</td>\n",
       "    </tr>\n",
       "    <tr>\n",
       "      <th>0.60</th>\n",
       "      <td>50.92</td>\n",
       "      <td>42.42</td>\n",
       "      <td>35.57</td>\n",
       "      <td>30.00</td>\n",
       "      <td>25.45</td>\n",
       "      <td>21.71</td>\n",
       "      <td>18.61</td>\n",
       "      <td>16.03</td>\n",
       "      <td>13.88</td>\n",
       "      <td>12.07</td>\n",
       "      <td>10.54</td>\n",
       "      <td>9.24</td>\n",
       "    </tr>\n",
       "  </tbody>\n",
       "</table>\n",
       "</div>"
      ],
      "text/plain": [
       "Temp         5      10     15     20     25     30     35     40     45  \\\n",
       "Moisture                                                                  \n",
       "0.05       0.00   0.00   0.00   0.00   0.00   0.00   0.00   0.00   0.00   \n",
       "0.10       7.35   6.12   5.13   4.33   3.67   3.13   2.69   2.31   2.00   \n",
       "0.15      24.38  20.31  17.03  14.36  12.18  10.39   8.91   7.68   6.64   \n",
       "0.20      33.68  28.06  23.53  19.84  16.83  14.36  12.31  10.60   9.18   \n",
       "0.25      40.92  34.09  28.58  24.11  20.45  17.44  14.96  12.88  11.15   \n",
       "0.30      47.06  39.21  32.87  27.73  23.52  20.06  17.20  14.82  12.83   \n",
       "0.35      52.49  43.73  36.66  30.92  26.23  22.37  19.18  16.53  14.31   \n",
       "0.40      57.40  47.82  40.10  33.82  28.69  24.47  20.98  18.07  15.65   \n",
       "0.45      50.92  42.42  35.57  30.00  25.45  21.71  18.61  16.03  13.88   \n",
       "0.50      50.92  42.42  35.57  30.00  25.45  21.71  18.61  16.03  13.88   \n",
       "0.55      50.92  42.42  35.57  30.00  25.45  21.71  18.61  16.03  13.88   \n",
       "0.60      50.92  42.42  35.57  30.00  25.45  21.71  18.61  16.03  13.88   \n",
       "\n",
       "Temp         50     55     60  \n",
       "Moisture                       \n",
       "0.05       0.00   0.00   0.00  \n",
       "0.10       1.74   1.52   1.33  \n",
       "0.15       5.78   5.04   4.42  \n",
       "0.20       7.98   6.97   6.11  \n",
       "0.25       9.70   8.47   7.42  \n",
       "0.30      11.15   9.74   8.54  \n",
       "0.35      12.44  10.86   9.52  \n",
       "0.40      13.60  11.88  10.41  \n",
       "0.45      12.07  10.54   9.24  \n",
       "0.50      12.07  10.54   9.24  \n",
       "0.55      12.07  10.54   9.24  \n",
       "0.60      12.07  10.54   9.24  "
      ]
     },
     "execution_count": 18,
     "metadata": {},
     "output_type": "execute_result"
    }
   ],
   "source": [
    "df2"
   ]
  },
  {
   "cell_type": "code",
   "execution_count": 19,
   "metadata": {},
   "outputs": [
    {
     "data": {
      "image/png": "[encoded data removed]",
      "text/plain": [
       "<Figure size 432x288 with 2 Axes>"
      ]
     },
     "metadata": {},
     "output_type": "display_data"
    }
   ],
   "source": [
    "ax = plt.axes()\n",
    "ax.set_title('DT50 - Arr. & Schroll')\n",
    "heat2 = sns.heatmap(df2)  \n",
    "plt.show()"
   ]
  },
  {
   "cell_type": "code",
   "execution_count": 20,
   "metadata": {},
   "outputs": [],
   "source": [
    "# fig2 = heat2.get_figure() \n",
    "# fig2.savefig('heat2.png', dpi=400)"
   ]
  },
  {
   "cell_type": "code",
   "execution_count": null,
   "metadata": {},
   "outputs": [],
   "source": []
  },
  {
   "cell_type": "code",
   "execution_count": 21,
   "metadata": {},
   "outputs": [
    {
     "data": {
      "image/png": "[encoded data removed]",
      "text/plain": [
       "<Figure size 720x288 with 4 Axes>"
      ]
     },
     "metadata": {},
     "output_type": "display_data"
    }
   ],
   "source": [
    "sns.set_context(\"paper\")\n",
    "sns.set(rc={'figure.figsize':(10.0, 4.)}) # Width, height, inches\n",
    "\n",
    "fig, ax = plt.subplots(1, 2, sharex=False, sharey=False)\n",
    "\n",
    "# ax = plt.axes()\n",
    "ax[0].set_title('Predicted DT50 - Arr. & Walker')\n",
    "heat1 = sns.heatmap(df1, ax=ax[0])\n",
    "ax[0].scatter(3.5, 7.5, c= \"green\", marker='.', label=\"$\\Delta$DT50 = -0.1 d.\", s=200)\n",
    "ax[0].scatter(5.5, 3.5, c= \"green\", marker='^', label=\"$\\Delta$DT50 = -6.1 d.\", s=80)\n",
    "ax[0].scatter(5.5, 7.5, c= \"green\", marker='s', label=\"$\\Delta$DT50 = -0.3 d.\", s=80)\n",
    "ax[0].legend(loc = 'lower right', markerscale = 0.5)\n",
    "ax[0].set_ylabel(\"Moisture ($m^{3}$ $m^{-3}$)\")\n",
    "ax[0].set_xlabel(\"Temp. ($^{\\circ}$C)\")\n",
    "\n",
    "ax[1].set_title('Predicted DT50 - Arr. & Schroll')\n",
    "heat2 = sns.heatmap(df2, ax=ax[1])\n",
    "ax[1].scatter(3.5, 7.5, c= \"yellow\", marker='.', label=\"$\\Delta$DT50 = -6.5 d.\", s=200)\n",
    "ax[1].scatter(5.5, 3.5, c= \"yellow\", marker='^', label=\"$\\Delta$DT50 = -13.3 d.\", s=80)\n",
    "ax[1].scatter(5.5, 7.5, c= \"yellow\", marker='s', label=\"$\\Delta$DT50 = -4.9 d.\", s=80)\n",
    "ax[1].legend(loc = 'lower right', markerscale = 0.5)\n",
    "ax[1].set_ylabel(\"Moisture ($m^{3}$ $m^{-3}$)\")\n",
    "ax[1].set_xlabel(\"Temp. ($^{\\circ}$C)\")\n",
    "\n",
    "plt.subplots_adjust(left=None, bottom=None, right=None, top=None,\n",
    "                wspace=0.23, hspace=None)\n",
    "plt.show()"
   ]
  },
  {
   "cell_type": "code",
   "execution_count": null,
   "metadata": {},
   "outputs": [],
   "source": [
    "fig.savefig('heats.pdf', dpi=400)"
   ]
  },
  {
   "cell_type": "code",
   "execution_count": null,
   "metadata": {},
   "outputs": [],
   "source": []
  }
 ],
 "metadata": {
  "kernelspec": {
   "display_name": "Python 2",
   "language": "python",
   "name": "python2"
  },
  "language_info": {
   "codemirror_mode": {
    "name": "ipython",
    "version": 2
   },
   "file_extension": ".py",
   "mimetype": "text/x-python",
   "name": "python",
   "nbconvert_exporter": "python",
   "pygments_lexer": "ipython2",
   "version": "2.7.14"
  }
 },
 "nbformat": 4,
 "nbformat_minor": 2
}
