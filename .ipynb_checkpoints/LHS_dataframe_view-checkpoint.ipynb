{
 "cells": [
  {
   "cell_type": "code",
   "execution_count": 1,
   "metadata": {},
   "outputs": [
    {
     "name": "stdout",
     "output_type": "stream",
     "text": [
      "LHS_testvar1/\n",
      "('extracting sets for path: ', 'LHS_testvar1/')\n",
      "LHS_testvar2/\n",
      "LHS_testfix1/\n"
     ]
    }
   ],
   "source": [
    "import matplotlib.pyplot as plt\n",
    "import seaborn as sns\n",
    "import numpy as np\n",
    "import pandas as pd\n",
    "\n",
    "import pickle\n",
    "import os\n",
    "from constants_v1 import *\n",
    "from helpers import *"
   ]
  },
  {
   "cell_type": "code",
   "execution_count": 2,
   "metadata": {},
   "outputs": [
    {
     "data": {
      "text/plain": [
       "['z3_factor',\n",
       " 'cZ0Z1',\n",
       " 'cZ',\n",
       " 'c_adr',\n",
       " 'k_g',\n",
       " 'gamma01',\n",
       " 'gammaZ',\n",
       " 'f_transp',\n",
       " 'f_oc',\n",
       " 'k_oc',\n",
       " 'beta_runoff',\n",
       " 'dt_50_aged',\n",
       " 'dt_50_ab',\n",
       " 'dt_50_ref',\n",
       " 'epsilon_iso',\n",
       " 'beta_moisture']"
      ]
     },
     "execution_count": 2,
     "metadata": {},
     "output_type": "execute_result"
    }
   ],
   "source": [
    "parameters"
   ]
  },
  {
   "cell_type": "code",
   "execution_count": 3,
   "metadata": {},
   "outputs": [],
   "source": [
    "res = get_results_fat(new=False)"
   ]
  },
  {
   "cell_type": "code",
   "execution_count": 4,
   "metadata": {},
   "outputs": [
    {
     "data": {
      "text/plain": [
       "{'LHS_testvar1/1/': {'BIAS-CONC-blk': 85.68443534070573,\n",
       "  'BIAS-CONC-det': 68.26727895273375,\n",
       "  'BIAS-CONC-tot': 76.89053959061982,\n",
       "  'BIAS-CONC-tra': 86.73369281991911,\n",
       "  'BIAS-CONC_out': -99.3786879907398,\n",
       "  'BIAS-LDS_out': -96.71112459467587,\n",
       "  'BIAS-Q_out': 95.93130668003992,\n",
       "  'BIAS-d13C-blk': 0.6517356465139214,\n",
       "  'BIAS-d13C-det': 2.128504000561098,\n",
       "  'BIAS-d13C-tot': 1.5444500630618097,\n",
       "  'BIAS-d13C-tra': 1.2365771319536287,\n",
       "  'BIAS-d13C_out': 0.4441897705037064,\n",
       "  'KGE-CONC-blk': 0.08787655300401498,\n",
       "  'KGE-CONC-det': 0.187527946325441,\n",
       "  'KGE-CONC-tot': 0.12215434620561838,\n",
       "  'KGE-CONC-tra': 0.052871348438315646,\n",
       "  'KGE-CONC_out': -0.5478786059781522,\n",
       "  'KGE-LDS_out': -0.4252539550700476,\n",
       "  'KGE-Q_out': -0.1306478660325665,\n",
       "  'KGE-d13C-blk': 0.8181950931913115,\n",
       "  'KGE-d13C-det': 0.7379233444315114,\n",
       "  'KGE-d13C-tot': 0.8426101792079037,\n",
       "  'KGE-d13C-tra': 0.8312123555123996,\n",
       "  'KGE-d13C_out': 0.5155712352248019,\n",
       "  'MAE-CONC-blk': 2.2582418910067594,\n",
       "  'MAE-CONC-det': 1.582976933998077,\n",
       "  'MAE-CONC-tot': 1.7931426101845362,\n",
       "  'MAE-CONC-tra': 2.0360007248888885,\n",
       "  'MAE-CONC_out': -2.004868295403385,\n",
       "  'MAE-LDS_out': -0.6240976338015707,\n",
       "  'MAE-Q_out': 346.685809090909,\n",
       "  'MAE-d13C-blk': 0.199465354268745,\n",
       "  'MAE-d13C-det': 0.6370157407407393,\n",
       "  'MAE-d13C-tot': 0.4635285256410272,\n",
       "  'MAE-d13C-tra': 0.37168235294117963,\n",
       "  'MAE-d13C_out': 0.13556226599470947,\n",
       "  'Model': 'var',\n",
       "  'NSE-CONC-blk': -1.4586315556772025,\n",
       "  'NSE-CONC-det': -0.7832134487664235,\n",
       "  'NSE-CONC-tot': -0.6754426708208054,\n",
       "  'NSE-CONC-tra': -0.9213512183683372,\n",
       "  'NSE-CONC_out': -9.032278254089587,\n",
       "  'NSE-LDS_out': -0.13277772392906817,\n",
       "  'NSE-Q_out': -0.4286389243424509,\n",
       "  'NSE-d13C-blk': 0.8243856459748797,\n",
       "  'NSE-d13C-det': 0.34072685697520966,\n",
       "  'NSE-d13C-tot': 0.5322033749208344,\n",
       "  'NSE-d13C-tra': 0.6863745002152998,\n",
       "  'NSE-d13C_out': 0.28491628610114983,\n",
       "  'beta_moisture': 0.8272808336393478,\n",
       "  'beta_runoff': 0.45746424454089224,\n",
       "  'cZ': 0.22882735501171855,\n",
       "  'cZ0Z1': 0.9285767372985255,\n",
       "  'c_adr': 0.021114429864369382,\n",
       "  'dt_50_ab': 221.82844978119147,\n",
       "  'dt_50_aged': 4625.956666590452,\n",
       "  'dt_50_ref': 28.07131363118079,\n",
       "  'epsilon_iso': 2.6975407957212845,\n",
       "  'f_oc': 0.033760237943344866,\n",
       "  'f_transp': 0.9155508517032547,\n",
       "  'gamma01': 0.536180597807305,\n",
       "  'gammaZ': 0.915109159250769,\n",
       "  'k_g': 3599.7664076242004,\n",
       "  'k_oc': 11674.08937708435,\n",
       "  'z3_factor': 0.9370277701179474},\n",
       " 'LHS_testvar1/2/': {'BIAS-CONC-blk': 122.28957303371614,\n",
       "  'BIAS-CONC-det': 80.7565112465654,\n",
       "  'BIAS-CONC-tot': 91.83276011880773,\n",
       "  'BIAS-CONC-tra': 104.47591442361163,\n",
       "  'BIAS-CONC_out': -99.99332833358868,\n",
       "  'BIAS-LDS_out': -99.98200306988386,\n",
       "  'BIAS-Q_out': -35.9511143109926,\n",
       "  'BIAS-d13C-blk': 2.734955961057987,\n",
       "  'BIAS-d13C-det': 4.732227874737429,\n",
       "  'BIAS-d13C-tot': 4.217904037534926,\n",
       "  'BIAS-d13C-tra': 3.9467880033269815,\n",
       "  'BIAS-d13C_out': -3.0222521570913132,\n",
       "  'KGE-CONC-blk': -0.27635683062756056,\n",
       "  'KGE-CONC-det': 0.06790983989846078,\n",
       "  'KGE-CONC-tot': -0.02026614895561396,\n",
       "  'KGE-CONC-tra': -0.11135427170601209,\n",
       "  'KGE-CONC_out': -0.5697115828128725,\n",
       "  'KGE-LDS_out': -0.4624054306152743,\n",
       "  'KGE-Q_out': 0.45102575904827114,\n",
       "  'KGE-d13C-blk': 0.4236116809458006,\n",
       "  'KGE-d13C-det': 0.6178592777942808,\n",
       "  'KGE-d13C-tot': 0.5405374584825636,\n",
       "  'KGE-d13C-tra': 0.4706753955025875,\n",
       "  'KGE-d13C_out': -2.1896249777231165,\n",
       "  'MAE-CONC-blk': 3.222982512051106,\n",
       "  'MAE-CONC-det': 1.8725763870269234,\n",
       "  'MAE-CONC-tot': 2.141605925210309,\n",
       "  'MAE-CONC-tra': 2.4524845026666666,\n",
       "  'MAE-CONC_out': -2.017268066031957,\n",
       "  'MAE-LDS_out': -0.6452053142818178,\n",
       "  'MAE-Q_out': -129.92360454545454,\n",
       "  'MAE-d13C-blk': 0.8370402364821312,\n",
       "  'MAE-d13C-det': 1.4162546296296277,\n",
       "  'MAE-d13C-tot': 1.2658996794871804,\n",
       "  'MAE-d13C-tra': 1.1863000000000026,\n",
       "  'MAE-d13C_out': -0.9223610673386239,\n",
       "  'Model': 'var',\n",
       "  'NSE-CONC-blk': -3.234331680990479,\n",
       "  'NSE-CONC-det': -0.8127183707142651,\n",
       "  'NSE-CONC-tot': -0.7794603739345591,\n",
       "  'NSE-CONC-tra': -1.4711164750391443,\n",
       "  'NSE-CONC_out': -28.808793088453154,\n",
       "  'NSE-LDS_out': -0.18818795476971673,\n",
       "  'NSE-Q_out': 0.28130247329240043,\n",
       "  'NSE-d13C-blk': -0.5034010220496892,\n",
       "  'NSE-d13C-det': -0.4162990671665221,\n",
       "  'NSE-d13C-tot': -0.48192632051928963,\n",
       "  'NSE-d13C-tra': -0.5427086620528587,\n",
       "  'NSE-d13C_out': -18.851931558599674,\n",
       "  'beta_moisture': 0.06897500695175778,\n",
       "  'beta_runoff': 0.372300547497655,\n",
       "  'cZ': 0.20690004244280424,\n",
       "  'cZ0Z1': 0.17368519983788577,\n",
       "  'c_adr': 0.6261917949393386,\n",
       "  'dt_50_ab': 176.5047992788837,\n",
       "  'dt_50_aged': 6381.15364258082,\n",
       "  'dt_50_ref': 28.24879118801562,\n",
       "  'epsilon_iso': 2.9827639838165956,\n",
       "  'f_oc': 0.032609993735291595,\n",
       "  'f_transp': 0.206954451682317,\n",
       "  'gamma01': 0.03163516602686087,\n",
       "  'gammaZ': 0.5318642493399892,\n",
       "  'k_g': 1302.874889743196,\n",
       "  'k_oc': 9970.070074827292,\n",
       "  'z3_factor': 0.9691424163370019}}"
      ]
     },
     "execution_count": 4,
     "metadata": {},
     "output_type": "execute_result"
    }
   ],
   "source": [
    "res"
   ]
  },
  {
   "cell_type": "code",
   "execution_count": 5,
   "metadata": {},
   "outputs": [],
   "source": [
    "df = get_dff_fat()\n",
    "df.head()"
   ]
  },
  {
   "cell_type": "code",
   "execution_count": null,
   "metadata": {},
   "outputs": [],
   "source": [
    "header = ['Sets']\n",
    "for param in parameters:\n",
    "    header.append(param)\n",
    "\n",
    "for metric in metrics:\n",
    "    for outm in outMeasures:\n",
    "        m = metric + \"-\" + outm\n",
    "        header.append(m)\n",
    "    for soilm in soilMeasures:\n",
    "        for level in levels:\n",
    "            m = metric + \"-\" + soilm + \"-\" + level\n",
    "            header.append(m)\n",
    "\n",
    "print(header)"
   ]
  }
 ],
 "metadata": {
  "kernelspec": {
   "display_name": "bunny",
   "language": "python",
   "name": "bunny"
  },
  "language_info": {
   "codemirror_mode": {
    "name": "ipython",
    "version": 2
   },
   "file_extension": ".py",
   "mimetype": "text/x-python",
   "name": "python",
   "nbconvert_exporter": "python",
   "pygments_lexer": "ipython2",
   "version": "2.7.14"
  }
 },
 "nbformat": 4,
 "nbformat_minor": 2
}
