{
 "cells": [
  {
   "cell_type": "code",
   "execution_count": 1,
   "metadata": {},
   "outputs": [],
   "source": [
    "import numpy as np\n",
    "# Plotting\n",
    "import pandas as pd\n",
    "from helpers_pd import *\n",
    "pd.options.mode.chained_assignment = None  # default='warn'\n",
    "import seaborn as sns\n",
    "sns.set()\n",
    "# plt.style.use('seaborn-white')\n",
    "import matplotlib.pyplot as plt\n",
    "import matplotlib as mpl"
   ]
  },
  {
   "cell_type": "code",
   "execution_count": 2,
   "metadata": {},
   "outputs": [],
   "source": [
    "def facet_scatter(x, y, c, **kwargs):\n",
    "    \"\"\"Draw scatterplot with point colors from a faceted DataFrame columns.\"\"\"\n",
    "    kwargs.pop(\"color\")\n",
    "    plt.scatter(x, y, c=c, **kwargs)\n",
    "    \n",
    "sns.set(rc={'figure.figsize':(11.7,8.27)})"
   ]
  },
  {
   "cell_type": "markdown",
   "metadata": {},
   "source": [
    "Want to constrain mobility in soils by outlet fit. \n",
    "\n",
    "Does the **variable model** allow us to see the constraint effects (on Kd and DT50), when constrained by the outlet? \n"
   ]
  },
  {
   "cell_type": "code",
   "execution_count": 3,
   "metadata": {},
   "outputs": [],
   "source": [
    "df = get_data(gen=\"Gen2\")"
   ]
  },
  {
   "cell_type": "code",
   "execution_count": 4,
   "metadata": {},
   "outputs": [
    {
     "data": {
      "text/plain": [
       "False"
      ]
     },
     "execution_count": 4,
     "metadata": {},
     "output_type": "execute_result"
    }
   ],
   "source": [
    "'LHS_e1var7/1/' in df.index"
   ]
  },
  {
   "cell_type": "code",
   "execution_count": 5,
   "metadata": {},
   "outputs": [],
   "source": [
    "df['K_d'] = df.loc[:, 'k_oc'] * df.loc[:,'f_oc']\n",
    "# Combined outlet and transects KGE Concentrations and d13C\n",
    "df['KGE-SM'] = (df.loc[:, 'KGE-CONC_out'] + df.loc[:, 'KGE-CONC-tra'])/2.0  \n",
    "df['KGE-d13C'] = (df.loc[:, 'KGE-d13C_out'] + df.loc[:, 'KGE-d13C-tra'])/2.0\n",
    "\n",
    "isocst = 0.6\n",
    "df['Constraint'] = df.apply(IsoKGE, args=(isocst,), axis=1)"
   ]
  },
  {
   "cell_type": "code",
   "execution_count": 6,
   "metadata": {},
   "outputs": [
    {
     "name": "stdout",
     "output_type": "stream",
     "text": [
      "Maximum Conc.\n",
      "(0.760034873303543, 0.36006174064980434, 0.5428439565993899)\n",
      "Maximum d13C\n",
      "(0.8802879567284636, 0.5269168870017952, 0.6944922325752463)\n"
     ]
    }
   ],
   "source": [
    "print(\"Maximum Conc.\")\n",
    "print(df['KGE-CONC-tra'].max(), df['KGE-CONC_out'].max(), df['KGE-SM'].max()) \n",
    "print(\"Maximum d13C\")\n",
    "print(df['KGE-d13C-tra'].max(), df['KGE-d13C_out'].max(), df['KGE-d13C'].max()) "
   ]
  },
  {
   "cell_type": "code",
   "execution_count": 7,
   "metadata": {},
   "outputs": [],
   "source": [
    "dfs = df[['Model', 'K_d', 'dt_50_ref', 'k_oc', 'f_oc',\n",
    "          'KGE-CONC-tra' , \n",
    "          'KGE-Q_out', 'KGE-CONC_out', 'KGE-LDS_out',\n",
    "          'KGE-d13C-tra', 'KGE-d13C_out',\n",
    "          'KGE-SM', 'KGE-d13C', 'Constraint'\n",
    "         ]]"
   ]
  },
  {
   "cell_type": "markdown",
   "metadata": {},
   "source": [
    "Filter for good concentrations"
   ]
  },
  {
   "cell_type": "code",
   "execution_count": 8,
   "metadata": {},
   "outputs": [
    {
     "name": "stdout",
     "output_type": "stream",
     "text": [
      "(768, 85, 1)\n",
      "(375, 393)\n",
      "(0.109, 0.112)\n",
      "(40.875, 44.016)\n"
     ]
    }
   ],
   "source": [
    "# Filter\n",
    "ff = dfs.loc[(dfs['KGE-SM'] > 0.30)] # Try 25 with more data points\n",
    "ff_c = ff.loc[(ff['KGE-d13C'] > isocst)]\n",
    "print(len(dfs), len(ff), len(ff_c))\n",
    "\n",
    "fix_num = len(dfs.loc[dfs['Model']== 'fix'])\n",
    "var_num = len(dfs.loc[dfs['Model']== 'var'])\n",
    "\n",
    "fix_passed = len(ff.loc[ff['Model']== 'fix'])\n",
    "var_passed = len(ff.loc[ff['Model']== 'var'])\n",
    "\n",
    "f_fix = round(float(fix_passed)/fix_num, 3)\n",
    "f_var = round(float(var_passed)/var_num, 3)\n",
    "print(fix_num, var_num)\n",
    "print(f_fix, f_var)\n",
    "print(f_fix*fix_num, f_var*var_num)"
   ]
  },
  {
   "cell_type": "markdown",
   "metadata": {},
   "source": [
    "Set color bar and axes ranges "
   ]
  },
  {
   "cell_type": "code",
   "execution_count": 9,
   "metadata": {},
   "outputs": [],
   "source": [
    "vmin, vmax = ff['KGE-SM'].min(), ff['KGE-SM'].max()\n",
    "cmap = sns.diverging_palette(10, 240, l=65, center=\"light\", as_cmap=True)\n",
    "# cmap = sns.diverging_palette(275, 150, s=80, l=55, center=\"dark\", as_cmap=True)\n",
    "\n",
    "xmin, xmax = ff['KGE-CONC_out'].min() * .90, ff['KGE-CONC_out'].max() * 1.05\n",
    "ymin, ymax = ff['KGE-CONC-tra'].min() * 0.90, ff['KGE-CONC-tra'].max() * 1.05"
   ]
  },
  {
   "cell_type": "code",
   "execution_count": 10,
   "metadata": {},
   "outputs": [
    {
     "data": {
      "text/html": [
       "<div>\n",
       "<style scoped>\n",
       "    .dataframe tbody tr th:only-of-type {\n",
       "        vertical-align: middle;\n",
       "    }\n",
       "\n",
       "    .dataframe tbody tr th {\n",
       "        vertical-align: top;\n",
       "    }\n",
       "\n",
       "    .dataframe thead th {\n",
       "        text-align: right;\n",
       "    }\n",
       "</style>\n",
       "<table border=\"1\" class=\"dataframe\">\n",
       "  <thead>\n",
       "    <tr style=\"text-align: right;\">\n",
       "      <th></th>\n",
       "      <th>Model</th>\n",
       "      <th>K_d</th>\n",
       "      <th>dt_50_ref</th>\n",
       "      <th>k_oc</th>\n",
       "      <th>f_oc</th>\n",
       "      <th>KGE-CONC-tra</th>\n",
       "      <th>KGE-Q_out</th>\n",
       "      <th>KGE-CONC_out</th>\n",
       "      <th>KGE-LDS_out</th>\n",
       "      <th>KGE-d13C-tra</th>\n",
       "      <th>KGE-d13C_out</th>\n",
       "      <th>KGE-SM</th>\n",
       "      <th>KGE-d13C</th>\n",
       "      <th>Constraint</th>\n",
       "    </tr>\n",
       "  </thead>\n",
       "  <tbody>\n",
       "    <tr>\n",
       "      <th>LHS_bo1fix10/28/</th>\n",
       "      <td>fix</td>\n",
       "      <td>64.021632</td>\n",
       "      <td>18.123198</td>\n",
       "      <td>1727.885053</td>\n",
       "      <td>0.037052</td>\n",
       "      <td>0.723009</td>\n",
       "      <td>0.699887</td>\n",
       "      <td>0.059048</td>\n",
       "      <td>-0.100205</td>\n",
       "      <td>-0.534976</td>\n",
       "      <td>-0.601561</td>\n",
       "      <td>0.391028</td>\n",
       "      <td>-0.568268</td>\n",
       "      <td>KGE-d13C &lt; 0.6</td>\n",
       "    </tr>\n",
       "    <tr>\n",
       "      <th>LHS_bo1fix10/3/</th>\n",
       "      <td>fix</td>\n",
       "      <td>58.522696</td>\n",
       "      <td>14.793433</td>\n",
       "      <td>4210.554924</td>\n",
       "      <td>0.013899</td>\n",
       "      <td>0.702676</td>\n",
       "      <td>0.656086</td>\n",
       "      <td>0.302292</td>\n",
       "      <td>-1.596594</td>\n",
       "      <td>-0.509447</td>\n",
       "      <td>-0.403018</td>\n",
       "      <td>0.502484</td>\n",
       "      <td>-0.456232</td>\n",
       "      <td>KGE-d13C &lt; 0.6</td>\n",
       "    </tr>\n",
       "    <tr>\n",
       "      <th>LHS_bo1fix10/35/</th>\n",
       "      <td>fix</td>\n",
       "      <td>22.358126</td>\n",
       "      <td>20.699419</td>\n",
       "      <td>1186.145405</td>\n",
       "      <td>0.018849</td>\n",
       "      <td>0.673249</td>\n",
       "      <td>0.694367</td>\n",
       "      <td>0.251038</td>\n",
       "      <td>-0.661274</td>\n",
       "      <td>0.841996</td>\n",
       "      <td>-0.802140</td>\n",
       "      <td>0.462143</td>\n",
       "      <td>0.019928</td>\n",
       "      <td>KGE-d13C &lt; 0.6</td>\n",
       "    </tr>\n",
       "    <tr>\n",
       "      <th>LHS_bo1fix10/47/</th>\n",
       "      <td>fix</td>\n",
       "      <td>44.556517</td>\n",
       "      <td>29.176626</td>\n",
       "      <td>2395.361729</td>\n",
       "      <td>0.018601</td>\n",
       "      <td>0.393613</td>\n",
       "      <td>-0.091308</td>\n",
       "      <td>0.252365</td>\n",
       "      <td>-5.668089</td>\n",
       "      <td>0.875580</td>\n",
       "      <td>-0.429526</td>\n",
       "      <td>0.322989</td>\n",
       "      <td>0.223027</td>\n",
       "      <td>KGE-d13C &lt; 0.6</td>\n",
       "    </tr>\n",
       "    <tr>\n",
       "      <th>LHS_bo1var10/1/</th>\n",
       "      <td>var</td>\n",
       "      <td>51.127515</td>\n",
       "      <td>13.219246</td>\n",
       "      <td>3400.553562</td>\n",
       "      <td>0.015035</td>\n",
       "      <td>0.756629</td>\n",
       "      <td>0.392979</td>\n",
       "      <td>0.002269</td>\n",
       "      <td>0.047271</td>\n",
       "      <td>0.001694</td>\n",
       "      <td>-1.899302</td>\n",
       "      <td>0.379449</td>\n",
       "      <td>-0.948804</td>\n",
       "      <td>KGE-d13C &lt; 0.6</td>\n",
       "    </tr>\n",
       "  </tbody>\n",
       "</table>\n",
       "</div>"
      ],
      "text/plain": [
       "                 Model        K_d  dt_50_ref         k_oc      f_oc  \\\n",
       "LHS_bo1fix10/28/   fix  64.021632  18.123198  1727.885053  0.037052   \n",
       "LHS_bo1fix10/3/    fix  58.522696  14.793433  4210.554924  0.013899   \n",
       "LHS_bo1fix10/35/   fix  22.358126  20.699419  1186.145405  0.018849   \n",
       "LHS_bo1fix10/47/   fix  44.556517  29.176626  2395.361729  0.018601   \n",
       "LHS_bo1var10/1/    var  51.127515  13.219246  3400.553562  0.015035   \n",
       "\n",
       "                  KGE-CONC-tra  KGE-Q_out  KGE-CONC_out  KGE-LDS_out  \\\n",
       "LHS_bo1fix10/28/      0.723009   0.699887      0.059048    -0.100205   \n",
       "LHS_bo1fix10/3/       0.702676   0.656086      0.302292    -1.596594   \n",
       "LHS_bo1fix10/35/      0.673249   0.694367      0.251038    -0.661274   \n",
       "LHS_bo1fix10/47/      0.393613  -0.091308      0.252365    -5.668089   \n",
       "LHS_bo1var10/1/       0.756629   0.392979      0.002269     0.047271   \n",
       "\n",
       "                  KGE-d13C-tra  KGE-d13C_out    KGE-SM  KGE-d13C  \\\n",
       "LHS_bo1fix10/28/     -0.534976     -0.601561  0.391028 -0.568268   \n",
       "LHS_bo1fix10/3/      -0.509447     -0.403018  0.502484 -0.456232   \n",
       "LHS_bo1fix10/35/      0.841996     -0.802140  0.462143  0.019928   \n",
       "LHS_bo1fix10/47/      0.875580     -0.429526  0.322989  0.223027   \n",
       "LHS_bo1var10/1/       0.001694     -1.899302  0.379449 -0.948804   \n",
       "\n",
       "                      Constraint  \n",
       "LHS_bo1fix10/28/  KGE-d13C < 0.6  \n",
       "LHS_bo1fix10/3/   KGE-d13C < 0.6  \n",
       "LHS_bo1fix10/35/  KGE-d13C < 0.6  \n",
       "LHS_bo1fix10/47/  KGE-d13C < 0.6  \n",
       "LHS_bo1var10/1/   KGE-d13C < 0.6  "
      ]
     },
     "execution_count": 10,
     "metadata": {},
     "output_type": "execute_result"
    }
   ],
   "source": [
    "ff.head()"
   ]
  },
  {
   "cell_type": "code",
   "execution_count": 11,
   "metadata": {},
   "outputs": [
    {
     "data": {
      "text/plain": [
       "<matplotlib.colorbar.Colorbar at 0x1a1f731cd0>"
      ]
     },
     "execution_count": 11,
     "metadata": {},
     "output_type": "execute_result"
    },
    {
     "data": {
      "image/png": "[encoded data removed]",
      "text/plain": [
       "<Figure size 432x216 with 3 Axes>"
      ]
     },
     "metadata": {},
     "output_type": "display_data"
    }
   ],
   "source": [
    "g = sns.FacetGrid(ff, col='Model', palette='viridis')\n",
    "g = g.map(facet_scatter, 'KGE-CONC_out', 'KGE-CONC-tra', \"KGE-SM\",\n",
    "          s=100, alpha=0.5, vmin=vmin, vmax=vmax, cmap=cmap) #.add_legend()\n",
    "\n",
    "g.axes[0,0].set_ylim(ymin, ymax)\n",
    "g.axes[0,1].set_ylim(ymin, ymax)\n",
    "g.axes[0,0].set_xlim(xmin, xmax) # left plot\n",
    "g.axes[0,1].set_xlim(xmin, xmax) # right plot\n",
    "\n",
    "# Make space for the colorbar\n",
    "g.fig.subplots_adjust(right=.92)\n",
    "\n",
    "# Define a new Axes where the colorbar will go\n",
    "cax = g.fig.add_axes([.94, .25, .02, .6])\n",
    "\n",
    "# Get a mappable object with the same colormap as the data\n",
    "points = plt.scatter([], [], c=[], vmin=vmin, vmax=vmax, cmap=cmap)\n",
    "\n",
    "ax0 = g.axes[0, 0]\n",
    "ax1 = g.axes[0, 1]\n",
    "\n",
    "\n",
    "\n",
    "ax0.annotate('n = ' + str(fix_num),\n",
    "            xy=(0, 0.4), xycoords='data',\n",
    "            xytext=(0, 0), textcoords='offset points')\n",
    "\n",
    "ax0.annotate('$f_{KGE > 0.3}$ = ' + str(f_fix),\n",
    "            xy=(-.05, 0.35), xycoords='data',\n",
    "            xytext=(0, 0), textcoords='offset points')\n",
    "\n",
    "ax1.annotate('n = ' + str(var_num),\n",
    "            xy=(0, 0.4), xycoords='data',\n",
    "            xytext=(0, 0), textcoords='offset points')\n",
    "\n",
    "ax1.annotate('$f_{KGE > 0.3}$ = ' + str(f_var),\n",
    "            xy=(-.05, 0.35), xycoords='data',\n",
    "            xytext=(0, 0), textcoords='offset points')\n",
    "\n",
    "# ax1.annotate('No equifinality \\nat low DT50', \n",
    "#             xy=(15, 70), xycoords='data',\n",
    "#             xytext=(-20, 20), textcoords='offset points',\n",
    "#             arrowprops=dict(arrowstyle=\"->\", color='grey'))\n",
    "\n",
    "# Draw the colorbar\n",
    "g.fig.colorbar(points, cax=cax)\n",
    "# g.savefig(\"MvsM_Fig2.pdf\")\n",
    "\n",
    "# https://matplotlib.org/examples/pylab_examples/annotation_demo2.html"
   ]
  },
  {
   "cell_type": "code",
   "execution_count": null,
   "metadata": {},
   "outputs": [],
   "source": []
  },
  {
   "cell_type": "code",
   "execution_count": null,
   "metadata": {},
   "outputs": [],
   "source": []
  },
  {
   "cell_type": "code",
   "execution_count": null,
   "metadata": {},
   "outputs": [],
   "source": []
  },
  {
   "cell_type": "code",
   "execution_count": null,
   "metadata": {},
   "outputs": [],
   "source": []
  },
  {
   "cell_type": "code",
   "execution_count": null,
   "metadata": {},
   "outputs": [],
   "source": []
  },
  {
   "cell_type": "code",
   "execution_count": null,
   "metadata": {},
   "outputs": [],
   "source": []
  },
  {
   "cell_type": "markdown",
   "metadata": {},
   "source": [
    "## Using Joint Plot"
   ]
  },
  {
   "cell_type": "code",
   "execution_count": 12,
   "metadata": {},
   "outputs": [
    {
     "data": {
      "text/html": [
       "<div>\n",
       "<style scoped>\n",
       "    .dataframe tbody tr th:only-of-type {\n",
       "        vertical-align: middle;\n",
       "    }\n",
       "\n",
       "    .dataframe tbody tr th {\n",
       "        vertical-align: top;\n",
       "    }\n",
       "\n",
       "    .dataframe thead th {\n",
       "        text-align: right;\n",
       "    }\n",
       "</style>\n",
       "<table border=\"1\" class=\"dataframe\">\n",
       "  <thead>\n",
       "    <tr style=\"text-align: right;\">\n",
       "      <th></th>\n",
       "      <th>Model</th>\n",
       "      <th>K_d</th>\n",
       "      <th>dt_50_ref</th>\n",
       "      <th>k_oc</th>\n",
       "      <th>f_oc</th>\n",
       "      <th>KGE-CONC-tra</th>\n",
       "      <th>KGE-Q_out</th>\n",
       "      <th>KGE-CONC_out</th>\n",
       "      <th>KGE-LDS_out</th>\n",
       "      <th>KGE-d13C-tra</th>\n",
       "      <th>KGE-d13C_out</th>\n",
       "      <th>KGE-SM</th>\n",
       "      <th>KGE-d13C</th>\n",
       "      <th>Constraint</th>\n",
       "    </tr>\n",
       "  </thead>\n",
       "  <tbody>\n",
       "    <tr>\n",
       "      <th>LHS_bo1fix10/28/</th>\n",
       "      <td>fix</td>\n",
       "      <td>64.021632</td>\n",
       "      <td>18.123198</td>\n",
       "      <td>1727.885053</td>\n",
       "      <td>0.037052</td>\n",
       "      <td>0.723009</td>\n",
       "      <td>0.699887</td>\n",
       "      <td>0.059048</td>\n",
       "      <td>-0.100205</td>\n",
       "      <td>-0.534976</td>\n",
       "      <td>-0.601561</td>\n",
       "      <td>0.391028</td>\n",
       "      <td>-0.568268</td>\n",
       "      <td>KGE-d13C &lt; 0.6</td>\n",
       "    </tr>\n",
       "    <tr>\n",
       "      <th>LHS_bo1fix10/3/</th>\n",
       "      <td>fix</td>\n",
       "      <td>58.522696</td>\n",
       "      <td>14.793433</td>\n",
       "      <td>4210.554924</td>\n",
       "      <td>0.013899</td>\n",
       "      <td>0.702676</td>\n",
       "      <td>0.656086</td>\n",
       "      <td>0.302292</td>\n",
       "      <td>-1.596594</td>\n",
       "      <td>-0.509447</td>\n",
       "      <td>-0.403018</td>\n",
       "      <td>0.502484</td>\n",
       "      <td>-0.456232</td>\n",
       "      <td>KGE-d13C &lt; 0.6</td>\n",
       "    </tr>\n",
       "  </tbody>\n",
       "</table>\n",
       "</div>"
      ],
      "text/plain": [
       "                 Model        K_d  dt_50_ref         k_oc      f_oc  \\\n",
       "LHS_bo1fix10/28/   fix  64.021632  18.123198  1727.885053  0.037052   \n",
       "LHS_bo1fix10/3/    fix  58.522696  14.793433  4210.554924  0.013899   \n",
       "\n",
       "                  KGE-CONC-tra  KGE-Q_out  KGE-CONC_out  KGE-LDS_out  \\\n",
       "LHS_bo1fix10/28/      0.723009   0.699887      0.059048    -0.100205   \n",
       "LHS_bo1fix10/3/       0.702676   0.656086      0.302292    -1.596594   \n",
       "\n",
       "                  KGE-d13C-tra  KGE-d13C_out    KGE-SM  KGE-d13C  \\\n",
       "LHS_bo1fix10/28/     -0.534976     -0.601561  0.391028 -0.568268   \n",
       "LHS_bo1fix10/3/      -0.509447     -0.403018  0.502484 -0.456232   \n",
       "\n",
       "                      Constraint  \n",
       "LHS_bo1fix10/28/  KGE-d13C < 0.6  \n",
       "LHS_bo1fix10/3/   KGE-d13C < 0.6  "
      ]
     },
     "execution_count": 12,
     "metadata": {},
     "output_type": "execute_result"
    }
   ],
   "source": [
    "ff.head(2)"
   ]
  },
  {
   "cell_type": "code",
   "execution_count": 13,
   "metadata": {},
   "outputs": [],
   "source": [
    "xmin, xmax = ff['KGE-CONC_out'].min() * .90, ff['KGE-CONC_out'].max() * 1.05\n",
    "ymin, ymax = ff['KGE-CONC-tra'].min() * 0.90, ff['KGE-CONC-tra'].max() * 1.05"
   ]
  },
  {
   "cell_type": "code",
   "execution_count": 14,
   "metadata": {},
   "outputs": [
    {
     "name": "stderr",
     "output_type": "stream",
     "text": [
      "/Users/DayTightChunks/anaconda/envs/bunny/lib/python2.7/site-packages/seaborn/distributions.py:198: RuntimeWarning: Mean of empty slice.\n",
      "  line, = ax.plot(a.mean(), 0)\n",
      "/Users/DayTightChunks/anaconda/envs/bunny/lib/python2.7/site-packages/numpy/core/_methods.py:80: RuntimeWarning: invalid value encountered in double_scalars\n",
      "  ret = ret.dtype.type(ret / rcount)\n",
      "/Users/DayTightChunks/anaconda/envs/bunny/lib/python2.7/site-packages/numpy/lib/function_base.py:838: RuntimeWarning: invalid value encountered in true_divide\n",
      "  return n/db/n.sum(), bin_edges\n",
      "/Users/DayTightChunks/anaconda/envs/bunny/lib/python2.7/site-packages/seaborn/distributions.py:196: RuntimeWarning: Mean of empty slice.\n",
      "  line, = ax.plot(0, a.mean())\n",
      "/Users/DayTightChunks/anaconda/envs/bunny/lib/python2.7/site-packages/numpy/core/_methods.py:135: RuntimeWarning: Degrees of freedom <= 0 for slice\n",
      "  keepdims=keepdims)\n",
      "/Users/DayTightChunks/anaconda/envs/bunny/lib/python2.7/site-packages/numpy/core/_methods.py:127: RuntimeWarning: invalid value encountered in double_scalars\n",
      "  ret = ret.dtype.type(ret / rcount)\n",
      "/Users/DayTightChunks/anaconda/envs/bunny/lib/python2.7/site-packages/statsmodels/nonparametric/bandwidths.py:20: RuntimeWarning: invalid value encountered in minimum\n",
      "  return np.minimum(np.std(X, axis=0, ddof=1), IQR)\n",
      "/Users/DayTightChunks/anaconda/envs/bunny/lib/python2.7/site-packages/numpy/core/_methods.py:26: RuntimeWarning: invalid value encountered in reduce\n",
      "  return umr_maximum(a, axis, None, out, keepdims)\n"
     ]
    },
    {
     "data": {
      "image/png": "[encoded data removed]",
      "text/plain": [
       "<Figure size 432x432 with 3 Axes>"
      ]
     },
     "metadata": {},
     "output_type": "display_data"
    },
    {
     "data": {
      "image/png": "[encoded data removed]",
      "text/plain": [
       "<Figure size 432x432 with 3 Axes>"
      ]
     },
     "metadata": {},
     "output_type": "display_data"
    }
   ],
   "source": [
    "g = sns.JointGrid(x=\"KGE-CONC_out\", y=\"KGE-CONC-tra\", data=ff_c.loc[ff_c['Model']==\"fix\"], xlim=(xmin, xmax), ylim=(ymin,ymax))\n",
    "g = g.plot(plt.scatter, sns.distplot)\n",
    "\n",
    "g1 = sns.JointGrid(x=\"KGE-CONC_out\", y=\"KGE-CONC-tra\", data=ff_c.loc[ff_c['Model']==\"var\"], xlim=(xmin, xmax), ylim=(ymin,ymax))\n",
    "g1= g1.plot(plt.scatter, sns.distplot)"
   ]
  },
  {
   "cell_type": "code",
   "execution_count": 15,
   "metadata": {},
   "outputs": [
    {
     "data": {
      "image/png": "[encoded data removed]",
      "text/plain": [
       "<Figure size 842.4x595.44 with 6 Axes>"
      ]
     },
     "metadata": {},
     "output_type": "display_data"
    }
   ],
   "source": [
    "f = plt.figure()\n",
    "for J in [g, g1]:\n",
    "    for A in J.fig.axes:\n",
    "        f._axstack.add(f._make_key(A), A)\n",
    "        \n",
    "# f.axes[0].set_position([0.1, 0.1, 0.38, 0.4]) # Left scatter\n",
    "# f.axes[1].set_position([0.1, 0.45, 0.4, 0.05]) # Left-top hist\n",
    "# f.axes[2].set_position([0.45, 0.1, 0.05, 0.4]) # Left-bott hist, (x-start, y-start, with-x, with-y)\n",
    "# f.axes[3].set_position([0.63, 0.1, 0.38, 0.4]) # Right scatter\n",
    "# f.axes[4].set_position([0.63, 0.45, 0.4, 0.05]) # Top right hist\n",
    "# f.axes[5].set_position([0.98, 0.1, 0.05, 0.4]) # Right bott hist\n",
    "# g.fig.axes\n",
    "\n",
    "# test\n",
    "f.axes[0].set_position([0.1, 0.1, 1.48, 1.48]) # Left scatter\n",
    "\n",
    "f.axes[0].annotate('Kd vs DT50,\\nequifinality',\n",
    "            xy=(28, 170), xycoords='data',\n",
    "            xytext=(-70, 40), textcoords='offset points',\n",
    "            arrowprops=dict(arrowstyle=\"->\", color='grey',\n",
    "                            connectionstyle=\"arc3,rad=.6\"))\n",
    "\n",
    "f.axes[1].set_position([0.1, 0.45, 0.4, 0.05]) # Left-top hist\n",
    "f.axes[2].set_position([0.45, 0.1, 0.05, 0.4]) # Left-bott hist, (x-start, y-start, with-x, with-y)\n",
    "f.axes[3].set_position([0.63, 0.1, 0.38, 0.4]) # Right scatter\n",
    "f.axes[4].set_position([0.63, 0.45, 0.4, 0.05]) # Top right hist\n",
    "f.axes[5].set_position([0.98, 0.1, 0.05, 0.4]) # Right bott hist\n",
    "# f.savefig(\"JointGrid.pdf\")"
   ]
  },
  {
   "cell_type": "code",
   "execution_count": null,
   "metadata": {},
   "outputs": [],
   "source": []
  }
 ],
 "metadata": {
  "kernelspec": {
   "display_name": "bunny",
   "language": "python",
   "name": "bunny"
  },
  "language_info": {
   "codemirror_mode": {
    "name": "ipython",
    "version": 2
   },
   "file_extension": ".py",
   "mimetype": "text/x-python",
   "name": "python",
   "nbconvert_exporter": "python",
   "pygments_lexer": "ipython2",
   "version": "2.7.14"
  }
 },
 "nbformat": 4,
 "nbformat_minor": 2
}
