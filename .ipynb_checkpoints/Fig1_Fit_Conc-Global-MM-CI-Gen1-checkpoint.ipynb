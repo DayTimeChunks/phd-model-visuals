{
 "cells": [
  {
   "cell_type": "code",
   "execution_count": 1,
   "metadata": {},
   "outputs": [],
   "source": [
    "gen = \"Gen1\"\n",
    "path = '../phd-model-process/'\n",
    "\n",
    "import pandas as pd\n",
    "pd.options.mode.chained_assignment = None  # default='warn'\n",
    "import numpy as np\n",
    "import scipy as sp\n",
    "import scipy.stats as st\n",
    "\n",
    "from helpers_pd import *\n",
    "\n",
    "# Plotting\n",
    "import seaborn as sns\n",
    "sns.set()\n",
    "# import seaborn as sns; sns.set(style=\"ticks\", color_codes=True)\n",
    "# sns.set(style=\"darkgrid\")\n",
    "import matplotlib.pyplot as plt\n",
    "# plt.style.use('seaborn-white')"
   ]
  },
  {
   "cell_type": "code",
   "execution_count": 2,
   "metadata": {},
   "outputs": [],
   "source": [
    "palette = [\"#F44336\", '#673AB7', '#3F51B5', '#009688', '#FF9800', '#4CAF50', '#03A9F4']\n",
    "# red, purple, indigo, teal-green, orange, green, light-blue\n",
    "# https://matplotlib.org/users/dflt_style_changes.html"
   ]
  },
  {
   "cell_type": "markdown",
   "metadata": {},
   "source": [
    "# Extracting observed Conc."
   ]
  },
  {
   "cell_type": "markdown",
   "metadata": {},
   "source": [
    "## Define transect"
   ]
  },
  {
   "cell_type": "code",
   "execution_count": 3,
   "metadata": {},
   "outputs": [
    {
     "data": {
      "text/html": [
       "<div>\n",
       "<style scoped>\n",
       "    .dataframe tbody tr th:only-of-type {\n",
       "        vertical-align: middle;\n",
       "    }\n",
       "\n",
       "    .dataframe tbody tr th {\n",
       "        vertical-align: top;\n",
       "    }\n",
       "\n",
       "    .dataframe thead th {\n",
       "        text-align: right;\n",
       "    }\n",
       "</style>\n",
       "<table border=\"1\" class=\"dataframe\">\n",
       "  <thead>\n",
       "    <tr style=\"text-align: right;\">\n",
       "      <th></th>\n",
       "      <th>Jdays</th>\n",
       "      <th>DayMoYr</th>\n",
       "      <th>IDcal</th>\n",
       "      <th>ug.g</th>\n",
       "      <th>ug.g.SD</th>\n",
       "    </tr>\n",
       "  </thead>\n",
       "  <tbody>\n",
       "    <tr>\n",
       "      <th>0</th>\n",
       "      <td>182</td>\n",
       "      <td>2016-03-30</td>\n",
       "      <td>B-182</td>\n",
       "      <td>2.864553</td>\n",
       "      <td>1.298030</td>\n",
       "    </tr>\n",
       "    <tr>\n",
       "      <th>1</th>\n",
       "      <td>188</td>\n",
       "      <td>2016-04-05</td>\n",
       "      <td>B-188</td>\n",
       "      <td>5.919575</td>\n",
       "      <td>2.754972</td>\n",
       "    </tr>\n",
       "    <tr>\n",
       "      <th>2</th>\n",
       "      <td>197</td>\n",
       "      <td>2016-04-14</td>\n",
       "      <td>B-197</td>\n",
       "      <td>4.746709</td>\n",
       "      <td>0.957630</td>\n",
       "    </tr>\n",
       "    <tr>\n",
       "      <th>3</th>\n",
       "      <td>201</td>\n",
       "      <td>2016-04-18</td>\n",
       "      <td>B-201</td>\n",
       "      <td>6.105674</td>\n",
       "      <td>1.029032</td>\n",
       "    </tr>\n",
       "    <tr>\n",
       "      <th>4</th>\n",
       "      <td>209</td>\n",
       "      <td>2016-04-26</td>\n",
       "      <td>B-209</td>\n",
       "      <td>3.838914</td>\n",
       "      <td>0.899855</td>\n",
       "    </tr>\n",
       "  </tbody>\n",
       "</table>\n",
       "</div>"
      ],
      "text/plain": [
       "   Jdays     DayMoYr  IDcal      ug.g   ug.g.SD\n",
       "0    182  2016-03-30  B-182  2.864553  1.298030\n",
       "1    188  2016-04-05  B-188  5.919575  2.754972\n",
       "2    197  2016-04-14  B-197  4.746709  0.957630\n",
       "3    201  2016-04-18  B-201  6.105674  1.029032\n",
       "4    209  2016-04-26  B-209  3.838914  0.899855"
      ]
     },
     "execution_count": 3,
     "metadata": {},
     "output_type": "execute_result"
    }
   ],
   "source": [
    "obs = pd.read_table(path + 'observations/conc_bulk_cal.tss')\n",
    "p_b = pd.read_table(path + 'observations/p_bAve.tss')\n",
    "obs.head()"
   ]
  },
  {
   "cell_type": "markdown",
   "metadata": {},
   "source": [
    "# Selecting indexes"
   ]
  },
  {
   "cell_type": "code",
   "execution_count": 4,
   "metadata": {},
   "outputs": [],
   "source": [
    "df = get_data(gen=gen)\n",
    "counter = 0"
   ]
  },
  {
   "cell_type": "code",
   "execution_count": 17,
   "metadata": {},
   "outputs": [
    {
     "data": {
      "text/plain": [
       "['BIAS-d13C-blk',\n",
       " 'NSE-CONC-tot',\n",
       " 'NSE-CONC-tra',\n",
       " 'NSE-CONC-blk',\n",
       " 'BIAS-CONC-blk',\n",
       " 'KGE-d13C-det',\n",
       " 'KGE-d13C-blk',\n",
       " 'BIAS-d13C-tra',\n",
       " 'cZ0Z1',\n",
       " 'dt_50_aged',\n",
       " 'KGE-d13C_out',\n",
       " 'NSE-d13C-det',\n",
       " 'f_transp',\n",
       " 'NSE-d13C_out',\n",
       " 'MAE-LDS_out',\n",
       " 'KGE-CONC-blk',\n",
       " 'BIAS-d13C-det',\n",
       " 'MAE-CONC_out',\n",
       " 'BIAS-CONC-tot',\n",
       " 'cZ',\n",
       " 'KGE-CONC_out',\n",
       " 'KGE-CONC-det',\n",
       " 'BIAS-CONC-tra',\n",
       " 'dt_50_ref',\n",
       " 'MAE-d13C-tot',\n",
       " 'BIAS-d13C_out',\n",
       " 'MAE-CONC-blk',\n",
       " 'dt_50_ab',\n",
       " 'NSE-LDS_out',\n",
       " 'NSE-d13C-tra',\n",
       " 'NSE-d13C-blk',\n",
       " 'MAE-d13C-det',\n",
       " 'k_oc',\n",
       " 'z3_factor',\n",
       " 'BIAS-Q_out',\n",
       " 'beta_runoff',\n",
       " 'KGE-d13C-tot',\n",
       " 'KGE-d13C-tra',\n",
       " 'KGE-CONC-tot',\n",
       " 'BIAS-CONC-det',\n",
       " 'BIAS-CONC_out',\n",
       " 'BIAS-LDS_out',\n",
       " 'KGE-CONC-tra',\n",
       " 'BIAS-d13C-tot',\n",
       " 'NSE-CONC_out',\n",
       " 'Model',\n",
       " 'MAE-d13C-tra',\n",
       " 'f_oc',\n",
       " 'MAE-d13C-blk',\n",
       " 'MAE-CONC-tra',\n",
       " 'MAE-CONC-tot',\n",
       " 'KGE-Q_out',\n",
       " 'gammaZ',\n",
       " 'NSE-d13C-tot',\n",
       " 'c_adr',\n",
       " 'KGE-LDS_out',\n",
       " 'MAE-CONC-det',\n",
       " 'NSE-CONC-det',\n",
       " 'gamma01',\n",
       " 'MAE-Q_out',\n",
       " 'NSE-Q_out',\n",
       " 'epsilon_iso',\n",
       " 'MAE-d13C_out',\n",
       " 'beta_moisture',\n",
       " 'k_g',\n",
       " 'k_d',\n",
       " 'KGE-SM',\n",
       " 'KGE-d13C',\n",
       " 'Constraint']"
      ]
     },
     "execution_count": 17,
     "metadata": {},
     "output_type": "execute_result"
    }
   ],
   "source": [
    "# 'LHS_s2fix7/10/' in list(df.index)\n",
    "# list(df)"
   ]
  },
  {
   "cell_type": "code",
   "execution_count": 6,
   "metadata": {},
   "outputs": [],
   "source": [
    "df['k_d'] = df.loc[:, 'k_oc'] * df.loc[:,'f_oc']\n",
    "# Combined outlet and transects KGE Concentrations and d13C\n",
    "df['KGE-SM'] = (df.loc[:, 'KGE-CONC_out'] + df.loc[:, 'KGE-CONC-blk'])/2.0  \n",
    "df['KGE-d13C'] = (df.loc[:, 'KGE-d13C_out'] + df.loc[:, 'KGE-d13C-blk'])/2.0\n",
    "\n",
    "cst = 0.7\n",
    "df['Constraint'] = df.apply(WithIsoKGE, args=(cst,), axis=1)"
   ]
  },
  {
   "cell_type": "code",
   "execution_count": 7,
   "metadata": {},
   "outputs": [
    {
     "name": "stdout",
     "output_type": "stream",
     "text": [
      "Maximum Q\n",
      "(0.7856671938254698, 0.5624784847441313)\n",
      "Maximum Conc.\n",
      "(0.779633598745622, 0.36008130938978367, 0.5077238884944065)\n",
      "Maximum d13C\n",
      "(0.9664222569512327, 0.70432567774303, 0.8186644665934912)\n"
     ]
    }
   ],
   "source": [
    "print(\"Maximum Q\")\n",
    "print(df['KGE-Q_out'].max(), df['NSE-Q_out'].max()) \n",
    "print(\"Maximum Conc.\")\n",
    "print(df['KGE-CONC-blk'].max(), df['KGE-CONC_out'].max(), df['KGE-SM'].max()) \n",
    "print(\"Maximum d13C\")\n",
    "print(df['KGE-d13C-blk'].max(), df['KGE-d13C_out'].max(), df['KGE-d13C'].max()) "
   ]
  },
  {
   "cell_type": "code",
   "execution_count": 18,
   "metadata": {},
   "outputs": [],
   "source": [
    "dfs = df[['Model',\n",
    "          'dt_50_ref',\n",
    "          'dt_50_ab',\n",
    "#           'k_d',\n",
    "          'epsilon_iso',\n",
    "          'KGE-CONC-blk','KGE-d13C-blk',\n",
    "          'KGE-SM', 'KGE-d13C', 'Constraint'\n",
    "          ]]"
   ]
  },
  {
   "cell_type": "code",
   "execution_count": 19,
   "metadata": {},
   "outputs": [
    {
     "name": "stdout",
     "output_type": "stream",
     "text": [
      "(9802, 39, 28)\n"
     ]
    }
   ],
   "source": [
    "# Filter\n",
    "ff = dfs.loc[(dfs['KGE-SM'] > 0.46)] # Try 25 with more data points\n",
    "ff_c = dfs.loc[(dfs['KGE-SM'] > 0.1) & (dfs['KGE-d13C'] >  cst)]\n",
    "\n",
    "# ff = dfs.loc[(dfs['KGE-CONC-blk'] > 0.70)] # Try 25 with more data points\n",
    "# ff_c = dfs.loc[(dfs['KGE-CONC-blk'] > 0.0) & (dfs['KGE-d13C-blk'] >  cst)]\n",
    "print(len(dfs), len(ff), len(ff_c))\n",
    "ff.tail()\n",
    "\n",
    "counter += 1"
   ]
  },
  {
   "cell_type": "markdown",
   "metadata": {},
   "source": [
    "### DT50"
   ]
  },
  {
   "cell_type": "code",
   "execution_count": 15,
   "metadata": {},
   "outputs": [
    {
     "name": "stdout",
     "output_type": "stream",
     "text": [
      "dt_50_ref    13.986159\n",
      "dtype: float64\n",
      "dt_50_ref    3.841904\n",
      "dtype: float64\n"
     ]
    }
   ],
   "source": [
    "print(ff[['dt_50_ref']].mean())\n",
    "print(ff[['dt_50_ref']].std())"
   ]
  },
  {
   "cell_type": "code",
   "execution_count": 16,
   "metadata": {},
   "outputs": [
    {
     "name": "stdout",
     "output_type": "stream",
     "text": [
      "dt_50_ref    27.482066\n",
      "dtype: float64\n",
      "dt_50_ref    4.194091\n",
      "dtype: float64\n"
     ]
    }
   ],
   "source": [
    "print(ff_c[['dt_50_ref']].mean())\n",
    "print(ff_c[['dt_50_ref']].std())"
   ]
  },
  {
   "cell_type": "code",
   "execution_count": 10,
   "metadata": {},
   "outputs": [
    {
     "name": "stdout",
     "output_type": "stream",
     "text": [
      "(39, 28)\n"
     ]
    }
   ],
   "source": [
    "nc = ff.index[(ff['Constraint'] == 'NC')].tolist() #[0]\n",
    "wc = ff_c.index[(ff_c['Constraint'] == 'WC')].tolist() #[0]\n",
    "print(len(nc), len(wc))"
   ]
  },
  {
   "cell_type": "markdown",
   "metadata": {},
   "source": [
    "## Update path for Generation"
   ]
  },
  {
   "cell_type": "code",
   "execution_count": 11,
   "metadata": {},
   "outputs": [],
   "source": [
    "if counter < 2:\n",
    "    path += gen + '/'"
   ]
  },
  {
   "cell_type": "markdown",
   "metadata": {},
   "source": [
    "# Extracting time series"
   ]
  },
  {
   "cell_type": "code",
   "execution_count": 12,
   "metadata": {},
   "outputs": [],
   "source": [
    "def get_sets_bulk(name_list):\n",
    "    # Get sim conc, convert mass, ug/g -> ug\n",
    "    comp = ['nor', 'val', 'sou']\n",
    "    sets = []\n",
    "    for i in range(len(name_list)): # Set name\n",
    "        transects = []\n",
    "        for tran in comp:\n",
    "            # Append masses and conc.\n",
    "            filename = \"resM_\" + tran + \"CONC_real.tss\"\n",
    "            conc_name = tran + 'CONC'\n",
    "            sim = pd.read_table(path + name_list[i] + filename, \n",
    "                                skiprows=4, delim_whitespace=True,\n",
    "                                names=['Jdays', conc_name],\n",
    "                                header=None)\n",
    "            \n",
    "            mass_name = tran + \"Mass\"\n",
    "            sim[mass_name] = sim[conc_name] * p_b['pbAve'] * 4.0 * 10.0 * 10**3\n",
    "            transects.append(sim)\n",
    "            \n",
    "            # Append deltas\n",
    "            filename = \"resM_\" + tran + \"d13C_real.tss\"\n",
    "            delta_name = tran + 'd13C'\n",
    "            sim = pd.read_table(path + name_list[i] + filename,\n",
    "                                skiprows=4, delim_whitespace=True,\n",
    "                                names=['Jdays', delta_name],\n",
    "                                header=None)\n",
    "            transects.append(sim)\n",
    "\n",
    "        # Merge all transects\n",
    "        blk = reduce(lambda x, y: pd.merge(x, y, on='Jdays'), transects)\n",
    "\n",
    "        # Bulk concentration\n",
    "        conc_name = 'Conc_blk' +  name_list[i][3:]\n",
    "        blk[conc_name] = (blk['norCONC']*blk['norMass'] +\n",
    "                          blk['valCONC']*blk['valMass'] +\n",
    "                          blk['souCONC']*blk['souMass']\n",
    "                          ) / (blk['norMass'] + blk['valMass'] + blk['souMass'])\n",
    "\n",
    "        iso_name = 'd13C_blk' +  name_list[i][3:]\n",
    "        blk[iso_name] = (blk['nord13C']*blk['norMass'] +\n",
    "                         blk['vald13C']*blk['valMass'] +\n",
    "                         blk['soud13C']*blk['souMass']\n",
    "                        ) / (blk['norMass'] + blk['valMass'] + blk['souMass'])\n",
    "        \n",
    "        \n",
    "        blk = blk[['Jdays', conc_name, iso_name]]\n",
    "        sets.append(blk)\n",
    "    df = reduce(lambda left, right: pd.merge(left,right,on='Jdays'), sets)\n",
    "    return df"
   ]
  },
  {
   "cell_type": "code",
   "execution_count": 13,
   "metadata": {},
   "outputs": [],
   "source": [
    "# sets = get_sets_bulk(wc) # Returns sets merged\n",
    "# sets.tail()"
   ]
  },
  {
   "cell_type": "markdown",
   "metadata": {},
   "source": [
    "# Confidence interval calc."
   ]
  },
  {
   "cell_type": "code",
   "execution_count": 14,
   "metadata": {},
   "outputs": [],
   "source": [
    "def concat(row, plot):\n",
    "    return plot.capitalize() + '-' + str(int(row['Jdays']))"
   ]
  },
  {
   "cell_type": "code",
   "execution_count": 15,
   "metadata": {},
   "outputs": [],
   "source": [
    "def get_stats_bulk(df, measure, cst):\n",
    "    n = len(np.array(df.iloc[0,1:]))\n",
    "    df['mean'] = df.iloc[:,1:n+1].mean(axis=1)\n",
    "    df['min'] = df.iloc[:,1:n+1].min(axis=1)\n",
    "    df['max'] = df.iloc[:,1:n+1].max(axis=1)\n",
    "    df['sem'] = df.iloc[:,1:n+1].sem(axis=1)\n",
    "    df['sd'] = df.iloc[:,1:n+1].std(axis=1)\n",
    "    df['high'] = df['mean'] + 2.*df['sd']\n",
    "    df['low'] = df['mean'] - 2.*df['sd']\n",
    "#     df['high'] = df.apply(get_ci, args=(n, 0.95, True), axis=1)\n",
    "#     df['low'] = df.apply(get_ci, args=(n, 0.95, False), axis=1)\n",
    "    if measure == \"Conc\":\n",
    "        df['low'] = df.apply(check_negative, axis=1)\n",
    "#     df['Trans'] = loc\n",
    "#     df['Area'] = loc[0]\n",
    "#     df['Level'] = level  # Composite or Detailed, \n",
    "    loc = \"B\"\n",
    "    df['IDcal'] = df.apply (lambda row: concat(row, loc), axis=1)\n",
    "    df['Type'] = df.apply(lambda row: ModelType(row, cst),axis=1)\n",
    "    return df[['Jdays', 'mean', 'high', 'low', 'max', 'min', 'sd', 'IDcal', 'Type']]"
   ]
  },
  {
   "cell_type": "code",
   "execution_count": 16,
   "metadata": {},
   "outputs": [],
   "source": [
    "# sets_wc = get_sets_bulk(wc) "
   ]
  },
  {
   "cell_type": "code",
   "execution_count": 17,
   "metadata": {},
   "outputs": [],
   "source": [
    "sets_wc = get_sets_bulk(wc) \n",
    "sets_nc = get_sets_bulk(nc) \n",
    "time_wc = sets_wc.filter(like=\"Jdays\")\n",
    "time_nc = sets_nc.filter(like=\"Jdays\")\n",
    "\n",
    "conc_wc = sets_wc.filter(like='Conc')\n",
    "conc_nc = sets_nc.filter(like='Conc')\n",
    "\n",
    "conc_wc = pd.concat([time_wc, conc_wc], axis=1, join='inner')\n",
    "conc_nc = pd.concat([time_nc, conc_nc], axis=1, join='inner')"
   ]
  },
  {
   "cell_type": "code",
   "execution_count": 18,
   "metadata": {},
   "outputs": [],
   "source": [
    "wc_all = get_stats_bulk(conc_wc, 'Conc', 'WC')\n",
    "nc_all = get_stats_bulk(conc_nc, 'Conc', 'NC')"
   ]
  },
  {
   "cell_type": "code",
   "execution_count": 19,
   "metadata": {},
   "outputs": [],
   "source": [
    "wc_merged = pd.merge(wc_all, obs, how='outer', on='IDcal')\n",
    "nc_merged = pd.merge(nc_all, obs, how='outer', on='IDcal')"
   ]
  },
  {
   "cell_type": "code",
   "execution_count": 20,
   "metadata": {},
   "outputs": [
    {
     "data": {
      "text/html": [
       "<div>\n",
       "<style scoped>\n",
       "    .dataframe tbody tr th:only-of-type {\n",
       "        vertical-align: middle;\n",
       "    }\n",
       "\n",
       "    .dataframe tbody tr th {\n",
       "        vertical-align: top;\n",
       "    }\n",
       "\n",
       "    .dataframe thead th {\n",
       "        text-align: right;\n",
       "    }\n",
       "</style>\n",
       "<table border=\"1\" class=\"dataframe\">\n",
       "  <thead>\n",
       "    <tr style=\"text-align: right;\">\n",
       "      <th></th>\n",
       "      <th>Jdays_x</th>\n",
       "      <th>mean</th>\n",
       "      <th>high</th>\n",
       "      <th>low</th>\n",
       "      <th>max</th>\n",
       "      <th>min</th>\n",
       "      <th>sd</th>\n",
       "      <th>IDcal</th>\n",
       "      <th>Type</th>\n",
       "      <th>Jdays_y</th>\n",
       "      <th>DayMoYr</th>\n",
       "      <th>ug.g</th>\n",
       "      <th>ug.g.SD</th>\n",
       "    </tr>\n",
       "  </thead>\n",
       "  <tbody>\n",
       "    <tr>\n",
       "      <th>116</th>\n",
       "      <td>282</td>\n",
       "      <td>1.967463</td>\n",
       "      <td>2.732963</td>\n",
       "      <td>1.201962</td>\n",
       "      <td>2.653262</td>\n",
       "      <td>1.163263</td>\n",
       "      <td>0.382750</td>\n",
       "      <td>B-282</td>\n",
       "      <td>WC</td>\n",
       "      <td>NaN</td>\n",
       "      <td>NaN</td>\n",
       "      <td>NaN</td>\n",
       "      <td>NaN</td>\n",
       "    </tr>\n",
       "    <tr>\n",
       "      <th>117</th>\n",
       "      <td>283</td>\n",
       "      <td>1.927449</td>\n",
       "      <td>2.684598</td>\n",
       "      <td>1.170300</td>\n",
       "      <td>2.598626</td>\n",
       "      <td>1.129942</td>\n",
       "      <td>0.378574</td>\n",
       "      <td>B-283</td>\n",
       "      <td>WC</td>\n",
       "      <td>NaN</td>\n",
       "      <td>NaN</td>\n",
       "      <td>NaN</td>\n",
       "      <td>NaN</td>\n",
       "    </tr>\n",
       "    <tr>\n",
       "      <th>118</th>\n",
       "      <td>284</td>\n",
       "      <td>1.889446</td>\n",
       "      <td>2.639580</td>\n",
       "      <td>1.139312</td>\n",
       "      <td>2.548244</td>\n",
       "      <td>1.097593</td>\n",
       "      <td>0.375067</td>\n",
       "      <td>B-284</td>\n",
       "      <td>WC</td>\n",
       "      <td>NaN</td>\n",
       "      <td>NaN</td>\n",
       "      <td>NaN</td>\n",
       "      <td>NaN</td>\n",
       "    </tr>\n",
       "    <tr>\n",
       "      <th>119</th>\n",
       "      <td>285</td>\n",
       "      <td>1.851027</td>\n",
       "      <td>2.599556</td>\n",
       "      <td>1.102499</td>\n",
       "      <td>2.512422</td>\n",
       "      <td>1.064235</td>\n",
       "      <td>0.374264</td>\n",
       "      <td>B-285</td>\n",
       "      <td>WC</td>\n",
       "      <td>NaN</td>\n",
       "      <td>NaN</td>\n",
       "      <td>NaN</td>\n",
       "      <td>NaN</td>\n",
       "    </tr>\n",
       "    <tr>\n",
       "      <th>120</th>\n",
       "      <td>286</td>\n",
       "      <td>1.814430</td>\n",
       "      <td>2.557530</td>\n",
       "      <td>1.071331</td>\n",
       "      <td>2.473016</td>\n",
       "      <td>1.033834</td>\n",
       "      <td>0.371550</td>\n",
       "      <td>B-286</td>\n",
       "      <td>WC</td>\n",
       "      <td>286.0</td>\n",
       "      <td>2016-07-12</td>\n",
       "      <td>1.301117</td>\n",
       "      <td>0.169956</td>\n",
       "    </tr>\n",
       "  </tbody>\n",
       "</table>\n",
       "</div>"
      ],
      "text/plain": [
       "     Jdays_x      mean      high       low       max       min        sd  \\\n",
       "116      282  1.967463  2.732963  1.201962  2.653262  1.163263  0.382750   \n",
       "117      283  1.927449  2.684598  1.170300  2.598626  1.129942  0.378574   \n",
       "118      284  1.889446  2.639580  1.139312  2.548244  1.097593  0.375067   \n",
       "119      285  1.851027  2.599556  1.102499  2.512422  1.064235  0.374264   \n",
       "120      286  1.814430  2.557530  1.071331  2.473016  1.033834  0.371550   \n",
       "\n",
       "     IDcal Type  Jdays_y     DayMoYr      ug.g   ug.g.SD  \n",
       "116  B-282   WC      NaN         NaN       NaN       NaN  \n",
       "117  B-283   WC      NaN         NaN       NaN       NaN  \n",
       "118  B-284   WC      NaN         NaN       NaN       NaN  \n",
       "119  B-285   WC      NaN         NaN       NaN       NaN  \n",
       "120  B-286   WC    286.0  2016-07-12  1.301117  0.169956  "
      ]
     },
     "execution_count": 20,
     "metadata": {},
     "output_type": "execute_result"
    }
   ],
   "source": [
    "# wc_merged[20:25]\n",
    "wc_merged.tail()"
   ]
  },
  {
   "cell_type": "code",
   "execution_count": 21,
   "metadata": {},
   "outputs": [],
   "source": [
    "# nc_merged.head()\n",
    "# sets_all = pd.concat([nc_merged, wc_merged])"
   ]
  },
  {
   "cell_type": "code",
   "execution_count": 22,
   "metadata": {},
   "outputs": [],
   "source": [
    "# ff.tail() ff_c.tail()\n",
    "fix_nc = ff.loc[(ff['Model']=='fix')]\n",
    "var_nc = ff.loc[(ff['Model']=='var')]\n",
    "fix_wc = ff_c.loc[(ff_c['Model']=='fix')]\n",
    "var_wc = ff_c.loc[(ff_c['Model']=='var')]"
   ]
  },
  {
   "cell_type": "code",
   "execution_count": 55,
   "metadata": {},
   "outputs": [
    {
     "data": {
      "image/png": "[encoded data removed]",
      "text/plain": [
       "<Figure size 504x307.44 with 2 Axes>"
      ]
     },
     "metadata": {},
     "output_type": "display_data"
    }
   ],
   "source": [
    "# sns.set(rc={'figure.figsize':(11.7, 8.27)})\n",
    "# ES&T max width, 1 column = 3.25in, 2-col = 7in \n",
    "sns.set_context(\"paper\")\n",
    "sns.set(rc={'figure.figsize':(7.0, 4.27)}) # Width, height, inches\n",
    "\n",
    "fig, (ax1, ax2) = plt.subplots(1, 2, sharex=False, sharey=False)\n",
    "\n",
    "time = np.array(nc_merged['Jdays_x']-171)\n",
    "obs_conc = np.array(nc_merged['ug.g'])\n",
    "err = np.array(nc_merged['ug.g.SD'])\n",
    "nc_mean = np.array(nc_merged['mean'])\n",
    "nc_high = np.array(nc_merged['high'])\n",
    "nc_low = np.array(nc_merged['low'])\n",
    "\n",
    "wc_mean = np.array(wc_merged['mean'])\n",
    "wc_high = np.array(wc_merged['high'])\n",
    "wc_low = np.array(wc_merged['low'])\n",
    "\n",
    "# ax1.annotate('A', fontsize=15,\n",
    "#             xy=(50, 225), xycoords='figure pixels')\n",
    "# ax2.annotate('B', fontsize=15,\n",
    "#             xy=(275, 225), xycoords='figure pixels')\n",
    "ax1.annotate('A', fontsize=15,\n",
    "            xy=(-3, 8.7), xycoords='data')\n",
    "ax2.annotate('B', fontsize=15,\n",
    "            xy=(1, 0.145), xycoords='data')\n",
    "\n",
    "\n",
    "# NC\n",
    "ax1.plot(time, nc_mean, label='NC') # c= \"red\", marker='.', linestyle=':'\n",
    "ax1.legend(loc=\"upper right\")\n",
    "ax1.fill_between(time, nc_high, nc_low, alpha=0.5)\n",
    "# WC\n",
    "ax1.plot(time, wc_mean, label='WC') # c= \"red\", marker='.', linestyle=':'\n",
    "ax1.legend(loc=\"upper right\")\n",
    "ax1.fill_between(time, wc_high, wc_low, alpha=0.5)\n",
    "# Obs\n",
    "ax1.errorbar(time, obs_conc, err)\n",
    "ax1.scatter(time, obs_conc, c= \"green\", marker='.', label=\"BLK\")\n",
    "ax1.legend(loc=\"upper right\")\n",
    "ax1.set_ylabel(\"[SM] ($\\mu g$ $g^{-1}$ soil d.wt.)\")\n",
    "ax1.set_xlabel(\"Days after 1st App.\")\n",
    "\n",
    "sns.distplot( ff[\"dt_50_ref\"] , color=\"C0\", label=\"NC\", ax=ax2)\n",
    "# sns.distplot( var_nc[\"dt_50_ref\"] , color=\"red\", label=\"Var - NC\", ax=ax2)\n",
    "sns.distplot( ff_c[\"dt_50_ref\"] , color=\"C1\", label=\"WC\", ax=ax2)\n",
    "# sns.distplot( var_wc[\"dt_50_ref\"] , color=\"teal\", label=\"Var - WC\", ax=ax2)\n",
    "ax2.set_xlabel(\"DT50 (days)\")\n",
    "ax2.set_ylabel(\"$f$ (-)\")\n",
    "\n",
    "plt.subplots_adjust(left=None, bottom=None, right=None, top=None,\n",
    "                wspace=0.35, hspace=None)\n",
    "plt.legend()\n",
    "\n",
    "fig.savefig(\"Fig1_FitNC.pdf\")\n",
    "# sns.pointplot(x=\"Jdays_x\", y=\"ug.g\", data=sets_all.loc[sets_all['Type']==\"WC\"], join=False, ax=ax1)"
   ]
  },
  {
   "cell_type": "code",
   "execution_count": 24,
   "metadata": {},
   "outputs": [
    {
     "data": {
      "text/plain": [
       "29"
      ]
     },
     "execution_count": 24,
     "metadata": {},
     "output_type": "execute_result"
    }
   ],
   "source": [
    "200-171"
   ]
  },
  {
   "cell_type": "markdown",
   "metadata": {},
   "source": [
    "https://python-graph-gallery.com/25-histogram-with-several-variables-seaborn/"
   ]
  },
  {
   "cell_type": "code",
   "execution_count": null,
   "metadata": {},
   "outputs": [],
   "source": []
  }
 ],
 "metadata": {
  "kernelspec": {
   "display_name": "bunny",
   "language": "python",
   "name": "bunny"
  },
  "language_info": {
   "codemirror_mode": {
    "name": "ipython",
    "version": 2
   },
   "file_extension": ".py",
   "mimetype": "text/x-python",
   "name": "python",
   "nbconvert_exporter": "python",
   "pygments_lexer": "ipython2",
   "version": "2.7.14"
  }
 },
 "nbformat": 4,
 "nbformat_minor": 2
}
