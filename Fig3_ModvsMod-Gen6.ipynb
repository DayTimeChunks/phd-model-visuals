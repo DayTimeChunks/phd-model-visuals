{
 "cells": [
  {
   "cell_type": "code",
   "execution_count": 1,
   "metadata": {},
   "outputs": [],
   "source": [
    "import numpy as np\n",
    "# Plotting\n",
    "import pandas as pd\n",
    "from helpers_pd import *\n",
    "pd.options.mode.chained_assignment = None  # default='warn'\n",
    "import seaborn as sns\n",
    "sns.set()\n",
    "# plt.style.use('seaborn-white')\n",
    "import matplotlib.pyplot as plt\n",
    "import matplotlib as mpl"
   ]
  },
  {
   "cell_type": "code",
   "execution_count": 2,
   "metadata": {},
   "outputs": [],
   "source": [
    "def facet_scatter(x, y, c, **kwargs):\n",
    "    \"\"\"Draw scatterplot with point colors from a faceted DataFrame columns.\"\"\"\n",
    "    kwargs.pop(\"color\")\n",
    "    plt.scatter(x, y, c=c, **kwargs)    "
   ]
  },
  {
   "cell_type": "markdown",
   "metadata": {},
   "source": [
    "Want to constrain mobility in soils by outlet fit. \n",
    "\n",
    "Does the **variable model** allow us to see the constraint effects (on Kd and DT50), when constrained by the outlet? "
   ]
  },
  {
   "cell_type": "code",
   "execution_count": 6,
   "metadata": {},
   "outputs": [],
   "source": [
    "df1 = get_data(gen=\"Gen7\")\n"
   ]
  },
  {
   "cell_type": "code",
   "execution_count": 7,
   "metadata": {},
   "outputs": [],
   "source": [
    "df1[\"Gen\"] = \"Gen7\"\n",
    "# # df3[\"Gen\"] = \"Gen3\"\n",
    "# df4[\"Gen\"] = \"Gen6\"\n",
    "df = pd.concat([df1, \n",
    "#                 df3, \n",
    "#                 df4\n",
    "               ])\n",
    "\n"
   ]
  },
  {
   "cell_type": "code",
   "execution_count": 8,
   "metadata": {},
   "outputs": [
    {
     "name": "stdout",
     "output_type": "stream",
     "text": [
      "(850,)\n"
     ]
    }
   ],
   "source": [
    "print(len(df1), \n",
    "#       len(df4)\n",
    "     )"
   ]
  },
  {
   "cell_type": "code",
   "execution_count": 9,
   "metadata": {},
   "outputs": [],
   "source": [
    "# Index names\n",
    "df['Name'] = df['Gen'] + \"/\" + df.index\n",
    "df = df.set_index('Name')"
   ]
  },
  {
   "cell_type": "code",
   "execution_count": 10,
   "metadata": {},
   "outputs": [],
   "source": [
    "# 'LHS_e1var7/1/' in df.index"
   ]
  },
  {
   "cell_type": "code",
   "execution_count": 11,
   "metadata": {},
   "outputs": [],
   "source": [
    "df['K_d'] = df.loc[:, 'k_oc'] * df.loc[:,'f_oc']\n",
    "# Combined outlet and transects KGE Concentrations and d13C\n",
    "df['KGE-SM'] = (df.loc[:, 'KGE-CONC_out'] + df.loc[:, 'KGE-CONC-blk'])/2.0  \n",
    "df['KGE-d13C'] = (df.loc[:, 'KGE-d13C_out'] + df.loc[:, 'KGE-d13C-blk'])/2.0\n",
    "\n",
    "isocst = 0.5\n",
    "df['Constraint'] = df.apply(IsoKGE, args=(isocst,), axis=1)"
   ]
  },
  {
   "cell_type": "code",
   "execution_count": 12,
   "metadata": {},
   "outputs": [
    {
     "name": "stdout",
     "output_type": "stream",
     "text": [
      "Maximum Conc.\n",
      "(0.8063226246927644, 0.37453357263942555, 0.5654617155535002)\n",
      "Maximum d13C\n",
      "(0.8752158501621887, 0.5929149482964915, 0.7370023556433135)\n"
     ]
    }
   ],
   "source": [
    "print(\"Maximum Conc.\")\n",
    "print(df['KGE-CONC-tra'].max(), df['KGE-CONC_out'].max(), df['KGE-SM'].max()) \n",
    "print(\"Maximum d13C\")\n",
    "print(df['KGE-d13C-tra'].max(), df['KGE-d13C_out'].max(), df['KGE-d13C'].max()) "
   ]
  },
  {
   "cell_type": "code",
   "execution_count": 13,
   "metadata": {},
   "outputs": [],
   "source": [
    "dfs = df[['Model', 'Gen',\n",
    "          'K_d', 'dt_50_ref', 'k_oc', 'f_oc',\n",
    "          'KGE-CONC-tra' , 'KGE-CONC-blk',\n",
    "          'KGE-Q_out', 'KGE-CONC_out', 'KGE-LDS_out',\n",
    "          'KGE-d13C-tra', 'KGE-d13C_out',\n",
    "          'KGE-SM', 'KGE-d13C', 'Constraint'\n",
    "         ]]"
   ]
  },
  {
   "cell_type": "code",
   "execution_count": 14,
   "metadata": {},
   "outputs": [
    {
     "data": {
      "text/html": [
       "<div>\n",
       "<style scoped>\n",
       "    .dataframe tbody tr th:only-of-type {\n",
       "        vertical-align: middle;\n",
       "    }\n",
       "\n",
       "    .dataframe tbody tr th {\n",
       "        vertical-align: top;\n",
       "    }\n",
       "\n",
       "    .dataframe thead th {\n",
       "        text-align: right;\n",
       "    }\n",
       "</style>\n",
       "<table border=\"1\" class=\"dataframe\">\n",
       "  <thead>\n",
       "    <tr style=\"text-align: right;\">\n",
       "      <th></th>\n",
       "      <th>Model</th>\n",
       "      <th>Gen</th>\n",
       "      <th>K_d</th>\n",
       "      <th>dt_50_ref</th>\n",
       "      <th>k_oc</th>\n",
       "      <th>f_oc</th>\n",
       "      <th>KGE-CONC-tra</th>\n",
       "      <th>KGE-CONC-blk</th>\n",
       "      <th>KGE-Q_out</th>\n",
       "      <th>KGE-CONC_out</th>\n",
       "      <th>KGE-LDS_out</th>\n",
       "      <th>KGE-d13C-tra</th>\n",
       "      <th>KGE-d13C_out</th>\n",
       "      <th>KGE-SM</th>\n",
       "      <th>KGE-d13C</th>\n",
       "      <th>Constraint</th>\n",
       "    </tr>\n",
       "    <tr>\n",
       "      <th>Name</th>\n",
       "      <th></th>\n",
       "      <th></th>\n",
       "      <th></th>\n",
       "      <th></th>\n",
       "      <th></th>\n",
       "      <th></th>\n",
       "      <th></th>\n",
       "      <th></th>\n",
       "      <th></th>\n",
       "      <th></th>\n",
       "      <th></th>\n",
       "      <th></th>\n",
       "      <th></th>\n",
       "      <th></th>\n",
       "      <th></th>\n",
       "      <th></th>\n",
       "    </tr>\n",
       "  </thead>\n",
       "  <tbody>\n",
       "    <tr>\n",
       "      <th>Gen7/LHS_sc1var47/50/</th>\n",
       "      <td>var</td>\n",
       "      <td>Gen7</td>\n",
       "      <td>30.278067</td>\n",
       "      <td>49.412918</td>\n",
       "      <td>1070.600224</td>\n",
       "      <td>0.028281</td>\n",
       "      <td>0.175960</td>\n",
       "      <td>0.082531</td>\n",
       "      <td>0.721556</td>\n",
       "      <td>-0.191982</td>\n",
       "      <td>0.654949</td>\n",
       "      <td>0.865052</td>\n",
       "      <td>0.465737</td>\n",
       "      <td>-0.054725</td>\n",
       "      <td>0.668159</td>\n",
       "      <td>KGE-d13C &gt;  0.5</td>\n",
       "    </tr>\n",
       "    <tr>\n",
       "      <th>Gen7/LHS_sc1var47/6/</th>\n",
       "      <td>var</td>\n",
       "      <td>Gen7</td>\n",
       "      <td>57.095460</td>\n",
       "      <td>33.574550</td>\n",
       "      <td>1742.033794</td>\n",
       "      <td>0.032775</td>\n",
       "      <td>0.779878</td>\n",
       "      <td>0.728830</td>\n",
       "      <td>0.604955</td>\n",
       "      <td>-0.506958</td>\n",
       "      <td>-0.352323</td>\n",
       "      <td>0.762059</td>\n",
       "      <td>0.108786</td>\n",
       "      <td>0.110936</td>\n",
       "      <td>0.345414</td>\n",
       "      <td>KGE-d13C &lt; 0.5</td>\n",
       "    </tr>\n",
       "    <tr>\n",
       "      <th>Gen7/LHS_sc1var47/7/</th>\n",
       "      <td>var</td>\n",
       "      <td>Gen7</td>\n",
       "      <td>32.765266</td>\n",
       "      <td>39.290694</td>\n",
       "      <td>1235.300502</td>\n",
       "      <td>0.026524</td>\n",
       "      <td>0.746132</td>\n",
       "      <td>0.685426</td>\n",
       "      <td>0.670298</td>\n",
       "      <td>-0.013950</td>\n",
       "      <td>0.220700</td>\n",
       "      <td>0.681366</td>\n",
       "      <td>0.190405</td>\n",
       "      <td>0.335738</td>\n",
       "      <td>0.526602</td>\n",
       "      <td>KGE-d13C &gt;  0.5</td>\n",
       "    </tr>\n",
       "    <tr>\n",
       "      <th>Gen7/LHS_sc1var47/8/</th>\n",
       "      <td>var</td>\n",
       "      <td>Gen7</td>\n",
       "      <td>30.932891</td>\n",
       "      <td>30.714116</td>\n",
       "      <td>1512.066834</td>\n",
       "      <td>0.020457</td>\n",
       "      <td>0.257760</td>\n",
       "      <td>0.248163</td>\n",
       "      <td>0.678236</td>\n",
       "      <td>-0.490923</td>\n",
       "      <td>-0.216745</td>\n",
       "      <td>0.839079</td>\n",
       "      <td>0.468220</td>\n",
       "      <td>-0.121380</td>\n",
       "      <td>0.639794</td>\n",
       "      <td>KGE-d13C &gt;  0.5</td>\n",
       "    </tr>\n",
       "    <tr>\n",
       "      <th>Gen7/LHS_sc1var47/9/</th>\n",
       "      <td>var</td>\n",
       "      <td>Gen7</td>\n",
       "      <td>5.922168</td>\n",
       "      <td>28.227290</td>\n",
       "      <td>242.494675</td>\n",
       "      <td>0.024422</td>\n",
       "      <td>0.572513</td>\n",
       "      <td>0.693077</td>\n",
       "      <td>0.508450</td>\n",
       "      <td>-2.164371</td>\n",
       "      <td>-13.522247</td>\n",
       "      <td>0.666766</td>\n",
       "      <td>0.085973</td>\n",
       "      <td>-0.735647</td>\n",
       "      <td>0.242668</td>\n",
       "      <td>KGE-d13C &lt; 0.5</td>\n",
       "    </tr>\n",
       "  </tbody>\n",
       "</table>\n",
       "</div>"
      ],
      "text/plain": [
       "                      Model   Gen        K_d  dt_50_ref         k_oc  \\\n",
       "Name                                                                   \n",
       "Gen7/LHS_sc1var47/50/   var  Gen7  30.278067  49.412918  1070.600224   \n",
       "Gen7/LHS_sc1var47/6/    var  Gen7  57.095460  33.574550  1742.033794   \n",
       "Gen7/LHS_sc1var47/7/    var  Gen7  32.765266  39.290694  1235.300502   \n",
       "Gen7/LHS_sc1var47/8/    var  Gen7  30.932891  30.714116  1512.066834   \n",
       "Gen7/LHS_sc1var47/9/    var  Gen7   5.922168  28.227290   242.494675   \n",
       "\n",
       "                           f_oc  KGE-CONC-tra  KGE-CONC-blk  KGE-Q_out  \\\n",
       "Name                                                                     \n",
       "Gen7/LHS_sc1var47/50/  0.028281      0.175960      0.082531   0.721556   \n",
       "Gen7/LHS_sc1var47/6/   0.032775      0.779878      0.728830   0.604955   \n",
       "Gen7/LHS_sc1var47/7/   0.026524      0.746132      0.685426   0.670298   \n",
       "Gen7/LHS_sc1var47/8/   0.020457      0.257760      0.248163   0.678236   \n",
       "Gen7/LHS_sc1var47/9/   0.024422      0.572513      0.693077   0.508450   \n",
       "\n",
       "                       KGE-CONC_out  KGE-LDS_out  KGE-d13C-tra  KGE-d13C_out  \\\n",
       "Name                                                                           \n",
       "Gen7/LHS_sc1var47/50/     -0.191982     0.654949      0.865052      0.465737   \n",
       "Gen7/LHS_sc1var47/6/      -0.506958    -0.352323      0.762059      0.108786   \n",
       "Gen7/LHS_sc1var47/7/      -0.013950     0.220700      0.681366      0.190405   \n",
       "Gen7/LHS_sc1var47/8/      -0.490923    -0.216745      0.839079      0.468220   \n",
       "Gen7/LHS_sc1var47/9/      -2.164371   -13.522247      0.666766      0.085973   \n",
       "\n",
       "                         KGE-SM  KGE-d13C       Constraint  \n",
       "Name                                                        \n",
       "Gen7/LHS_sc1var47/50/ -0.054725  0.668159  KGE-d13C >  0.5  \n",
       "Gen7/LHS_sc1var47/6/   0.110936  0.345414   KGE-d13C < 0.5  \n",
       "Gen7/LHS_sc1var47/7/   0.335738  0.526602  KGE-d13C >  0.5  \n",
       "Gen7/LHS_sc1var47/8/  -0.121380  0.639794  KGE-d13C >  0.5  \n",
       "Gen7/LHS_sc1var47/9/  -0.735647  0.242668   KGE-d13C < 0.5  "
      ]
     },
     "execution_count": 14,
     "metadata": {},
     "output_type": "execute_result"
    }
   ],
   "source": [
    "dfs.tail()"
   ]
  },
  {
   "cell_type": "markdown",
   "metadata": {},
   "source": [
    "Filter for good concentrations"
   ]
  },
  {
   "cell_type": "code",
   "execution_count": 15,
   "metadata": {},
   "outputs": [
    {
     "name": "stdout",
     "output_type": "stream",
     "text": [
      "(850, 32, 6)\n",
      "NC\n",
      "(0.7030758312891454, 0.31728158513185817)\n",
      "(0.7682038021271147, 0.26406485374839855)\n",
      "WC\n",
      "(0.7225416541388187, 0.356020694385776)\n",
      "(0.743090555560134, 0.3066400071179104)\n"
     ]
    }
   ],
   "source": [
    "# Filter\n",
    "ff = dfs.loc[(dfs['KGE-SM'] > 0.46)] # Try 25 with more data points\n",
    "ff_c = ff.loc[(ff['KGE-d13C'] > 0.46)]\n",
    "print(len(dfs), len(ff), len(ff_c))\n",
    "\n",
    "aveKGEs_var = float(ff.loc[ff['Model']=='var']['KGE-CONC-tra'].mean())\n",
    "aveKGEo_var = float(ff.loc[ff['Model']=='var']['KGE-CONC_out'].mean())\n",
    "\n",
    "aveKGEs_fix = float(ff.loc[ff['Model']=='fix']['KGE-CONC-tra'].mean())\n",
    "aveKGEo_fix = float(ff.loc[ff['Model']=='fix']['KGE-CONC_out'].mean())\n",
    "\n",
    "aveKGEs_var_c = float(ff_c.loc[ff_c['Model']=='var']['KGE-CONC-tra'].mean())\n",
    "aveKGEo_var_c = float(ff_c.loc[ff_c['Model']=='var']['KGE-CONC_out'].mean())\n",
    "\n",
    "aveKGEs_fix_c = float(ff_c.loc[ff_c['Model']=='fix']['KGE-CONC-tra'].mean())\n",
    "aveKGEo_fix_c = float(ff_c.loc[ff_c['Model']=='fix']['KGE-CONC_out'].mean())\n",
    "\n",
    "# fix_num = len(dfs.loc[dfs['Model']== 'fix'])\n",
    "# var_num = len(dfs.loc[dfs['Model']== 'var'])\n",
    "\n",
    "# fix_passed = len(ff.loc[ff['Model']== 'fix'])\n",
    "# var_passed = len(ff.loc[ff['Model']== 'var'])\n",
    "\n",
    "# f_fix = round(float(fix_passed)/fix_num, 3)\n",
    "# f_var = round(float(var_passed)/var_num, 3)\n",
    "# print(fix_num, var_num)\n",
    "# print(f_fix, f_var)\n",
    "# print(f_fix*fix_num, f_var*var_num)\n",
    "print(\"NC\")\n",
    "print(aveKGEs_var, aveKGEo_var)\n",
    "print(aveKGEs_fix, aveKGEo_fix)\n",
    "print(\"WC\")\n",
    "print(aveKGEs_var_c, aveKGEo_var_c)\n",
    "print(aveKGEs_fix_c, aveKGEo_fix_c)"
   ]
  },
  {
   "cell_type": "code",
   "execution_count": 16,
   "metadata": {},
   "outputs": [
    {
     "name": "stdout",
     "output_type": "stream",
     "text": [
      "Maximum Conc.\n",
      "(0.8052064626846263, 0.3635415179180387, 0.5654617155535002)\n",
      "Maximum d13C\n",
      "(0.855971051349809, 0.3255320255969969, 0.595059062504598)\n"
     ]
    }
   ],
   "source": [
    "print(\"Maximum Conc.\")\n",
    "print(ff['KGE-CONC-tra'].max(), ff['KGE-CONC_out'].max(), ff['KGE-SM'].max()) \n",
    "print(\"Maximum d13C\")\n",
    "print(ff['KGE-d13C-tra'].max(), ff['KGE-d13C_out'].max(), ff['KGE-d13C'].max()) "
   ]
  },
  {
   "cell_type": "markdown",
   "metadata": {},
   "source": [
    "Set color bar and axes ranges "
   ]
  },
  {
   "cell_type": "code",
   "execution_count": 17,
   "metadata": {},
   "outputs": [],
   "source": [
    "vmin, vmax = ff['KGE-SM'].min()* .9, ff['KGE-SM'].max() * 1.05\n",
    "cmap = sns.diverging_palette(10, 240, l=65, center=\"light\", as_cmap=True)\n",
    "# cmap = sns.diverging_palette(275, 150, s=80, l=55, center=\"dark\", as_cmap=True)\n",
    "\n",
    "xmin, xmax = ff['KGE-CONC_out'].min() * 1.3, ff['KGE-CONC_out'].max() * 1.05\n",
    "ymin, ymax = ff['KGE-CONC-tra'].min() * .9, ff['KGE-CONC-tra'].max() * 1.05"
   ]
  },
  {
   "cell_type": "code",
   "execution_count": 18,
   "metadata": {},
   "outputs": [],
   "source": [
    "# ff.tail()\n",
    "# pal = sns.color_palette(\"Set1\", n_colors=8, desat=.5)\n",
    "pal = dict(Lunch=\"seagreen\", Dinner=\"gray\")\n",
    "kws = dict(s=50, linewidth=.5, edgecolor=\"w\")"
   ]
  },
  {
   "cell_type": "code",
   "execution_count": 19,
   "metadata": {},
   "outputs": [],
   "source": [
    "# aveG1 = int(ff.loc[ff['Gen']=='Gen1']['dt_50_ref'].mean())\n",
    "# aveG4 = int(ff.loc[ff['Gen']=='Gen6']['dt_50_ref'].mean())\n",
    "\n",
    "# aveG1c = int(ff_c.loc[ff_c['Gen']=='Gen1']['dt_50_ref'].mean())\n",
    "# aveG4c = int(ff_c.loc[ff_c['Gen']=='Gen6']['dt_50_ref'].mean())\n",
    "\n",
    "# ff['DT50'] = np.where(ff['Gen'] == \"Gen1\", aveG1, aveG4)\n",
    "# ff_c['DT50'] = np.where(ff_c['Gen'] == \"Gen1\", aveG1c, aveG4c)\n",
    "# aveG3 = ff.loc[ff['Gen']=='Gen3']['dt_50_ref'].mean()"
   ]
  },
  {
   "cell_type": "code",
   "execution_count": 20,
   "metadata": {},
   "outputs": [],
   "source": [
    "# aveG1 = int(ff_c.loc[ff_c['Gen']=='Gen1']['dt_50_ref'].mean())\n",
    "# aveG4 = int(ff_c.loc[ff_c['Gen']=='Gen4']['dt_50_ref'].mean())\n",
    "\n",
    "# ff_c['DT50'] = np.where(ff_c['Gen'] == \"Gen1\", aveG1, aveG4)"
   ]
  },
  {
   "cell_type": "code",
   "execution_count": 21,
   "metadata": {},
   "outputs": [
    {
     "data": {
      "text/html": [
       "<div>\n",
       "<style scoped>\n",
       "    .dataframe tbody tr th:only-of-type {\n",
       "        vertical-align: middle;\n",
       "    }\n",
       "\n",
       "    .dataframe tbody tr th {\n",
       "        vertical-align: top;\n",
       "    }\n",
       "\n",
       "    .dataframe thead th {\n",
       "        text-align: right;\n",
       "    }\n",
       "</style>\n",
       "<table border=\"1\" class=\"dataframe\">\n",
       "  <thead>\n",
       "    <tr style=\"text-align: right;\">\n",
       "      <th></th>\n",
       "      <th>Model</th>\n",
       "      <th>Gen</th>\n",
       "      <th>K_d</th>\n",
       "      <th>dt_50_ref</th>\n",
       "      <th>k_oc</th>\n",
       "      <th>f_oc</th>\n",
       "      <th>KGE-CONC-tra</th>\n",
       "      <th>KGE-CONC-blk</th>\n",
       "      <th>KGE-Q_out</th>\n",
       "      <th>KGE-CONC_out</th>\n",
       "      <th>KGE-LDS_out</th>\n",
       "      <th>KGE-d13C-tra</th>\n",
       "      <th>KGE-d13C_out</th>\n",
       "      <th>KGE-SM</th>\n",
       "      <th>KGE-d13C</th>\n",
       "      <th>Constraint</th>\n",
       "    </tr>\n",
       "    <tr>\n",
       "      <th>Name</th>\n",
       "      <th></th>\n",
       "      <th></th>\n",
       "      <th></th>\n",
       "      <th></th>\n",
       "      <th></th>\n",
       "      <th></th>\n",
       "      <th></th>\n",
       "      <th></th>\n",
       "      <th></th>\n",
       "      <th></th>\n",
       "      <th></th>\n",
       "      <th></th>\n",
       "      <th></th>\n",
       "      <th></th>\n",
       "      <th></th>\n",
       "      <th></th>\n",
       "    </tr>\n",
       "  </thead>\n",
       "  <tbody>\n",
       "    <tr>\n",
       "      <th>Gen7/LHS_e1fix44/9/</th>\n",
       "      <td>fix</td>\n",
       "      <td>Gen7</td>\n",
       "      <td>21.390959</td>\n",
       "      <td>27.768633</td>\n",
       "      <td>648.653666</td>\n",
       "      <td>0.032977</td>\n",
       "      <td>0.734479</td>\n",
       "      <td>0.694369</td>\n",
       "      <td>0.721171</td>\n",
       "      <td>0.344202</td>\n",
       "      <td>-2.183823</td>\n",
       "      <td>0.59873</td>\n",
       "      <td>0.311114</td>\n",
       "      <td>0.519285</td>\n",
       "      <td>0.595059</td>\n",
       "      <td>KGE-d13C &gt;  0.5</td>\n",
       "    </tr>\n",
       "    <tr>\n",
       "      <th>Gen7/LHS_m1fix44/10/</th>\n",
       "      <td>fix</td>\n",
       "      <td>Gen7</td>\n",
       "      <td>3.666272</td>\n",
       "      <td>28.786702</td>\n",
       "      <td>133.152934</td>\n",
       "      <td>0.027534</td>\n",
       "      <td>0.798866</td>\n",
       "      <td>0.777995</td>\n",
       "      <td>0.567804</td>\n",
       "      <td>0.240539</td>\n",
       "      <td>-0.921081</td>\n",
       "      <td>0.52713</td>\n",
       "      <td>0.111547</td>\n",
       "      <td>0.509267</td>\n",
       "      <td>0.488425</td>\n",
       "      <td>KGE-d13C &lt; 0.5</td>\n",
       "    </tr>\n",
       "  </tbody>\n",
       "</table>\n",
       "</div>"
      ],
      "text/plain": [
       "                     Model   Gen        K_d  dt_50_ref        k_oc      f_oc  \\\n",
       "Name                                                                           \n",
       "Gen7/LHS_e1fix44/9/    fix  Gen7  21.390959  27.768633  648.653666  0.032977   \n",
       "Gen7/LHS_m1fix44/10/   fix  Gen7   3.666272  28.786702  133.152934  0.027534   \n",
       "\n",
       "                      KGE-CONC-tra  KGE-CONC-blk  KGE-Q_out  KGE-CONC_out  \\\n",
       "Name                                                                        \n",
       "Gen7/LHS_e1fix44/9/       0.734479      0.694369   0.721171      0.344202   \n",
       "Gen7/LHS_m1fix44/10/      0.798866      0.777995   0.567804      0.240539   \n",
       "\n",
       "                      KGE-LDS_out  KGE-d13C-tra  KGE-d13C_out    KGE-SM  \\\n",
       "Name                                                                      \n",
       "Gen7/LHS_e1fix44/9/     -2.183823       0.59873      0.311114  0.519285   \n",
       "Gen7/LHS_m1fix44/10/    -0.921081       0.52713      0.111547  0.509267   \n",
       "\n",
       "                      KGE-d13C       Constraint  \n",
       "Name                                             \n",
       "Gen7/LHS_e1fix44/9/   0.595059  KGE-d13C >  0.5  \n",
       "Gen7/LHS_m1fix44/10/  0.488425   KGE-d13C < 0.5  "
      ]
     },
     "execution_count": 21,
     "metadata": {},
     "output_type": "execute_result"
    }
   ],
   "source": [
    "ff_c.head(2)"
   ]
  },
  {
   "cell_type": "code",
   "execution_count": 22,
   "metadata": {},
   "outputs": [
    {
     "data": {
      "text/plain": [
       "Text(51,191,'A')"
      ]
     },
     "execution_count": 22,
     "metadata": {},
     "output_type": "execute_result"
    },
    {
     "data": {
      "image/png": "[encoded data removed]",
      "text/plain": [
       "<Figure size 270.975x216 with 1 Axes>"
      ]
     },
     "metadata": {},
     "output_type": "display_data"
    }
   ],
   "source": [
    "g = sns.FacetGrid(ff_c, hue=\"Model\", hue_kws=dict(marker=[\"^\", \"v\"]), hue_order=[\"var\", \"fix\"])\n",
    "                  #palette=pal, #,                   \n",
    "\n",
    "g = (g.map(plt.scatter, \"KGE-CONC_out\", \"KGE-CONC-tra\", **kws).add_legend())\n",
    "\n",
    "g.axes[0,0].set_ylim(ymin, ymax)\n",
    "g.axes[0,0].set_xlim(xmin, xmax) # left plot\n",
    "\n",
    "# g.axes[0,1].set_ylim(ymin, ymax)\n",
    "# g.axes[0,1].set_xlim(xmin, xmax) # right plot\n",
    "\n",
    "ax0 = g.axes[0, 0]\n",
    "# ax1 = g.axes[0, 1]\n",
    "\n",
    "ax0.set_xlabel(\"Outlet KGE [SM]\")\n",
    "ax0.set_ylabel(\"Soils KGE [SM]\")\n",
    "\n",
    "# ax1.set_xlabel(\"Outlet KGE [SM]\")\n",
    "\n",
    "\n",
    "ax0.annotate('A', fontsize=15,\n",
    "            xy=(51, 191), xycoords='figure pixels')\n",
    "# ax1.annotate('B', fontsize=15,\n",
    "#             xy=(248, 191), xycoords='figure pixels')\n",
    "\n",
    "# g.savefig(\"Fig3_MvsM.pdf\")"
   ]
  },
  {
   "cell_type": "code",
   "execution_count": null,
   "metadata": {},
   "outputs": [],
   "source": []
  },
  {
   "cell_type": "code",
   "execution_count": null,
   "metadata": {},
   "outputs": [],
   "source": []
  },
  {
   "cell_type": "code",
   "execution_count": 23,
   "metadata": {},
   "outputs": [
    {
     "ename": "KeyError",
     "evalue": "'DT50'",
     "output_type": "error",
     "traceback": [
      "\u001b[0;31m---------------------------------------------------------------------------\u001b[0m",
      "\u001b[0;31mKeyError\u001b[0m                                  Traceback (most recent call last)",
      "\u001b[0;32m<ipython-input-23-a5062a83226b>\u001b[0m in \u001b[0;36m<module>\u001b[0;34m()\u001b[0m\n\u001b[0;32m----> 1\u001b[0;31m \u001b[0mg\u001b[0m \u001b[0;34m=\u001b[0m \u001b[0msns\u001b[0m\u001b[0;34m.\u001b[0m\u001b[0mFacetGrid\u001b[0m\u001b[0;34m(\u001b[0m\u001b[0mff_c\u001b[0m\u001b[0;34m,\u001b[0m \u001b[0mcol\u001b[0m\u001b[0;34m=\u001b[0m\u001b[0;34m\"DT50\"\u001b[0m\u001b[0;34m,\u001b[0m \u001b[0mhue\u001b[0m\u001b[0;34m=\u001b[0m\u001b[0;34m\"Model\"\u001b[0m\u001b[0;34m,\u001b[0m \u001b[0mhue_kws\u001b[0m\u001b[0;34m=\u001b[0m\u001b[0mdict\u001b[0m\u001b[0;34m(\u001b[0m\u001b[0mmarker\u001b[0m\u001b[0;34m=\u001b[0m\u001b[0;34m[\u001b[0m\u001b[0;34m\"^\"\u001b[0m\u001b[0;34m,\u001b[0m \u001b[0;34m\"v\"\u001b[0m\u001b[0;34m]\u001b[0m\u001b[0;34m)\u001b[0m\u001b[0;34m,\u001b[0m \u001b[0mhue_order\u001b[0m\u001b[0;34m=\u001b[0m\u001b[0;34m[\u001b[0m\u001b[0;34m\"var\"\u001b[0m\u001b[0;34m,\u001b[0m \u001b[0;34m\"fix\"\u001b[0m\u001b[0;34m]\u001b[0m\u001b[0;34m)\u001b[0m\u001b[0;34m\u001b[0m\u001b[0m\n\u001b[0m\u001b[1;32m      2\u001b[0m                   \u001b[0;31m#palette=pal, #,\u001b[0m\u001b[0;34m\u001b[0m\u001b[0;34m\u001b[0m\u001b[0m\n\u001b[1;32m      3\u001b[0m \u001b[0;34m\u001b[0m\u001b[0m\n\u001b[1;32m      4\u001b[0m \u001b[0mg\u001b[0m \u001b[0;34m=\u001b[0m \u001b[0;34m(\u001b[0m\u001b[0mg\u001b[0m\u001b[0;34m.\u001b[0m\u001b[0mmap\u001b[0m\u001b[0;34m(\u001b[0m\u001b[0mplt\u001b[0m\u001b[0;34m.\u001b[0m\u001b[0mscatter\u001b[0m\u001b[0;34m,\u001b[0m \u001b[0;34m\"KGE-d13C_out\"\u001b[0m\u001b[0;34m,\u001b[0m \u001b[0;34m\"KGE-d13C-tra\"\u001b[0m\u001b[0;34m,\u001b[0m \u001b[0;34m**\u001b[0m\u001b[0mkws\u001b[0m\u001b[0;34m)\u001b[0m\u001b[0;34m.\u001b[0m\u001b[0madd_legend\u001b[0m\u001b[0;34m(\u001b[0m\u001b[0;34m)\u001b[0m\u001b[0;34m)\u001b[0m\u001b[0;34m\u001b[0m\u001b[0m\n\u001b[1;32m      5\u001b[0m \u001b[0;34m\u001b[0m\u001b[0m\n",
      "\u001b[0;32m/Users/DayTightChunks/anaconda/envs/bunny/lib/python2.7/site-packages/seaborn/axisgrid.pyc\u001b[0m in \u001b[0;36m__init__\u001b[0;34m(self, data, row, col, hue, col_wrap, sharex, sharey, height, aspect, palette, row_order, col_order, hue_order, hue_kws, dropna, legend_out, despine, margin_titles, xlim, ylim, subplot_kws, gridspec_kws, size)\u001b[0m\n\u001b[1;32m    248\u001b[0m             \u001b[0mcol_names\u001b[0m \u001b[0;34m=\u001b[0m \u001b[0;34m[\u001b[0m\u001b[0;34m]\u001b[0m\u001b[0;34m\u001b[0m\u001b[0m\n\u001b[1;32m    249\u001b[0m         \u001b[0;32melse\u001b[0m\u001b[0;34m:\u001b[0m\u001b[0;34m\u001b[0m\u001b[0m\n\u001b[0;32m--> 250\u001b[0;31m             \u001b[0mcol_names\u001b[0m \u001b[0;34m=\u001b[0m \u001b[0mutils\u001b[0m\u001b[0;34m.\u001b[0m\u001b[0mcategorical_order\u001b[0m\u001b[0;34m(\u001b[0m\u001b[0mdata\u001b[0m\u001b[0;34m[\u001b[0m\u001b[0mcol\u001b[0m\u001b[0;34m]\u001b[0m\u001b[0;34m,\u001b[0m \u001b[0mcol_order\u001b[0m\u001b[0;34m)\u001b[0m\u001b[0;34m\u001b[0m\u001b[0m\n\u001b[0m\u001b[1;32m    251\u001b[0m \u001b[0;34m\u001b[0m\u001b[0m\n\u001b[1;32m    252\u001b[0m         \u001b[0;31m# Additional dict of kwarg -> list of values for mapping the hue var\u001b[0m\u001b[0;34m\u001b[0m\u001b[0;34m\u001b[0m\u001b[0m\n",
      "\u001b[0;32m/Users/DayTightChunks/anaconda/envs/bunny/lib/python2.7/site-packages/pandas/core/frame.pyc\u001b[0m in \u001b[0;36m__getitem__\u001b[0;34m(self, key)\u001b[0m\n\u001b[1;32m   2137\u001b[0m             \u001b[0;32mreturn\u001b[0m \u001b[0mself\u001b[0m\u001b[0;34m.\u001b[0m\u001b[0m_getitem_multilevel\u001b[0m\u001b[0;34m(\u001b[0m\u001b[0mkey\u001b[0m\u001b[0;34m)\u001b[0m\u001b[0;34m\u001b[0m\u001b[0m\n\u001b[1;32m   2138\u001b[0m         \u001b[0;32melse\u001b[0m\u001b[0;34m:\u001b[0m\u001b[0;34m\u001b[0m\u001b[0m\n\u001b[0;32m-> 2139\u001b[0;31m             \u001b[0;32mreturn\u001b[0m \u001b[0mself\u001b[0m\u001b[0;34m.\u001b[0m\u001b[0m_getitem_column\u001b[0m\u001b[0;34m(\u001b[0m\u001b[0mkey\u001b[0m\u001b[0;34m)\u001b[0m\u001b[0;34m\u001b[0m\u001b[0m\n\u001b[0m\u001b[1;32m   2140\u001b[0m \u001b[0;34m\u001b[0m\u001b[0m\n\u001b[1;32m   2141\u001b[0m     \u001b[0;32mdef\u001b[0m \u001b[0m_getitem_column\u001b[0m\u001b[0;34m(\u001b[0m\u001b[0mself\u001b[0m\u001b[0;34m,\u001b[0m \u001b[0mkey\u001b[0m\u001b[0;34m)\u001b[0m\u001b[0;34m:\u001b[0m\u001b[0;34m\u001b[0m\u001b[0m\n",
      "\u001b[0;32m/Users/DayTightChunks/anaconda/envs/bunny/lib/python2.7/site-packages/pandas/core/frame.pyc\u001b[0m in \u001b[0;36m_getitem_column\u001b[0;34m(self, key)\u001b[0m\n\u001b[1;32m   2144\u001b[0m         \u001b[0;31m# get column\u001b[0m\u001b[0;34m\u001b[0m\u001b[0;34m\u001b[0m\u001b[0m\n\u001b[1;32m   2145\u001b[0m         \u001b[0;32mif\u001b[0m \u001b[0mself\u001b[0m\u001b[0;34m.\u001b[0m\u001b[0mcolumns\u001b[0m\u001b[0;34m.\u001b[0m\u001b[0mis_unique\u001b[0m\u001b[0;34m:\u001b[0m\u001b[0;34m\u001b[0m\u001b[0m\n\u001b[0;32m-> 2146\u001b[0;31m             \u001b[0;32mreturn\u001b[0m \u001b[0mself\u001b[0m\u001b[0;34m.\u001b[0m\u001b[0m_get_item_cache\u001b[0m\u001b[0;34m(\u001b[0m\u001b[0mkey\u001b[0m\u001b[0;34m)\u001b[0m\u001b[0;34m\u001b[0m\u001b[0m\n\u001b[0m\u001b[1;32m   2147\u001b[0m \u001b[0;34m\u001b[0m\u001b[0m\n\u001b[1;32m   2148\u001b[0m         \u001b[0;31m# duplicate columns & possible reduce dimensionality\u001b[0m\u001b[0;34m\u001b[0m\u001b[0;34m\u001b[0m\u001b[0m\n",
      "\u001b[0;32m/Users/DayTightChunks/anaconda/envs/bunny/lib/python2.7/site-packages/pandas/core/generic.pyc\u001b[0m in \u001b[0;36m_get_item_cache\u001b[0;34m(self, item)\u001b[0m\n\u001b[1;32m   1840\u001b[0m         \u001b[0mres\u001b[0m \u001b[0;34m=\u001b[0m \u001b[0mcache\u001b[0m\u001b[0;34m.\u001b[0m\u001b[0mget\u001b[0m\u001b[0;34m(\u001b[0m\u001b[0mitem\u001b[0m\u001b[0;34m)\u001b[0m\u001b[0;34m\u001b[0m\u001b[0m\n\u001b[1;32m   1841\u001b[0m         \u001b[0;32mif\u001b[0m \u001b[0mres\u001b[0m \u001b[0;32mis\u001b[0m \u001b[0mNone\u001b[0m\u001b[0;34m:\u001b[0m\u001b[0;34m\u001b[0m\u001b[0m\n\u001b[0;32m-> 1842\u001b[0;31m             \u001b[0mvalues\u001b[0m \u001b[0;34m=\u001b[0m \u001b[0mself\u001b[0m\u001b[0;34m.\u001b[0m\u001b[0m_data\u001b[0m\u001b[0;34m.\u001b[0m\u001b[0mget\u001b[0m\u001b[0;34m(\u001b[0m\u001b[0mitem\u001b[0m\u001b[0;34m)\u001b[0m\u001b[0;34m\u001b[0m\u001b[0m\n\u001b[0m\u001b[1;32m   1843\u001b[0m             \u001b[0mres\u001b[0m \u001b[0;34m=\u001b[0m \u001b[0mself\u001b[0m\u001b[0;34m.\u001b[0m\u001b[0m_box_item_values\u001b[0m\u001b[0;34m(\u001b[0m\u001b[0mitem\u001b[0m\u001b[0;34m,\u001b[0m \u001b[0mvalues\u001b[0m\u001b[0;34m)\u001b[0m\u001b[0;34m\u001b[0m\u001b[0m\n\u001b[1;32m   1844\u001b[0m             \u001b[0mcache\u001b[0m\u001b[0;34m[\u001b[0m\u001b[0mitem\u001b[0m\u001b[0;34m]\u001b[0m \u001b[0;34m=\u001b[0m \u001b[0mres\u001b[0m\u001b[0;34m\u001b[0m\u001b[0m\n",
      "\u001b[0;32m/Users/DayTightChunks/anaconda/envs/bunny/lib/python2.7/site-packages/pandas/core/internals.pyc\u001b[0m in \u001b[0;36mget\u001b[0;34m(self, item, fastpath)\u001b[0m\n\u001b[1;32m   3841\u001b[0m \u001b[0;34m\u001b[0m\u001b[0m\n\u001b[1;32m   3842\u001b[0m             \u001b[0;32mif\u001b[0m \u001b[0;32mnot\u001b[0m \u001b[0misna\u001b[0m\u001b[0;34m(\u001b[0m\u001b[0mitem\u001b[0m\u001b[0;34m)\u001b[0m\u001b[0;34m:\u001b[0m\u001b[0;34m\u001b[0m\u001b[0m\n\u001b[0;32m-> 3843\u001b[0;31m                 \u001b[0mloc\u001b[0m \u001b[0;34m=\u001b[0m \u001b[0mself\u001b[0m\u001b[0;34m.\u001b[0m\u001b[0mitems\u001b[0m\u001b[0;34m.\u001b[0m\u001b[0mget_loc\u001b[0m\u001b[0;34m(\u001b[0m\u001b[0mitem\u001b[0m\u001b[0;34m)\u001b[0m\u001b[0;34m\u001b[0m\u001b[0m\n\u001b[0m\u001b[1;32m   3844\u001b[0m             \u001b[0;32melse\u001b[0m\u001b[0;34m:\u001b[0m\u001b[0;34m\u001b[0m\u001b[0m\n\u001b[1;32m   3845\u001b[0m                 \u001b[0mindexer\u001b[0m \u001b[0;34m=\u001b[0m \u001b[0mnp\u001b[0m\u001b[0;34m.\u001b[0m\u001b[0marange\u001b[0m\u001b[0;34m(\u001b[0m\u001b[0mlen\u001b[0m\u001b[0;34m(\u001b[0m\u001b[0mself\u001b[0m\u001b[0;34m.\u001b[0m\u001b[0mitems\u001b[0m\u001b[0;34m)\u001b[0m\u001b[0;34m)\u001b[0m\u001b[0;34m[\u001b[0m\u001b[0misna\u001b[0m\u001b[0;34m(\u001b[0m\u001b[0mself\u001b[0m\u001b[0;34m.\u001b[0m\u001b[0mitems\u001b[0m\u001b[0;34m)\u001b[0m\u001b[0;34m]\u001b[0m\u001b[0;34m\u001b[0m\u001b[0m\n",
      "\u001b[0;32m/Users/DayTightChunks/anaconda/envs/bunny/lib/python2.7/site-packages/pandas/core/indexes/base.pyc\u001b[0m in \u001b[0;36mget_loc\u001b[0;34m(self, key, method, tolerance)\u001b[0m\n\u001b[1;32m   2525\u001b[0m                 \u001b[0;32mreturn\u001b[0m \u001b[0mself\u001b[0m\u001b[0;34m.\u001b[0m\u001b[0m_engine\u001b[0m\u001b[0;34m.\u001b[0m\u001b[0mget_loc\u001b[0m\u001b[0;34m(\u001b[0m\u001b[0mkey\u001b[0m\u001b[0;34m)\u001b[0m\u001b[0;34m\u001b[0m\u001b[0m\n\u001b[1;32m   2526\u001b[0m             \u001b[0;32mexcept\u001b[0m \u001b[0mKeyError\u001b[0m\u001b[0;34m:\u001b[0m\u001b[0;34m\u001b[0m\u001b[0m\n\u001b[0;32m-> 2527\u001b[0;31m                 \u001b[0;32mreturn\u001b[0m \u001b[0mself\u001b[0m\u001b[0;34m.\u001b[0m\u001b[0m_engine\u001b[0m\u001b[0;34m.\u001b[0m\u001b[0mget_loc\u001b[0m\u001b[0;34m(\u001b[0m\u001b[0mself\u001b[0m\u001b[0;34m.\u001b[0m\u001b[0m_maybe_cast_indexer\u001b[0m\u001b[0;34m(\u001b[0m\u001b[0mkey\u001b[0m\u001b[0;34m)\u001b[0m\u001b[0;34m)\u001b[0m\u001b[0;34m\u001b[0m\u001b[0m\n\u001b[0m\u001b[1;32m   2528\u001b[0m \u001b[0;34m\u001b[0m\u001b[0m\n\u001b[1;32m   2529\u001b[0m         \u001b[0mindexer\u001b[0m \u001b[0;34m=\u001b[0m \u001b[0mself\u001b[0m\u001b[0;34m.\u001b[0m\u001b[0mget_indexer\u001b[0m\u001b[0;34m(\u001b[0m\u001b[0;34m[\u001b[0m\u001b[0mkey\u001b[0m\u001b[0;34m]\u001b[0m\u001b[0;34m,\u001b[0m \u001b[0mmethod\u001b[0m\u001b[0;34m=\u001b[0m\u001b[0mmethod\u001b[0m\u001b[0;34m,\u001b[0m \u001b[0mtolerance\u001b[0m\u001b[0;34m=\u001b[0m\u001b[0mtolerance\u001b[0m\u001b[0;34m)\u001b[0m\u001b[0;34m\u001b[0m\u001b[0m\n",
      "\u001b[0;32mpandas/_libs/index.pyx\u001b[0m in \u001b[0;36mpandas._libs.index.IndexEngine.get_loc\u001b[0;34m()\u001b[0m\n",
      "\u001b[0;32mpandas/_libs/index.pyx\u001b[0m in \u001b[0;36mpandas._libs.index.IndexEngine.get_loc\u001b[0;34m()\u001b[0m\n",
      "\u001b[0;32mpandas/_libs/hashtable_class_helper.pxi\u001b[0m in \u001b[0;36mpandas._libs.hashtable.PyObjectHashTable.get_item\u001b[0;34m()\u001b[0m\n",
      "\u001b[0;32mpandas/_libs/hashtable_class_helper.pxi\u001b[0m in \u001b[0;36mpandas._libs.hashtable.PyObjectHashTable.get_item\u001b[0;34m()\u001b[0m\n",
      "\u001b[0;31mKeyError\u001b[0m: 'DT50'"
     ]
    }
   ],
   "source": [
    "g = sns.FacetGrid(ff_c, col=\"DT50\", hue=\"Model\", hue_kws=dict(marker=[\"^\", \"v\"]), hue_order=[\"var\", \"fix\"])\n",
    "                  #palette=pal, #,                   \n",
    "\n",
    "g = (g.map(plt.scatter, \"KGE-d13C_out\", \"KGE-d13C-tra\", **kws).add_legend())\n",
    "\n",
    "g.axes[0,0].set_ylim(ymin, ymax)\n",
    "g.axes[0,1].set_ylim(ymin, ymax)\n",
    "g.axes[0,0].set_xlim(xmin, xmax) # left plot\n",
    "g.axes[0,1].set_xlim(xmin, xmax) # right plot\n",
    "\n",
    "ax0 = g.axes[0, 0]\n",
    "ax1 = g.axes[0, 1]\n",
    "\n",
    "ax0.set_xlabel(\"Outlet KGE [d13C]\")\n",
    "ax1.set_xlabel(\"Outlet KGE [d13C]\")\n",
    "ax0.set_ylabel(\"Soils KGE [d13C]\")\n",
    "\n",
    "\n",
    "ax0.annotate('A', fontsize=15,\n",
    "            xy=(51, 191), xycoords='figure pixels')\n",
    "ax1.annotate('B', fontsize=15,\n",
    "            xy=(248, 191), xycoords='figure pixels')"
   ]
  },
  {
   "cell_type": "code",
   "execution_count": null,
   "metadata": {},
   "outputs": [],
   "source": []
  },
  {
   "cell_type": "code",
   "execution_count": null,
   "metadata": {},
   "outputs": [],
   "source": []
  },
  {
   "cell_type": "code",
   "execution_count": null,
   "metadata": {},
   "outputs": [],
   "source": []
  },
  {
   "cell_type": "code",
   "execution_count": null,
   "metadata": {},
   "outputs": [],
   "source": []
  },
  {
   "cell_type": "code",
   "execution_count": null,
   "metadata": {},
   "outputs": [],
   "source": [
    "sns.set(rc={'figure.figsize':(11.7,8.27)})\n",
    "\n",
    "g = sns.FacetGrid(ff, col='Gen',  hue=\"Model\", hue_kws=dict(marker=[\"o\", \"v\"]), palette='viridis')\n",
    "g = g.map(facet_scatter, 'KGE-CONC_out', 'KGE-CONC-tra', \"KGE-SM\",\n",
    "          s=100, alpha=0.5, vmin=vmin, vmax=vmax, cmap=cmap) #.add_legend()\n",
    "\n",
    "g.axes[0,0].set_ylim(ymin, ymax)\n",
    "g.axes[0,1].set_ylim(ymin, ymax)\n",
    "g.axes[0,0].set_xlim(xmin, xmax) # left plot\n",
    "g.axes[0,1].set_xlim(xmin, xmax) # right plot\n",
    "\n",
    "# Make space for the colorbar\n",
    "g.fig.subplots_adjust(right=.92)\n",
    "\n",
    "# Define a new Axes where the colorbar will go\n",
    "cax = g.fig.add_axes([.94, .25, .02, .6])\n",
    "\n",
    "# Get a mappable object with the same colormap as the data\n",
    "points = plt.scatter([], [], c=[], vmin=vmin, vmax=vmax, cmap=cmap)\n",
    "\n",
    "ax0 = g.axes[0, 0]\n",
    "ax1 = g.axes[0, 1]\n",
    "\n",
    "# ax0.annotate('n = ' + str(fix_num),\n",
    "#             xy=(0, 0.4), xycoords='data',\n",
    "#             xytext=(0, 0), textcoords='offset points')\n",
    "\n",
    "# ax0.annotate('$f_{KGE > 0.3}$ = ' + str(f_fix),\n",
    "#             xy=(-.05, 0.35), xycoords='data',\n",
    "#             xytext=(0, 0), textcoords='offset points')\n",
    "\n",
    "# ax0.set_xlabel(\"Outlet KGE [SM]\")\n",
    "# ax0.set_ylabel(\"Soils KGE [SM]\")\n",
    "\n",
    "# ax0.set_title(\"Static DT50 (Fix)\")\n",
    "# ax1.set_title(\"Dynamic DT50 (Var)\")\n",
    "\n",
    "ax0.annotate('A', fontsize=15,\n",
    "            xy=(50, 190), xycoords='figure pixels')\n",
    "ax1.annotate('B', fontsize=15,\n",
    "            xy=(235, 190), xycoords='figure pixels')\n",
    "\n",
    "ax1.annotate('$\\overline{KGE}$', fontsize=10,\n",
    "            xy=(400, 185), xycoords='figure pixels')\n",
    "\n",
    "# ax1.annotate('n = ' + str(var_num),\n",
    "#             xy=(0, 0.4), xycoords='data',\n",
    "#             xytext=(0, 0), textcoords='offset points')\n",
    "\n",
    "# ax1.annotate('$f_{KGE > 0.3}$ = ' + str(f_var),\n",
    "#             xy=(-.05, 0.35), xycoords='data',\n",
    "#             xytext=(0, 0), textcoords='offset points')\n",
    "\n",
    "# ax1.set_xlabel(\"Outlet KGE [SM]\")\n",
    "\n",
    "\n",
    "# Draw the colorbar\n",
    "g.fig.colorbar(points, cax=cax)\n",
    "# g.savefig(\"Fig3_MvsM.pdf\")\n",
    "\n",
    "# https://matplotlib.org/examples/pylab_examples/annotation_demo2.html"
   ]
  },
  {
   "cell_type": "code",
   "execution_count": null,
   "metadata": {},
   "outputs": [],
   "source": [
    "vmin, vmax = ff_c['KGE-d13C'].min(), ff_c['KGE-d13C'].max()\n",
    "cmap = sns.diverging_palette(10, 240, l=65, center=\"light\", as_cmap=True)\n",
    "# cmap = sns.diverging_palette(275, 150, s=80, l=55, center=\"dark\", as_cmap=True)\n",
    "\n",
    "xmin, xmax = ff_c['KGE-d13C_out'].min() * .90, ff_c['KGE-d13C_out'].max() * 1.05\n",
    "ymin, ymax = ff_c['KGE-d13C-tra'].min() * 0.90, ff_c['KGE-d13C-tra'].max() * 1.05"
   ]
  },
  {
   "cell_type": "code",
   "execution_count": null,
   "metadata": {},
   "outputs": [],
   "source": [
    "sns.set(rc={'figure.figsize':(11.7,8.27)})\n",
    "\n",
    "g = sns.FacetGrid(ff_c, col='Model', palette='viridis')\n",
    "g = g.map(facet_scatter, 'KGE-d13C_out', 'KGE-d13C-tra', \"KGE-d13C\",\n",
    "          s=100, alpha=0.5, vmin=vmin, vmax=vmax, cmap=cmap) #.add_legend()\n",
    "\n",
    "# g.axes[0,0].set_ylim(ymin, ymax)\n",
    "# g.axes[0,1].set_ylim(ymin, ymax)\n",
    "# g.axes[0,0].set_xlim(xmin, xmax) # left plot\n",
    "# g.axes[0,1].set_xlim(xmin, xmax) # right plot\n",
    "\n",
    "# Make space for the colorbar\n",
    "g.fig.subplots_adjust(right=.92)\n",
    "\n",
    "# Define a new Axes where the colorbar will go\n",
    "cax = g.fig.add_axes([.94, .25, .02, .6])\n",
    "\n",
    "# Get a mappable object with the same colormap as the data\n",
    "points = plt.scatter([], [], c=[], vmin=vmin, vmax=vmax, cmap=cmap)\n",
    "\n",
    "ax0 = g.axes[0, 0]\n",
    "ax1 = g.axes[0, 1]\n",
    "\n",
    "ax0.annotate('n = ' + str(fix_num),\n",
    "            xy=(0, 0.4), xycoords='data',\n",
    "            xytext=(0, 0), textcoords='offset points')\n",
    "\n",
    "ax0.annotate('$f_{KGE > 0.3}$ = ' + str(f_fix),\n",
    "            xy=(-.05, 0.35), xycoords='data',\n",
    "            xytext=(0, 0), textcoords='offset points')\n",
    "\n",
    "ax0.set_xlabel(\"Outlet $\\delta ^{13}$C [SM]\")\n",
    "ax0.set_ylabel(\"Soils $\\delta ^{13}$C [SM]\")\n",
    "\n",
    "ax0.set_title(\"Static DT50 (Fix)\")\n",
    "ax1.set_title(\"Dynamic DT50 (Var)\")\n",
    "\n",
    "ax0.annotate('A', fontsize=15,\n",
    "            xy=(50, 200), xycoords='figure pixels')\n",
    "ax1.annotate('B', fontsize=15,\n",
    "            xy=(235, 200), xycoords='figure pixels')\n",
    "\n",
    "ax1.annotate('$\\overline{KGE}$', fontsize=10,\n",
    "            xy=(410, 200), xycoords='figure pixels')\n",
    "\n",
    "ax1.annotate('n = ' + str(var_num),\n",
    "            xy=(0, 0.4), xycoords='data',\n",
    "            xytext=(0, 0), textcoords='offset points')\n",
    "\n",
    "ax1.annotate('$f_{KGE > 0.3}$ = ' + str(f_var),\n",
    "            xy=(-.05, 0.35), xycoords='data',\n",
    "            xytext=(0, 0), textcoords='offset points')\n",
    "\n",
    "ax1.set_xlabel(\"Outlet $\\delta ^{13}$C [SM]\")\n",
    "\n",
    "# ax1.annotate('No equifinality \\nat low DT50', \n",
    "#             xy=(15, 70), xycoords='data',\n",
    "#             xytext=(-20, 20), textcoords='offset points',\n",
    "#             arrowprops=dict(arrowstyle=\"->\", color='grey'))\n",
    "\n",
    "# Draw the colorbar\n",
    "g.fig.colorbar(points, cax=cax)"
   ]
  },
  {
   "cell_type": "code",
   "execution_count": null,
   "metadata": {},
   "outputs": [],
   "source": []
  },
  {
   "cell_type": "code",
   "execution_count": null,
   "metadata": {},
   "outputs": [],
   "source": []
  },
  {
   "cell_type": "code",
   "execution_count": null,
   "metadata": {},
   "outputs": [],
   "source": []
  },
  {
   "cell_type": "code",
   "execution_count": null,
   "metadata": {},
   "outputs": [],
   "source": []
  },
  {
   "cell_type": "code",
   "execution_count": null,
   "metadata": {},
   "outputs": [],
   "source": []
  },
  {
   "cell_type": "markdown",
   "metadata": {},
   "source": [
    "## Using Joint Plot"
   ]
  },
  {
   "cell_type": "code",
   "execution_count": null,
   "metadata": {},
   "outputs": [],
   "source": [
    "ff.head(2)"
   ]
  },
  {
   "cell_type": "code",
   "execution_count": null,
   "metadata": {},
   "outputs": [],
   "source": [
    "xmin, xmax = ff['KGE-CONC_out'].min() * .90, ff['KGE-CONC_out'].max() * 1.05\n",
    "ymin, ymax = ff['KGE-CONC-tra'].min() * 0.90, ff['KGE-CONC-tra'].max() * 1.05"
   ]
  },
  {
   "cell_type": "code",
   "execution_count": null,
   "metadata": {},
   "outputs": [],
   "source": [
    "g = sns.JointGrid(x=\"KGE-CONC_out\", y=\"KGE-CONC-tra\", data=ff_c.loc[ff_c['Model']==\"fix\"], xlim=(xmin, xmax), ylim=(ymin,ymax))\n",
    "g = g.plot(plt.scatter, sns.distplot)\n",
    "\n",
    "g1 = sns.JointGrid(x=\"KGE-CONC_out\", y=\"KGE-CONC-tra\", data=ff_c.loc[ff_c['Model']==\"var\"], xlim=(xmin, xmax), ylim=(ymin,ymax))\n",
    "g1= g1.plot(plt.scatter, sns.distplot)"
   ]
  },
  {
   "cell_type": "code",
   "execution_count": null,
   "metadata": {},
   "outputs": [],
   "source": [
    "f = plt.figure()\n",
    "for J in [g, g1]:\n",
    "    for A in J.fig.axes:\n",
    "        f._axstack.add(f._make_key(A), A)\n",
    "        \n",
    "# f.axes[0].set_position([0.1, 0.1, 0.38, 0.4]) # Left scatter\n",
    "# f.axes[1].set_position([0.1, 0.45, 0.4, 0.05]) # Left-top hist\n",
    "# f.axes[2].set_position([0.45, 0.1, 0.05, 0.4]) # Left-bott hist, (x-start, y-start, with-x, with-y)\n",
    "# f.axes[3].set_position([0.63, 0.1, 0.38, 0.4]) # Right scatter\n",
    "# f.axes[4].set_position([0.63, 0.45, 0.4, 0.05]) # Top right hist\n",
    "# f.axes[5].set_position([0.98, 0.1, 0.05, 0.4]) # Right bott hist\n",
    "# g.fig.axes\n",
    "\n",
    "# test\n",
    "f.axes[0].set_position([0.1, 0.1, 1.48, 1.48]) # Left scatter\n",
    "\n",
    "f.axes[0].annotate('Kd vs DT50,\\nequifinality',\n",
    "            xy=(28, 170), xycoords='data',\n",
    "            xytext=(-70, 40), textcoords='offset points',\n",
    "            arrowprops=dict(arrowstyle=\"->\", color='grey',\n",
    "                            connectionstyle=\"arc3,rad=.6\"))\n",
    "\n",
    "f.axes[1].set_position([0.1, 0.45, 0.4, 0.05]) # Left-top hist\n",
    "f.axes[2].set_position([0.45, 0.1, 0.05, 0.4]) # Left-bott hist, (x-start, y-start, with-x, with-y)\n",
    "f.axes[3].set_position([0.63, 0.1, 0.38, 0.4]) # Right scatter\n",
    "f.axes[4].set_position([0.63, 0.45, 0.4, 0.05]) # Top right hist\n",
    "f.axes[5].set_position([0.98, 0.1, 0.05, 0.4]) # Right bott hist\n",
    "# f.savefig(\"JointGrid.pdf\")"
   ]
  },
  {
   "cell_type": "code",
   "execution_count": null,
   "metadata": {},
   "outputs": [],
   "source": [
    "3750-2571-1850"
   ]
  },
  {
   "cell_type": "code",
   "execution_count": null,
   "metadata": {},
   "outputs": [],
   "source": []
  }
 ],
 "metadata": {
  "kernelspec": {
   "display_name": "bunny",
   "language": "python",
   "name": "bunny"
  },
  "language_info": {
   "codemirror_mode": {
    "name": "ipython",
    "version": 2
   },
   "file_extension": ".py",
   "mimetype": "text/x-python",
   "name": "python",
   "nbconvert_exporter": "python",
   "pygments_lexer": "ipython2",
   "version": "2.7.14"
  }
 },
 "nbformat": 4,
 "nbformat_minor": 2
}
